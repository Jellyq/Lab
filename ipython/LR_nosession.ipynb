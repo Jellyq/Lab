{
 "cells": [
  {
   "cell_type": "code",
   "execution_count": 5,
   "metadata": {
    "collapsed": false
   },
   "outputs": [
    {
     "name": "stdout",
     "output_type": "stream",
     "text": [
      "Using matplotlib backend: Qt4Agg\n",
      "Populating the interactive namespace from numpy and matplotlib\n"
     ]
    },
    {
     "name": "stderr",
     "output_type": "stream",
     "text": [
      "WARNING: pylab import has clobbered these variables: ['random']\n",
      "`%matplotlib` prevents importing * from pylab and numpy\n"
     ]
    },
    {
     "data": {
      "text/html": [
       "<pre>Finished parsing file E:\\Datasets2\\training1.csv</pre>"
      ],
      "text/plain": [
       "Finished parsing file E:\\Datasets2\\training1.csv"
      ]
     },
     "metadata": {},
     "output_type": "display_data"
    },
    {
     "data": {
      "text/html": [
       "<pre>Parsing completed. Parsed 100 lines in 0.353951 secs.</pre>"
      ],
      "text/plain": [
       "Parsing completed. Parsed 100 lines in 0.353951 secs."
      ]
     },
     "metadata": {},
     "output_type": "display_data"
    },
    {
     "name": "stdout",
     "output_type": "stream",
     "text": [
      "------------------------------------------------------\n",
      "Inferred types from first 100 line(s) of file as \n",
      "column_type_hints=[str,str,str,str,long,str,str,long,long,str]\n",
      "If parsing fails due to incorrect types, you can correct\n",
      "the inferred type list above and pass it to read_csv in\n",
      "the column_type_hints argument\n",
      "------------------------------------------------------\n"
     ]
    },
    {
     "data": {
      "text/html": [
       "<pre>Finished parsing file E:\\Datasets2\\training1.csv</pre>"
      ],
      "text/plain": [
       "Finished parsing file E:\\Datasets2\\training1.csv"
      ]
     },
     "metadata": {},
     "output_type": "display_data"
    },
    {
     "data": {
      "text/html": [
       "<pre>Parsing completed. Parsed 189960 lines in 0.362507 secs.</pre>"
      ],
      "text/plain": [
       "Parsing completed. Parsed 189960 lines in 0.362507 secs."
      ]
     },
     "metadata": {},
     "output_type": "display_data"
    },
    {
     "name": "stdout",
     "output_type": "stream",
     "text": [
      "+--------------------------+--------+------------------------------------------------+\n",
      "|            id            | gender |                      cg2                       |\n",
      "+--------------------------+--------+------------------------------------------------+\n",
      "| ML6I15akB0Eq98c/o1BvYw== |   1    | [血压计, 血压计, 牙膏/牙粉, 血压计, 血压计...  |\n",
      "| p6HZygYh8r2iPPC6e4n2SA== |   1    | [男士钱包, 男士钱包, 太阳镜, 男士钱包, 男士... |\n",
      "| pZTw4YrKQRnV/APVRAljXA== |   1    |   [男表, 男表, 男表, 男表, 男表, 男表, 男...   |\n",
      "| d2RBTfKLswlBeJ+V6H2UmQ== |   1    |                     [香水]                     |\n",
      "| D9aAtlBF6t9iVN24JddgDg== |   1    |     [路由器, 山地车/公路车, 冰箱, 玛咖]...     |\n",
      "| 52ksy+k53725uaBR0bsClw== |   1    |   [手机, 手机, 游戏本, 手机, 手机, 手机, ...   |\n",
      "| rK4ab71LkQXxjnFzlDwGag== |   1    | [单肩/斜挎包, 单肩/斜挎包, 单肩/斜挎包, 单...  |\n",
      "| OfnycidHFtxAay69QjRPwg== |   1    | [休闲鞋, 日常护理, 洗衣机, 洗晒/熨烫, 商务...  |\n",
      "| CsQy6Z2qdxYCOskA8y1jMw== |   1    | [手机, 男士腰带/礼盒, 男士腰带/礼盒, 西服,...  |\n",
      "| 2vGwhcBa3Du4UDP9AFr5cw== |   1    |              [牛奶乳品, 牛奶乳品]              |\n",
      "+--------------------------+--------+------------------------------------------------+\n",
      "+--------+\n",
      "| random |\n",
      "+--------+\n",
      "|   1    |\n",
      "|   1    |\n",
      "|   1    |\n",
      "|   1    |\n",
      "|   1    |\n",
      "|   1    |\n",
      "|   1    |\n",
      "|   1    |\n",
      "|   1    |\n",
      "|   1    |\n",
      "+--------+\n",
      "[2204 rows x 4 columns]\n",
      "Note: Only the head of the SFrame is printed.\n",
      "You can use print_rows(num_rows=m, num_columns=n) to print more rows and columns.\n",
      "+--------------------------+--------+-----------------------------------------------+\n",
      "|            id            | gender |                      cg2                      |\n",
      "+--------------------------+--------+-----------------------------------------------+\n",
      "| ycCdZ2WzYTt2ReOWevG3EQ== |   1    |                      [门]                     |\n",
      "| NeW7bVqqm/T54ehhAbMpZA== |   1    |    [手机, 手机, 手机, 手机, 手机, 手机]...    |\n",
      "| hKSZl/jzLdDnyg3Zrb7XVQ== |   1    |                   [日常护理]                  |\n",
      "| hY9PGbmPItVlFQm4pgiC9A== |   1    |                    [脱毛膏]                   |\n",
      "| nYbL2sJgVXbSOMXpxup3+A== |   1    |  [鲜花绿植, 鲜花绿植, 鲜花绿植, 礼品定制]...  |\n",
      "| rK0Lw0+CjS4GHOqdngV7zw== |   1    |                 [手机, 合约机]                |\n",
      "| 4Yq0fxP/KRPWS0oGWFlUOQ== |   1    | [休闲鞋, 理疗仪, 轮胎, 行车记录仪, 休闲鞋,... |\n",
      "| STbB3tY/Go5V4m/GIVGe+A== |   1    |                   [测量工具]                  |\n",
      "| vTXn6GnFUMWCejikd6tGiA== |   1    |                [散文/随笔/书信]               |\n",
      "| hpHB5QZ04+7zhs2Hre28kQ== |   1    |              [情趣内衣, 情趣内衣]             |\n",
      "+--------------------------+--------+-----------------------------------------------+\n",
      "+--------+\n",
      "| random |\n",
      "+--------+\n",
      "|   2    |\n",
      "|   2    |\n",
      "|   2    |\n",
      "|   2    |\n",
      "|   2    |\n",
      "|   2    |\n",
      "|   2    |\n",
      "|   2    |\n",
      "|   2    |\n",
      "|   2    |\n",
      "+--------+\n",
      "[2364 rows x 4 columns]\n",
      "Note: Only the head of the SFrame is printed.\n",
      "You can use print_rows(num_rows=m, num_columns=n) to print more rows and columns.\n",
      "+--------------------------+--------+-------------------------------------------------+\n",
      "|            id            | gender |                       cg2                       |\n",
      "+--------------------------+--------+-------------------------------------------------+\n",
      "| L5coKwh+b3YzP8Gq4qrQKw== |   1    |                 [毛巾浴巾, 手足]                |\n",
      "| rk3NqiaPFjbS7OfvUXJkxA== |   1    |                      [手机]                     |\n",
      "| g7fzcvIG1Z7eUX/wNd3/GQ== |   1    |          [冲调饮品, 饮料, 冲调饮品]...          |\n",
      "| aOEcBCJSGnzCbFqYu1REAg== |   1    |   [保温杯, 保温杯, 运动水壶, 玻璃杯, 手机, ...  |\n",
      "| N4dN2sXGV+/InmwIOQ0bBw== |   1    |  [沙发, 其他配件, 沙发, 其他配件, 其他配件,...  |\n",
      "| Y3Sz1xjd3IQ9kUJn1Ixvyg== |   1    |  [套装, 套装, 乳液面霜, 乳液面霜, 乳液面霜,...  |\n",
      "| D9vOqn3AapJakdPcERciOg== |   1    |                      [洗发]                     |\n",
      "| lDg65WNIB82AktOkZwMjkw== |   1    |   [奶瓶奶嘴, 奶瓶奶嘴, 奶瓶奶嘴, 奶瓶奶嘴]...   |\n",
      "| I/9mi1ollE7cBq7pLL9K5Q== |   1    | [吉他/尤克里里, 吉他/尤克里里, 吉他/尤克里里... |\n",
      "| m4HcHOM0kZd8CRp8ZEWtPA== |   1    |                 [领导学, 领导学]                |\n",
      "+--------------------------+--------+-------------------------------------------------+\n",
      "+--------+\n",
      "| random |\n",
      "+--------+\n",
      "|   3    |\n",
      "|   3    |\n",
      "|   3    |\n",
      "|   3    |\n",
      "|   3    |\n",
      "|   3    |\n",
      "|   3    |\n",
      "|   3    |\n",
      "|   3    |\n",
      "|   3    |\n",
      "+--------+\n",
      "[2177 rows x 4 columns]\n",
      "Note: Only the head of the SFrame is printed.\n",
      "You can use print_rows(num_rows=m, num_columns=n) to print more rows and columns.\n",
      "+--------------------------+--------+--------------------------------------------------+\n",
      "|            id            | gender |                       cg2                        |\n",
      "+--------------------------+--------+--------------------------------------------------+\n",
      "| AIiF280tXAq5PnBjSKn1Og== |   1    | [智能眼镜, 手机保护套, 智能眼镜, 手机保护套,...  |\n",
      "| rj8mWoOpHj4DE4EEkFJQGA== |   1    |                   [手机, 手机]                   |\n",
      "| ehn1daU1WQFduSWDMn1NRw== |   1    |   [家用五金, 军迷用品, 家用五金, 家用五金]...    |\n",
      "| ydvlLih+0MN9NF+D5NGTNw== |   1    |          [应急救援, 食用油, 食用油]...           |\n",
      "| t9pHPsXtPhuXpZ+oUbup6A== |   1    |                    [自驾野营]                    |\n",
      "| bjILzY905hyv/1v3seiU3Q== |   1    |               [智能家居, 智能家居]               |\n",
      "| M0RcB2qn+I1/ksYTsvFDkw== |   1    | [功能小件, 车身装饰件, 车身装饰件, 车身装饰件... |\n",
      "| WNa+KT4+0ti2kEUvKK/GGQ== |   1    |  [充电器/数据线, 显卡, 充电器/数据线, 充电器...  |\n",
      "| dmhaNqDWMo5HqDj04cOo9Q== |   1    |   [普洱, 黄酒/养生酒, 普洱, 普洱, 黄酒/养生...   |\n",
      "| 88dssBkB7pxhih1Io97L3A== |   1    |  [仿真模型, 仿真模型, 休闲鞋, 仿真模型, 仿真...  |\n",
      "+--------------------------+--------+--------------------------------------------------+\n",
      "+--------+\n",
      "| random |\n",
      "+--------+\n",
      "|   4    |\n",
      "|   4    |\n",
      "|   4    |\n",
      "|   4    |\n",
      "|   4    |\n",
      "|   4    |\n",
      "|   4    |\n",
      "|   4    |\n",
      "|   4    |\n",
      "|   4    |\n",
      "+--------+\n",
      "[1987 rows x 4 columns]\n",
      "Note: Only the head of the SFrame is printed.\n",
      "You can use print_rows(num_rows=m, num_columns=n) to print more rows and columns.\n",
      "+--------------------------+--------+-------------------------------------------------+\n",
      "|            id            | gender |                       cg2                       |\n",
      "+--------------------------+--------+-------------------------------------------------+\n",
      "| QKONjBSzOkzjW2VIe6MwyA== |   1    | [电池/移动电源, 电池/移动电源, 电池/移动电源... |\n",
      "| LnH/7WsublCttZbzmbCw2Q== |   1    |               [野餐烧烤, 野餐烧烤]              |\n",
      "| C9ubu5eTxSkF1MPQbwee5A== |   1    |                    [创意配件]                   |\n",
      "| cqYa/cqVGXBqPn1zgkkjMw== |   1    |   [饼干蛋糕, 拼图, 拼图, 衬衫, 拼图, 休闲零...  |\n",
      "| nCdGnX144vo4p1fZG1nvaw== |   1    |  [取暖电器, 取暖电器, 取暖电器, 取暖电器, 取... |\n",
      "| 2Ag3sszgdvxcMCC8yUsveA== |   1    |                   [洗发, 洗发]                  |\n",
      "| EOfLfUVjVzJ2jLyLBZbHEA== |   1    |                      [面膜]                     |\n",
      "| vmQCuF5OupwvWqqgh4W/qw== |   1    |  [摩托车, 摩托车, 男用器具, 电脑工具, 男用器... |\n",
      "| zq9qv9kXLauaNRL5GRhbyA== |   1    |  [肉干肉脯, 坚果炒货, 坚果炒货, 套装, 套装,...  |\n",
      "| iCxarHs3+EAulxPA9e1jTQ== |   1    |  [饮料, 充电器/数据线, 饮料, 智能手环, 智能...  |\n",
      "+--------------------------+--------+-------------------------------------------------+\n",
      "+--------+\n",
      "| random |\n",
      "+--------+\n",
      "|   5    |\n",
      "|   5    |\n",
      "|   5    |\n",
      "|   5    |\n",
      "|   5    |\n",
      "|   5    |\n",
      "|   5    |\n",
      "|   5    |\n",
      "|   5    |\n",
      "|   5    |\n",
      "+--------+\n",
      "[2365 rows x 4 columns]\n",
      "Note: Only the head of the SFrame is printed.\n",
      "You can use print_rows(num_rows=m, num_columns=n) to print more rows and columns.\n"
     ]
    }
   ],
   "source": [
    "%pylab\n",
    "import graphlab as gl\n",
    "data = gl.SFrame.read_csv(r'E:\\Datasets2\\training1.csv', delimiter = ',', header = True)\n",
    "import graphlab.aggregate as agg\n",
    "data = data.groupby(['id'], operations = {'gender': agg.SELECT_ONE('gender'),\n",
    "                                                     'cg2': agg.CONCAT('cg2')})\n",
    "data['random'] = 0\n",
    "male_raw = data[data['gender'] == 1]\n",
    "female_raw = data[data['gender'] == 0]\n",
    "import random\n",
    "male_raw['random'] = male_raw.apply(lambda x: random.randrange(1,6,1))\n",
    "female_raw['random'] = female_raw.apply(lambda x: random.randrange(1, 6, 1))\n",
    "random_check = female_raw[female_raw['random']==1]\n",
    "percentage = len(female_raw[female_raw['random']==1])/float(len(male_raw[male_raw['random']==1]))\n",
    "male_traffic = male_raw[male_raw['random']==1].sample(percentage,seed=1)\n",
    "female_traffic = female_raw[female_raw['random']==1]\n",
    "group1 = male_traffic.append(female_traffic)\n",
    "print group1\n",
    "percentage = len(female_raw[female_raw['random']==2])/float(len(male_raw[male_raw['random']==2]))\n",
    "male_traffic = male_raw[male_raw['random']==2].sample(percentage,seed=1)\n",
    "female_traffic = female_raw[female_raw['random']==2]\n",
    "group2 = male_traffic.append(female_traffic)\n",
    "print group2\n",
    "percentage = len(female_raw[female_raw['random']==3])/float(len(male_raw[male_raw['random']==3]))\n",
    "male_traffic = male_raw[male_raw['random']==3].sample(percentage,seed=1)\n",
    "female_traffic = female_raw[female_raw['random']==3]\n",
    "group3 = male_traffic.append(female_traffic)\n",
    "print group3\n",
    "percentage = len(female_raw[female_raw['random']==4])/float(len(male_raw[male_raw['random']==4]))\n",
    "male_traffic = male_raw[male_raw['random']==4].sample(percentage,seed=1)\n",
    "female_traffic = female_raw[female_raw['random']==4]\n",
    "group4 = male_traffic.append(female_traffic)\n",
    "print group4\n",
    "percentage = len(female_raw[female_raw['random']==5])/float(len(male_raw[male_raw['random']==5]))\n",
    "male_traffic = male_raw[male_raw['random']==5].sample(percentage,seed=1)\n",
    "female_traffic = female_raw[female_raw['random']==5]\n",
    "group5 = male_traffic.append(female_traffic)\n",
    "print group5"
   ]
  },
  {
   "cell_type": "code",
   "execution_count": 6,
   "metadata": {
    "collapsed": false
   },
   "outputs": [
    {
     "name": "stdout",
     "output_type": "stream",
     "text": [
      "PROGRESS: Creating a validation set from 5 percent of training data. This may take a while.\n",
      "          You can set ``validation_set=None`` to disable validation tracking.\n",
      "\n"
     ]
    },
    {
     "data": {
      "text/html": [
       "<pre>Logistic regression:</pre>"
      ],
      "text/plain": [
       "Logistic regression:"
      ]
     },
     "metadata": {},
     "output_type": "display_data"
    },
    {
     "data": {
      "text/html": [
       "<pre>--------------------------------------------------------</pre>"
      ],
      "text/plain": [
       "--------------------------------------------------------"
      ]
     },
     "metadata": {},
     "output_type": "display_data"
    },
    {
     "data": {
      "text/html": [
       "<pre>Number of examples          : 8440</pre>"
      ],
      "text/plain": [
       "Number of examples          : 8440"
      ]
     },
     "metadata": {},
     "output_type": "display_data"
    },
    {
     "data": {
      "text/html": [
       "<pre>Number of classes           : 2</pre>"
      ],
      "text/plain": [
       "Number of classes           : 2"
      ]
     },
     "metadata": {},
     "output_type": "display_data"
    },
    {
     "data": {
      "text/html": [
       "<pre>Number of feature columns   : 1</pre>"
      ],
      "text/plain": [
       "Number of feature columns   : 1"
      ]
     },
     "metadata": {},
     "output_type": "display_data"
    },
    {
     "data": {
      "text/html": [
       "<pre>Number of unpacked features : 1</pre>"
      ],
      "text/plain": [
       "Number of unpacked features : 1"
      ]
     },
     "metadata": {},
     "output_type": "display_data"
    },
    {
     "data": {
      "text/html": [
       "<pre>Number of coefficients    : 1360</pre>"
      ],
      "text/plain": [
       "Number of coefficients    : 1360"
      ]
     },
     "metadata": {},
     "output_type": "display_data"
    },
    {
     "data": {
      "text/html": [
       "<pre>Starting L-BFGS</pre>"
      ],
      "text/plain": [
       "Starting L-BFGS"
      ]
     },
     "metadata": {},
     "output_type": "display_data"
    },
    {
     "data": {
      "text/html": [
       "<pre>--------------------------------------------------------</pre>"
      ],
      "text/plain": [
       "--------------------------------------------------------"
      ]
     },
     "metadata": {},
     "output_type": "display_data"
    },
    {
     "data": {
      "text/html": [
       "<pre>+-----------+----------+-----------+--------------+-------------------+---------------------+</pre>"
      ],
      "text/plain": [
       "+-----------+----------+-----------+--------------+-------------------+---------------------+"
      ]
     },
     "metadata": {},
     "output_type": "display_data"
    },
    {
     "data": {
      "text/html": [
       "<pre>| Iteration | Passes   | Step size | Elapsed Time | Training-accuracy | Validation-accuracy |</pre>"
      ],
      "text/plain": [
       "| Iteration | Passes   | Step size | Elapsed Time | Training-accuracy | Validation-accuracy |"
      ]
     },
     "metadata": {},
     "output_type": "display_data"
    },
    {
     "data": {
      "text/html": [
       "<pre>+-----------+----------+-----------+--------------+-------------------+---------------------+</pre>"
      ],
      "text/plain": [
       "+-----------+----------+-----------+--------------+-------------------+---------------------+"
      ]
     },
     "metadata": {},
     "output_type": "display_data"
    },
    {
     "data": {
      "text/html": [
       "<pre>| 1         | 4        | 0.000592  | 0.019021     | 0.656043          | 0.565121            |</pre>"
      ],
      "text/plain": [
       "| 1         | 4        | 0.000592  | 0.019021     | 0.656043          | 0.565121            |"
      ]
     },
     "metadata": {},
     "output_type": "display_data"
    },
    {
     "data": {
      "text/html": [
       "<pre>| 2         | 6        | 1.000000  | 0.033059     | 0.670498          | 0.571744            |</pre>"
      ],
      "text/plain": [
       "| 2         | 6        | 1.000000  | 0.033059     | 0.670498          | 0.571744            |"
      ]
     },
     "metadata": {},
     "output_type": "display_data"
    },
    {
     "data": {
      "text/html": [
       "<pre>| 3         | 7        | 1.000000  | 0.042081     | 0.677133          | 0.582781            |</pre>"
      ],
      "text/plain": [
       "| 3         | 7        | 1.000000  | 0.042081     | 0.677133          | 0.582781            |"
      ]
     },
     "metadata": {},
     "output_type": "display_data"
    },
    {
     "data": {
      "text/html": [
       "<pre>| 4         | 8        | 1.000000  | 0.051107     | 0.680213          | 0.565121            |</pre>"
      ],
      "text/plain": [
       "| 4         | 8        | 1.000000  | 0.051107     | 0.680213          | 0.565121            |"
      ]
     },
     "metadata": {},
     "output_type": "display_data"
    },
    {
     "data": {
      "text/html": [
       "<pre>| 5         | 9        | 1.000000  | 0.062134     | 0.680450          | 0.565121            |</pre>"
      ],
      "text/plain": [
       "| 5         | 9        | 1.000000  | 0.062134     | 0.680450          | 0.565121            |"
      ]
     },
     "metadata": {},
     "output_type": "display_data"
    },
    {
     "data": {
      "text/html": [
       "<pre>| 6         | 10       | 1.000000  | 0.072162     | 0.685071          | 0.560706            |</pre>"
      ],
      "text/plain": [
       "| 6         | 10       | 1.000000  | 0.072162     | 0.685071          | 0.560706            |"
      ]
     },
     "metadata": {},
     "output_type": "display_data"
    },
    {
     "data": {
      "text/html": [
       "<pre>| 11        | 15       | 1.000000  | 0.123297     | 0.685900          | 0.567329            |</pre>"
      ],
      "text/plain": [
       "| 11        | 15       | 1.000000  | 0.123297     | 0.685900          | 0.567329            |"
      ]
     },
     "metadata": {},
     "output_type": "display_data"
    },
    {
     "data": {
      "text/html": [
       "<pre>| 51        | 55       | 1.000000  | 0.535254     | 0.685427          | 0.569536            |</pre>"
      ],
      "text/plain": [
       "| 51        | 55       | 1.000000  | 0.535254     | 0.685427          | 0.569536            |"
      ]
     },
     "metadata": {},
     "output_type": "display_data"
    },
    {
     "data": {
      "text/html": [
       "<pre>| 100       | 109      | 0.500000  | 1.049118     | 0.685308          | 0.569536            |</pre>"
      ],
      "text/plain": [
       "| 100       | 109      | 0.500000  | 1.049118     | 0.685308          | 0.569536            |"
      ]
     },
     "metadata": {},
     "output_type": "display_data"
    },
    {
     "data": {
      "text/html": [
       "<pre>| 101       | 111      | 1.000000  | 1.063156     | 0.685308          | 0.569536            |</pre>"
      ],
      "text/plain": [
       "| 101       | 111      | 1.000000  | 1.063156     | 0.685308          | 0.569536            |"
      ]
     },
     "metadata": {},
     "output_type": "display_data"
    },
    {
     "data": {
      "text/html": [
       "<pre>| 200       | 266      | 1.000000  | 2.312558     | 0.685545          | 0.569536            |</pre>"
      ],
      "text/plain": [
       "| 200       | 266      | 1.000000  | 2.312558     | 0.685545          | 0.569536            |"
      ]
     },
     "metadata": {},
     "output_type": "display_data"
    },
    {
     "data": {
      "text/html": [
       "<pre>| 300       | 442      | 1.000000  | 3.661359     | 0.685545          | 0.569536            |</pre>"
      ],
      "text/plain": [
       "| 300       | 442      | 1.000000  | 3.661359     | 0.685545          | 0.569536            |"
      ]
     },
     "metadata": {},
     "output_type": "display_data"
    },
    {
     "data": {
      "text/html": [
       "<pre>+-----------+----------+-----------+--------------+-------------------+---------------------+</pre>"
      ],
      "text/plain": [
       "+-----------+----------+-----------+--------------+-------------------+---------------------+"
      ]
     },
     "metadata": {},
     "output_type": "display_data"
    },
    {
     "data": {
      "text/html": [
       "<pre>SUCCESS: Optimal solution found.</pre>"
      ],
      "text/plain": [
       "SUCCESS: Optimal solution found."
      ]
     },
     "metadata": {},
     "output_type": "display_data"
    },
    {
     "data": {
      "text/html": [
       "<pre></pre>"
      ],
      "text/plain": []
     },
     "metadata": {},
     "output_type": "display_data"
    },
    {
     "name": "stdout",
     "output_type": "stream",
     "text": [
      "***********************************************************************************************************\n",
      "{'f1_score': 0.5615171137835339, 'auc': 0.5972209412632752, 'recall': 0.5478339350180506, 'precision': 0.5759013282732448, 'log_loss': 1.1098816848917756, 'roc_curve': Columns:\n",
      "\tthreshold\tfloat\n",
      "\tfpr\tfloat\n",
      "\ttpr\tfloat\n",
      "\tp\tint\n",
      "\tn\tint\n",
      "\n",
      "Rows: 100001\n",
      "\n",
      "Data:\n",
      "+-----------+----------------+----------------+------+------+\n",
      "| threshold |      fpr       |      tpr       |  p   |  n   |\n",
      "+-----------+----------------+----------------+------+------+\n",
      "|    0.0    |      1.0       |      1.0       | 1108 | 1096 |\n",
      "|   1e-05   | 0.979927007299 | 0.98916967509  | 1108 | 1096 |\n",
      "|   2e-05   | 0.976277372263 | 0.98916967509  | 1108 | 1096 |\n",
      "|   3e-05   | 0.970802919708 | 0.987364620939 | 1108 | 1096 |\n",
      "|   4e-05   | 0.969890510949 | 0.984657039711 | 1108 | 1096 |\n",
      "|   5e-05   | 0.967153284672 | 0.98285198556  | 1108 | 1096 |\n",
      "|   6e-05   | 0.966240875912 | 0.98285198556  | 1108 | 1096 |\n",
      "|   7e-05   | 0.965328467153 | 0.981949458484 | 1108 | 1096 |\n",
      "|   8e-05   | 0.961678832117 | 0.981949458484 | 1108 | 1096 |\n",
      "|   9e-05   | 0.960766423358 | 0.981046931408 | 1108 | 1096 |\n",
      "+-----------+----------------+----------------+------+------+\n",
      "[100001 rows x 5 columns]\n",
      "Note: Only the head of the SFrame is printed.\n",
      "You can use print_rows(num_rows=m, num_columns=n) to print more rows and columns., 'confusion_matrix': Columns:\n",
      "\ttarget_label\tint\n",
      "\tpredicted_label\tint\n",
      "\tcount\tint\n",
      "\n",
      "Rows: 4\n",
      "\n",
      "Data:\n",
      "+--------------+-----------------+-------+\n",
      "| target_label | predicted_label | count |\n",
      "+--------------+-----------------+-------+\n",
      "|      1       |        0        |  501  |\n",
      "|      1       |        1        |  607  |\n",
      "|      0       |        1        |  447  |\n",
      "|      0       |        0        |  649  |\n",
      "+--------------+-----------------+-------+\n",
      "[4 rows x 3 columns]\n",
      ", 'accuracy': 0.5698729582577132}\n",
      "***********************************************************************************************************\n",
      "+--------------------------+--------+------------------------------------------------+\n",
      "|            id            | gender |                      cg2                       |\n",
      "+--------------------------+--------+------------------------------------------------+\n",
      "| ML6I15akB0Eq98c/o1BvYw== |   1    | [血压计, 血压计, 牙膏/牙粉, 血压计, 血压计...  |\n",
      "| p6HZygYh8r2iPPC6e4n2SA== |   1    | [男士钱包, 男士钱包, 太阳镜, 男士钱包, 男士... |\n",
      "| pZTw4YrKQRnV/APVRAljXA== |   1    |   [男表, 男表, 男表, 男表, 男表, 男表, 男...   |\n",
      "| d2RBTfKLswlBeJ+V6H2UmQ== |   1    |                     [香水]                     |\n",
      "| D9aAtlBF6t9iVN24JddgDg== |   1    |     [路由器, 山地车/公路车, 冰箱, 玛咖]...     |\n",
      "| 52ksy+k53725uaBR0bsClw== |   1    |   [手机, 手机, 游戏本, 手机, 手机, 手机, ...   |\n",
      "| rK4ab71LkQXxjnFzlDwGag== |   1    | [单肩/斜挎包, 单肩/斜挎包, 单肩/斜挎包, 单...  |\n",
      "| OfnycidHFtxAay69QjRPwg== |   1    | [休闲鞋, 日常护理, 洗衣机, 洗晒/熨烫, 商务...  |\n",
      "| CsQy6Z2qdxYCOskA8y1jMw== |   1    | [手机, 男士腰带/礼盒, 男士腰带/礼盒, 西服,...  |\n",
      "| 2vGwhcBa3Du4UDP9AFr5cw== |   1    |              [牛奶乳品, 牛奶乳品]              |\n",
      "+--------------------------+--------+------------------------------------------------+\n",
      "+--------+----+\n",
      "| random | X5 |\n",
      "+--------+----+\n",
      "|   1    | 1  |\n",
      "|   1    | 0  |\n",
      "|   1    | 1  |\n",
      "|   1    | 0  |\n",
      "|   1    | 1  |\n",
      "|   1    | 0  |\n",
      "|   1    | 0  |\n",
      "|   1    | 0  |\n",
      "|   1    | 1  |\n",
      "|   1    | 0  |\n",
      "+--------+----+\n",
      "[2204 rows x 5 columns]\n",
      "Note: Only the head of the SFrame is printed.\n",
      "You can use print_rows(num_rows=m, num_columns=n) to print more rows and columns.\n"
     ]
    }
   ],
   "source": [
    "train_data = group2.append(group3.append(group4).append(group5))\n",
    "test_data = group1\n",
    "m1 = gl.logistic_classifier.create(\n",
    "    train_data,\n",
    "    target='gender',\n",
    "    features = ['cg2'],\n",
    "    #class_weights={1:5,0:5},\n",
    "    max_iterations=3000)\n",
    "print '***********************************************************************************************************'\n",
    "result1 = m1.evaluate(test_data)\n",
    "print result1\n",
    "print '***********************************************************************************************************'\n",
    "predict1 = m1.predict(group1)\n",
    "mdata1 = group1.copy().add_column(gl.SArray(predict1))\n",
    "final_predict = mdata1\n",
    "print final_predict"
   ]
  },
  {
   "cell_type": "code",
   "execution_count": 7,
   "metadata": {
    "collapsed": false
   },
   "outputs": [
    {
     "name": "stdout",
     "output_type": "stream",
     "text": [
      "PROGRESS: Creating a validation set from 5 percent of training data. This may take a while.\n",
      "          You can set ``validation_set=None`` to disable validation tracking.\n",
      "\n"
     ]
    },
    {
     "data": {
      "text/html": [
       "<pre>Logistic regression:</pre>"
      ],
      "text/plain": [
       "Logistic regression:"
      ]
     },
     "metadata": {},
     "output_type": "display_data"
    },
    {
     "data": {
      "text/html": [
       "<pre>--------------------------------------------------------</pre>"
      ],
      "text/plain": [
       "--------------------------------------------------------"
      ]
     },
     "metadata": {},
     "output_type": "display_data"
    },
    {
     "data": {
      "text/html": [
       "<pre>Number of examples          : 8300</pre>"
      ],
      "text/plain": [
       "Number of examples          : 8300"
      ]
     },
     "metadata": {},
     "output_type": "display_data"
    },
    {
     "data": {
      "text/html": [
       "<pre>Number of classes           : 2</pre>"
      ],
      "text/plain": [
       "Number of classes           : 2"
      ]
     },
     "metadata": {},
     "output_type": "display_data"
    },
    {
     "data": {
      "text/html": [
       "<pre>Number of feature columns   : 1</pre>"
      ],
      "text/plain": [
       "Number of feature columns   : 1"
      ]
     },
     "metadata": {},
     "output_type": "display_data"
    },
    {
     "data": {
      "text/html": [
       "<pre>Number of unpacked features : 1</pre>"
      ],
      "text/plain": [
       "Number of unpacked features : 1"
      ]
     },
     "metadata": {},
     "output_type": "display_data"
    },
    {
     "data": {
      "text/html": [
       "<pre>Number of coefficients    : 1351</pre>"
      ],
      "text/plain": [
       "Number of coefficients    : 1351"
      ]
     },
     "metadata": {},
     "output_type": "display_data"
    },
    {
     "data": {
      "text/html": [
       "<pre>Starting L-BFGS</pre>"
      ],
      "text/plain": [
       "Starting L-BFGS"
      ]
     },
     "metadata": {},
     "output_type": "display_data"
    },
    {
     "data": {
      "text/html": [
       "<pre>--------------------------------------------------------</pre>"
      ],
      "text/plain": [
       "--------------------------------------------------------"
      ]
     },
     "metadata": {},
     "output_type": "display_data"
    },
    {
     "data": {
      "text/html": [
       "<pre>+-----------+----------+-----------+--------------+-------------------+---------------------+</pre>"
      ],
      "text/plain": [
       "+-----------+----------+-----------+--------------+-------------------+---------------------+"
      ]
     },
     "metadata": {},
     "output_type": "display_data"
    },
    {
     "data": {
      "text/html": [
       "<pre>| Iteration | Passes   | Step size | Elapsed Time | Training-accuracy | Validation-accuracy |</pre>"
      ],
      "text/plain": [
       "| Iteration | Passes   | Step size | Elapsed Time | Training-accuracy | Validation-accuracy |"
      ]
     },
     "metadata": {},
     "output_type": "display_data"
    },
    {
     "data": {
      "text/html": [
       "<pre>+-----------+----------+-----------+--------------+-------------------+---------------------+</pre>"
      ],
      "text/plain": [
       "+-----------+----------+-----------+--------------+-------------------+---------------------+"
      ]
     },
     "metadata": {},
     "output_type": "display_data"
    },
    {
     "data": {
      "text/html": [
       "<pre>| 1         | 4        | 0.000602  | 0.022195     | 0.660120          | 0.568129            |</pre>"
      ],
      "text/plain": [
       "| 1         | 4        | 0.000602  | 0.022195     | 0.660120          | 0.568129            |"
      ]
     },
     "metadata": {},
     "output_type": "display_data"
    },
    {
     "data": {
      "text/html": [
       "<pre>| 2         | 6        | 1.000000  | 0.036233     | 0.671205          | 0.586605            |</pre>"
      ],
      "text/plain": [
       "| 2         | 6        | 1.000000  | 0.036233     | 0.671205          | 0.586605            |"
      ]
     },
     "metadata": {},
     "output_type": "display_data"
    },
    {
     "data": {
      "text/html": [
       "<pre>| 3         | 7        | 1.000000  | 0.046262     | 0.678916          | 0.575058            |</pre>"
      ],
      "text/plain": [
       "| 3         | 7        | 1.000000  | 0.046262     | 0.678916          | 0.575058            |"
      ]
     },
     "metadata": {},
     "output_type": "display_data"
    },
    {
     "data": {
      "text/html": [
       "<pre>| 4         | 8        | 1.000000  | 0.055284     | 0.681687          | 0.579677            |</pre>"
      ],
      "text/plain": [
       "| 4         | 8        | 1.000000  | 0.055284     | 0.681687          | 0.579677            |"
      ]
     },
     "metadata": {},
     "output_type": "display_data"
    },
    {
     "data": {
      "text/html": [
       "<pre>| 5         | 9        | 1.000000  | 0.064309     | 0.683614          | 0.575058            |</pre>"
      ],
      "text/plain": [
       "| 5         | 9        | 1.000000  | 0.064309     | 0.683614          | 0.575058            |"
      ]
     },
     "metadata": {},
     "output_type": "display_data"
    },
    {
     "data": {
      "text/html": [
       "<pre>| 6         | 10       | 1.000000  | 0.074369     | 0.684458          | 0.575058            |</pre>"
      ],
      "text/plain": [
       "| 6         | 10       | 1.000000  | 0.074369     | 0.684458          | 0.575058            |"
      ]
     },
     "metadata": {},
     "output_type": "display_data"
    },
    {
     "data": {
      "text/html": [
       "<pre>| 11        | 16       | 1.000000  | 0.131486     | 0.685181          | 0.558891            |</pre>"
      ],
      "text/plain": [
       "| 11        | 16       | 1.000000  | 0.131486     | 0.685181          | 0.558891            |"
      ]
     },
     "metadata": {},
     "output_type": "display_data"
    },
    {
     "data": {
      "text/html": [
       "<pre>| 51        | 56       | 1.000000  | 0.509019     | 0.686265          | 0.558891            |</pre>"
      ],
      "text/plain": [
       "| 51        | 56       | 1.000000  | 0.509019     | 0.686265          | 0.558891            |"
      ]
     },
     "metadata": {},
     "output_type": "display_data"
    },
    {
     "data": {
      "text/html": [
       "<pre>| 100       | 122      | 1.000000  | 1.076063     | 0.686506          | 0.558891            |</pre>"
      ],
      "text/plain": [
       "| 100       | 122      | 1.000000  | 1.076063     | 0.686506          | 0.558891            |"
      ]
     },
     "metadata": {},
     "output_type": "display_data"
    },
    {
     "data": {
      "text/html": [
       "<pre>| 101       | 124      | 1.000000  | 1.094540     | 0.686506          | 0.558891            |</pre>"
      ],
      "text/plain": [
       "| 101       | 124      | 1.000000  | 1.094540     | 0.686506          | 0.558891            |"
      ]
     },
     "metadata": {},
     "output_type": "display_data"
    },
    {
     "data": {
      "text/html": [
       "<pre>| 200       | 242      | 1.000000  | 2.173534     | 0.686506          | 0.563510            |</pre>"
      ],
      "text/plain": [
       "| 200       | 242      | 1.000000  | 2.173534     | 0.686506          | 0.563510            |"
      ]
     },
     "metadata": {},
     "output_type": "display_data"
    },
    {
     "data": {
      "text/html": [
       "<pre>| 300       | 353      | 1.000000  | 3.237819     | 0.686506          | 0.563510            |</pre>"
      ],
      "text/plain": [
       "| 300       | 353      | 1.000000  | 3.237819     | 0.686506          | 0.563510            |"
      ]
     },
     "metadata": {},
     "output_type": "display_data"
    },
    {
     "data": {
      "text/html": [
       "<pre>+-----------+----------+-----------+--------------+-------------------+---------------------+</pre>"
      ],
      "text/plain": [
       "+-----------+----------+-----------+--------------+-------------------+---------------------+"
      ]
     },
     "metadata": {},
     "output_type": "display_data"
    },
    {
     "data": {
      "text/html": [
       "<pre>SUCCESS: Optimal solution found.</pre>"
      ],
      "text/plain": [
       "SUCCESS: Optimal solution found."
      ]
     },
     "metadata": {},
     "output_type": "display_data"
    },
    {
     "data": {
      "text/html": [
       "<pre></pre>"
      ],
      "text/plain": []
     },
     "metadata": {},
     "output_type": "display_data"
    },
    {
     "name": "stdout",
     "output_type": "stream",
     "text": [
      "***********************************************************************************************************\n",
      "{'f1_score': 0.5704726056043496, 'auc': 0.5835937857928244, 'recall': 0.5702341137123745, 'precision': 0.5707112970711297, 'log_loss': 1.208283077670286, 'roc_curve': Columns:\n",
      "\tthreshold\tfloat\n",
      "\tfpr\tfloat\n",
      "\ttpr\tfloat\n",
      "\tp\tint\n",
      "\tn\tint\n",
      "\n",
      "Rows: 100001\n",
      "\n",
      "Data:\n",
      "+-----------+----------------+----------------+------+------+\n",
      "| threshold |      fpr       |      tpr       |  p   |  n   |\n",
      "+-----------+----------------+----------------+------+------+\n",
      "|    0.0    |      1.0       |      1.0       | 1196 | 1168 |\n",
      "|   1e-05   | 0.980308219178 | 0.989130434783 | 1196 | 1168 |\n",
      "|   2e-05   | 0.977739726027 | 0.986622073579 | 1196 | 1168 |\n",
      "|   3e-05   | 0.974315068493 | 0.985785953177 | 1196 | 1168 |\n",
      "|   4e-05   | 0.972602739726 | 0.984949832776 | 1196 | 1168 |\n",
      "|   5e-05   | 0.968321917808 | 0.981605351171 | 1196 | 1168 |\n",
      "|   6e-05   | 0.968321917808 | 0.979933110368 | 1196 | 1168 |\n",
      "|   7e-05   | 0.967465753425 | 0.979096989967 | 1196 | 1168 |\n",
      "|   8e-05   | 0.966609589041 | 0.979096989967 | 1196 | 1168 |\n",
      "|   9e-05   | 0.966609589041 | 0.979096989967 | 1196 | 1168 |\n",
      "+-----------+----------------+----------------+------+------+\n",
      "[100001 rows x 5 columns]\n",
      "Note: Only the head of the SFrame is printed.\n",
      "You can use print_rows(num_rows=m, num_columns=n) to print more rows and columns., 'confusion_matrix': Columns:\n",
      "\ttarget_label\tint\n",
      "\tpredicted_label\tint\n",
      "\tcount\tint\n",
      "\n",
      "Rows: 4\n",
      "\n",
      "Data:\n",
      "+--------------+-----------------+-------+\n",
      "| target_label | predicted_label | count |\n",
      "+--------------+-----------------+-------+\n",
      "|      1       |        1        |  682  |\n",
      "|      1       |        0        |  514  |\n",
      "|      0       |        1        |  513  |\n",
      "|      0       |        0        |  655  |\n",
      "+--------------+-----------------+-------+\n",
      "[4 rows x 3 columns]\n",
      ", 'accuracy': 0.5655668358714044}\n",
      "***********************************************************************************************************\n"
     ]
    }
   ],
   "source": [
    "train_data = group1.append(group3.append(group4).append(group5))\n",
    "test_data = group2\n",
    "m2 = gl.logistic_classifier.create(\n",
    "    train_data,\n",
    "    target='gender',\n",
    "    features = ['cg2'],\n",
    "    #class_weights={1:5,0:5},\n",
    "    max_iterations=3000)\n",
    "print '***********************************************************************************************************'\n",
    "result2 = m2.evaluate(test_data)\n",
    "print result2\n",
    "print '***********************************************************************************************************'\n",
    "predict2 = m2.predict(group2)\n",
    "mdata2 = group2.copy().add_column(gl.SArray(predict2))\n",
    "final_predict = final_predict.append(mdata2)"
   ]
  },
  {
   "cell_type": "code",
   "execution_count": 8,
   "metadata": {
    "collapsed": false
   },
   "outputs": [
    {
     "name": "stdout",
     "output_type": "stream",
     "text": [
      "PROGRESS: Creating a validation set from 5 percent of training data. This may take a while.\n",
      "          You can set ``validation_set=None`` to disable validation tracking.\n",
      "\n"
     ]
    },
    {
     "data": {
      "text/html": [
       "<pre>Logistic regression:</pre>"
      ],
      "text/plain": [
       "Logistic regression:"
      ]
     },
     "metadata": {},
     "output_type": "display_data"
    },
    {
     "data": {
      "text/html": [
       "<pre>--------------------------------------------------------</pre>"
      ],
      "text/plain": [
       "--------------------------------------------------------"
      ]
     },
     "metadata": {},
     "output_type": "display_data"
    },
    {
     "data": {
      "text/html": [
       "<pre>Number of examples          : 8507</pre>"
      ],
      "text/plain": [
       "Number of examples          : 8507"
      ]
     },
     "metadata": {},
     "output_type": "display_data"
    },
    {
     "data": {
      "text/html": [
       "<pre>Number of classes           : 2</pre>"
      ],
      "text/plain": [
       "Number of classes           : 2"
      ]
     },
     "metadata": {},
     "output_type": "display_data"
    },
    {
     "data": {
      "text/html": [
       "<pre>Number of feature columns   : 1</pre>"
      ],
      "text/plain": [
       "Number of feature columns   : 1"
      ]
     },
     "metadata": {},
     "output_type": "display_data"
    },
    {
     "data": {
      "text/html": [
       "<pre>Number of unpacked features : 1</pre>"
      ],
      "text/plain": [
       "Number of unpacked features : 1"
      ]
     },
     "metadata": {},
     "output_type": "display_data"
    },
    {
     "data": {
      "text/html": [
       "<pre>Number of coefficients    : 1373</pre>"
      ],
      "text/plain": [
       "Number of coefficients    : 1373"
      ]
     },
     "metadata": {},
     "output_type": "display_data"
    },
    {
     "data": {
      "text/html": [
       "<pre>Starting L-BFGS</pre>"
      ],
      "text/plain": [
       "Starting L-BFGS"
      ]
     },
     "metadata": {},
     "output_type": "display_data"
    },
    {
     "data": {
      "text/html": [
       "<pre>--------------------------------------------------------</pre>"
      ],
      "text/plain": [
       "--------------------------------------------------------"
      ]
     },
     "metadata": {},
     "output_type": "display_data"
    },
    {
     "data": {
      "text/html": [
       "<pre>+-----------+----------+-----------+--------------+-------------------+---------------------+</pre>"
      ],
      "text/plain": [
       "+-----------+----------+-----------+--------------+-------------------+---------------------+"
      ]
     },
     "metadata": {},
     "output_type": "display_data"
    },
    {
     "data": {
      "text/html": [
       "<pre>| Iteration | Passes   | Step size | Elapsed Time | Training-accuracy | Validation-accuracy |</pre>"
      ],
      "text/plain": [
       "| Iteration | Passes   | Step size | Elapsed Time | Training-accuracy | Validation-accuracy |"
      ]
     },
     "metadata": {},
     "output_type": "display_data"
    },
    {
     "data": {
      "text/html": [
       "<pre>+-----------+----------+-----------+--------------+-------------------+---------------------+</pre>"
      ],
      "text/plain": [
       "+-----------+----------+-----------+--------------+-------------------+---------------------+"
      ]
     },
     "metadata": {},
     "output_type": "display_data"
    },
    {
     "data": {
      "text/html": [
       "<pre>| 1         | 4        | 0.000588  | 0.025662     | 0.658869          | 0.581114            |</pre>"
      ],
      "text/plain": [
       "| 1         | 4        | 0.000588  | 0.025662     | 0.658869          | 0.581114            |"
      ]
     },
     "metadata": {},
     "output_type": "display_data"
    },
    {
     "data": {
      "text/html": [
       "<pre>| 2         | 6        | 1.000000  | 0.039699     | 0.674386          | 0.556901            |</pre>"
      ],
      "text/plain": [
       "| 2         | 6        | 1.000000  | 0.039699     | 0.674386          | 0.556901            |"
      ]
     },
     "metadata": {},
     "output_type": "display_data"
    },
    {
     "data": {
      "text/html": [
       "<pre>| 3         | 7        | 1.000000  | 0.047720     | 0.682967          | 0.571429            |</pre>"
      ],
      "text/plain": [
       "| 3         | 7        | 1.000000  | 0.047720     | 0.682967          | 0.571429            |"
      ]
     },
     "metadata": {},
     "output_type": "display_data"
    },
    {
     "data": {
      "text/html": [
       "<pre>| 4         | 8        | 1.000000  | 0.058749     | 0.684613          | 0.552058            |</pre>"
      ],
      "text/plain": [
       "| 4         | 8        | 1.000000  | 0.058749     | 0.684613          | 0.552058            |"
      ]
     },
     "metadata": {},
     "output_type": "display_data"
    },
    {
     "data": {
      "text/html": [
       "<pre>| 5         | 9        | 1.000000  | 0.068775     | 0.687669          | 0.554479            |</pre>"
      ],
      "text/plain": [
       "| 5         | 9        | 1.000000  | 0.068775     | 0.687669          | 0.554479            |"
      ]
     },
     "metadata": {},
     "output_type": "display_data"
    },
    {
     "data": {
      "text/html": [
       "<pre>| 6         | 10       | 1.000000  | 0.077814     | 0.687199          | 0.554479            |</pre>"
      ],
      "text/plain": [
       "| 6         | 10       | 1.000000  | 0.077814     | 0.687199          | 0.554479            |"
      ]
     },
     "metadata": {},
     "output_type": "display_data"
    },
    {
     "data": {
      "text/html": [
       "<pre>| 11        | 15       | 1.000000  | 0.127932     | 0.688609          | 0.576271            |</pre>"
      ],
      "text/plain": [
       "| 11        | 15       | 1.000000  | 0.127932     | 0.688609          | 0.576271            |"
      ]
     },
     "metadata": {},
     "output_type": "display_data"
    },
    {
     "data": {
      "text/html": [
       "<pre>| 51        | 56       | 1.000000  | 0.517147     | 0.690020          | 0.581114            |</pre>"
      ],
      "text/plain": [
       "| 51        | 56       | 1.000000  | 0.517147     | 0.690020          | 0.581114            |"
      ]
     },
     "metadata": {},
     "output_type": "display_data"
    },
    {
     "data": {
      "text/html": [
       "<pre>| 100       | 112      | 1.000000  | 1.026977     | 0.689785          | 0.581114            |</pre>"
      ],
      "text/plain": [
       "| 100       | 112      | 1.000000  | 1.026977     | 0.689785          | 0.581114            |"
      ]
     },
     "metadata": {},
     "output_type": "display_data"
    },
    {
     "data": {
      "text/html": [
       "<pre>| 101       | 113      | 1.000000  | 1.048740     | 0.689785          | 0.581114            |</pre>"
      ],
      "text/plain": [
       "| 101       | 113      | 1.000000  | 1.048740     | 0.689785          | 0.581114            |"
      ]
     },
     "metadata": {},
     "output_type": "display_data"
    },
    {
     "data": {
      "text/html": [
       "<pre>| 200       | 249      | 1.000000  | 2.199232     | 0.689785          | 0.581114            |</pre>"
      ],
      "text/plain": [
       "| 200       | 249      | 1.000000  | 2.199232     | 0.689785          | 0.581114            |"
      ]
     },
     "metadata": {},
     "output_type": "display_data"
    },
    {
     "data": {
      "text/html": [
       "<pre>| 300       | 428      | 1.000000  | 3.567275     | 0.689785          | 0.581114            |</pre>"
      ],
      "text/plain": [
       "| 300       | 428      | 1.000000  | 3.567275     | 0.689785          | 0.581114            |"
      ]
     },
     "metadata": {},
     "output_type": "display_data"
    },
    {
     "data": {
      "text/html": [
       "<pre>| 400       | 584      | 1.000000  | 4.846483     | 0.689785          | 0.581114            |</pre>"
      ],
      "text/plain": [
       "| 400       | 584      | 1.000000  | 4.846483     | 0.689785          | 0.581114            |"
      ]
     },
     "metadata": {},
     "output_type": "display_data"
    },
    {
     "data": {
      "text/html": [
       "<pre>+-----------+----------+-----------+--------------+-------------------+---------------------+</pre>"
      ],
      "text/plain": [
       "+-----------+----------+-----------+--------------+-------------------+---------------------+"
      ]
     },
     "metadata": {},
     "output_type": "display_data"
    },
    {
     "data": {
      "text/html": [
       "<pre>SUCCESS: Optimal solution found.</pre>"
      ],
      "text/plain": [
       "SUCCESS: Optimal solution found."
      ]
     },
     "metadata": {},
     "output_type": "display_data"
    },
    {
     "data": {
      "text/html": [
       "<pre></pre>"
      ],
      "text/plain": []
     },
     "metadata": {},
     "output_type": "display_data"
    },
    {
     "name": "stdout",
     "output_type": "stream",
     "text": [
      "***********************************************************************************************************\n",
      "{'f1_score': 0.5608755129958961, 'auc': 0.5852747011548598, 'recall': 0.5565610859728507, 'precision': 0.5652573529411765, 'log_loss': 1.2126148002620118, 'roc_curve': Columns:\n",
      "\tthreshold\tfloat\n",
      "\tfpr\tfloat\n",
      "\ttpr\tfloat\n",
      "\tp\tint\n",
      "\tn\tint\n",
      "\n",
      "Rows: 100001\n",
      "\n",
      "Data:\n",
      "+-----------+----------------+----------------+------+------+\n",
      "| threshold |      fpr       |      tpr       |  p   |  n   |\n",
      "+-----------+----------------+----------------+------+------+\n",
      "|    0.0    |      1.0       |      1.0       | 1105 | 1072 |\n",
      "|   1e-05   | 0.980410447761 | 0.98371040724  | 1105 | 1072 |\n",
      "|   2e-05   | 0.976679104478 | 0.980995475113 | 1105 | 1072 |\n",
      "|   3e-05   | 0.972947761194 | 0.980995475113 | 1105 | 1072 |\n",
      "|   4e-05   | 0.96921641791  | 0.976470588235 | 1105 | 1072 |\n",
      "|   5e-05   | 0.966417910448 | 0.973755656109 | 1105 | 1072 |\n",
      "|   6e-05   | 0.964552238806 | 0.972850678733 | 1105 | 1072 |\n",
      "|   7e-05   | 0.964552238806 | 0.972850678733 | 1105 | 1072 |\n",
      "|   8e-05   | 0.963619402985 | 0.971945701357 | 1105 | 1072 |\n",
      "|   9e-05   | 0.963619402985 | 0.971945701357 | 1105 | 1072 |\n",
      "+-----------+----------------+----------------+------+------+\n",
      "[100001 rows x 5 columns]\n",
      "Note: Only the head of the SFrame is printed.\n",
      "You can use print_rows(num_rows=m, num_columns=n) to print more rows and columns., 'confusion_matrix': Columns:\n",
      "\ttarget_label\tint\n",
      "\tpredicted_label\tint\n",
      "\tcount\tint\n",
      "\n",
      "Rows: 4\n",
      "\n",
      "Data:\n",
      "+--------------+-----------------+-------+\n",
      "| target_label | predicted_label | count |\n",
      "+--------------+-----------------+-------+\n",
      "|      1       |        1        |  615  |\n",
      "|      1       |        0        |  490  |\n",
      "|      0       |        0        |  599  |\n",
      "|      0       |        1        |  473  |\n",
      "+--------------+-----------------+-------+\n",
      "[4 rows x 3 columns]\n",
      ", 'accuracy': 0.5576481396417088}\n",
      "***********************************************************************************************************\n"
     ]
    }
   ],
   "source": [
    "train_data = group2.append(group1.append(group4).append(group5))\n",
    "test_data = group3\n",
    "m3 = gl.logistic_classifier.create(\n",
    "    train_data,\n",
    "    target='gender',\n",
    "    features = ['cg2'],\n",
    "    #class_weights={1:5,0:5},\n",
    "    max_iterations=3000)\n",
    "print '***********************************************************************************************************'\n",
    "result3 = m3.evaluate(test_data)\n",
    "print result3\n",
    "print '***********************************************************************************************************'\n",
    "predict3 = m3.predict(group3)\n",
    "mdata3 = group3.copy().add_column(gl.SArray(predict3))\n",
    "final_predict = final_predict.append(mdata3)"
   ]
  },
  {
   "cell_type": "code",
   "execution_count": 9,
   "metadata": {
    "collapsed": false
   },
   "outputs": [
    {
     "name": "stdout",
     "output_type": "stream",
     "text": [
      "PROGRESS: Creating a validation set from 5 percent of training data. This may take a while.\n",
      "          You can set ``validation_set=None`` to disable validation tracking.\n",
      "\n"
     ]
    },
    {
     "data": {
      "text/html": [
       "<pre>Logistic regression:</pre>"
      ],
      "text/plain": [
       "Logistic regression:"
      ]
     },
     "metadata": {},
     "output_type": "display_data"
    },
    {
     "data": {
      "text/html": [
       "<pre>--------------------------------------------------------</pre>"
      ],
      "text/plain": [
       "--------------------------------------------------------"
      ]
     },
     "metadata": {},
     "output_type": "display_data"
    },
    {
     "data": {
      "text/html": [
       "<pre>Number of examples          : 8670</pre>"
      ],
      "text/plain": [
       "Number of examples          : 8670"
      ]
     },
     "metadata": {},
     "output_type": "display_data"
    },
    {
     "data": {
      "text/html": [
       "<pre>Number of classes           : 2</pre>"
      ],
      "text/plain": [
       "Number of classes           : 2"
      ]
     },
     "metadata": {},
     "output_type": "display_data"
    },
    {
     "data": {
      "text/html": [
       "<pre>Number of feature columns   : 1</pre>"
      ],
      "text/plain": [
       "Number of feature columns   : 1"
      ]
     },
     "metadata": {},
     "output_type": "display_data"
    },
    {
     "data": {
      "text/html": [
       "<pre>Number of unpacked features : 1</pre>"
      ],
      "text/plain": [
       "Number of unpacked features : 1"
      ]
     },
     "metadata": {},
     "output_type": "display_data"
    },
    {
     "data": {
      "text/html": [
       "<pre>Number of coefficients    : 1386</pre>"
      ],
      "text/plain": [
       "Number of coefficients    : 1386"
      ]
     },
     "metadata": {},
     "output_type": "display_data"
    },
    {
     "data": {
      "text/html": [
       "<pre>Starting L-BFGS</pre>"
      ],
      "text/plain": [
       "Starting L-BFGS"
      ]
     },
     "metadata": {},
     "output_type": "display_data"
    },
    {
     "data": {
      "text/html": [
       "<pre>--------------------------------------------------------</pre>"
      ],
      "text/plain": [
       "--------------------------------------------------------"
      ]
     },
     "metadata": {},
     "output_type": "display_data"
    },
    {
     "data": {
      "text/html": [
       "<pre>+-----------+----------+-----------+--------------+-------------------+---------------------+</pre>"
      ],
      "text/plain": [
       "+-----------+----------+-----------+--------------+-------------------+---------------------+"
      ]
     },
     "metadata": {},
     "output_type": "display_data"
    },
    {
     "data": {
      "text/html": [
       "<pre>| Iteration | Passes   | Step size | Elapsed Time | Training-accuracy | Validation-accuracy |</pre>"
      ],
      "text/plain": [
       "| Iteration | Passes   | Step size | Elapsed Time | Training-accuracy | Validation-accuracy |"
      ]
     },
     "metadata": {},
     "output_type": "display_data"
    },
    {
     "data": {
      "text/html": [
       "<pre>+-----------+----------+-----------+--------------+-------------------+---------------------+</pre>"
      ],
      "text/plain": [
       "+-----------+----------+-----------+--------------+-------------------+---------------------+"
      ]
     },
     "metadata": {},
     "output_type": "display_data"
    },
    {
     "data": {
      "text/html": [
       "<pre>| 1         | 4        | 0.000577  | 0.018019     | 0.650288          | 0.550000            |</pre>"
      ],
      "text/plain": [
       "| 1         | 4        | 0.000577  | 0.018019     | 0.650288          | 0.550000            |"
      ]
     },
     "metadata": {},
     "output_type": "display_data"
    },
    {
     "data": {
      "text/html": [
       "<pre>| 2         | 6        | 1.000000  | 0.033092     | 0.662860          | 0.534091            |</pre>"
      ],
      "text/plain": [
       "| 2         | 6        | 1.000000  | 0.033092     | 0.662860          | 0.534091            |"
      ]
     },
     "metadata": {},
     "output_type": "display_data"
    },
    {
     "data": {
      "text/html": [
       "<pre>| 3         | 7        | 1.000000  | 0.043085     | 0.675087          | 0.534091            |</pre>"
      ],
      "text/plain": [
       "| 3         | 7        | 1.000000  | 0.043085     | 0.675087          | 0.534091            |"
      ]
     },
     "metadata": {},
     "output_type": "display_data"
    },
    {
     "data": {
      "text/html": [
       "<pre>| 4         | 8        | 1.000000  | 0.051105     | 0.677278          | 0.531818            |</pre>"
      ],
      "text/plain": [
       "| 4         | 8        | 1.000000  | 0.051105     | 0.677278          | 0.531818            |"
      ]
     },
     "metadata": {},
     "output_type": "display_data"
    },
    {
     "data": {
      "text/html": [
       "<pre>| 5         | 9        | 1.000000  | 0.063140     | 0.674971          | 0.522727            |</pre>"
      ],
      "text/plain": [
       "| 5         | 9        | 1.000000  | 0.063140     | 0.674971          | 0.522727            |"
      ]
     },
     "metadata": {},
     "output_type": "display_data"
    },
    {
     "data": {
      "text/html": [
       "<pre>| 6         | 11       | 1.000000  | 0.077174     | 0.679931          | 0.531818            |</pre>"
      ],
      "text/plain": [
       "| 6         | 11       | 1.000000  | 0.077174     | 0.679931          | 0.531818            |"
      ]
     },
     "metadata": {},
     "output_type": "display_data"
    },
    {
     "data": {
      "text/html": [
       "<pre>| 11        | 16       | 1.000000  | 0.131320     | 0.683737          | 0.529545            |</pre>"
      ],
      "text/plain": [
       "| 11        | 16       | 1.000000  | 0.131320     | 0.683737          | 0.529545            |"
      ]
     },
     "metadata": {},
     "output_type": "display_data"
    },
    {
     "data": {
      "text/html": [
       "<pre>| 51        | 57       | 1.000000  | 0.534309     | 0.683391          | 0.536364            |</pre>"
      ],
      "text/plain": [
       "| 51        | 57       | 1.000000  | 0.534309     | 0.683391          | 0.536364            |"
      ]
     },
     "metadata": {},
     "output_type": "display_data"
    },
    {
     "data": {
      "text/html": [
       "<pre>| 100       | 108      | 1.000000  | 1.053452     | 0.683622          | 0.538636            |</pre>"
      ],
      "text/plain": [
       "| 100       | 108      | 1.000000  | 1.053452     | 0.683622          | 0.538636            |"
      ]
     },
     "metadata": {},
     "output_type": "display_data"
    },
    {
     "data": {
      "text/html": [
       "<pre>| 101       | 109      | 1.000000  | 1.065570     | 0.683622          | 0.538636            |</pre>"
      ],
      "text/plain": [
       "| 101       | 109      | 1.000000  | 1.065570     | 0.683622          | 0.538636            |"
      ]
     },
     "metadata": {},
     "output_type": "display_data"
    },
    {
     "data": {
      "text/html": [
       "<pre>| 200       | 259      | 1.000000  | 2.337109     | 0.683852          | 0.538636            |</pre>"
      ],
      "text/plain": [
       "| 200       | 259      | 1.000000  | 2.337109     | 0.683852          | 0.538636            |"
      ]
     },
     "metadata": {},
     "output_type": "display_data"
    },
    {
     "data": {
      "text/html": [
       "<pre>| 300       | 421      | 1.000000  | 3.690790     | 0.683852          | 0.538636            |</pre>"
      ],
      "text/plain": [
       "| 300       | 421      | 1.000000  | 3.690790     | 0.683852          | 0.538636            |"
      ]
     },
     "metadata": {},
     "output_type": "display_data"
    },
    {
     "data": {
      "text/html": [
       "<pre>+-----------+----------+-----------+--------------+-------------------+---------------------+</pre>"
      ],
      "text/plain": [
       "+-----------+----------+-----------+--------------+-------------------+---------------------+"
      ]
     },
     "metadata": {},
     "output_type": "display_data"
    },
    {
     "data": {
      "text/html": [
       "<pre>SUCCESS: Optimal solution found.</pre>"
      ],
      "text/plain": [
       "SUCCESS: Optimal solution found."
      ]
     },
     "metadata": {},
     "output_type": "display_data"
    },
    {
     "data": {
      "text/html": [
       "<pre></pre>"
      ],
      "text/plain": []
     },
     "metadata": {},
     "output_type": "display_data"
    },
    {
     "name": "stdout",
     "output_type": "stream",
     "text": [
      "***********************************************************************************************************\n",
      "{'f1_score': 0.607843137254902, 'auc': 0.6233946497104393, 'recall': 0.6206206206206206, 'precision': 0.595581171950048, 'log_loss': 1.1368890684037904, 'roc_curve': Columns:\n",
      "\tthreshold\tfloat\n",
      "\tfpr\tfloat\n",
      "\ttpr\tfloat\n",
      "\tp\tint\n",
      "\tn\tint\n",
      "\n",
      "Rows: 100001\n",
      "\n",
      "Data:\n",
      "+-----------+----------------+----------------+-----+-----+\n",
      "| threshold |      fpr       |      tpr       |  p  |  n  |\n",
      "+-----------+----------------+----------------+-----+-----+\n",
      "|    0.0    |      1.0       |      1.0       | 999 | 988 |\n",
      "|   1e-05   | 0.987854251012 | 0.983983983984 | 999 | 988 |\n",
      "|   2e-05   | 0.985829959514 | 0.980980980981 | 999 | 988 |\n",
      "|   3e-05   | 0.984817813765 | 0.980980980981 | 999 | 988 |\n",
      "|   4e-05   | 0.983805668016 | 0.97997997998  | 999 | 988 |\n",
      "|   5e-05   | 0.97975708502  | 0.978978978979 | 999 | 988 |\n",
      "|   6e-05   | 0.975708502024 | 0.978978978979 | 999 | 988 |\n",
      "|   7e-05   | 0.972672064777 | 0.978978978979 | 999 | 988 |\n",
      "|   8e-05   | 0.972672064777 | 0.978978978979 | 999 | 988 |\n",
      "|   9e-05   | 0.971659919028 | 0.978978978979 | 999 | 988 |\n",
      "+-----------+----------------+----------------+-----+-----+\n",
      "[100001 rows x 5 columns]\n",
      "Note: Only the head of the SFrame is printed.\n",
      "You can use print_rows(num_rows=m, num_columns=n) to print more rows and columns., 'confusion_matrix': Columns:\n",
      "\ttarget_label\tint\n",
      "\tpredicted_label\tint\n",
      "\tcount\tint\n",
      "\n",
      "Rows: 4\n",
      "\n",
      "Data:\n",
      "+--------------+-----------------+-------+\n",
      "| target_label | predicted_label | count |\n",
      "+--------------+-----------------+-------+\n",
      "|      1       |        0        |  379  |\n",
      "|      1       |        1        |  620  |\n",
      "|      0       |        0        |  567  |\n",
      "|      0       |        1        |  421  |\n",
      "+--------------+-----------------+-------+\n",
      "[4 rows x 3 columns]\n",
      ", 'accuracy': 0.5973829894313035}\n",
      "***********************************************************************************************************\n"
     ]
    }
   ],
   "source": [
    "train_data = group2.append(group3.append(group1).append(group5))\n",
    "test_data = group4\n",
    "m4 = gl.logistic_classifier.create(\n",
    "    train_data,\n",
    "    target='gender',\n",
    "    features = ['cg2'],\n",
    "    #class_weights={1:5,0:5},\n",
    "    max_iterations=3000)\n",
    "result1 = m1.evaluate(test_data)\n",
    "print '***********************************************************************************************************'\n",
    "result4 = m4.evaluate(test_data)\n",
    "print result4\n",
    "print '***********************************************************************************************************'\n",
    "predict4 = m4.predict(group4)\n",
    "mdata4 = group4.copy().add_column(gl.SArray(predict4))\n",
    "final_predict = final_predict.append(mdata4)"
   ]
  },
  {
   "cell_type": "code",
   "execution_count": 10,
   "metadata": {
    "collapsed": false
   },
   "outputs": [
    {
     "name": "stdout",
     "output_type": "stream",
     "text": [
      "PROGRESS: Creating a validation set from 5 percent of training data. This may take a while.\n",
      "          You can set ``validation_set=None`` to disable validation tracking.\n",
      "\n"
     ]
    },
    {
     "data": {
      "text/html": [
       "<pre>Logistic regression:</pre>"
      ],
      "text/plain": [
       "Logistic regression:"
      ]
     },
     "metadata": {},
     "output_type": "display_data"
    },
    {
     "data": {
      "text/html": [
       "<pre>--------------------------------------------------------</pre>"
      ],
      "text/plain": [
       "--------------------------------------------------------"
      ]
     },
     "metadata": {},
     "output_type": "display_data"
    },
    {
     "data": {
      "text/html": [
       "<pre>Number of examples          : 8297</pre>"
      ],
      "text/plain": [
       "Number of examples          : 8297"
      ]
     },
     "metadata": {},
     "output_type": "display_data"
    },
    {
     "data": {
      "text/html": [
       "<pre>Number of classes           : 2</pre>"
      ],
      "text/plain": [
       "Number of classes           : 2"
      ]
     },
     "metadata": {},
     "output_type": "display_data"
    },
    {
     "data": {
      "text/html": [
       "<pre>Number of feature columns   : 1</pre>"
      ],
      "text/plain": [
       "Number of feature columns   : 1"
      ]
     },
     "metadata": {},
     "output_type": "display_data"
    },
    {
     "data": {
      "text/html": [
       "<pre>Number of unpacked features : 1</pre>"
      ],
      "text/plain": [
       "Number of unpacked features : 1"
      ]
     },
     "metadata": {},
     "output_type": "display_data"
    },
    {
     "data": {
      "text/html": [
       "<pre>Number of coefficients    : 1353</pre>"
      ],
      "text/plain": [
       "Number of coefficients    : 1353"
      ]
     },
     "metadata": {},
     "output_type": "display_data"
    },
    {
     "data": {
      "text/html": [
       "<pre>Starting L-BFGS</pre>"
      ],
      "text/plain": [
       "Starting L-BFGS"
      ]
     },
     "metadata": {},
     "output_type": "display_data"
    },
    {
     "data": {
      "text/html": [
       "<pre>--------------------------------------------------------</pre>"
      ],
      "text/plain": [
       "--------------------------------------------------------"
      ]
     },
     "metadata": {},
     "output_type": "display_data"
    },
    {
     "data": {
      "text/html": [
       "<pre>+-----------+----------+-----------+--------------+-------------------+---------------------+</pre>"
      ],
      "text/plain": [
       "+-----------+----------+-----------+--------------+-------------------+---------------------+"
      ]
     },
     "metadata": {},
     "output_type": "display_data"
    },
    {
     "data": {
      "text/html": [
       "<pre>| Iteration | Passes   | Step size | Elapsed Time | Training-accuracy | Validation-accuracy |</pre>"
      ],
      "text/plain": [
       "| Iteration | Passes   | Step size | Elapsed Time | Training-accuracy | Validation-accuracy |"
      ]
     },
     "metadata": {},
     "output_type": "display_data"
    },
    {
     "data": {
      "text/html": [
       "<pre>+-----------+----------+-----------+--------------+-------------------+---------------------+</pre>"
      ],
      "text/plain": [
       "+-----------+----------+-----------+--------------+-------------------+---------------------+"
      ]
     },
     "metadata": {},
     "output_type": "display_data"
    },
    {
     "data": {
      "text/html": [
       "<pre>| 1         | 4        | 0.000603  | 0.019455     | 0.648548          | 0.616092            |</pre>"
      ],
      "text/plain": [
       "| 1         | 4        | 0.000603  | 0.019455     | 0.648548          | 0.616092            |"
      ]
     },
     "metadata": {},
     "output_type": "display_data"
    },
    {
     "data": {
      "text/html": [
       "<pre>| 2         | 6        | 1.000000  | 0.032489     | 0.667229          | 0.600000            |</pre>"
      ],
      "text/plain": [
       "| 2         | 6        | 1.000000  | 0.032489     | 0.667229          | 0.600000            |"
      ]
     },
     "metadata": {},
     "output_type": "display_data"
    },
    {
     "data": {
      "text/html": [
       "<pre>| 3         | 7        | 1.000000  | 0.041514     | 0.670845          | 0.588506            |</pre>"
      ],
      "text/plain": [
       "| 3         | 7        | 1.000000  | 0.041514     | 0.670845          | 0.588506            |"
      ]
     },
     "metadata": {},
     "output_type": "display_data"
    },
    {
     "data": {
      "text/html": [
       "<pre>| 4         | 8        | 1.000000  | 0.051539     | 0.675304          | 0.593103            |</pre>"
      ],
      "text/plain": [
       "| 4         | 8        | 1.000000  | 0.051539     | 0.675304          | 0.593103            |"
      ]
     },
     "metadata": {},
     "output_type": "display_data"
    },
    {
     "data": {
      "text/html": [
       "<pre>| 5         | 9        | 1.000000  | 0.062568     | 0.676751          | 0.577011            |</pre>"
      ],
      "text/plain": [
       "| 5         | 9        | 1.000000  | 0.062568     | 0.676751          | 0.577011            |"
      ]
     },
     "metadata": {},
     "output_type": "display_data"
    },
    {
     "data": {
      "text/html": [
       "<pre>| 6         | 10       | 1.000000  | 0.071598     | 0.680607          | 0.574713            |</pre>"
      ],
      "text/plain": [
       "| 6         | 10       | 1.000000  | 0.071598     | 0.680607          | 0.574713            |"
      ]
     },
     "metadata": {},
     "output_type": "display_data"
    },
    {
     "data": {
      "text/html": [
       "<pre>| 11        | 16       | 1.000000  | 0.122729     | 0.683380          | 0.570115            |</pre>"
      ],
      "text/plain": [
       "| 11        | 16       | 1.000000  | 0.122729     | 0.683380          | 0.570115            |"
      ]
     },
     "metadata": {},
     "output_type": "display_data"
    },
    {
     "data": {
      "text/html": [
       "<pre>| 51        | 56       | 1.000000  | 0.499455     | 0.682536          | 0.577011            |</pre>"
      ],
      "text/plain": [
       "| 51        | 56       | 1.000000  | 0.499455     | 0.682536          | 0.577011            |"
      ]
     },
     "metadata": {},
     "output_type": "display_data"
    },
    {
     "data": {
      "text/html": [
       "<pre>| 100       | 107      | 1.000000  | 0.976085     | 0.683259          | 0.577011            |</pre>"
      ],
      "text/plain": [
       "| 100       | 107      | 1.000000  | 0.976085     | 0.683259          | 0.577011            |"
      ]
     },
     "metadata": {},
     "output_type": "display_data"
    },
    {
     "data": {
      "text/html": [
       "<pre>| 101       | 109      | 1.000000  | 0.999727     | 0.683018          | 0.577011            |</pre>"
      ],
      "text/plain": [
       "| 101       | 109      | 1.000000  | 0.999727     | 0.683018          | 0.577011            |"
      ]
     },
     "metadata": {},
     "output_type": "display_data"
    },
    {
     "data": {
      "text/html": [
       "<pre>| 200       | 243      | 1.000000  | 2.134798     | 0.683380          | 0.577011            |</pre>"
      ],
      "text/plain": [
       "| 200       | 243      | 1.000000  | 2.134798     | 0.683380          | 0.577011            |"
      ]
     },
     "metadata": {},
     "output_type": "display_data"
    },
    {
     "data": {
      "text/html": [
       "<pre>| 300       | 407      | 1.000000  | 3.390582     | 0.683259          | 0.577011            |</pre>"
      ],
      "text/plain": [
       "| 300       | 407      | 1.000000  | 3.390582     | 0.683259          | 0.577011            |"
      ]
     },
     "metadata": {},
     "output_type": "display_data"
    },
    {
     "data": {
      "text/html": [
       "<pre>| 400       | 562      | 1.000000  | 4.604019     | 0.683380          | 0.579310            |</pre>"
      ],
      "text/plain": [
       "| 400       | 562      | 1.000000  | 4.604019     | 0.683380          | 0.579310            |"
      ]
     },
     "metadata": {},
     "output_type": "display_data"
    },
    {
     "data": {
      "text/html": [
       "<pre>| 500       | 743      | 0.500000  | 5.970855     | 0.683380          | 0.579310            |</pre>"
      ],
      "text/plain": [
       "| 500       | 743      | 0.500000  | 5.970855     | 0.683380          | 0.579310            |"
      ]
     },
     "metadata": {},
     "output_type": "display_data"
    },
    {
     "data": {
      "text/html": [
       "<pre>| 501       | 745      | 1.000000  | 5.988806     | 0.683380          | 0.579310            |</pre>"
      ],
      "text/plain": [
       "| 501       | 745      | 1.000000  | 5.988806     | 0.683380          | 0.579310            |"
      ]
     },
     "metadata": {},
     "output_type": "display_data"
    },
    {
     "data": {
      "text/html": [
       "<pre>+-----------+----------+-----------+--------------+-------------------+---------------------+</pre>"
      ],
      "text/plain": [
       "+-----------+----------+-----------+--------------+-------------------+---------------------+"
      ]
     },
     "metadata": {},
     "output_type": "display_data"
    },
    {
     "data": {
      "text/html": [
       "<pre>SUCCESS: Optimal solution found.</pre>"
      ],
      "text/plain": [
       "SUCCESS: Optimal solution found."
      ]
     },
     "metadata": {},
     "output_type": "display_data"
    },
    {
     "data": {
      "text/html": [
       "<pre></pre>"
      ],
      "text/plain": []
     },
     "metadata": {},
     "output_type": "display_data"
    },
    {
     "name": "stdout",
     "output_type": "stream",
     "text": [
      "***********************************************************************************************************\n",
      "{'f1_score': 0.590531561461794, 'auc': 0.6071171078380873, 'recall': 0.5939849624060151, 'precision': 0.5871180842279108, 'log_loss': 1.191291182194924, 'roc_curve': Columns:\n",
      "\tthreshold\tfloat\n",
      "\tfpr\tfloat\n",
      "\ttpr\tfloat\n",
      "\tp\tint\n",
      "\tn\tint\n",
      "\n",
      "Rows: 100001\n",
      "\n",
      "Data:\n",
      "+-----------+----------------+----------------+------+------+\n",
      "| threshold |      fpr       |      tpr       |  p   |  n   |\n",
      "+-----------+----------------+----------------+------+------+\n",
      "|    0.0    |      1.0       |      1.0       | 1197 | 1168 |\n",
      "|   1e-05   | 0.97345890411  | 0.985797827903 | 1197 | 1168 |\n",
      "|   2e-05   | 0.971746575342 | 0.983291562239 | 1197 | 1168 |\n",
      "|   3e-05   | 0.968321917808 | 0.981620718463 | 1197 | 1168 |\n",
      "|   4e-05   | 0.966609589041 | 0.980785296575 | 1197 | 1168 |\n",
      "|   5e-05   | 0.964897260274 | 0.980785296575 | 1197 | 1168 |\n",
      "|   6e-05   | 0.96404109589  | 0.979114452799 | 1197 | 1168 |\n",
      "|   7e-05   | 0.96404109589  | 0.979114452799 | 1197 | 1168 |\n",
      "|   8e-05   | 0.96404109589  | 0.977443609023 | 1197 | 1168 |\n",
      "|   9e-05   | 0.958904109589 | 0.974937343358 | 1197 | 1168 |\n",
      "+-----------+----------------+----------------+------+------+\n",
      "[100001 rows x 5 columns]\n",
      "Note: Only the head of the SFrame is printed.\n",
      "You can use print_rows(num_rows=m, num_columns=n) to print more rows and columns., 'confusion_matrix': Columns:\n",
      "\ttarget_label\tint\n",
      "\tpredicted_label\tint\n",
      "\tcount\tint\n",
      "\n",
      "Rows: 4\n",
      "\n",
      "Data:\n",
      "+--------------+-----------------+-------+\n",
      "| target_label | predicted_label | count |\n",
      "+--------------+-----------------+-------+\n",
      "|      1       |        0        |  486  |\n",
      "|      1       |        1        |  711  |\n",
      "|      0       |        0        |  668  |\n",
      "|      0       |        1        |  500  |\n",
      "+--------------+-----------------+-------+\n",
      "[4 rows x 3 columns]\n",
      ", 'accuracy': 0.5830866807610994}\n",
      "***********************************************************************************************************\n"
     ]
    }
   ],
   "source": [
    "train_data = group2.append(group3.append(group4).append(group1))\n",
    "test_data = group5\n",
    "m5 = gl.logistic_classifier.create(\n",
    "    train_data,\n",
    "    target='gender',\n",
    "    features = ['cg2'],\n",
    "    #class_weights={1:5,0:5},\n",
    "    max_iterations=3000)\n",
    "result1 = m1.evaluate(test_data)\n",
    "print '***********************************************************************************************************'\n",
    "result5 = m5.evaluate(test_data)\n",
    "print result5\n",
    "print '***********************************************************************************************************'\n",
    "predict5 = m5.predict(group5)\n",
    "mdata5 = group5.copy().add_column(gl.SArray(predict5))\n",
    "final_predict = final_predict.append(mdata5)"
   ]
  },
  {
   "cell_type": "code",
   "execution_count": 11,
   "metadata": {
    "collapsed": true
   },
   "outputs": [],
   "source": [
    "final_predict.save(r'E:\\Datasets2\\final_predictID.csv',format = 'csv')"
   ]
  },
  {
   "cell_type": "code",
   "execution_count": 13,
   "metadata": {
    "collapsed": false
   },
   "outputs": [
    {
     "data": {
      "text/html": [
       "<pre>Finished parsing file E:\\Datasets2\\final_predictID.csv</pre>"
      ],
      "text/plain": [
       "Finished parsing file E:\\Datasets2\\final_predictID.csv"
      ]
     },
     "metadata": {},
     "output_type": "display_data"
    },
    {
     "data": {
      "text/html": [
       "<pre>Parsing completed. Parsed 100 lines in 0.038132 secs.</pre>"
      ],
      "text/plain": [
       "Parsing completed. Parsed 100 lines in 0.038132 secs."
      ]
     },
     "metadata": {},
     "output_type": "display_data"
    },
    {
     "name": "stdout",
     "output_type": "stream",
     "text": [
      "------------------------------------------------------\n",
      "Inferred types from first 100 line(s) of file as \n",
      "column_type_hints=[str,long,list,long,long]\n",
      "If parsing fails due to incorrect types, you can correct\n",
      "the inferred type list above and pass it to read_csv in\n",
      "the column_type_hints argument\n",
      "------------------------------------------------------\n"
     ]
    },
    {
     "data": {
      "text/html": [
       "<pre>Finished parsing file E:\\Datasets2\\final_predictID.csv</pre>"
      ],
      "text/plain": [
       "Finished parsing file E:\\Datasets2\\final_predictID.csv"
      ]
     },
     "metadata": {},
     "output_type": "display_data"
    },
    {
     "data": {
      "text/html": [
       "<pre>Parsing completed. Parsed 11097 lines in 0.029305 secs.</pre>"
      ],
      "text/plain": [
       "Parsing completed. Parsed 11097 lines in 0.029305 secs."
      ]
     },
     "metadata": {},
     "output_type": "display_data"
    },
    {
     "name": "stdout",
     "output_type": "stream",
     "text": [
      "+--------------------------+--------+------------------------------------------------+\n",
      "|            id            | gender |                      cg2                       |\n",
      "+--------------------------+--------+------------------------------------------------+\n",
      "| ML6I15akB0Eq98c/o1BvYw== |   1    | [血压计, 血压计, 牙膏/牙粉, 血压计, 血压计...  |\n",
      "| p6HZygYh8r2iPPC6e4n2SA== |   1    | [男士钱包, 男士钱包, 太阳镜, 男士钱包, 男士... |\n",
      "| pZTw4YrKQRnV/APVRAljXA== |   1    |   [男表, 男表, 男表, 男表, 男表, 男表, 男...   |\n",
      "| d2RBTfKLswlBeJ+V6H2UmQ== |   1    |                     [香水]                     |\n",
      "| D9aAtlBF6t9iVN24JddgDg== |   1    |     [路由器, 山地车/公路车, 冰箱, 玛咖]...     |\n",
      "| 52ksy+k53725uaBR0bsClw== |   1    |   [手机, 手机, 游戏本, 手机, 手机, 手机, ...   |\n",
      "| rK4ab71LkQXxjnFzlDwGag== |   1    | [单肩/斜挎包, 单肩/斜挎包, 单肩/斜挎包, 单...  |\n",
      "| OfnycidHFtxAay69QjRPwg== |   1    | [休闲鞋, 日常护理, 洗衣机, 洗晒/熨烫, 商务...  |\n",
      "| CsQy6Z2qdxYCOskA8y1jMw== |   1    | [手机, 男士腰带/礼盒, 男士腰带/礼盒, 西服,...  |\n",
      "| 2vGwhcBa3Du4UDP9AFr5cw== |   1    |              [牛奶乳品, 牛奶乳品]              |\n",
      "+--------------------------+--------+------------------------------------------------+\n",
      "+--------+----+\n",
      "| random | X5 |\n",
      "+--------+----+\n",
      "|   1    | 1  |\n",
      "|   1    | 0  |\n",
      "|   1    | 1  |\n",
      "|   1    | 0  |\n",
      "|   1    | 1  |\n",
      "|   1    | 0  |\n",
      "|   1    | 0  |\n",
      "|   1    | 0  |\n",
      "|   1    | 1  |\n",
      "|   1    | 0  |\n",
      "+--------+----+\n",
      "[11097 rows x 5 columns]\n",
      "Note: Only the head of the SFrame is printed.\n",
      "You can use print_rows(num_rows=m, num_columns=n) to print more rows and columns.\n"
     ]
    }
   ],
   "source": [
    "data_for_details = gl.SFrame.read_csv(r'E:\\Datasets2\\final_predictID.csv', header = True, delimiter = ',')\n",
    "print data_for_details"
   ]
  },
  {
   "cell_type": "code",
   "execution_count": 14,
   "metadata": {
    "collapsed": false
   },
   "outputs": [
    {
     "data": {
      "text/html": [
       "<pre>Finished parsing file E:\\Datasets2\\training1.csv</pre>"
      ],
      "text/plain": [
       "Finished parsing file E:\\Datasets2\\training1.csv"
      ]
     },
     "metadata": {},
     "output_type": "display_data"
    },
    {
     "data": {
      "text/html": [
       "<pre>Parsing completed. Parsed 100 lines in 0.359164 secs.</pre>"
      ],
      "text/plain": [
       "Parsing completed. Parsed 100 lines in 0.359164 secs."
      ]
     },
     "metadata": {},
     "output_type": "display_data"
    },
    {
     "name": "stdout",
     "output_type": "stream",
     "text": [
      "------------------------------------------------------\n",
      "Inferred types from first 100 line(s) of file as \n",
      "column_type_hints=[str,str,str,str,long,str,str,long,long,str]\n",
      "If parsing fails due to incorrect types, you can correct\n",
      "the inferred type list above and pass it to read_csv in\n",
      "the column_type_hints argument\n",
      "------------------------------------------------------\n"
     ]
    },
    {
     "data": {
      "text/html": [
       "<pre>Finished parsing file E:\\Datasets2\\training1.csv</pre>"
      ],
      "text/plain": [
       "Finished parsing file E:\\Datasets2\\training1.csv"
      ]
     },
     "metadata": {},
     "output_type": "display_data"
    },
    {
     "data": {
      "text/html": [
       "<pre>Parsing completed. Parsed 189960 lines in 0.344749 secs.</pre>"
      ],
      "text/plain": [
       "Parsing completed. Parsed 189960 lines in 0.344749 secs."
      ]
     },
     "metadata": {},
     "output_type": "display_data"
    },
    {
     "name": "stdout",
     "output_type": "stream",
     "text": [
      "+--------------------------+--------+------------------------------------------------+\n",
      "|            id            | gender |                      cg2                       |\n",
      "+--------------------------+--------+------------------------------------------------+\n",
      "| aN6oZEGwXoPSmw4snlOGRw== |   0    |                [美容器, 美容器]                |\n",
      "| 21zzZT+VppeVwiw0vmqQHg== |   0    | [轮滑滑板, 轮滑滑板, 轮滑滑板, 轮滑滑板, 轮... |\n",
      "| ycCdZ2WzYTt2ReOWevG3EQ== |   1    |                      [门]                      |\n",
      "| 778S78u/wCVw25TxTMAxaw== |   0    |                [投影机, 投影机]                |\n",
      "| s8ngjR7TiQ9Nd0PVtLFiOA== |   0    | [防辐射服, 雨伞雨具, 防辐射服, 牛仔裤, 遮阳... |\n",
      "| AcXyKAkCKFgKO4UnQuGd6Q== |   0    |                   [儿童手表]                   |\n",
      "| iVY2fxFbittPKkBbtc+Eag== |   0    |  [米面杂粮, 米面杂粮, 米面杂粮, 米面杂粮]...   |\n",
      "| c+VKciyaO4Atc9rHmkyIzg== |   0    |   [厨房DIY/小工具, 厨房DIY/小工具, 厨房D...    |\n",
      "| L5coKwh+b3YzP8Gq4qrQKw== |   1    |                [毛巾浴巾, 手足]                |\n",
      "| rzCARYBqlNlWCW+AZ029Ag== |   0    |          [单肩/斜挎包, 休闲运动包]...          |\n",
      "+--------------------------+--------+------------------------------------------------+\n",
      "+--------+----+-------+\n",
      "| random | X5 | count |\n",
      "+--------+----+-------+\n",
      "|   1    | 0  |   1   |\n",
      "|   3    | 1  |   1   |\n",
      "|   2    | 0  |   1   |\n",
      "|   4    | 1  |   1   |\n",
      "|   1    | 0  |   6   |\n",
      "|   2    | 0  |   1   |\n",
      "|   4    | 1  |   1   |\n",
      "|   5    | 1  |   1   |\n",
      "|   3    | 0  |   2   |\n",
      "|   2    | 0  |   1   |\n",
      "+--------+----+-------+\n",
      "[11097 rows x 6 columns]\n",
      "Note: Only the head of the SFrame is printed.\n",
      "You can use print_rows(num_rows=m, num_columns=n) to print more rows and columns.\n"
     ]
    }
   ],
   "source": [
    "data0 = gl.SFrame.read_csv(r\"E:\\Datasets2\\training1.csv\", header = True, delimiter = ',')\n",
    "data0 = data0.groupby(['id'], operations = {'count': gl.aggregate.COUNT_DISTINCT('session_number'),\n",
    "                                               'gender': gl.aggregate.SELECT_ONE('gender')})\n",
    "data_for_details = data_for_details.join(data0, how = 'inner')\n",
    "print data_for_details"
   ]
  },
  {
   "cell_type": "code",
   "execution_count": 21,
   "metadata": {
    "collapsed": false
   },
   "outputs": [
    {
     "name": "stdout",
     "output_type": "stream",
     "text": [
      "+--------------------------+--------+------------------------------------------------+\n",
      "|            id            | gender |                      cg2                       |\n",
      "+--------------------------+--------+------------------------------------------------+\n",
      "| aN6oZEGwXoPSmw4snlOGRw== |   0    |                [美容器, 美容器]                |\n",
      "| 21zzZT+VppeVwiw0vmqQHg== |   0    | [轮滑滑板, 轮滑滑板, 轮滑滑板, 轮滑滑板, 轮... |\n",
      "| ycCdZ2WzYTt2ReOWevG3EQ== |   1    |                      [门]                      |\n",
      "| 778S78u/wCVw25TxTMAxaw== |   0    |                [投影机, 投影机]                |\n",
      "| s8ngjR7TiQ9Nd0PVtLFiOA== |   0    | [防辐射服, 雨伞雨具, 防辐射服, 牛仔裤, 遮阳... |\n",
      "| AcXyKAkCKFgKO4UnQuGd6Q== |   0    |                   [儿童手表]                   |\n",
      "| iVY2fxFbittPKkBbtc+Eag== |   0    |  [米面杂粮, 米面杂粮, 米面杂粮, 米面杂粮]...   |\n",
      "| c+VKciyaO4Atc9rHmkyIzg== |   0    |   [厨房DIY/小工具, 厨房DIY/小工具, 厨房D...    |\n",
      "| L5coKwh+b3YzP8Gq4qrQKw== |   1    |                [毛巾浴巾, 手足]                |\n",
      "| rzCARYBqlNlWCW+AZ029Ag== |   0    |          [单肩/斜挎包, 休闲运动包]...          |\n",
      "+--------------------------+--------+------------------------------------------------+\n",
      "+--------+----+-------+------------------+\n",
      "| random | X5 | count | predict_accuracy |\n",
      "+--------+----+-------+------------------+\n",
      "|   1    | 0  |   1   |        1         |\n",
      "|   3    | 1  |   1   |        0         |\n",
      "|   2    | 0  |   1   |        0         |\n",
      "|   4    | 1  |   1   |        0         |\n",
      "|   1    | 0  |   6   |        1         |\n",
      "|   2    | 0  |   1   |        1         |\n",
      "|   4    | 1  |   1   |        0         |\n",
      "|   5    | 1  |   1   |        0         |\n",
      "|   3    | 0  |   2   |        0         |\n",
      "|   2    | 0  |   1   |        1         |\n",
      "+--------+----+-------+------------------+\n",
      "[11097 rows x 7 columns]\n",
      "Note: Only the head of the SFrame is printed.\n",
      "You can use print_rows(num_rows=m, num_columns=n) to print more rows and columns.\n"
     ]
    }
   ],
   "source": [
    "def compute_accuracy(sf, count):\n",
    "    sf = sf[sf['count'] == count]\n",
    "    sf_t = sf[sf['predict_accuracy']==1]\n",
    "    sf_f = sf[sf['gender']==0]\n",
    "    sf_ft = sf_f[sf_f['predict_accuracy']==1]\n",
    "    sf_m = sf[sf['gender']==1]\n",
    "    sf_mt = sf_m[sf_m['predict_accuracy']==1]\n",
    "    print'****************************************************'\n",
    "    print len(sf_t),len(sf),len(sf_t)/float(len(sf)), \n",
    "    print len(sf_ft),len(sf_f), len(sf_ft)/float(len(sf_f)),\n",
    "    print len(sf_mt),len(sf_m),len(sf_mt)/float(len(sf_m))\n",
    "def pre_accuracy(x):\n",
    "    if x['X5']==x['gender']:\n",
    "        return 1\n",
    "    else:\n",
    "        return 0\n",
    "\n",
    "data_for_details['predict_accuracy']=0\n",
    "data_for_details['predict_accuracy']=data_for_details.apply(lambda x: pre_accuracy(x))\n",
    "print data_for_details"
   ]
  },
  {
   "cell_type": "code",
   "execution_count": 22,
   "metadata": {
    "collapsed": false
   },
   "outputs": [
    {
     "name": "stdout",
     "output_type": "stream",
     "text": [
      "****************************************************\n",
      "3837 6901 0.556006375888 2070 3571 0.579669560347 1767 3330 0.530630630631\n"
     ]
    }
   ],
   "source": [
    "compute_accuracy(data_for_details, 1)"
   ]
  },
  {
   "cell_type": "code",
   "execution_count": 23,
   "metadata": {
    "collapsed": false
   },
   "outputs": [
    {
     "name": "stdout",
     "output_type": "stream",
     "text": [
      "****************************************************\n",
      "393 701 0.56062767475 192 342 0.561403508772 201 359 0.559888579387\n",
      "****************************************************\n",
      "409 658 0.621580547112 168 289 0.581314878893 241 369 0.653116531165\n",
      "****************************************************\n",
      "232 383 0.605744125326 103 187 0.550802139037 129 196 0.658163265306\n",
      "****************************************************\n",
      "168 285 0.589473684211 78 136 0.573529411765 90 149 0.604026845638\n",
      "****************************************************\n",
      "140 230 0.608695652174 56 107 0.523364485981 84 123 0.682926829268\n",
      "****************************************************\n",
      "133 216 0.615740740741 49 86 0.56976744186 84 130 0.646153846154\n"
     ]
    }
   ],
   "source": [
    "compute_accuracy(data_for_details, 2)\n",
    "compute_accuracy(data_for_details, 3)\n",
    "compute_accuracy(data_for_details, 4)\n",
    "compute_accuracy(data_for_details, 5)\n",
    "compute_accuracy(data_for_details, 6)\n",
    "compute_accuracy(data_for_details, 7)"
   ]
  },
  {
   "cell_type": "code",
   "execution_count": 24,
   "metadata": {
    "collapsed": false
   },
   "outputs": [
    {
     "name": "stdout",
     "output_type": "stream",
     "text": [
      "****************************************************\n",
      "106 167 0.634730538922 56 84 0.666666666667 50 83 0.602409638554\n",
      "****************************************************\n",
      "73 135 0.540740740741 31 64 0.484375 42 71 0.591549295775\n",
      "****************************************************\n",
      "68 120 0.566666666667 25 51 0.490196078431 43 69 0.623188405797\n"
     ]
    }
   ],
   "source": [
    "compute_accuracy(data_for_details, 8)\n",
    "compute_accuracy(data_for_details, 9)\n",
    "compute_accuracy(data_for_details, 10)"
   ]
  },
  {
   "cell_type": "code",
   "execution_count": null,
   "metadata": {
    "collapsed": true
   },
   "outputs": [],
   "source": []
  }
 ],
 "metadata": {
  "kernelspec": {
   "display_name": "Python 2",
   "language": "python",
   "name": "python2"
  },
  "language_info": {
   "codemirror_mode": {
    "name": "ipython",
    "version": 2
   },
   "file_extension": ".py",
   "mimetype": "text/x-python",
   "name": "python",
   "nbconvert_exporter": "python",
   "pygments_lexer": "ipython2",
   "version": "2.7.11"
  }
 },
 "nbformat": 4,
 "nbformat_minor": 0
}
