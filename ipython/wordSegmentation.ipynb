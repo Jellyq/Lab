{
 "cells": [
  {
   "cell_type": "code",
   "execution_count": 1,
   "metadata": {
    "collapsed": false
   },
   "outputs": [
    {
     "name": "stdout",
     "output_type": "stream",
     "text": [
      "Using matplotlib backend: Qt4Agg\n",
      "Populating the interactive namespace from numpy and matplotlib\n"
     ]
    }
   ],
   "source": [
    "%pylab\n",
    "import jieba"
   ]
  },
  {
   "cell_type": "code",
   "execution_count": 2,
   "metadata": {
    "collapsed": false
   },
   "outputs": [],
   "source": [
    "input = open(r'E:\\Datasets2\\item_name.csv','r')\n",
    "output = open(r'E:\\Datasets\\word2vec\\segmentation.txt','w+')\n",
    "line = input.readline()\n",
    "#seg_list = jieba.cut(line, cut_all=True)\n",
    "#print(\"Full Mode: \" + \"/ \".join(seg_list))  # 全模式\n",
    "seg_list = jieba.cut(line, cut_all=False)\n",
    "#print(\"Default Mode: \" + \"/ \".join(seg_list))  # 精确模式\n",
    "#seg_list = jieba.cut_for_search(line)  # 搜索引擎模式\n",
    "#print(\", \".join(seg_list))"
   ]
  },
  {
   "cell_type": "code",
   "execution_count": 3,
   "metadata": {
    "collapsed": false
   },
   "outputs": [
    {
     "name": "stderr",
     "output_type": "stream",
     "text": [
      "Building prefix dict from the default dictionary ...\n",
      "Loading model from cache c:\\users\\jelly\\appdata\\local\\temp\\jieba.cache\n",
      "Loading model cost 0.330 seconds.\n",
      "Prefix dict has been built succesfully.\n"
     ]
    },
    {
     "name": "stdout",
     "output_type": "stream",
     "text": [
      "finished\n"
     ]
    }
   ],
   "source": [
    "for i in seg_list:\n",
    "    if i !='\\t' and i !='(' and i !=')':\n",
    "        output.write(i.encode('utf-8') + '/')\n",
    "print 'finished'\n",
    "output.close()"
   ]
  },
  {
   "cell_type": "code",
   "execution_count": 18,
   "metadata": {
    "collapsed": false
   },
   "outputs": [
    {
     "name": "stdout",
     "output_type": "stream",
     "text": [
      "<closed file 'E:\\\\Datasets\\\\word2vec\\\\segmentation.txt', mode 'w+' at 0x000000000739A9C0>\n"
     ]
    }
   ],
   "source": [
    "print output"
   ]
  },
  {
   "cell_type": "code",
   "execution_count": null,
   "metadata": {
    "collapsed": true
   },
   "outputs": [],
   "source": []
  },
  {
   "cell_type": "code",
   "execution_count": null,
   "metadata": {
    "collapsed": true
   },
   "outputs": [],
   "source": []
  }
 ],
 "metadata": {
  "kernelspec": {
   "display_name": "Python 2",
   "language": "python",
   "name": "python2"
  },
  "language_info": {
   "codemirror_mode": {
    "name": "ipython",
    "version": 2
   },
   "file_extension": ".py",
   "mimetype": "text/x-python",
   "name": "python",
   "nbconvert_exporter": "python",
   "pygments_lexer": "ipython2",
   "version": "2.7.11"
  }
 },
 "nbformat": 4,
 "nbformat_minor": 0
}
