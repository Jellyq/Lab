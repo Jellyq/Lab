{
 "cells": [
  {
   "cell_type": "code",
   "execution_count": 1,
   "metadata": {
    "collapsed": false
   },
   "outputs": [
    {
     "name": "stdout",
     "output_type": "stream",
     "text": [
      "Using matplotlib backend: Qt4Agg\n",
      "Populating the interactive namespace from numpy and matplotlib\n"
     ]
    }
   ],
   "source": [
    "%pylab\n",
    "%matplotlib inline\n",
    "import pandas as pd\n",
    "import numpy as np\n",
    "import graphlab as gl"
   ]
  },
  {
   "cell_type": "code",
   "execution_count": 2,
   "metadata": {
    "collapsed": false
   },
   "outputs": [
    {
     "name": "stdout",
     "output_type": "stream",
     "text": [
      "                   群名  群类别  群人数     消息数       稠密度       性别比       平均年龄  \\\n",
      "0               **手酒吧    1   63     315  0.051715  0.882353  26.681818   \n",
      "1               **秀嘉园    1   73       2  0.010274  0.579710  27.500000   \n",
      "2         **ˇ⒊無黒\\噵丶⒈群    1   73       4  0.024163  0.750000  23.415385   \n",
      "3         **海网管工作联系基地    1   91      14  0.006105  0.901639  29.409091   \n",
      "4     tbsgame.net/bbs    1  133    2112  0.011107  0.961832  30.319672   \n",
      "5          **拜DOTA粉丝群    1   85      91  0.035014  0.903614  26.112500   \n",
      "6               **踏联盟    1   60      22  0.038136  0.807692  29.738095   \n",
      "7               **手军团    1   74     115  0.086264  0.833333  26.313433   \n",
      "8             **度赤水贴吧    1   55    1940  0.091919  0.759259  24.415094   \n",
      "9             **涂鸦天津+    1   63      48  0.043779  0.838710  23.933333   \n",
      "10       ns万有引力--颓废1群    1   72     177  0.016041  0.873239  22.415385   \n",
      "11         **弟盟罗马战队总群    1  203    4615  0.019583  0.935323  28.200000   \n",
      "12            **我的领地③    1   81       5  0.005864  0.705128  27.909091   \n",
      "13         **游戏圈』市场销售    1   76       2  0.038772  0.788732  30.437500   \n",
      "14          **兽世界-兄弟盟    1   98       3  0.041658  0.819149  29.011111   \n",
      "15              **傲江湖    1  113     100  0.093078  0.779817  37.346535   \n",
      "16          **下易家人（一）    1  185      51  0.014600  0.859551  28.485714   \n",
      "17              **火重生    1   64      35  0.057788  0.870968  29.267857   \n",
      "18             **缘丨战团    1   51      12  0.019608  0.877551  24.536585   \n",
      "19          **∮龍嘯九天∮→    1  100      11  0.027475  0.753425  28.018868   \n",
      "20           **际の高手乐园    1   81      21  0.011883  0.932203  26.622222   \n",
      "21         **强撸基友团”教会    1  274  143763  0.004144  0.933824  21.931034   \n",
      "22       **西北CS竞技比赛群》    1  170      19  0.005082  0.773913  24.666667   \n",
      "23        JPOPPV-衣の国度    1   58      17  0.030853  0.870370  26.280000   \n",
      "24             **培集中营    1  110      36  0.009174  0.781250  27.098039   \n",
      "25         **国电梯论坛群十九    1   80      22  0.007753  0.822581  29.463415   \n",
      "26          **团休闲娱乐总群    1   51     525  0.054118  0.843137  17.693878   \n",
      "27            **洲澄海3C    1   63      14  0.063236  0.927273  25.066667   \n",
      "28             SD王者之师    1   72      62  0.020931  0.852459  22.307692   \n",
      "29            **界至尊魔族    1   52     309  0.038462  0.442308  23.700000   \n",
      "...               ...  ...  ...     ...       ...       ...        ...   \n",
      "2010      **力之店-马坡营业厅    5   69      83  0.063299  0.500000  25.467742   \n",
      "2011          **阳烹饪团队    5  127     647  0.022622  0.913386  25.721311   \n",
      "2012      **然气车用配件交易群    5  241     471  0.028562  0.899160  29.944681   \n",
      "2013            **航之家    5   96    1398  0.048026  0.882979  26.840426   \n",
      "2014      **泰电脑@手机商务群    5  234     145  0.061351  0.795652  28.848341   \n",
      "2015      **北孝感IT商家总群    5  182     603  0.099356  0.777778  29.088235   \n",
      "2016        **服网山东莘县站    5  326     197  0.003077  0.734177  24.899306   \n",
      "2017      **国江北玩具批发交流    5  242     132  0.010511  0.684685  31.238095   \n",
      "2018       **宝购物秒杀52群    5  100      24  0.011414  0.484536  21.904255   \n",
      "2019       **国地产成本精英群    5   94      48  0.023450  0.967742  33.840909   \n",
      "2020           **艇诚信圈    5  188    7228  0.044459  0.693548  29.747126   \n",
      "2021            **金模具    5   67     113  0.037313  0.835821  27.306452   \n",
      "2022      **好E世界海龙交流群    5  144     495  0.027681  0.727273  27.742188   \n",
      "2023          **岚家族12    5  195    1005  0.003912  0.910995  25.237838   \n",
      "2024      **人旧梦回不去的旧地    5   98    3721  0.031138  0.824742  19.946809   \n",
      "2025           **程象牙塔    5   73     508  0.058790  0.890411  26.500000   \n",
      "2026      **浦县保化单位管理群    5   79     294  0.019474  0.645570  34.885714   \n",
      "2027            **堡家园    5   60     161  0.168362  0.283333  27.166667   \n",
      "2028      360问答良医交流平台    5   57     214  0.083647  0.771930  23.880000   \n",
      "2029     **涵VIP股票投资7群    5  186     111  0.001918  0.694444  36.512658   \n",
      "2030     **国图书封面设计群19    5   64      22  0.031994  0.656250  27.377049   \n",
      "2031        **标键盘批发1群    5  285    1014  0.033988  0.756272  27.112000   \n",
      "2032      **阳数控设备维修群1    5  500    4652  0.001331  0.738255  26.623632   \n",
      "2033           **宝互刷群    5   61     176  0.082787  0.459016  25.816667   \n",
      "2034     **际电子回收IC－二群    5  177     220  0.022406  0.778409  25.668712   \n",
      "2035         **装营销与交流    5  211     181  0.012255  0.584541  28.330000   \n",
      "2036       **州马自达汽车配件    5  154      72  0.024191  0.888889  27.928571   \n",
      "2037          **售交流心得    5  120     445  0.002171  0.562500  25.723810   \n",
      "2038         PCB行业交流群    5   72      55  0.066315  0.549296  27.085714   \n",
      "2039        **星渠道room    5  112    1577  0.089929  0.805556  27.223301   \n",
      "\n",
      "            年龄差     地域集中度      手机比例  会话数     无回应比例      夜聊比例      图片比例  \n",
      "0      6.409413  0.222222  0.088889   23  0.434783  0.085714  0.069841  \n",
      "1      9.042524  0.406780  0.000000    2  1.000000  1.000000  0.000000  \n",
      "2      4.699893  0.287879  0.500000    4  1.000000  0.000000  0.250000  \n",
      "3      2.854965  0.340426  0.142857    7  1.000000  0.250000  0.000000  \n",
      "4      4.669866  0.110236  0.167140  327  0.532110  0.104640  0.037879  \n",
      "5      4.415863  0.617284  0.153846   30  0.700000  0.142857  0.065934  \n",
      "6      4.619109  0.357143  1.000000    4  0.500000  1.000000  0.045455  \n",
      "7      4.229283  0.228571  0.208696   20  0.550000  0.034783  0.026087  \n",
      "8      4.651776  0.745455  0.548969  193  0.414508  0.238783  0.017526  \n",
      "9      4.456705  0.716667  0.208333   18  0.722222  0.083333  0.000000  \n",
      "10     4.495784  0.119403  0.175141   19  0.842105  0.327684  0.005650  \n",
      "11     5.077620  0.577540  0.044854  546  0.496337  0.300108  0.058072  \n",
      "12     6.828477  0.127660  0.400000    3  1.000000  0.600000  0.000000  \n",
      "13     3.166598  0.246154  0.000000    1  1.000000  0.000000  0.000000  \n",
      "14     4.034558  0.354839  0.000000    2  1.000000  0.666667  0.000000  \n",
      "15     3.708261  0.121495  0.120000   31  0.612903  0.000000  0.030000  \n",
      "16     6.161500  0.307263  0.352941   31  0.838710  0.156863  0.058824  \n",
      "17     4.454096  0.125000  0.457143   11  0.636364  0.057143  0.028571  \n",
      "18     4.585755  0.195122  0.166667    8  0.875000  0.083333  0.083333  \n",
      "19     7.901494  0.259259  0.272727    6  0.833333  0.636364  0.272727  \n",
      "20     4.600912  0.212766  0.000000    5  1.000000  0.000000  0.000000  \n",
      "21     4.715166  0.776119  0.157447  306  0.209150  0.242586  0.201610  \n",
      "22     6.438969  0.397727  0.263158   14  0.928571  0.166667  0.000000  \n",
      "23     6.803058  0.300000  0.294118    4  0.500000  0.000000  0.000000  \n",
      "24     5.545728  0.113208  0.138889   12  1.000000  0.028571  0.000000  \n",
      "25     6.600434  0.190476  0.000000   12  1.000000  0.090909  0.000000  \n",
      "26     3.137685  0.367347  0.243810   35  0.542857  0.158095  0.007619  \n",
      "27     8.525517  0.734694  0.214286    7  0.857143  0.714286  0.000000  \n",
      "28     5.249683  0.377358  0.080645   21  0.809524  0.225806  0.096774  \n",
      "29     3.163858  0.196078  0.158576   42  0.690476  0.090615  0.003236  \n",
      "...         ...       ...       ...  ...       ...       ...       ...  \n",
      "2010   5.983088  0.855072  0.289157   16  0.375000  0.579545  0.096386  \n",
      "2011   4.625769  0.928571  0.904173  208  0.774038  0.184406  0.010819  \n",
      "2012   8.437576  0.327801  0.138004   70  0.557143  0.031847  0.016985  \n",
      "2013   5.895009  0.385417  0.071531   74  0.500000  0.121255  0.013591  \n",
      "2014   6.154083  0.955947  0.020690  111  0.891892  0.013889  0.006897  \n",
      "2015   6.016485  0.939560  0.006633  245  0.767347  0.003339  0.001658  \n",
      "2016   5.092914  0.689655  0.126904   87  0.885057  0.260274  0.000000  \n",
      "2017   7.436748  0.573991  0.053030   70  0.800000  0.098485  0.007576  \n",
      "2018   4.877367  0.210526  0.083333   13  1.000000  0.409091  0.000000  \n",
      "2019   6.440085  0.170213  0.000000   13  0.461538  0.020833  0.020833  \n",
      "2020   6.344005  0.409574  0.149834  353  0.430595  0.086999  0.004566  \n",
      "2021   5.667077  0.746269  0.008850   23  0.782609  0.061947  0.053097  \n",
      "2022   4.905746  0.846715  0.000000  242  0.673554  0.002020  0.000000  \n",
      "2023   6.693093  0.128866  0.192040   66  0.363636  0.298775  0.010945  \n",
      "2024   3.963576  0.591837  0.527546   79  0.240506  0.280103  0.002956  \n",
      "2025   5.783117  0.493151  0.401575   23  0.478261  0.070450  0.009843  \n",
      "2026   9.056242  0.973684  0.051020   91  0.615385  0.163265  0.003401  \n",
      "2027   7.547995  0.983333  0.726708   52  0.596154  0.054878  0.124224  \n",
      "2028   3.314453  0.370370  0.014019   52  0.673077  0.014019  0.037383  \n",
      "2029  11.145038  0.087500  0.018018   26  0.576923  0.017699  0.000000  \n",
      "2030   7.924157  0.147541  0.045455   18  0.944444  0.000000  0.000000  \n",
      "2031   5.006741  0.738351  0.020710  449  0.530067  0.076087  0.118343  \n",
      "2032   6.279637  0.178794  0.306965  574  0.501742  0.121477  0.031384  \n",
      "2033   5.711076  0.266667  0.000000  132  0.856061  0.244318  0.028409  \n",
      "2034   5.652574  0.693182  0.086364  149  0.852349  0.180995  0.059091  \n",
      "2035   6.844056  0.345972  0.044199  127  0.881890  0.165746  0.000000  \n",
      "2036   6.306055  0.572368  0.305556   46  0.826087  0.138889  0.083333  \n",
      "2037   7.243382  0.264957  0.042697   71  0.774648  0.016949  0.004494  \n",
      "2038   4.142956  0.704225  0.272727   21  0.619048  0.000000  0.000000  \n",
      "2039   6.041816  0.392523  0.002536  373  0.552279  0.033608  0.000000  \n",
      "\n",
      "[2040 rows x 14 columns]\n"
     ]
    }
   ],
   "source": [
    "df = pd.read_excel(r'E:\\Datasets2\\data.xlsx', sheet_name = 'Sheet1')\n",
    "print df"
   ]
  },
  {
   "cell_type": "code",
   "execution_count": 3,
   "metadata": {
    "collapsed": false
   },
   "outputs": [
    {
     "name": "stdout",
     "output_type": "stream",
     "text": [
      "<class 'pandas.core.series.Series'>\n"
     ]
    }
   ],
   "source": [
    "avr_age = df[u'平均年龄']\n",
    "print type(avr_age)"
   ]
  },
  {
   "cell_type": "code",
   "execution_count": 4,
   "metadata": {
    "collapsed": false
   },
   "outputs": [
    {
     "name": "stdout",
     "output_type": "stream",
     "text": [
      "[ 26.68181818  27.5         23.41538462 ...,  25.72380952  27.08571429\n",
      "  27.22330097]\n"
     ]
    }
   ],
   "source": [
    "avrAge = np.array(avr_age)\n",
    "print avrAge"
   ]
  },
  {
   "cell_type": "code",
   "execution_count": 5,
   "metadata": {
    "collapsed": false
   },
   "outputs": [
    {
     "data": {
      "text/plain": [
       "[<matplotlib.lines.Line2D at 0x1d66ab38>]"
      ]
     },
     "execution_count": 5,
     "metadata": {},
     "output_type": "execute_result"
    },
    {
     "data": {
      "image/png": "[encoded data removed]",
      "text/plain": [
       "<matplotlib.figure.Figure at 0x71b9f98>"
      ]
     },
     "metadata": {},
     "output_type": "display_data"
    }
   ],
   "source": [
    "'''\n",
    "from scipy.stats import gaussian_kde\n",
    "def kde_scipy(x, x_grid, bandwidth, **kwargs):\n",
    "    \"\"\"Kernel Density Estimation with Scipy\"\"\"\n",
    "    # Note that scipy weights its bandwidth by the covariance of the\n",
    "    # input data.  To make the results comparable to the other methods,\n",
    "    # we divide the bandwidth by the sample standard deviation here.\n",
    "    kde = gaussian_kde(x, bw_method=bandwidth / x.std(ddof=1), **kwargs)\n",
    "    return kde.evaluate(x_grid)\n",
    "x_grid = np.linspace(min(avrAge), max(avrAge), 10000)\n",
    "pdf = kde_scipy(avrAge, x_grid, bandwidth = 2)\n",
    "import matplotlib.pyplot as plt\n",
    "fig, ax = plt.subplots(1, 1, sharey=True,\n",
    "                       figsize=(13, 3))\n",
    "fig.subplots_adjust(wspace=0)\n",
    "ax.plot(x_grid, pdf, color='blue', alpha=0.5, lw=3)\n",
    "'''"
   ]
  },
  {
   "cell_type": "code",
   "execution_count": 6,
   "metadata": {
    "collapsed": false
   },
   "outputs": [
    {
     "name": "stdout",
     "output_type": "stream",
     "text": [
      "{'bandwidth': 13.097826087}\n"
     ]
    }
   ],
   "source": [
    "from sklearn.neighbors import KernelDensity\n",
    "def kde_sklearn(x, x_grid, bandwidth, **kwargs):\n",
    "    \"\"\"Kernel Density Estimation with Scikit-learn\"\"\"\n",
    "    kde_skl = KernelDensity(bandwidth=bandwidth, **kwargs)\n",
    "    kde_skl.fit(x[:, np.newaxis])\n",
    "    # score_samples() returns the log-likelihood of the samples\n",
    "    log_pdf = kde_skl.score_samples(x_grid[:, np.newaxis])\n",
    "    return np.exp(log_pdf)\n",
    "import sklearn\n",
    "#from sklearn.grid_search import GridSearchCV\n",
    "#grid = GridSearchCV(KernelDensity(),\n",
    "#                    {'bandwidth': np.linspace(min(avrAge), max(avrAge), 200)},\n",
    "#                    cv=20) # 20-fold cross-validation\n",
    "#grid.fit(avrAge[:, None])\n",
    "#print grid.best_params_"
   ]
  },
  {
   "cell_type": "code",
   "execution_count": 162,
   "metadata": {
    "collapsed": false
   },
   "outputs": [
    {
     "data": {
      "text/plain": [
       "<matplotlib.text.Text at 0x22d5cc50>"
      ]
     },
     "execution_count": 162,
     "metadata": {},
     "output_type": "execute_result"
    },
    {
     "data": {
      "image/png": "[encoded data removed]",
      "text/plain": [
       "<matplotlib.figure.Figure at 0x2239c898>"
      ]
     },
     "metadata": {},
     "output_type": "display_data"
    }
   ],
   "source": [
    "#kde = grid.best_estimator_\n",
    "#pdf = np.exp(kde.score_samples(x_grid[:, None]))\n",
    "\n",
    "#画出col[7]的pdf\n",
    "\n",
    "x_grid = np.linspace(min(avrAge), max(avrAge), 10000)\n",
    "pdf = kde_sklearn(avrAge, x_grid, bandwidth = 1)\n",
    "\n",
    "fig, ax = plt.subplots()\n",
    "ax.plot(x_grid, pdf, linewidth=3, alpha=0.5, label='bw=%.1f' % 1)\n",
    "#ax.hist(avrAge, 30, fc='gray', histtype='stepfilled', alpha=0.3, normed=True)\n",
    "ax.legend(loc='upper left')\n",
    "ax.set_xlim(min(avrAge)-5, max(avrAge)+5);\n",
    "ax.set_title('Col[7]:probability density function')\n",
    "ax.set_xlabel('average age')\n",
    "ax.set_ylabel('probability')"
   ]
  },
  {
   "cell_type": "code",
   "execution_count": 16,
   "metadata": {
    "collapsed": false
   },
   "outputs": [
    {
     "data": {
      "text/plain": [
       "NormaltestResult(statistic=24.479341544296894, pvalue=4.8348001102946654e-06)"
      ]
     },
     "execution_count": 16,
     "metadata": {},
     "output_type": "execute_result"
    }
   ],
   "source": [
    "#test the normality of Col[7]\n",
    "from scipy.stats import normaltest\n",
    "normaltest(avrAge, None, 'omit')"
   ]
  },
  {
   "cell_type": "code",
   "execution_count": 26,
   "metadata": {
    "collapsed": false
   },
   "outputs": [],
   "source": [
    "group1 = df[df[u'群类别']==1]\n",
    "group2 = df[df[u'群类别']==2]\n",
    "group3 = df[df[u'群类别']==3]\n",
    "group4 = df[df[u'群类别']==4]\n",
    "group5 = df[df[u'群类别']==5]"
   ]
  },
  {
   "cell_type": "code",
   "execution_count": 27,
   "metadata": {
    "collapsed": true
   },
   "outputs": [],
   "source": [
    "age1 = np.array(group1[u'平均年龄'])\n",
    "age2 = np.array(group2[u'平均年龄'])\n",
    "age3 = np.array(group3[u'平均年龄'])\n",
    "age4 = np.array(group4[u'平均年龄'])\n",
    "age5 = np.array(group5[u'平均年龄'])"
   ]
  },
  {
   "cell_type": "code",
   "execution_count": 28,
   "metadata": {
    "collapsed": false
   },
   "outputs": [
    {
     "name": "stdout",
     "output_type": "stream",
     "text": [
      "7.95994294603 0.0186861723903\n",
      "5.51322664066 0.0635064806804\n",
      "2.99611793761 0.223563683355\n",
      "15.0812272153 0.000531071652163\n",
      "90.5023380462 2.22672709451e-20\n"
     ]
    }
   ],
   "source": [
    "def test_normality(a):\n",
    "    s, p = normaltest(a, None, 'omit')\n",
    "    print s, p\n",
    "test_normality(age1)\n",
    "test_normality(age2)\n",
    "test_normality(age3)\n",
    "test_normality(age4)\n",
    "test_normality(age5)"
   ]
  },
  {
   "cell_type": "code",
   "execution_count": 33,
   "metadata": {
    "collapsed": true
   },
   "outputs": [],
   "source": [
    "#检验方差分布\n",
    "def std_ratio(a1, a2, a3, a4, a5):\n",
    "    s1 = np.std(a1)\n",
    "    s2 = np.std(a2)\n",
    "    s3 = np.std(a3)\n",
    "    s4 = np.std(a4)\n",
    "    s5 = np.std(a5)\n",
    "    ratio = float(max(s1, s2, s3, s4, s5))/ min(s1, s2, s3, s4, s5)\n",
    "    print ratio\n",
    "    if ratio > 2:\n",
    "        print \"does not match anova assumption\"\n",
    "    else:\n",
    "        print \"match anova assumption\""
   ]
  },
  {
   "cell_type": "code",
   "execution_count": 34,
   "metadata": {
    "collapsed": false
   },
   "outputs": [
    {
     "name": "stdout",
     "output_type": "stream",
     "text": [
      "2.04551837158\n",
      "does not match anova assumption\n"
     ]
    }
   ],
   "source": [
    "std_ratio(age1, age2, age3, age4, age5)"
   ]
  },
  {
   "cell_type": "code",
   "execution_count": 36,
   "metadata": {
    "collapsed": false
   },
   "outputs": [
    {
     "data": {
      "text/plain": [
       "F_onewayResult(statistic=171.50703270711966, pvalue=1.0820916064752822e-126)"
      ]
     },
     "execution_count": 36,
     "metadata": {},
     "output_type": "execute_result"
    }
   ],
   "source": [
    "#one-way anova\n",
    "from scipy.stats import f_oneway\n",
    "a = [5,6,6,7,7,8,9,10]\n",
    "b = [7,7,8,9,9,10,10,11]\n",
    "c = [7,9,9,10,10,10,11,12,13]\n",
    "f_oneway(age1, age2, age3, age4, age5)"
   ]
  },
  {
   "cell_type": "markdown",
   "metadata": {},
   "source": [
    "## 由于平均年龄不符合正态分布，方差也不齐，故进行log变换，然后anova"
   ]
  },
  {
   "cell_type": "code",
   "execution_count": 91,
   "metadata": {
    "collapsed": false
   },
   "outputs": [
    {
     "name": "stdout",
     "output_type": "stream",
     "text": [
      "4.615611089 0.0994793151367\n",
      "0.139809411749 0.932482675793\n",
      "1.84175518776 0.398169456631\n",
      "5.66072039821 0.0589916011201\n",
      "33.2409527377 6.05088398802e-08\n"
     ]
    }
   ],
   "source": [
    "from scipy.stats import boxcox\n",
    "log1 = boxcox(age1, 0.7, None)\n",
    "log2 = boxcox(age2, 1.7, None)\n",
    "log3 = boxcox(age3, 1.7, None)\n",
    "log4 = boxcox(age4, 0.7, None)\n",
    "log5 = boxcox(age5, 2.67, None)\n",
    "#检验log变换后的数据是否符合正太分布\n",
    "test_normality(log1)\n",
    "test_normality(log2)\n",
    "test_normality(log3)\n",
    "test_normality(log4)\n",
    "test_normality(log5)"
   ]
  },
  {
   "cell_type": "code",
   "execution_count": 92,
   "metadata": {
    "collapsed": false
   },
   "outputs": [
    {
     "data": {
      "text/plain": [
       "0.99325177301028345"
      ]
     },
     "execution_count": 92,
     "metadata": {},
     "output_type": "execute_result"
    }
   ],
   "source": [
    "np.log(2.7)"
   ]
  },
  {
   "cell_type": "code",
   "execution_count": 103,
   "metadata": {
    "collapsed": true
   },
   "outputs": [],
   "source": [
    "#另选三列：性别比，年龄差、地域集中度\n",
    "def get_array(df, s):\n",
    "    a = np.array(df[s])\n",
    "    return a\n",
    "def get_nparray(df, s):\n",
    "    group1 = df[df[u'群类别']==1]\n",
    "    group2 = df[df[u'群类别']==2]\n",
    "    group3 = df[df[u'群类别']==3]\n",
    "    group4 = df[df[u'群类别']==4]\n",
    "    group5 = df[df[u'群类别']==5]\n",
    "    a1 = np.array(group1[s])\n",
    "    a2 = np.array(group2[s])\n",
    "    a3 = np.array(group3[s])\n",
    "    a4 = np.array(group4[s])\n",
    "    a5 = np.array(group5[s])\n",
    "    return a1, a2, a3, a4, a5\n",
    "a = get_array(df, u'性别比')\n",
    "a1,a2,a3,a4,a5 = get_nparray(df, u'性别比')"
   ]
  },
  {
   "cell_type": "code",
   "execution_count": 140,
   "metadata": {
    "collapsed": true
   },
   "outputs": [],
   "source": [
    "def draw_pdf(array, bandwidth,i, xlabel):\n",
    "    x_grid = np.linspace(min(array), max(array), 10000)\n",
    "    pdf = kde_sklearn(array, x_grid, bandwidth)\n",
    "\n",
    "    fig, ax = plt.subplots()\n",
    "    ax.plot(x_grid, pdf, linewidth=3, alpha=0.5, label='bw=%.1f' % bandwidth)\n",
    "    #ax.hist(a, 30, fc='gray', histtype='stepfilled', alpha=0.3, normed=False)\n",
    "    ax.legend(loc='upper left')\n",
    "    ax.set_xlim(min(array)-1, max(array)+1);\n",
    "    ax.set_title('Col[' + str(i) + ']:probability density function')\n",
    "    ax.set_xlabel(xlabel)\n",
    "    ax.set_ylabel('probability')"
   ]
  },
  {
   "cell_type": "code",
   "execution_count": 149,
   "metadata": {
    "collapsed": false
   },
   "outputs": [
    {
     "data": {
      "image/png": "[encoded data removed]",
      "text/plain": [
       "<matplotlib.figure.Figure at 0x22cb0048>"
      ]
     },
     "metadata": {},
     "output_type": "display_data"
    }
   ],
   "source": [
    "draw_pdf(a, 0.1, 6, 'gender ratio')"
   ]
  },
  {
   "cell_type": "code",
   "execution_count": 144,
   "metadata": {
    "collapsed": false
   },
   "outputs": [
    {
     "data": {
      "image/png": "[encoded data removed]",
      "text/plain": [
       "<matplotlib.figure.Figure at 0x22d52240>"
      ]
     },
     "metadata": {},
     "output_type": "display_data"
    }
   ],
   "source": [
    "b = get_array(df, u'年龄差')\n",
    "draw_pdf(b, 0.5, 8, 'age gap')#抽风的hist"
   ]
  },
  {
   "cell_type": "code",
   "execution_count": 148,
   "metadata": {
    "collapsed": false
   },
   "outputs": [
    {
     "data": {
      "image/png": "[encoded data removed]",
      "text/plain": [
       "<matplotlib.figure.Figure at 0x223d53c8>"
      ]
     },
     "metadata": {},
     "output_type": "display_data"
    }
   ],
   "source": [
    "c = get_array(df, u'地域集中度')\n",
    "draw_pdf(c, 0.1, 9, 'area concentration degree')"
   ]
  },
  {
   "cell_type": "code",
   "execution_count": 152,
   "metadata": {
    "collapsed": false
   },
   "outputs": [
    {
     "name": "stdout",
     "output_type": "stream",
     "text": [
      "45.4036935158 1.38265307562e-10\n",
      "25.9447352046 2.32365866826e-06\n",
      "11.4148318126 0.00332124387095\n",
      "20.7890282102 3.05998911843e-05\n",
      "122.089269771 3.08071781057e-27\n",
      "2.06116295588\n",
      "does not match anova assumption\n"
     ]
    }
   ],
   "source": [
    "test_normality(a1)\n",
    "test_normality(a2)\n",
    "test_normality(a3)\n",
    "test_normality(a4)\n",
    "test_normality(a5)\n",
    "std_ratio(a1, a2, a3, a4, a5)"
   ]
  },
  {
   "cell_type": "code",
   "execution_count": 153,
   "metadata": {
    "collapsed": false
   },
   "outputs": [
    {
     "name": "stdout",
     "output_type": "stream",
     "text": [
      "60.3045388223 8.03592320691e-14\n",
      "0.0315450598637 0.984351205026\n",
      "21.1914919455 2.50222288851e-05\n",
      "84.6511425724 4.15181455435e-19\n",
      "30.3953692229 2.51032201942e-07\n",
      "1.58827897854\n",
      "match anova assumption\n"
     ]
    }
   ],
   "source": [
    "b1, b2, b3, b4, b5 = get_nparray(df, u'年龄差')\n",
    "test_normality(b1)\n",
    "test_normality(b2)\n",
    "test_normality(b3)\n",
    "test_normality(b4)\n",
    "test_normality(b5)\n",
    "std_ratio(b1, b2, b3, b4, b5)"
   ]
  },
  {
   "cell_type": "code",
   "execution_count": 154,
   "metadata": {
    "collapsed": false
   },
   "outputs": [
    {
     "name": "stdout",
     "output_type": "stream",
     "text": [
      "85.698632937 2.45911197348e-19\n",
      "534.415334284 8.9781041264e-117\n",
      "81.787061761 1.73846196368e-18\n",
      "50.8892154286 8.90322349505e-12\n",
      "0.350770311521 0.839133761319\n",
      "1.91375116748\n",
      "match anova assumption\n"
     ]
    }
   ],
   "source": [
    "c1, c2, c3, c4, c5 = get_nparray(df, u'地域集中度')\n",
    "test_normality(c1)\n",
    "test_normality(c2)\n",
    "test_normality(c3)\n",
    "test_normality(c4)\n",
    "test_normality(c5)\n",
    "std_ratio(c1, c2, c3, c4, c5)"
   ]
  },
  {
   "cell_type": "code",
   "execution_count": 155,
   "metadata": {
    "collapsed": false
   },
   "outputs": [
    {
     "name": "stdout",
     "output_type": "stream",
     "text": [
      "117.113019863 3.7087781624e-26\n",
      "2.20617678649 0.331844632749\n",
      "2.1498880641 0.341316857572\n"
     ]
    }
   ],
   "source": [
    "test_normality(a)\n",
    "test_normality(b)\n",
    "test_normality(c)"
   ]
  },
  {
   "cell_type": "code",
   "execution_count": 159,
   "metadata": {
    "collapsed": false
   },
   "outputs": [
    {
     "name": "stdout",
     "output_type": "stream",
     "text": [
      "198.152069693 9.37183809507e-44\n",
      "165.174851077 1.35749054714e-36\n",
      "75.9405515428 3.23384169421e-17\n",
      "nan nan\n",
      "563.596446416 4.13605828878e-123\n"
     ]
    }
   ],
   "source": [
    "test_normality(np.log(a1))\n",
    "test_normality(np.log(a2))\n",
    "test_normality(np.log(a3))\n",
    "test_normality(np.log(a4))\n",
    "test_normality(np.log(a5))"
   ]
  },
  {
   "cell_type": "code",
   "execution_count": 160,
   "metadata": {
    "collapsed": false
   },
   "outputs": [
    {
     "name": "stdout",
     "output_type": "stream",
     "text": [
      "108.048285375 3.44836271986e-24\n",
      "139.483321557 5.14732470302e-31\n",
      "1.68946315498 0.429672676551\n",
      "137.1305219 1.66911215231e-30\n",
      "378.602358908 6.13115570182e-83\n"
     ]
    }
   ],
   "source": [
    "test_normality(np.log(b1))\n",
    "test_normality(np.log(b2))\n",
    "test_normality(np.log(b3))\n",
    "test_normality(np.log(b4))\n",
    "test_normality(np.log(b5))"
   ]
  },
  {
   "cell_type": "code",
   "execution_count": 161,
   "metadata": {
    "collapsed": false
   },
   "outputs": [
    {
     "name": "stdout",
     "output_type": "stream",
     "text": [
      "2686.54663168 0.0\n",
      "696.447081811 5.86729218108e-152\n",
      "167.715753525 3.81054292253e-37\n",
      "97.8326309345 5.70051532493e-22\n",
      "72.4469450899 1.85500787804e-16\n"
     ]
    }
   ],
   "source": [
    "test_normality(np.log(c1))\n",
    "test_normality(np.log(c2))\n",
    "test_normality(np.log(c3))\n",
    "test_normality(np.log(c4))\n",
    "test_normality(np.log(c5))"
   ]
  },
  {
   "cell_type": "code",
   "execution_count": null,
   "metadata": {
    "collapsed": true
   },
   "outputs": [],
   "source": []
  }
 ],
 "metadata": {
  "kernelspec": {
   "display_name": "Python 2",
   "language": "python",
   "name": "python2"
  },
  "language_info": {
   "codemirror_mode": {
    "name": "ipython",
    "version": 2
   },
   "file_extension": ".py",
   "mimetype": "text/x-python",
   "name": "python",
   "nbconvert_exporter": "python",
   "pygments_lexer": "ipython2",
   "version": "2.7.11"
  }
 },
 "nbformat": 4,
 "nbformat_minor": 0
}
