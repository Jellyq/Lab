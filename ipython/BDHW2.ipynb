{
 "cells": [
  {
   "cell_type": "code",
   "execution_count": 1,
   "metadata": {
    "collapsed": false
   },
   "outputs": [
    {
     "name": "stdout",
     "output_type": "stream",
     "text": [
      "Using matplotlib backend: Qt4Agg\n",
      "Populating the interactive namespace from numpy and matplotlib\n"
     ]
    }
   ],
   "source": [
    "%pylab\n",
    "%matplotlib inline\n",
    "import graphlab as gl\n",
    "import numpy as np"
   ]
  },
  {
   "cell_type": "markdown",
   "metadata": {},
   "source": [
    "## 数据清洗\n",
    "- 初期进行输入读入的时候，发现一些数据无法读入。仔细查看发现一些电影的名称里面有逗号，而不同的column之间的分隔符也是逗号。故此先将分隔符换成'\\t'\n",
    "\n",
    "- 坑啊，为什么清洗之后id前边会有一个逗号？建议查一下，顺便输出改行d"
   ]
  },
  {
   "cell_type": "code",
   "execution_count": 13,
   "metadata": {
    "collapsed": false
   },
   "outputs": [],
   "source": [
    "file = open(r'E:\\Datasets2\\movie_titles.txt', 'r')\n",
    "output = open(r'E:\\Datasets2\\clean_movTitles.txt', 'w+')\n",
    "#while 1:\n",
    "#    lines = file.readlines(100000)\n",
    "#    if not lines:\n",
    "#        break\n",
    "for line in file:\n",
    "    content = line.split(',')\n",
    "    if len(content)==3:\n",
    "        output.write(content[0] + '\\t' + content[1] + '\\t' + content[2])\n",
    "    else:\n",
    "        n = len(content)\n",
    "        s = ''\n",
    "        for i in xrange(n):\n",
    "            if i < 2:\n",
    "                s = s + content[i] + '\\t'\n",
    "            else:\n",
    "                s = s + content[i] + ','\n",
    "        output.write(s)"
   ]
  },
  {
   "cell_type": "code",
   "execution_count": 9,
   "metadata": {
    "collapsed": false
   },
   "outputs": [
    {
     "name": "stdout",
     "output_type": "stream",
     "text": [
      "5\n"
     ]
    }
   ],
   "source": [
    "s = ''\n",
    "print len(s + 'heheh')"
   ]
  },
  {
   "cell_type": "code",
   "execution_count": 6,
   "metadata": {
    "collapsed": false
   },
   "outputs": [
    {
     "data": {
      "text/html": [
       "<pre>Unable to parse line \"2598,2005,Baby Einstein: On the Go: Riding, Sailing and Soaring\"</pre>"
      ],
      "text/plain": [
       "Unable to parse line \"2598,2005,Baby Einstein: On the Go: Riding, Sailing and Soaring\""
      ]
     },
     "metadata": {},
     "output_type": "display_data"
    },
    {
     "data": {
      "text/html": [
       "<pre>Unable to parse line \"7767,2000,O Brother, Where Art Thou?\"</pre>"
      ],
      "text/plain": [
       "Unable to parse line \"7767,2000,O Brother, Where Art Thou?\""
      ]
     },
     "metadata": {},
     "output_type": "display_data"
    },
    {
     "data": {
      "text/html": [
       "<pre>Unable to parse line \"2625,2002,Dragon Tales: Yes, We Can!\"</pre>"
      ],
      "text/plain": [
       "Unable to parse line \"2625,2002,Dragon Tales: Yes, We Can!\""
      ]
     },
     "metadata": {},
     "output_type": "display_data"
    },
    {
     "data": {
      "text/html": [
       "<pre>Unable to parse line \"5223,1999,Girl, Interrupted\"</pre>"
      ],
      "text/plain": [
       "Unable to parse line \"5223,1999,Girl, Interrupted\""
      ]
     },
     "metadata": {},
     "output_type": "display_data"
    },
    {
     "data": {
      "text/html": [
       "<pre>Unable to parse line \"72,1974,At Home Among Strangers, A Stranger Among His Own\"</pre>"
      ],
      "text/plain": [
       "Unable to parse line \"72,1974,At Home Among Strangers, A Stranger Among His Own\""
      ]
     },
     "metadata": {},
     "output_type": "display_data"
    },
    {
     "data": {
      "text/html": [
       "<pre>Unable to parse line \"12850,2003,Love, Sex & Eating the Bones\"</pre>"
      ],
      "text/plain": [
       "Unable to parse line \"12850,2003,Love, Sex & Eating the Bones\""
      ]
     },
     "metadata": {},
     "output_type": "display_data"
    },
    {
     "data": {
      "text/html": [
       "<pre>Unable to parse line \"10321,1975,Upstairs, Downstairs: Season 5\"</pre>"
      ],
      "text/plain": [
       "Unable to parse line \"10321,1975,Upstairs, Downstairs: Season 5\""
      ]
     },
     "metadata": {},
     "output_type": "display_data"
    },
    {
     "data": {
      "text/html": [
       "<pre>Unable to parse line \"15333,1999,Samurai X: Trust and Betrayal, Director's Cut\"</pre>"
      ],
      "text/plain": [
       "Unable to parse line \"15333,1999,Samurai X: Trust and Betrayal, Director's Cut\""
      ]
     },
     "metadata": {},
     "output_type": "display_data"
    },
    {
     "data": {
      "text/html": [
       "<pre>Unable to parse line \"2628,1999,Now and Then, Here and There: Vol. 1: Discord and Doom\"</pre>"
      ],
      "text/plain": [
       "Unable to parse line \"2628,1999,Now and Then, Here and There: Vol. 1: Discord and Doom\""
      ]
     },
     "metadata": {},
     "output_type": "display_data"
    },
    {
     "data": {
      "text/html": [
       "<pre>Unable to parse line \"7834,2002,Video Visits: Merida, Cancun and Belize\"</pre>"
      ],
      "text/plain": [
       "Unable to parse line \"7834,2002,Video Visits: Merida, Cancun and Belize\""
      ]
     },
     "metadata": {},
     "output_type": "display_data"
    },
    {
     "data": {
      "text/html": [
       "<pre>Unable to parse line \"12880,2001,Mitr, My Friend\"</pre>"
      ],
      "text/plain": [
       "Unable to parse line \"12880,2001,Mitr, My Friend\""
      ]
     },
     "metadata": {},
     "output_type": "display_data"
    },
    {
     "data": {
      "text/html": [
       "<pre>336 lines failed to parse correctly</pre>"
      ],
      "text/plain": [
       "336 lines failed to parse correctly"
      ]
     },
     "metadata": {},
     "output_type": "display_data"
    },
    {
     "data": {
      "text/html": [
       "<pre>Finished parsing file E:\\Datasets2\\movie_titles.txt</pre>"
      ],
      "text/plain": [
       "Finished parsing file E:\\Datasets2\\movie_titles.txt"
      ]
     },
     "metadata": {},
     "output_type": "display_data"
    },
    {
     "data": {
      "text/html": [
       "<pre>Parsing completed. Parsed 17434 lines in 0.031085 secs.</pre>"
      ],
      "text/plain": [
       "Parsing completed. Parsed 17434 lines in 0.031085 secs."
      ]
     },
     "metadata": {},
     "output_type": "display_data"
    }
   ],
   "source": [
    "movie_title  = gl.SFrame.read_csv(r'E:\\Datasets2\\movie_titles.txt', delimiter = ',', header = None, column_type_hints=[str,str,str])"
   ]
  },
  {
   "cell_type": "code",
   "execution_count": 4,
   "metadata": {
    "collapsed": false
   },
   "outputs": [
    {
     "name": "stdout",
     "output_type": "stream",
     "text": [
      "+----+------+--------------------------------+\n",
      "| 1  | 2003 |        Dinosaur Planet         |\n",
      "+----+------+--------------------------------+\n",
      "| 2  | 2004 |   Isle of Man TT 2004 Review   |\n",
      "| 3  | 1997 |           Character            |\n",
      "| 4  | 1994 |  Paula Abdul's Get Up & Dance  |\n",
      "| 5  | 2004 |    The Rise and Fall of ECW    |\n",
      "| 6  | 1997 |              Sick              |\n",
      "| 7  | 1992 |             8 Man              |\n",
      "| 8  | 2004 |   What the #$*! Do We Know!?   |\n",
      "| 9  | 1991 |    Class of Nuke 'Em High 2    |\n",
      "| 10 | 2001 |            Fighter             |\n",
      "| 11 | 1999 | Full Frame: Documentary Shorts |\n",
      "+----+------+--------------------------------+\n",
      "[17426 rows x 3 columns]\n",
      "Note: Only the head of the SFrame is printed.\n",
      "You can use print_rows(num_rows=m, num_columns=n) to print more rows and columns.\n"
     ]
    }
   ],
   "source": [
    "print movie_title"
   ]
  },
  {
   "cell_type": "code",
   "execution_count": null,
   "metadata": {
    "collapsed": true
   },
   "outputs": [],
   "source": []
  }
 ],
 "metadata": {
  "kernelspec": {
   "display_name": "Python 2",
   "language": "python",
   "name": "python2"
  },
  "language_info": {
   "codemirror_mode": {
    "name": "ipython",
    "version": 2
   },
   "file_extension": ".py",
   "mimetype": "text/x-python",
   "name": "python",
   "nbconvert_exporter": "python",
   "pygments_lexer": "ipython2",
   "version": "2.7.11"
  }
 },
 "nbformat": 4,
 "nbformat_minor": 0
}
