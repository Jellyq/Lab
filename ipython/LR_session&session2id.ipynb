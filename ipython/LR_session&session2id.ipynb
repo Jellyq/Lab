{
 "cells": [
  {
   "cell_type": "code",
   "execution_count": 1,
   "metadata": {
    "collapsed": false,
    "scrolled": true
   },
   "outputs": [
    {
     "name": "stdout",
     "output_type": "stream",
     "text": [
      "Using matplotlib backend: Qt4Agg\n",
      "Populating the interactive namespace from numpy and matplotlib\n"
     ]
    },
    {
     "name": "stderr",
     "output_type": "stream",
     "text": [
      "[INFO] graphlab.cython.cy_server: GraphLab Create v2.1 started. Logging: C:\\Users\\Jelly\\AppData\\Local\\Temp\\graphlab_server_1477569497.log.0\n"
     ]
    },
    {
     "name": "stdout",
     "output_type": "stream",
     "text": [
      "This non-commercial license of GraphLab Create for academic use is assigned to qyr16@mails.tsinghua.edu.cn and will expire on September 05, 2017.\n"
     ]
    },
    {
     "data": {
      "text/html": [
       "<pre>Finished parsing file E:\\Datasets2\\training1.csv</pre>"
      ],
      "text/plain": [
       "Finished parsing file E:\\Datasets2\\training1.csv"
      ]
     },
     "metadata": {},
     "output_type": "display_data"
    },
    {
     "data": {
      "text/html": [
       "<pre>Parsing completed. Parsed 100 lines in 0.345382 secs.</pre>"
      ],
      "text/plain": [
       "Parsing completed. Parsed 100 lines in 0.345382 secs."
      ]
     },
     "metadata": {},
     "output_type": "display_data"
    },
    {
     "name": "stdout",
     "output_type": "stream",
     "text": [
      "------------------------------------------------------\n",
      "Inferred types from first 100 line(s) of file as \n",
      "column_type_hints=[str,str,str,str,long,str,str,long,long,str]\n",
      "If parsing fails due to incorrect types, you can correct\n",
      "the inferred type list above and pass it to read_csv in\n",
      "the column_type_hints argument\n",
      "------------------------------------------------------\n"
     ]
    },
    {
     "data": {
      "text/html": [
       "<pre>Finished parsing file E:\\Datasets2\\training1.csv</pre>"
      ],
      "text/plain": [
       "Finished parsing file E:\\Datasets2\\training1.csv"
      ]
     },
     "metadata": {},
     "output_type": "display_data"
    },
    {
     "data": {
      "text/html": [
       "<pre>Parsing completed. Parsed 189960 lines in 0.346606 secs.</pre>"
      ],
      "text/plain": [
       "Parsing completed. Parsed 189960 lines in 0.346606 secs."
      ]
     },
     "metadata": {},
     "output_type": "display_data"
    }
   ],
   "source": [
    "%pylab\n",
    "%matplotlib inline\n",
    "import graphlab as gl\n",
    "data = gl.SFrame.read_csv(r'E:\\Datasets2\\training1.csv', delimiter = ',', header = True)"
   ]
  },
  {
   "cell_type": "code",
   "execution_count": 2,
   "metadata": {
    "collapsed": false
   },
   "outputs": [],
   "source": [
    "import graphlab.aggregate as agg\n",
    "data = data.groupby(['session_number'], operations = {'gender': agg.SELECT_ONE('gender'),\n",
    "                                                     'cg2': agg.CONCAT('cg2')})\n",
    "data['random'] = 0\n",
    "male_raw = data[data['gender'] == 1]\n",
    "female_raw = data[data['gender'] == 0]"
   ]
  },
  {
   "cell_type": "code",
   "execution_count": 3,
   "metadata": {
    "collapsed": false
   },
   "outputs": [],
   "source": [
    "import random\n",
    "male_raw['random'] = male_raw.apply(lambda x: random.randrange(1,6,1))\n",
    "female_raw['random'] = female_raw.apply(lambda x: random.randrange(1, 6, 1))\n",
    "random_check = female_raw[female_raw['random']==1]"
   ]
  },
  {
   "cell_type": "code",
   "execution_count": 4,
   "metadata": {
    "collapsed": false
   },
   "outputs": [
    {
     "name": "stdout",
     "output_type": "stream",
     "text": [
      "+--------------------------------+--------+--------------------+--------+\n",
      "|         session_number         | gender |        cg2         | random |\n",
      "+--------------------------------+--------+--------------------+--------+\n",
      "| Lt3iIB8nR3CiLhYFxxcGEQ==,43076 |   1    |     [电压力锅]     |   1    |\n",
      "| tel/fdndph7y67XS3TADSA==,1...  |   1    |  [电脑桌, 电脑桌]  |   1    |\n",
      "| H35kV+oYJwUCytTc5aXHTg==,33282 |   1    |      [保鲜盒]      |   1    |\n",
      "| u4IN93sCIFNW9n1bH8Hl0g==,1...  |   1    | [手机, 手机, 手机] |   1    |\n",
      "| e+KGX6LJa3A+qWGnb9CDUw==,74450 |   1    |      [理发器]      |   1    |\n",
      "| +gHQ9lVr1oe8biXGtH8h3g==,1412  |   1    |       [其他]       |   1    |\n",
      "| 0SJl3fNyUfS2LiUZg90d9w==,4393  |   1    |      [跑步鞋]      |   1    |\n",
      "| rX4h0hnyVINw6OpROxM8WA==,98999 |   1    |     [苹果配件]     |   1    |\n",
      "| A/JxJ85wBxbWFlp4UJxFyw==,21005 |   1    |      [针织衫]      |   1    |\n",
      "| dW4mJ1ilS88on2KJb0X23Q==,73789 |   1    |       [空调]       |   1    |\n",
      "+--------------------------------+--------+--------------------+--------+\n",
      "[13317 rows x 4 columns]\n",
      "Note: Only the head of the SFrame is printed.\n",
      "You can use print_rows(num_rows=m, num_columns=n) to print more rows and columns.\n"
     ]
    }
   ],
   "source": [
    "percentage = len(female_raw[female_raw['random']==1])/float(len(male_raw[male_raw['random']==1]))\n",
    "male_traffic = male_raw[male_raw['random']==1].sample(percentage,seed=1)\n",
    "female_traffic = female_raw[female_raw['random']==1]\n",
    "group1 = male_traffic.append(female_traffic)\n",
    "print group1"
   ]
  },
  {
   "cell_type": "code",
   "execution_count": 5,
   "metadata": {
    "collapsed": false
   },
   "outputs": [
    {
     "name": "stdout",
     "output_type": "stream",
     "text": [
      "+--------------------------------+--------+-------------------------------------------+\n",
      "|         session_number         | gender |                    cg2                    |\n",
      "+--------------------------------+--------+-------------------------------------------+\n",
      "| q1MlX2U6202CP4t2rVC5nw==,96681 |   1    |                [手机, 手机]               |\n",
      "| RbWXCD9lrBGJP2gOlTE0Yw==,53013 |   1    |            [早教启智, 早教启智]           |\n",
      "| Ocvelx0HZaadihTaX2lJnQ==,48072 |   1    |     [救援装备, 救援装备, 救援装备]...     |\n",
      "| iuJyD6eeRn5mnl2na3Xx+Q==,83352 |   1    |                 [情趣内衣]                |\n",
      "| tYSQm06DFQLoB9hq63vrlg==,1...  |   1    |                [窗帘/窗纱]                |\n",
      "| /VCakgk7LddL46ijNuIPcQ==,2687  |   1    | [吸奶器, 儿童餐具, 食物存储, 食物存储]... |\n",
      "| AN0EZOjuMiyrrj5gkw+yqQ==,21822 |   1    |                 [蓝牙耳机]                |\n",
      "| LYWLJW5DwI2XRQJFthV0VQ==,42529 |   1    |                 [男式内裤]                |\n",
      "| PyqycJ10B1QnhLL6i8hBHw==,50300 |   1    |                   [T恤]                   |\n",
      "| 9AHfzq6R6W7fZvD0agmB5A==,19774 |   1    |              [其他中小型器材]             |\n",
      "+--------------------------------+--------+-------------------------------------------+\n",
      "+--------+\n",
      "| random |\n",
      "+--------+\n",
      "|   2    |\n",
      "|   2    |\n",
      "|   2    |\n",
      "|   2    |\n",
      "|   2    |\n",
      "|   2    |\n",
      "|   2    |\n",
      "|   2    |\n",
      "|   2    |\n",
      "|   2    |\n",
      "+--------+\n",
      "[12496 rows x 4 columns]\n",
      "Note: Only the head of the SFrame is printed.\n",
      "You can use print_rows(num_rows=m, num_columns=n) to print more rows and columns.\n"
     ]
    }
   ],
   "source": [
    "percentage = len(female_raw[female_raw['random']==2])/float(len(male_raw[male_raw['random']==2]))\n",
    "male_traffic = male_raw[male_raw['random']==2].sample(percentage,seed=1)\n",
    "female_traffic = female_raw[female_raw['random']==2]\n",
    "group2 = male_traffic.append(female_traffic)\n",
    "print group2"
   ]
  },
  {
   "cell_type": "markdown",
   "metadata": {
    "collapsed": false
   },
   "source": [
    "result = model.evaluate(test_data)\n",
    "result\n",
    "predict = model.predict(test_data)\n",
    "predict\n",
    "mdata = test_data.add_column(gl.SArray(predict))\n",
    "mdata.rename({\"X5\":\"predict_gender\"})\n",
    "mdata.remove_column(\"is_male\")\n",
    "mdata\n",
    "def compute_accuracy(x):\n",
    "    count = 0\n",
    "    true = 0\n",
    "    for i in x:\n",
    "        if i['gender'] == i['predict_gender']:\n",
    "            true = true + 1\n",
    "        count = count + 1\n",
    "    return true * 1.0 / count\n",
    "acc = compute_accuracy(mdata)\n",
    "acc\n",
    "mdata = mdata.sort('session_number')\n",
    "print mdata\n",
    "mdata['session_number'] = mdata.apply(lambda x: x['session_number'].split(',')[0])\n",
    "mdata.rename({'session_number':'id'})\n",
    "print mdata\n",
    "data_merging = mdata.groupby(['id'],{'gender':gl.aggregate.SELECT_ONE('gender'), 'cg12_dict':gl.aggregate.SELECT_ONE('cg12_dict'),'predict_gender':gl.aggregate.AVG('predict_gender')})\n",
    "print data_merging\n",
    "def predict_accuracy(x):\n",
    "    if abs(x['gender'] - x['predict_gender']) < 0.5:\n",
    "        return 1\n",
    "    elif abs(x['gender'] - x['predict_gender']) > 0.5:\n",
    "        return 0\n",
    "    else:\n",
    "        return -1\n",
    "data_merging['predict_accuracy'] = data_merging.apply(lambda x: predict_accuracy(x))\n",
    "print data_merging\n",
    "gender_uncertain = data_merging.filter_by(-1,'predict_accuracy')\n",
    "gender_true = data_merging.filter_by(1,'predict_accuracy')\n",
    "gender_false = data_merging.filter_by(0,'predict_accuracy')\n",
    "print gender_uncertain\n",
    "print gender_true\n",
    "print gender_false"
   ]
  },
  {
   "cell_type": "code",
   "execution_count": 6,
   "metadata": {
    "collapsed": false
   },
   "outputs": [
    {
     "name": "stdout",
     "output_type": "stream",
     "text": [
      "+--------------------------------+--------+----------------------+--------+\n",
      "|         session_number         | gender |         cg2          | random |\n",
      "+--------------------------------+--------+----------------------+--------+\n",
      "| 5ikyMm8bbtyrchveitV/oQ==,13637 |   1    |       [小西装]       |   3    |\n",
      "| GvurE7R1k5gJ2U5Ne7DOpA==,33001 |   1    |        [手机]        |   3    |\n",
      "| 2W+wI25xwkNWJpqHVKRCJg==,8133  |   1    |      [手机耳机]      |   3    |\n",
      "| iT2c/s+i5Na2iakPGKqYnQ==,82292 |   1    | [冲饮谷物, 冲饮谷物] |   3    |\n",
      "| ZVfHkagjrvz1dSXs79Q72Q==,66406 |   1    |       [休闲鞋]       |   3    |\n",
      "| 0yFeIzTvY2HHgZHO62yigQ==,5269  |   1    |      [肉干肉脯]      |   3    |\n",
      "| sWZiQx0o46r4l9uVwzwQsw==,1...  |   1    |      [平板电视]      |   3    |\n",
      "| 0yFeIzTvY2HHgZHO62yigQ==,5266  |   1    |      [坚果炒货]      |   3    |\n",
      "| hKOqiHiHEVtNwB5jYUdj5g==,80104 |   1    |  [洋酒, 酒杯/酒具]   |   3    |\n",
      "| pDCIjf7A36G20wv9bRE2Hg==,94306 |   1    |        [男表]        |   3    |\n",
      "+--------------------------------+--------+----------------------+--------+\n",
      "[10329 rows x 4 columns]\n",
      "Note: Only the head of the SFrame is printed.\n",
      "You can use print_rows(num_rows=m, num_columns=n) to print more rows and columns.\n"
     ]
    }
   ],
   "source": [
    "percentage = len(female_raw[female_raw['random']==3])/float(len(male_raw[male_raw['random']==3]))\n",
    "male_traffic = male_raw[male_raw['random']==3].sample(percentage,seed=1)\n",
    "female_traffic = female_raw[female_raw['random']==3]\n",
    "group3 = male_traffic.append(female_traffic)\n",
    "print group3"
   ]
  },
  {
   "cell_type": "code",
   "execution_count": 7,
   "metadata": {
    "collapsed": false
   },
   "outputs": [
    {
     "name": "stdout",
     "output_type": "stream",
     "text": [
      "+--------------------------------+--------+------------------------------------------------+\n",
      "|         session_number         | gender |                      cg2                       |\n",
      "+--------------------------------+--------+------------------------------------------------+\n",
      "| PfeaaQ5/9Rim5G7MrXNmxQ==,49971 |   1    |          [行车记录仪, 行车记录仪]...           |\n",
      "| DAQ5lS8tNv50VCOtsEemug==,27342 |   1    |                    [显示器]                    |\n",
      "| SL1LQOEEMQuW57d7qLd6Mg==,54238 |   1    |                  [机油, 机油]                  |\n",
      "| s6GIh4boC8zH+ciM305C6A==,99865 |   1    |   [机器人, 创意玩具, 创意玩具, 创意玩具]...    |\n",
      "| vQw57rlI72gpUwTX8l9LPg==,1...  |   1    |                   [速干衣裤]                   |\n",
      "| cVyxZsq9tLcZuAC1jPdMSg==,72169 |   1    |                     [手机]                     |\n",
      "| zLGQex4frHcYLXrYGmU7yA==,1...  |   1    | [观叶植物, 观叶植物, 饼干蛋糕, 手提包, 观叶... |\n",
      "| iIUCVkFG9MVv3t61z3S/tw==,81985 |   1    |                   [卡通周边]                   |\n",
      "| AMBRfFy1PZscQO6H7QR2Ug==,21668 |   1    |                   [骑行装备]                   |\n",
      "| 2mKuEDqwuN5GgEOnSNjlwg==,8963  |   1    |                [缝纫/针织用品]                 |\n",
      "+--------------------------------+--------+------------------------------------------------+\n",
      "+--------+\n",
      "| random |\n",
      "+--------+\n",
      "|   4    |\n",
      "|   4    |\n",
      "|   4    |\n",
      "|   4    |\n",
      "|   4    |\n",
      "|   4    |\n",
      "|   4    |\n",
      "|   4    |\n",
      "|   4    |\n",
      "|   4    |\n",
      "+--------+\n",
      "[10334 rows x 4 columns]\n",
      "Note: Only the head of the SFrame is printed.\n",
      "You can use print_rows(num_rows=m, num_columns=n) to print more rows and columns.\n"
     ]
    }
   ],
   "source": [
    "percentage = len(female_raw[female_raw['random']==4])/float(len(male_raw[male_raw['random']==4]))\n",
    "male_traffic = male_raw[male_raw['random']==4].sample(percentage,seed=1)\n",
    "female_traffic = female_raw[female_raw['random']==4]\n",
    "group4 = male_traffic.append(female_traffic)\n",
    "print group4"
   ]
  },
  {
   "cell_type": "code",
   "execution_count": 8,
   "metadata": {
    "collapsed": false
   },
   "outputs": [
    {
     "name": "stdout",
     "output_type": "stream",
     "text": [
      "+--------------------------------+--------+------------------------------------------------+\n",
      "|         session_number         | gender |                      cg2                       |\n",
      "+--------------------------------+--------+------------------------------------------------+\n",
      "| 5Kr6bivNpiBrNnMU9OBY7A==,13308 |   1    | [平板电视, 平板电视, 平板电视, 平板电视, 平... |\n",
      "| TTScDVGxjvGkRgCzjlR5Rw==,56634 |   1    |              [智能手表, 平板电视]              |\n",
      "| R3gmZZC/kA/BxHbjFgNNpQ==,52465 |   1    |                     [男表]                     |\n",
      "| Aj28N5Mm8yif0yvvqbt4Ig==,22257 |   1    |                  [音箱/音响]                   |\n",
      "| Nxmxcg5vibvr9W345xllWQ==,46758 |   1    |                   [胎压监测]                   |\n",
      "| ynbUn2Bio+2ahSUUTVBP+Q==,1...  |   1    |         [通俗说史, 企业管理与培训]...          |\n",
      "| fmJgNXaEzxkep/56bsH4IA==,77347 |   1    |                  [养生, 养生]                  |\n",
      "| 7558XaxCEFAy1II1J46EXQ==,16333 |   1    |  [浮漂鱼饵, 男用器具, 鱼竿鱼线, 浮漂鱼饵]...   |\n",
      "| dJUD2W0587CsvO65ZtHPtw==,73469 |   1    |              [牛奶乳品, 牛奶乳品]              |\n",
      "| vMqm6eCla4NQfzRpPAx1rg==,1...  |   1    |                  [键盘, 键盘]                  |\n",
      "+--------------------------------+--------+------------------------------------------------+\n",
      "+--------+\n",
      "| random |\n",
      "+--------+\n",
      "|   5    |\n",
      "|   5    |\n",
      "|   5    |\n",
      "|   5    |\n",
      "|   5    |\n",
      "|   5    |\n",
      "|   5    |\n",
      "|   5    |\n",
      "|   5    |\n",
      "|   5    |\n",
      "+--------+\n",
      "[8655 rows x 4 columns]\n",
      "Note: Only the head of the SFrame is printed.\n",
      "You can use print_rows(num_rows=m, num_columns=n) to print more rows and columns.\n"
     ]
    }
   ],
   "source": [
    "percentage = len(female_raw[female_raw['random']==5])/float(len(male_raw[male_raw['random']==5]))\n",
    "male_traffic = male_raw[male_raw['random']==5].sample(percentage,seed=1)\n",
    "female_traffic = female_raw[female_raw['random']==5]\n",
    "group5 = male_traffic.append(female_traffic)\n",
    "print group5"
   ]
  },
  {
   "cell_type": "code",
   "execution_count": 9,
   "metadata": {
    "collapsed": false
   },
   "outputs": [
    {
     "name": "stdout",
     "output_type": "stream",
     "text": [
      "PROGRESS: Creating a validation set from 5 percent of training data. This may take a while.\n",
      "          You can set ``validation_set=None`` to disable validation tracking.\n",
      "\n"
     ]
    },
    {
     "data": {
      "text/html": [
       "<pre>Logistic regression:</pre>"
      ],
      "text/plain": [
       "Logistic regression:"
      ]
     },
     "metadata": {},
     "output_type": "display_data"
    },
    {
     "data": {
      "text/html": [
       "<pre>--------------------------------------------------------</pre>"
      ],
      "text/plain": [
       "--------------------------------------------------------"
      ]
     },
     "metadata": {},
     "output_type": "display_data"
    },
    {
     "data": {
      "text/html": [
       "<pre>Number of examples          : 39680</pre>"
      ],
      "text/plain": [
       "Number of examples          : 39680"
      ]
     },
     "metadata": {},
     "output_type": "display_data"
    },
    {
     "data": {
      "text/html": [
       "<pre>Number of classes           : 2</pre>"
      ],
      "text/plain": [
       "Number of classes           : 2"
      ]
     },
     "metadata": {},
     "output_type": "display_data"
    },
    {
     "data": {
      "text/html": [
       "<pre>Number of feature columns   : 1</pre>"
      ],
      "text/plain": [
       "Number of feature columns   : 1"
      ]
     },
     "metadata": {},
     "output_type": "display_data"
    },
    {
     "data": {
      "text/html": [
       "<pre>Number of unpacked features : 1</pre>"
      ],
      "text/plain": [
       "Number of unpacked features : 1"
      ]
     },
     "metadata": {},
     "output_type": "display_data"
    },
    {
     "data": {
      "text/html": [
       "<pre>Number of coefficients    : 1383</pre>"
      ],
      "text/plain": [
       "Number of coefficients    : 1383"
      ]
     },
     "metadata": {},
     "output_type": "display_data"
    },
    {
     "data": {
      "text/html": [
       "<pre>Starting L-BFGS</pre>"
      ],
      "text/plain": [
       "Starting L-BFGS"
      ]
     },
     "metadata": {},
     "output_type": "display_data"
    },
    {
     "data": {
      "text/html": [
       "<pre>--------------------------------------------------------</pre>"
      ],
      "text/plain": [
       "--------------------------------------------------------"
      ]
     },
     "metadata": {},
     "output_type": "display_data"
    },
    {
     "data": {
      "text/html": [
       "<pre>+-----------+----------+-----------+--------------+-------------------+---------------------+</pre>"
      ],
      "text/plain": [
       "+-----------+----------+-----------+--------------+-------------------+---------------------+"
      ]
     },
     "metadata": {},
     "output_type": "display_data"
    },
    {
     "data": {
      "text/html": [
       "<pre>| Iteration | Passes   | Step size | Elapsed Time | Training-accuracy | Validation-accuracy |</pre>"
      ],
      "text/plain": [
       "| Iteration | Passes   | Step size | Elapsed Time | Training-accuracy | Validation-accuracy |"
      ]
     },
     "metadata": {},
     "output_type": "display_data"
    },
    {
     "data": {
      "text/html": [
       "<pre>+-----------+----------+-----------+--------------+-------------------+---------------------+</pre>"
      ],
      "text/plain": [
       "+-----------+----------+-----------+--------------+-------------------+---------------------+"
      ]
     },
     "metadata": {},
     "output_type": "display_data"
    },
    {
     "data": {
      "text/html": [
       "<pre>| 1         | 4        | 0.000126  | 1.051410     | 0.664466          | 0.636364            |</pre>"
      ],
      "text/plain": [
       "| 1         | 4        | 0.000126  | 1.051410     | 0.664466          | 0.636364            |"
      ]
     },
     "metadata": {},
     "output_type": "display_data"
    },
    {
     "data": {
      "text/html": [
       "<pre>| 2         | 6        | 1.000000  | 1.083464     | 0.665272          | 0.632615            |</pre>"
      ],
      "text/plain": [
       "| 2         | 6        | 1.000000  | 1.083464     | 0.665272          | 0.632615            |"
      ]
     },
     "metadata": {},
     "output_type": "display_data"
    },
    {
     "data": {
      "text/html": [
       "<pre>| 3         | 7        | 1.000000  | 1.106532     | 0.665675          | 0.634958            |</pre>"
      ],
      "text/plain": [
       "| 3         | 7        | 1.000000  | 1.106532     | 0.665675          | 0.634958            |"
      ]
     },
     "metadata": {},
     "output_type": "display_data"
    },
    {
     "data": {
      "text/html": [
       "<pre>| 4         | 8        | 1.000000  | 1.124573     | 0.665953          | 0.634489            |</pre>"
      ],
      "text/plain": [
       "| 4         | 8        | 1.000000  | 1.124573     | 0.665953          | 0.634489            |"
      ]
     },
     "metadata": {},
     "output_type": "display_data"
    },
    {
     "data": {
      "text/html": [
       "<pre>| 5         | 9        | 1.000000  | 1.144626     | 0.665499          | 0.635426            |</pre>"
      ],
      "text/plain": [
       "| 5         | 9        | 1.000000  | 1.144626     | 0.665499          | 0.635426            |"
      ]
     },
     "metadata": {},
     "output_type": "display_data"
    },
    {
     "data": {
      "text/html": [
       "<pre>| 6         | 10       | 1.000000  | 1.165684     | 0.665247          | 0.635895            |</pre>"
      ],
      "text/plain": [
       "| 6         | 10       | 1.000000  | 1.165684     | 0.665247          | 0.635895            |"
      ]
     },
     "metadata": {},
     "output_type": "display_data"
    },
    {
     "data": {
      "text/html": [
       "<pre>| 11        | 15       | 1.000000  | 1.256018     | 0.664743          | 0.634958            |</pre>"
      ],
      "text/plain": [
       "| 11        | 15       | 1.000000  | 1.256018     | 0.664743          | 0.634958            |"
      ]
     },
     "metadata": {},
     "output_type": "display_data"
    },
    {
     "data": {
      "text/html": [
       "<pre>| 50        | 57       | 1.000000  | 2.043108     | 0.664919          | 0.634489            |</pre>"
      ],
      "text/plain": [
       "| 50        | 57       | 1.000000  | 2.043108     | 0.664919          | 0.634489            |"
      ]
     },
     "metadata": {},
     "output_type": "display_data"
    },
    {
     "data": {
      "text/html": [
       "<pre>| 51        | 58       | 1.000000  | 2.076662     | 0.664945          | 0.634489            |</pre>"
      ],
      "text/plain": [
       "| 51        | 58       | 1.000000  | 2.076662     | 0.664945          | 0.634489            |"
      ]
     },
     "metadata": {},
     "output_type": "display_data"
    },
    {
     "data": {
      "text/html": [
       "<pre>| 100       | 129      | 1.000000  | 3.241259     | 0.664919          | 0.634021            |</pre>"
      ],
      "text/plain": [
       "| 100       | 129      | 1.000000  | 3.241259     | 0.664919          | 0.634021            |"
      ]
     },
     "metadata": {},
     "output_type": "display_data"
    },
    {
     "data": {
      "text/html": [
       "<pre>| 101       | 131      | 1.000000  | 3.278185     | 0.664919          | 0.634958            |</pre>"
      ],
      "text/plain": [
       "| 101       | 131      | 1.000000  | 3.278185     | 0.664919          | 0.634958            |"
      ]
     },
     "metadata": {},
     "output_type": "display_data"
    },
    {
     "data": {
      "text/html": [
       "<pre>| 150       | 202      | 1.000000  | 4.437258     | 0.664919          | 0.634489            |</pre>"
      ],
      "text/plain": [
       "| 150       | 202      | 1.000000  | 4.437258     | 0.664919          | 0.634489            |"
      ]
     },
     "metadata": {},
     "output_type": "display_data"
    },
    {
     "data": {
      "text/html": [
       "<pre>| 200       | 273      | 1.000000  | 5.639300     | 0.664919          | 0.634489            |</pre>"
      ],
      "text/plain": [
       "| 200       | 273      | 1.000000  | 5.639300     | 0.664919          | 0.634489            |"
      ]
     },
     "metadata": {},
     "output_type": "display_data"
    },
    {
     "data": {
      "text/html": [
       "<pre>+-----------+----------+-----------+--------------+-------------------+---------------------+</pre>"
      ],
      "text/plain": [
       "+-----------+----------+-----------+--------------+-------------------+---------------------+"
      ]
     },
     "metadata": {},
     "output_type": "display_data"
    },
    {
     "data": {
      "text/html": [
       "<pre>SUCCESS: Optimal solution found.</pre>"
      ],
      "text/plain": [
       "SUCCESS: Optimal solution found."
      ]
     },
     "metadata": {},
     "output_type": "display_data"
    },
    {
     "data": {
      "text/html": [
       "<pre></pre>"
      ],
      "text/plain": []
     },
     "metadata": {},
     "output_type": "display_data"
    },
    {
     "name": "stdout",
     "output_type": "stream",
     "text": [
      "***********************************************************************************************************\n",
      "{'f1_score': 0.6572742955721679, 'auc': 0.686664847764374, 'recall': 0.6831017480950247, 'precision': 0.6333287158886273, 'log_loss': 0.6834883748371874, 'roc_curve': Columns:\n",
      "\tthreshold\tfloat\n",
      "\tfpr\tfloat\n",
      "\ttpr\tfloat\n",
      "\tp\tint\n",
      "\tn\tint\n",
      "\n",
      "Rows: 100001\n",
      "\n",
      "Data:\n",
      "+-----------+----------------+----------------+------+------+\n",
      "| threshold |      fpr       |      tpr       |  p   |  n   |\n",
      "+-----------+----------------+----------------+------+------+\n",
      "|    0.0    |      1.0       |      1.0       | 6693 | 6624 |\n",
      "|   1e-05   | 0.988677536232 | 0.997908262364 | 6693 | 6624 |\n",
      "|   2e-05   | 0.986564009662 | 0.996712983714 | 6693 | 6624 |\n",
      "|   3e-05   | 0.985960144928 | 0.996563573883 | 6693 | 6624 |\n",
      "|   4e-05   | 0.985960144928 | 0.996563573883 | 6693 | 6624 |\n",
      "|   5e-05   | 0.985960144928 | 0.996563573883 | 6693 | 6624 |\n",
      "|   6e-05   | 0.985960144928 | 0.996563573883 | 6693 | 6624 |\n",
      "|   7e-05   | 0.985960144928 | 0.996414164052 | 6693 | 6624 |\n",
      "|   8e-05   | 0.985960144928 | 0.996414164052 | 6693 | 6624 |\n",
      "|   9e-05   | 0.985960144928 | 0.996414164052 | 6693 | 6624 |\n",
      "+-----------+----------------+----------------+------+------+\n",
      "[100001 rows x 5 columns]\n",
      "Note: Only the head of the SFrame is printed.\n",
      "You can use print_rows(num_rows=m, num_columns=n) to print more rows and columns., 'confusion_matrix': Columns:\n",
      "\ttarget_label\tint\n",
      "\tpredicted_label\tint\n",
      "\tcount\tint\n",
      "\n",
      "Rows: 4\n",
      "\n",
      "Data:\n",
      "+--------------+-----------------+-------+\n",
      "| target_label | predicted_label | count |\n",
      "+--------------+-----------------+-------+\n",
      "|      1       |        1        |  4572 |\n",
      "|      1       |        0        |  2121 |\n",
      "|      0       |        1        |  2647 |\n",
      "|      0       |        0        |  3977 |\n",
      "+--------------+-----------------+-------+\n",
      "[4 rows x 3 columns]\n",
      ", 'accuracy': 0.6419614027183299}\n",
      "***********************************************************************************************************\n"
     ]
    }
   ],
   "source": [
    "train_data = group2.append(group3.append(group4).append(group5))\n",
    "test_data = group1\n",
    "m1 = gl.logistic_classifier.create(\n",
    "    train_data,\n",
    "    target='gender',\n",
    "    features = ['cg2'],\n",
    "    #class_weights={1:5,0:5},\n",
    "    max_iterations=3000)\n",
    "print '***********************************************************************************************************'\n",
    "result1 = m1.evaluate(test_data)\n",
    "print result1\n",
    "print '***********************************************************************************************************'"
   ]
  },
  {
   "cell_type": "code",
   "execution_count": 10,
   "metadata": {
    "collapsed": false
   },
   "outputs": [
    {
     "name": "stdout",
     "output_type": "stream",
     "text": [
      "PROGRESS: Creating a validation set from 5 percent of training data. This may take a while.\n",
      "          You can set ``validation_set=None`` to disable validation tracking.\n",
      "\n"
     ]
    },
    {
     "data": {
      "text/html": [
       "<pre>Logistic regression:</pre>"
      ],
      "text/plain": [
       "Logistic regression:"
      ]
     },
     "metadata": {},
     "output_type": "display_data"
    },
    {
     "data": {
      "text/html": [
       "<pre>--------------------------------------------------------</pre>"
      ],
      "text/plain": [
       "--------------------------------------------------------"
      ]
     },
     "metadata": {},
     "output_type": "display_data"
    },
    {
     "data": {
      "text/html": [
       "<pre>Number of examples          : 40445</pre>"
      ],
      "text/plain": [
       "Number of examples          : 40445"
      ]
     },
     "metadata": {},
     "output_type": "display_data"
    },
    {
     "data": {
      "text/html": [
       "<pre>Number of classes           : 2</pre>"
      ],
      "text/plain": [
       "Number of classes           : 2"
      ]
     },
     "metadata": {},
     "output_type": "display_data"
    },
    {
     "data": {
      "text/html": [
       "<pre>Number of feature columns   : 1</pre>"
      ],
      "text/plain": [
       "Number of feature columns   : 1"
      ]
     },
     "metadata": {},
     "output_type": "display_data"
    },
    {
     "data": {
      "text/html": [
       "<pre>Number of unpacked features : 1</pre>"
      ],
      "text/plain": [
       "Number of unpacked features : 1"
      ]
     },
     "metadata": {},
     "output_type": "display_data"
    },
    {
     "data": {
      "text/html": [
       "<pre>Number of coefficients    : 1403</pre>"
      ],
      "text/plain": [
       "Number of coefficients    : 1403"
      ]
     },
     "metadata": {},
     "output_type": "display_data"
    },
    {
     "data": {
      "text/html": [
       "<pre>Starting L-BFGS</pre>"
      ],
      "text/plain": [
       "Starting L-BFGS"
      ]
     },
     "metadata": {},
     "output_type": "display_data"
    },
    {
     "data": {
      "text/html": [
       "<pre>--------------------------------------------------------</pre>"
      ],
      "text/plain": [
       "--------------------------------------------------------"
      ]
     },
     "metadata": {},
     "output_type": "display_data"
    },
    {
     "data": {
      "text/html": [
       "<pre>+-----------+----------+-----------+--------------+-------------------+---------------------+</pre>"
      ],
      "text/plain": [
       "+-----------+----------+-----------+--------------+-------------------+---------------------+"
      ]
     },
     "metadata": {},
     "output_type": "display_data"
    },
    {
     "data": {
      "text/html": [
       "<pre>| Iteration | Passes   | Step size | Elapsed Time | Training-accuracy | Validation-accuracy |</pre>"
      ],
      "text/plain": [
       "| Iteration | Passes   | Step size | Elapsed Time | Training-accuracy | Validation-accuracy |"
      ]
     },
     "metadata": {},
     "output_type": "display_data"
    },
    {
     "data": {
      "text/html": [
       "<pre>+-----------+----------+-----------+--------------+-------------------+---------------------+</pre>"
      ],
      "text/plain": [
       "+-----------+----------+-----------+--------------+-------------------+---------------------+"
      ]
     },
     "metadata": {},
     "output_type": "display_data"
    },
    {
     "data": {
      "text/html": [
       "<pre>| 1         | 4        | 0.000124  | 0.038101     | 0.663494          | 0.646119            |</pre>"
      ],
      "text/plain": [
       "| 1         | 4        | 0.000124  | 0.038101     | 0.663494          | 0.646119            |"
      ]
     },
     "metadata": {},
     "output_type": "display_data"
    },
    {
     "data": {
      "text/html": [
       "<pre>| 2         | 6        | 1.000000  | 0.070187     | 0.665595          | 0.642009            |</pre>"
      ],
      "text/plain": [
       "| 2         | 6        | 1.000000  | 0.070187     | 0.665595          | 0.642009            |"
      ]
     },
     "metadata": {},
     "output_type": "display_data"
    },
    {
     "data": {
      "text/html": [
       "<pre>| 3         | 7        | 1.000000  | 0.091243     | 0.665496          | 0.646119            |</pre>"
      ],
      "text/plain": [
       "| 3         | 7        | 1.000000  | 0.091243     | 0.665496          | 0.646119            |"
      ]
     },
     "metadata": {},
     "output_type": "display_data"
    },
    {
     "data": {
      "text/html": [
       "<pre>| 4         | 8        | 1.000000  | 0.112299     | 0.666090          | 0.641096            |</pre>"
      ],
      "text/plain": [
       "| 4         | 8        | 1.000000  | 0.112299     | 0.666090          | 0.641096            |"
      ]
     },
     "metadata": {},
     "output_type": "display_data"
    },
    {
     "data": {
      "text/html": [
       "<pre>| 5         | 9        | 1.000000  | 0.132352     | 0.666164          | 0.641096            |</pre>"
      ],
      "text/plain": [
       "| 5         | 9        | 1.000000  | 0.132352     | 0.666164          | 0.641096            |"
      ]
     },
     "metadata": {},
     "output_type": "display_data"
    },
    {
     "data": {
      "text/html": [
       "<pre>| 6         | 10       | 1.000000  | 0.152406     | 0.666164          | 0.641553            |</pre>"
      ],
      "text/plain": [
       "| 6         | 10       | 1.000000  | 0.152406     | 0.666164          | 0.641553            |"
      ]
     },
     "metadata": {},
     "output_type": "display_data"
    },
    {
     "data": {
      "text/html": [
       "<pre>| 11        | 15       | 1.000000  | 0.235288     | 0.666189          | 0.641553            |</pre>"
      ],
      "text/plain": [
       "| 11        | 15       | 1.000000  | 0.235288     | 0.666189          | 0.641553            |"
      ]
     },
     "metadata": {},
     "output_type": "display_data"
    },
    {
     "data": {
      "text/html": [
       "<pre>| 50        | 55       | 1.000000  | 0.968831     | 0.666213          | 0.641096            |</pre>"
      ],
      "text/plain": [
       "| 50        | 55       | 1.000000  | 0.968831     | 0.666213          | 0.641096            |"
      ]
     },
     "metadata": {},
     "output_type": "display_data"
    },
    {
     "data": {
      "text/html": [
       "<pre>| 51        | 57       | 1.000000  | 1.007255     | 0.666213          | 0.642009            |</pre>"
      ],
      "text/plain": [
       "| 51        | 57       | 1.000000  | 1.007255     | 0.666213          | 0.642009            |"
      ]
     },
     "metadata": {},
     "output_type": "display_data"
    },
    {
     "data": {
      "text/html": [
       "<pre>| 100       | 132      | 0.500000  | 2.140667     | 0.666213          | 0.641553            |</pre>"
      ],
      "text/plain": [
       "| 100       | 132      | 0.500000  | 2.140667     | 0.666213          | 0.641553            |"
      ]
     },
     "metadata": {},
     "output_type": "display_data"
    },
    {
     "data": {
      "text/html": [
       "<pre>| 101       | 133      | 0.500000  | 2.175828     | 0.666213          | 0.642009            |</pre>"
      ],
      "text/plain": [
       "| 101       | 133      | 0.500000  | 2.175828     | 0.666213          | 0.642009            |"
      ]
     },
     "metadata": {},
     "output_type": "display_data"
    },
    {
     "data": {
      "text/html": [
       "<pre>+-----------+----------+-----------+--------------+-------------------+---------------------+</pre>"
      ],
      "text/plain": [
       "+-----------+----------+-----------+--------------+-------------------+---------------------+"
      ]
     },
     "metadata": {},
     "output_type": "display_data"
    },
    {
     "data": {
      "text/html": [
       "<pre>SUCCESS: Optimal solution found.</pre>"
      ],
      "text/plain": [
       "SUCCESS: Optimal solution found."
      ]
     },
     "metadata": {},
     "output_type": "display_data"
    },
    {
     "data": {
      "text/html": [
       "<pre></pre>"
      ],
      "text/plain": []
     },
     "metadata": {},
     "output_type": "display_data"
    },
    {
     "name": "stdout",
     "output_type": "stream",
     "text": [
      "***********************************************************************************************************\n",
      "{'f1_score': 0.6548357098574086, 'auc': 0.6917715997808037, 'recall': 0.6744891443167306, 'precision': 0.6362951807228916, 'log_loss': 0.7147163142424922, 'roc_curve': Columns:\n",
      "\tthreshold\tfloat\n",
      "\tfpr\tfloat\n",
      "\ttpr\tfloat\n",
      "\tp\tint\n",
      "\tn\tint\n",
      "\n",
      "Rows: 100001\n",
      "\n",
      "Data:\n",
      "+-----------+----------------+----------------+------+------+\n",
      "| threshold |      fpr       |      tpr       |  p   |  n   |\n",
      "+-----------+----------------+----------------+------+------+\n",
      "|    0.0    |      1.0       |      1.0       | 6264 | 6232 |\n",
      "|   1e-05   | 0.987323491656 | 0.99377394636  | 6264 | 6232 |\n",
      "|   2e-05   | 0.984756097561 | 0.992017879949 | 6264 | 6232 |\n",
      "|   3e-05   | 0.984756097561 | 0.991219667944 | 6264 | 6232 |\n",
      "|   4e-05   | 0.984435173299 | 0.991060025543 | 6264 | 6232 |\n",
      "|   5e-05   | 0.984274711168 | 0.990900383142 | 6264 | 6232 |\n",
      "|   6e-05   | 0.984274711168 | 0.990900383142 | 6264 | 6232 |\n",
      "|   7e-05   | 0.984274711168 | 0.990900383142 | 6264 | 6232 |\n",
      "|   8e-05   | 0.984274711168 | 0.990900383142 | 6264 | 6232 |\n",
      "|   9e-05   | 0.984274711168 | 0.990900383142 | 6264 | 6232 |\n",
      "+-----------+----------------+----------------+------+------+\n",
      "[100001 rows x 5 columns]\n",
      "Note: Only the head of the SFrame is printed.\n",
      "You can use print_rows(num_rows=m, num_columns=n) to print more rows and columns., 'confusion_matrix': Columns:\n",
      "\ttarget_label\tint\n",
      "\tpredicted_label\tint\n",
      "\tcount\tint\n",
      "\n",
      "Rows: 4\n",
      "\n",
      "Data:\n",
      "+--------------+-----------------+-------+\n",
      "| target_label | predicted_label | count |\n",
      "+--------------+-----------------+-------+\n",
      "|      1       |        0        |  2039 |\n",
      "|      1       |        1        |  4225 |\n",
      "|      0       |        0        |  3817 |\n",
      "|      0       |        1        |  2415 |\n",
      "+--------------+-----------------+-------+\n",
      "[4 rows x 3 columns]\n",
      ", 'accuracy': 0.6435659411011524}\n",
      "***********************************************************************************************************\n"
     ]
    }
   ],
   "source": [
    "train_data = group1.append(group3.append(group4).append(group5))\n",
    "test_data = group2\n",
    "m2 = gl.logistic_classifier.create(\n",
    "    train_data,\n",
    "    target='gender',\n",
    "    features = ['cg2'],\n",
    "    #class_weights={1:5,0:5},\n",
    "    max_iterations=3000)\n",
    "print '***********************************************************************************************************'\n",
    "result2 = m2.evaluate(test_data)\n",
    "print result2\n",
    "print '***********************************************************************************************************'"
   ]
  },
  {
   "cell_type": "code",
   "execution_count": 11,
   "metadata": {
    "collapsed": false
   },
   "outputs": [
    {
     "name": "stdout",
     "output_type": "stream",
     "text": [
      "PROGRESS: Creating a validation set from 5 percent of training data. This may take a while.\n",
      "          You can set ``validation_set=None`` to disable validation tracking.\n",
      "\n"
     ]
    },
    {
     "data": {
      "text/html": [
       "<pre>Logistic regression:</pre>"
      ],
      "text/plain": [
       "Logistic regression:"
      ]
     },
     "metadata": {},
     "output_type": "display_data"
    },
    {
     "data": {
      "text/html": [
       "<pre>--------------------------------------------------------</pre>"
      ],
      "text/plain": [
       "--------------------------------------------------------"
      ]
     },
     "metadata": {},
     "output_type": "display_data"
    },
    {
     "data": {
      "text/html": [
       "<pre>Number of examples          : 42716</pre>"
      ],
      "text/plain": [
       "Number of examples          : 42716"
      ]
     },
     "metadata": {},
     "output_type": "display_data"
    },
    {
     "data": {
      "text/html": [
       "<pre>Number of classes           : 2</pre>"
      ],
      "text/plain": [
       "Number of classes           : 2"
      ]
     },
     "metadata": {},
     "output_type": "display_data"
    },
    {
     "data": {
      "text/html": [
       "<pre>Number of feature columns   : 1</pre>"
      ],
      "text/plain": [
       "Number of feature columns   : 1"
      ]
     },
     "metadata": {},
     "output_type": "display_data"
    },
    {
     "data": {
      "text/html": [
       "<pre>Number of unpacked features : 1</pre>"
      ],
      "text/plain": [
       "Number of unpacked features : 1"
      ]
     },
     "metadata": {},
     "output_type": "display_data"
    },
    {
     "data": {
      "text/html": [
       "<pre>Number of coefficients    : 1395</pre>"
      ],
      "text/plain": [
       "Number of coefficients    : 1395"
      ]
     },
     "metadata": {},
     "output_type": "display_data"
    },
    {
     "data": {
      "text/html": [
       "<pre>Starting L-BFGS</pre>"
      ],
      "text/plain": [
       "Starting L-BFGS"
      ]
     },
     "metadata": {},
     "output_type": "display_data"
    },
    {
     "data": {
      "text/html": [
       "<pre>--------------------------------------------------------</pre>"
      ],
      "text/plain": [
       "--------------------------------------------------------"
      ]
     },
     "metadata": {},
     "output_type": "display_data"
    },
    {
     "data": {
      "text/html": [
       "<pre>+-----------+----------+-----------+--------------+-------------------+---------------------+</pre>"
      ],
      "text/plain": [
       "+-----------+----------+-----------+--------------+-------------------+---------------------+"
      ]
     },
     "metadata": {},
     "output_type": "display_data"
    },
    {
     "data": {
      "text/html": [
       "<pre>| Iteration | Passes   | Step size | Elapsed Time | Training-accuracy | Validation-accuracy |</pre>"
      ],
      "text/plain": [
       "| Iteration | Passes   | Step size | Elapsed Time | Training-accuracy | Validation-accuracy |"
      ]
     },
     "metadata": {},
     "output_type": "display_data"
    },
    {
     "data": {
      "text/html": [
       "<pre>+-----------+----------+-----------+--------------+-------------------+---------------------+</pre>"
      ],
      "text/plain": [
       "+-----------+----------+-----------+--------------+-------------------+---------------------+"
      ]
     },
     "metadata": {},
     "output_type": "display_data"
    },
    {
     "data": {
      "text/html": [
       "<pre>| 1         | 4        | 0.000117  | 0.042111     | 0.663077          | 0.640460            |</pre>"
      ],
      "text/plain": [
       "| 1         | 4        | 0.000117  | 0.042111     | 0.663077          | 0.640460            |"
      ]
     },
     "metadata": {},
     "output_type": "display_data"
    },
    {
     "data": {
      "text/html": [
       "<pre>| 2         | 6        | 1.000000  | 0.075199     | 0.663522          | 0.637584            |</pre>"
      ],
      "text/plain": [
       "| 2         | 6        | 1.000000  | 0.075199     | 0.663522          | 0.637584            |"
      ]
     },
     "metadata": {},
     "output_type": "display_data"
    },
    {
     "data": {
      "text/html": [
       "<pre>| 3         | 7        | 1.000000  | 0.097259     | 0.662843          | 0.636625            |</pre>"
      ],
      "text/plain": [
       "| 3         | 7        | 1.000000  | 0.097259     | 0.662843          | 0.636625            |"
      ]
     },
     "metadata": {},
     "output_type": "display_data"
    },
    {
     "data": {
      "text/html": [
       "<pre>| 4         | 8        | 1.000000  | 0.118314     | 0.663498          | 0.639981            |</pre>"
      ],
      "text/plain": [
       "| 4         | 8        | 1.000000  | 0.118314     | 0.663498          | 0.639981            |"
      ]
     },
     "metadata": {},
     "output_type": "display_data"
    },
    {
     "data": {
      "text/html": [
       "<pre>| 5         | 9        | 1.000000  | 0.141375     | 0.663686          | 0.640940            |</pre>"
      ],
      "text/plain": [
       "| 5         | 9        | 1.000000  | 0.141375     | 0.663686          | 0.640940            |"
      ]
     },
     "metadata": {},
     "output_type": "display_data"
    },
    {
     "data": {
      "text/html": [
       "<pre>| 6         | 10       | 1.000000  | 0.162431     | 0.663686          | 0.637584            |</pre>"
      ],
      "text/plain": [
       "| 6         | 10       | 1.000000  | 0.162431     | 0.663686          | 0.637584            |"
      ]
     },
     "metadata": {},
     "output_type": "display_data"
    },
    {
     "data": {
      "text/html": [
       "<pre>| 11        | 15       | 1.000000  | 0.266992     | 0.663171          | 0.640460            |</pre>"
      ],
      "text/plain": [
       "| 11        | 15       | 1.000000  | 0.266992     | 0.663171          | 0.640460            |"
      ]
     },
     "metadata": {},
     "output_type": "display_data"
    },
    {
     "data": {
      "text/html": [
       "<pre>| 50        | 59       | 1.000000  | 1.072114     | 0.663616          | 0.638543            |</pre>"
      ],
      "text/plain": [
       "| 50        | 59       | 1.000000  | 1.072114     | 0.663616          | 0.638543            |"
      ]
     },
     "metadata": {},
     "output_type": "display_data"
    },
    {
     "data": {
      "text/html": [
       "<pre>| 51        | 61       | 1.000000  | 1.108719     | 0.663616          | 0.640460            |</pre>"
      ],
      "text/plain": [
       "| 51        | 61       | 1.000000  | 1.108719     | 0.663616          | 0.640460            |"
      ]
     },
     "metadata": {},
     "output_type": "display_data"
    },
    {
     "data": {
      "text/html": [
       "<pre>| 100       | 130      | 1.000000  | 2.254430     | 0.663616          | 0.638543            |</pre>"
      ],
      "text/plain": [
       "| 100       | 130      | 1.000000  | 2.254430     | 0.663616          | 0.638543            |"
      ]
     },
     "metadata": {},
     "output_type": "display_data"
    },
    {
     "data": {
      "text/html": [
       "<pre>| 101       | 131      | 1.000000  | 2.278134     | 0.663616          | 0.638543            |</pre>"
      ],
      "text/plain": [
       "| 101       | 131      | 1.000000  | 2.278134     | 0.663616          | 0.638543            |"
      ]
     },
     "metadata": {},
     "output_type": "display_data"
    },
    {
     "data": {
      "text/html": [
       "<pre>| 150       | 207      | 1.000000  | 3.484124     | 0.663616          | 0.638543            |</pre>"
      ],
      "text/plain": [
       "| 150       | 207      | 1.000000  | 3.484124     | 0.663616          | 0.638543            |"
      ]
     },
     "metadata": {},
     "output_type": "display_data"
    },
    {
     "data": {
      "text/html": [
       "<pre>| 200       | 289      | 1.000000  | 4.787265     | 0.663616          | 0.640460            |</pre>"
      ],
      "text/plain": [
       "| 200       | 289      | 1.000000  | 4.787265     | 0.663616          | 0.640460            |"
      ]
     },
     "metadata": {},
     "output_type": "display_data"
    },
    {
     "data": {
      "text/html": [
       "<pre>+-----------+----------+-----------+--------------+-------------------+---------------------+</pre>"
      ],
      "text/plain": [
       "+-----------+----------+-----------+--------------+-------------------+---------------------+"
      ]
     },
     "metadata": {},
     "output_type": "display_data"
    },
    {
     "data": {
      "text/html": [
       "<pre>SUCCESS: Optimal solution found.</pre>"
      ],
      "text/plain": [
       "SUCCESS: Optimal solution found."
      ]
     },
     "metadata": {},
     "output_type": "display_data"
    },
    {
     "data": {
      "text/html": [
       "<pre></pre>"
      ],
      "text/plain": []
     },
     "metadata": {},
     "output_type": "display_data"
    },
    {
     "name": "stdout",
     "output_type": "stream",
     "text": [
      "***********************************************************************************************************\n",
      "{'f1_score': 0.6562032884902841, 'auc': 0.6876142803666326, 'recall': 0.6762950125168496, 'precision': 0.6372709127200146, 'log_loss': 0.6895983539748952, 'roc_curve': Columns:\n",
      "\tthreshold\tfloat\n",
      "\tfpr\tfloat\n",
      "\ttpr\tfloat\n",
      "\tp\tint\n",
      "\tn\tint\n",
      "\n",
      "Rows: 100001\n",
      "\n",
      "Data:\n",
      "+-----------+----------------+----------------+------+------+\n",
      "| threshold |      fpr       |      tpr       |  p   |  n   |\n",
      "+-----------+----------------+----------------+------+------+\n",
      "|    0.0    |      1.0       |      1.0       | 5193 | 5136 |\n",
      "|   1e-05   | 0.991043613707 | 0.996918929328 | 5193 | 5136 |\n",
      "|   2e-05   | 0.988317757009 | 0.99614866166  | 5193 | 5136 |\n",
      "|   3e-05   | 0.98753894081  | 0.995956094743 | 5193 | 5136 |\n",
      "|   4e-05   | 0.98753894081  | 0.995956094743 | 5193 | 5136 |\n",
      "|   5e-05   | 0.98734423676  | 0.995763527826 | 5193 | 5136 |\n",
      "|   6e-05   | 0.98714953271  | 0.995763527826 | 5193 | 5136 |\n",
      "|   7e-05   | 0.98714953271  | 0.995763527826 | 5193 | 5136 |\n",
      "|   8e-05   | 0.98714953271  | 0.995763527826 | 5193 | 5136 |\n",
      "|   9e-05   | 0.98714953271  | 0.995763527826 | 5193 | 5136 |\n",
      "+-----------+----------------+----------------+------+------+\n",
      "[100001 rows x 5 columns]\n",
      "Note: Only the head of the SFrame is printed.\n",
      "You can use print_rows(num_rows=m, num_columns=n) to print more rows and columns., 'confusion_matrix': Columns:\n",
      "\ttarget_label\tint\n",
      "\tpredicted_label\tint\n",
      "\tcount\tint\n",
      "\n",
      "Rows: 4\n",
      "\n",
      "Data:\n",
      "+--------------+-----------------+-------+\n",
      "| target_label | predicted_label | count |\n",
      "+--------------+-----------------+-------+\n",
      "|      1       |        1        |  3512 |\n",
      "|      1       |        0        |  1681 |\n",
      "|      0       |        1        |  1999 |\n",
      "|      0       |        0        |  3137 |\n",
      "+--------------+-----------------+-------+\n",
      "[4 rows x 3 columns]\n",
      ", 'accuracy': 0.643721560654468}\n",
      "***********************************************************************************************************\n"
     ]
    }
   ],
   "source": [
    "train_data = group2.append(group1.append(group4).append(group5))\n",
    "test_data = group3\n",
    "m3 = gl.logistic_classifier.create(\n",
    "    train_data,\n",
    "    target='gender',\n",
    "    features = ['cg2'],\n",
    "    #class_weights={1:5,0:5},\n",
    "    max_iterations=3000)\n",
    "print '***********************************************************************************************************'\n",
    "result3 = m3.evaluate(test_data)\n",
    "print result3\n",
    "print '***********************************************************************************************************'"
   ]
  },
  {
   "cell_type": "code",
   "execution_count": 12,
   "metadata": {
    "collapsed": false
   },
   "outputs": [
    {
     "name": "stdout",
     "output_type": "stream",
     "text": [
      "PROGRESS: Creating a validation set from 5 percent of training data. This may take a while.\n",
      "          You can set ``validation_set=None`` to disable validation tracking.\n",
      "\n"
     ]
    },
    {
     "data": {
      "text/html": [
       "<pre>Logistic regression:</pre>"
      ],
      "text/plain": [
       "Logistic regression:"
      ]
     },
     "metadata": {},
     "output_type": "display_data"
    },
    {
     "data": {
      "text/html": [
       "<pre>--------------------------------------------------------</pre>"
      ],
      "text/plain": [
       "--------------------------------------------------------"
      ]
     },
     "metadata": {},
     "output_type": "display_data"
    },
    {
     "data": {
      "text/html": [
       "<pre>Number of examples          : 42599</pre>"
      ],
      "text/plain": [
       "Number of examples          : 42599"
      ]
     },
     "metadata": {},
     "output_type": "display_data"
    },
    {
     "data": {
      "text/html": [
       "<pre>Number of classes           : 2</pre>"
      ],
      "text/plain": [
       "Number of classes           : 2"
      ]
     },
     "metadata": {},
     "output_type": "display_data"
    },
    {
     "data": {
      "text/html": [
       "<pre>Number of feature columns   : 1</pre>"
      ],
      "text/plain": [
       "Number of feature columns   : 1"
      ]
     },
     "metadata": {},
     "output_type": "display_data"
    },
    {
     "data": {
      "text/html": [
       "<pre>Number of unpacked features : 1</pre>"
      ],
      "text/plain": [
       "Number of unpacked features : 1"
      ]
     },
     "metadata": {},
     "output_type": "display_data"
    },
    {
     "data": {
      "text/html": [
       "<pre>Number of coefficients    : 1407</pre>"
      ],
      "text/plain": [
       "Number of coefficients    : 1407"
      ]
     },
     "metadata": {},
     "output_type": "display_data"
    },
    {
     "data": {
      "text/html": [
       "<pre>Starting L-BFGS</pre>"
      ],
      "text/plain": [
       "Starting L-BFGS"
      ]
     },
     "metadata": {},
     "output_type": "display_data"
    },
    {
     "data": {
      "text/html": [
       "<pre>--------------------------------------------------------</pre>"
      ],
      "text/plain": [
       "--------------------------------------------------------"
      ]
     },
     "metadata": {},
     "output_type": "display_data"
    },
    {
     "data": {
      "text/html": [
       "<pre>+-----------+----------+-----------+--------------+-------------------+---------------------+</pre>"
      ],
      "text/plain": [
       "+-----------+----------+-----------+--------------+-------------------+---------------------+"
      ]
     },
     "metadata": {},
     "output_type": "display_data"
    },
    {
     "data": {
      "text/html": [
       "<pre>| Iteration | Passes   | Step size | Elapsed Time | Training-accuracy | Validation-accuracy |</pre>"
      ],
      "text/plain": [
       "| Iteration | Passes   | Step size | Elapsed Time | Training-accuracy | Validation-accuracy |"
      ]
     },
     "metadata": {},
     "output_type": "display_data"
    },
    {
     "data": {
      "text/html": [
       "<pre>+-----------+----------+-----------+--------------+-------------------+---------------------+</pre>"
      ],
      "text/plain": [
       "+-----------+----------+-----------+--------------+-------------------+---------------------+"
      ]
     },
     "metadata": {},
     "output_type": "display_data"
    },
    {
     "data": {
      "text/html": [
       "<pre>| 1         | 4        | 0.000117  | 0.040107     | 0.664851          | 0.640127            |</pre>"
      ],
      "text/plain": [
       "| 1         | 4        | 0.000117  | 0.040107     | 0.664851          | 0.640127            |"
      ]
     },
     "metadata": {},
     "output_type": "display_data"
    },
    {
     "data": {
      "text/html": [
       "<pre>| 2         | 6        | 1.000000  | 0.075200     | 0.665696          | 0.636488            |</pre>"
      ],
      "text/plain": [
       "| 2         | 6        | 1.000000  | 0.075200     | 0.665696          | 0.636488            |"
      ]
     },
     "metadata": {},
     "output_type": "display_data"
    },
    {
     "data": {
      "text/html": [
       "<pre>| 3         | 7        | 1.000000  | 0.095253     | 0.665039          | 0.634668            |</pre>"
      ],
      "text/plain": [
       "| 3         | 7        | 1.000000  | 0.095253     | 0.665039          | 0.634668            |"
      ]
     },
     "metadata": {},
     "output_type": "display_data"
    },
    {
     "data": {
      "text/html": [
       "<pre>| 4         | 8        | 1.000000  | 0.123329     | 0.665955          | 0.640582            |</pre>"
      ],
      "text/plain": [
       "| 4         | 8        | 1.000000  | 0.123329     | 0.665955          | 0.640582            |"
      ]
     },
     "metadata": {},
     "output_type": "display_data"
    },
    {
     "data": {
      "text/html": [
       "<pre>| 5         | 9        | 1.000000  | 0.145387     | 0.665368          | 0.640582            |</pre>"
      ],
      "text/plain": [
       "| 5         | 9        | 1.000000  | 0.145387     | 0.665368          | 0.640582            |"
      ]
     },
     "metadata": {},
     "output_type": "display_data"
    },
    {
     "data": {
      "text/html": [
       "<pre>| 6         | 10       | 1.000000  | 0.167445     | 0.665415          | 0.640127            |</pre>"
      ],
      "text/plain": [
       "| 6         | 10       | 1.000000  | 0.167445     | 0.665415          | 0.640127            |"
      ]
     },
     "metadata": {},
     "output_type": "display_data"
    },
    {
     "data": {
      "text/html": [
       "<pre>| 11        | 15       | 1.000000  | 0.261023     | 0.664593          | 0.640582            |</pre>"
      ],
      "text/plain": [
       "| 11        | 15       | 1.000000  | 0.261023     | 0.664593          | 0.640582            |"
      ]
     },
     "metadata": {},
     "output_type": "display_data"
    },
    {
     "data": {
      "text/html": [
       "<pre>| 50        | 59       | 1.000000  | 1.081792     | 0.664687          | 0.640127            |</pre>"
      ],
      "text/plain": [
       "| 50        | 59       | 1.000000  | 1.081792     | 0.664687          | 0.640127            |"
      ]
     },
     "metadata": {},
     "output_type": "display_data"
    },
    {
     "data": {
      "text/html": [
       "<pre>| 51        | 61       | 1.000000  | 1.113860     | 0.664687          | 0.640127            |</pre>"
      ],
      "text/plain": [
       "| 51        | 61       | 1.000000  | 1.113860     | 0.664687          | 0.640127            |"
      ]
     },
     "metadata": {},
     "output_type": "display_data"
    },
    {
     "data": {
      "text/html": [
       "<pre>| 100       | 140      | 0.500000  | 2.353888     | 0.664687          | 0.640127            |</pre>"
      ],
      "text/plain": [
       "| 100       | 140      | 0.500000  | 2.353888     | 0.664687          | 0.640127            |"
      ]
     },
     "metadata": {},
     "output_type": "display_data"
    },
    {
     "data": {
      "text/html": [
       "<pre>| 101       | 142      | 1.000000  | 2.396988     | 0.664687          | 0.640127            |</pre>"
      ],
      "text/plain": [
       "| 101       | 142      | 1.000000  | 2.396988     | 0.664687          | 0.640127            |"
      ]
     },
     "metadata": {},
     "output_type": "display_data"
    },
    {
     "data": {
      "text/html": [
       "<pre>| 150       | 209      | 1.000000  | 3.530429     | 0.664687          | 0.640127            |</pre>"
      ],
      "text/plain": [
       "| 150       | 209      | 1.000000  | 3.530429     | 0.664687          | 0.640127            |"
      ]
     },
     "metadata": {},
     "output_type": "display_data"
    },
    {
     "data": {
      "text/html": [
       "<pre>+-----------+----------+-----------+--------------+-------------------+---------------------+</pre>"
      ],
      "text/plain": [
       "+-----------+----------+-----------+--------------+-------------------+---------------------+"
      ]
     },
     "metadata": {},
     "output_type": "display_data"
    },
    {
     "data": {
      "text/html": [
       "<pre>SUCCESS: Optimal solution found.</pre>"
      ],
      "text/plain": [
       "SUCCESS: Optimal solution found."
      ]
     },
     "metadata": {},
     "output_type": "display_data"
    },
    {
     "data": {
      "text/html": [
       "<pre></pre>"
      ],
      "text/plain": []
     },
     "metadata": {},
     "output_type": "display_data"
    },
    {
     "name": "stdout",
     "output_type": "stream",
     "text": [
      "***********************************************************************************************************\n",
      "{'f1_score': 0.6567302351416405, 'auc': 0.6830869402705972, 'recall': 0.685145837357543, 'precision': 0.6305777777777778, 'log_loss': 0.7137812673021477, 'roc_curve': Columns:\n",
      "\tthreshold\tfloat\n",
      "\tfpr\tfloat\n",
      "\ttpr\tfloat\n",
      "\tp\tint\n",
      "\tn\tint\n",
      "\n",
      "Rows: 100001\n",
      "\n",
      "Data:\n",
      "+-----------+----------------+----------------+------+------+\n",
      "| threshold |      fpr       |      tpr       |  p   |  n   |\n",
      "+-----------+----------------+----------------+------+------+\n",
      "|    0.0    |      1.0       |      1.0       | 5177 | 5157 |\n",
      "|   1e-05   |  0.989722707   | 0.994205138111 | 5177 | 5157 |\n",
      "|   2e-05   | 0.988559239868 | 0.994011976048 | 5177 | 5157 |\n",
      "|   3e-05   | 0.988365328679 | 0.993818813985 | 5177 | 5157 |\n",
      "|   4e-05   | 0.988365328679 | 0.993818813985 | 5177 | 5157 |\n",
      "|   5e-05   | 0.988171417491 | 0.993818813985 | 5177 | 5157 |\n",
      "|   6e-05   | 0.988171417491 | 0.993818813985 | 5177 | 5157 |\n",
      "|   7e-05   | 0.988171417491 | 0.993818813985 | 5177 | 5157 |\n",
      "|   8e-05   | 0.988171417491 | 0.993818813985 | 5177 | 5157 |\n",
      "|   9e-05   | 0.988171417491 | 0.993818813985 | 5177 | 5157 |\n",
      "+-----------+----------------+----------------+------+------+\n",
      "[100001 rows x 5 columns]\n",
      "Note: Only the head of the SFrame is printed.\n",
      "You can use print_rows(num_rows=m, num_columns=n) to print more rows and columns., 'confusion_matrix': Columns:\n",
      "\ttarget_label\tint\n",
      "\tpredicted_label\tint\n",
      "\tcount\tint\n",
      "\n",
      "Rows: 4\n",
      "\n",
      "Data:\n",
      "+--------------+-----------------+-------+\n",
      "| target_label | predicted_label | count |\n",
      "+--------------+-----------------+-------+\n",
      "|      1       |        0        |  1630 |\n",
      "|      1       |        1        |  3547 |\n",
      "|      0       |        1        |  2078 |\n",
      "|      0       |        0        |  3079 |\n",
      "+--------------+-----------------+-------+\n",
      "[4 rows x 3 columns]\n",
      ", 'accuracy': 0.6411844397135669}\n",
      "***********************************************************************************************************\n"
     ]
    }
   ],
   "source": [
    "train_data = group2.append(group3.append(group1).append(group5))\n",
    "test_data = group4\n",
    "m4 = gl.logistic_classifier.create(\n",
    "    train_data,\n",
    "    target='gender',\n",
    "    features = ['cg2'],\n",
    "    #class_weights={1:5,0:5},\n",
    "    max_iterations=3000)\n",
    "result1 = m1.evaluate(test_data)\n",
    "print '***********************************************************************************************************'\n",
    "result4 = m4.evaluate(test_data)\n",
    "print result4\n",
    "print '***********************************************************************************************************'"
   ]
  },
  {
   "cell_type": "code",
   "execution_count": 13,
   "metadata": {
    "collapsed": false
   },
   "outputs": [
    {
     "name": "stdout",
     "output_type": "stream",
     "text": [
      "PROGRESS: Creating a validation set from 5 percent of training data. This may take a while.\n",
      "          You can set ``validation_set=None`` to disable validation tracking.\n",
      "\n"
     ]
    },
    {
     "data": {
      "text/html": [
       "<pre>Logistic regression:</pre>"
      ],
      "text/plain": [
       "Logistic regression:"
      ]
     },
     "metadata": {},
     "output_type": "display_data"
    },
    {
     "data": {
      "text/html": [
       "<pre>--------------------------------------------------------</pre>"
      ],
      "text/plain": [
       "--------------------------------------------------------"
      ]
     },
     "metadata": {},
     "output_type": "display_data"
    },
    {
     "data": {
      "text/html": [
       "<pre>Number of examples          : 44184</pre>"
      ],
      "text/plain": [
       "Number of examples          : 44184"
      ]
     },
     "metadata": {},
     "output_type": "display_data"
    },
    {
     "data": {
      "text/html": [
       "<pre>Number of classes           : 2</pre>"
      ],
      "text/plain": [
       "Number of classes           : 2"
      ]
     },
     "metadata": {},
     "output_type": "display_data"
    },
    {
     "data": {
      "text/html": [
       "<pre>Number of feature columns   : 1</pre>"
      ],
      "text/plain": [
       "Number of feature columns   : 1"
      ]
     },
     "metadata": {},
     "output_type": "display_data"
    },
    {
     "data": {
      "text/html": [
       "<pre>Number of unpacked features : 1</pre>"
      ],
      "text/plain": [
       "Number of unpacked features : 1"
      ]
     },
     "metadata": {},
     "output_type": "display_data"
    },
    {
     "data": {
      "text/html": [
       "<pre>Number of coefficients    : 1414</pre>"
      ],
      "text/plain": [
       "Number of coefficients    : 1414"
      ]
     },
     "metadata": {},
     "output_type": "display_data"
    },
    {
     "data": {
      "text/html": [
       "<pre>Starting L-BFGS</pre>"
      ],
      "text/plain": [
       "Starting L-BFGS"
      ]
     },
     "metadata": {},
     "output_type": "display_data"
    },
    {
     "data": {
      "text/html": [
       "<pre>--------------------------------------------------------</pre>"
      ],
      "text/plain": [
       "--------------------------------------------------------"
      ]
     },
     "metadata": {},
     "output_type": "display_data"
    },
    {
     "data": {
      "text/html": [
       "<pre>+-----------+----------+-----------+--------------+-------------------+---------------------+</pre>"
      ],
      "text/plain": [
       "+-----------+----------+-----------+--------------+-------------------+---------------------+"
      ]
     },
     "metadata": {},
     "output_type": "display_data"
    },
    {
     "data": {
      "text/html": [
       "<pre>| Iteration | Passes   | Step size | Elapsed Time | Training-accuracy | Validation-accuracy |</pre>"
      ],
      "text/plain": [
       "| Iteration | Passes   | Step size | Elapsed Time | Training-accuracy | Validation-accuracy |"
      ]
     },
     "metadata": {},
     "output_type": "display_data"
    },
    {
     "data": {
      "text/html": [
       "<pre>+-----------+----------+-----------+--------------+-------------------+---------------------+</pre>"
      ],
      "text/plain": [
       "+-----------+----------+-----------+--------------+-------------------+---------------------+"
      ]
     },
     "metadata": {},
     "output_type": "display_data"
    },
    {
     "data": {
      "text/html": [
       "<pre>| 1         | 4        | 0.000113  | 0.040114     | 0.662932          | 0.646597            |</pre>"
      ],
      "text/plain": [
       "| 1         | 4        | 0.000113  | 0.040114     | 0.662932          | 0.646597            |"
      ]
     },
     "metadata": {},
     "output_type": "display_data"
    },
    {
     "data": {
      "text/html": [
       "<pre>| 2         | 6        | 1.000000  | 0.071189     | 0.664041          | 0.642670            |</pre>"
      ],
      "text/plain": [
       "| 2         | 6        | 1.000000  | 0.071189     | 0.664041          | 0.642670            |"
      ]
     },
     "metadata": {},
     "output_type": "display_data"
    },
    {
     "data": {
      "text/html": [
       "<pre>| 3         | 7        | 1.000000  | 0.091242     | 0.664290          | 0.649651            |</pre>"
      ],
      "text/plain": [
       "| 3         | 7        | 1.000000  | 0.091242     | 0.664290          | 0.649651            |"
      ]
     },
     "metadata": {},
     "output_type": "display_data"
    },
    {
     "data": {
      "text/html": [
       "<pre>| 4         | 8        | 1.000000  | 0.110304     | 0.664652          | 0.646161            |</pre>"
      ],
      "text/plain": [
       "| 4         | 8        | 1.000000  | 0.110304     | 0.664652          | 0.646161            |"
      ]
     },
     "metadata": {},
     "output_type": "display_data"
    },
    {
     "data": {
      "text/html": [
       "<pre>| 5         | 9        | 1.000000  | 0.128341     | 0.664336          | 0.645724            |</pre>"
      ],
      "text/plain": [
       "| 5         | 9        | 1.000000  | 0.128341     | 0.664336          | 0.645724            |"
      ]
     },
     "metadata": {},
     "output_type": "display_data"
    },
    {
     "data": {
      "text/html": [
       "<pre>| 6         | 10       | 1.000000  | 0.146389     | 0.664019          | 0.647906            |</pre>"
      ],
      "text/plain": [
       "| 6         | 10       | 1.000000  | 0.146389     | 0.664019          | 0.647906            |"
      ]
     },
     "metadata": {},
     "output_type": "display_data"
    },
    {
     "data": {
      "text/html": [
       "<pre>| 11        | 15       | 1.000000  | 0.235833     | 0.663860          | 0.649215            |</pre>"
      ],
      "text/plain": [
       "| 11        | 15       | 1.000000  | 0.235833     | 0.663860          | 0.649215            |"
      ]
     },
     "metadata": {},
     "output_type": "display_data"
    },
    {
     "data": {
      "text/html": [
       "<pre>| 50        | 60       | 1.000000  | 0.974076     | 0.664019          | 0.648778            |</pre>"
      ],
      "text/plain": [
       "| 50        | 60       | 1.000000  | 0.974076     | 0.664019          | 0.648778            |"
      ]
     },
     "metadata": {},
     "output_type": "display_data"
    },
    {
     "data": {
      "text/html": [
       "<pre>| 51        | 62       | 1.000000  | 1.012052     | 0.664019          | 0.648778            |</pre>"
      ],
      "text/plain": [
       "| 51        | 62       | 1.000000  | 1.012052     | 0.664019          | 0.648778            |"
      ]
     },
     "metadata": {},
     "output_type": "display_data"
    },
    {
     "data": {
      "text/html": [
       "<pre>| 100       | 114      | 1.000000  | 1.868860     | 0.664019          | 0.647906            |</pre>"
      ],
      "text/plain": [
       "| 100       | 114      | 1.000000  | 1.868860     | 0.664019          | 0.647906            |"
      ]
     },
     "metadata": {},
     "output_type": "display_data"
    },
    {
     "data": {
      "text/html": [
       "<pre>| 101       | 115      | 1.000000  | 1.898737     | 0.664019          | 0.647906            |</pre>"
      ],
      "text/plain": [
       "| 101       | 115      | 1.000000  | 1.898737     | 0.664019          | 0.647906            |"
      ]
     },
     "metadata": {},
     "output_type": "display_data"
    },
    {
     "data": {
      "text/html": [
       "<pre>| 150       | 186      | 1.000000  | 2.927776     | 0.664019          | 0.647906            |</pre>"
      ],
      "text/plain": [
       "| 150       | 186      | 1.000000  | 2.927776     | 0.664019          | 0.647906            |"
      ]
     },
     "metadata": {},
     "output_type": "display_data"
    },
    {
     "data": {
      "text/html": [
       "<pre>| 200       | 265      | 1.000000  | 4.040762     | 0.664019          | 0.649215            |</pre>"
      ],
      "text/plain": [
       "| 200       | 265      | 1.000000  | 4.040762     | 0.664019          | 0.649215            |"
      ]
     },
     "metadata": {},
     "output_type": "display_data"
    },
    {
     "data": {
      "text/html": [
       "<pre>| 250       | 332      | 1.000000  | 5.082172     | 0.664019          | 0.648342            |</pre>"
      ],
      "text/plain": [
       "| 250       | 332      | 1.000000  | 5.082172     | 0.664019          | 0.648342            |"
      ]
     },
     "metadata": {},
     "output_type": "display_data"
    },
    {
     "data": {
      "text/html": [
       "<pre>+-----------+----------+-----------+--------------+-------------------+---------------------+</pre>"
      ],
      "text/plain": [
       "+-----------+----------+-----------+--------------+-------------------+---------------------+"
      ]
     },
     "metadata": {},
     "output_type": "display_data"
    },
    {
     "data": {
      "text/html": [
       "<pre>SUCCESS: Optimal solution found.</pre>"
      ],
      "text/plain": [
       "SUCCESS: Optimal solution found."
      ]
     },
     "metadata": {},
     "output_type": "display_data"
    },
    {
     "data": {
      "text/html": [
       "<pre></pre>"
      ],
      "text/plain": []
     },
     "metadata": {},
     "output_type": "display_data"
    },
    {
     "name": "stdout",
     "output_type": "stream",
     "text": [
      "***********************************************************************************************************\n",
      "{'f1_score': 0.6583176327163914, 'auc': 0.6848864781570956, 'recall': 0.6813489332415692, 'precision': 0.6367924528301887, 'log_loss': 0.7042810813228453, 'roc_curve': Columns:\n",
      "\tthreshold\tfloat\n",
      "\tfpr\tfloat\n",
      "\ttpr\tfloat\n",
      "\tp\tint\n",
      "\tn\tint\n",
      "\n",
      "Rows: 100001\n",
      "\n",
      "Data:\n",
      "+-----------+----------------+----------------+------+------+\n",
      "| threshold |      fpr       |      tpr       |  p   |  n   |\n",
      "+-----------+----------------+----------------+------+------+\n",
      "|    0.0    |      1.0       |      1.0       | 4359 | 4296 |\n",
      "|   1e-05   | 0.987895716946 | 0.993576508373 | 4359 | 4296 |\n",
      "|   2e-05   | 0.987430167598 | 0.993576508373 | 4359 | 4296 |\n",
      "|   3e-05   | 0.987430167598 | 0.993576508373 | 4359 | 4296 |\n",
      "|   4e-05   | 0.987430167598 | 0.993576508373 | 4359 | 4296 |\n",
      "|   5e-05   | 0.987430167598 | 0.993347097958 | 4359 | 4296 |\n",
      "|   6e-05   | 0.987430167598 | 0.993347097958 | 4359 | 4296 |\n",
      "|   7e-05   | 0.987430167598 | 0.993347097958 | 4359 | 4296 |\n",
      "|   8e-05   | 0.987430167598 | 0.993347097958 | 4359 | 4296 |\n",
      "|   9e-05   | 0.987430167598 | 0.993347097958 | 4359 | 4296 |\n",
      "+-----------+----------------+----------------+------+------+\n",
      "[100001 rows x 5 columns]\n",
      "Note: Only the head of the SFrame is printed.\n",
      "You can use print_rows(num_rows=m, num_columns=n) to print more rows and columns., 'confusion_matrix': Columns:\n",
      "\ttarget_label\tint\n",
      "\tpredicted_label\tint\n",
      "\tcount\tint\n",
      "\n",
      "Rows: 4\n",
      "\n",
      "Data:\n",
      "+--------------+-----------------+-------+\n",
      "| target_label | predicted_label | count |\n",
      "+--------------+-----------------+-------+\n",
      "|      1       |        0        |  1389 |\n",
      "|      1       |        1        |  2970 |\n",
      "|      0       |        1        |  1694 |\n",
      "|      0       |        0        |  2602 |\n",
      "+--------------+-----------------+-------+\n",
      "[4 rows x 3 columns]\n",
      ", 'accuracy': 0.643789716926632}\n",
      "***********************************************************************************************************\n"
     ]
    }
   ],
   "source": [
    "train_data = group2.append(group3.append(group4).append(group1))\n",
    "test_data = group5\n",
    "m5 = gl.logistic_classifier.create(\n",
    "    train_data,\n",
    "    target='gender',\n",
    "    features = ['cg2'],\n",
    "    #class_weights={1:5,0:5},\n",
    "    max_iterations=3000)\n",
    "result1 = m1.evaluate(test_data)\n",
    "print '***********************************************************************************************************'\n",
    "result5 = m5.evaluate(test_data)\n",
    "print result5\n",
    "print '***********************************************************************************************************'"
   ]
  },
  {
   "cell_type": "markdown",
   "metadata": {},
   "source": [
    "# session为独立的个体时，如果每一组的训练集和测试集都进行性别平衡，则五次的平均正确率为62.07%\n",
    "# id为独立个体时，处理同上，正确率为56.98%\n",
    "# 对session进行属性融合之后，正确率为58.66%，还有5.56%性别待定"
   ]
  },
  {
   "cell_type": "code",
   "execution_count": 14,
   "metadata": {
    "collapsed": false
   },
   "outputs": [
    {
     "name": "stdout",
     "output_type": "stream",
     "text": [
      "+--------------------------------+--------+--------------------+--------+----------------+\n",
      "|         session_number         | gender |        cg2         | random | predict_gender |\n",
      "+--------------------------------+--------+--------------------+--------+----------------+\n",
      "| Lt3iIB8nR3CiLhYFxxcGEQ==,43076 |   1    |     [电压力锅]     |   1    |       0        |\n",
      "| tel/fdndph7y67XS3TADSA==,1...  |   1    |  [电脑桌, 电脑桌]  |   1    |       1        |\n",
      "| H35kV+oYJwUCytTc5aXHTg==,33282 |   1    |      [保鲜盒]      |   1    |       0        |\n",
      "| u4IN93sCIFNW9n1bH8Hl0g==,1...  |   1    | [手机, 手机, 手机] |   1    |       1        |\n",
      "| e+KGX6LJa3A+qWGnb9CDUw==,74450 |   1    |      [理发器]      |   1    |       1        |\n",
      "| +gHQ9lVr1oe8biXGtH8h3g==,1412  |   1    |       [其他]       |   1    |       1        |\n",
      "| 0SJl3fNyUfS2LiUZg90d9w==,4393  |   1    |      [跑步鞋]      |   1    |       1        |\n",
      "| rX4h0hnyVINw6OpROxM8WA==,98999 |   1    |     [苹果配件]     |   1    |       0        |\n",
      "| A/JxJ85wBxbWFlp4UJxFyw==,21005 |   1    |      [针织衫]      |   1    |       0        |\n",
      "| dW4mJ1ilS88on2KJb0X23Q==,73789 |   1    |       [空调]       |   1    |       0        |\n",
      "+--------------------------------+--------+--------------------+--------+----------------+\n",
      "[55131 rows x 5 columns]\n",
      "Note: Only the head of the SFrame is printed.\n",
      "You can use print_rows(num_rows=m, num_columns=n) to print more rows and columns.\n"
     ]
    }
   ],
   "source": [
    "predict1 = m1.predict(group1)\n",
    "mdata1 = group1.add_column(gl.SArray(predict1))\n",
    "mdata1.rename({\"X5\":\"predict_gender\"})\n",
    "final_predict = mdata1\n",
    "mdata1 = mdata1.sort('session_number')\n",
    "mdata1['session_number'] = mdata1.apply(lambda x: x['session_number'].split(',')[0])\n",
    "mdata1.rename({'session_number':'id'})\n",
    "data_merging1 = mdata1.groupby(['id'],{'gender':gl.aggregate.SELECT_ONE('gender'), 'cg2':gl.aggregate.SELECT_ONE('cg2'),'predict_gender':gl.aggregate.AVG('predict_gender')})\n",
    "def predict_accuracy(x):\n",
    "    if abs(x['gender'] - x['predict_gender']) < 0.5:\n",
    "        return 1\n",
    "    elif abs(x['gender'] - x['predict_gender']) > 0.5:\n",
    "        return 0\n",
    "    else:\n",
    "        return -1\n",
    "data_merging1['predict_accuracy'] = data_merging1.apply(lambda x: predict_accuracy(x))\n",
    "\n",
    "gender_uncertain1 = len(data_merging1.filter_by(-1,'predict_accuracy'))\n",
    "gender_true1 = len(data_merging1.filter_by(1,'predict_accuracy'))\n",
    "gender_false1 = len(data_merging1.filter_by(0,'predict_accuracy'))\n",
    "\n",
    "predict2 = m2.predict(group2)\n",
    "mdata2 = group2.add_column(gl.SArray(predict2))\n",
    "mdata2.rename({\"X5\":\"predict_gender\"})\n",
    "final_predict = final_predict.append(mdata2)\n",
    "mdata2 = mdata2.sort('session_number')\n",
    "mdata2['session_number'] = mdata2.apply(lambda x: x['session_number'].split(',')[0])\n",
    "mdata2.rename({'session_number':'id'})\n",
    "data_merging2 = mdata2.groupby(['id'],{'gender':gl.aggregate.SELECT_ONE('gender'), 'cg2':gl.aggregate.SELECT_ONE('cg2'),'predict_gender':gl.aggregate.AVG('predict_gender')})\n",
    "data_merging2['predict_accuracy'] = data_merging2.apply(lambda x: predict_accuracy(x))\n",
    "\n",
    "gender_uncertain2 = len(data_merging2.filter_by(-1,'predict_accuracy'))\n",
    "gender_true2 = len(data_merging2.filter_by(1,'predict_accuracy'))\n",
    "gender_false2 = len(data_merging2.filter_by(0,'predict_accuracy'))\n",
    "\n",
    "predict3 = m3.predict(group3)\n",
    "mdata3 = group3.add_column(gl.SArray(predict3))\n",
    "mdata3.rename({\"X5\":\"predict_gender\"})\n",
    "final_predict = final_predict.append(mdata3)\n",
    "mdata3 = mdata3.sort('session_number')\n",
    "mdata3['session_number'] = mdata3.apply(lambda x: x['session_number'].split(',')[0])\n",
    "mdata3.rename({'session_number':'id'})\n",
    "data_merging3 = mdata3.groupby(['id'],{'gender':gl.aggregate.SELECT_ONE('gender'), 'cg2':gl.aggregate.SELECT_ONE('cg2'),'predict_gender':gl.aggregate.AVG('predict_gender')})\n",
    "data_merging3['predict_accuracy'] = data_merging3.apply(lambda x: predict_accuracy(x))\n",
    "\n",
    "gender_uncertain3 = len(data_merging3.filter_by(-1,'predict_accuracy'))\n",
    "gender_true3 = len(data_merging3.filter_by(1,'predict_accuracy'))\n",
    "gender_false3 = len(data_merging3.filter_by(0,'predict_accuracy'))\n",
    "\n",
    "predict4 = m4.predict(group4)\n",
    "mdata4 = group4.add_column(gl.SArray(predict4))\n",
    "mdata4.rename({\"X5\":\"predict_gender\"})\n",
    "final_predict = final_predict.append(mdata4)\n",
    "mdata4 = mdata4.sort('session_number')\n",
    "mdata4['session_number'] = mdata4.apply(lambda x: x['session_number'].split(',')[0])\n",
    "mdata4.rename({'session_number':'id'})\n",
    "data_merging4 = mdata4.groupby(['id'],{'gender':gl.aggregate.SELECT_ONE('gender'), 'cg2':gl.aggregate.SELECT_ONE('cg2'),'predict_gender':gl.aggregate.AVG('predict_gender')})\n",
    "data_merging4['predict_accuracy'] = data_merging4.apply(lambda x: predict_accuracy(x))\n",
    "\n",
    "gender_uncertain4 = len(data_merging4.filter_by(-1,'predict_accuracy'))\n",
    "gender_true4 = len(data_merging4.filter_by(1,'predict_accuracy'))\n",
    "gender_false4 = len(data_merging4.filter_by(0,'predict_accuracy'))\n",
    "\n",
    "predict5 = m5.predict(group5)\n",
    "mdata5 = group5.add_column(gl.SArray(predict5))\n",
    "mdata5.rename({\"X5\":\"predict_gender\"})\n",
    "final_predict = final_predict.append(mdata5)\n",
    "mdata5 = mdata5.sort('session_number')\n",
    "mdata5['session_number'] = mdata5.apply(lambda x: x['session_number'].split(',')[0])\n",
    "mdata5.rename({'session_number':'id'})\n",
    "data_merging5 = mdata5.groupby(['id'],{'gender':gl.aggregate.SELECT_ONE('gender'), 'cg2':gl.aggregate.SELECT_ONE('cg2'),'predict_gender':gl.aggregate.AVG('predict_gender')})\n",
    "data_merging5['predict_accuracy'] = data_merging5.apply(lambda x: predict_accuracy(x))\n",
    "\n",
    "gender_uncertain5 = len(data_merging5.filter_by(-1,'predict_accuracy'))\n",
    "gender_true5 = len(data_merging5.filter_by(1,'predict_accuracy'))\n",
    "gender_false5 = len(data_merging5.filter_by(0,'predict_accuracy'))\n",
    "print final_predict\n",
    "final_predict.save(r'E:\\Datasets2\\final_predict.csv',format = 'csv')"
   ]
  },
  {
   "cell_type": "code",
   "execution_count": 15,
   "metadata": {
    "collapsed": false
   },
   "outputs": [
    {
     "name": "stdout",
     "output_type": "stream",
     "text": [
      "0.595846645367\n",
      "0.610229606123\n",
      "0.602828030776\n",
      "0.598729906728\n",
      "0.60741301059\n"
     ]
    }
   ],
   "source": [
    "print gender_true1/float(gender_true1 + gender_uncertain1 + gender_false1)\n",
    "print gender_true2/float(gender_true2 + gender_uncertain2 + gender_false2)\n",
    "print gender_true3/float(gender_true3 + gender_uncertain3 + gender_false3)\n",
    "print gender_true4/float(gender_true4 + gender_uncertain4 + gender_false4)\n",
    "print gender_true5/float(gender_true5 + gender_uncertain5 + gender_false5)"
   ]
  },
  {
   "cell_type": "code",
   "execution_count": 16,
   "metadata": {
    "collapsed": false
   },
   "outputs": [
    {
     "name": "stdout",
     "output_type": "stream",
     "text": [
      "0.353719762665\n",
      "0.340862422998\n",
      "0.344354335621\n",
      "0.353046239333\n",
      "0.342284417549\n"
     ]
    }
   ],
   "source": [
    "print gender_false1/float(gender_true1 + gender_uncertain1 + gender_false1)\n",
    "print gender_false2/float(gender_true2 + gender_uncertain2 + gender_false2)\n",
    "print gender_false3/float(gender_true3 + gender_uncertain3 + gender_false3)\n",
    "print gender_false4/float(gender_true4 + gender_uncertain4 + gender_false4)\n",
    "print gender_false5/float(gender_true5 + gender_uncertain5 + gender_false5)"
   ]
  },
  {
   "cell_type": "code",
   "execution_count": 18,
   "metadata": {
    "collapsed": false
   },
   "outputs": [
    {
     "name": "stdout",
     "output_type": "stream",
     "text": [
      "0.0504335919671\n",
      "0.0489079708792\n",
      "0.0528176336037\n",
      "0.0482238539393\n",
      "0.0503025718608\n"
     ]
    }
   ],
   "source": [
    "print gender_uncertain1/float(gender_true1 + gender_uncertain1 + gender_false1)\n",
    "print gender_uncertain2/float(gender_true2 + gender_uncertain2 + gender_false2)\n",
    "print gender_uncertain3/float(gender_true3 + gender_uncertain3 + gender_false3)\n",
    "print gender_uncertain4/float(gender_true4 + gender_uncertain4 + gender_false4)\n",
    "print gender_uncertain5/float(gender_true5 + gender_uncertain5 + gender_false5)"
   ]
  },
  {
   "cell_type": "code",
   "execution_count": 19,
   "metadata": {
    "collapsed": false
   },
   "outputs": [
    {
     "name": "stdout",
     "output_type": "stream",
     "text": [
      "221\n",
      "262\n",
      "254\n",
      "243\n",
      "266\n"
     ]
    }
   ],
   "source": [
    "print gender_uncertain1\n",
    "print gender_uncertain2\n",
    "print gender_uncertain3\n",
    "print gender_uncertain4\n",
    "print gender_uncertain5"
   ]
  },
  {
   "cell_type": "code",
   "execution_count": 20,
   "metadata": {
    "collapsed": true
   },
   "outputs": [],
   "source": [
    "uncertain1 = data_merging1.filter_by(-1,'predict_accuracy')\n",
    "uncertain2 = data_merging2.filter_by(-1,'predict_accuracy')\n",
    "uncertain3 = data_merging3.filter_by(-1,'predict_accuracy')\n",
    "uncertain4 = data_merging4.filter_by(-1,'predict_accuracy')\n",
    "uncertain5 = data_merging5.filter_by(-1,'predict_accuracy')"
   ]
  },
  {
   "cell_type": "code",
   "execution_count": 22,
   "metadata": {
    "collapsed": false
   },
   "outputs": [],
   "source": [
    "true1 = data_merging1.filter_by(1,'predict_accuracy')\n",
    "true2 = data_merging2.filter_by(1,'predict_accuracy')\n",
    "true3 = data_merging3.filter_by(1,'predict_accuracy')\n",
    "true4 = data_merging4.filter_by(1,'predict_accuracy')\n",
    "true5 = data_merging5.filter_by(1,'predict_accuracy')\n",
    "false1 = data_merging1.filter_by(0,'predict_accuracy')\n",
    "false2 = data_merging2.filter_by(0,'predict_accuracy')\n",
    "false3 = data_merging3.filter_by(0,'predict_accuracy')\n",
    "false4 = data_merging4.filter_by(0,'predict_accuracy')\n",
    "false5 = data_merging5.filter_by(0,'predict_accuracy')"
   ]
  },
  {
   "cell_type": "code",
   "execution_count": 23,
   "metadata": {
    "collapsed": true
   },
   "outputs": [],
   "source": [
    "true = true1.append(true2).append(true3).append(true4).append(true5)\n",
    "false = false1.append(false2).append(false3).append(false4).append(false5)\n",
    "uncertain = uncertain1.append(uncertain2).append(uncertain3).append(uncertain4).append(uncertain5)"
   ]
  },
  {
   "cell_type": "code",
   "execution_count": 24,
   "metadata": {
    "collapsed": false
   },
   "outputs": [
    {
     "name": "stdout",
     "output_type": "stream",
     "text": [
      "+--------------------------+--------+----------------+\n",
      "|            id            | gender | predict_gender |\n",
      "+--------------------------+--------+----------------+\n",
      "| s8ngjR7TiQ9Nd0PVtLFiOA== |   0    |      0.0       |\n",
      "| 3C4oe7Zn5aK0kWOgscfaNA== |   1    |      1.0       |\n",
      "| c+VKciyaO4Atc9rHmkyIzg== |   0    |      0.0       |\n",
      "| 28XhBQmsrQrZr4F650OcGA== |   1    |      1.0       |\n",
      "| cqYa/cqVGXBqPn1zgkkjMw== |   1    | 0.666666666667 |\n",
      "| oUwyUs6sWoTYdQplhvjAlg== |   1    | 0.666666666667 |\n",
      "| ML6I15akB0Eq98c/o1BvYw== |   1    |      1.0       |\n",
      "| 7PDbNDPYbai9g6tRW5RlBA== |   1    |      1.0       |\n",
      "| kzLW+62J84y3XgTTp2XVOQ== |   1    |      1.0       |\n",
      "| 7SGsKwlAY8xRaV8K0exJLA== |   1    |      1.0       |\n",
      "+--------------------------+--------+----------------+\n",
      "+-------------------------------------------+------------------+\n",
      "|                    cg2                    | predict_accuracy |\n",
      "+-------------------------------------------+------------------+\n",
      "|                 [防辐射服]                |        1         |\n",
      "|                 [布艺软饰]                |        1         |\n",
      "| [厨房DIY/小工具, 厨房DIY/小工具, 厨房D... |        1         |\n",
      "|                 [浮漂鱼饵]                |        1         |\n",
      "|                 [休闲零食]                |        1         |\n",
      "|                  [运动裤]                 |        1         |\n",
      "|                [牙膏/牙粉]                |        1         |\n",
      "|                   [手机]                  |        1         |\n",
      "|                  [游戏机]                 |        1         |\n",
      "|                  [饮用水]                 |        1         |\n",
      "+-------------------------------------------+------------------+\n",
      "[15008 rows x 5 columns]\n",
      "Note: Only the head of the SFrame is printed.\n",
      "You can use print_rows(num_rows=m, num_columns=n) to print more rows and columns.\n"
     ]
    }
   ],
   "source": [
    "print true"
   ]
  },
  {
   "cell_type": "code",
   "execution_count": 25,
   "metadata": {
    "collapsed": true
   },
   "outputs": [],
   "source": [
    "num11 = true.filter_by(1, 'gender')\n",
    "num00 = true.filter_by(0, 'gender')\n",
    "num10 = false.filter_by(1, 'gender')\n",
    "num01 = false.filter_by(0, 'gender')\n",
    "num1u = uncertain.filter_by(1, 'gender')\n",
    "num0u = uncertain.filter_by(0, 'gender')"
   ]
  },
  {
   "cell_type": "code",
   "execution_count": 26,
   "metadata": {
    "collapsed": false
   },
   "outputs": [
    {
     "name": "stdout",
     "output_type": "stream",
     "text": [
      "+--------------------------+--------+----------------+\n",
      "|            id            | gender | predict_gender |\n",
      "+--------------------------+--------+----------------+\n",
      "| dvx/7qMM1H4W44f5dcItNg== |   1    |      0.0       |\n",
      "| WqAMkVL6oXemXYYAffjC9Q== |   1    |      0.0       |\n",
      "| oXDFEWGBD2QP4oVI26ECKQ== |   1    |      0.0       |\n",
      "| uwB6f5z6NLVz99AI2IzdmQ== |   1    |      0.0       |\n",
      "| g+lNU0kQUZYR6GWstt4omw== |   1    |      0.0       |\n",
      "| zO0cHGwUH0b0Qqag9IZH4A== |   1    |      0.0       |\n",
      "| Y3Sz1xjd3IQ9kUJn1Ixvyg== |   1    |      0.0       |\n",
      "| VTp+QeTxQAtL1xLaqj8K5Q== |   1    |      0.0       |\n",
      "| lDg65WNIB82AktOkZwMjkw== |   1    |      0.0       |\n",
      "| odFnz+dpvesxK6oVx44sSw== |   1    |      0.0       |\n",
      "+--------------------------+--------+----------------+\n",
      "+------------------------+------------------+\n",
      "|          cg2           | predict_accuracy |\n",
      "+------------------------+------------------+\n",
      "|        [油烟机]        |        0         |\n",
      "|        [连衣裙]        |        0         |\n",
      "|  [创意礼品, 创意礼品]  |        0         |\n",
      "|       [休闲零食]       |        0         |\n",
      "|       [智能手环]       |        0         |\n",
      "| [洗发, 洗发, 乳液面霜] |        0         |\n",
      "|    [套装, 乳液面霜]    |        0         |\n",
      "|         [空调]         |        0         |\n",
      "|       [奶瓶奶嘴]       |        0         |\n",
      "|        [连衣裙]        |        0         |\n",
      "+------------------------+------------------+\n",
      "[4552 rows x 5 columns]\n",
      "Note: Only the head of the SFrame is printed.\n",
      "You can use print_rows(num_rows=m, num_columns=n) to print more rows and columns. +--------------------------+--------+----------------+\n",
      "|            id            | gender | predict_gender |\n",
      "+--------------------------+--------+----------------+\n",
      "| 3C4oe7Zn5aK0kWOgscfaNA== |   1    |      1.0       |\n",
      "| 28XhBQmsrQrZr4F650OcGA== |   1    |      1.0       |\n",
      "| cqYa/cqVGXBqPn1zgkkjMw== |   1    | 0.666666666667 |\n",
      "| oUwyUs6sWoTYdQplhvjAlg== |   1    | 0.666666666667 |\n",
      "| ML6I15akB0Eq98c/o1BvYw== |   1    |      1.0       |\n",
      "| 7PDbNDPYbai9g6tRW5RlBA== |   1    |      1.0       |\n",
      "| kzLW+62J84y3XgTTp2XVOQ== |   1    |      1.0       |\n",
      "| 7SGsKwlAY8xRaV8K0exJLA== |   1    |      1.0       |\n",
      "| N4dN2sXGV+/InmwIOQ0bBw== |   1    |      1.0       |\n",
      "| kDxXSTeMqRC73wuLk1oMZA== |   1    |      1.0       |\n",
      "+--------------------------+--------+----------------+\n",
      "+-------------+------------------+\n",
      "|     cg2     | predict_accuracy |\n",
      "+-------------+------------------+\n",
      "|  [布艺软饰] |        1         |\n",
      "|  [浮漂鱼饵] |        1         |\n",
      "|  [休闲零食] |        1         |\n",
      "|   [运动裤]  |        1         |\n",
      "| [牙膏/牙粉] |        1         |\n",
      "|    [手机]   |        1         |\n",
      "|   [游戏机]  |        1         |\n",
      "|   [饮用水]  |        1         |\n",
      "|    [沙发]   |        1         |\n",
      "|  [手机支架] |        1         |\n",
      "+-------------+------------------+\n",
      "[9331 rows x 5 columns]\n",
      "Note: Only the head of the SFrame is printed.\n",
      "You can use print_rows(num_rows=m, num_columns=n) to print more rows and columns. +--------------------------+--------+----------------+\n",
      "|            id            | gender | predict_gender |\n",
      "+--------------------------+--------+----------------+\n",
      "| 778S78u/wCVw25TxTMAxaw== |   0    |      1.0       |\n",
      "| AcXyKAkCKFgKO4UnQuGd6Q== |   0    |      1.0       |\n",
      "| 86rUZgmljCF+Nn80YVZK5g== |   0    |      1.0       |\n",
      "| rV0G+7l8cPFK9oBOF9KR6A== |   0    |      1.0       |\n",
      "| 0NqhEu5JmOMYqzydm+RUfg== |   0    |      1.0       |\n",
      "| xzGKIWoVQ0S3sKiGXP6F7w== |   0    |      1.0       |\n",
      "| TqJaPpad2VBsBIad2HdVyQ== |   0    |      1.0       |\n",
      "| N4M+iGGYQZ1YdplEdv1KEg== |   0    |      1.0       |\n",
      "| Gfi59+e3j96C+ns+HgqRsA== |   0    |      1.0       |\n",
      "| tY6Vof9JHZipwPWXxNgNpQ== |   0    |      1.0       |\n",
      "+--------------------------+--------+----------------+\n",
      "+-------------------------------------------------+------------------+\n",
      "|                       cg2                       | predict_accuracy |\n",
      "+-------------------------------------------------+------------------+\n",
      "|                 [投影机, 投影机]                |        0         |\n",
      "|                    [儿童手表]                   |        0         |\n",
      "|                    [家用五金]                   |        0         |\n",
      "|   [办公文具, 办公文具, 文件管理, 办公文具]...   |        0         |\n",
      "| [电池/移动电源, 移动电源, 休闲棉袜, 休闲棉袜... |        0         |\n",
      "|                      [显卡]                     |        0         |\n",
      "|       [跑步鞋, 跑步鞋, 跑步鞋, 跑步鞋]...       |        0         |\n",
      "|   [按摩器, 按摩器, 按摩器, 按摩器, 按摩器]...   |        0         |\n",
      "|   [跑步鞋, 跑步鞋, 跑步鞋, 跑步鞋, 休闲鞋, ...  |        0         |\n",
      "|               [安防监控, 安防监控]              |        0         |\n",
      "+-------------------------------------------------+------------------+\n",
      "[4069 rows x 5 columns]\n",
      "Note: Only the head of the SFrame is printed.\n",
      "You can use print_rows(num_rows=m, num_columns=n) to print more rows and columns. +--------------------------+--------+-----------------+\n",
      "|            id            | gender |  predict_gender |\n",
      "+--------------------------+--------+-----------------+\n",
      "| s8ngjR7TiQ9Nd0PVtLFiOA== |   0    |       0.0       |\n",
      "| c+VKciyaO4Atc9rHmkyIzg== |   0    |       0.0       |\n",
      "| BewrNCOQIpADHEYS8NuapQ== |   0    |       0.0       |\n",
      "| hqKb84BaGgXhWupEkxJhuw== |   0    |       0.0       |\n",
      "| QJUbLjC0amktSTS/668aJg== |   0    |  0.333333333333 |\n",
      "| eMMqaeTbx187/1GdCk5slg== |   0    | 0.0666666666667 |\n",
      "| iIUCVkFG9MVwVrx5bCLHFA== |   0    |       0.0       |\n",
      "| LPGpVjEY/5HSwapwwiSelA== |   0    |       0.0       |\n",
      "| Q/2803Z8VfVUGj+uulseeQ== |   0    |       0.0       |\n",
      "| jd1TRbPcSUMRJAFcwRxltQ== |   0    |  0.285714285714 |\n",
      "+--------------------------+--------+-----------------+\n",
      "+------------------------------------------------+------------------+\n",
      "|                      cg2                       | predict_accuracy |\n",
      "+------------------------------------------------+------------------+\n",
      "|                   [防辐射服]                   |        1         |\n",
      "|   [厨房DIY/小工具, 厨房DIY/小工具, 厨房D...    |        1         |\n",
      "|              [多用途锅, 多用途锅]              |        1         |\n",
      "|                   [通俗说史]                   |        1         |\n",
      "|                     [机油]                     |        1         |\n",
      "|       [箱包, 箱包, 箱包, 箱包, 箱包]...        |        1         |\n",
      "|                     [空调]                     |        1         |\n",
      "|                    [连衣裙]                    |        1         |\n",
      "| [养生器械, 养生器械, 养生器械, 养生器械, 养... |        1         |\n",
      "|           [数据线, 充电器/数据线]...           |        1         |\n",
      "+------------------------------------------------+------------------+\n",
      "[5677 rows x 5 columns]\n",
      "Note: Only the head of the SFrame is printed.\n",
      "You can use print_rows(num_rows=m, num_columns=n) to print more rows and columns. +--------------------------+--------+----------------+\n",
      "|            id            | gender | predict_gender |\n",
      "+--------------------------+--------+----------------+\n",
      "| i4ivBgp08aLBPxZE6XzndQ== |   1    |      0.5       |\n",
      "| r01W3Eax4S1HLLDjabK3iQ== |   1    |      0.5       |\n",
      "| +RWpImsRpAOhtlSHunzvWw== |   1    |      0.5       |\n",
      "| 8V3+TOZHgnhZkJZtrxCnAw== |   1    |      0.5       |\n",
      "| 7BQFEfE4Y07BIkh2//qZEw== |   1    |      0.5       |\n",
      "| uha/8ch0nV3xqEfv8zsYvg== |   1    |      0.5       |\n",
      "| Xu68zb8XCUpQSLdDr18zQA== |   1    |      0.5       |\n",
      "| VRBuOOp24CU/5I/EIZ3JmA== |   1    |      0.5       |\n",
      "| XhaPKfX9+wtgxWanz9ltRA== |   1    |      0.5       |\n",
      "| 6UVetE0TgS/iIiZ3DeSYaQ== |   1    |      0.5       |\n",
      "+--------------------------+--------+----------------+\n",
      "+----------------------------------------------+------------------+\n",
      "|                     cg2                      | predict_accuracy |\n",
      "+----------------------------------------------+------------------+\n",
      "|                  [钓鱼配件]                  |        -1        |\n",
      "| [打底衫, T恤, 速干衣裤, 速干衣裤, 打底衫]... |        -1        |\n",
      "|                 [耳机/耳麦]                  |        -1        |\n",
      "|                    [饮料]                    |        -1        |\n",
      "|                  [情趣内衣]                  |        -1        |\n",
      "|                   [双肩包]                   |        -1        |\n",
      "|                  [电动工具]                  |        -1        |\n",
      "|         [其他中小型器材, 跑步机]...          |        -1        |\n",
      "|                   [合约机]                   |        -1        |\n",
      "|               [太阳镜/眼镜框]                |        -1        |\n",
      "+----------------------------------------------+------------------+\n",
      "[737 rows x 5 columns]\n",
      "Note: Only the head of the SFrame is printed.\n",
      "You can use print_rows(num_rows=m, num_columns=n) to print more rows and columns. +--------------------------+--------+----------------+\n",
      "|            id            | gender | predict_gender |\n",
      "+--------------------------+--------+----------------+\n",
      "| wRFl3geGNDcJ3PzdaTqCrw== |   0    |      0.5       |\n",
      "| NuzFxpOBMQhxb5UA22QWCQ== |   0    |      0.5       |\n",
      "| Z6WwlXTZi3X23h19s4qM0Q== |   0    |      0.5       |\n",
      "| aAwNKjBDV6fb1kndPGq2zw== |   0    |      0.5       |\n",
      "| Vqqy3EUcuW2YtRdt3jd3DA== |   0    |      0.5       |\n",
      "| 1iIEQERW12UrSzPGaNn+CA== |   0    |      0.5       |\n",
      "| rvtzxpFYnRora/S42fBg7A== |   0    |      0.5       |\n",
      "| 4faSlvMxTPpjj+Ll0iAVBQ== |   0    |      0.5       |\n",
      "| DwQ8LP1oW/oGnOufVQJM5A== |   0    |      0.5       |\n",
      "| wdVYCT2vlh0h8Hn4aao/ow== |   0    |      0.5       |\n",
      "+--------------------------+--------+----------------+\n",
      "+-------------------------------------------------+------------------+\n",
      "|                       cg2                       | predict_accuracy |\n",
      "+-------------------------------------------------+------------------+\n",
      "|     [电烤箱, 男式内裤, 电烤箱, 洗发沐浴]...     |        -1        |\n",
      "|                      [衬衫]                     |        -1        |\n",
      "|  [电池/充电器, 电池/充电器, 电池/充电器, 电...  |        -1        |\n",
      "|        [多用途锅, 多用途锅, 多用途锅]...        |        -1        |\n",
      "| [图形图像/视频, 图形图像/多媒体, 乐器教材/曲... |        -1        |\n",
      "|        [饼干蛋糕, 饼干蛋糕, 饼干蛋糕]...        |        -1        |\n",
      "|                    [鱼竿鱼线]                   |        -1        |\n",
      "|                     [煮蛋器]                    |        -1        |\n",
      "|                  [平板电脑配件]                 |        -1        |\n",
      "|           [香水, 香水, 香水, 轮胎]...           |        -1        |\n",
      "+-------------------------------------------------+------------------+\n",
      "[509 rows x 5 columns]\n",
      "Note: Only the head of the SFrame is printed.\n",
      "You can use print_rows(num_rows=m, num_columns=n) to print more rows and columns.\n"
     ]
    }
   ],
   "source": [
    "print len(num10), len(num11), num01, num00, num1u, num0u"
   ]
  },
  {
   "cell_type": "code",
   "execution_count": null,
   "metadata": {
    "collapsed": true
   },
   "outputs": [],
   "source": []
  }
 ],
 "metadata": {
  "kernelspec": {
   "display_name": "Python 2",
   "language": "python",
   "name": "python2"
  },
  "language_info": {
   "codemirror_mode": {
    "name": "ipython",
    "version": 2
   },
   "file_extension": ".py",
   "mimetype": "text/x-python",
   "name": "python",
   "nbconvert_exporter": "python",
   "pygments_lexer": "ipython2",
   "version": "2.7.11"
  }
 },
 "nbformat": 4,
 "nbformat_minor": 0
}
