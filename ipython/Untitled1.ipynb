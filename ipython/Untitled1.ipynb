{
 "cells": [
  {
   "cell_type": "markdown",
   "metadata": {},
   "source": [
    "# 大类目录清单"
   ]
  },
  {
   "cell_type": "code",
   "execution_count": 1,
   "metadata": {
    "collapsed": false
   },
   "outputs": [
    {
     "name": "stdout",
     "output_type": "stream",
     "text": [
      "Using matplotlib backend: Qt4Agg\n",
      "Populating the interactive namespace from numpy and matplotlib\n"
     ]
    }
   ],
   "source": [
    "%pylab\n",
    "import graphlab as gl"
   ]
  },
  {
   "cell_type": "code",
   "execution_count": 15,
   "metadata": {
    "collapsed": false
   },
   "outputs": [
    {
     "data": {
      "text/html": [
       "<pre>Finished parsing file E:\\xj_profile_jd_product.dat</pre>"
      ],
      "text/plain": [
       "Finished parsing file E:\\xj_profile_jd_product.dat"
      ]
     },
     "metadata": {},
     "output_type": "display_data"
    },
    {
     "data": {
      "text/html": [
       "<pre>Parsing completed. Parsed 100 lines in 0.478687 secs.</pre>"
      ],
      "text/plain": [
       "Parsing completed. Parsed 100 lines in 0.478687 secs."
      ]
     },
     "metadata": {},
     "output_type": "display_data"
    },
    {
     "name": "stdout",
     "output_type": "stream",
     "text": [
      "------------------------------------------------------\n",
      "Inferred types from first 100 line(s) of file as \n",
      "column_type_hints=[str,str,float,str,str,str,str,str,long,long]\n",
      "If parsing fails due to incorrect types, you can correct\n",
      "the inferred type list above and pass it to read_csv in\n",
      "the column_type_hints argument\n",
      "------------------------------------------------------\n"
     ]
    },
    {
     "data": {
      "text/html": [
       "<pre>Unable to parse line \"izOr54LwJlcWq/qxlmwmeg==\tnull\t\\N\t姣嶅┐\t濡堝�涓撳尯\t瀛曞�瑁�缇庣惓濡堝挭锛圢ICE MAMA锛�缇庣惓濡堝挭 瀛曞�瑁呮槬瑁�闊╃増瀛曞�瑁ら暱瑁ゅ瓙澶х爜澶栫┛鎵樿吂瑁ゅ�鏉炬槬绉嬪瓡濡囨墦搴曡￥浼戦棽瑁ゆ槬澶忔�4322 鍗″叾鏄ョ�鏃犵粧-搴楅暱鎺ㄨ崘 L鐮�鐑�...\"</pre>"
      ],
      "text/plain": [
       "Unable to parse line \"izOr54LwJlcWq/qxlmwmeg==\tnull\t\\N\t姣嶅┐\t濡堝�涓撳尯\t瀛曞�瑁�缇庣惓濡堝挭锛圢ICE MAMA锛�缇庣惓濡堝挭 瀛曞�瑁呮槬瑁�闊╃増瀛曞�瑁ら暱瑁ゅ瓙澶х爜澶栫┛鎵樿吂瑁ゅ�鏉炬槬绉嬪瓡濡囨墦搴曡￥浼戦棽瑁ゆ槬澶忔�4322 鍗″叾鏄ョ�鏃犵粧-搴楅暱鎺ㄨ崘 L鐮�鐑�...\""
      ]
     },
     "metadata": {},
     "output_type": "display_data"
    },
    {
     "data": {
      "text/html": [
       "<pre>Unable to parse line \"izOr54LwJlcWq/qxlmwmeg==\tnull\t\\N\t姣嶅┐\t濡堝�涓撳尯\t瀛曞�瑁�缇庣惓濡堝挭锛圢ICE MAMA锛�缇庣惓濡堝挭 瀛曞�瑁呮槬瑁�闊╃増瀛曞�瑁ら暱瑁ゅ瓙澶х爜澶栫┛鎵樿吂瑁ゅ�鏉炬槬绉嬪瓡濡囨墦搴曡￥浼戦棽瑁ゆ槬澶忔�4322 鍗″叾鏄ョ�鏃犵粧-搴楅暱鎺ㄨ崘 L鐮�鐑�...\"</pre>"
      ],
      "text/plain": [
       "Unable to parse line \"izOr54LwJlcWq/qxlmwmeg==\tnull\t\\N\t姣嶅┐\t濡堝�涓撳尯\t瀛曞�瑁�缇庣惓濡堝挭锛圢ICE MAMA锛�缇庣惓濡堝挭 瀛曞�瑁呮槬瑁�闊╃増瀛曞�瑁ら暱瑁ゅ瓙澶х爜澶栫┛鎵樿吂瑁ゅ�鏉炬槬绉嬪瓡濡囨墦搴曡￥浼戦棽瑁ゆ槬澶忔�4322 鍗″叾鏄ョ�鏃犵粧-搴楅暱鎺ㄨ崘 L鐮�鐑�...\""
      ]
     },
     "metadata": {},
     "output_type": "display_data"
    },
    {
     "data": {
      "text/html": [
       "<pre>Unable to parse line \"v8uIqxyZywCAC69pTL6Xkg==\tnull\t\\N\t涓�姢鍖栧�\t闈㈤儴鎶よ偆\t闈㈣啘\t寰℃偿鍧�寰℃偿鍧�榛戝姞浠戦矞瀚╀寒閲囬粦闈㈣啘璐�21鐗囷紙闈㈣啘璐�濂楄� 琛ユ按淇濇箍 鎻愪寒鑲よ壊锛�2593913\t20160724133226\"</pre>"
      ],
      "text/plain": [
       "Unable to parse line \"v8uIqxyZywCAC69pTL6Xkg==\tnull\t\\N\t涓�姢鍖栧�\t闈㈤儴鎶よ偆\t闈㈣啘\t寰℃偿鍧�寰℃偿鍧�榛戝姞浠戦矞瀚╀寒閲囬粦闈㈣啘璐�21鐗囷紙闈㈣啘璐�濂楄� 琛ユ按淇濇箍 鎻愪寒鑲よ壊锛�2593913\t20160724133226\""
      ]
     },
     "metadata": {},
     "output_type": "display_data"
    },
    {
     "data": {
      "text/html": [
       "<pre>Unable to parse line \"v8uIqxyZywCAC69pTL6Xkg==\tnull\t\\N\t涓�姢鍖栧�\t闈㈤儴鎶よ偆\t闈㈣啘\t寰℃偿鍧�寰℃偿鍧�榛戝姞浠戦矞瀚╀寒閲囬粦闈㈣啘璐�21鐗囷紙闈㈣啘璐�濂楄� 琛ユ按淇濇箍 鎻愪寒鑲よ壊锛�2593913\t20160724133226\"</pre>"
      ],
      "text/plain": [
       "Unable to parse line \"v8uIqxyZywCAC69pTL6Xkg==\tnull\t\\N\t涓�姢鍖栧�\t闈㈤儴鎶よ偆\t闈㈣啘\t寰℃偿鍧�寰℃偿鍧�榛戝姞浠戦矞瀚╀寒閲囬粦闈㈣啘璐�21鐗囷紙闈㈣啘璐�濂楄� 琛ユ按淇濇箍 鎻愪寒鑲よ壊锛�2593913\t20160724133226\""
      ]
     },
     "metadata": {},
     "output_type": "display_data"
    },
    {
     "data": {
      "text/html": [
       "<pre>Unable to parse line \"qVYQ5R1sq9GzIcIzDFWB8w==\tnull\t\\N\t绀煎搧绠卞寘\t娼�祦濂冲寘\t鍗曡偐鍖�瀹夊�甯岄泤锛圓NNAXIYA锛�瀹夊�甯岄泤濂冲寘 2016鏂板搧鏂版�娌硅湣鐗涚毊鐪熺毊mini灏忓寘鍖�灏忔柟鍖呭�鍙ら偖宸�畝绾︿紤闂插崟鑲╂枩璺ㄥ寘 榛戣壊\t10295344541\t20160621153730\"</pre>"
      ],
      "text/plain": [
       "Unable to parse line \"qVYQ5R1sq9GzIcIzDFWB8w==\tnull\t\\N\t绀煎搧绠卞寘\t娼�祦濂冲寘\t鍗曡偐鍖�瀹夊�甯岄泤锛圓NNAXIYA锛�瀹夊�甯岄泤濂冲寘 2016鏂板搧鏂版�娌硅湣鐗涚毊鐪熺毊mini灏忓寘鍖�灏忔柟鍖呭�鍙ら偖宸�畝绾︿紤闂插崟鑲╂枩璺ㄥ寘 榛戣壊\t10295344541\t20160621153730\""
      ]
     },
     "metadata": {},
     "output_type": "display_data"
    },
    {
     "data": {
      "text/html": [
       "<pre>Unable to parse line \"qVYQ5R1sq9GzIcIzDFWB8w==\tnull\t\\N\t绀煎搧绠卞寘\t娼�祦濂冲寘\t鍗曡偐鍖�瀹夊�甯岄泤锛圓NNAXIYA锛�瀹夊�甯岄泤濂冲寘 2016鏂板搧鏂版�娌硅湣鐗涚毊鐪熺毊mini灏忓寘鍖�灏忔柟鍖呭�鍙ら偖宸�畝绾︿紤闂插崟鑲╂枩璺ㄥ寘 榛戣壊\t10295344541\t20160621153730\"</pre>"
      ],
      "text/plain": [
       "Unable to parse line \"qVYQ5R1sq9GzIcIzDFWB8w==\tnull\t\\N\t绀煎搧绠卞寘\t娼�祦濂冲寘\t鍗曡偐鍖�瀹夊�甯岄泤锛圓NNAXIYA锛�瀹夊�甯岄泤濂冲寘 2016鏂板搧鏂版�娌硅湣鐗涚毊鐪熺毊mini灏忓寘鍖�灏忔柟鍖呭�鍙ら偖宸�畝绾︿紤闂插崟鑲╂枩璺ㄥ寘 榛戣壊\t10295344541\t20160621153730\""
      ]
     },
     "metadata": {},
     "output_type": "display_data"
    },
    {
     "data": {
      "text/html": [
       "<pre>Unable to parse line \"gLXlCr1s8PcZF1/6n1B3Sw==\tnull\t\\N\t鎵嬫満\t鎵嬫満閫氳�\t鎵嬫満\t涓夋槦锛圫AMSUNG锛�涓夋槦 Galaxy S7 edge锛圙9350锛�2G鐗�铦欒潬渚犵壒鍒�増\t2957726\t20160703091633\"</pre>"
      ],
      "text/plain": [
       "Unable to parse line \"gLXlCr1s8PcZF1/6n1B3Sw==\tnull\t\\N\t鎵嬫満\t鎵嬫満閫氳�\t鎵嬫満\t涓夋槦锛圫AMSUNG锛�涓夋槦 Galaxy S7 edge锛圙9350锛�2G鐗�铦欒潬渚犵壒鍒�増\t2957726\t20160703091633\""
      ]
     },
     "metadata": {},
     "output_type": "display_data"
    },
    {
     "data": {
      "text/html": [
       "<pre>Unable to parse line \"qVYQ5R1sq9GzIcIzDFWB8w==\tnull\t\\N\t鎵嬫満\t鎵嬫満閫氳�\t鎵嬫満\t鍗庝负锛圚UAWEI锛�鍗庝负 G9 闈掓槬鐗�鐧借壊 绉诲姩鑱旈�鐢典俊4G鎵嬫満 鍙屽崱鍙屽緟\t2600242\t20160722124846\"</pre>"
      ],
      "text/plain": [
       "Unable to parse line \"qVYQ5R1sq9GzIcIzDFWB8w==\tnull\t\\N\t鎵嬫満\t鎵嬫満閫氳�\t鎵嬫満\t鍗庝负锛圚UAWEI锛�鍗庝负 G9 闈掓槬鐗�鐧借壊 绉诲姩鑱旈�鐢典俊4G鎵嬫満 鍙屽崱鍙屽緟\t2600242\t20160722124846\""
      ]
     },
     "metadata": {},
     "output_type": "display_data"
    },
    {
     "data": {
      "text/html": [
       "<pre>Unable to parse line \"gLXlCr1s8PcZF1/6n1B3Sw==\tnull\t\\N\t鎵嬫満\t鎵嬫満閫氳�\t鎵嬫満\t涓夋槦锛圫AMSUNG锛�涓夋槦 Galaxy S7 edge锛圙9350锛�2G鐗�铦欒潬渚犵壒鍒�増\t2957726\t20160703091826\"</pre>"
      ],
      "text/plain": [
       "Unable to parse line \"gLXlCr1s8PcZF1/6n1B3Sw==\tnull\t\\N\t鎵嬫満\t鎵嬫満閫氳�\t鎵嬫満\t涓夋槦锛圫AMSUNG锛�涓夋槦 Galaxy S7 edge锛圙9350锛�2G鐗�铦欒潬渚犵壒鍒�増\t2957726\t20160703091826\""
      ]
     },
     "metadata": {},
     "output_type": "display_data"
    },
    {
     "data": {
      "text/html": [
       "<pre>Unable to parse line \"gLXlCr1s8PcZF1/6n1B3Sw==\tnull\t\\N\t鎵嬫満\t鎵嬫満閫氳�\t鎵嬫満\t涓夋槦锛圫AMSUNG锛�涓夋槦 Galaxy S7 edge锛圙9350锛�2G鐗�铦欒潬渚犵壒鍒�増\t2957726\t20160703091826\"</pre>"
      ],
      "text/plain": [
       "Unable to parse line \"gLXlCr1s8PcZF1/6n1B3Sw==\tnull\t\\N\t鎵嬫満\t鎵嬫満閫氳�\t鎵嬫満\t涓夋槦锛圫AMSUNG锛�涓夋槦 Galaxy S7 edge锛圙9350锛�2G鐗�铦欒潬渚犵壒鍒�増\t2957726\t20160703091826\""
      ]
     },
     "metadata": {},
     "output_type": "display_data"
    },
    {
     "data": {
      "text/html": [
       "<pre>Unable to parse line \"qVYQ5R1sq9GzIcIzDFWB8w==\tnull\t\\N\t鎵嬫満\t鎵嬫満閫氳�\t鎵嬫満\t鍗庝负锛圚UAWEI锛�鍗庝负 G9 闈掓槬鐗�鐧借壊 绉诲姩鑱旈�鐢典俊4G鎵嬫満 鍙屽崱鍙屽緟\t2600242\t20160722124846\"</pre>"
      ],
      "text/plain": [
       "Unable to parse line \"qVYQ5R1sq9GzIcIzDFWB8w==\tnull\t\\N\t鎵嬫満\t鎵嬫満閫氳�\t鎵嬫満\t鍗庝负锛圚UAWEI锛�鍗庝负 G9 闈掓槬鐗�鐧借壊 绉诲姩鑱旈�鐢典俊4G鎵嬫満 鍙屽崱鍙屽緟\t2600242\t20160722124846\""
      ]
     },
     "metadata": {},
     "output_type": "display_data"
    },
    {
     "data": {
      "text/html": [
       "<pre>Read 260701 lines. Lines per second: 486595</pre>"
      ],
      "text/plain": [
       "Read 260701 lines. Lines per second: 486595"
      ]
     },
     "metadata": {},
     "output_type": "display_data"
    },
    {
     "data": {
      "text/html": [
       "<pre>Read 3620373 lines. Lines per second: 626896</pre>"
      ],
      "text/plain": [
       "Read 3620373 lines. Lines per second: 626896"
      ]
     },
     "metadata": {},
     "output_type": "display_data"
    },
    {
     "data": {
      "text/html": [
       "<pre>3588 lines failed to parse correctly</pre>"
      ],
      "text/plain": [
       "3588 lines failed to parse correctly"
      ]
     },
     "metadata": {},
     "output_type": "display_data"
    },
    {
     "data": {
      "text/html": [
       "<pre>Finished parsing file E:\\xj_profile_jd_product.dat</pre>"
      ],
      "text/plain": [
       "Finished parsing file E:\\xj_profile_jd_product.dat"
      ]
     },
     "metadata": {},
     "output_type": "display_data"
    },
    {
     "data": {
      "text/html": [
       "<pre>Parsing completed. Parsed 6668376 lines in 10.6674 secs.</pre>"
      ],
      "text/plain": [
       "Parsing completed. Parsed 6668376 lines in 10.6674 secs."
      ]
     },
     "metadata": {},
     "output_type": "display_data"
    },
    {
     "name": "stdout",
     "output_type": "stream",
     "text": [
      "+--------------------------+----+------+------------+----------+----------+\n",
      "|            X1            | X2 |  X3  |     X4     |    X5    |    X6    |\n",
      "+--------------------------+----+------+------------+----------+----------+\n",
      "| tEmx3NBKDC6AmI4+D+Xeow== | 男 | 46.0 | 电脑、办公 | 电脑整机 | 平板电脑 |\n",
      "| skPlSTEloq4OXIVdCcEgsQ== | 男 | 44.0 | 电脑、办公 | 电脑整机 | 平板电脑 |\n",
      "| skPlSTEloq4OXIVdCcEgsQ== | 男 | 44.0 | 电脑、办公 | 电脑整机 | 平板电脑 |\n",
      "| tEmx3NBKDC6AmI4+D+Xeow== | 男 | 46.0 | 电脑、办公 | 电脑整机 | 平板电脑 |\n",
      "| teoHnEoqNBAgCQQ0GGMRpg== | 男 | 28.0 | 电脑、办公 | 电脑整机 | 平板电脑 |\n",
      "| wi2DkUG8oUTakBgoUgHZow== | 男 | 47.0 | 电脑、办公 | 电脑整机 | 平板电脑 |\n",
      "| wi2DkUG8oUTakBgoUgHZow== | 男 | 47.0 | 电脑、办公 | 电脑整机 | 平板电脑 |\n",
      "| tEmx3NBKDC6AmI4+D+Xeow== | 男 | 46.0 | 电脑、办公 | 电脑整机 | 平板电脑 |\n",
      "| tEmx3NBKDC6AmI4+D+Xeow== | 男 | 46.0 | 电脑、办公 | 电脑整机 | 平板电脑 |\n",
      "| yiCz352mmUfDJcTJ7POgGw== | 男 | 23.0 | 电脑、办公 | 电脑整机 | 平板电脑 |\n",
      "+--------------------------+----+------+------------+----------+----------+\n",
      "+----------------+------------------------------------------------+---------+\n",
      "|       X7       |                       X8                       |    X9   |\n",
      "+----------------+------------------------------------------------+---------+\n",
      "| 华为（HUAWEI） | 华为（HUAWEI）荣耀平板3G高配版 通话平板电脑... | 2573088 |\n",
      "| 华为（HUAWEI） | 华为（HUAWEI）荣耀平板3G高配版 通话平板电脑... | 2573088 |\n",
      "| 华为（HUAWEI） | 华为（HUAWEI）荣耀平板3G高配版 通话平板电脑... | 2573088 |\n",
      "| 华为（HUAWEI） | 华为（HUAWEI）荣耀平板3G高配版 通话平板电脑... | 2573088 |\n",
      "| 华为（HUAWEI） | 华为（HUAWEI）荣耀平板3G高配版 通话平板电脑... | 2573088 |\n",
      "| 华为（HUAWEI） | 华为（HUAWEI）荣耀平板3G高配版 通话平板电脑... | 2573088 |\n",
      "| 华为（HUAWEI） | 华为（HUAWEI）荣耀平板3G高配版 通话平板电脑... | 2573088 |\n",
      "| 华为（HUAWEI） | 华为（HUAWEI）荣耀平板3G高配版 通话平板电脑... | 2573088 |\n",
      "| 华为（HUAWEI） | 华为（HUAWEI）荣耀平板3G高配版 通话平板电脑... | 2573088 |\n",
      "| 华为（HUAWEI） | 华为（HUAWEI）荣耀平板3G高配版 通话平板电脑... | 2573088 |\n",
      "+----------------+------------------------------------------------+---------+\n",
      "+----------------+\n",
      "|      X10       |\n",
      "+----------------+\n",
      "| 20160930181110 |\n",
      "| 20160612190558 |\n",
      "| 20160612190558 |\n",
      "| 20160930181107 |\n",
      "| 20160803224432 |\n",
      "| 20160605163031 |\n",
      "| 20160605163027 |\n",
      "| 20160930181107 |\n",
      "| 20160930181107 |\n",
      "| 20160703003827 |\n",
      "+----------------+\n",
      "[6668376 rows x 10 columns]\n",
      "Note: Only the head of the SFrame is printed.\n",
      "You can use print_rows(num_rows=m, num_columns=n) to print more rows and columns.\n"
     ]
    }
   ],
   "source": [
    "train_data = gl.SFrame.read_csv(r'E:\\xj_profile_jd_product.dat', header = False, delimiter = '\\t')\n",
    "print train_data"
   ]
  },
  {
   "cell_type": "code",
   "execution_count": 16,
   "metadata": {
    "collapsed": false
   },
   "outputs": [
    {
     "data": {
      "text/html": [
       "<div style=\"max-height:1000px;max-width:1500px;overflow:auto;\"><table frame=\"box\" rules=\"cols\">\n",
       "    <tr>\n",
       "        <th style=\"padding-left: 1em; padding-right: 1em; text-align: center\">id</th>\n",
       "        <th style=\"padding-left: 1em; padding-right: 1em; text-align: center\">gender</th>\n",
       "        <th style=\"padding-left: 1em; padding-right: 1em; text-align: center\">age</th>\n",
       "        <th style=\"padding-left: 1em; padding-right: 1em; text-align: center\">ct1</th>\n",
       "        <th style=\"padding-left: 1em; padding-right: 1em; text-align: center\">ct2</th>\n",
       "        <th style=\"padding-left: 1em; padding-right: 1em; text-align: center\">ct3</th>\n",
       "        <th style=\"padding-left: 1em; padding-right: 1em; text-align: center\">brand</th>\n",
       "    </tr>\n",
       "    <tr>\n",
       "        <td style=\"padding-left: 1em; padding-right: 1em; text-align: center; vertical-align: top\">tEmx3NBKDC6AmI4+D+Xeow==</td>\n",
       "        <td style=\"padding-left: 1em; padding-right: 1em; text-align: center; vertical-align: top\">男</td>\n",
       "        <td style=\"padding-left: 1em; padding-right: 1em; text-align: center; vertical-align: top\">46.0</td>\n",
       "        <td style=\"padding-left: 1em; padding-right: 1em; text-align: center; vertical-align: top\">电脑、办公</td>\n",
       "        <td style=\"padding-left: 1em; padding-right: 1em; text-align: center; vertical-align: top\">电脑整机</td>\n",
       "        <td style=\"padding-left: 1em; padding-right: 1em; text-align: center; vertical-align: top\">平板电脑</td>\n",
       "        <td style=\"padding-left: 1em; padding-right: 1em; text-align: center; vertical-align: top\">华为（HUAWEI）</td>\n",
       "    </tr>\n",
       "    <tr>\n",
       "        <td style=\"padding-left: 1em; padding-right: 1em; text-align: center; vertical-align: top\">skPlSTEloq4OXIVdCcEgsQ==</td>\n",
       "        <td style=\"padding-left: 1em; padding-right: 1em; text-align: center; vertical-align: top\">男</td>\n",
       "        <td style=\"padding-left: 1em; padding-right: 1em; text-align: center; vertical-align: top\">44.0</td>\n",
       "        <td style=\"padding-left: 1em; padding-right: 1em; text-align: center; vertical-align: top\">电脑、办公</td>\n",
       "        <td style=\"padding-left: 1em; padding-right: 1em; text-align: center; vertical-align: top\">电脑整机</td>\n",
       "        <td style=\"padding-left: 1em; padding-right: 1em; text-align: center; vertical-align: top\">平板电脑</td>\n",
       "        <td style=\"padding-left: 1em; padding-right: 1em; text-align: center; vertical-align: top\">华为（HUAWEI）</td>\n",
       "    </tr>\n",
       "    <tr>\n",
       "        <td style=\"padding-left: 1em; padding-right: 1em; text-align: center; vertical-align: top\">skPlSTEloq4OXIVdCcEgsQ==</td>\n",
       "        <td style=\"padding-left: 1em; padding-right: 1em; text-align: center; vertical-align: top\">男</td>\n",
       "        <td style=\"padding-left: 1em; padding-right: 1em; text-align: center; vertical-align: top\">44.0</td>\n",
       "        <td style=\"padding-left: 1em; padding-right: 1em; text-align: center; vertical-align: top\">电脑、办公</td>\n",
       "        <td style=\"padding-left: 1em; padding-right: 1em; text-align: center; vertical-align: top\">电脑整机</td>\n",
       "        <td style=\"padding-left: 1em; padding-right: 1em; text-align: center; vertical-align: top\">平板电脑</td>\n",
       "        <td style=\"padding-left: 1em; padding-right: 1em; text-align: center; vertical-align: top\">华为（HUAWEI）</td>\n",
       "    </tr>\n",
       "    <tr>\n",
       "        <td style=\"padding-left: 1em; padding-right: 1em; text-align: center; vertical-align: top\">tEmx3NBKDC6AmI4+D+Xeow==</td>\n",
       "        <td style=\"padding-left: 1em; padding-right: 1em; text-align: center; vertical-align: top\">男</td>\n",
       "        <td style=\"padding-left: 1em; padding-right: 1em; text-align: center; vertical-align: top\">46.0</td>\n",
       "        <td style=\"padding-left: 1em; padding-right: 1em; text-align: center; vertical-align: top\">电脑、办公</td>\n",
       "        <td style=\"padding-left: 1em; padding-right: 1em; text-align: center; vertical-align: top\">电脑整机</td>\n",
       "        <td style=\"padding-left: 1em; padding-right: 1em; text-align: center; vertical-align: top\">平板电脑</td>\n",
       "        <td style=\"padding-left: 1em; padding-right: 1em; text-align: center; vertical-align: top\">华为（HUAWEI）</td>\n",
       "    </tr>\n",
       "    <tr>\n",
       "        <td style=\"padding-left: 1em; padding-right: 1em; text-align: center; vertical-align: top\">teoHnEoqNBAgCQQ0GGMRpg==</td>\n",
       "        <td style=\"padding-left: 1em; padding-right: 1em; text-align: center; vertical-align: top\">男</td>\n",
       "        <td style=\"padding-left: 1em; padding-right: 1em; text-align: center; vertical-align: top\">28.0</td>\n",
       "        <td style=\"padding-left: 1em; padding-right: 1em; text-align: center; vertical-align: top\">电脑、办公</td>\n",
       "        <td style=\"padding-left: 1em; padding-right: 1em; text-align: center; vertical-align: top\">电脑整机</td>\n",
       "        <td style=\"padding-left: 1em; padding-right: 1em; text-align: center; vertical-align: top\">平板电脑</td>\n",
       "        <td style=\"padding-left: 1em; padding-right: 1em; text-align: center; vertical-align: top\">华为（HUAWEI）</td>\n",
       "    </tr>\n",
       "    <tr>\n",
       "        <td style=\"padding-left: 1em; padding-right: 1em; text-align: center; vertical-align: top\">wi2DkUG8oUTakBgoUgHZow==</td>\n",
       "        <td style=\"padding-left: 1em; padding-right: 1em; text-align: center; vertical-align: top\">男</td>\n",
       "        <td style=\"padding-left: 1em; padding-right: 1em; text-align: center; vertical-align: top\">47.0</td>\n",
       "        <td style=\"padding-left: 1em; padding-right: 1em; text-align: center; vertical-align: top\">电脑、办公</td>\n",
       "        <td style=\"padding-left: 1em; padding-right: 1em; text-align: center; vertical-align: top\">电脑整机</td>\n",
       "        <td style=\"padding-left: 1em; padding-right: 1em; text-align: center; vertical-align: top\">平板电脑</td>\n",
       "        <td style=\"padding-left: 1em; padding-right: 1em; text-align: center; vertical-align: top\">华为（HUAWEI）</td>\n",
       "    </tr>\n",
       "    <tr>\n",
       "        <td style=\"padding-left: 1em; padding-right: 1em; text-align: center; vertical-align: top\">wi2DkUG8oUTakBgoUgHZow==</td>\n",
       "        <td style=\"padding-left: 1em; padding-right: 1em; text-align: center; vertical-align: top\">男</td>\n",
       "        <td style=\"padding-left: 1em; padding-right: 1em; text-align: center; vertical-align: top\">47.0</td>\n",
       "        <td style=\"padding-left: 1em; padding-right: 1em; text-align: center; vertical-align: top\">电脑、办公</td>\n",
       "        <td style=\"padding-left: 1em; padding-right: 1em; text-align: center; vertical-align: top\">电脑整机</td>\n",
       "        <td style=\"padding-left: 1em; padding-right: 1em; text-align: center; vertical-align: top\">平板电脑</td>\n",
       "        <td style=\"padding-left: 1em; padding-right: 1em; text-align: center; vertical-align: top\">华为（HUAWEI）</td>\n",
       "    </tr>\n",
       "    <tr>\n",
       "        <td style=\"padding-left: 1em; padding-right: 1em; text-align: center; vertical-align: top\">tEmx3NBKDC6AmI4+D+Xeow==</td>\n",
       "        <td style=\"padding-left: 1em; padding-right: 1em; text-align: center; vertical-align: top\">男</td>\n",
       "        <td style=\"padding-left: 1em; padding-right: 1em; text-align: center; vertical-align: top\">46.0</td>\n",
       "        <td style=\"padding-left: 1em; padding-right: 1em; text-align: center; vertical-align: top\">电脑、办公</td>\n",
       "        <td style=\"padding-left: 1em; padding-right: 1em; text-align: center; vertical-align: top\">电脑整机</td>\n",
       "        <td style=\"padding-left: 1em; padding-right: 1em; text-align: center; vertical-align: top\">平板电脑</td>\n",
       "        <td style=\"padding-left: 1em; padding-right: 1em; text-align: center; vertical-align: top\">华为（HUAWEI）</td>\n",
       "    </tr>\n",
       "    <tr>\n",
       "        <td style=\"padding-left: 1em; padding-right: 1em; text-align: center; vertical-align: top\">tEmx3NBKDC6AmI4+D+Xeow==</td>\n",
       "        <td style=\"padding-left: 1em; padding-right: 1em; text-align: center; vertical-align: top\">男</td>\n",
       "        <td style=\"padding-left: 1em; padding-right: 1em; text-align: center; vertical-align: top\">46.0</td>\n",
       "        <td style=\"padding-left: 1em; padding-right: 1em; text-align: center; vertical-align: top\">电脑、办公</td>\n",
       "        <td style=\"padding-left: 1em; padding-right: 1em; text-align: center; vertical-align: top\">电脑整机</td>\n",
       "        <td style=\"padding-left: 1em; padding-right: 1em; text-align: center; vertical-align: top\">平板电脑</td>\n",
       "        <td style=\"padding-left: 1em; padding-right: 1em; text-align: center; vertical-align: top\">华为（HUAWEI）</td>\n",
       "    </tr>\n",
       "    <tr>\n",
       "        <td style=\"padding-left: 1em; padding-right: 1em; text-align: center; vertical-align: top\">yiCz352mmUfDJcTJ7POgGw==</td>\n",
       "        <td style=\"padding-left: 1em; padding-right: 1em; text-align: center; vertical-align: top\">男</td>\n",
       "        <td style=\"padding-left: 1em; padding-right: 1em; text-align: center; vertical-align: top\">23.0</td>\n",
       "        <td style=\"padding-left: 1em; padding-right: 1em; text-align: center; vertical-align: top\">电脑、办公</td>\n",
       "        <td style=\"padding-left: 1em; padding-right: 1em; text-align: center; vertical-align: top\">电脑整机</td>\n",
       "        <td style=\"padding-left: 1em; padding-right: 1em; text-align: center; vertical-align: top\">平板电脑</td>\n",
       "        <td style=\"padding-left: 1em; padding-right: 1em; text-align: center; vertical-align: top\">华为（HUAWEI）</td>\n",
       "    </tr>\n",
       "</table>\n",
       "<table frame=\"box\" rules=\"cols\">\n",
       "    <tr>\n",
       "        <th style=\"padding-left: 1em; padding-right: 1em; text-align: center\">item</th>\n",
       "        <th style=\"padding-left: 1em; padding-right: 1em; text-align: center\">itemId</th>\n",
       "        <th style=\"padding-left: 1em; padding-right: 1em; text-align: center\">time</th>\n",
       "    </tr>\n",
       "    <tr>\n",
       "        <td style=\"padding-left: 1em; padding-right: 1em; text-align: center; vertical-align: top\">华为（HUAWEI）荣耀�<br>��板3G高配版 ...</td>\n",
       "        <td style=\"padding-left: 1em; padding-right: 1em; text-align: center; vertical-align: top\">2573088</td>\n",
       "        <td style=\"padding-left: 1em; padding-right: 1em; text-align: center; vertical-align: top\">20160930181110</td>\n",
       "    </tr>\n",
       "    <tr>\n",
       "        <td style=\"padding-left: 1em; padding-right: 1em; text-align: center; vertical-align: top\">华为（HUAWEI）荣耀�<br>��板3G高配版 ...</td>\n",
       "        <td style=\"padding-left: 1em; padding-right: 1em; text-align: center; vertical-align: top\">2573088</td>\n",
       "        <td style=\"padding-left: 1em; padding-right: 1em; text-align: center; vertical-align: top\">20160612190558</td>\n",
       "    </tr>\n",
       "    <tr>\n",
       "        <td style=\"padding-left: 1em; padding-right: 1em; text-align: center; vertical-align: top\">华为（HUAWEI）荣耀�<br>��板3G高配版 ...</td>\n",
       "        <td style=\"padding-left: 1em; padding-right: 1em; text-align: center; vertical-align: top\">2573088</td>\n",
       "        <td style=\"padding-left: 1em; padding-right: 1em; text-align: center; vertical-align: top\">20160612190558</td>\n",
       "    </tr>\n",
       "    <tr>\n",
       "        <td style=\"padding-left: 1em; padding-right: 1em; text-align: center; vertical-align: top\">华为（HUAWEI）荣耀�<br>��板3G高配版 ...</td>\n",
       "        <td style=\"padding-left: 1em; padding-right: 1em; text-align: center; vertical-align: top\">2573088</td>\n",
       "        <td style=\"padding-left: 1em; padding-right: 1em; text-align: center; vertical-align: top\">20160930181107</td>\n",
       "    </tr>\n",
       "    <tr>\n",
       "        <td style=\"padding-left: 1em; padding-right: 1em; text-align: center; vertical-align: top\">华为（HUAWEI）荣耀�<br>��板3G高配版 ...</td>\n",
       "        <td style=\"padding-left: 1em; padding-right: 1em; text-align: center; vertical-align: top\">2573088</td>\n",
       "        <td style=\"padding-left: 1em; padding-right: 1em; text-align: center; vertical-align: top\">20160803224432</td>\n",
       "    </tr>\n",
       "    <tr>\n",
       "        <td style=\"padding-left: 1em; padding-right: 1em; text-align: center; vertical-align: top\">华为（HUAWEI）荣耀�<br>��板3G高配版 ...</td>\n",
       "        <td style=\"padding-left: 1em; padding-right: 1em; text-align: center; vertical-align: top\">2573088</td>\n",
       "        <td style=\"padding-left: 1em; padding-right: 1em; text-align: center; vertical-align: top\">20160605163031</td>\n",
       "    </tr>\n",
       "    <tr>\n",
       "        <td style=\"padding-left: 1em; padding-right: 1em; text-align: center; vertical-align: top\">华为（HUAWEI）荣耀�<br>��板3G高配版 ...</td>\n",
       "        <td style=\"padding-left: 1em; padding-right: 1em; text-align: center; vertical-align: top\">2573088</td>\n",
       "        <td style=\"padding-left: 1em; padding-right: 1em; text-align: center; vertical-align: top\">20160605163027</td>\n",
       "    </tr>\n",
       "    <tr>\n",
       "        <td style=\"padding-left: 1em; padding-right: 1em; text-align: center; vertical-align: top\">华为（HUAWEI）荣耀�<br>��板3G高配版 ...</td>\n",
       "        <td style=\"padding-left: 1em; padding-right: 1em; text-align: center; vertical-align: top\">2573088</td>\n",
       "        <td style=\"padding-left: 1em; padding-right: 1em; text-align: center; vertical-align: top\">20160930181107</td>\n",
       "    </tr>\n",
       "    <tr>\n",
       "        <td style=\"padding-left: 1em; padding-right: 1em; text-align: center; vertical-align: top\">华为（HUAWEI）荣耀�<br>��板3G高配版 ...</td>\n",
       "        <td style=\"padding-left: 1em; padding-right: 1em; text-align: center; vertical-align: top\">2573088</td>\n",
       "        <td style=\"padding-left: 1em; padding-right: 1em; text-align: center; vertical-align: top\">20160930181107</td>\n",
       "    </tr>\n",
       "    <tr>\n",
       "        <td style=\"padding-left: 1em; padding-right: 1em; text-align: center; vertical-align: top\">华为（HUAWEI）荣耀�<br>��板3G高配版 ...</td>\n",
       "        <td style=\"padding-left: 1em; padding-right: 1em; text-align: center; vertical-align: top\">2573088</td>\n",
       "        <td style=\"padding-left: 1em; padding-right: 1em; text-align: center; vertical-align: top\">20160703003827</td>\n",
       "    </tr>\n",
       "</table>\n",
       "[6668376 rows x 10 columns]<br/>Note: Only the head of the SFrame is printed.<br/>You can use print_rows(num_rows=m, num_columns=n) to print more rows and columns.\n",
       "</div>"
      ],
      "text/plain": [
       "Columns:\n",
       "\tid\tstr\n",
       "\tgender\tstr\n",
       "\tage\tfloat\n",
       "\tct1\tstr\n",
       "\tct2\tstr\n",
       "\tct3\tstr\n",
       "\tbrand\tstr\n",
       "\titem\tstr\n",
       "\titemId\tint\n",
       "\ttime\tint\n",
       "\n",
       "Rows: 6668376\n",
       "\n",
       "Data:\n",
       "+--------------------------+--------+------+------------+----------+\n",
       "|            id            | gender | age  |    ct1     |   ct2    |\n",
       "+--------------------------+--------+------+------------+----------+\n",
       "| tEmx3NBKDC6AmI4+D+Xeow== |   男   | 46.0 | 电脑、办公 | 电脑整机 |\n",
       "| skPlSTEloq4OXIVdCcEgsQ== |   男   | 44.0 | 电脑、办公 | 电脑整机 |\n",
       "| skPlSTEloq4OXIVdCcEgsQ== |   男   | 44.0 | 电脑、办公 | 电脑整机 |\n",
       "| tEmx3NBKDC6AmI4+D+Xeow== |   男   | 46.0 | 电脑、办公 | 电脑整机 |\n",
       "| teoHnEoqNBAgCQQ0GGMRpg== |   男   | 28.0 | 电脑、办公 | 电脑整机 |\n",
       "| wi2DkUG8oUTakBgoUgHZow== |   男   | 47.0 | 电脑、办公 | 电脑整机 |\n",
       "| wi2DkUG8oUTakBgoUgHZow== |   男   | 47.0 | 电脑、办公 | 电脑整机 |\n",
       "| tEmx3NBKDC6AmI4+D+Xeow== |   男   | 46.0 | 电脑、办公 | 电脑整机 |\n",
       "| tEmx3NBKDC6AmI4+D+Xeow== |   男   | 46.0 | 电脑、办公 | 电脑整机 |\n",
       "| yiCz352mmUfDJcTJ7POgGw== |   男   | 23.0 | 电脑、办公 | 电脑整机 |\n",
       "+--------------------------+--------+------+------------+----------+\n",
       "+----------+----------------+------------------------------------------------+\n",
       "|   ct3    |     brand      |                      item                      |\n",
       "+----------+----------------+------------------------------------------------+\n",
       "| 平板电脑 | 华为（HUAWEI） | 华为（HUAWEI）荣耀平板3G高配版 通话平板电脑... |\n",
       "| 平板电脑 | 华为（HUAWEI） | 华为（HUAWEI）荣耀平板3G高配版 通话平板电脑... |\n",
       "| 平板电脑 | 华为（HUAWEI） | 华为（HUAWEI）荣耀平板3G高配版 通话平板电脑... |\n",
       "| 平板电脑 | 华为（HUAWEI） | 华为（HUAWEI）荣耀平板3G高配版 通话平板电脑... |\n",
       "| 平板电脑 | 华为（HUAWEI） | 华为（HUAWEI）荣耀平板3G高配版 通话平板电脑... |\n",
       "| 平板电脑 | 华为（HUAWEI） | 华为（HUAWEI）荣耀平板3G高配版 通话平板电脑... |\n",
       "| 平板电脑 | 华为（HUAWEI） | 华为（HUAWEI）荣耀平板3G高配版 通话平板电脑... |\n",
       "| 平板电脑 | 华为（HUAWEI） | 华为（HUAWEI）荣耀平板3G高配版 通话平板电脑... |\n",
       "| 平板电脑 | 华为（HUAWEI） | 华为（HUAWEI）荣耀平板3G高配版 通话平板电脑... |\n",
       "| 平板电脑 | 华为（HUAWEI） | 华为（HUAWEI）荣耀平板3G高配版 通话平板电脑... |\n",
       "+----------+----------------+------------------------------------------------+\n",
       "+---------+----------------+\n",
       "|  itemId |      time      |\n",
       "+---------+----------------+\n",
       "| 2573088 | 20160930181110 |\n",
       "| 2573088 | 20160612190558 |\n",
       "| 2573088 | 20160612190558 |\n",
       "| 2573088 | 20160930181107 |\n",
       "| 2573088 | 20160803224432 |\n",
       "| 2573088 | 20160605163031 |\n",
       "| 2573088 | 20160605163027 |\n",
       "| 2573088 | 20160930181107 |\n",
       "| 2573088 | 20160930181107 |\n",
       "| 2573088 | 20160703003827 |\n",
       "+---------+----------------+\n",
       "[6668376 rows x 10 columns]\n",
       "Note: Only the head of the SFrame is printed.\n",
       "You can use print_rows(num_rows=m, num_columns=n) to print more rows and columns."
      ]
     },
     "execution_count": 16,
     "metadata": {},
     "output_type": "execute_result"
    }
   ],
   "source": [
    "train_data.rename({'X1':'id',\n",
    "            'X2':'gender',\n",
    "            'X3':'age',\n",
    "            'X4':'ct1',\n",
    "            'X5':'ct2',\n",
    "            'X6':'ct3',\n",
    "            'X7':'brand',\n",
    "            'X8':'item',\n",
    "            'X9':'itemId',\n",
    "            'X10':'time'})"
   ]
  },
  {
   "cell_type": "markdown",
   "metadata": {
    "collapsed": false
   },
   "source": [
    "url = gl.SArray(data = data['url'])\n",
    "print type(url)"
   ]
  },
  {
   "cell_type": "markdown",
   "metadata": {
    "collapsed": false
   },
   "source": [
    "print u'原始长度', str(len(url))\n",
    "url = url.filter(lambda x: 'http' in x)\n",
    "print u'过滤后长度', str(len(url))"
   ]
  },
  {
   "cell_type": "markdown",
   "metadata": {
    "collapsed": false
   },
   "source": [
    "data2 = gl.SFrame(url)\n",
    "data2 = data2.unique()\n",
    "data2.rename({'X1': 'url'})\n",
    "data2 = data2.join(data, how = 'inner')\n",
    "print data2"
   ]
  },
  {
   "cell_type": "markdown",
   "metadata": {
    "collapsed": false
   },
   "source": [
    "ct1 = data2['ct1']\n",
    "ct1 = ct1.unique()\n",
    "print ct1"
   ]
  },
  {
   "cell_type": "markdown",
   "metadata": {
    "collapsed": false
   },
   "source": [
    "data2.remove_column('product_name')"
   ]
  },
  {
   "cell_type": "markdown",
   "metadata": {
    "collapsed": false
   },
   "source": [
    "def check_contain_chinese(check_str):\n",
    "    ch = check_str.decode('utf-8')\n",
    "    if u'\\u4e00' <= ch <= u'\\u9fff':\n",
    "        return True\n",
    "    else:\n",
    "        return False"
   ]
  },
  {
   "cell_type": "markdown",
   "metadata": {
    "collapsed": false
   },
   "source": [
    "count_chinese = 0\n",
    "count_nonc = 0\n",
    "for i in ct1:\n",
    "    flag = check_contain_chinese(i)\n",
    "    if flag == True:\n",
    "        count_chinese = count_chinese + 1\n",
    "    else:\n",
    "        count_nonc = count_nonc + 1\n",
    "print count_chinese, count_nonc"
   ]
  },
  {
   "cell_type": "markdown",
   "metadata": {
    "collapsed": true
   },
   "source": [
    "count = 0\n",
    "for i in ct1:\n",
    "    if i =='-1':\n",
    "        count = count + 1"
   ]
  },
  {
   "cell_type": "code",
   "execution_count": 4,
   "metadata": {
    "collapsed": false
   },
   "outputs": [
    {
     "data": {
      "text/html": [
       "<pre>Finished parsing file E:\\xjjd0609ctglist</pre>"
      ],
      "text/plain": [
       "Finished parsing file E:\\xjjd0609ctglist"
      ]
     },
     "metadata": {},
     "output_type": "display_data"
    },
    {
     "data": {
      "text/html": [
       "<pre>Parsing completed. Parsed 100 lines in 0.017046 secs.</pre>"
      ],
      "text/plain": [
       "Parsing completed. Parsed 100 lines in 0.017046 secs."
      ]
     },
     "metadata": {},
     "output_type": "display_data"
    },
    {
     "name": "stdout",
     "output_type": "stream",
     "text": [
      "------------------------------------------------------\n",
      "Inferred types from first 100 line(s) of file as \n",
      "column_type_hints=[str,str,str]\n",
      "If parsing fails due to incorrect types, you can correct\n",
      "the inferred type list above and pass it to read_csv in\n",
      "the column_type_hints argument\n",
      "------------------------------------------------------\n"
     ]
    },
    {
     "data": {
      "text/html": [
       "<pre>Finished parsing file E:\\xjjd0609ctglist</pre>"
      ],
      "text/plain": [
       "Finished parsing file E:\\xjjd0609ctglist"
      ]
     },
     "metadata": {},
     "output_type": "display_data"
    },
    {
     "data": {
      "text/html": [
       "<pre>Parsing completed. Parsed 2703 lines in 0.016067 secs.</pre>"
      ],
      "text/plain": [
       "Parsing completed. Parsed 2703 lines in 0.016067 secs."
      ]
     },
     "metadata": {},
     "output_type": "display_data"
    },
    {
     "name": "stdout",
     "output_type": "stream",
     "text": [
      "+--------------+----------+-------------+\n",
      "|      X1      |    X2    |      X3     |\n",
      "+--------------+----------+-------------+\n",
      "| 2\\t食品饮料  | 饮料冲调 |    饮用水   |\n",
      "| 3\\t食品饮料  | 饮料冲调 |     饮料    |\n",
      "| 4\\t食品饮料  | 饮料冲调 | 蜂蜜/柚子茶 |\n",
      "| 5\\t食品饮料  | 饮料冲调 |   牛奶乳品  |\n",
      "| 6\\t食品饮料  | 饮料冲调 |   成人奶粉  |\n",
      "| 7\\t食品饮料  | 饮料冲调 |  咖啡/奶茶  |\n",
      "| 8\\t食品饮料  | 饮料冲调 |   冲饮谷物  |\n",
      "| 9\\t食品饮料  | 食品礼券 |     粽子    |\n",
      "| 10\\t食品饮料 | 食品礼券 |     月饼    |\n",
      "| 11\\t食品饮料 | 食品礼券 |    大闸蟹   |\n",
      "+--------------+----------+-------------+\n",
      "[2703 rows x 3 columns]\n",
      "Note: Only the head of the SFrame is printed.\n",
      "You can use print_rows(num_rows=m, num_columns=n) to print more rows and columns.\n"
     ]
    }
   ],
   "source": [
    "dictionary = gl.SFrame.read_csv(r'E:\\xjjd0609ctglist', header = False)\n",
    "print dictionary"
   ]
  },
  {
   "cell_type": "code",
   "execution_count": 9,
   "metadata": {
    "collapsed": false
   },
   "outputs": [
    {
     "name": "stdout",
     "output_type": "stream",
     "text": [
      "+--------------+----------+-------------+-------+\n",
      "|      X1      |    X2    |      X3     | index |\n",
      "+--------------+----------+-------------+-------+\n",
      "| 2\\t食品饮料  | 饮料冲调 |    饮用水   |   1   |\n",
      "| 3\\t食品饮料  | 饮料冲调 |     饮料    |   2   |\n",
      "| 4\\t食品饮料  | 饮料冲调 | 蜂蜜/柚子茶 |   3   |\n",
      "| 5\\t食品饮料  | 饮料冲调 |   牛奶乳品  |   4   |\n",
      "| 6\\t食品饮料  | 饮料冲调 |   成人奶粉  |   5   |\n",
      "| 7\\t食品饮料  | 饮料冲调 |  咖啡/奶茶  |   6   |\n",
      "| 8\\t食品饮料  | 饮料冲调 |   冲饮谷物  |   7   |\n",
      "| 9\\t食品饮料  | 食品礼券 |     粽子    |   8   |\n",
      "| 10\\t食品饮料 | 食品礼券 |     月饼    |   9   |\n",
      "| 11\\t食品饮料 | 食品礼券 |    大闸蟹   |   10  |\n",
      "+--------------+----------+-------------+-------+\n",
      "[2703 rows x 4 columns]\n",
      "Note: Only the head of the SFrame is printed.\n",
      "You can use print_rows(num_rows=m, num_columns=n) to print more rows and columns.\n"
     ]
    }
   ],
   "source": [
    "dictionary['index'] = dictionary.apply(lambda x: int(x['X1'].split('\\t')[0]) - 1)\n",
    "print dictionary"
   ]
  },
  {
   "cell_type": "code",
   "execution_count": 10,
   "metadata": {
    "collapsed": false
   },
   "outputs": [
    {
     "name": "stdout",
     "output_type": "stream",
     "text": [
      "+----------+----------+-------------+-------+\n",
      "|   ct1    |   ct2    |     ct3     | index |\n",
      "+----------+----------+-------------+-------+\n",
      "| 食品饮料 | 饮料冲调 |    饮用水   |   1   |\n",
      "| 食品饮料 | 饮料冲调 |     饮料    |   2   |\n",
      "| 食品饮料 | 饮料冲调 | 蜂蜜/柚子茶 |   3   |\n",
      "| 食品饮料 | 饮料冲调 |   牛奶乳品  |   4   |\n",
      "| 食品饮料 | 饮料冲调 |   成人奶粉  |   5   |\n",
      "| 食品饮料 | 饮料冲调 |  咖啡/奶茶  |   6   |\n",
      "| 食品饮料 | 饮料冲调 |   冲饮谷物  |   7   |\n",
      "| 食品饮料 | 食品礼券 |     粽子    |   8   |\n",
      "| 食品饮料 | 食品礼券 |     月饼    |   9   |\n",
      "| 食品饮料 | 食品礼券 |    大闸蟹   |   10  |\n",
      "+----------+----------+-------------+-------+\n",
      "[2703 rows x 4 columns]\n",
      "Note: Only the head of the SFrame is printed.\n",
      "You can use print_rows(num_rows=m, num_columns=n) to print more rows and columns.\n"
     ]
    }
   ],
   "source": [
    "dictionary['X1'] = dictionary.apply(lambda x: x['X1'].split('\\t')[1])\n",
    "dictionary.rename({'X1':'ct1',\n",
    "                  'X2':'ct2',\n",
    "                  'X3':'ct3'})\n",
    "print dictionary"
   ]
  },
  {
   "cell_type": "code",
   "execution_count": 75,
   "metadata": {
    "collapsed": false
   },
   "outputs": [
    {
     "data": {
      "text/html": [
       "<pre>Finished parsing file E:\\shc091011jd_filtered</pre>"
      ],
      "text/plain": [
       "Finished parsing file E:\\shc091011jd_filtered"
      ]
     },
     "metadata": {},
     "output_type": "display_data"
    },
    {
     "data": {
      "text/html": [
       "<pre>Parsing completed. Parsed 100 lines in 0.45479 secs.</pre>"
      ],
      "text/plain": [
       "Parsing completed. Parsed 100 lines in 0.45479 secs."
      ]
     },
     "metadata": {},
     "output_type": "display_data"
    },
    {
     "name": "stdout",
     "output_type": "stream",
     "text": [
      "------------------------------------------------------\n",
      "Inferred types from first 100 line(s) of file as \n",
      "column_type_hints=[str,str,str,long,str,str,str,str,str]\n",
      "If parsing fails due to incorrect types, you can correct\n",
      "the inferred type list above and pass it to read_csv in\n",
      "the column_type_hints argument\n",
      "------------------------------------------------------\n"
     ]
    },
    {
     "data": {
      "text/html": [
       "<pre>Read 215554 lines. Lines per second: 405404</pre>"
      ],
      "text/plain": [
       "Read 215554 lines. Lines per second: 405404"
      ]
     },
     "metadata": {},
     "output_type": "display_data"
    },
    {
     "data": {
      "text/html": [
       "<pre>Finished parsing file E:\\shc091011jd_filtered</pre>"
      ],
      "text/plain": [
       "Finished parsing file E:\\shc091011jd_filtered"
      ]
     },
     "metadata": {},
     "output_type": "display_data"
    },
    {
     "data": {
      "text/html": [
       "<pre>Parsing completed. Parsed 3073767 lines in 4.58416 secs.</pre>"
      ],
      "text/plain": [
       "Parsing completed. Parsed 3073767 lines in 4.58416 secs."
      ]
     },
     "metadata": {},
     "output_type": "display_data"
    },
    {
     "name": "stdout",
     "output_type": "stream",
     "text": [
      "+-------------------------------+-------------------------------+\n",
      "|               X1              |               X2              |\n",
      "+-------------------------------+-------------------------------+\n",
      "| http://item.jd.com/1152916... | 00003E81B70C9DAE25891BADE0... |\n",
      "| http://item.jd.com/1152916... | 00003E81B70C9DAE25891BADE0... |\n",
      "| http://item.jd.com/1308565... | 00003E81B70C9DAE25891BADE0... |\n",
      "| http://item.jd.com/2942791... | 00003E81B70C9DAE25891BADE0... |\n",
      "| http://item.jd.com/1251375... | 00003E81B70C9DAE25891BADE0... |\n",
      "| http://item.jd.com/1251375... | 00003E81B70C9DAE25891BADE0... |\n",
      "| http://item.jd.com/1011240... | 00003E81B70C9DAE25891BADE0... |\n",
      "| http://item.jd.com/2614844... | 00003E81B70C9DAE25891BADE0... |\n",
      "| http://item.jd.com/2584698... | 00003E81B70C9DAE25891BADE0... |\n",
      "| http://item.jd.com/1735451... | 00003E81B70C9DAE25891BADE0... |\n",
      "+-------------------------------+-------------------------------+\n",
      "+---------------------+-------------+--------------------------------------------------+\n",
      "|          X3         |      X4     |                        X5                        |\n",
      "+---------------------+-------------+--------------------------------------------------+\n",
      "| 2016-11-17 15:19:53 |   1152916   |        火柴人（MatchstickMen） FC-6055...        |\n",
      "| 2016-11-17 15:19:45 |   1152916   |        火柴人（MatchstickMen） FC-6055...        |\n",
      "| 2016-10-15 20:42:15 |   1308565   | 海尔（Haier）电磁炉一体式整版智能触控大面板C2... |\n",
      "| 2016-10-16 14:32:31 |   2942791   |        TP-LINK TL-WR960N 450M无线路由...         |\n",
      "| 2016-10-15 14:29:23 |   1251375   |        Apple Mac mini台式电脑 (Core i...         |\n",
      "| 2016-10-15 14:29:18 |   1251375   |        Apple Mac mini台式电脑 (Core i...         |\n",
      "| 2016-11-01 15:19:58 | 10112408745 |   日本 阿司倍鹭 ASVEL 防虫防蛀自动出米桶 6k...   |\n",
      "| 2016-10-15 13:32:11 |   2614844   |  华为（HUAWEI）联通/电信双4G版无线路由器 移...   |\n",
      "| 2016-10-15 13:32:24 |   2584698   |    华为（HUAWEI）4G全网通版随身随行WiFi P...     |\n",
      "| 2016-10-16 14:32:44 |   1735451   |        TP-LINK TL-WR890N 450M无线路由...         |\n",
      "+---------------------+-------------+--------------------------------------------------+\n",
      "+-------------+-------------------------+------------+----------+\n",
      "|      X6     |            X7           |     X8     |    X9    |\n",
      "+-------------+-------------------------+------------+----------+\n",
      "|    相机包   | 火柴人（MatchstickMen） |    数码    | 数码配件 |\n",
      "|    相机包   | 火柴人（MatchstickMen） |    数码    | 数码配件 |\n",
      "|    电磁炉   |      海尔（Haier）      |  家用电器  | 厨房小电 |\n",
      "|    路由器   |     普联（TP-LINK）     | 电脑、办公 | 网络产品 |\n",
      "|    台式机   |          APPLE          | 电脑、办公 | 电脑整机 |\n",
      "|    台式机   |          APPLE          | 电脑、办公 | 电脑整机 |\n",
      "| 储物/置物架 |    阿司倍鹭（ASVEL）    |    厨具    | 厨房配件 |\n",
      "|    路由器   |      华为（HUAWEI）     | 电脑、办公 | 网络产品 |\n",
      "|  4G/3G上网  |      华为（HUAWEI）     | 电脑、办公 | 网络产品 |\n",
      "|    路由器   |     普联（TP-LINK）     | 电脑、办公 | 网络产品 |\n",
      "+-------------+-------------------------+------------+----------+\n",
      "[3073767 rows x 9 columns]\n",
      "Note: Only the head of the SFrame is printed.\n",
      "You can use print_rows(num_rows=m, num_columns=n) to print more rows and columns.\n"
     ]
    }
   ],
   "source": [
    "test_data  = gl.SFrame.read_csv(r'E:\\shc091011jd_filtered', header = False, delimiter = '\\t')\n",
    "print test_data"
   ]
  },
  {
   "cell_type": "code",
   "execution_count": 76,
   "metadata": {
    "collapsed": false
   },
   "outputs": [
    {
     "data": {
      "text/html": [
       "<div style=\"max-height:1000px;max-width:1500px;overflow:auto;\"><table frame=\"box\" rules=\"cols\">\n",
       "    <tr>\n",
       "        <th style=\"padding-left: 1em; padding-right: 1em; text-align: center\">url</th>\n",
       "        <th style=\"padding-left: 1em; padding-right: 1em; text-align: center\">id</th>\n",
       "        <th style=\"padding-left: 1em; padding-right: 1em; text-align: center\">time</th>\n",
       "        <th style=\"padding-left: 1em; padding-right: 1em; text-align: center\">itemId</th>\n",
       "        <th style=\"padding-left: 1em; padding-right: 1em; text-align: center\">itemname</th>\n",
       "    </tr>\n",
       "    <tr>\n",
       "        <td style=\"padding-left: 1em; padding-right: 1em; text-align: center; vertical-align: top\">http://item.jd.com/115291<br>6.html ...</td>\n",
       "        <td style=\"padding-left: 1em; padding-right: 1em; text-align: center; vertical-align: top\">00003E81B70C9DAE25891BADE<br>065034057A7F388 ...</td>\n",
       "        <td style=\"padding-left: 1em; padding-right: 1em; text-align: center; vertical-align: top\">2016-11-17 15:19:53</td>\n",
       "        <td style=\"padding-left: 1em; padding-right: 1em; text-align: center; vertical-align: top\">1152916</td>\n",
       "        <td style=\"padding-left: 1em; padding-right: 1em; text-align: center; vertical-align: top\">火柴人（MatchstickMen<br>） FC-6055 单反套机� ...</td>\n",
       "    </tr>\n",
       "    <tr>\n",
       "        <td style=\"padding-left: 1em; padding-right: 1em; text-align: center; vertical-align: top\">http://item.jd.com/115291<br>6.html ...</td>\n",
       "        <td style=\"padding-left: 1em; padding-right: 1em; text-align: center; vertical-align: top\">00003E81B70C9DAE25891BADE<br>065034057A7F388 ...</td>\n",
       "        <td style=\"padding-left: 1em; padding-right: 1em; text-align: center; vertical-align: top\">2016-11-17 15:19:45</td>\n",
       "        <td style=\"padding-left: 1em; padding-right: 1em; text-align: center; vertical-align: top\">1152916</td>\n",
       "        <td style=\"padding-left: 1em; padding-right: 1em; text-align: center; vertical-align: top\">火柴人（MatchstickMen<br>） FC-6055 单反套机� ...</td>\n",
       "    </tr>\n",
       "    <tr>\n",
       "        <td style=\"padding-left: 1em; padding-right: 1em; text-align: center; vertical-align: top\">http://item.jd.com/130856<br>5.html ...</td>\n",
       "        <td style=\"padding-left: 1em; padding-right: 1em; text-align: center; vertical-align: top\">00003E81B70C9DAE25891BADE<br>065034057A7F388 ...</td>\n",
       "        <td style=\"padding-left: 1em; padding-right: 1em; text-align: center; vertical-align: top\">2016-10-15 20:42:15</td>\n",
       "        <td style=\"padding-left: 1em; padding-right: 1em; text-align: center; vertical-align: top\">1308565</td>\n",
       "        <td style=\"padding-left: 1em; padding-right: 1em; text-align: center; vertical-align: top\">海尔（Haier）电磁�<br>�一体式整版智能触 ...</td>\n",
       "    </tr>\n",
       "    <tr>\n",
       "        <td style=\"padding-left: 1em; padding-right: 1em; text-align: center; vertical-align: top\">http://item.jd.com/294279<br>1.html ...</td>\n",
       "        <td style=\"padding-left: 1em; padding-right: 1em; text-align: center; vertical-align: top\">00003E81B70C9DAE25891BADE<br>065034057A7F388 ...</td>\n",
       "        <td style=\"padding-left: 1em; padding-right: 1em; text-align: center; vertical-align: top\">2016-10-16 14:32:31</td>\n",
       "        <td style=\"padding-left: 1em; padding-right: 1em; text-align: center; vertical-align: top\">2942791</td>\n",
       "        <td style=\"padding-left: 1em; padding-right: 1em; text-align: center; vertical-align: top\">TP-LINK TL-WR960N<br>450M无线路由器 ...</td>\n",
       "    </tr>\n",
       "    <tr>\n",
       "        <td style=\"padding-left: 1em; padding-right: 1em; text-align: center; vertical-align: top\">http://item.jd.com/125137<br>5.html ...</td>\n",
       "        <td style=\"padding-left: 1em; padding-right: 1em; text-align: center; vertical-align: top\">00003E81B70C9DAE25891BADE<br>065034057A7F388 ...</td>\n",
       "        <td style=\"padding-left: 1em; padding-right: 1em; text-align: center; vertical-align: top\">2016-10-15 14:29:23</td>\n",
       "        <td style=\"padding-left: 1em; padding-right: 1em; text-align: center; vertical-align: top\">1251375</td>\n",
       "        <td style=\"padding-left: 1em; padding-right: 1em; text-align: center; vertical-align: top\">Apple Mac<br>mini台式电脑 (Core i5 ...</td>\n",
       "    </tr>\n",
       "    <tr>\n",
       "        <td style=\"padding-left: 1em; padding-right: 1em; text-align: center; vertical-align: top\">http://item.jd.com/125137<br>5.html ...</td>\n",
       "        <td style=\"padding-left: 1em; padding-right: 1em; text-align: center; vertical-align: top\">00003E81B70C9DAE25891BADE<br>065034057A7F388 ...</td>\n",
       "        <td style=\"padding-left: 1em; padding-right: 1em; text-align: center; vertical-align: top\">2016-10-15 14:29:18</td>\n",
       "        <td style=\"padding-left: 1em; padding-right: 1em; text-align: center; vertical-align: top\">1251375</td>\n",
       "        <td style=\"padding-left: 1em; padding-right: 1em; text-align: center; vertical-align: top\">Apple Mac<br>mini台式电脑 (Core i5 ...</td>\n",
       "    </tr>\n",
       "    <tr>\n",
       "        <td style=\"padding-left: 1em; padding-right: 1em; text-align: center; vertical-align: top\">http://item.jd.com/101124<br>08745.html ...</td>\n",
       "        <td style=\"padding-left: 1em; padding-right: 1em; text-align: center; vertical-align: top\">00003E81B70C9DAE25891BADE<br>065034057A7F388 ...</td>\n",
       "        <td style=\"padding-left: 1em; padding-right: 1em; text-align: center; vertical-align: top\">2016-11-01 15:19:58</td>\n",
       "        <td style=\"padding-left: 1em; padding-right: 1em; text-align: center; vertical-align: top\">10112408745</td>\n",
       "        <td style=\"padding-left: 1em; padding-right: 1em; text-align: center; vertical-align: top\">日本 阿司倍鹭 ASVEL<br>防虫防蛀自动出米� ...</td>\n",
       "    </tr>\n",
       "    <tr>\n",
       "        <td style=\"padding-left: 1em; padding-right: 1em; text-align: center; vertical-align: top\">http://item.jd.com/261484<br>4.html ...</td>\n",
       "        <td style=\"padding-left: 1em; padding-right: 1em; text-align: center; vertical-align: top\">00003E81B70C9DAE25891BADE<br>065034057A7F388 ...</td>\n",
       "        <td style=\"padding-left: 1em; padding-right: 1em; text-align: center; vertical-align: top\">2016-10-15 13:32:11</td>\n",
       "        <td style=\"padding-left: 1em; padding-right: 1em; text-align: center; vertical-align: top\">2614844</td>\n",
       "        <td style=\"padding-left: 1em; padding-right: 1em; text-align: center; vertical-align: top\">华为（HUAWEI）联通/<br>电信双4G版无线路� ...</td>\n",
       "    </tr>\n",
       "    <tr>\n",
       "        <td style=\"padding-left: 1em; padding-right: 1em; text-align: center; vertical-align: top\">http://item.jd.com/258469<br>8.html ...</td>\n",
       "        <td style=\"padding-left: 1em; padding-right: 1em; text-align: center; vertical-align: top\">00003E81B70C9DAE25891BADE<br>065034057A7F388 ...</td>\n",
       "        <td style=\"padding-left: 1em; padding-right: 1em; text-align: center; vertical-align: top\">2016-10-15 13:32:24</td>\n",
       "        <td style=\"padding-left: 1em; padding-right: 1em; text-align: center; vertical-align: top\">2584698</td>\n",
       "        <td style=\"padding-left: 1em; padding-right: 1em; text-align: center; vertical-align: top\">华为（HUAWEI）4G全�<br>�通版随身随行WiFi P ...</td>\n",
       "    </tr>\n",
       "    <tr>\n",
       "        <td style=\"padding-left: 1em; padding-right: 1em; text-align: center; vertical-align: top\">http://item.jd.com/173545<br>1.html ...</td>\n",
       "        <td style=\"padding-left: 1em; padding-right: 1em; text-align: center; vertical-align: top\">00003E81B70C9DAE25891BADE<br>065034057A7F388 ...</td>\n",
       "        <td style=\"padding-left: 1em; padding-right: 1em; text-align: center; vertical-align: top\">2016-10-16 14:32:44</td>\n",
       "        <td style=\"padding-left: 1em; padding-right: 1em; text-align: center; vertical-align: top\">1735451</td>\n",
       "        <td style=\"padding-left: 1em; padding-right: 1em; text-align: center; vertical-align: top\">TP-LINK TL-WR890N 450M无<br>线路由器（全金属� ...</td>\n",
       "    </tr>\n",
       "</table>\n",
       "<table frame=\"box\" rules=\"cols\">\n",
       "    <tr>\n",
       "        <th style=\"padding-left: 1em; padding-right: 1em; text-align: center\">ct3</th>\n",
       "        <th style=\"padding-left: 1em; padding-right: 1em; text-align: center\">brand</th>\n",
       "        <th style=\"padding-left: 1em; padding-right: 1em; text-align: center\">ct1</th>\n",
       "        <th style=\"padding-left: 1em; padding-right: 1em; text-align: center\">ct2</th>\n",
       "    </tr>\n",
       "    <tr>\n",
       "        <td style=\"padding-left: 1em; padding-right: 1em; text-align: center; vertical-align: top\">相机包</td>\n",
       "        <td style=\"padding-left: 1em; padding-right: 1em; text-align: center; vertical-align: top\">火柴人（MatchstickMen<br>） ...</td>\n",
       "        <td style=\"padding-left: 1em; padding-right: 1em; text-align: center; vertical-align: top\">数码</td>\n",
       "        <td style=\"padding-left: 1em; padding-right: 1em; text-align: center; vertical-align: top\">数码配件</td>\n",
       "    </tr>\n",
       "    <tr>\n",
       "        <td style=\"padding-left: 1em; padding-right: 1em; text-align: center; vertical-align: top\">相机包</td>\n",
       "        <td style=\"padding-left: 1em; padding-right: 1em; text-align: center; vertical-align: top\">火柴人（MatchstickMen<br>） ...</td>\n",
       "        <td style=\"padding-left: 1em; padding-right: 1em; text-align: center; vertical-align: top\">数码</td>\n",
       "        <td style=\"padding-left: 1em; padding-right: 1em; text-align: center; vertical-align: top\">数码配件</td>\n",
       "    </tr>\n",
       "    <tr>\n",
       "        <td style=\"padding-left: 1em; padding-right: 1em; text-align: center; vertical-align: top\">电磁炉</td>\n",
       "        <td style=\"padding-left: 1em; padding-right: 1em; text-align: center; vertical-align: top\">海尔（Haier）</td>\n",
       "        <td style=\"padding-left: 1em; padding-right: 1em; text-align: center; vertical-align: top\">家用电器</td>\n",
       "        <td style=\"padding-left: 1em; padding-right: 1em; text-align: center; vertical-align: top\">厨房小电</td>\n",
       "    </tr>\n",
       "    <tr>\n",
       "        <td style=\"padding-left: 1em; padding-right: 1em; text-align: center; vertical-align: top\">路由器</td>\n",
       "        <td style=\"padding-left: 1em; padding-right: 1em; text-align: center; vertical-align: top\">普联（TP-LINK）</td>\n",
       "        <td style=\"padding-left: 1em; padding-right: 1em; text-align: center; vertical-align: top\">电脑、办公</td>\n",
       "        <td style=\"padding-left: 1em; padding-right: 1em; text-align: center; vertical-align: top\">网络产品</td>\n",
       "    </tr>\n",
       "    <tr>\n",
       "        <td style=\"padding-left: 1em; padding-right: 1em; text-align: center; vertical-align: top\">台式机</td>\n",
       "        <td style=\"padding-left: 1em; padding-right: 1em; text-align: center; vertical-align: top\">APPLE</td>\n",
       "        <td style=\"padding-left: 1em; padding-right: 1em; text-align: center; vertical-align: top\">电脑、办公</td>\n",
       "        <td style=\"padding-left: 1em; padding-right: 1em; text-align: center; vertical-align: top\">电脑整机</td>\n",
       "    </tr>\n",
       "    <tr>\n",
       "        <td style=\"padding-left: 1em; padding-right: 1em; text-align: center; vertical-align: top\">台式机</td>\n",
       "        <td style=\"padding-left: 1em; padding-right: 1em; text-align: center; vertical-align: top\">APPLE</td>\n",
       "        <td style=\"padding-left: 1em; padding-right: 1em; text-align: center; vertical-align: top\">电脑、办公</td>\n",
       "        <td style=\"padding-left: 1em; padding-right: 1em; text-align: center; vertical-align: top\">电脑整机</td>\n",
       "    </tr>\n",
       "    <tr>\n",
       "        <td style=\"padding-left: 1em; padding-right: 1em; text-align: center; vertical-align: top\">储物/置物架</td>\n",
       "        <td style=\"padding-left: 1em; padding-right: 1em; text-align: center; vertical-align: top\">阿司倍鹭（ASVEL）</td>\n",
       "        <td style=\"padding-left: 1em; padding-right: 1em; text-align: center; vertical-align: top\">厨具</td>\n",
       "        <td style=\"padding-left: 1em; padding-right: 1em; text-align: center; vertical-align: top\">厨房配件</td>\n",
       "    </tr>\n",
       "    <tr>\n",
       "        <td style=\"padding-left: 1em; padding-right: 1em; text-align: center; vertical-align: top\">路由器</td>\n",
       "        <td style=\"padding-left: 1em; padding-right: 1em; text-align: center; vertical-align: top\">华为（HUAWEI）</td>\n",
       "        <td style=\"padding-left: 1em; padding-right: 1em; text-align: center; vertical-align: top\">电脑、办公</td>\n",
       "        <td style=\"padding-left: 1em; padding-right: 1em; text-align: center; vertical-align: top\">网络产品</td>\n",
       "    </tr>\n",
       "    <tr>\n",
       "        <td style=\"padding-left: 1em; padding-right: 1em; text-align: center; vertical-align: top\">4G/3G上网</td>\n",
       "        <td style=\"padding-left: 1em; padding-right: 1em; text-align: center; vertical-align: top\">华为（HUAWEI）</td>\n",
       "        <td style=\"padding-left: 1em; padding-right: 1em; text-align: center; vertical-align: top\">电脑、办公</td>\n",
       "        <td style=\"padding-left: 1em; padding-right: 1em; text-align: center; vertical-align: top\">网络产品</td>\n",
       "    </tr>\n",
       "    <tr>\n",
       "        <td style=\"padding-left: 1em; padding-right: 1em; text-align: center; vertical-align: top\">路由器</td>\n",
       "        <td style=\"padding-left: 1em; padding-right: 1em; text-align: center; vertical-align: top\">普联（TP-LINK）</td>\n",
       "        <td style=\"padding-left: 1em; padding-right: 1em; text-align: center; vertical-align: top\">电脑、办公</td>\n",
       "        <td style=\"padding-left: 1em; padding-right: 1em; text-align: center; vertical-align: top\">网络产品</td>\n",
       "    </tr>\n",
       "</table>\n",
       "[3073767 rows x 9 columns]<br/>Note: Only the head of the SFrame is printed.<br/>You can use print_rows(num_rows=m, num_columns=n) to print more rows and columns.\n",
       "</div>"
      ],
      "text/plain": [
       "Columns:\n",
       "\turl\tstr\n",
       "\tid\tstr\n",
       "\ttime\tstr\n",
       "\titemId\tint\n",
       "\titemname\tstr\n",
       "\tct3\tstr\n",
       "\tbrand\tstr\n",
       "\tct1\tstr\n",
       "\tct2\tstr\n",
       "\n",
       "Rows: 3073767\n",
       "\n",
       "Data:\n",
       "+-------------------------------+-------------------------------+\n",
       "|              url              |               id              |\n",
       "+-------------------------------+-------------------------------+\n",
       "| http://item.jd.com/1152916... | 00003E81B70C9DAE25891BADE0... |\n",
       "| http://item.jd.com/1152916... | 00003E81B70C9DAE25891BADE0... |\n",
       "| http://item.jd.com/1308565... | 00003E81B70C9DAE25891BADE0... |\n",
       "| http://item.jd.com/2942791... | 00003E81B70C9DAE25891BADE0... |\n",
       "| http://item.jd.com/1251375... | 00003E81B70C9DAE25891BADE0... |\n",
       "| http://item.jd.com/1251375... | 00003E81B70C9DAE25891BADE0... |\n",
       "| http://item.jd.com/1011240... | 00003E81B70C9DAE25891BADE0... |\n",
       "| http://item.jd.com/2614844... | 00003E81B70C9DAE25891BADE0... |\n",
       "| http://item.jd.com/2584698... | 00003E81B70C9DAE25891BADE0... |\n",
       "| http://item.jd.com/1735451... | 00003E81B70C9DAE25891BADE0... |\n",
       "+-------------------------------+-------------------------------+\n",
       "+---------------------+-------------+--------------------------------------------------+\n",
       "|         time        |    itemId   |                     itemname                     |\n",
       "+---------------------+-------------+--------------------------------------------------+\n",
       "| 2016-11-17 15:19:53 |   1152916   |        火柴人（MatchstickMen） FC-6055...        |\n",
       "| 2016-11-17 15:19:45 |   1152916   |        火柴人（MatchstickMen） FC-6055...        |\n",
       "| 2016-10-15 20:42:15 |   1308565   | 海尔（Haier）电磁炉一体式整版智能触控大面板C2... |\n",
       "| 2016-10-16 14:32:31 |   2942791   |        TP-LINK TL-WR960N 450M无线路由...         |\n",
       "| 2016-10-15 14:29:23 |   1251375   |        Apple Mac mini台式电脑 (Core i...         |\n",
       "| 2016-10-15 14:29:18 |   1251375   |        Apple Mac mini台式电脑 (Core i...         |\n",
       "| 2016-11-01 15:19:58 | 10112408745 |   日本 阿司倍鹭 ASVEL 防虫防蛀自动出米桶 6k...   |\n",
       "| 2016-10-15 13:32:11 |   2614844   |  华为（HUAWEI）联通/电信双4G版无线路由器 移...   |\n",
       "| 2016-10-15 13:32:24 |   2584698   |    华为（HUAWEI）4G全网通版随身随行WiFi P...     |\n",
       "| 2016-10-16 14:32:44 |   1735451   |        TP-LINK TL-WR890N 450M无线路由...         |\n",
       "+---------------------+-------------+--------------------------------------------------+\n",
       "+-------------+-------------------------+------------+----------+\n",
       "|     ct3     |          brand          |    ct1     |   ct2    |\n",
       "+-------------+-------------------------+------------+----------+\n",
       "|    相机包   | 火柴人（MatchstickMen） |    数码    | 数码配件 |\n",
       "|    相机包   | 火柴人（MatchstickMen） |    数码    | 数码配件 |\n",
       "|    电磁炉   |      海尔（Haier）      |  家用电器  | 厨房小电 |\n",
       "|    路由器   |     普联（TP-LINK）     | 电脑、办公 | 网络产品 |\n",
       "|    台式机   |          APPLE          | 电脑、办公 | 电脑整机 |\n",
       "|    台式机   |          APPLE          | 电脑、办公 | 电脑整机 |\n",
       "| 储物/置物架 |    阿司倍鹭（ASVEL）    |    厨具    | 厨房配件 |\n",
       "|    路由器   |      华为（HUAWEI）     | 电脑、办公 | 网络产品 |\n",
       "|  4G/3G上网  |      华为（HUAWEI）     | 电脑、办公 | 网络产品 |\n",
       "|    路由器   |     普联（TP-LINK）     | 电脑、办公 | 网络产品 |\n",
       "+-------------+-------------------------+------------+----------+\n",
       "[3073767 rows x 9 columns]\n",
       "Note: Only the head of the SFrame is printed.\n",
       "You can use print_rows(num_rows=m, num_columns=n) to print more rows and columns."
      ]
     },
     "execution_count": 76,
     "metadata": {},
     "output_type": "execute_result"
    }
   ],
   "source": [
    "test_data.rename({'X1':'url',\n",
    "                 'X2':'id',\n",
    "                 'X3':'time',\n",
    "                 'X4':'itemId',\n",
    "                 'X5':'itemname',\n",
    "                 'X6':'ct3',\n",
    "                 'X7':'brand',\n",
    "                 'X8':'ct1',\n",
    "                 'X9':'ct2'})"
   ]
  },
  {
   "cell_type": "code",
   "execution_count": 77,
   "metadata": {
    "collapsed": false
   },
   "outputs": [
    {
     "data": {
      "text/html": [
       "<div style=\"max-height:1000px;max-width:1500px;overflow:auto;\"><table frame=\"box\" rules=\"cols\">\n",
       "    <tr>\n",
       "        <th style=\"padding-left: 1em; padding-right: 1em; text-align: center\">id</th>\n",
       "        <th style=\"padding-left: 1em; padding-right: 1em; text-align: center\">ct3</th>\n",
       "        <th style=\"padding-left: 1em; padding-right: 1em; text-align: center\">ct1</th>\n",
       "        <th style=\"padding-left: 1em; padding-right: 1em; text-align: center\">ct2</th>\n",
       "    </tr>\n",
       "    <tr>\n",
       "        <td style=\"padding-left: 1em; padding-right: 1em; text-align: center; vertical-align: top\">00003E81B70C9DAE25891BADE<br>065034057A7F388 ...</td>\n",
       "        <td style=\"padding-left: 1em; padding-right: 1em; text-align: center; vertical-align: top\">相机包</td>\n",
       "        <td style=\"padding-left: 1em; padding-right: 1em; text-align: center; vertical-align: top\">数码</td>\n",
       "        <td style=\"padding-left: 1em; padding-right: 1em; text-align: center; vertical-align: top\">数码配件</td>\n",
       "    </tr>\n",
       "    <tr>\n",
       "        <td style=\"padding-left: 1em; padding-right: 1em; text-align: center; vertical-align: top\">00003E81B70C9DAE25891BADE<br>065034057A7F388 ...</td>\n",
       "        <td style=\"padding-left: 1em; padding-right: 1em; text-align: center; vertical-align: top\">相机包</td>\n",
       "        <td style=\"padding-left: 1em; padding-right: 1em; text-align: center; vertical-align: top\">数码</td>\n",
       "        <td style=\"padding-left: 1em; padding-right: 1em; text-align: center; vertical-align: top\">数码配件</td>\n",
       "    </tr>\n",
       "    <tr>\n",
       "        <td style=\"padding-left: 1em; padding-right: 1em; text-align: center; vertical-align: top\">00003E81B70C9DAE25891BADE<br>065034057A7F388 ...</td>\n",
       "        <td style=\"padding-left: 1em; padding-right: 1em; text-align: center; vertical-align: top\">电磁炉</td>\n",
       "        <td style=\"padding-left: 1em; padding-right: 1em; text-align: center; vertical-align: top\">家用电器</td>\n",
       "        <td style=\"padding-left: 1em; padding-right: 1em; text-align: center; vertical-align: top\">厨房小电</td>\n",
       "    </tr>\n",
       "    <tr>\n",
       "        <td style=\"padding-left: 1em; padding-right: 1em; text-align: center; vertical-align: top\">00003E81B70C9DAE25891BADE<br>065034057A7F388 ...</td>\n",
       "        <td style=\"padding-left: 1em; padding-right: 1em; text-align: center; vertical-align: top\">路由器</td>\n",
       "        <td style=\"padding-left: 1em; padding-right: 1em; text-align: center; vertical-align: top\">电脑、办公</td>\n",
       "        <td style=\"padding-left: 1em; padding-right: 1em; text-align: center; vertical-align: top\">网络产品</td>\n",
       "    </tr>\n",
       "    <tr>\n",
       "        <td style=\"padding-left: 1em; padding-right: 1em; text-align: center; vertical-align: top\">00003E81B70C9DAE25891BADE<br>065034057A7F388 ...</td>\n",
       "        <td style=\"padding-left: 1em; padding-right: 1em; text-align: center; vertical-align: top\">台式机</td>\n",
       "        <td style=\"padding-left: 1em; padding-right: 1em; text-align: center; vertical-align: top\">电脑、办公</td>\n",
       "        <td style=\"padding-left: 1em; padding-right: 1em; text-align: center; vertical-align: top\">电脑整机</td>\n",
       "    </tr>\n",
       "    <tr>\n",
       "        <td style=\"padding-left: 1em; padding-right: 1em; text-align: center; vertical-align: top\">00003E81B70C9DAE25891BADE<br>065034057A7F388 ...</td>\n",
       "        <td style=\"padding-left: 1em; padding-right: 1em; text-align: center; vertical-align: top\">台式机</td>\n",
       "        <td style=\"padding-left: 1em; padding-right: 1em; text-align: center; vertical-align: top\">电脑、办公</td>\n",
       "        <td style=\"padding-left: 1em; padding-right: 1em; text-align: center; vertical-align: top\">电脑整机</td>\n",
       "    </tr>\n",
       "    <tr>\n",
       "        <td style=\"padding-left: 1em; padding-right: 1em; text-align: center; vertical-align: top\">00003E81B70C9DAE25891BADE<br>065034057A7F388 ...</td>\n",
       "        <td style=\"padding-left: 1em; padding-right: 1em; text-align: center; vertical-align: top\">储物/置物架</td>\n",
       "        <td style=\"padding-left: 1em; padding-right: 1em; text-align: center; vertical-align: top\">厨具</td>\n",
       "        <td style=\"padding-left: 1em; padding-right: 1em; text-align: center; vertical-align: top\">厨房配件</td>\n",
       "    </tr>\n",
       "    <tr>\n",
       "        <td style=\"padding-left: 1em; padding-right: 1em; text-align: center; vertical-align: top\">00003E81B70C9DAE25891BADE<br>065034057A7F388 ...</td>\n",
       "        <td style=\"padding-left: 1em; padding-right: 1em; text-align: center; vertical-align: top\">路由器</td>\n",
       "        <td style=\"padding-left: 1em; padding-right: 1em; text-align: center; vertical-align: top\">电脑、办公</td>\n",
       "        <td style=\"padding-left: 1em; padding-right: 1em; text-align: center; vertical-align: top\">网络产品</td>\n",
       "    </tr>\n",
       "    <tr>\n",
       "        <td style=\"padding-left: 1em; padding-right: 1em; text-align: center; vertical-align: top\">00003E81B70C9DAE25891BADE<br>065034057A7F388 ...</td>\n",
       "        <td style=\"padding-left: 1em; padding-right: 1em; text-align: center; vertical-align: top\">4G/3G上网</td>\n",
       "        <td style=\"padding-left: 1em; padding-right: 1em; text-align: center; vertical-align: top\">电脑、办公</td>\n",
       "        <td style=\"padding-left: 1em; padding-right: 1em; text-align: center; vertical-align: top\">网络产品</td>\n",
       "    </tr>\n",
       "    <tr>\n",
       "        <td style=\"padding-left: 1em; padding-right: 1em; text-align: center; vertical-align: top\">00003E81B70C9DAE25891BADE<br>065034057A7F388 ...</td>\n",
       "        <td style=\"padding-left: 1em; padding-right: 1em; text-align: center; vertical-align: top\">路由器</td>\n",
       "        <td style=\"padding-left: 1em; padding-right: 1em; text-align: center; vertical-align: top\">电脑、办公</td>\n",
       "        <td style=\"padding-left: 1em; padding-right: 1em; text-align: center; vertical-align: top\">网络产品</td>\n",
       "    </tr>\n",
       "</table>\n",
       "[3073767 rows x 4 columns]<br/>Note: Only the head of the SFrame is printed.<br/>You can use print_rows(num_rows=m, num_columns=n) to print more rows and columns.\n",
       "</div>"
      ],
      "text/plain": [
       "Columns:\n",
       "\tid\tstr\n",
       "\tct3\tstr\n",
       "\tct1\tstr\n",
       "\tct2\tstr\n",
       "\n",
       "Rows: 3073767\n",
       "\n",
       "Data:\n",
       "+-------------------------------+-------------+------------+----------+\n",
       "|               id              |     ct3     |    ct1     |   ct2    |\n",
       "+-------------------------------+-------------+------------+----------+\n",
       "| 00003E81B70C9DAE25891BADE0... |    相机包   |    数码    | 数码配件 |\n",
       "| 00003E81B70C9DAE25891BADE0... |    相机包   |    数码    | 数码配件 |\n",
       "| 00003E81B70C9DAE25891BADE0... |    电磁炉   |  家用电器  | 厨房小电 |\n",
       "| 00003E81B70C9DAE25891BADE0... |    路由器   | 电脑、办公 | 网络产品 |\n",
       "| 00003E81B70C9DAE25891BADE0... |    台式机   | 电脑、办公 | 电脑整机 |\n",
       "| 00003E81B70C9DAE25891BADE0... |    台式机   | 电脑、办公 | 电脑整机 |\n",
       "| 00003E81B70C9DAE25891BADE0... | 储物/置物架 |    厨具    | 厨房配件 |\n",
       "| 00003E81B70C9DAE25891BADE0... |    路由器   | 电脑、办公 | 网络产品 |\n",
       "| 00003E81B70C9DAE25891BADE0... |  4G/3G上网  | 电脑、办公 | 网络产品 |\n",
       "| 00003E81B70C9DAE25891BADE0... |    路由器   | 电脑、办公 | 网络产品 |\n",
       "+-------------------------------+-------------+------------+----------+\n",
       "[3073767 rows x 4 columns]\n",
       "Note: Only the head of the SFrame is printed.\n",
       "You can use print_rows(num_rows=m, num_columns=n) to print more rows and columns."
      ]
     },
     "execution_count": 77,
     "metadata": {},
     "output_type": "execute_result"
    }
   ],
   "source": [
    "test_data.remove_columns(['url', 'brand', 'time','itemId','itemname'])"
   ]
  },
  {
   "cell_type": "code",
   "execution_count": 5,
   "metadata": {
    "collapsed": false
   },
   "outputs": [
    {
     "data": {
      "text/html": [
       "<pre>Finished parsing file E:\\xjjd0609ctglist</pre>"
      ],
      "text/plain": [
       "Finished parsing file E:\\xjjd0609ctglist"
      ]
     },
     "metadata": {},
     "output_type": "display_data"
    },
    {
     "data": {
      "text/html": [
       "<pre>Parsing completed. Parsed 100 lines in 0.015039 secs.</pre>"
      ],
      "text/plain": [
       "Parsing completed. Parsed 100 lines in 0.015039 secs."
      ]
     },
     "metadata": {},
     "output_type": "display_data"
    },
    {
     "name": "stdout",
     "output_type": "stream",
     "text": [
      "------------------------------------------------------\n",
      "Inferred types from first 100 line(s) of file as \n",
      "column_type_hints=[long,str]\n",
      "If parsing fails due to incorrect types, you can correct\n",
      "the inferred type list above and pass it to read_csv in\n",
      "the column_type_hints argument\n",
      "------------------------------------------------------\n"
     ]
    },
    {
     "data": {
      "text/html": [
       "<pre>Finished parsing file E:\\xjjd0609ctglist</pre>"
      ],
      "text/plain": [
       "Finished parsing file E:\\xjjd0609ctglist"
      ]
     },
     "metadata": {},
     "output_type": "display_data"
    },
    {
     "data": {
      "text/html": [
       "<pre>Parsing completed. Parsed 2703 lines in 0.01905 secs.</pre>"
      ],
      "text/plain": [
       "Parsing completed. Parsed 2703 lines in 0.01905 secs."
      ]
     },
     "metadata": {},
     "output_type": "display_data"
    },
    {
     "name": "stdout",
     "output_type": "stream",
     "text": [
      "+----+----------------------------------+\n",
      "| X1 |                X2                |\n",
      "+----+----------------------------------+\n",
      "| 2  |   食品饮料,饮料冲调,饮用水...    |\n",
      "| 3  |    食品饮料,饮料冲调,饮料...     |\n",
      "| 4  | 食品饮料,饮料冲调,蜂蜜/柚子茶... |\n",
      "| 5  |  食品饮料,饮料冲调,牛奶乳品...   |\n",
      "| 6  |  食品饮料,饮料冲调,成人奶粉...   |\n",
      "| 7  |  食品饮料,饮料冲调,咖啡/奶茶...  |\n",
      "| 8  |  食品饮料,饮料冲调,冲饮谷物...   |\n",
      "| 9  |    食品饮料,食品礼券,粽子...     |\n",
      "| 10 |    食品饮料,食品礼券,月饼...     |\n",
      "| 11 |   食品饮料,食品礼券,大闸蟹...    |\n",
      "+----+----------------------------------+\n",
      "[2703 rows x 2 columns]\n",
      "Note: Only the head of the SFrame is printed.\n",
      "You can use print_rows(num_rows=m, num_columns=n) to print more rows and columns.\n"
     ]
    }
   ],
   "source": [
    "dictionary = gl.SFrame.read_csv(r'E:\\xjjd0609ctglist', header = False, delimiter = '\\t')\n",
    "\n",
    "print dictionary"
   ]
  },
  {
   "cell_type": "code",
   "execution_count": 6,
   "metadata": {
    "collapsed": false
   },
   "outputs": [
    {
     "data": {
      "text/html": [
       "<div style=\"max-height:1000px;max-width:1500px;overflow:auto;\"><table frame=\"box\" rules=\"cols\">\n",
       "    <tr>\n",
       "        <th style=\"padding-left: 1em; padding-right: 1em; text-align: center\">X1</th>\n",
       "        <th style=\"padding-left: 1em; padding-right: 1em; text-align: center\">ct1</th>\n",
       "        <th style=\"padding-left: 1em; padding-right: 1em; text-align: center\">ct2</th>\n",
       "        <th style=\"padding-left: 1em; padding-right: 1em; text-align: center\">ct3</th>\n",
       "    </tr>\n",
       "    <tr>\n",
       "        <td style=\"padding-left: 1em; padding-right: 1em; text-align: center; vertical-align: top\">2</td>\n",
       "        <td style=\"padding-left: 1em; padding-right: 1em; text-align: center; vertical-align: top\">食品饮料</td>\n",
       "        <td style=\"padding-left: 1em; padding-right: 1em; text-align: center; vertical-align: top\">饮料冲调</td>\n",
       "        <td style=\"padding-left: 1em; padding-right: 1em; text-align: center; vertical-align: top\">饮用水</td>\n",
       "    </tr>\n",
       "    <tr>\n",
       "        <td style=\"padding-left: 1em; padding-right: 1em; text-align: center; vertical-align: top\">3</td>\n",
       "        <td style=\"padding-left: 1em; padding-right: 1em; text-align: center; vertical-align: top\">食品饮料</td>\n",
       "        <td style=\"padding-left: 1em; padding-right: 1em; text-align: center; vertical-align: top\">饮料冲调</td>\n",
       "        <td style=\"padding-left: 1em; padding-right: 1em; text-align: center; vertical-align: top\">饮料</td>\n",
       "    </tr>\n",
       "    <tr>\n",
       "        <td style=\"padding-left: 1em; padding-right: 1em; text-align: center; vertical-align: top\">4</td>\n",
       "        <td style=\"padding-left: 1em; padding-right: 1em; text-align: center; vertical-align: top\">食品饮料</td>\n",
       "        <td style=\"padding-left: 1em; padding-right: 1em; text-align: center; vertical-align: top\">饮料冲调</td>\n",
       "        <td style=\"padding-left: 1em; padding-right: 1em; text-align: center; vertical-align: top\">蜂蜜/柚子茶</td>\n",
       "    </tr>\n",
       "    <tr>\n",
       "        <td style=\"padding-left: 1em; padding-right: 1em; text-align: center; vertical-align: top\">5</td>\n",
       "        <td style=\"padding-left: 1em; padding-right: 1em; text-align: center; vertical-align: top\">食品饮料</td>\n",
       "        <td style=\"padding-left: 1em; padding-right: 1em; text-align: center; vertical-align: top\">饮料冲调</td>\n",
       "        <td style=\"padding-left: 1em; padding-right: 1em; text-align: center; vertical-align: top\">牛奶乳品</td>\n",
       "    </tr>\n",
       "    <tr>\n",
       "        <td style=\"padding-left: 1em; padding-right: 1em; text-align: center; vertical-align: top\">6</td>\n",
       "        <td style=\"padding-left: 1em; padding-right: 1em; text-align: center; vertical-align: top\">食品饮料</td>\n",
       "        <td style=\"padding-left: 1em; padding-right: 1em; text-align: center; vertical-align: top\">饮料冲调</td>\n",
       "        <td style=\"padding-left: 1em; padding-right: 1em; text-align: center; vertical-align: top\">成人奶粉</td>\n",
       "    </tr>\n",
       "    <tr>\n",
       "        <td style=\"padding-left: 1em; padding-right: 1em; text-align: center; vertical-align: top\">7</td>\n",
       "        <td style=\"padding-left: 1em; padding-right: 1em; text-align: center; vertical-align: top\">食品饮料</td>\n",
       "        <td style=\"padding-left: 1em; padding-right: 1em; text-align: center; vertical-align: top\">饮料冲调</td>\n",
       "        <td style=\"padding-left: 1em; padding-right: 1em; text-align: center; vertical-align: top\">咖啡/奶茶</td>\n",
       "    </tr>\n",
       "    <tr>\n",
       "        <td style=\"padding-left: 1em; padding-right: 1em; text-align: center; vertical-align: top\">8</td>\n",
       "        <td style=\"padding-left: 1em; padding-right: 1em; text-align: center; vertical-align: top\">食品饮料</td>\n",
       "        <td style=\"padding-left: 1em; padding-right: 1em; text-align: center; vertical-align: top\">饮料冲调</td>\n",
       "        <td style=\"padding-left: 1em; padding-right: 1em; text-align: center; vertical-align: top\">冲饮谷物</td>\n",
       "    </tr>\n",
       "    <tr>\n",
       "        <td style=\"padding-left: 1em; padding-right: 1em; text-align: center; vertical-align: top\">9</td>\n",
       "        <td style=\"padding-left: 1em; padding-right: 1em; text-align: center; vertical-align: top\">食品饮料</td>\n",
       "        <td style=\"padding-left: 1em; padding-right: 1em; text-align: center; vertical-align: top\">食品礼券</td>\n",
       "        <td style=\"padding-left: 1em; padding-right: 1em; text-align: center; vertical-align: top\">粽子</td>\n",
       "    </tr>\n",
       "    <tr>\n",
       "        <td style=\"padding-left: 1em; padding-right: 1em; text-align: center; vertical-align: top\">10</td>\n",
       "        <td style=\"padding-left: 1em; padding-right: 1em; text-align: center; vertical-align: top\">食品饮料</td>\n",
       "        <td style=\"padding-left: 1em; padding-right: 1em; text-align: center; vertical-align: top\">食品礼券</td>\n",
       "        <td style=\"padding-left: 1em; padding-right: 1em; text-align: center; vertical-align: top\">月饼</td>\n",
       "    </tr>\n",
       "    <tr>\n",
       "        <td style=\"padding-left: 1em; padding-right: 1em; text-align: center; vertical-align: top\">11</td>\n",
       "        <td style=\"padding-left: 1em; padding-right: 1em; text-align: center; vertical-align: top\">食品饮料</td>\n",
       "        <td style=\"padding-left: 1em; padding-right: 1em; text-align: center; vertical-align: top\">食品礼券</td>\n",
       "        <td style=\"padding-left: 1em; padding-right: 1em; text-align: center; vertical-align: top\">大闸蟹</td>\n",
       "    </tr>\n",
       "</table>\n",
       "[2703 rows x 4 columns]<br/>Note: Only the head of the SFrame is printed.<br/>You can use print_rows(num_rows=m, num_columns=n) to print more rows and columns.\n",
       "</div>"
      ],
      "text/plain": [
       "Columns:\n",
       "\tX1\tint\n",
       "\tct1\tstr\n",
       "\tct2\tstr\n",
       "\tct3\tstr\n",
       "\n",
       "Rows: 2703\n",
       "\n",
       "Data:\n",
       "+----+----------+----------+-------------+\n",
       "| X1 |   ct1    |   ct2    |     ct3     |\n",
       "+----+----------+----------+-------------+\n",
       "| 2  | 食品饮料 | 饮料冲调 |    饮用水   |\n",
       "| 3  | 食品饮料 | 饮料冲调 |     饮料    |\n",
       "| 4  | 食品饮料 | 饮料冲调 | 蜂蜜/柚子茶 |\n",
       "| 5  | 食品饮料 | 饮料冲调 |   牛奶乳品  |\n",
       "| 6  | 食品饮料 | 饮料冲调 |   成人奶粉  |\n",
       "| 7  | 食品饮料 | 饮料冲调 |  咖啡/奶茶  |\n",
       "| 8  | 食品饮料 | 饮料冲调 |   冲饮谷物  |\n",
       "| 9  | 食品饮料 | 食品礼券 |     粽子    |\n",
       "| 10 | 食品饮料 | 食品礼券 |     月饼    |\n",
       "| 11 | 食品饮料 | 食品礼券 |    大闸蟹   |\n",
       "+----+----------+----------+-------------+\n",
       "[2703 rows x 4 columns]\n",
       "Note: Only the head of the SFrame is printed.\n",
       "You can use print_rows(num_rows=m, num_columns=n) to print more rows and columns."
      ]
     },
     "execution_count": 6,
     "metadata": {},
     "output_type": "execute_result"
    }
   ],
   "source": [
    "dictionary['ct1'] = dictionary.apply(lambda x:x['X2'].split(',')[0])\n",
    "dictionary['ct2'] = dictionary.apply(lambda x:x['X2'].split(',')[1])\n",
    "dictionary['ct3'] = dictionary.apply(lambda x:x['X2'].split(',')[2])\n",
    "dictionary.remove_column('X2')"
   ]
  },
  {
   "cell_type": "code",
   "execution_count": 7,
   "metadata": {
    "collapsed": false
   },
   "outputs": [],
   "source": [
    "dictionary.rename({'X1': 'index'})\n",
    "dictionary['index'] = dictionary.apply(lambda x: int(x['index']) - 1)\n",
    "dictionary.save(r'E:\\dict.csv', format = 'csv')"
   ]
  },
  {
   "cell_type": "code",
   "execution_count": 8,
   "metadata": {
    "collapsed": false
   },
   "outputs": [
    {
     "data": {
      "text/html": [
       "<pre>Finished parsing file E:\\dict.csv</pre>"
      ],
      "text/plain": [
       "Finished parsing file E:\\dict.csv"
      ]
     },
     "metadata": {},
     "output_type": "display_data"
    },
    {
     "data": {
      "text/html": [
       "<pre>Parsing completed. Parsed 100 lines in 0.020052 secs.</pre>"
      ],
      "text/plain": [
       "Parsing completed. Parsed 100 lines in 0.020052 secs."
      ]
     },
     "metadata": {},
     "output_type": "display_data"
    },
    {
     "name": "stdout",
     "output_type": "stream",
     "text": [
      "------------------------------------------------------\n",
      "Inferred types from first 100 line(s) of file as \n",
      "column_type_hints=[long,str,str,str]\n",
      "If parsing fails due to incorrect types, you can correct\n",
      "the inferred type list above and pass it to read_csv in\n",
      "the column_type_hints argument\n",
      "------------------------------------------------------\n"
     ]
    },
    {
     "data": {
      "text/html": [
       "<pre>Finished parsing file E:\\dict.csv</pre>"
      ],
      "text/plain": [
       "Finished parsing file E:\\dict.csv"
      ]
     },
     "metadata": {},
     "output_type": "display_data"
    },
    {
     "data": {
      "text/html": [
       "<pre>Parsing completed. Parsed 2703 lines in 0.019048 secs.</pre>"
      ],
      "text/plain": [
       "Parsing completed. Parsed 2703 lines in 0.019048 secs."
      ]
     },
     "metadata": {},
     "output_type": "display_data"
    },
    {
     "name": "stdout",
     "output_type": "stream",
     "text": [
      "+-------+----------+----------+-------------+\n",
      "| index |   ct1    |   ct2    |     ct3     |\n",
      "+-------+----------+----------+-------------+\n",
      "|   1   | 食品饮料 | 饮料冲调 |    饮用水   |\n",
      "|   2   | 食品饮料 | 饮料冲调 |     饮料    |\n",
      "|   3   | 食品饮料 | 饮料冲调 | 蜂蜜/柚子茶 |\n",
      "|   4   | 食品饮料 | 饮料冲调 |   牛奶乳品  |\n",
      "|   5   | 食品饮料 | 饮料冲调 |   成人奶粉  |\n",
      "|   6   | 食品饮料 | 饮料冲调 |  咖啡/奶茶  |\n",
      "|   7   | 食品饮料 | 饮料冲调 |   冲饮谷物  |\n",
      "|   8   | 食品饮料 | 食品礼券 |     粽子    |\n",
      "|   9   | 食品饮料 | 食品礼券 |     月饼    |\n",
      "|   10  | 食品饮料 | 食品礼券 |    大闸蟹   |\n",
      "+-------+----------+----------+-------------+\n",
      "[2703 rows x 4 columns]\n",
      "Note: Only the head of the SFrame is printed.\n",
      "You can use print_rows(num_rows=m, num_columns=n) to print more rows and columns.\n"
     ]
    }
   ],
   "source": [
    "Dict = gl.SFrame.read_csv(r'E:\\dict.csv')\n",
    "print Dict"
   ]
  },
  {
   "cell_type": "code",
   "execution_count": 78,
   "metadata": {
    "collapsed": false
   },
   "outputs": [
    {
     "name": "stdout",
     "output_type": "stream",
     "text": [
      "+-------------------------------+-------------+------------+----------+-------+\n",
      "|               id              |     ct3     |    ct1     |   ct2    | index |\n",
      "+-------------------------------+-------------+------------+----------+-------+\n",
      "| 00003E81B70C9DAE25891BADE0... |    相机包   |    数码    | 数码配件 |  1155 |\n",
      "| 00003E81B70C9DAE25891BADE0... |    相机包   |    数码    | 数码配件 |  1155 |\n",
      "| 00003E81B70C9DAE25891BADE0... |    电磁炉   |  家用电器  | 厨房小电 |  1435 |\n",
      "| 00003E81B70C9DAE25891BADE0... |    路由器   | 电脑、办公 | 网络产品 |  474  |\n",
      "| 00003E81B70C9DAE25891BADE0... |    台式机   | 电脑、办公 | 电脑整机 |  502  |\n",
      "| 00003E81B70C9DAE25891BADE0... |    台式机   | 电脑、办公 | 电脑整机 |  502  |\n",
      "| 00003E81B70C9DAE25891BADE0... | 储物/置物架 |    厨具    | 厨房配件 |  2485 |\n",
      "| 00003E81B70C9DAE25891BADE0... |    路由器   | 电脑、办公 | 网络产品 |  474  |\n",
      "| 00003E81B70C9DAE25891BADE0... |  4G/3G上网  | 电脑、办公 | 网络产品 |  480  |\n",
      "| 00003E81B70C9DAE25891BADE0... |    路由器   | 电脑、办公 | 网络产品 |  474  |\n",
      "+-------------------------------+-------------+------------+----------+-------+\n",
      "[3069509 rows x 5 columns]\n",
      "Note: Only the head of the SFrame is printed.\n",
      "You can use print_rows(num_rows=m, num_columns=n) to print more rows and columns.\n"
     ]
    }
   ],
   "source": [
    "test_ma = test_data.join(Dict,how = 'inner')\n",
    "print test_ma"
   ]
  },
  {
   "cell_type": "code",
   "execution_count": 79,
   "metadata": {
    "collapsed": false
   },
   "outputs": [
    {
     "name": "stdout",
     "output_type": "stream",
     "text": [
      "<class 'graphlab.data_structures.sframe.SFrame'>\n"
     ]
    }
   ],
   "source": [
    "test_user = gl.SFrame(test_ma['id']).unique()\n",
    "print type(test_user)"
   ]
  },
  {
   "cell_type": "code",
   "execution_count": 80,
   "metadata": {
    "collapsed": false,
    "scrolled": true
   },
   "outputs": [
    {
     "name": "stdout",
     "output_type": "stream",
     "text": [
      "+-------------------------------+----------+\n",
      "|               X1              | user_num |\n",
      "+-------------------------------+----------+\n",
      "| 93ACA091752C17675443677E6D... |    1     |\n",
      "| 8ACABA7C58640DA540EF39FB6A... |    2     |\n",
      "| BCAE634A2EF5731456EAF810C9... |    3     |\n",
      "| F1A83FEEDA70D37014007ABE7E... |    4     |\n",
      "| C04C1C33FDE1F3D2728BA5C6F2... |    5     |\n",
      "| 6BF96673B378528C7F3B6BACA8... |    6     |\n",
      "| 0DA1B8CFCF590E0416E6477100... |    7     |\n",
      "| 55BD48EBF93043F017B944039E... |    8     |\n",
      "| 5FD930EC13BD38308996031B5B... |    9     |\n",
      "| 4F7189AB7D9E9B94B032AF73B0... |    10    |\n",
      "+-------------------------------+----------+\n",
      "[97229 rows x 2 columns]\n",
      "Note: Only the head of the SFrame is printed.\n",
      "You can use print_rows(num_rows=m, num_columns=n) to print more rows and columns.\n"
     ]
    }
   ],
   "source": [
    "test_user = test_user.unique()\n",
    "l = []\n",
    "for i in xrange(len(test_user)):\n",
    "    l.append(i + 1)\n",
    "test_user['user_num'] = gl.SArray(l)\n",
    "print test_user"
   ]
  },
  {
   "cell_type": "code",
   "execution_count": 81,
   "metadata": {
    "collapsed": false
   },
   "outputs": [
    {
     "name": "stdout",
     "output_type": "stream",
     "text": [
      "+-------------------------------+-------------+------------+----------+-------+\n",
      "|               id              |     ct3     |    ct1     |   ct2    | index |\n",
      "+-------------------------------+-------------+------------+----------+-------+\n",
      "| 00003E81B70C9DAE25891BADE0... |    相机包   |    数码    | 数码配件 |  1155 |\n",
      "| 00003E81B70C9DAE25891BADE0... |    相机包   |    数码    | 数码配件 |  1155 |\n",
      "| 00003E81B70C9DAE25891BADE0... |    电磁炉   |  家用电器  | 厨房小电 |  1435 |\n",
      "| 00003E81B70C9DAE25891BADE0... |    路由器   | 电脑、办公 | 网络产品 |  474  |\n",
      "| 00003E81B70C9DAE25891BADE0... |    台式机   | 电脑、办公 | 电脑整机 |  502  |\n",
      "| 00003E81B70C9DAE25891BADE0... |    台式机   | 电脑、办公 | 电脑整机 |  502  |\n",
      "| 00003E81B70C9DAE25891BADE0... | 储物/置物架 |    厨具    | 厨房配件 |  2485 |\n",
      "| 00003E81B70C9DAE25891BADE0... |    路由器   | 电脑、办公 | 网络产品 |  474  |\n",
      "| 00003E81B70C9DAE25891BADE0... |  4G/3G上网  | 电脑、办公 | 网络产品 |  480  |\n",
      "| 00003E81B70C9DAE25891BADE0... |    路由器   | 电脑、办公 | 网络产品 |  474  |\n",
      "+-------------------------------+-------------+------------+----------+-------+\n",
      "+----------+\n",
      "| user_num |\n",
      "+----------+\n",
      "|   3838   |\n",
      "|   3838   |\n",
      "|   3838   |\n",
      "|   3838   |\n",
      "|   3838   |\n",
      "|   3838   |\n",
      "|   3838   |\n",
      "|   3838   |\n",
      "|   3838   |\n",
      "|   3838   |\n",
      "+----------+\n",
      "[3069509 rows x 6 columns]\n",
      "Note: Only the head of the SFrame is printed.\n",
      "You can use print_rows(num_rows=m, num_columns=n) to print more rows and columns.\n"
     ]
    }
   ],
   "source": [
    "test_user.rename({'X1':'id'})\n",
    "test_ma = test_ma.join(test_user, how = 'inner')\n",
    "print test_ma"
   ]
  },
  {
   "cell_type": "code",
   "execution_count": 82,
   "metadata": {
    "collapsed": false
   },
   "outputs": [
    {
     "name": "stdout",
     "output_type": "stream",
     "text": [
      "+-------+----------+\n",
      "| index | user_num |\n",
      "+-------+----------+\n",
      "|  1155 |   3838   |\n",
      "|  1155 |   3838   |\n",
      "|  1435 |   3838   |\n",
      "|  474  |   3838   |\n",
      "|  502  |   3838   |\n",
      "|  502  |   3838   |\n",
      "|  2485 |   3838   |\n",
      "|  474  |   3838   |\n",
      "|  480  |   3838   |\n",
      "|  474  |   3838   |\n",
      "+-------+----------+\n",
      "[3069509 rows x 2 columns]\n",
      "Note: Only the head of the SFrame is printed.\n",
      "You can use print_rows(num_rows=m, num_columns=n) to print more rows and columns.\n"
     ]
    }
   ],
   "source": [
    "test_user.save(r'E:\\test_user.csv')\n",
    "test_ma.remove_columns(['ct1', 'ct2', 'ct3','id'])\n",
    "print test_ma\n",
    "test_ma.save(r'E:\\test_ma.csv')"
   ]
  },
  {
   "cell_type": "code",
   "execution_count": 17,
   "metadata": {
    "collapsed": false
   },
   "outputs": [
    {
     "name": "stdout",
     "output_type": "stream",
     "text": [
      "+--------------------------+----------+\n",
      "|            X1            | user_num |\n",
      "+--------------------------+----------+\n",
      "| 0mFlraPodrRBouyuRVtw1w== |    1     |\n",
      "| Ujcp/RSaEg2ksqp19DeOvg== |    2     |\n",
      "| 6UPaV4tUc78FTIU/ycnlWA== |    3     |\n",
      "| PhzPAWHuIdGZDXNaDsAsRQ== |    4     |\n",
      "| ZkkUROARrHeKOx0IZC0hTg== |    5     |\n",
      "| Aw/godIBdf15TBykbcSTJQ== |    6     |\n",
      "| 0M8c+4TVL7l3inXxfIXfjw== |    7     |\n",
      "| WNJ3hBQliIFNTCFr8q+2Rg== |    8     |\n",
      "| IsjRGXYrF9YIBw95vhO0FQ== |    9     |\n",
      "| V47OLqNtP9Vwus/gWX7uSw== |    10    |\n",
      "+--------------------------+----------+\n",
      "[111597 rows x 2 columns]\n",
      "Note: Only the head of the SFrame is printed.\n",
      "You can use print_rows(num_rows=m, num_columns=n) to print more rows and columns.\n"
     ]
    }
   ],
   "source": [
    "train_user = gl.SFrame(train_data['id'])\n",
    "train_user = train_user.unique()\n",
    "l = []\n",
    "for i in xrange(len(train_user)):\n",
    "    l.append(i + 1)\n",
    "train_user['user_num'] = gl.SArray(l)\n",
    "print train_user"
   ]
  },
  {
   "cell_type": "code",
   "execution_count": 18,
   "metadata": {
    "collapsed": false
   },
   "outputs": [
    {
     "name": "stdout",
     "output_type": "stream",
     "text": [
      "+--------------------------+--------+------+------------+----------+\n",
      "|            id            | gender | age  |    ct1     |   ct2    |\n",
      "+--------------------------+--------+------+------------+----------+\n",
      "| tEmx3NBKDC6AmI4+D+Xeow== |   男   | 46.0 | 电脑、办公 | 电脑整机 |\n",
      "| skPlSTEloq4OXIVdCcEgsQ== |   男   | 44.0 | 电脑、办公 | 电脑整机 |\n",
      "| skPlSTEloq4OXIVdCcEgsQ== |   男   | 44.0 | 电脑、办公 | 电脑整机 |\n",
      "| tEmx3NBKDC6AmI4+D+Xeow== |   男   | 46.0 | 电脑、办公 | 电脑整机 |\n",
      "| teoHnEoqNBAgCQQ0GGMRpg== |   男   | 28.0 | 电脑、办公 | 电脑整机 |\n",
      "| wi2DkUG8oUTakBgoUgHZow== |   男   | 47.0 | 电脑、办公 | 电脑整机 |\n",
      "| wi2DkUG8oUTakBgoUgHZow== |   男   | 47.0 | 电脑、办公 | 电脑整机 |\n",
      "| tEmx3NBKDC6AmI4+D+Xeow== |   男   | 46.0 | 电脑、办公 | 电脑整机 |\n",
      "| tEmx3NBKDC6AmI4+D+Xeow== |   男   | 46.0 | 电脑、办公 | 电脑整机 |\n",
      "| yiCz352mmUfDJcTJ7POgGw== |   男   | 23.0 | 电脑、办公 | 电脑整机 |\n",
      "+--------------------------+--------+------+------------+----------+\n",
      "+----------+----------------+------------------------------------------------+\n",
      "|   ct3    |     brand      |                      item                      |\n",
      "+----------+----------------+------------------------------------------------+\n",
      "| 平板电脑 | 华为（HUAWEI） | 华为（HUAWEI）荣耀平板3G高配版 通话平板电脑... |\n",
      "| 平板电脑 | 华为（HUAWEI） | 华为（HUAWEI）荣耀平板3G高配版 通话平板电脑... |\n",
      "| 平板电脑 | 华为（HUAWEI） | 华为（HUAWEI）荣耀平板3G高配版 通话平板电脑... |\n",
      "| 平板电脑 | 华为（HUAWEI） | 华为（HUAWEI）荣耀平板3G高配版 通话平板电脑... |\n",
      "| 平板电脑 | 华为（HUAWEI） | 华为（HUAWEI）荣耀平板3G高配版 通话平板电脑... |\n",
      "| 平板电脑 | 华为（HUAWEI） | 华为（HUAWEI）荣耀平板3G高配版 通话平板电脑... |\n",
      "| 平板电脑 | 华为（HUAWEI） | 华为（HUAWEI）荣耀平板3G高配版 通话平板电脑... |\n",
      "| 平板电脑 | 华为（HUAWEI） | 华为（HUAWEI）荣耀平板3G高配版 通话平板电脑... |\n",
      "| 平板电脑 | 华为（HUAWEI） | 华为（HUAWEI）荣耀平板3G高配版 通话平板电脑... |\n",
      "| 平板电脑 | 华为（HUAWEI） | 华为（HUAWEI）荣耀平板3G高配版 通话平板电脑... |\n",
      "+----------+----------------+------------------------------------------------+\n",
      "+---------+----------------+----------+\n",
      "|  itemId |      time      | user_num |\n",
      "+---------+----------------+----------+\n",
      "| 2573088 | 20160930181110 |  47028   |\n",
      "| 2573088 | 20160612190558 |  92692   |\n",
      "| 2573088 | 20160612190558 |  92692   |\n",
      "| 2573088 | 20160930181107 |  47028   |\n",
      "| 2573088 | 20160803224432 |  73620   |\n",
      "| 2573088 | 20160605163031 |  71299   |\n",
      "| 2573088 | 20160605163027 |  71299   |\n",
      "| 2573088 | 20160930181107 |  47028   |\n",
      "| 2573088 | 20160930181107 |  47028   |\n",
      "| 2573088 | 20160703003827 |  62555   |\n",
      "+---------+----------------+----------+\n",
      "[6668376 rows x 11 columns]\n",
      "Note: Only the head of the SFrame is printed.\n",
      "You can use print_rows(num_rows=m, num_columns=n) to print more rows and columns.\n"
     ]
    }
   ],
   "source": [
    "train_user.rename({'X1':'id'})\n",
    "train_data = train_data.join(train_user, how = 'right')\n",
    "print train_data"
   ]
  },
  {
   "cell_type": "code",
   "execution_count": 19,
   "metadata": {
    "collapsed": false
   },
   "outputs": [
    {
     "name": "stdout",
     "output_type": "stream",
     "text": [
      "+--------------------------+--------+------+------------+----------+\n",
      "|            id            | gender | age  |    ct1     |   ct2    |\n",
      "+--------------------------+--------+------+------------+----------+\n",
      "| tEmx3NBKDC6AmI4+D+Xeow== |   男   | 46.0 | 电脑、办公 | 电脑整机 |\n",
      "| skPlSTEloq4OXIVdCcEgsQ== |   男   | 44.0 | 电脑、办公 | 电脑整机 |\n",
      "| skPlSTEloq4OXIVdCcEgsQ== |   男   | 44.0 | 电脑、办公 | 电脑整机 |\n",
      "| tEmx3NBKDC6AmI4+D+Xeow== |   男   | 46.0 | 电脑、办公 | 电脑整机 |\n",
      "| teoHnEoqNBAgCQQ0GGMRpg== |   男   | 28.0 | 电脑、办公 | 电脑整机 |\n",
      "| wi2DkUG8oUTakBgoUgHZow== |   男   | 47.0 | 电脑、办公 | 电脑整机 |\n",
      "| wi2DkUG8oUTakBgoUgHZow== |   男   | 47.0 | 电脑、办公 | 电脑整机 |\n",
      "| tEmx3NBKDC6AmI4+D+Xeow== |   男   | 46.0 | 电脑、办公 | 电脑整机 |\n",
      "| tEmx3NBKDC6AmI4+D+Xeow== |   男   | 46.0 | 电脑、办公 | 电脑整机 |\n",
      "| yiCz352mmUfDJcTJ7POgGw== |   男   | 23.0 | 电脑、办公 | 电脑整机 |\n",
      "+--------------------------+--------+------+------------+----------+\n",
      "+----------+----------------+------------------------------------------------+\n",
      "|   ct3    |     brand      |                      item                      |\n",
      "+----------+----------------+------------------------------------------------+\n",
      "| 平板电脑 | 华为（HUAWEI） | 华为（HUAWEI）荣耀平板3G高配版 通话平板电脑... |\n",
      "| 平板电脑 | 华为（HUAWEI） | 华为（HUAWEI）荣耀平板3G高配版 通话平板电脑... |\n",
      "| 平板电脑 | 华为（HUAWEI） | 华为（HUAWEI）荣耀平板3G高配版 通话平板电脑... |\n",
      "| 平板电脑 | 华为（HUAWEI） | 华为（HUAWEI）荣耀平板3G高配版 通话平板电脑... |\n",
      "| 平板电脑 | 华为（HUAWEI） | 华为（HUAWEI）荣耀平板3G高配版 通话平板电脑... |\n",
      "| 平板电脑 | 华为（HUAWEI） | 华为（HUAWEI）荣耀平板3G高配版 通话平板电脑... |\n",
      "| 平板电脑 | 华为（HUAWEI） | 华为（HUAWEI）荣耀平板3G高配版 通话平板电脑... |\n",
      "| 平板电脑 | 华为（HUAWEI） | 华为（HUAWEI）荣耀平板3G高配版 通话平板电脑... |\n",
      "| 平板电脑 | 华为（HUAWEI） | 华为（HUAWEI）荣耀平板3G高配版 通话平板电脑... |\n",
      "| 平板电脑 | 华为（HUAWEI） | 华为（HUAWEI）荣耀平板3G高配版 通话平板电脑... |\n",
      "+----------+----------------+------------------------------------------------+\n",
      "+---------+----------------+----------+-------+\n",
      "|  itemId |      time      | user_num | index |\n",
      "+---------+----------------+----------+-------+\n",
      "| 2573088 | 20160930181110 |  47028   |  501  |\n",
      "| 2573088 | 20160612190558 |  92692   |  501  |\n",
      "| 2573088 | 20160612190558 |  92692   |  501  |\n",
      "| 2573088 | 20160930181107 |  47028   |  501  |\n",
      "| 2573088 | 20160803224432 |  73620   |  501  |\n",
      "| 2573088 | 20160605163031 |  71299   |  501  |\n",
      "| 2573088 | 20160605163027 |  71299   |  501  |\n",
      "| 2573088 | 20160930181107 |  47028   |  501  |\n",
      "| 2573088 | 20160930181107 |  47028   |  501  |\n",
      "| 2573088 | 20160703003827 |  62555   |  501  |\n",
      "+---------+----------------+----------+-------+\n",
      "[6668376 rows x 12 columns]\n",
      "Note: Only the head of the SFrame is printed.\n",
      "You can use print_rows(num_rows=m, num_columns=n) to print more rows and columns.\n"
     ]
    }
   ],
   "source": [
    "train_data = train_data.join(Dict, how = 'left')\n",
    "print train_data"
   ]
  },
  {
   "cell_type": "code",
   "execution_count": 20,
   "metadata": {
    "collapsed": false
   },
   "outputs": [
    {
     "name": "stdout",
     "output_type": "stream",
     "text": [
      "+--------+----------+\n",
      "| gender | user_num |\n",
      "+--------+----------+\n",
      "|   男   |    1     |\n",
      "|   男   |    2     |\n",
      "|   女   |    3     |\n",
      "|   男   |    4     |\n",
      "|   男   |    5     |\n",
      "|   男   |    6     |\n",
      "|   男   |    7     |\n",
      "|   男   |    8     |\n",
      "|   男   |    9     |\n",
      "|   女   |    10    |\n",
      "+--------+----------+\n",
      "[111599 rows x 2 columns]\n",
      "Note: Only the head of the SFrame is printed.\n",
      "You can use print_rows(num_rows=m, num_columns=n) to print more rows and columns.\n"
     ]
    }
   ],
   "source": [
    "gender_vec = train_data['gender'], train_data['user_num']\n",
    "gender = gl.SFrame(gender_vec).unique()\n",
    "gender = gender.sort('X2')\n",
    "gender.rename({'X1':'gender',\n",
    "              'X2':'user_num'})\n",
    "print gender"
   ]
  },
  {
   "cell_type": "code",
   "execution_count": 21,
   "metadata": {
    "collapsed": false
   },
   "outputs": [
    {
     "name": "stdout",
     "output_type": "stream",
     "text": [
      "+--------+----------+-----+\n",
      "| gender | user_num | vec |\n",
      "+--------+----------+-----+\n",
      "|   男   |    1     |  1  |\n",
      "|   男   |    2     |  1  |\n",
      "|   女   |    3     |  0  |\n",
      "|   男   |    4     |  1  |\n",
      "|   男   |    5     |  1  |\n",
      "|   男   |    6     |  1  |\n",
      "|   男   |    7     |  1  |\n",
      "|   男   |    8     |  1  |\n",
      "|   男   |    9     |  1  |\n",
      "|   女   |    10    |  0  |\n",
      "+--------+----------+-----+\n",
      "[111599 rows x 3 columns]\n",
      "Note: Only the head of the SFrame is printed.\n",
      "You can use print_rows(num_rows=m, num_columns=n) to print more rows and columns.\n"
     ]
    }
   ],
   "source": [
    "def gender_vec(i):\n",
    "    if i['gender']=='男':\n",
    "        return 1\n",
    "    else:\n",
    "        return 0\n",
    "gender['vec'] = gender.apply(lambda x: gender_vec(x))\n",
    "print gender"
   ]
  },
  {
   "cell_type": "code",
   "execution_count": 22,
   "metadata": {
    "collapsed": true
   },
   "outputs": [],
   "source": [
    "gender.save(r'E:\\train_user2.csv', format = 'csv')"
   ]
  },
  {
   "cell_type": "code",
   "execution_count": 72,
   "metadata": {
    "collapsed": false
   },
   "outputs": [
    {
     "name": "stdout",
     "output_type": "stream",
     "text": [
      "+------+-------+\n",
      "|  X1  |   X2  |\n",
      "+------+-------+\n",
      "| 755  | 53126 |\n",
      "| 1284 | 39468 |\n",
      "| 783  | 63090 |\n",
      "| 1100 | 89212 |\n",
      "| 862  | 31967 |\n",
      "| 1418 | 11738 |\n",
      "| 701  | 95582 |\n",
      "| 231  | 36737 |\n",
      "| 259  | 26363 |\n",
      "| 1387 | 77982 |\n",
      "+------+-------+\n",
      "[602285 rows x 2 columns]\n",
      "Note: Only the head of the SFrame is printed.\n",
      "You can use print_rows(num_rows=m, num_columns=n) to print more rows and columns.\n"
     ]
    }
   ],
   "source": [
    "train_ma = gl.SFrame([train_data['index'], train_data['user_num']]).unique()\n",
    "print train_ma"
   ]
  },
  {
   "cell_type": "code",
   "execution_count": 73,
   "metadata": {
    "collapsed": false
   },
   "outputs": [
    {
     "name": "stdout",
     "output_type": "stream",
     "text": [
      "+-------+----------+\n",
      "| index | user_num |\n",
      "+-------+----------+\n",
      "|  2649 |    1     |\n",
      "|   4   |    2     |\n",
      "|  785  |    3     |\n",
      "|  1283 |    3     |\n",
      "|  486  |    3     |\n",
      "|  1088 |    4     |\n",
      "|  188  |    5     |\n",
      "|  455  |    5     |\n",
      "|  133  |    5     |\n",
      "|  454  |    5     |\n",
      "+-------+----------+\n",
      "[602285 rows x 2 columns]\n",
      "Note: Only the head of the SFrame is printed.\n",
      "You can use print_rows(num_rows=m, num_columns=n) to print more rows and columns.\n"
     ]
    }
   ],
   "source": [
    "train_ma.rename({'X1':'index', 'X2':'user_num'})\n",
    "train_ma = train_ma.sort('user_num')\n",
    "print train_ma"
   ]
  },
  {
   "cell_type": "code",
   "execution_count": 74,
   "metadata": {
    "collapsed": true
   },
   "outputs": [],
   "source": [
    "train_ma.save(r'E:\\train_ma.csv')"
   ]
  },
  {
   "cell_type": "code",
   "execution_count": 88,
   "metadata": {
    "collapsed": false
   },
   "outputs": [
    {
     "name": "stdout",
     "output_type": "stream",
     "text": [
      "+--------------------------+--------+------+------------+----------+\n",
      "|            id            | gender | age  |    ct1     |   ct2    |\n",
      "+--------------------------+--------+------+------------+----------+\n",
      "| tEmx3NBKDC6AmI4+D+Xeow== |   男   | 46.0 | 电脑、办公 | 电脑整机 |\n",
      "| skPlSTEloq4OXIVdCcEgsQ== |   男   | 44.0 | 电脑、办公 | 电脑整机 |\n",
      "| skPlSTEloq4OXIVdCcEgsQ== |   男   | 44.0 | 电脑、办公 | 电脑整机 |\n",
      "| tEmx3NBKDC6AmI4+D+Xeow== |   男   | 46.0 | 电脑、办公 | 电脑整机 |\n",
      "| teoHnEoqNBAgCQQ0GGMRpg== |   男   | 28.0 | 电脑、办公 | 电脑整机 |\n",
      "| wi2DkUG8oUTakBgoUgHZow== |   男   | 47.0 | 电脑、办公 | 电脑整机 |\n",
      "| wi2DkUG8oUTakBgoUgHZow== |   男   | 47.0 | 电脑、办公 | 电脑整机 |\n",
      "| tEmx3NBKDC6AmI4+D+Xeow== |   男   | 46.0 | 电脑、办公 | 电脑整机 |\n",
      "| tEmx3NBKDC6AmI4+D+Xeow== |   男   | 46.0 | 电脑、办公 | 电脑整机 |\n",
      "| yiCz352mmUfDJcTJ7POgGw== |   男   | 23.0 | 电脑、办公 | 电脑整机 |\n",
      "+--------------------------+--------+------+------------+----------+\n",
      "+----------+----------------+------------------------------------------------+\n",
      "|   ct3    |     brand      |                      item                      |\n",
      "+----------+----------------+------------------------------------------------+\n",
      "| 平板电脑 | 华为（HUAWEI） | 华为（HUAWEI）荣耀平板3G高配版 通话平板电脑... |\n",
      "| 平板电脑 | 华为（HUAWEI） | 华为（HUAWEI）荣耀平板3G高配版 通话平板电脑... |\n",
      "| 平板电脑 | 华为（HUAWEI） | 华为（HUAWEI）荣耀平板3G高配版 通话平板电脑... |\n",
      "| 平板电脑 | 华为（HUAWEI） | 华为（HUAWEI）荣耀平板3G高配版 通话平板电脑... |\n",
      "| 平板电脑 | 华为（HUAWEI） | 华为（HUAWEI）荣耀平板3G高配版 通话平板电脑... |\n",
      "| 平板电脑 | 华为（HUAWEI） | 华为（HUAWEI）荣耀平板3G高配版 通话平板电脑... |\n",
      "| 平板电脑 | 华为（HUAWEI） | 华为（HUAWEI）荣耀平板3G高配版 通话平板电脑... |\n",
      "| 平板电脑 | 华为（HUAWEI） | 华为（HUAWEI）荣耀平板3G高配版 通话平板电脑... |\n",
      "| 平板电脑 | 华为（HUAWEI） | 华为（HUAWEI）荣耀平板3G高配版 通话平板电脑... |\n",
      "| 平板电脑 | 华为（HUAWEI） | 华为（HUAWEI）荣耀平板3G高配版 通话平板电脑... |\n",
      "+----------+----------------+------------------------------------------------+\n",
      "+---------+----------------+----------+\n",
      "|  itemId |      time      | user_num |\n",
      "+---------+----------------+----------+\n",
      "| 2573088 | 20160930181110 |  47028   |\n",
      "| 2573088 | 20160612190558 |  92692   |\n",
      "| 2573088 | 20160612190558 |  92692   |\n",
      "| 2573088 | 20160930181107 |  47028   |\n",
      "| 2573088 | 20160803224432 |  73620   |\n",
      "| 2573088 | 20160605163031 |  71299   |\n",
      "| 2573088 | 20160605163027 |  71299   |\n",
      "| 2573088 | 20160930181107 |  47028   |\n",
      "| 2573088 | 20160930181107 |  47028   |\n",
      "| 2573088 | 20160703003827 |  62555   |\n",
      "+---------+----------------+----------+\n",
      "[6668376 rows x 11 columns]\n",
      "Note: Only the head of the SFrame is printed.\n",
      "You can use print_rows(num_rows=m, num_columns=n) to print more rows and columns.\n"
     ]
    }
   ],
   "source": [
    "print train_data"
   ]
  },
  {
   "cell_type": "code",
   "execution_count": 89,
   "metadata": {
    "collapsed": true
   },
   "outputs": [],
   "source": [
    "train_data = train_data.join(Dict, how = 'inner')"
   ]
  },
  {
   "cell_type": "code",
   "execution_count": 90,
   "metadata": {
    "collapsed": false
   },
   "outputs": [
    {
     "name": "stdout",
     "output_type": "stream",
     "text": [
      "+--------------------------+--------+------+------------+----------+\n",
      "|            id            | gender | age  |    ct1     |   ct2    |\n",
      "+--------------------------+--------+------+------------+----------+\n",
      "| tEmx3NBKDC6AmI4+D+Xeow== |   男   | 46.0 | 电脑、办公 | 电脑整机 |\n",
      "| skPlSTEloq4OXIVdCcEgsQ== |   男   | 44.0 | 电脑、办公 | 电脑整机 |\n",
      "| skPlSTEloq4OXIVdCcEgsQ== |   男   | 44.0 | 电脑、办公 | 电脑整机 |\n",
      "| tEmx3NBKDC6AmI4+D+Xeow== |   男   | 46.0 | 电脑、办公 | 电脑整机 |\n",
      "| teoHnEoqNBAgCQQ0GGMRpg== |   男   | 28.0 | 电脑、办公 | 电脑整机 |\n",
      "| wi2DkUG8oUTakBgoUgHZow== |   男   | 47.0 | 电脑、办公 | 电脑整机 |\n",
      "| wi2DkUG8oUTakBgoUgHZow== |   男   | 47.0 | 电脑、办公 | 电脑整机 |\n",
      "| tEmx3NBKDC6AmI4+D+Xeow== |   男   | 46.0 | 电脑、办公 | 电脑整机 |\n",
      "| tEmx3NBKDC6AmI4+D+Xeow== |   男   | 46.0 | 电脑、办公 | 电脑整机 |\n",
      "| yiCz352mmUfDJcTJ7POgGw== |   男   | 23.0 | 电脑、办公 | 电脑整机 |\n",
      "+--------------------------+--------+------+------------+----------+\n",
      "+----------+----------------+------------------------------------------------+\n",
      "|   ct3    |     brand      |                      item                      |\n",
      "+----------+----------------+------------------------------------------------+\n",
      "| 平板电脑 | 华为（HUAWEI） | 华为（HUAWEI）荣耀平板3G高配版 通话平板电脑... |\n",
      "| 平板电脑 | 华为（HUAWEI） | 华为（HUAWEI）荣耀平板3G高配版 通话平板电脑... |\n",
      "| 平板电脑 | 华为（HUAWEI） | 华为（HUAWEI）荣耀平板3G高配版 通话平板电脑... |\n",
      "| 平板电脑 | 华为（HUAWEI） | 华为（HUAWEI）荣耀平板3G高配版 通话平板电脑... |\n",
      "| 平板电脑 | 华为（HUAWEI） | 华为（HUAWEI）荣耀平板3G高配版 通话平板电脑... |\n",
      "| 平板电脑 | 华为（HUAWEI） | 华为（HUAWEI）荣耀平板3G高配版 通话平板电脑... |\n",
      "| 平板电脑 | 华为（HUAWEI） | 华为（HUAWEI）荣耀平板3G高配版 通话平板电脑... |\n",
      "| 平板电脑 | 华为（HUAWEI） | 华为（HUAWEI）荣耀平板3G高配版 通话平板电脑... |\n",
      "| 平板电脑 | 华为（HUAWEI） | 华为（HUAWEI）荣耀平板3G高配版 通话平板电脑... |\n",
      "| 平板电脑 | 华为（HUAWEI） | 华为（HUAWEI）荣耀平板3G高配版 通话平板电脑... |\n",
      "+----------+----------------+------------------------------------------------+\n",
      "+---------+----------------+----------+-------+\n",
      "|  itemId |      time      | user_num | index |\n",
      "+---------+----------------+----------+-------+\n",
      "| 2573088 | 20160930181110 |  47028   |  501  |\n",
      "| 2573088 | 20160612190558 |  92692   |  501  |\n",
      "| 2573088 | 20160612190558 |  92692   |  501  |\n",
      "| 2573088 | 20160930181107 |  47028   |  501  |\n",
      "| 2573088 | 20160803224432 |  73620   |  501  |\n",
      "| 2573088 | 20160605163031 |  71299   |  501  |\n",
      "| 2573088 | 20160605163027 |  71299   |  501  |\n",
      "| 2573088 | 20160930181107 |  47028   |  501  |\n",
      "| 2573088 | 20160930181107 |  47028   |  501  |\n",
      "| 2573088 | 20160703003827 |  62555   |  501  |\n",
      "+---------+----------------+----------+-------+\n",
      "[6665900 rows x 12 columns]\n",
      "Note: Only the head of the SFrame is printed.\n",
      "You can use print_rows(num_rows=m, num_columns=n) to print more rows and columns.\n"
     ]
    }
   ],
   "source": [
    "print train_data"
   ]
  },
  {
   "cell_type": "code",
   "execution_count": 91,
   "metadata": {
    "collapsed": true
   },
   "outputs": [],
   "source": [
    "train_data = train_data.sort('user_num')\n",
    "train_data.save(r'E:\\train_data.csv')"
   ]
  },
  {
   "cell_type": "code",
   "execution_count": 23,
   "metadata": {
    "collapsed": false
   },
   "outputs": [
    {
     "data": {
      "text/html": [
       "<pre>Finished parsing file E:\\train_data.csv</pre>"
      ],
      "text/plain": [
       "Finished parsing file E:\\train_data.csv"
      ]
     },
     "metadata": {},
     "output_type": "display_data"
    },
    {
     "data": {
      "text/html": [
       "<pre>Parsing completed. Parsed 100 lines in 0.498117 secs.</pre>"
      ],
      "text/plain": [
       "Parsing completed. Parsed 100 lines in 0.498117 secs."
      ]
     },
     "metadata": {},
     "output_type": "display_data"
    },
    {
     "name": "stdout",
     "output_type": "stream",
     "text": [
      "------------------------------------------------------\n",
      "Inferred types from first 100 line(s) of file as \n",
      "column_type_hints=[str,str,long,str,str,str,str,str,long,long,long,long]\n",
      "If parsing fails due to incorrect types, you can correct\n",
      "the inferred type list above and pass it to read_csv in\n",
      "the column_type_hints argument\n",
      "------------------------------------------------------\n"
     ]
    },
    {
     "data": {
      "text/html": [
       "<pre>Read 251327 lines. Lines per second: 454506</pre>"
      ],
      "text/plain": [
       "Read 251327 lines. Lines per second: 454506"
      ]
     },
     "metadata": {},
     "output_type": "display_data"
    },
    {
     "data": {
      "text/html": [
       "<pre>Read 3761723 lines. Lines per second: 662318</pre>"
      ],
      "text/plain": [
       "Read 3761723 lines. Lines per second: 662318"
      ]
     },
     "metadata": {},
     "output_type": "display_data"
    },
    {
     "data": {
      "text/html": [
       "<pre>Finished parsing file E:\\train_data.csv</pre>"
      ],
      "text/plain": [
       "Finished parsing file E:\\train_data.csv"
      ]
     },
     "metadata": {},
     "output_type": "display_data"
    },
    {
     "data": {
      "text/html": [
       "<pre>Parsing completed. Parsed 6665900 lines in 9.84866 secs.</pre>"
      ],
      "text/plain": [
       "Parsing completed. Parsed 6665900 lines in 9.84866 secs."
      ]
     },
     "metadata": {},
     "output_type": "display_data"
    }
   ],
   "source": [
    "train_data = gl.SFrame.read_csv(r'E:\\train_data.csv')"
   ]
  },
  {
   "cell_type": "code",
   "execution_count": 24,
   "metadata": {
    "collapsed": false
   },
   "outputs": [
    {
     "name": "stdout",
     "output_type": "stream",
     "text": [
      "+--------------------------+--------+-----+----------+----------+----------+\n",
      "|            id            | gender | age |   ct1    |   ct2    |   ct3    |\n",
      "+--------------------------+--------+-----+----------+----------+----------+\n",
      "| 0mFlraPodrRBouyuRVtw1w== |   男   |  26 | 个护化妆 | 面部护肤 |   套装   |\n",
      "| 0mFlraPodrRBouyuRVtw1w== |   男   |  26 | 个护化妆 | 面部护肤 |   套装   |\n",
      "| Ujcp/RSaEg2ksqp19DeOvg== |   男   |  24 | 食品饮料 | 饮料冲调 | 牛奶乳品 |\n",
      "| Ujcp/RSaEg2ksqp19DeOvg== |   男   |  24 | 食品饮料 | 饮料冲调 | 牛奶乳品 |\n",
      "| Ujcp/RSaEg2ksqp19DeOvg== |   男   |  24 | 食品饮料 | 饮料冲调 | 牛奶乳品 |\n",
      "| Ujcp/RSaEg2ksqp19DeOvg== |   男   |  24 | 食品饮料 | 饮料冲调 | 牛奶乳品 |\n",
      "| Ujcp/RSaEg2ksqp19DeOvg== |   男   |  24 | 食品饮料 | 饮料冲调 | 牛奶乳品 |\n",
      "| Ujcp/RSaEg2ksqp19DeOvg== |   男   |  24 | 食品饮料 | 饮料冲调 | 牛奶乳品 |\n",
      "| Ujcp/RSaEg2ksqp19DeOvg== |   男   |  24 | 食品饮料 | 饮料冲调 | 牛奶乳品 |\n",
      "| Ujcp/RSaEg2ksqp19DeOvg== |   男   |  24 | 食品饮料 | 饮料冲调 | 牛奶乳品 |\n",
      "+--------------------------+--------+-----+----------+----------+----------+\n",
      "+-------------------------------+-------------------------------------------------+\n",
      "|             brand             |                       item                      |\n",
      "+-------------------------------+-------------------------------------------------+\n",
      "| 汉萱本草（HANXUAN HERBAL）... | 【限量800 前500加送2片面膜】汉萱本草男士护肤... |\n",
      "| 汉萱本草（HANXUAN HERBAL）... | 【限量800 前500加送2片面膜】汉萱本草男士护肤... |\n",
      "|              伊利             |         伊利味可滋巧克力牛奶240ml*12...         |\n",
      "|              伊利             |         伊利味可滋巧克力牛奶240ml*12...         |\n",
      "|              伊利             |         伊利味可滋巧克力牛奶240ml*12...         |\n",
      "|              伊利             |         伊利味可滋巧克力牛奶240ml*12...         |\n",
      "|              伊利             |         伊利味可滋巧克力牛奶240ml*12...         |\n",
      "|              伊利             |         伊利味可滋巧克力牛奶240ml*12...         |\n",
      "|              伊利             |         伊利味可滋巧克力牛奶240ml*12...         |\n",
      "|              伊利             |         伊利味可滋巧克力牛奶240ml*12...         |\n",
      "+-------------------------------+-------------------------------------------------+\n",
      "+-------------+----------------+----------+-------+\n",
      "|    itemId   |      time      | user_num | index |\n",
      "+-------------+----------------+----------+-------+\n",
      "| 10321127830 | 20160908164243 |    1     |  2649 |\n",
      "| 10321127830 | 20160908164243 |    1     |  2649 |\n",
      "|   2056718   | 20160722155125 |    2     |   4   |\n",
      "|   2056718   | 20160722155120 |    2     |   4   |\n",
      "|   2056718   | 20160722155120 |    2     |   4   |\n",
      "|   2056718   | 20160722155126 |    2     |   4   |\n",
      "|   2056718   | 20160722155119 |    2     |   4   |\n",
      "|   2056718   | 20160722155126 |    2     |   4   |\n",
      "|   2056718   | 20160722155125 |    2     |   4   |\n",
      "|   2056718   | 20160722155119 |    2     |   4   |\n",
      "+-------------+----------------+----------+-------+\n",
      "[6665900 rows x 12 columns]\n",
      "Note: Only the head of the SFrame is printed.\n",
      "You can use print_rows(num_rows=m, num_columns=n) to print more rows and columns.\n"
     ]
    }
   ],
   "source": [
    "print train_data"
   ]
  },
  {
   "cell_type": "code",
   "execution_count": 25,
   "metadata": {
    "collapsed": false
   },
   "outputs": [
    {
     "name": "stdout",
     "output_type": "stream",
     "text": [
      "+--------------------------+--------+-----+----------+----------+--------+\n",
      "|            id            | gender | age |   ct1    |   ct2    |  ct3   |\n",
      "+--------------------------+--------+-----+----------+----------+--------+\n",
      "| LzB5Bx1O0rR4147XkKp3cA== |   女   |  22 | 运动户外 | 运动鞋包 | 休闲鞋 |\n",
      "| LzB5Bx1O0rR4147XkKp3cA== |   男   |  25 | 运动户外 | 运动鞋包 | 休闲鞋 |\n",
      "| LzB5Bx1O0rR4147XkKp3cA== |   男   |  25 | 运动户外 | 运动鞋包 | 休闲鞋 |\n",
      "| LzB5Bx1O0rR4147XkKp3cA== |   女   |  22 | 运动户外 | 运动鞋包 | 休闲鞋 |\n",
      "| LzB5Bx1O0rR4147XkKp3cA== |   男   |  25 | 运动户外 | 运动鞋包 | 休闲鞋 |\n",
      "| LzB5Bx1O0rR4147XkKp3cA== |   女   |  22 | 运动户外 | 运动鞋包 | 休闲鞋 |\n",
      "| LzB5Bx1O0rR4147XkKp3cA== |   男   |  25 | 运动户外 | 运动鞋包 | 休闲鞋 |\n",
      "| LzB5Bx1O0rR4147XkKp3cA== |   女   |  22 | 运动户外 | 运动鞋包 | 休闲鞋 |\n",
      "+--------------------------+--------+-----+----------+----------+--------+\n",
      "+--------------+------------------------------------------------------+\n",
      "|    brand     |                         item                         |\n",
      "+--------------+------------------------------------------------------+\n",
      "| 特步（XTEP） | 特步男鞋复古休闲时尚简约休闲鞋旅游鞋运动鞋 黑灰 4... |\n",
      "| 特步（XTEP） | 特步男鞋复古休闲时尚简约休闲鞋旅游鞋运动鞋 黑灰 4... |\n",
      "| 特步（XTEP） | 特步男鞋复古休闲时尚简约休闲鞋旅游鞋运动鞋 黑灰 4... |\n",
      "| 特步（XTEP） | 特步男鞋复古休闲时尚简约休闲鞋旅游鞋运动鞋 黑灰 4... |\n",
      "| 特步（XTEP） | 特步男鞋复古休闲时尚简约休闲鞋旅游鞋运动鞋 黑灰 4... |\n",
      "| 特步（XTEP） | 特步男鞋复古休闲时尚简约休闲鞋旅游鞋运动鞋 黑灰 4... |\n",
      "| 特步（XTEP） | 特步男鞋复古休闲时尚简约休闲鞋旅游鞋运动鞋 黑灰 4... |\n",
      "| 特步（XTEP） | 特步男鞋复古休闲时尚简约休闲鞋旅游鞋运动鞋 黑灰 4... |\n",
      "+--------------+------------------------------------------------------+\n",
      "+-------------+----------------+----------+-------+\n",
      "|    itemId   |      time      | user_num | index |\n",
      "+-------------+----------------+----------+-------+\n",
      "| 10111064963 | 20160904090431 |  38165   |  196  |\n",
      "| 10111064963 | 20160904090451 |  38165   |  196  |\n",
      "| 10111064963 | 20160904090431 |  38165   |  196  |\n",
      "| 10111064963 | 20160904090451 |  38165   |  196  |\n",
      "| 10111064963 | 20160904090451 |  38165   |  196  |\n",
      "| 10111064963 | 20160904090451 |  38165   |  196  |\n",
      "| 10111064963 | 20160904090431 |  38165   |  196  |\n",
      "| 10111064963 | 20160904090431 |  38165   |  196  |\n",
      "+-------------+----------------+----------+-------+\n",
      "[? rows x 12 columns]\n",
      "Note: Only the head of the SFrame is printed. This SFrame is lazily evaluated.\n",
      "You can use sf.materialize() to force materialization.\n"
     ]
    }
   ],
   "source": [
    "heheh = train_data[train_data['user_num']==38165]\n",
    "print heheh"
   ]
  },
  {
   "cell_type": "code",
   "execution_count": null,
   "metadata": {
    "collapsed": true
   },
   "outputs": [],
   "source": []
  }
 ],
 "metadata": {
  "kernelspec": {
   "display_name": "Python 2",
   "language": "python",
   "name": "python2"
  },
  "language_info": {
   "codemirror_mode": {
    "name": "ipython",
    "version": 2
   },
   "file_extension": ".py",
   "mimetype": "text/x-python",
   "name": "python",
   "nbconvert_exporter": "python",
   "pygments_lexer": "ipython2",
   "version": "2.7.11"
  }
 },
 "nbformat": 4,
 "nbformat_minor": 0
}
