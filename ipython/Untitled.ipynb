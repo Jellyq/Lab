{
 "cells": [
  {
   "cell_type": "code",
   "execution_count": 1,
   "metadata": {
    "collapsed": false
   },
   "outputs": [
    {
     "name": "stdout",
     "output_type": "stream",
     "text": [
      "Using matplotlib backend: Qt4Agg\n",
      "Populating the interactive namespace from numpy and matplotlib\n"
     ]
    }
   ],
   "source": [
    "%pylab\n",
    "import graphlab as gl"
   ]
  },
  {
   "cell_type": "code",
   "execution_count": 3,
   "metadata": {
    "collapsed": false
   },
   "outputs": [
    {
     "data": {
      "text/html": [
       "<pre>Finished parsing file E:\\Data\\shanghai_jd_c_091011\\000000_0</pre>"
      ],
      "text/plain": [
       "Finished parsing file E:\\Data\\shanghai_jd_c_091011\\000000_0"
      ]
     },
     "metadata": {},
     "output_type": "display_data"
    },
    {
     "data": {
      "text/html": [
       "<pre>Parsing completed. Parsed 100 lines in 0.067213 secs.</pre>"
      ],
      "text/plain": [
       "Parsing completed. Parsed 100 lines in 0.067213 secs."
      ]
     },
     "metadata": {},
     "output_type": "display_data"
    },
    {
     "name": "stdout",
     "output_type": "stream",
     "text": [
      "------------------------------------------------------\n",
      "Inferred types from first 100 line(s) of file as \n",
      "column_type_hints=[str,str,long,str,str,str,str,str,str,str]\n",
      "If parsing fails due to incorrect types, you can correct\n",
      "the inferred type list above and pass it to read_csv in\n",
      "the column_type_hints argument\n",
      "------------------------------------------------------\n"
     ]
    },
    {
     "data": {
      "text/html": [
       "<pre>Finished parsing file E:\\Data\\shanghai_jd_c_091011\\000000_0</pre>"
      ],
      "text/plain": [
       "Finished parsing file E:\\Data\\shanghai_jd_c_091011\\000000_0"
      ]
     },
     "metadata": {},
     "output_type": "display_data"
    },
    {
     "data": {
      "text/html": [
       "<pre>Parsing completed. Parsed 18952 lines in 0.046154 secs.</pre>"
      ],
      "text/plain": [
       "Parsing completed. Parsed 18952 lines in 0.046154 secs."
      ]
     },
     "metadata": {},
     "output_type": "display_data"
    },
    {
     "name": "stdout",
     "output_type": "stream",
     "text": [
      "+-------------------------------+---------------------+-------------+\n",
      "|               X1              |          X2         |      X3     |\n",
      "+-------------------------------+---------------------+-------------+\n",
      "| B94D1179736187209ED7379E39... | 2016-10-02 18:29:45 | 10000009133 |\n",
      "| 47992F56B6110164F8105B53DE... | 2016-11-09 08:27:36 | 10001421844 |\n",
      "| DA39A3EE5E6B4B0D3255BFEF95... | 2016-11-23 10:58:32 | 10001421844 |\n",
      "| F51191B92DAEFB91B577D7D237... | 2016-11-28 08:12:08 | 10001429770 |\n",
      "| C1915012324DF3CE17107911B3... | 2016-11-11 22:52:28 | 10001429770 |\n",
      "| 94488FABA66B0A76BD74D11F02... | 2016-09-13 20:08:40 | 10001633809 |\n",
      "| 94488FABA66B0A76BD74D11F02... | 2016-09-13 20:05:41 | 10001633809 |\n",
      "| 94488FABA66B0A76BD74D11F02... | 2016-09-13 09:33:24 | 10001633809 |\n",
      "| 94488FABA66B0A76BD74D11F02... | 2016-09-13 20:12:40 | 10001633809 |\n",
      "| F833776C1BD3B16602CC37C38D... | 2016-11-19 17:42:10 | 10001633809 |\n",
      "+-------------------------------+---------------------+-------------+\n",
      "+--------------------------------------------------------+\n",
      "|                           X4                           |\n",
      "+--------------------------------------------------------+\n",
      "| 美国香蕉宝宝儿童牙膏进口宝宝牙膏儿童护齿啫喱可吞咽 ... |\n",
      "|    Teenmix/天美意冬季弹力布女休闲长靴修腿过膝靴...     |\n",
      "|    Teenmix/天美意冬季弹力布女休闲长靴修腿过膝靴...     |\n",
      "|    安踏男鞋 运动板鞋 高帮耐磨时尚休闲运动鞋 9154...    |\n",
      "|    安踏男鞋 运动板鞋 高帮耐磨时尚休闲运动鞋 9154...    |\n",
      "| 古木一品功夫茶桌 茶桌椅组合 实木南榆木中式茶台茶几...  |\n",
      "| 古木一品功夫茶桌 茶桌椅组合 实木南榆木中式茶台茶几...  |\n",
      "| 古木一品功夫茶桌 茶桌椅组合 实木南榆木中式茶台茶几...  |\n",
      "| 古木一品功夫茶桌 茶桌椅组合 实木南榆木中式茶台茶几...  |\n",
      "| 古木一品功夫茶桌 茶桌椅组合 实木南榆木中式茶台茶几...  |\n",
      "+--------------------------------------------------------+\n",
      "+--------------------------------------------------------+-----------+\n",
      "|                           X5                           |     X6    |\n",
      "+--------------------------------------------------------+-----------+\n",
      "| 美国香蕉宝宝儿童牙膏进口宝宝牙膏儿童护齿啫喱可吞咽 ... |  日常护理 |\n",
      "|    Teenmix/天美意冬季弹力布女休闲长靴修腿过膝靴...     |    女靴   |\n",
      "|    Teenmix/天美意冬季弹力布女休闲长靴修腿过膝靴...     |    女靴   |\n",
      "|    安踏男鞋 运动板鞋 高帮耐磨时尚休闲运动鞋 9154...    |    板鞋   |\n",
      "|    安踏男鞋 运动板鞋 高帮耐磨时尚休闲运动鞋 9154...    |    板鞋   |\n",
      "| 古木一品功夫茶桌 茶桌椅组合 实木南榆木中式茶台茶几...  | 边桌/茶几 |\n",
      "| 古木一品功夫茶桌 茶桌椅组合 实木南榆木中式茶台茶几...  | 边桌/茶几 |\n",
      "| 古木一品功夫茶桌 茶桌椅组合 实木南榆木中式茶台茶几...  | 边桌/茶几 |\n",
      "| 古木一品功夫茶桌 茶桌椅组合 实木南榆木中式茶台茶几...  | 边桌/茶几 |\n",
      "| 古木一品功夫茶桌 茶桌椅组合 实木南榆木中式茶台茶几...  | 边桌/茶几 |\n",
      "+--------------------------------------------------------+-----------+\n",
      "+-------------------+-------------------------------+----------+----------+\n",
      "|         X7        |               X8              |    X9    |   X10    |\n",
      "+-------------------+-------------------------------+----------+----------+\n",
      "|      香蕉宝宝     | http://item.jd.com/1000000... |   母婴   | 洗护用品 |\n",
      "| 天美意（TEENMIX） | http://item.jd.com/1000142... |   鞋靴   | 时尚女鞋 |\n",
      "| 天美意（TEENMIX） | http://item.jd.com/1000142... |   鞋靴   | 时尚女鞋 |\n",
      "|    安踏（ANTA）   | http://item.jd.com/1000142... | 运动户外 | 运动鞋包 |\n",
      "|    安踏（ANTA）   | http://item.jd.com/1000142... | 运动户外 | 运动鞋包 |\n",
      "|      古木一品     | http://item.jd.com/1000163... |   家具   | 客厅家具 |\n",
      "|      古木一品     | http://item.jd.com/1000163... |   家具   | 客厅家具 |\n",
      "|      古木一品     | http://item.jd.com/1000163... |   家具   | 客厅家具 |\n",
      "|      古木一品     | http://item.jd.com/1000163... |   家具   | 客厅家具 |\n",
      "|      古木一品     | http://item.jd.com/1000163... |   家具   | 客厅家具 |\n",
      "+-------------------+-------------------------------+----------+----------+\n",
      "[18952 rows x 10 columns]\n",
      "Note: Only the head of the SFrame is printed.\n",
      "You can use print_rows(num_rows=m, num_columns=n) to print more rows and columns.\n"
     ]
    }
   ],
   "source": [
    "data = gl.SFrame.read_csv(r'E:\\Data\\shanghai_jd_c_091011\\000000_0', header = False, delimiter = '\\t')\n",
    "print data"
   ]
  },
  {
   "cell_type": "code",
   "execution_count": 4,
   "metadata": {
    "collapsed": false
   },
   "outputs": [
    {
     "name": "stdout",
     "output_type": "stream",
     "text": [
      "Canvas is accessible via web browser at the URL: http://localhost:55883/index.html\n",
      "Opening Canvas in default web browser.\n"
     ]
    }
   ],
   "source": [
    "data.show()"
   ]
  },
  {
   "cell_type": "code",
   "execution_count": null,
   "metadata": {
    "collapsed": true
   },
   "outputs": [],
   "source": []
  }
 ],
 "metadata": {
  "kernelspec": {
   "display_name": "Python 2",
   "language": "python",
   "name": "python2"
  },
  "language_info": {
   "codemirror_mode": {
    "name": "ipython",
    "version": 2
   },
   "file_extension": ".py",
   "mimetype": "text/x-python",
   "name": "python",
   "nbconvert_exporter": "python",
   "pygments_lexer": "ipython2",
   "version": "2.7.11"
  }
 },
 "nbformat": 4,
 "nbformat_minor": 0
}
