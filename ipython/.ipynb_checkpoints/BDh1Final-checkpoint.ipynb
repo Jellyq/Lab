{
 "cells": [
  {
   "cell_type": "code",
   "execution_count": 1,
   "metadata": {
    "collapsed": false
   },
   "outputs": [
    {
     "name": "stdout",
     "output_type": "stream",
     "text": [
      "Using matplotlib backend: Qt4Agg\n",
      "Populating the interactive namespace from numpy and matplotlib\n"
     ]
    }
   ],
   "source": [
    "%pylab\n",
    "%matplotlib inline\n",
    "import pandas as pd\n",
    "import numpy as np\n",
    "import sklearn\n",
    "from scipy.stats import f_oneway\n",
    "from scipy.stats import normaltest\n",
    "#from sklearn.grid_search import GridSearchCV\n",
    "from sklearn.neighbors import KernelDensity\n",
    "import matplotlib.pyplot as plt\n",
    "from scipy.stats import boxcox\n",
    "\n",
    "df = pd.read_excel(r'E:\\Datasets2\\data.xlsx', sheet_name = 'Sheet1')"
   ]
  },
  {
   "cell_type": "code",
   "execution_count": 2,
   "metadata": {
    "collapsed": false
   },
   "outputs": [],
   "source": [
    "#检验方差分布\n",
    "def std_ratio(a1, a2, a3, a4, a5):\n",
    "    '''\n",
    "    Check if the variances of the five catagories meet the std assumption\n",
    "    a1~a5 datatype-------np_array\n",
    "    '''\n",
    "    s1 = np.std(a1)\n",
    "    s2 = np.std(a2)\n",
    "    s3 = np.std(a3)\n",
    "    s4 = np.std(a4)\n",
    "    s5 = np.std(a5)\n",
    "    ratio = float(max(s1, s2, s3, s4, s5))/ min(s1, s2, s3, s4, s5)\n",
    "    print ratio\n",
    "    if ratio > 2:\n",
    "        print \"variations do not match anova assumption\"\n",
    "    else:\n",
    "        print \"variations match anova assumption\"\n",
    "#画pdf\n",
    "def draw_pdf(array, bandwidth, i, xlabel):\n",
    "    '''\n",
    "    using built-in functions from python sklearn package to draw pdfs\n",
    "    bandwidth----float\n",
    "    array----np_array, input data\n",
    "    i----integer, the colomn number in data.xlsx, used for title\n",
    "    label-----string, the colomn name of colomn i in data.xlsx\n",
    "    '''\n",
    "\n",
    "    #grid = GridSearchCV(KernelDensity(),\n",
    "    #                    {'bandwidth': np.linspace(min(array), max(array), 200)},\n",
    "    #                    cv=20) # 20-fold cross-validation\n",
    "    #grid.fit(array[:, None])\n",
    "    x_grid = np.linspace(min(array), max(array), 10000)\n",
    "    #print grid.best_params_\n",
    "    #kde = grid.best_estimator_\n",
    "    #pdf = np.exp(kde.score_samples(x_grid[:, None]))\n",
    "    pdf = kde_sklearn(array, x_grid, bandwidth)\n",
    "    fig, ax = plt.subplots()\n",
    "    #ax[0].hist(array, 30, fc='gray', histtype='bar', alpha=0.3, normed=False)\n",
    "    ax.plot(x_grid, pdf, linewidth=3, alpha=0.5, label='bw=%.2f' % bandwidth)\n",
    "    ax.legend(loc='upper left')\n",
    "    ax.set_xlim(min(array)-1, max(array)+1);\n",
    "    ax.set_title('Col[' + str(i) + ']:probability density function')\n",
    "    ax.set_xlabel(xlabel)\n",
    "    ax.set_ylabel('probability')\n",
    "    \n",
    "#get the required array from input data\n",
    "def get_array(df, s):\n",
    "    '''\n",
    "    df----dataframe, input data\n",
    "    s-----string, the name of the aimed colomn\n",
    "    a-----np_array\n",
    "    '''\n",
    "    a = np.array(df[s])\n",
    "    return a\n",
    "\n",
    "#get 5 arrays according to its catagories from input data\n",
    "def get_nparray(df, s):\n",
    "    '''\n",
    "    df----dataframe, input data\n",
    "    s-----string, the name of the aimed colomn\n",
    "    a1~a5-----np_array\n",
    "    '''\n",
    "    group1 = df[df[u'群类别']==1]\n",
    "    group2 = df[df[u'群类别']==2]\n",
    "    group3 = df[df[u'群类别']==3]\n",
    "    group4 = df[df[u'群类别']==4]\n",
    "    group5 = df[df[u'群类别']==5]\n",
    "    a1 = np.array(group1[s])\n",
    "    a2 = np.array(group2[s])\n",
    "    a3 = np.array(group3[s])\n",
    "    a4 = np.array(group4[s])\n",
    "    a5 = np.array(group5[s])\n",
    "    return a1, a2, a3, a4, a5\n",
    "\n",
    "#检测数据的正态性\n",
    "def test_normality(a):\n",
    "    s, p = normaltest(a, None, 'omit')\n",
    "    print s, p\n",
    "\n",
    "#离散数据的核密度估计，使用sklearn的函数\n",
    "def kde_sklearn(x, x_grid, bandwidth, **kwargs):\n",
    "    \"\"\"Kernel Density Estimation with Scikit-learn\"\"\"\n",
    "    kde_skl = KernelDensity(bandwidth=bandwidth, **kwargs)\n",
    "    kde_skl.fit(x[:, np.newaxis])\n",
    "    # score_samples() returns the log-likelihood of the samples\n",
    "    log_pdf = kde_skl.score_samples(x_grid[:, np.newaxis])\n",
    "    return np.exp(log_pdf)\n",
    "\n",
    "\n",
    "def plot_box(a1, a2, a3, a4, a5, i):\n",
    "    '''\n",
    "    a1~a5----np_array, used to draw the boxplot\n",
    "    i--------integer, the number\n",
    "    '''\n",
    "    data_to_plot = [a1, a2, a3, a4, a5]\n",
    "    # Create a figure instance\n",
    "    fig = plt.figure(1, figsize=(9, 6))\n",
    "    # Create an axes instance\n",
    "    ax = fig.add_subplot(111)\n",
    "    # Create the boxplot\n",
    "    bp = ax.boxplot(data_to_plot)\n",
    "    ax.set_title('Col[' + str(i) + '] data distribution')\n",
    "    ax.set_xlabel('catagory')"
   ]
  },
  {
   "cell_type": "code",
   "execution_count": 3,
   "metadata": {
    "collapsed": false
   },
   "outputs": [
    {
     "data": {
      "image/png": "[encoded data removed]",
      "text/plain": [
       "<matplotlib.figure.Figure at 0xa098550>"
      ]
     },
     "metadata": {},
     "output_type": "display_data"
    }
   ],
   "source": [
    "#画出col[7]的pdf\n",
    "avr_age = get_array(df, u'平均年龄')\n",
    "draw_pdf(avr_age, 1.0,7, 'average age')"
   ]
  },
  {
   "cell_type": "code",
   "execution_count": 4,
   "metadata": {
    "collapsed": false
   },
   "outputs": [
    {
     "data": {
      "image/png": "[encoded data removed]",
      "text/plain": [
       "<matplotlib.figure.Figure at 0xad9a278>"
      ]
     },
     "metadata": {},
     "output_type": "display_data"
    }
   ],
   "source": [
    "#画出col[3]的pdf\n",
    "numbers = get_array(df, u'群人数')\n",
    "draw_pdf(numbers, 10, 3, 'numbers')"
   ]
  },
  {
   "cell_type": "code",
   "execution_count": 5,
   "metadata": {
    "collapsed": false
   },
   "outputs": [
    {
     "data": {
      "image/png": "[encoded data removed]",
      "text/plain": [
       "<matplotlib.figure.Figure at 0xad90ba8>"
      ]
     },
     "metadata": {},
     "output_type": "display_data"
    }
   ],
   "source": [
    "#画出col[8]的pdf\n",
    "age_gap = get_array(df, u'年龄差')\n",
    "draw_pdf(age_gap, 0.5, 8, 'age gap')"
   ]
  },
  {
   "cell_type": "code",
   "execution_count": 6,
   "metadata": {
    "collapsed": false
   },
   "outputs": [
    {
     "data": {
      "image/png": "[encoded data removed]",
      "text/plain": [
       "<matplotlib.figure.Figure at 0xbbafa58>"
      ]
     },
     "metadata": {},
     "output_type": "display_data"
    }
   ],
   "source": [
    "#画出col[11]的pdf\n",
    "session_num = get_array(df, u'会话数')\n",
    "draw_pdf(session_num, 10, 11, 'session number')"
   ]
  },
  {
   "cell_type": "code",
   "execution_count": 7,
   "metadata": {
    "collapsed": false
   },
   "outputs": [
    {
     "name": "stdout",
     "output_type": "stream",
     "text": [
      "check the normality of Col[7]\n",
      "24.4793415443 4.83480011029e-06\n",
      "check the normality of Col[3]\n",
      "1959.91114096 0.0\n",
      "check the normality of Col[8]\n",
      "2.20617678649 0.331844632749\n",
      "check the normality of Col[11]\n",
      "913.95796672 3.43992664105e-199\n"
     ]
    }
   ],
   "source": [
    "#检验各列的正态性\n",
    "print 'check the normality of Col[7]'\n",
    "test_normality(avr_age)\n",
    "print 'check the normality of Col[3]'\n",
    "test_normality(numbers)\n",
    "print 'check the normality of Col[8]'\n",
    "test_normality(age_gap)\n",
    "print 'check the normality of Col[11]'\n",
    "test_normality(session_num)"
   ]
  },
  {
   "cell_type": "code",
   "execution_count": 8,
   "metadata": {
    "collapsed": false
   },
   "outputs": [
    {
     "name": "stdout",
     "output_type": "stream",
     "text": [
      "7.95994294603 0.0186861723903\n",
      "5.51322664066 0.0635064806804\n",
      "2.99611793761 0.223563683355\n",
      "15.0812272153 0.000531071652163\n",
      "90.5023380462 2.22672709451e-20\n"
     ]
    }
   ],
   "source": [
    "#检验Col[7]各组正态性\n",
    "a1, a2, a3, a4, a5 = get_nparray(df, u'平均年龄')\n",
    "test_normality(a1)\n",
    "test_normality(a2)\n",
    "test_normality(a3)\n",
    "test_normality(a4)\n",
    "test_normality(a5)"
   ]
  },
  {
   "cell_type": "code",
   "execution_count": 9,
   "metadata": {
    "collapsed": false
   },
   "outputs": [
    {
     "name": "stdout",
     "output_type": "stream",
     "text": [
      "628.219899752 3.83514737902e-137\n",
      "121.654233472 3.82929523696e-27\n",
      "84.0148101898 5.70710375673e-19\n",
      "430.688355121 3.00062674153e-94\n",
      "568.083516363 4.38764812847e-124\n"
     ]
    }
   ],
   "source": [
    "#检验Col[3]各组正态性\n",
    "n1, n2, n3, n4, n5 = get_nparray(df, u'群人数')\n",
    "test_normality(n1)\n",
    "test_normality(n2)\n",
    "test_normality(n3)\n",
    "test_normality(n4)\n",
    "test_normality(n5)"
   ]
  },
  {
   "cell_type": "code",
   "execution_count": 10,
   "metadata": {
    "collapsed": false
   },
   "outputs": [
    {
     "name": "stdout",
     "output_type": "stream",
     "text": [
      "60.3045388223 8.03592320691e-14\n",
      "0.0315450598637 0.984351205026\n",
      "21.1914919455 2.50222288851e-05\n",
      "84.6511425724 4.15181455435e-19\n",
      "30.3953692229 2.51032201942e-07\n"
     ]
    }
   ],
   "source": [
    "#检验Col[8]各组正态性\n",
    "g1, g2, g3, g4, g5 = get_nparray(df, u'年龄差')\n",
    "test_normality(g1)\n",
    "test_normality(g2)\n",
    "test_normality(g3)\n",
    "test_normality(g4)\n",
    "test_normality(g5)"
   ]
  },
  {
   "cell_type": "code",
   "execution_count": 11,
   "metadata": {
    "collapsed": false
   },
   "outputs": [
    {
     "name": "stdout",
     "output_type": "stream",
     "text": [
      "122.174261143 2.95254331496e-27\n",
      "204.322999741 4.28375222664e-45\n",
      "85.1028541508 3.31245528205e-19\n",
      "316.061413907 2.33418889588e-69\n",
      "261.198596098 1.91181346914e-57\n"
     ]
    }
   ],
   "source": [
    "#检验Col[11]各组正态性\n",
    "s1, s2, s3, s4, s5 = get_nparray(df, u'会话数')\n",
    "test_normality(s1)\n",
    "test_normality(s2)\n",
    "test_normality(s3)\n",
    "test_normality(s4)\n",
    "test_normality(s5)"
   ]
  },
  {
   "cell_type": "code",
   "execution_count": 12,
   "metadata": {
    "collapsed": false
   },
   "outputs": [
    {
     "name": "stdout",
     "output_type": "stream",
     "text": [
      "check Col[7]\n",
      "2.04551837158\n",
      "variations do not match anova assumption\n",
      "check Col[3]\n",
      "2.88432940353\n",
      "variations do not match anova assumption\n",
      "check Col[8]\n",
      "1.58827897854\n",
      "variations match anova assumption\n",
      "check Col[11]\n",
      "2.32855388711\n",
      "variations do not match anova assumption\n"
     ]
    }
   ],
   "source": [
    "#检验各组标准差是否满足anova的假设\n",
    "print 'check Col[7]'\n",
    "std_ratio(a1, a2, a3, a4, a5)\n",
    "print 'check Col[3]'\n",
    "std_ratio(n1, n2, n3, n4, n5)\n",
    "print 'check Col[8]'\n",
    "std_ratio(g1, g2, g3, g4, g5)\n",
    "print 'check Col[11]'\n",
    "std_ratio(s1, s2, s3, s4, s5)"
   ]
  },
  {
   "cell_type": "code",
   "execution_count": 13,
   "metadata": {
    "collapsed": false
   },
   "outputs": [
    {
     "name": "stderr",
     "output_type": "stream",
     "text": [
      "C:\\Users\\Jelly\\Anaconda2\\envs\\gl-env\\lib\\site-packages\\matplotlib\\__init__.py:1350: UserWarning:  This call to matplotlib.use() has no effect\n",
      "because the backend has already been chosen;\n",
      "matplotlib.use() must be called *before* pylab, matplotlib.pyplot,\n",
      "or matplotlib.backends is imported for the first time.\n",
      "\n",
      "  warnings.warn(_use_error_msg)\n"
     ]
    }
   ],
   "source": [
    "matplotlib.use('agg')"
   ]
  },
  {
   "cell_type": "code",
   "execution_count": 14,
   "metadata": {
    "collapsed": false
   },
   "outputs": [
    {
     "data": {
      "image/png": "[encoded data removed]",
      "text/plain": [
       "<matplotlib.figure.Figure at 0xbe6e390>"
      ]
     },
     "metadata": {},
     "output_type": "display_data"
    }
   ],
   "source": [
    "#Col[7]数据分布\n",
    "plot_box(a1, a2, a3, a4, a5, 7)"
   ]
  },
  {
   "cell_type": "code",
   "execution_count": 15,
   "metadata": {
    "collapsed": false
   },
   "outputs": [
    {
     "data": {
      "image/png": "[encoded data removed]",
      "text/plain": [
       "<matplotlib.figure.Figure at 0xc062a90>"
      ]
     },
     "metadata": {},
     "output_type": "display_data"
    }
   ],
   "source": [
    "#Col[3]数据分布\n",
    "plot_box(n1, n2, n3, n4, n5, 3)"
   ]
  },
  {
   "cell_type": "code",
   "execution_count": 16,
   "metadata": {
    "collapsed": false
   },
   "outputs": [
    {
     "data": {
      "image/png": "[encoded data removed]",
      "text/plain": [
       "<matplotlib.figure.Figure at 0xc062dd8>"
      ]
     },
     "metadata": {},
     "output_type": "display_data"
    }
   ],
   "source": [
    "#Col[8]数据分布\n",
    "plot_box(g1, g2, g3, g4, g5, 8)"
   ]
  },
  {
   "cell_type": "code",
   "execution_count": 17,
   "metadata": {
    "collapsed": false
   },
   "outputs": [
    {
     "data": {
      "image/png": "[encoded data removed]",
      "text/plain": [
       "<matplotlib.figure.Figure at 0xa995630>"
      ]
     },
     "metadata": {},
     "output_type": "display_data"
    }
   ],
   "source": [
    "plot_box(s1, s2, s3, s4, s5, 11)"
   ]
  },
  {
   "cell_type": "code",
   "execution_count": 18,
   "metadata": {
    "collapsed": false
   },
   "outputs": [
    {
     "data": {
      "text/plain": [
       "F_onewayResult(statistic=171.50703270711966, pvalue=1.0820916064752822e-126)"
      ]
     },
     "execution_count": 18,
     "metadata": {},
     "output_type": "execute_result"
    }
   ],
   "source": [
    "#Col[7] one-way anova\n",
    "f_oneway(a1,a2,a3,a4,a5)"
   ]
  },
  {
   "cell_type": "code",
   "execution_count": 19,
   "metadata": {
    "collapsed": false
   },
   "outputs": [
    {
     "data": {
      "text/plain": [
       "F_onewayResult(statistic=30.701083202808537, pvalue=7.5368647703444508e-25)"
      ]
     },
     "execution_count": 19,
     "metadata": {},
     "output_type": "execute_result"
    }
   ],
   "source": [
    "#Col[3] one-way anova\n",
    "f_oneway(n1,n2,n3,n4,n5)"
   ]
  },
  {
   "cell_type": "code",
   "execution_count": 20,
   "metadata": {
    "collapsed": false
   },
   "outputs": [
    {
     "data": {
      "text/plain": [
       "F_onewayResult(statistic=200.24221601479533, pvalue=6.3170461722256334e-145)"
      ]
     },
     "execution_count": 20,
     "metadata": {},
     "output_type": "execute_result"
    }
   ],
   "source": [
    "#Col[8] one-way anova\n",
    "f_oneway(g1,g2,g3,g4,g5)"
   ]
  },
  {
   "cell_type": "code",
   "execution_count": 21,
   "metadata": {
    "collapsed": false
   },
   "outputs": [
    {
     "data": {
      "text/plain": [
       "F_onewayResult(statistic=25.174898771161512, pvalue=2.2240978161459483e-20)"
      ]
     },
     "execution_count": 21,
     "metadata": {},
     "output_type": "execute_result"
    }
   ],
   "source": [
    "#Col[11] one-way anova\n",
    "f_oneway(s1,s2,s3,s4,s5)"
   ]
  },
  {
   "cell_type": "markdown",
   "metadata": {},
   "source": [
    "## log transformation"
   ]
  },
  {
   "cell_type": "code",
   "execution_count": 22,
   "metadata": {
    "collapsed": false
   },
   "outputs": [],
   "source": [
    "def log_transform(a1, a2, a3, a4, a5, m):\n",
    "    log1 = boxcox(a1, m, None)\n",
    "    log2 = boxcox(a2, m, None)\n",
    "    log3 = boxcox(a3, m, None)\n",
    "    log4 = boxcox(a4, m, None)\n",
    "    log5 = boxcox(a5, m, None)\n",
    "    #检验log变换后的数据是否符合正太分布\n",
    "    print 'after transformation, the normality result is:'\n",
    "    test_normality(log1)\n",
    "    test_normality(log2)\n",
    "    test_normality(log3)\n",
    "    test_normality(log4)\n",
    "    test_normality(log5)\n",
    "    #检验方差齐性\n",
    "    print 'after transformation, the variation result is:'\n",
    "    std_ratio(log1, log2, log3, log4, log5)\n",
    "    #暴力anova进行时\n",
    "    print 'after transformation, the anova result is:'\n",
    "    print f_oneway(log1, log2, log3, log4, log5)\n",
    "    print '************************************************************************'"
   ]
  },
  {
   "cell_type": "code",
   "execution_count": 23,
   "metadata": {
    "collapsed": false,
    "scrolled": false
   },
   "outputs": [
    {
     "name": "stdout",
     "output_type": "stream",
     "text": [
      "the normality of Col[7] after log transformation\n",
      "\n",
      "after transformation, the normality result is:\n",
      "8.42139042402 0.0148360505514\n",
      "35.8208604935 1.66570839799e-08\n",
      "13.0123564415 0.00149417924823\n",
      "2.78949286846 0.24789588631\n",
      "219.208596424 2.50875409034e-48\n",
      "after transformation, the variation result is:\n",
      "2.54013524159\n",
      "variations do not match anova assumption\n",
      "after transformation, the anova result is:\n",
      "F_onewayResult(statistic=177.73125652255231, pvalue=1.0492495399426556e-130)\n",
      "************************************************************************\n",
      "the normality of Col[3] after log transformation\n",
      "\n",
      "after transformation, the normality result is:\n",
      "114.47854529 1.38452162069e-25\n",
      "34.7168096635 2.89294759724e-08\n",
      "14.5218776783 0.000702448240038\n",
      "166.984543425 5.4924626683e-37\n",
      "79.6512895085 5.05757398975e-18\n",
      "after transformation, the variation result is:\n",
      "1.82932542159\n",
      "variations match anova assumption\n",
      "after transformation, the anova result is:\n",
      "F_onewayResult(statistic=59.731508642570411, pvalue=9.4937072428306547e-48)\n",
      "************************************************************************\n",
      "the normality of Col[8] after log transformation\n",
      "\n",
      "after transformation, the normality result is:\n",
      "108.048285375 3.44836271986e-24\n",
      "139.483321557 5.14732470302e-31\n",
      "1.68946315498 0.429672676551\n",
      "137.1305219 1.66911215231e-30\n",
      "378.602358908 6.13115570182e-83\n",
      "after transformation, the variation result is:\n",
      "3.00020746417\n",
      "variations do not match anova assumption\n",
      "after transformation, the anova result is:\n",
      "F_onewayResult(statistic=298.66448645827228, pvalue=2.9805532141380518e-202)\n",
      "************************************************************************\n",
      "the normality of Col[11] after log transformation\n",
      "\n",
      "after transformation, the normality result is:\n",
      "112.042115444 4.68127075995e-25\n",
      "45.0567377715 1.64457508555e-10\n",
      "3.46362334832 0.176963519148\n",
      "22.5317811353 1.28022378835e-05\n",
      "24.1141568318 5.80333145852e-06\n",
      "after transformation, the variation result is:\n",
      "1.23417723679\n",
      "variations match anova assumption\n",
      "after transformation, the anova result is:\n",
      "F_onewayResult(statistic=36.20654087706869, pvalue=2.8601191213020162e-29)\n",
      "************************************************************************\n"
     ]
    }
   ],
   "source": [
    "print 'the normality of Col[7] after log transformation' + '\\n'\n",
    "log_transform(a1, a2, a3, a4, a5, 0)\n",
    "print 'the normality of Col[3] after log transformation' + '\\n'\n",
    "log_transform(n1, n2, n3, n4, n5, 0)\n",
    "print 'the normality of Col[8] after log transformation' + '\\n'\n",
    "log_transform(g1, g2, g3, g4, g5, 0)\n",
    "print 'the normality of Col[11] after log transformation' + '\\n'\n",
    "log_transform(s1, s2, s3, s4, s5, 0)"
   ]
  }
 ],
 "metadata": {
  "kernelspec": {
   "display_name": "Python 2",
   "language": "python",
   "name": "python2"
  },
  "language_info": {
   "codemirror_mode": {
    "name": "ipython",
    "version": 2
   },
   "file_extension": ".py",
   "mimetype": "text/x-python",
   "name": "python",
   "nbconvert_exporter": "python",
   "pygments_lexer": "ipython2",
   "version": "2.7.11"
  }
 },
 "nbformat": 4,
 "nbformat_minor": 0
}
