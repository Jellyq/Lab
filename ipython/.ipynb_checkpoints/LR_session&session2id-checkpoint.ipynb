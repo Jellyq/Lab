{
 "cells": [
  {
   "cell_type": "code",
   "execution_count": 1,
   "metadata": {
    "collapsed": false,
    "scrolled": true
   },
   "outputs": [
    {
     "name": "stdout",
     "output_type": "stream",
     "text": [
      "Using matplotlib backend: Qt4Agg\n",
      "Populating the interactive namespace from numpy and matplotlib\n"
     ]
    },
    {
     "name": "stderr",
     "output_type": "stream",
     "text": [
      "[INFO] graphlab.cython.cy_server: GraphLab Create v2.1 started. Logging: C:\\Users\\Jelly\\AppData\\Local\\Temp\\graphlab_server_1477235859.log.0\n"
     ]
    },
    {
     "name": "stdout",
     "output_type": "stream",
     "text": [
      "This non-commercial license of GraphLab Create for academic use is assigned to qyr16@mails.tsinghua.edu.cn and will expire on September 05, 2017.\n"
     ]
    },
    {
     "data": {
      "text/html": [
       "<pre>Finished parsing file E:\\Datasets2\\training1.csv</pre>"
      ],
      "text/plain": [
       "Finished parsing file E:\\Datasets2\\training1.csv"
      ]
     },
     "metadata": {},
     "output_type": "display_data"
    },
    {
     "data": {
      "text/html": [
       "<pre>Parsing completed. Parsed 100 lines in 0.379008 secs.</pre>"
      ],
      "text/plain": [
       "Parsing completed. Parsed 100 lines in 0.379008 secs."
      ]
     },
     "metadata": {},
     "output_type": "display_data"
    },
    {
     "name": "stdout",
     "output_type": "stream",
     "text": [
      "------------------------------------------------------\n",
      "Inferred types from first 100 line(s) of file as \n",
      "column_type_hints=[str,str,str,str,long,str,str,long,long,str]\n",
      "If parsing fails due to incorrect types, you can correct\n",
      "the inferred type list above and pass it to read_csv in\n",
      "the column_type_hints argument\n",
      "------------------------------------------------------\n"
     ]
    },
    {
     "data": {
      "text/html": [
       "<pre>Finished parsing file E:\\Datasets2\\training1.csv</pre>"
      ],
      "text/plain": [
       "Finished parsing file E:\\Datasets2\\training1.csv"
      ]
     },
     "metadata": {},
     "output_type": "display_data"
    },
    {
     "data": {
      "text/html": [
       "<pre>Parsing completed. Parsed 189960 lines in 0.370987 secs.</pre>"
      ],
      "text/plain": [
       "Parsing completed. Parsed 189960 lines in 0.370987 secs."
      ]
     },
     "metadata": {},
     "output_type": "display_data"
    }
   ],
   "source": [
    "%pylab\n",
    "import graphlab as gl\n",
    "data = gl.SFrame.read_csv(r'E:\\Datasets2\\training1.csv', delimiter = ',', header = True)"
   ]
  },
  {
   "cell_type": "code",
   "execution_count": 2,
   "metadata": {
    "collapsed": false
   },
   "outputs": [],
   "source": [
    "import graphlab.aggregate as agg\n",
    "data = data.groupby(['session_number'], operations = {'gender': agg.SELECT_ONE('gender'),\n",
    "                                                     'cg2': agg.CONCAT('cg2')})\n",
    "data['random'] = 0\n",
    "male_raw = data[data['gender'] == 1]\n",
    "female_raw = data[data['gender'] == 0]"
   ]
  },
  {
   "cell_type": "code",
   "execution_count": 3,
   "metadata": {
    "collapsed": false
   },
   "outputs": [
    {
     "name": "stdout",
     "output_type": "stream",
     "text": [
      "+--------------------------+--------+-------------------------------+\n",
      "|            id            | gender |         session_number        |\n",
      "+--------------------------+--------+-------------------------------+\n",
      "| dvx/7qMM1H4W44f5dcItNg== |   1    | [dvx/7qMM1H4W44f5dcItNg==,... |\n",
      "| aN6oZEGwXoPSmw4snlOGRw== |   0    | [aN6oZEGwXoPSmw4snlOGRw==,... |\n",
      "| +ra5L80o6cs+N2CprWLF4Q== |   1    | [+ra5L80o6cs+N2CprWLF4Q==,... |\n",
      "| 21zzZT+VppeVwiw0vmqQHg== |   0    | [21zzZT+VppeVwiw0vmqQHg==,... |\n",
      "| T0sUmLksWY4d6MKLF/Q7DQ== |   1    | [T0sUmLksWY4d6MKLF/Q7DQ==,... |\n",
      "| IkUaE6OVzkJi4kyUxdqpgg== |   1    | [IkUaE6OVzkJi4kyUxdqpgg==,... |\n",
      "| XFHXGMv8ldc2HEd7lLNzvA== |   1    | [XFHXGMv8ldc2HEd7lLNzvA==,... |\n",
      "| sUJraPpxbrYVyCwNldnMgw== |   1    | [sUJraPpxbrYVyCwNldnMgw==,... |\n",
      "| ycCdZ2WzYTt2ReOWevG3EQ== |   1    | [ycCdZ2WzYTt2ReOWevG3EQ==,... |\n",
      "| 778S78u/wCVw25TxTMAxaw== |   0    | [778S78u/wCVw25TxTMAxaw==,... |\n",
      "+--------------------------+--------+-------------------------------+\n",
      "+-------------------------------------------+--------+\n",
      "|                    cg2                    | random |\n",
      "+-------------------------------------------+--------+\n",
      "| [葡萄酒, 白酒, 油烟机, 洗衣机, 热水器]... |   0    |\n",
      "|                  [美容器]                 |   0    |\n",
      "|                   [手机]                  |   0    |\n",
      "|  [轮滑滑板, 组装电脑, 散热器, 游戏本]...  |   0    |\n",
      "|  [染发, 凉鞋/沙滩鞋, 血压计, 口腔护理]... |   0    |\n",
      "|      [电磁炉, 本册/便签, 口腔护理]...     |   0    |\n",
      "|              [筷勺/刀叉, T恤]             |   0    |\n",
      "|                  [游戏本]                 |   0    |\n",
      "|                    [门]                   |   0    |\n",
      "|                  [投影机]                 |   0    |\n",
      "+-------------------------------------------+--------+\n",
      "[19868 rows x 5 columns]\n",
      "Note: Only the head of the SFrame is printed.\n",
      "You can use print_rows(num_rows=m, num_columns=n) to print more rows and columns.\n"
     ]
    }
   ],
   "source": [
    "import random\n",
    "male_raw['random'] = male_raw.apply(lambda x: random.randrange(1,6,1))\n",
    "female_raw['random'] = female_raw.apply(lambda x: random.randrange(1, 6, 1))\n",
    "random_check = female_raw[female_raw['random']==1]"
   ]
  },
  {
   "cell_type": "code",
   "execution_count": 4,
   "metadata": {
    "collapsed": false
   },
   "outputs": [
    {
     "name": "stdout",
     "output_type": "stream",
     "text": [
      "+--------------------------+--------+------------------------------------------------+\n",
      "|            id            | gender |                      cg2                       |\n",
      "+--------------------------+--------+------------------------------------------------+\n",
      "| jj6xdtlqSrMFBEny+7cY+w== |   1    |          [笔记本, 笔记本, 笔记本]...           |\n",
      "| uwB6f5z6NLVz99AI2IzdmQ== |   1    | [休闲零食, 休闲零食, 休闲零食, 休闲零食, 休... |\n",
      "| pjNi4M3mOFj1M/akseSLXg== |   1    |   [沙发, 沙发, 沙发, 沙发, 沙发, 沙发, 沙...   |\n",
      "| oUwyUs6sWoTYdQplhvjAlg== |   1    |   [手机, 手机, 手机, 手机, 手机, 手机, 手...   |\n",
      "| g+lNU0kQUZYR6GWstt4omw== |   1    |                   [智能手环]                   |\n",
      "| hKSZl/jzLdDnyg3Zrb7XVQ== |   1    |                   [日常护理]                   |\n",
      "| 4qeoMnMeIm5PHy2IIp73Tw== |   1    |  [篮球鞋, 女表, 创意家居, 女表, 连衣裙, 净...  |\n",
      "| fjuVgVr/H69KojbQgLCBSg== |   1    |  [饮用水, 饮用水, 饮用水, 饮用水, 饮用水, ...  |\n",
      "| MB1J1v4hyiMJ/1oXHA1u4w== |   1    |                   [男用器具]                   |\n",
      "| S+UcqXYNWnWmYxzYwtjuXA== |   1    | [鼠标, 智能手环, 智能眼镜, 卡通周边, 智能手... |\n",
      "+--------------------------+--------+------------------------------------------------+\n",
      "+--------+\n",
      "| random |\n",
      "+--------+\n",
      "|   1    |\n",
      "|   1    |\n",
      "|   1    |\n",
      "|   1    |\n",
      "|   1    |\n",
      "|   1    |\n",
      "|   1    |\n",
      "|   1    |\n",
      "|   1    |\n",
      "|   1    |\n",
      "+--------+\n",
      "[2307 rows x 4 columns]\n",
      "Note: Only the head of the SFrame is printed.\n",
      "You can use print_rows(num_rows=m, num_columns=n) to print more rows and columns.\n"
     ]
    }
   ],
   "source": [
    "percentage = len(female_raw[female_raw['random']==1])/float(len(male_raw[male_raw['random']==1]))\n",
    "male_traffic = male_raw[male_raw['random']==1].sample(percentage,seed=1)\n",
    "female_traffic = female_raw[female_raw['random']==1]\n",
    "group1 = male_traffic.append(female_traffic)\n",
    "print group1"
   ]
  },
  {
   "cell_type": "code",
   "execution_count": 5,
   "metadata": {
    "collapsed": false
   },
   "outputs": [
    {
     "name": "stdout",
     "output_type": "stream",
     "text": [
      "+--------------------------+--------+------------------------------------------------+\n",
      "|            id            | gender |                      cg2                       |\n",
      "+--------------------------+--------+------------------------------------------------+\n",
      "| sUJraPpxbrYVyCwNldnMgw== |   1    |                [游戏本, 游戏本]                |\n",
      "| m75iVSmzZP3vaZocJNeFNQ== |   1    |      [浴霸/换气扇, 浴霸/换气扇, 冰箱]...       |\n",
      "| Hg7BECx33gNWTPxC2jPiAw== |   1    |          [男表, 男表, 男表, 男表]...           |\n",
      "| 2Ag3sszgdvxcMCC8yUsveA== |   1    |                  [洗发, 洗发]                  |\n",
      "| SNSjFrVskvQQMIDudpgRxg== |   1    |                   [创意礼品]                   |\n",
      "| 7PDbNDPYbai9g6tRW5RlBA== |   1    |   [手机, 手机, 手机, 手机, 手机, 手机, 手...   |\n",
      "| zq9qv9kXLauaNRL5GRhbyA== |   1    | [肉干肉脯, 坚果炒货, 坚果炒货, 套装, 套装,...  |\n",
      "| 4Yq0fxP/KRPWS0oGWFlUOQ== |   1    | [休闲鞋, 理疗仪, 轮胎, 行车记录仪, 休闲鞋,...  |\n",
      "| /7w/mhP7i54gLNTJ+OyZaw== |   1    | [游戏本, 游戏本, 笔记本, 笔记本, 笔记本配件... |\n",
      "| STbB3tY/Go5V4m/GIVGe+A== |   1    |                   [测量工具]                   |\n",
      "+--------------------------+--------+------------------------------------------------+\n",
      "+--------+\n",
      "| random |\n",
      "+--------+\n",
      "|   2    |\n",
      "|   2    |\n",
      "|   2    |\n",
      "|   2    |\n",
      "|   2    |\n",
      "|   2    |\n",
      "|   2    |\n",
      "|   2    |\n",
      "|   2    |\n",
      "|   2    |\n",
      "+--------+\n",
      "[2298 rows x 4 columns]\n",
      "Note: Only the head of the SFrame is printed.\n",
      "You can use print_rows(num_rows=m, num_columns=n) to print more rows and columns.\n"
     ]
    }
   ],
   "source": [
    "percentage = len(female_raw[female_raw['random']==2])/float(len(male_raw[male_raw['random']==2]))\n",
    "male_traffic = male_raw[male_raw['random']==2].sample(percentage,seed=1)\n",
    "female_traffic = female_raw[female_raw['random']==2]\n",
    "group2 = male_traffic.append(female_traffic)\n",
    "print group2"
   ]
  },
  {
   "cell_type": "markdown",
   "metadata": {
    "collapsed": false
   },
   "source": [
    "result = model.evaluate(test_data)\n",
    "result\n",
    "predict = model.predict(test_data)\n",
    "predict\n",
    "mdata = test_data.add_column(gl.SArray(predict))\n",
    "mdata.rename({\"X5\":\"predict_gender\"})\n",
    "mdata.remove_column(\"is_male\")\n",
    "mdata\n",
    "def compute_accuracy(x):\n",
    "    count = 0\n",
    "    true = 0\n",
    "    for i in x:\n",
    "        if i['gender'] == i['predict_gender']:\n",
    "            true = true + 1\n",
    "        count = count + 1\n",
    "    return true * 1.0 / count\n",
    "acc = compute_accuracy(mdata)\n",
    "acc\n",
    "mdata = mdata.sort('session_number')\n",
    "print mdata\n",
    "mdata['session_number'] = mdata.apply(lambda x: x['session_number'].split(',')[0])\n",
    "mdata.rename({'session_number':'id'})\n",
    "print mdata\n",
    "data_merging = mdata.groupby(['id'],{'gender':gl.aggregate.SELECT_ONE('gender'), 'cg12_dict':gl.aggregate.SELECT_ONE('cg12_dict'),'predict_gender':gl.aggregate.AVG('predict_gender')})\n",
    "print data_merging\n",
    "def predict_accuracy(x):\n",
    "    if abs(x['gender'] - x['predict_gender']) < 0.5:\n",
    "        return 1\n",
    "    elif abs(x['gender'] - x['predict_gender']) > 0.5:\n",
    "        return 0\n",
    "    else:\n",
    "        return -1\n",
    "data_merging['predict_accuracy'] = data_merging.apply(lambda x: predict_accuracy(x))\n",
    "print data_merging\n",
    "gender_uncertain = data_merging.filter_by(-1,'predict_accuracy')\n",
    "gender_true = data_merging.filter_by(1,'predict_accuracy')\n",
    "gender_false = data_merging.filter_by(0,'predict_accuracy')\n",
    "print gender_uncertain\n",
    "print gender_true\n",
    "print gender_false"
   ]
  },
  {
   "cell_type": "code",
   "execution_count": 6,
   "metadata": {
    "collapsed": false
   },
   "outputs": [
    {
     "name": "stdout",
     "output_type": "stream",
     "text": [
      "+--------------------------+--------+------------------------------------------------+\n",
      "|            id            | gender |                      cg2                       |\n",
      "+--------------------------+--------+------------------------------------------------+\n",
      "| WqAMkVL6oXemXYYAffjC9Q== |   1    | [音箱/音响, 底盘装甲/护板, 车载影音, 跑步鞋... |\n",
      "| NeW7bVqqm/T54ehhAbMpZA== |   1    |    [手机, 手机, 手机, 手机, 手机, 手机]...     |\n",
      "| L8NXJVHI2om2/VnEGSOaIA== |   1    |      [足球鞋, 足球鞋, 足球鞋, 足球鞋]...       |\n",
      "| Vkd3JLaUbC3etpHg9Tfzvg== |   1    |   [休闲鞋, 洗晒/熨烫, 休闲鞋, 洗晒/熨烫]...    |\n",
      "| pZTw4YrKQRnV/APVRAljXA== |   1    |   [男表, 男表, 男表, 男表, 男表, 男表, 男...   |\n",
      "| /GQrfTVhHNOMlJsLGF2rLg== |   1    |                     [座垫]                     |\n",
      "| N4dN2sXGV+/InmwIOQ0bBw== |   1    | [沙发, 其他配件, 沙发, 其他配件, 其他配件,...  |\n",
      "| d2RBTfKLswlBeJ+V6H2UmQ== |   1    |                     [香水]                     |\n",
      "| zO0cHGwUH0b0Qqag9IZH4A== |   1    |             [洗发, 洗发, 乳液面霜]             |\n",
      "| W+1TiUoVo8II6P6CKkPI0w== |   1    |     [手机, 合约机, 手机, 合约机, 手机]...      |\n",
      "+--------------------------+--------+------------------------------------------------+\n",
      "+--------+\n",
      "| random |\n",
      "+--------+\n",
      "|   3    |\n",
      "|   3    |\n",
      "|   3    |\n",
      "|   3    |\n",
      "|   3    |\n",
      "|   3    |\n",
      "|   3    |\n",
      "|   3    |\n",
      "|   3    |\n",
      "|   3    |\n",
      "+--------+\n",
      "[3020 rows x 4 columns]\n",
      "Note: Only the head of the SFrame is printed.\n",
      "You can use print_rows(num_rows=m, num_columns=n) to print more rows and columns.\n"
     ]
    }
   ],
   "source": [
    "percentage = len(female_raw[female_raw['random']==3])/float(len(male_raw[male_raw['random']==3]))\n",
    "male_traffic = male_raw[male_raw['random']==3].sample(percentage,seed=1)\n",
    "female_traffic = female_raw[female_raw['random']==3]\n",
    "group3 = male_traffic.append(female_traffic)\n",
    "print group3"
   ]
  },
  {
   "cell_type": "code",
   "execution_count": 7,
   "metadata": {
    "collapsed": false
   },
   "outputs": [
    {
     "name": "stdout",
     "output_type": "stream",
     "text": [
      "+--------------------------+--------+------------------------------------------------+\n",
      "|            id            | gender |                      cg2                       |\n",
      "+--------------------------+--------+------------------------------------------------+\n",
      "| rj8mWoOpHj4DE4EEkFJQGA== |   1    |                  [手机, 手机]                  |\n",
      "| p6HZygYh8r2iPPC6e4n2SA== |   1    | [男士钱包, 男士钱包, 太阳镜, 男士钱包, 男士... |\n",
      "| ChfPm2McfW1V5EuKwlb/1w== |   1    |       [护发, 护发, 护发, 护发, 护发]...        |\n",
      "| z4DUi0dXMtum09MoeGvUhQ== |   1    |   [手机, 手机, 手机, SSD固态硬盘, 手机, ...    |\n",
      "| mEwW7dGmC3MIA31p4IT8BQ== |   1    |              [电动工具, 电动工具]              |\n",
      "| rK0Lw0+CjS4GHOqdngV7zw== |   1    |                 [手机, 合约机]                 |\n",
      "| n4lTfV5fzi3gOl/CIN/Yog== |   1    |                  [钱包, 钱包]                  |\n",
      "| 9eBzJF6xg54gQf7BS3WbKg== |   1    |                [太阳镜, 太阳镜]                |\n",
      "| W8ytlAsv11V2E6aPOBF7PQ== |   1    |                [运动裤, 运动裤]                |\n",
      "| f+Dq6EagGFQAl9Ykf3xNSA== |   1    |  [笔记本, 笔记本, 笔记本, 笔记本, 插座, 笔...  |\n",
      "+--------------------------+--------+------------------------------------------------+\n",
      "+--------+\n",
      "| random |\n",
      "+--------+\n",
      "|   4    |\n",
      "|   4    |\n",
      "|   4    |\n",
      "|   4    |\n",
      "|   4    |\n",
      "|   4    |\n",
      "|   4    |\n",
      "|   4    |\n",
      "|   4    |\n",
      "|   4    |\n",
      "+--------+\n",
      "[1565 rows x 4 columns]\n",
      "Note: Only the head of the SFrame is printed.\n",
      "You can use print_rows(num_rows=m, num_columns=n) to print more rows and columns.\n"
     ]
    }
   ],
   "source": [
    "percentage = len(female_raw[female_raw['random']==4])/float(len(male_raw[male_raw['random']==4]))\n",
    "male_traffic = male_raw[male_raw['random']==4].sample(percentage,seed=1)\n",
    "female_traffic = female_raw[female_raw['random']==4]\n",
    "group4 = male_traffic.append(female_traffic)\n",
    "print group4"
   ]
  },
  {
   "cell_type": "code",
   "execution_count": 8,
   "metadata": {
    "collapsed": false
   },
   "outputs": [
    {
     "name": "stdout",
     "output_type": "stream",
     "text": [
      "+--------------------------+--------+------------------------------------------------+\n",
      "|            id            | gender |                      cg2                       |\n",
      "+--------------------------+--------+------------------------------------------------+\n",
      "| rVa65KCgw6aQo1CPPX8KFA== |   1    |       [测量工具, 测量工具, 测量工具]...        |\n",
      "| Ltx1ftdw52HeSBmOFXN6SA== |   1    | [婴幼奶粉, 其他大型器械, 洗发, 婴幼奶粉, 婴... |\n",
      "| t9pHPsXtPhuXpZ+oUbup6A== |   1    |                   [自驾野营]                   |\n",
      "| g7fzcvIG1Z7eUX/wNd3/GQ== |   1    |         [冲调饮品, 饮料, 冲调饮品]...          |\n",
      "| D9aAtlBF6t9iVN24JddgDg== |   1    |     [路由器, 山地车/公路车, 冰箱, 玛咖]...     |\n",
      "| FRoK6FAeOKNOwSqU5DKaNw== |   1    |                     [手机]                     |\n",
      "| 9nL1sku+AKpzEx2wLu/xtw== |   1    |                [单肩包, 单肩包]                |\n",
      "| K2rXZ9pxejqdyIjj5N+jQw== |   1    |              [牛奶乳品, 牛奶乳品]              |\n",
      "| CsQy6Z2qdxYCOskA8y1jMw== |   1    | [手机, 男士腰带/礼盒, 男士腰带/礼盒, 西服,...  |\n",
      "| lL63IigbzkROpQRHRSt3tA== |   1    |  [蓝牙耳机, 蓝牙耳机, 蓝牙耳机, 蓝牙耳机]...   |\n",
      "+--------------------------+--------+------------------------------------------------+\n",
      "+--------+\n",
      "| random |\n",
      "+--------+\n",
      "|   5    |\n",
      "|   5    |\n",
      "|   5    |\n",
      "|   5    |\n",
      "|   5    |\n",
      "|   5    |\n",
      "|   5    |\n",
      "|   5    |\n",
      "|   5    |\n",
      "|   5    |\n",
      "+--------+\n",
      "[1918 rows x 4 columns]\n",
      "Note: Only the head of the SFrame is printed.\n",
      "You can use print_rows(num_rows=m, num_columns=n) to print more rows and columns.\n"
     ]
    }
   ],
   "source": [
    "percentage = len(female_raw[female_raw['random']==5])/float(len(male_raw[male_raw['random']==5]))\n",
    "male_traffic = male_raw[male_raw['random']==5].sample(percentage,seed=1)\n",
    "female_traffic = female_raw[female_raw['random']==5]\n",
    "group5 = male_traffic.append(female_traffic)\n",
    "print group5"
   ]
  },
  {
   "cell_type": "code",
   "execution_count": 9,
   "metadata": {
    "collapsed": false
   },
   "outputs": [
    {
     "name": "stdout",
     "output_type": "stream",
     "text": [
      "PROGRESS: Creating a validation set from 5 percent of training data. This may take a while.\n",
      "          You can set ``validation_set=None`` to disable validation tracking.\n",
      "\n"
     ]
    },
    {
     "data": {
      "text/html": [
       "<pre>Logistic regression:</pre>"
      ],
      "text/plain": [
       "Logistic regression:"
      ]
     },
     "metadata": {},
     "output_type": "display_data"
    },
    {
     "data": {
      "text/html": [
       "<pre>--------------------------------------------------------</pre>"
      ],
      "text/plain": [
       "--------------------------------------------------------"
      ]
     },
     "metadata": {},
     "output_type": "display_data"
    },
    {
     "data": {
      "text/html": [
       "<pre>Number of examples          : 8335</pre>"
      ],
      "text/plain": [
       "Number of examples          : 8335"
      ]
     },
     "metadata": {},
     "output_type": "display_data"
    },
    {
     "data": {
      "text/html": [
       "<pre>Number of classes           : 2</pre>"
      ],
      "text/plain": [
       "Number of classes           : 2"
      ]
     },
     "metadata": {},
     "output_type": "display_data"
    },
    {
     "data": {
      "text/html": [
       "<pre>Number of feature columns   : 1</pre>"
      ],
      "text/plain": [
       "Number of feature columns   : 1"
      ]
     },
     "metadata": {},
     "output_type": "display_data"
    },
    {
     "data": {
      "text/html": [
       "<pre>Number of unpacked features : 1</pre>"
      ],
      "text/plain": [
       "Number of unpacked features : 1"
      ]
     },
     "metadata": {},
     "output_type": "display_data"
    },
    {
     "data": {
      "text/html": [
       "<pre>Number of coefficients    : 1352</pre>"
      ],
      "text/plain": [
       "Number of coefficients    : 1352"
      ]
     },
     "metadata": {},
     "output_type": "display_data"
    },
    {
     "data": {
      "text/html": [
       "<pre>Starting L-BFGS</pre>"
      ],
      "text/plain": [
       "Starting L-BFGS"
      ]
     },
     "metadata": {},
     "output_type": "display_data"
    },
    {
     "data": {
      "text/html": [
       "<pre>--------------------------------------------------------</pre>"
      ],
      "text/plain": [
       "--------------------------------------------------------"
      ]
     },
     "metadata": {},
     "output_type": "display_data"
    },
    {
     "data": {
      "text/html": [
       "<pre>+-----------+----------+-----------+--------------+-------------------+---------------------+</pre>"
      ],
      "text/plain": [
       "+-----------+----------+-----------+--------------+-------------------+---------------------+"
      ]
     },
     "metadata": {},
     "output_type": "display_data"
    },
    {
     "data": {
      "text/html": [
       "<pre>| Iteration | Passes   | Step size | Elapsed Time | Training-accuracy | Validation-accuracy |</pre>"
      ],
      "text/plain": [
       "| Iteration | Passes   | Step size | Elapsed Time | Training-accuracy | Validation-accuracy |"
      ]
     },
     "metadata": {},
     "output_type": "display_data"
    },
    {
     "data": {
      "text/html": [
       "<pre>+-----------+----------+-----------+--------------+-------------------+---------------------+</pre>"
      ],
      "text/plain": [
       "+-----------+----------+-----------+--------------+-------------------+---------------------+"
      ]
     },
     "metadata": {},
     "output_type": "display_data"
    },
    {
     "data": {
      "text/html": [
       "<pre>| 1         | 4        | 0.000600  | 1.021943     | 0.658548          | 0.626609            |</pre>"
      ],
      "text/plain": [
       "| 1         | 4        | 0.000600  | 1.021943     | 0.658548          | 0.626609            |"
      ]
     },
     "metadata": {},
     "output_type": "display_data"
    },
    {
     "data": {
      "text/html": [
       "<pre>| 2         | 6        | 1.000000  | 1.034978     | 0.674985          | 0.613734            |</pre>"
      ],
      "text/plain": [
       "| 2         | 6        | 1.000000  | 1.034978     | 0.674985          | 0.613734            |"
      ]
     },
     "metadata": {},
     "output_type": "display_data"
    },
    {
     "data": {
      "text/html": [
       "<pre>| 3         | 7        | 1.000000  | 1.041996     | 0.675465          | 0.618026            |</pre>"
      ],
      "text/plain": [
       "| 3         | 7        | 1.000000  | 1.041996     | 0.675465          | 0.618026            |"
      ]
     },
     "metadata": {},
     "output_type": "display_data"
    },
    {
     "data": {
      "text/html": [
       "<pre>| 4         | 8        | 1.000000  | 1.051050     | 0.683023          | 0.598712            |</pre>"
      ],
      "text/plain": [
       "| 4         | 8        | 1.000000  | 1.051050     | 0.683023          | 0.598712            |"
      ]
     },
     "metadata": {},
     "output_type": "display_data"
    },
    {
     "data": {
      "text/html": [
       "<pre>| 5         | 9        | 1.000000  | 1.060046     | 0.684223          | 0.596567            |</pre>"
      ],
      "text/plain": [
       "| 5         | 9        | 1.000000  | 1.060046     | 0.684223          | 0.596567            |"
      ]
     },
     "metadata": {},
     "output_type": "display_data"
    },
    {
     "data": {
      "text/html": [
       "<pre>| 6         | 10       | 1.000000  | 1.070071     | 0.686623          | 0.592275            |</pre>"
      ],
      "text/plain": [
       "| 6         | 10       | 1.000000  | 1.070071     | 0.686623          | 0.592275            |"
      ]
     },
     "metadata": {},
     "output_type": "display_data"
    },
    {
     "data": {
      "text/html": [
       "<pre>| 11        | 15       | 1.000000  | 1.118198     | 0.689982          | 0.607296            |</pre>"
      ],
      "text/plain": [
       "| 11        | 15       | 1.000000  | 1.118198     | 0.689982          | 0.607296            |"
      ]
     },
     "metadata": {},
     "output_type": "display_data"
    },
    {
     "data": {
      "text/html": [
       "<pre>| 51        | 55       | 1.000000  | 1.505226     | 0.692382          | 0.594421            |</pre>"
      ],
      "text/plain": [
       "| 51        | 55       | 1.000000  | 1.505226     | 0.692382          | 0.594421            |"
      ]
     },
     "metadata": {},
     "output_type": "display_data"
    },
    {
     "data": {
      "text/html": [
       "<pre>| 101       | 110      | 1.000000  | 2.013578     | 0.692382          | 0.594421            |</pre>"
      ],
      "text/plain": [
       "| 101       | 110      | 1.000000  | 2.013578     | 0.692382          | 0.594421            |"
      ]
     },
     "metadata": {},
     "output_type": "display_data"
    },
    {
     "data": {
      "text/html": [
       "<pre>| 250       | 300      | 1.000000  | 3.641905     | 0.692382          | 0.594421            |</pre>"
      ],
      "text/plain": [
       "| 250       | 300      | 1.000000  | 3.641905     | 0.692382          | 0.594421            |"
      ]
     },
     "metadata": {},
     "output_type": "display_data"
    },
    {
     "data": {
      "text/html": [
       "<pre>+-----------+----------+-----------+--------------+-------------------+---------------------+</pre>"
      ],
      "text/plain": [
       "+-----------+----------+-----------+--------------+-------------------+---------------------+"
      ]
     },
     "metadata": {},
     "output_type": "display_data"
    },
    {
     "data": {
      "text/html": [
       "<pre>SUCCESS: Optimal solution found.</pre>"
      ],
      "text/plain": [
       "SUCCESS: Optimal solution found."
      ]
     },
     "metadata": {},
     "output_type": "display_data"
    },
    {
     "data": {
      "text/html": [
       "<pre></pre>"
      ],
      "text/plain": []
     },
     "metadata": {},
     "output_type": "display_data"
    },
    {
     "name": "stdout",
     "output_type": "stream",
     "text": [
      "***********************************************************************************************************\n",
      "{'f1_score': 0.5734557595993321, 'auc': 0.5834310497752524, 'recall': 0.5886889460154242, 'precision': 0.5589910496338486, 'log_loss': 1.0757992628412247, 'roc_curve': Columns:\n",
      "\tthreshold\tfloat\n",
      "\tfpr\tfloat\n",
      "\ttpr\tfloat\n",
      "\tp\tint\n",
      "\tn\tint\n",
      "\n",
      "Rows: 100001\n",
      "\n",
      "Data:\n",
      "+-----------+----------------+----------------+------+------+\n",
      "| threshold |      fpr       |      tpr       |  p   |  n   |\n",
      "+-----------+----------------+----------------+------+------+\n",
      "|    0.0    |      1.0       |      1.0       | 1167 | 1140 |\n",
      "|   1e-05   | 0.981578947368 | 0.993144815767 | 1167 | 1140 |\n",
      "|   2e-05   | 0.976315789474 | 0.98971722365  | 1167 | 1140 |\n",
      "|   3e-05   | 0.975438596491 | 0.98971722365  | 1167 | 1140 |\n",
      "|   4e-05   | 0.975438596491 | 0.98971722365  | 1167 | 1140 |\n",
      "|   5e-05   | 0.970175438596 | 0.987146529563 | 1167 | 1140 |\n",
      "|   6e-05   | 0.970175438596 | 0.987146529563 | 1167 | 1140 |\n",
      "|   7e-05   | 0.966666666667 | 0.985432733505 | 1167 | 1140 |\n",
      "|   8e-05   | 0.964912280702 | 0.984575835476 | 1167 | 1140 |\n",
      "|   9e-05   | 0.964035087719 | 0.982005141388 | 1167 | 1140 |\n",
      "+-----------+----------------+----------------+------+------+\n",
      "[100001 rows x 5 columns]\n",
      "Note: Only the head of the SFrame is printed.\n",
      "You can use print_rows(num_rows=m, num_columns=n) to print more rows and columns., 'confusion_matrix': Columns:\n",
      "\ttarget_label\tint\n",
      "\tpredicted_label\tint\n",
      "\tcount\tint\n",
      "\n",
      "Rows: 4\n",
      "\n",
      "Data:\n",
      "+--------------+-----------------+-------+\n",
      "| target_label | predicted_label | count |\n",
      "+--------------+-----------------+-------+\n",
      "|      1       |        0        |  480  |\n",
      "|      1       |        1        |  687  |\n",
      "|      0       |        0        |  598  |\n",
      "|      0       |        1        |  542  |\n",
      "+--------------+-----------------+-------+\n",
      "[4 rows x 3 columns]\n",
      ", 'accuracy': 0.5570004334633724}\n",
      "***********************************************************************************************************\n"
     ]
    }
   ],
   "source": [
    "train_data = group2.append(group3.append(group4).append(group5))\n",
    "test_data = group1\n",
    "m1 = gl.logistic_classifier.create(\n",
    "    train_data,\n",
    "    target='gender',\n",
    "    features = ['cg2'],\n",
    "    #class_weights={1:5,0:5},\n",
    "    max_iterations=3000)\n",
    "print '***********************************************************************************************************'\n",
    "result1 = m1.evaluate(test_data)\n",
    "print result1\n",
    "print '***********************************************************************************************************'"
   ]
  },
  {
   "cell_type": "code",
   "execution_count": 10,
   "metadata": {
    "collapsed": false
   },
   "outputs": [
    {
     "name": "stdout",
     "output_type": "stream",
     "text": [
      "PROGRESS: Creating a validation set from 5 percent of training data. This may take a while.\n",
      "          You can set ``validation_set=None`` to disable validation tracking.\n",
      "\n"
     ]
    },
    {
     "data": {
      "text/html": [
       "<pre>Logistic regression:</pre>"
      ],
      "text/plain": [
       "Logistic regression:"
      ]
     },
     "metadata": {},
     "output_type": "display_data"
    },
    {
     "data": {
      "text/html": [
       "<pre>--------------------------------------------------------</pre>"
      ],
      "text/plain": [
       "--------------------------------------------------------"
      ]
     },
     "metadata": {},
     "output_type": "display_data"
    },
    {
     "data": {
      "text/html": [
       "<pre>Number of examples          : 8329</pre>"
      ],
      "text/plain": [
       "Number of examples          : 8329"
      ]
     },
     "metadata": {},
     "output_type": "display_data"
    },
    {
     "data": {
      "text/html": [
       "<pre>Number of classes           : 2</pre>"
      ],
      "text/plain": [
       "Number of classes           : 2"
      ]
     },
     "metadata": {},
     "output_type": "display_data"
    },
    {
     "data": {
      "text/html": [
       "<pre>Number of feature columns   : 1</pre>"
      ],
      "text/plain": [
       "Number of feature columns   : 1"
      ]
     },
     "metadata": {},
     "output_type": "display_data"
    },
    {
     "data": {
      "text/html": [
       "<pre>Number of unpacked features : 1</pre>"
      ],
      "text/plain": [
       "Number of unpacked features : 1"
      ]
     },
     "metadata": {},
     "output_type": "display_data"
    },
    {
     "data": {
      "text/html": [
       "<pre>Number of coefficients    : 1354</pre>"
      ],
      "text/plain": [
       "Number of coefficients    : 1354"
      ]
     },
     "metadata": {},
     "output_type": "display_data"
    },
    {
     "data": {
      "text/html": [
       "<pre>Starting L-BFGS</pre>"
      ],
      "text/plain": [
       "Starting L-BFGS"
      ]
     },
     "metadata": {},
     "output_type": "display_data"
    },
    {
     "data": {
      "text/html": [
       "<pre>--------------------------------------------------------</pre>"
      ],
      "text/plain": [
       "--------------------------------------------------------"
      ]
     },
     "metadata": {},
     "output_type": "display_data"
    },
    {
     "data": {
      "text/html": [
       "<pre>+-----------+----------+-----------+--------------+-------------------+---------------------+</pre>"
      ],
      "text/plain": [
       "+-----------+----------+-----------+--------------+-------------------+---------------------+"
      ]
     },
     "metadata": {},
     "output_type": "display_data"
    },
    {
     "data": {
      "text/html": [
       "<pre>| Iteration | Passes   | Step size | Elapsed Time | Training-accuracy | Validation-accuracy |</pre>"
      ],
      "text/plain": [
       "| Iteration | Passes   | Step size | Elapsed Time | Training-accuracy | Validation-accuracy |"
      ]
     },
     "metadata": {},
     "output_type": "display_data"
    },
    {
     "data": {
      "text/html": [
       "<pre>+-----------+----------+-----------+--------------+-------------------+---------------------+</pre>"
      ],
      "text/plain": [
       "+-----------+----------+-----------+--------------+-------------------+---------------------+"
      ]
     },
     "metadata": {},
     "output_type": "display_data"
    },
    {
     "data": {
      "text/html": [
       "<pre>| 1         | 4        | 0.000600  | 0.020053     | 0.655421          | 0.582121            |</pre>"
      ],
      "text/plain": [
       "| 1         | 4        | 0.000600  | 0.020053     | 0.655421          | 0.582121            |"
      ]
     },
     "metadata": {},
     "output_type": "display_data"
    },
    {
     "data": {
      "text/html": [
       "<pre>| 2         | 6        | 1.000000  | 0.034091     | 0.668267          | 0.596674            |</pre>"
      ],
      "text/plain": [
       "| 2         | 6        | 1.000000  | 0.034091     | 0.668267          | 0.596674            |"
      ]
     },
     "metadata": {},
     "output_type": "display_data"
    },
    {
     "data": {
      "text/html": [
       "<pre>| 3         | 7        | 1.000000  | 0.044118     | 0.675711          | 0.600832            |</pre>"
      ],
      "text/plain": [
       "| 3         | 7        | 1.000000  | 0.044118     | 0.675711          | 0.600832            |"
      ]
     },
     "metadata": {},
     "output_type": "display_data"
    },
    {
     "data": {
      "text/html": [
       "<pre>| 4         | 8        | 1.000000  | 0.052138     | 0.677752          | 0.598753            |</pre>"
      ],
      "text/plain": [
       "| 4         | 8        | 1.000000  | 0.052138     | 0.677752          | 0.598753            |"
      ]
     },
     "metadata": {},
     "output_type": "display_data"
    },
    {
     "data": {
      "text/html": [
       "<pre>| 5         | 9        | 1.000000  | 0.061163     | 0.681234          | 0.596674            |</pre>"
      ],
      "text/plain": [
       "| 5         | 9        | 1.000000  | 0.061163     | 0.681234          | 0.596674            |"
      ]
     },
     "metadata": {},
     "output_type": "display_data"
    },
    {
     "data": {
      "text/html": [
       "<pre>| 6         | 10       | 1.000000  | 0.071202     | 0.681474          | 0.592516            |</pre>"
      ],
      "text/plain": [
       "| 6         | 10       | 1.000000  | 0.071202     | 0.681474          | 0.592516            |"
      ]
     },
     "metadata": {},
     "output_type": "display_data"
    },
    {
     "data": {
      "text/html": [
       "<pre>| 11        | 15       | 1.000000  | 0.123328     | 0.683635          | 0.596674            |</pre>"
      ],
      "text/plain": [
       "| 11        | 15       | 1.000000  | 0.123328     | 0.683635          | 0.596674            |"
      ]
     },
     "metadata": {},
     "output_type": "display_data"
    },
    {
     "data": {
      "text/html": [
       "<pre>| 51        | 56       | 1.000000  | 0.521385     | 0.684836          | 0.592516            |</pre>"
      ],
      "text/plain": [
       "| 51        | 56       | 1.000000  | 0.521385     | 0.684836          | 0.592516            |"
      ]
     },
     "metadata": {},
     "output_type": "display_data"
    },
    {
     "data": {
      "text/html": [
       "<pre>| 100       | 106      | 1.000000  | 1.005672     | 0.685196          | 0.592516            |</pre>"
      ],
      "text/plain": [
       "| 100       | 106      | 1.000000  | 1.005672     | 0.685196          | 0.592516            |"
      ]
     },
     "metadata": {},
     "output_type": "display_data"
    },
    {
     "data": {
      "text/html": [
       "<pre>| 101       | 108      | 1.000000  | 1.019710     | 0.685196          | 0.592516            |</pre>"
      ],
      "text/plain": [
       "| 101       | 108      | 1.000000  | 1.019710     | 0.685196          | 0.592516            |"
      ]
     },
     "metadata": {},
     "output_type": "display_data"
    },
    {
     "data": {
      "text/html": [
       "<pre>| 200       | 228      | 1.000000  | 2.087547     | 0.684956          | 0.592516            |</pre>"
      ],
      "text/plain": [
       "| 200       | 228      | 1.000000  | 2.087547     | 0.684956          | 0.592516            |"
      ]
     },
     "metadata": {},
     "output_type": "display_data"
    },
    {
     "data": {
      "text/html": [
       "<pre>| 300       | 401      | 1.000000  | 3.411065     | 0.685196          | 0.592516            |</pre>"
      ],
      "text/plain": [
       "| 300       | 401      | 1.000000  | 3.411065     | 0.685196          | 0.592516            |"
      ]
     },
     "metadata": {},
     "output_type": "display_data"
    },
    {
     "data": {
      "text/html": [
       "<pre>| 400       | 570      | 1.000000  | 4.715532     | 0.685196          | 0.592516            |</pre>"
      ],
      "text/plain": [
       "| 400       | 570      | 1.000000  | 4.715532     | 0.685196          | 0.592516            |"
      ]
     },
     "metadata": {},
     "output_type": "display_data"
    },
    {
     "data": {
      "text/html": [
       "<pre>+-----------+----------+-----------+--------------+-------------------+---------------------+</pre>"
      ],
      "text/plain": [
       "+-----------+----------+-----------+--------------+-------------------+---------------------+"
      ]
     },
     "metadata": {},
     "output_type": "display_data"
    },
    {
     "data": {
      "text/html": [
       "<pre>SUCCESS: Optimal solution found.</pre>"
      ],
      "text/plain": [
       "SUCCESS: Optimal solution found."
      ]
     },
     "metadata": {},
     "output_type": "display_data"
    },
    {
     "data": {
      "text/html": [
       "<pre></pre>"
      ],
      "text/plain": []
     },
     "metadata": {},
     "output_type": "display_data"
    },
    {
     "name": "stdout",
     "output_type": "stream",
     "text": [
      "***********************************************************************************************************\n",
      "{'f1_score': 0.5822354441138972, 'auc': 0.5900629681704681, 'recall': 0.5895008605851979, 'precision': 0.5751469353484466, 'log_loss': 1.1414735289989668, 'roc_curve': Columns:\n",
      "\tthreshold\tfloat\n",
      "\tfpr\tfloat\n",
      "\ttpr\tfloat\n",
      "\tp\tint\n",
      "\tn\tint\n",
      "\n",
      "Rows: 100001\n",
      "\n",
      "Data:\n",
      "+-----------+----------------+----------------+------+------+\n",
      "| threshold |      fpr       |      tpr       |  p   |  n   |\n",
      "+-----------+----------------+----------------+------+------+\n",
      "|    0.0    |      1.0       |      1.0       | 1162 | 1136 |\n",
      "|   1e-05   | 0.976232394366 | 0.983648881239 | 1162 | 1136 |\n",
      "|   2e-05   | 0.976232394366 | 0.983648881239 | 1162 | 1136 |\n",
      "|   3e-05   | 0.972711267606 | 0.982788296041 | 1162 | 1136 |\n",
      "|   4e-05   | 0.970950704225 | 0.981927710843 | 1162 | 1136 |\n",
      "|   5e-05   | 0.970950704225 | 0.981067125645 | 1162 | 1136 |\n",
      "|   6e-05   | 0.970070422535 | 0.978485370052 | 1162 | 1136 |\n",
      "|   7e-05   | 0.967429577465 | 0.978485370052 | 1162 | 1136 |\n",
      "|   8e-05   | 0.966549295775 | 0.978485370052 | 1162 | 1136 |\n",
      "|   9e-05   | 0.965669014085 | 0.977624784854 | 1162 | 1136 |\n",
      "+-----------+----------------+----------------+------+------+\n",
      "[100001 rows x 5 columns]\n",
      "Note: Only the head of the SFrame is printed.\n",
      "You can use print_rows(num_rows=m, num_columns=n) to print more rows and columns., 'confusion_matrix': Columns:\n",
      "\ttarget_label\tint\n",
      "\tpredicted_label\tint\n",
      "\tcount\tint\n",
      "\n",
      "Rows: 4\n",
      "\n",
      "Data:\n",
      "+--------------+-----------------+-------+\n",
      "| target_label | predicted_label | count |\n",
      "+--------------+-----------------+-------+\n",
      "|      1       |        1        |  685  |\n",
      "|      1       |        0        |  477  |\n",
      "|      0       |        1        |  506  |\n",
      "|      0       |        0        |  630  |\n",
      "+--------------+-----------------+-------+\n",
      "[4 rows x 3 columns]\n",
      ", 'accuracy': 0.572236727589208}\n",
      "***********************************************************************************************************\n"
     ]
    }
   ],
   "source": [
    "train_data = group1.append(group3.append(group4).append(group5))\n",
    "test_data = group2\n",
    "m2 = gl.logistic_classifier.create(\n",
    "    train_data,\n",
    "    target='gender',\n",
    "    features = ['cg2'],\n",
    "    #class_weights={1:5,0:5},\n",
    "    max_iterations=3000)\n",
    "print '***********************************************************************************************************'\n",
    "result2 = m2.evaluate(test_data)\n",
    "print result2\n",
    "print '***********************************************************************************************************'"
   ]
  },
  {
   "cell_type": "code",
   "execution_count": 11,
   "metadata": {
    "collapsed": false
   },
   "outputs": [
    {
     "name": "stdout",
     "output_type": "stream",
     "text": [
      "PROGRESS: Creating a validation set from 5 percent of training data. This may take a while.\n",
      "          You can set ``validation_set=None`` to disable validation tracking.\n",
      "\n"
     ]
    },
    {
     "data": {
      "text/html": [
       "<pre>Logistic regression:</pre>"
      ],
      "text/plain": [
       "Logistic regression:"
      ]
     },
     "metadata": {},
     "output_type": "display_data"
    },
    {
     "data": {
      "text/html": [
       "<pre>--------------------------------------------------------</pre>"
      ],
      "text/plain": [
       "--------------------------------------------------------"
      ]
     },
     "metadata": {},
     "output_type": "display_data"
    },
    {
     "data": {
      "text/html": [
       "<pre>Number of examples          : 42443</pre>"
      ],
      "text/plain": [
       "Number of examples          : 42443"
      ]
     },
     "metadata": {},
     "output_type": "display_data"
    },
    {
     "data": {
      "text/html": [
       "<pre>Number of classes           : 2</pre>"
      ],
      "text/plain": [
       "Number of classes           : 2"
      ]
     },
     "metadata": {},
     "output_type": "display_data"
    },
    {
     "data": {
      "text/html": [
       "<pre>Number of feature columns   : 1</pre>"
      ],
      "text/plain": [
       "Number of feature columns   : 1"
      ]
     },
     "metadata": {},
     "output_type": "display_data"
    },
    {
     "data": {
      "text/html": [
       "<pre>Number of unpacked features : 1</pre>"
      ],
      "text/plain": [
       "Number of unpacked features : 1"
      ]
     },
     "metadata": {},
     "output_type": "display_data"
    },
    {
     "data": {
      "text/html": [
       "<pre>Number of coefficients    : 1401</pre>"
      ],
      "text/plain": [
       "Number of coefficients    : 1401"
      ]
     },
     "metadata": {},
     "output_type": "display_data"
    },
    {
     "data": {
      "text/html": [
       "<pre>Starting L-BFGS</pre>"
      ],
      "text/plain": [
       "Starting L-BFGS"
      ]
     },
     "metadata": {},
     "output_type": "display_data"
    },
    {
     "data": {
      "text/html": [
       "<pre>--------------------------------------------------------</pre>"
      ],
      "text/plain": [
       "--------------------------------------------------------"
      ]
     },
     "metadata": {},
     "output_type": "display_data"
    },
    {
     "data": {
      "text/html": [
       "<pre>+-----------+----------+-----------+--------------+-------------------+---------------------+</pre>"
      ],
      "text/plain": [
       "+-----------+----------+-----------+--------------+-------------------+---------------------+"
      ]
     },
     "metadata": {},
     "output_type": "display_data"
    },
    {
     "data": {
      "text/html": [
       "<pre>| Iteration | Passes   | Step size | Elapsed Time | Training-accuracy | Validation-accuracy |</pre>"
      ],
      "text/plain": [
       "| Iteration | Passes   | Step size | Elapsed Time | Training-accuracy | Validation-accuracy |"
      ]
     },
     "metadata": {},
     "output_type": "display_data"
    },
    {
     "data": {
      "text/html": [
       "<pre>+-----------+----------+-----------+--------------+-------------------+---------------------+</pre>"
      ],
      "text/plain": [
       "+-----------+----------+-----------+--------------+-------------------+---------------------+"
      ]
     },
     "metadata": {},
     "output_type": "display_data"
    },
    {
     "data": {
      "text/html": [
       "<pre>| 1         | 4        | 0.000118  | 0.044620     | 0.662653          | 0.646530            |</pre>"
      ],
      "text/plain": [
       "| 1         | 4        | 0.000118  | 0.044620     | 0.662653          | 0.646530            |"
      ]
     },
     "metadata": {},
     "output_type": "display_data"
    },
    {
     "data": {
      "text/html": [
       "<pre>| 2         | 6        | 1.000000  | 0.077710     | 0.663384          | 0.648243            |</pre>"
      ],
      "text/plain": [
       "| 2         | 6        | 1.000000  | 0.077710     | 0.663384          | 0.648243            |"
      ]
     },
     "metadata": {},
     "output_type": "display_data"
    },
    {
     "data": {
      "text/html": [
       "<pre>| 3         | 7        | 1.000000  | 0.099799     | 0.663172          | 0.645244            |</pre>"
      ],
      "text/plain": [
       "| 3         | 7        | 1.000000  | 0.099799     | 0.663172          | 0.645244            |"
      ]
     },
     "metadata": {},
     "output_type": "display_data"
    },
    {
     "data": {
      "text/html": [
       "<pre>| 4         | 8        | 1.000000  | 0.119820     | 0.663596          | 0.647386            |</pre>"
      ],
      "text/plain": [
       "| 4         | 8        | 1.000000  | 0.119820     | 0.663596          | 0.647386            |"
      ]
     },
     "metadata": {},
     "output_type": "display_data"
    },
    {
     "data": {
      "text/html": [
       "<pre>| 5         | 9        | 1.000000  | 0.141879     | 0.663667          | 0.646101            |</pre>"
      ],
      "text/plain": [
       "| 5         | 9        | 1.000000  | 0.141879     | 0.663667          | 0.646101            |"
      ]
     },
     "metadata": {},
     "output_type": "display_data"
    },
    {
     "data": {
      "text/html": [
       "<pre>| 6         | 10       | 1.000000  | 0.162935     | 0.663784          | 0.645673            |</pre>"
      ],
      "text/plain": [
       "| 6         | 10       | 1.000000  | 0.162935     | 0.663784          | 0.645673            |"
      ]
     },
     "metadata": {},
     "output_type": "display_data"
    },
    {
     "data": {
      "text/html": [
       "<pre>| 11        | 15       | 1.000000  | 0.263201     | 0.663596          | 0.643102            |</pre>"
      ],
      "text/plain": [
       "| 11        | 15       | 1.000000  | 0.263201     | 0.663596          | 0.643102            |"
      ]
     },
     "metadata": {},
     "output_type": "display_data"
    },
    {
     "data": {
      "text/html": [
       "<pre>| 50        | 56       | 1.000000  | 1.059232     | 0.663619          | 0.645244            |</pre>"
      ],
      "text/plain": [
       "| 50        | 56       | 1.000000  | 1.059232     | 0.663619          | 0.645244            |"
      ]
     },
     "metadata": {},
     "output_type": "display_data"
    },
    {
     "data": {
      "text/html": [
       "<pre>| 51        | 57       | 1.000000  | 1.080288     | 0.663572          | 0.645244            |</pre>"
      ],
      "text/plain": [
       "| 51        | 57       | 1.000000  | 1.080288     | 0.663572          | 0.645244            |"
      ]
     },
     "metadata": {},
     "output_type": "display_data"
    },
    {
     "data": {
      "text/html": [
       "<pre>| 100       | 116      | 1.000000  | 2.162030     | 0.663572          | 0.643959            |</pre>"
      ],
      "text/plain": [
       "| 100       | 116      | 1.000000  | 2.162030     | 0.663572          | 0.643959            |"
      ]
     },
     "metadata": {},
     "output_type": "display_data"
    },
    {
     "data": {
      "text/html": [
       "<pre>| 101       | 117      | 1.000000  | 2.187471     | 0.663572          | 0.643959            |</pre>"
      ],
      "text/plain": [
       "| 101       | 117      | 1.000000  | 2.187471     | 0.663572          | 0.643959            |"
      ]
     },
     "metadata": {},
     "output_type": "display_data"
    },
    {
     "data": {
      "text/html": [
       "<pre>+-----------+----------+-----------+--------------+-------------------+---------------------+</pre>"
      ],
      "text/plain": [
       "+-----------+----------+-----------+--------------+-------------------+---------------------+"
      ]
     },
     "metadata": {},
     "output_type": "display_data"
    },
    {
     "data": {
      "text/html": [
       "<pre>SUCCESS: Optimal solution found.</pre>"
      ],
      "text/plain": [
       "SUCCESS: Optimal solution found."
      ]
     },
     "metadata": {},
     "output_type": "display_data"
    },
    {
     "data": {
      "text/html": [
       "<pre></pre>"
      ],
      "text/plain": []
     },
     "metadata": {},
     "output_type": "display_data"
    },
    {
     "name": "stdout",
     "output_type": "stream",
     "text": [
      "***********************************************************************************************************\n",
      "{'f1_score': 0.6517045454545455, 'auc': 0.6960723241469388, 'recall': 0.6622401847575058, 'precision': 0.6414988814317674, 'log_loss': 0.6902294274917655, 'roc_curve': Columns:\n",
      "\tthreshold\tfloat\n",
      "\tfpr\tfloat\n",
      "\ttpr\tfloat\n",
      "\tp\tint\n",
      "\tn\tint\n",
      "\n",
      "Rows: 100001\n",
      "\n",
      "Data:\n",
      "+-----------+----------------+----------------+------+------+\n",
      "| threshold |      fpr       |      tpr       |  p   |  n   |\n",
      "+-----------+----------------+----------------+------+------+\n",
      "|    0.0    |      1.0       |      1.0       | 5196 | 5144 |\n",
      "|   1e-05   | 0.987363919129 | 0.997113163972 | 5196 | 5144 |\n",
      "|   2e-05   | 0.98367029549  | 0.996150885296 | 5196 | 5144 |\n",
      "|   3e-05   | 0.98367029549  | 0.995958429561 | 5196 | 5144 |\n",
      "|   4e-05   | 0.983475894246 | 0.995958429561 | 5196 | 5144 |\n",
      "|   5e-05   | 0.983475894246 | 0.995958429561 | 5196 | 5144 |\n",
      "|   6e-05   | 0.983281493002 | 0.995958429561 | 5196 | 5144 |\n",
      "|   7e-05   | 0.982892690513 | 0.995958429561 | 5196 | 5144 |\n",
      "|   8e-05   | 0.982892690513 | 0.995958429561 | 5196 | 5144 |\n",
      "|   9e-05   | 0.982892690513 | 0.995958429561 | 5196 | 5144 |\n",
      "+-----------+----------------+----------------+------+------+\n",
      "[100001 rows x 5 columns]\n",
      "Note: Only the head of the SFrame is printed.\n",
      "You can use print_rows(num_rows=m, num_columns=n) to print more rows and columns., 'confusion_matrix': Columns:\n",
      "\ttarget_label\tint\n",
      "\tpredicted_label\tint\n",
      "\tcount\tint\n",
      "\n",
      "Rows: 4\n",
      "\n",
      "Data:\n",
      "+--------------+-----------------+-------+\n",
      "| target_label | predicted_label | count |\n",
      "+--------------+-----------------+-------+\n",
      "|      1       |        0        |  1755 |\n",
      "|      1       |        1        |  3441 |\n",
      "|      0       |        1        |  1923 |\n",
      "|      0       |        0        |  3221 |\n",
      "+--------------+-----------------+-------+\n",
      "[4 rows x 3 columns]\n",
      ", 'accuracy': 0.6442940038684719}\n",
      "***********************************************************************************************************\n"
     ]
    }
   ],
   "source": [
    "train_data = group2.append(group1.append(group4).append(group5))\n",
    "test_data = group3\n",
    "m3 = gl.logistic_classifier.create(\n",
    "    train_data,\n",
    "    target='gender',\n",
    "    features = ['cg2'],\n",
    "    #class_weights={1:5,0:5},\n",
    "    max_iterations=3000)\n",
    "print '***********************************************************************************************************'\n",
    "result3 = m3.evaluate(test_data)\n",
    "print result3\n",
    "print '***********************************************************************************************************'"
   ]
  },
  {
   "cell_type": "code",
   "execution_count": 12,
   "metadata": {
    "collapsed": false
   },
   "outputs": [
    {
     "name": "stdout",
     "output_type": "stream",
     "text": [
      "PROGRESS: Creating a validation set from 5 percent of training data. This may take a while.\n",
      "          You can set ``validation_set=None`` to disable validation tracking.\n",
      "\n"
     ]
    },
    {
     "data": {
      "text/html": [
       "<pre>Logistic regression:</pre>"
      ],
      "text/plain": [
       "Logistic regression:"
      ]
     },
     "metadata": {},
     "output_type": "display_data"
    },
    {
     "data": {
      "text/html": [
       "<pre>--------------------------------------------------------</pre>"
      ],
      "text/plain": [
       "--------------------------------------------------------"
      ]
     },
     "metadata": {},
     "output_type": "display_data"
    },
    {
     "data": {
      "text/html": [
       "<pre>Number of examples          : 41642</pre>"
      ],
      "text/plain": [
       "Number of examples          : 41642"
      ]
     },
     "metadata": {},
     "output_type": "display_data"
    },
    {
     "data": {
      "text/html": [
       "<pre>Number of classes           : 2</pre>"
      ],
      "text/plain": [
       "Number of classes           : 2"
      ]
     },
     "metadata": {},
     "output_type": "display_data"
    },
    {
     "data": {
      "text/html": [
       "<pre>Number of feature columns   : 1</pre>"
      ],
      "text/plain": [
       "Number of feature columns   : 1"
      ]
     },
     "metadata": {},
     "output_type": "display_data"
    },
    {
     "data": {
      "text/html": [
       "<pre>Number of unpacked features : 1</pre>"
      ],
      "text/plain": [
       "Number of unpacked features : 1"
      ]
     },
     "metadata": {},
     "output_type": "display_data"
    },
    {
     "data": {
      "text/html": [
       "<pre>Number of coefficients    : 1383</pre>"
      ],
      "text/plain": [
       "Number of coefficients    : 1383"
      ]
     },
     "metadata": {},
     "output_type": "display_data"
    },
    {
     "data": {
      "text/html": [
       "<pre>Starting L-BFGS</pre>"
      ],
      "text/plain": [
       "Starting L-BFGS"
      ]
     },
     "metadata": {},
     "output_type": "display_data"
    },
    {
     "data": {
      "text/html": [
       "<pre>--------------------------------------------------------</pre>"
      ],
      "text/plain": [
       "--------------------------------------------------------"
      ]
     },
     "metadata": {},
     "output_type": "display_data"
    },
    {
     "data": {
      "text/html": [
       "<pre>+-----------+----------+-----------+--------------+-------------------+---------------------+</pre>"
      ],
      "text/plain": [
       "+-----------+----------+-----------+--------------+-------------------+---------------------+"
      ]
     },
     "metadata": {},
     "output_type": "display_data"
    },
    {
     "data": {
      "text/html": [
       "<pre>| Iteration | Passes   | Step size | Elapsed Time | Training-accuracy | Validation-accuracy |</pre>"
      ],
      "text/plain": [
       "| Iteration | Passes   | Step size | Elapsed Time | Training-accuracy | Validation-accuracy |"
      ]
     },
     "metadata": {},
     "output_type": "display_data"
    },
    {
     "data": {
      "text/html": [
       "<pre>+-----------+----------+-----------+--------------+-------------------+---------------------+</pre>"
      ],
      "text/plain": [
       "+-----------+----------+-----------+--------------+-------------------+---------------------+"
      ]
     },
     "metadata": {},
     "output_type": "display_data"
    },
    {
     "data": {
      "text/html": [
       "<pre>| 1         | 4        | 0.000120  | 0.043091     | 0.664714          | 0.646643            |</pre>"
      ],
      "text/plain": [
       "| 1         | 4        | 0.000120  | 0.043091     | 0.664714          | 0.646643            |"
      ]
     },
     "metadata": {},
     "output_type": "display_data"
    },
    {
     "data": {
      "text/html": [
       "<pre>| 2         | 6        | 1.000000  | 0.074193     | 0.666419          | 0.644876            |</pre>"
      ],
      "text/plain": [
       "| 2         | 6        | 1.000000  | 0.074193     | 0.666419          | 0.644876            |"
      ]
     },
     "metadata": {},
     "output_type": "display_data"
    },
    {
     "data": {
      "text/html": [
       "<pre>| 3         | 7        | 1.000000  | 0.094226     | 0.666875          | 0.645760            |</pre>"
      ],
      "text/plain": [
       "| 3         | 7        | 1.000000  | 0.094226     | 0.666875          | 0.645760            |"
      ]
     },
     "metadata": {},
     "output_type": "display_data"
    },
    {
     "data": {
      "text/html": [
       "<pre>| 4         | 8        | 1.000000  | 0.115283     | 0.666587          | 0.646201            |</pre>"
      ],
      "text/plain": [
       "| 4         | 8        | 1.000000  | 0.115283     | 0.666587          | 0.646201            |"
      ]
     },
     "metadata": {},
     "output_type": "display_data"
    },
    {
     "data": {
      "text/html": [
       "<pre>| 5         | 9        | 1.000000  | 0.140357     | 0.667115          | 0.645318            |</pre>"
      ],
      "text/plain": [
       "| 5         | 9        | 1.000000  | 0.140357     | 0.667115          | 0.645318            |"
      ]
     },
     "metadata": {},
     "output_type": "display_data"
    },
    {
     "data": {
      "text/html": [
       "<pre>| 6         | 10       | 1.000000  | 0.159400     | 0.666947          | 0.645760            |</pre>"
      ],
      "text/plain": [
       "| 6         | 10       | 1.000000  | 0.159400     | 0.666947          | 0.645760            |"
      ]
     },
     "metadata": {},
     "output_type": "display_data"
    },
    {
     "data": {
      "text/html": [
       "<pre>| 11        | 15       | 1.000000  | 0.247742     | 0.666971          | 0.645760            |</pre>"
      ],
      "text/plain": [
       "| 11        | 15       | 1.000000  | 0.247742     | 0.666971          | 0.645760            |"
      ]
     },
     "metadata": {},
     "output_type": "display_data"
    },
    {
     "data": {
      "text/html": [
       "<pre>| 50        | 60       | 1.000000  | 1.101601     | 0.667163          | 0.647085            |</pre>"
      ],
      "text/plain": [
       "| 50        | 60       | 1.000000  | 1.101601     | 0.667163          | 0.647085            |"
      ]
     },
     "metadata": {},
     "output_type": "display_data"
    },
    {
     "data": {
      "text/html": [
       "<pre>| 51        | 61       | 1.000000  | 1.121168     | 0.667139          | 0.646201            |</pre>"
      ],
      "text/plain": [
       "| 51        | 61       | 1.000000  | 1.121168     | 0.667139          | 0.646201            |"
      ]
     },
     "metadata": {},
     "output_type": "display_data"
    },
    {
     "data": {
      "text/html": [
       "<pre>| 100       | 134      | 1.000000  | 2.303075     | 0.667139          | 0.647085            |</pre>"
      ],
      "text/plain": [
       "| 100       | 134      | 1.000000  | 2.303075     | 0.667139          | 0.647085            |"
      ]
     },
     "metadata": {},
     "output_type": "display_data"
    },
    {
     "data": {
      "text/html": [
       "<pre>| 101       | 135      | 1.000000  | 2.327215     | 0.667139          | 0.647085            |</pre>"
      ],
      "text/plain": [
       "| 101       | 135      | 1.000000  | 2.327215     | 0.667139          | 0.647085            |"
      ]
     },
     "metadata": {},
     "output_type": "display_data"
    },
    {
     "data": {
      "text/html": [
       "<pre>+-----------+----------+-----------+--------------+-------------------+---------------------+</pre>"
      ],
      "text/plain": [
       "+-----------+----------+-----------+--------------+-------------------+---------------------+"
      ]
     },
     "metadata": {},
     "output_type": "display_data"
    },
    {
     "data": {
      "text/html": [
       "<pre>SUCCESS: Optimal solution found.</pre>"
      ],
      "text/plain": [
       "SUCCESS: Optimal solution found."
      ]
     },
     "metadata": {},
     "output_type": "display_data"
    },
    {
     "data": {
      "text/html": [
       "<pre></pre>"
      ],
      "text/plain": []
     },
     "metadata": {},
     "output_type": "display_data"
    },
    {
     "name": "stdout",
     "output_type": "stream",
     "text": [
      "***********************************************************************************************************\n",
      "{'f1_score': 0.6519515936594511, 'auc': 0.6829486502340694, 'recall': 0.6807261078483716, 'precision': 0.6255110384300899, 'log_loss': 0.7059399077482938, 'roc_curve': Columns:\n",
      "\tthreshold\tfloat\n",
      "\tfpr\tfloat\n",
      "\ttpr\tfloat\n",
      "\tp\tint\n",
      "\tn\tint\n",
      "\n",
      "Rows: 100001\n",
      "\n",
      "Data:\n",
      "+-----------+----------------+----------------+------+------+\n",
      "| threshold |      fpr       |      tpr       |  p   |  n   |\n",
      "+-----------+----------------+----------------+------+------+\n",
      "|    0.0    |      1.0       |      1.0       | 5619 | 5592 |\n",
      "|   1e-05   | 0.989091559371 | 0.995194874533 | 5619 | 5592 |\n",
      "|   2e-05   | 0.985693848355 | 0.994838939313 | 5619 | 5592 |\n",
      "|   3e-05   | 0.984799713877 | 0.994127068873 | 5619 | 5592 |\n",
      "|   4e-05   | 0.984799713877 | 0.994127068873 | 5619 | 5592 |\n",
      "|   5e-05   | 0.984799713877 | 0.994127068873 | 5619 | 5592 |\n",
      "|   6e-05   | 0.984799713877 | 0.994127068873 | 5619 | 5592 |\n",
      "|   7e-05   | 0.984799713877 | 0.994127068873 | 5619 | 5592 |\n",
      "|   8e-05   | 0.984799713877 | 0.994127068873 | 5619 | 5592 |\n",
      "|   9e-05   | 0.984799713877 | 0.994127068873 | 5619 | 5592 |\n",
      "+-----------+----------------+----------------+------+------+\n",
      "[100001 rows x 5 columns]\n",
      "Note: Only the head of the SFrame is printed.\n",
      "You can use print_rows(num_rows=m, num_columns=n) to print more rows and columns., 'confusion_matrix': Columns:\n",
      "\ttarget_label\tint\n",
      "\tpredicted_label\tint\n",
      "\tcount\tint\n",
      "\n",
      "Rows: 4\n",
      "\n",
      "Data:\n",
      "+--------------+-----------------+-------+\n",
      "| target_label | predicted_label | count |\n",
      "+--------------+-----------------+-------+\n",
      "|      1       |        0        |  1794 |\n",
      "|      1       |        1        |  3825 |\n",
      "|      0       |        1        |  2290 |\n",
      "|      0       |        0        |  3302 |\n",
      "+--------------+-----------------+-------+\n",
      "[4 rows x 3 columns]\n",
      ", 'accuracy': 0.6357149228436357}\n",
      "***********************************************************************************************************\n"
     ]
    }
   ],
   "source": [
    "train_data = group2.append(group3.append(group1).append(group5))\n",
    "test_data = group4\n",
    "m4 = gl.logistic_classifier.create(\n",
    "    train_data,\n",
    "    target='gender',\n",
    "    features = ['cg2'],\n",
    "    #class_weights={1:5,0:5},\n",
    "    max_iterations=3000)\n",
    "result1 = m1.evaluate(test_data)\n",
    "print '***********************************************************************************************************'\n",
    "result4 = m4.evaluate(test_data)\n",
    "print result4\n",
    "print '***********************************************************************************************************'"
   ]
  },
  {
   "cell_type": "code",
   "execution_count": 13,
   "metadata": {
    "collapsed": false
   },
   "outputs": [
    {
     "name": "stdout",
     "output_type": "stream",
     "text": [
      "PROGRESS: Creating a validation set from 5 percent of training data. This may take a while.\n",
      "          You can set ``validation_set=None`` to disable validation tracking.\n",
      "\n"
     ]
    },
    {
     "data": {
      "text/html": [
       "<pre>Logistic regression:</pre>"
      ],
      "text/plain": [
       "Logistic regression:"
      ]
     },
     "metadata": {},
     "output_type": "display_data"
    },
    {
     "data": {
      "text/html": [
       "<pre>--------------------------------------------------------</pre>"
      ],
      "text/plain": [
       "--------------------------------------------------------"
      ]
     },
     "metadata": {},
     "output_type": "display_data"
    },
    {
     "data": {
      "text/html": [
       "<pre>Number of examples          : 40918</pre>"
      ],
      "text/plain": [
       "Number of examples          : 40918"
      ]
     },
     "metadata": {},
     "output_type": "display_data"
    },
    {
     "data": {
      "text/html": [
       "<pre>Number of classes           : 2</pre>"
      ],
      "text/plain": [
       "Number of classes           : 2"
      ]
     },
     "metadata": {},
     "output_type": "display_data"
    },
    {
     "data": {
      "text/html": [
       "<pre>Number of feature columns   : 1</pre>"
      ],
      "text/plain": [
       "Number of feature columns   : 1"
      ]
     },
     "metadata": {},
     "output_type": "display_data"
    },
    {
     "data": {
      "text/html": [
       "<pre>Number of unpacked features : 1</pre>"
      ],
      "text/plain": [
       "Number of unpacked features : 1"
      ]
     },
     "metadata": {},
     "output_type": "display_data"
    },
    {
     "data": {
      "text/html": [
       "<pre>Number of coefficients    : 1388</pre>"
      ],
      "text/plain": [
       "Number of coefficients    : 1388"
      ]
     },
     "metadata": {},
     "output_type": "display_data"
    },
    {
     "data": {
      "text/html": [
       "<pre>Starting L-BFGS</pre>"
      ],
      "text/plain": [
       "Starting L-BFGS"
      ]
     },
     "metadata": {},
     "output_type": "display_data"
    },
    {
     "data": {
      "text/html": [
       "<pre>--------------------------------------------------------</pre>"
      ],
      "text/plain": [
       "--------------------------------------------------------"
      ]
     },
     "metadata": {},
     "output_type": "display_data"
    },
    {
     "data": {
      "text/html": [
       "<pre>+-----------+----------+-----------+--------------+-------------------+---------------------+</pre>"
      ],
      "text/plain": [
       "+-----------+----------+-----------+--------------+-------------------+---------------------+"
      ]
     },
     "metadata": {},
     "output_type": "display_data"
    },
    {
     "data": {
      "text/html": [
       "<pre>| Iteration | Passes   | Step size | Elapsed Time | Training-accuracy | Validation-accuracy |</pre>"
      ],
      "text/plain": [
       "| Iteration | Passes   | Step size | Elapsed Time | Training-accuracy | Validation-accuracy |"
      ]
     },
     "metadata": {},
     "output_type": "display_data"
    },
    {
     "data": {
      "text/html": [
       "<pre>+-----------+----------+-----------+--------------+-------------------+---------------------+</pre>"
      ],
      "text/plain": [
       "+-----------+----------+-----------+--------------+-------------------+---------------------+"
      ]
     },
     "metadata": {},
     "output_type": "display_data"
    },
    {
     "data": {
      "text/html": [
       "<pre>| 1         | 4        | 0.000122  | 0.048768     | 0.663229          | 0.622244            |</pre>"
      ],
      "text/plain": [
       "| 1         | 4        | 0.000122  | 0.048768     | 0.663229          | 0.622244            |"
      ]
     },
     "metadata": {},
     "output_type": "display_data"
    },
    {
     "data": {
      "text/html": [
       "<pre>| 2         | 6        | 1.000000  | 0.082867     | 0.665282          | 0.622244            |</pre>"
      ],
      "text/plain": [
       "| 2         | 6        | 1.000000  | 0.082867     | 0.665282          | 0.622244            |"
      ]
     },
     "metadata": {},
     "output_type": "display_data"
    },
    {
     "data": {
      "text/html": [
       "<pre>| 3         | 7        | 1.000000  | 0.104917     | 0.664793          | 0.620805            |</pre>"
      ],
      "text/plain": [
       "| 3         | 7        | 1.000000  | 0.104917     | 0.664793          | 0.620805            |"
      ]
     },
     "metadata": {},
     "output_type": "display_data"
    },
    {
     "data": {
      "text/html": [
       "<pre>| 4         | 8        | 1.000000  | 0.125972     | 0.665037          | 0.619367            |</pre>"
      ],
      "text/plain": [
       "| 4         | 8        | 1.000000  | 0.125972     | 0.665037          | 0.619367            |"
      ]
     },
     "metadata": {},
     "output_type": "display_data"
    },
    {
     "data": {
      "text/html": [
       "<pre>| 5         | 9        | 1.000000  | 0.147028     | 0.665428          | 0.623682            |</pre>"
      ],
      "text/plain": [
       "| 5         | 9        | 1.000000  | 0.147028     | 0.665428          | 0.623682            |"
      ]
     },
     "metadata": {},
     "output_type": "display_data"
    },
    {
     "data": {
      "text/html": [
       "<pre>| 6         | 10       | 1.000000  | 0.169087     | 0.665355          | 0.622244            |</pre>"
      ],
      "text/plain": [
       "| 6         | 10       | 1.000000  | 0.169087     | 0.665355          | 0.622244            |"
      ]
     },
     "metadata": {},
     "output_type": "display_data"
    },
    {
     "data": {
      "text/html": [
       "<pre>| 11        | 15       | 1.000000  | 0.264199     | 0.665208          | 0.619367            |</pre>"
      ],
      "text/plain": [
       "| 11        | 15       | 1.000000  | 0.264199     | 0.665208          | 0.619367            |"
      ]
     },
     "metadata": {},
     "output_type": "display_data"
    },
    {
     "data": {
      "text/html": [
       "<pre>| 50        | 59       | 1.000000  | 1.077982     | 0.665233          | 0.621285            |</pre>"
      ],
      "text/plain": [
       "| 50        | 59       | 1.000000  | 1.077982     | 0.665233          | 0.621285            |"
      ]
     },
     "metadata": {},
     "output_type": "display_data"
    },
    {
     "data": {
      "text/html": [
       "<pre>| 51        | 61       | 1.000000  | 1.112073     | 0.665233          | 0.621764            |</pre>"
      ],
      "text/plain": [
       "| 51        | 61       | 1.000000  | 1.112073     | 0.665233          | 0.621764            |"
      ]
     },
     "metadata": {},
     "output_type": "display_data"
    },
    {
     "data": {
      "text/html": [
       "<pre>| 100       | 115      | 0.500000  | 2.092410     | 0.665233          | 0.621285            |</pre>"
      ],
      "text/plain": [
       "| 100       | 115      | 0.500000  | 2.092410     | 0.665233          | 0.621285            |"
      ]
     },
     "metadata": {},
     "output_type": "display_data"
    },
    {
     "data": {
      "text/html": [
       "<pre>| 101       | 117      | 1.000000  | 2.137035     | 0.665233          | 0.621764            |</pre>"
      ],
      "text/plain": [
       "| 101       | 117      | 1.000000  | 2.137035     | 0.665233          | 0.621764            |"
      ]
     },
     "metadata": {},
     "output_type": "display_data"
    },
    {
     "data": {
      "text/html": [
       "<pre>| 150       | 192      | 1.000000  | 3.374682     | 0.665233          | 0.621764            |</pre>"
      ],
      "text/plain": [
       "| 150       | 192      | 1.000000  | 3.374682     | 0.665233          | 0.621764            |"
      ]
     },
     "metadata": {},
     "output_type": "display_data"
    },
    {
     "data": {
      "text/html": [
       "<pre>| 200       | 280      | 1.000000  | 4.673241     | 0.665282          | 0.621285            |</pre>"
      ],
      "text/plain": [
       "| 200       | 280      | 1.000000  | 4.673241     | 0.665282          | 0.621285            |"
      ]
     },
     "metadata": {},
     "output_type": "display_data"
    },
    {
     "data": {
      "text/html": [
       "<pre>| 250       | 354      | 1.000000  | 5.894902     | 0.665233          | 0.622244            |</pre>"
      ],
      "text/plain": [
       "| 250       | 354      | 1.000000  | 5.894902     | 0.665233          | 0.622244            |"
      ]
     },
     "metadata": {},
     "output_type": "display_data"
    },
    {
     "data": {
      "text/html": [
       "<pre>| 300       | 434      | 1.000000  | 7.116060     | 0.665233          | 0.622244            |</pre>"
      ],
      "text/plain": [
       "| 300       | 434      | 1.000000  | 7.116060     | 0.665233          | 0.622244            |"
      ]
     },
     "metadata": {},
     "output_type": "display_data"
    },
    {
     "data": {
      "text/html": [
       "<pre>| 350       | 520      | 1.000000  | 8.382781     | 0.665282          | 0.621285            |</pre>"
      ],
      "text/plain": [
       "| 350       | 520      | 1.000000  | 8.382781     | 0.665282          | 0.621285            |"
      ]
     },
     "metadata": {},
     "output_type": "display_data"
    },
    {
     "data": {
      "text/html": [
       "<pre>| 400       | 588      | 1.000000  | 9.495423     | 0.665282          | 0.621285            |</pre>"
      ],
      "text/plain": [
       "| 400       | 588      | 1.000000  | 9.495423     | 0.665282          | 0.621285            |"
      ]
     },
     "metadata": {},
     "output_type": "display_data"
    },
    {
     "data": {
      "text/html": [
       "<pre>+-----------+----------+-----------+--------------+-------------------+---------------------+</pre>"
      ],
      "text/plain": [
       "+-----------+----------+-----------+--------------+-------------------+---------------------+"
      ]
     },
     "metadata": {},
     "output_type": "display_data"
    },
    {
     "data": {
      "text/html": [
       "<pre>SUCCESS: Optimal solution found.</pre>"
      ],
      "text/plain": [
       "SUCCESS: Optimal solution found."
      ]
     },
     "metadata": {},
     "output_type": "display_data"
    },
    {
     "data": {
      "text/html": [
       "<pre></pre>"
      ],
      "text/plain": []
     },
     "metadata": {},
     "output_type": "display_data"
    },
    {
     "name": "stdout",
     "output_type": "stream",
     "text": [
      "***********************************************************************************************************\n",
      "{'f1_score': 0.6609794628751975, 'auc': 0.6930206311121639, 'recall': 0.687140745606832, 'precision': 0.636737178511642, 'log_loss': 0.705210865244463, 'roc_curve': Columns:\n",
      "\tthreshold\tfloat\n",
      "\tfpr\tfloat\n",
      "\ttpr\tfloat\n",
      "\tp\tint\n",
      "\tn\tint\n",
      "\n",
      "Rows: 100001\n",
      "\n",
      "Data:\n",
      "+-----------+----------------+----------------+------+------+\n",
      "| threshold |      fpr       |      tpr       |  p   |  n   |\n",
      "+-----------+----------------+----------------+------+------+\n",
      "|    0.0    |      1.0       |      1.0       | 6089 | 6024 |\n",
      "|   1e-05   | 0.984561752988 | 0.996386927246 | 6089 | 6024 |\n",
      "|   2e-05   | 0.982569721116 | 0.995237313188 | 6089 | 6024 |\n",
      "|   3e-05   | 0.981905710491 | 0.994908852028 | 6089 | 6024 |\n",
      "|   4e-05   | 0.981573705179 | 0.994580390869 | 6089 | 6024 |\n",
      "|   5e-05   | 0.981573705179 | 0.994416160289 | 6089 | 6024 |\n",
      "|   6e-05   | 0.981573705179 | 0.99392346855  | 6089 | 6024 |\n",
      "|   7e-05   | 0.981407702523 | 0.99375923797  | 6089 | 6024 |\n",
      "|   8e-05   | 0.981241699867 | 0.993430776811 | 6089 | 6024 |\n",
      "|   9e-05   | 0.981241699867 | 0.993430776811 | 6089 | 6024 |\n",
      "+-----------+----------------+----------------+------+------+\n",
      "[100001 rows x 5 columns]\n",
      "Note: Only the head of the SFrame is printed.\n",
      "You can use print_rows(num_rows=m, num_columns=n) to print more rows and columns., 'confusion_matrix': Columns:\n",
      "\ttarget_label\tint\n",
      "\tpredicted_label\tint\n",
      "\tcount\tint\n",
      "\n",
      "Rows: 4\n",
      "\n",
      "Data:\n",
      "+--------------+-----------------+-------+\n",
      "| target_label | predicted_label | count |\n",
      "+--------------+-----------------+-------+\n",
      "|      1       |        0        |  1905 |\n",
      "|      1       |        1        |  4184 |\n",
      "|      0       |        0        |  3637 |\n",
      "|      0       |        1        |  2387 |\n",
      "+--------------+-----------------+-------+\n",
      "[4 rows x 3 columns]\n",
      ", 'accuracy': 0.6456699413852885}\n",
      "***********************************************************************************************************\n"
     ]
    }
   ],
   "source": [
    "train_data = group2.append(group3.append(group4).append(group1))\n",
    "test_data = group5\n",
    "m5 = gl.logistic_classifier.create(\n",
    "    train_data,\n",
    "    target='gender',\n",
    "    features = ['cg2'],\n",
    "    #class_weights={1:5,0:5},\n",
    "    max_iterations=3000)\n",
    "result1 = m1.evaluate(test_data)\n",
    "print '***********************************************************************************************************'\n",
    "result5 = m5.evaluate(test_data)\n",
    "print result5\n",
    "print '***********************************************************************************************************'"
   ]
  },
  {
   "cell_type": "markdown",
   "metadata": {},
   "source": [
    "# session为独立的个体时，如果每一组的训练集和测试集都进行性别平衡，则五次的平均正确率为62.07%\n",
    "# id为独立个体时，处理同上，正确率为56.98%\n",
    "# 对session进行属性融合之后，正确率为58.66%，还有5.56%性别待定"
   ]
  },
  {
   "cell_type": "code",
   "execution_count": 14,
   "metadata": {
    "collapsed": false
   },
   "outputs": [],
   "source": [
    "predict1 = m1.predict(group1)\n",
    "mdata1 = group1.add_column(gl.SArray(predict1))\n",
    "mdata1.rename({\"X5\":\"predict_gender\"})\n",
    "mdata1 = mdata1.sort('session_number')\n",
    "mdata1['session_number'] = mdata1.apply(lambda x: x['session_number'].split(',')[0])\n",
    "mdata1.rename({'session_number':'id'})\n",
    "data_merging1 = mdata1.groupby(['id'],{'gender':gl.aggregate.SELECT_ONE('gender'), 'cg2':gl.aggregate.SELECT_ONE('cg2'),'predict_gender':gl.aggregate.AVG('predict_gender')})\n",
    "def predict_accuracy(x):\n",
    "    if abs(x['gender'] - x['predict_gender']) < 0.5:\n",
    "        return 1\n",
    "    elif abs(x['gender'] - x['predict_gender']) > 0.5:\n",
    "        return 0\n",
    "    else:\n",
    "        return -1\n",
    "data_merging1['predict_accuracy'] = data_merging1.apply(lambda x: predict_accuracy(x))\n",
    "\n",
    "gender_uncertain1 = len(data_merging1.filter_by(-1,'predict_accuracy'))\n",
    "gender_true1 = len(data_merging1.filter_by(1,'predict_accuracy'))\n",
    "gender_false1 = len(data_merging1.filter_by(0,'predict_accuracy'))\n",
    "\n",
    "predict2 = m2.predict(group2)\n",
    "mdata2 = group2.add_column(gl.SArray(predict2))\n",
    "mdata2.rename({\"X5\":\"predict_gender\"})\n",
    "mdata2 = mdata2.sort('session_number')\n",
    "mdata2['session_number'] = mdata2.apply(lambda x: x['session_number'].split(',')[0])\n",
    "mdata2.rename({'session_number':'id'})\n",
    "data_merging2 = mdata2.groupby(['id'],{'gender':gl.aggregate.SELECT_ONE('gender'), 'cg2':gl.aggregate.SELECT_ONE('cg2'),'predict_gender':gl.aggregate.AVG('predict_gender')})\n",
    "data_merging2['predict_accuracy'] = data_merging2.apply(lambda x: predict_accuracy(x))\n",
    "\n",
    "gender_uncertain2 = len(data_merging2.filter_by(-1,'predict_accuracy'))\n",
    "gender_true2 = len(data_merging2.filter_by(1,'predict_accuracy'))\n",
    "gender_false2 = len(data_merging2.filter_by(0,'predict_accuracy'))\n",
    "\n",
    "predict3 = m3.predict(group3)\n",
    "mdata3 = group3.add_column(gl.SArray(predict3))\n",
    "mdata3.rename({\"X5\":\"predict_gender\"})\n",
    "mdata3 = mdata3.sort('session_number')\n",
    "mdata3['session_number'] = mdata3.apply(lambda x: x['session_number'].split(',')[0])\n",
    "mdata3.rename({'session_number':'id'})\n",
    "data_merging3 = mdata3.groupby(['id'],{'gender':gl.aggregate.SELECT_ONE('gender'), 'cg2':gl.aggregate.SELECT_ONE('cg2'),'predict_gender':gl.aggregate.AVG('predict_gender')})\n",
    "data_merging3['predict_accuracy'] = data_merging3.apply(lambda x: predict_accuracy(x))\n",
    "\n",
    "gender_uncertain3 = len(data_merging3.filter_by(-1,'predict_accuracy'))\n",
    "gender_true3 = len(data_merging3.filter_by(1,'predict_accuracy'))\n",
    "gender_false3 = len(data_merging3.filter_by(0,'predict_accuracy'))\n",
    "\n",
    "predict4 = m4.predict(group4)\n",
    "mdata4 = group4.add_column(gl.SArray(predict4))\n",
    "mdata4.rename({\"X5\":\"predict_gender\"})\n",
    "mdata4 = mdata4.sort('session_number')\n",
    "mdata4['session_number'] = mdata4.apply(lambda x: x['session_number'].split(',')[0])\n",
    "mdata4.rename({'session_number':'id'})\n",
    "data_merging4 = mdata4.groupby(['id'],{'gender':gl.aggregate.SELECT_ONE('gender'), 'cg2':gl.aggregate.SELECT_ONE('cg2'),'predict_gender':gl.aggregate.AVG('predict_gender')})\n",
    "data_merging4['predict_accuracy'] = data_merging4.apply(lambda x: predict_accuracy(x))\n",
    "\n",
    "gender_uncertain4 = len(data_merging4.filter_by(-1,'predict_accuracy'))\n",
    "gender_true4 = len(data_merging4.filter_by(1,'predict_accuracy'))\n",
    "gender_false4 = len(data_merging4.filter_by(0,'predict_accuracy'))\n",
    "\n",
    "predict5 = m5.predict(group5)\n",
    "mdata5 = group5.add_column(gl.SArray(predict5))\n",
    "mdata5.rename({\"X5\":\"predict_gender\"})\n",
    "mdata5 = mdata5.sort('session_number')\n",
    "mdata5['session_number'] = mdata5.apply(lambda x: x['session_number'].split(',')[0])\n",
    "mdata5.rename({'session_number':'id'})\n",
    "data_merging5 = mdata5.groupby(['id'],{'gender':gl.aggregate.SELECT_ONE('gender'), 'cg2':gl.aggregate.SELECT_ONE('cg2'),'predict_gender':gl.aggregate.AVG('predict_gender')})\n",
    "data_merging5['predict_accuracy'] = data_merging5.apply(lambda x: predict_accuracy(x))\n",
    "\n",
    "gender_uncertain5 = len(data_merging5.filter_by(-1,'predict_accuracy'))\n",
    "gender_true5 = len(data_merging5.filter_by(1,'predict_accuracy'))\n",
    "gender_false5 = len(data_merging5.filter_by(0,'predict_accuracy'))"
   ]
  },
  {
   "cell_type": "code",
   "execution_count": 15,
   "metadata": {
    "collapsed": false
   },
   "outputs": [
    {
     "name": "stdout",
     "output_type": "stream",
     "text": [
      "0.595846645367\n",
      "0.610229606123\n",
      "0.602828030776\n",
      "0.598729906728\n",
      "0.60741301059\n"
     ]
    }
   ],
   "source": [
    "print gender_true1/float(gender_true1 + gender_uncertain1 + gender_false1)\n",
    "print gender_true2/float(gender_true2 + gender_uncertain2 + gender_false2)\n",
    "print gender_true3/float(gender_true3 + gender_uncertain3 + gender_false3)\n",
    "print gender_true4/float(gender_true4 + gender_uncertain4 + gender_false4)\n",
    "print gender_true5/float(gender_true5 + gender_uncertain5 + gender_false5)"
   ]
  },
  {
   "cell_type": "code",
   "execution_count": 16,
   "metadata": {
    "collapsed": false
   },
   "outputs": [
    {
     "name": "stdout",
     "output_type": "stream",
     "text": [
      "0.353719762665\n",
      "0.340862422998\n",
      "0.344354335621\n",
      "0.353046239333\n",
      "0.342284417549\n"
     ]
    }
   ],
   "source": [
    "print gender_false1/float(gender_true1 + gender_uncertain1 + gender_false1)\n",
    "print gender_false2/float(gender_true2 + gender_uncertain2 + gender_false2)\n",
    "print gender_false3/float(gender_true3 + gender_uncertain3 + gender_false3)\n",
    "print gender_false4/float(gender_true4 + gender_uncertain4 + gender_false4)\n",
    "print gender_false5/float(gender_true5 + gender_uncertain5 + gender_false5)"
   ]
  },
  {
   "cell_type": "code",
   "execution_count": 18,
   "metadata": {
    "collapsed": false
   },
   "outputs": [
    {
     "name": "stdout",
     "output_type": "stream",
     "text": [
      "0.0504335919671\n",
      "0.0489079708792\n",
      "0.0528176336037\n",
      "0.0482238539393\n",
      "0.0503025718608\n"
     ]
    }
   ],
   "source": [
    "print gender_uncertain1/float(gender_true1 + gender_uncertain1 + gender_false1)\n",
    "print gender_uncertain2/float(gender_true2 + gender_uncertain2 + gender_false2)\n",
    "print gender_uncertain3/float(gender_true3 + gender_uncertain3 + gender_false3)\n",
    "print gender_uncertain4/float(gender_true4 + gender_uncertain4 + gender_false4)\n",
    "print gender_uncertain5/float(gender_true5 + gender_uncertain5 + gender_false5)"
   ]
  },
  {
   "cell_type": "code",
   "execution_count": 19,
   "metadata": {
    "collapsed": false
   },
   "outputs": [
    {
     "name": "stdout",
     "output_type": "stream",
     "text": [
      "221\n",
      "262\n",
      "254\n",
      "243\n",
      "266\n"
     ]
    }
   ],
   "source": [
    "print gender_uncertain1\n",
    "print gender_uncertain2\n",
    "print gender_uncertain3\n",
    "print gender_uncertain4\n",
    "print gender_uncertain5"
   ]
  },
  {
   "cell_type": "code",
   "execution_count": 20,
   "metadata": {
    "collapsed": true
   },
   "outputs": [],
   "source": [
    "uncertain1 = data_merging1.filter_by(-1,'predict_accuracy')\n",
    "uncertain2 = data_merging2.filter_by(-1,'predict_accuracy')\n",
    "uncertain3 = data_merging3.filter_by(-1,'predict_accuracy')\n",
    "uncertain4 = data_merging4.filter_by(-1,'predict_accuracy')\n",
    "uncertain5 = data_merging5.filter_by(-1,'predict_accuracy')"
   ]
  },
  {
   "cell_type": "code",
   "execution_count": 22,
   "metadata": {
    "collapsed": false
   },
   "outputs": [],
   "source": [
    "true1 = data_merging1.filter_by(1,'predict_accuracy')\n",
    "true2 = data_merging2.filter_by(1,'predict_accuracy')\n",
    "true3 = data_merging3.filter_by(1,'predict_accuracy')\n",
    "true4 = data_merging4.filter_by(1,'predict_accuracy')\n",
    "true5 = data_merging5.filter_by(1,'predict_accuracy')\n",
    "false1 = data_merging1.filter_by(0,'predict_accuracy')\n",
    "false2 = data_merging2.filter_by(0,'predict_accuracy')\n",
    "false3 = data_merging3.filter_by(0,'predict_accuracy')\n",
    "false4 = data_merging4.filter_by(0,'predict_accuracy')\n",
    "false5 = data_merging5.filter_by(0,'predict_accuracy')"
   ]
  },
  {
   "cell_type": "code",
   "execution_count": 23,
   "metadata": {
    "collapsed": true
   },
   "outputs": [],
   "source": [
    "true = true1.append(true2).append(true3).append(true4).append(true5)\n",
    "false = false1.append(false2).append(false3).append(false4).append(false5)\n",
    "uncertain = uncertain1.append(uncertain2).append(uncertain3).append(uncertain4).append(uncertain5)"
   ]
  },
  {
   "cell_type": "code",
   "execution_count": 24,
   "metadata": {
    "collapsed": false
   },
   "outputs": [
    {
     "name": "stdout",
     "output_type": "stream",
     "text": [
      "+--------------------------+--------+----------------+\n",
      "|            id            | gender | predict_gender |\n",
      "+--------------------------+--------+----------------+\n",
      "| s8ngjR7TiQ9Nd0PVtLFiOA== |   0    |      0.0       |\n",
      "| 3C4oe7Zn5aK0kWOgscfaNA== |   1    |      1.0       |\n",
      "| c+VKciyaO4Atc9rHmkyIzg== |   0    |      0.0       |\n",
      "| 28XhBQmsrQrZr4F650OcGA== |   1    |      1.0       |\n",
      "| cqYa/cqVGXBqPn1zgkkjMw== |   1    | 0.666666666667 |\n",
      "| oUwyUs6sWoTYdQplhvjAlg== |   1    | 0.666666666667 |\n",
      "| ML6I15akB0Eq98c/o1BvYw== |   1    |      1.0       |\n",
      "| 7PDbNDPYbai9g6tRW5RlBA== |   1    |      1.0       |\n",
      "| kzLW+62J84y3XgTTp2XVOQ== |   1    |      1.0       |\n",
      "| 7SGsKwlAY8xRaV8K0exJLA== |   1    |      1.0       |\n",
      "+--------------------------+--------+----------------+\n",
      "+-------------------------------------------+------------------+\n",
      "|                    cg2                    | predict_accuracy |\n",
      "+-------------------------------------------+------------------+\n",
      "|                 [防辐射服]                |        1         |\n",
      "|                 [布艺软饰]                |        1         |\n",
      "| [厨房DIY/小工具, 厨房DIY/小工具, 厨房D... |        1         |\n",
      "|                 [浮漂鱼饵]                |        1         |\n",
      "|                 [休闲零食]                |        1         |\n",
      "|                  [运动裤]                 |        1         |\n",
      "|                [牙膏/牙粉]                |        1         |\n",
      "|                   [手机]                  |        1         |\n",
      "|                  [游戏机]                 |        1         |\n",
      "|                  [饮用水]                 |        1         |\n",
      "+-------------------------------------------+------------------+\n",
      "[15008 rows x 5 columns]\n",
      "Note: Only the head of the SFrame is printed.\n",
      "You can use print_rows(num_rows=m, num_columns=n) to print more rows and columns.\n"
     ]
    }
   ],
   "source": [
    "print true"
   ]
  },
  {
   "cell_type": "code",
   "execution_count": 25,
   "metadata": {
    "collapsed": true
   },
   "outputs": [],
   "source": [
    "num11 = true.filter_by(1, 'gender')\n",
    "num00 = true.filter_by(0, 'gender')\n",
    "num10 = false.filter_by(1, 'gender')\n",
    "num01 = false.filter_by(0, 'gender')\n",
    "num1u = uncertain.filter_by(1, 'gender')\n",
    "num0u = uncertain.filter_by(0, 'gender')"
   ]
  },
  {
   "cell_type": "code",
   "execution_count": 26,
   "metadata": {
    "collapsed": false
   },
   "outputs": [
    {
     "name": "stdout",
     "output_type": "stream",
     "text": [
      "+--------------------------+--------+----------------+\n",
      "|            id            | gender | predict_gender |\n",
      "+--------------------------+--------+----------------+\n",
      "| dvx/7qMM1H4W44f5dcItNg== |   1    |      0.0       |\n",
      "| WqAMkVL6oXemXYYAffjC9Q== |   1    |      0.0       |\n",
      "| oXDFEWGBD2QP4oVI26ECKQ== |   1    |      0.0       |\n",
      "| uwB6f5z6NLVz99AI2IzdmQ== |   1    |      0.0       |\n",
      "| g+lNU0kQUZYR6GWstt4omw== |   1    |      0.0       |\n",
      "| zO0cHGwUH0b0Qqag9IZH4A== |   1    |      0.0       |\n",
      "| Y3Sz1xjd3IQ9kUJn1Ixvyg== |   1    |      0.0       |\n",
      "| VTp+QeTxQAtL1xLaqj8K5Q== |   1    |      0.0       |\n",
      "| lDg65WNIB82AktOkZwMjkw== |   1    |      0.0       |\n",
      "| odFnz+dpvesxK6oVx44sSw== |   1    |      0.0       |\n",
      "+--------------------------+--------+----------------+\n",
      "+------------------------+------------------+\n",
      "|          cg2           | predict_accuracy |\n",
      "+------------------------+------------------+\n",
      "|        [油烟机]        |        0         |\n",
      "|        [连衣裙]        |        0         |\n",
      "|  [创意礼品, 创意礼品]  |        0         |\n",
      "|       [休闲零食]       |        0         |\n",
      "|       [智能手环]       |        0         |\n",
      "| [洗发, 洗发, 乳液面霜] |        0         |\n",
      "|    [套装, 乳液面霜]    |        0         |\n",
      "|         [空调]         |        0         |\n",
      "|       [奶瓶奶嘴]       |        0         |\n",
      "|        [连衣裙]        |        0         |\n",
      "+------------------------+------------------+\n",
      "[4552 rows x 5 columns]\n",
      "Note: Only the head of the SFrame is printed.\n",
      "You can use print_rows(num_rows=m, num_columns=n) to print more rows and columns. +--------------------------+--------+----------------+\n",
      "|            id            | gender | predict_gender |\n",
      "+--------------------------+--------+----------------+\n",
      "| 3C4oe7Zn5aK0kWOgscfaNA== |   1    |      1.0       |\n",
      "| 28XhBQmsrQrZr4F650OcGA== |   1    |      1.0       |\n",
      "| cqYa/cqVGXBqPn1zgkkjMw== |   1    | 0.666666666667 |\n",
      "| oUwyUs6sWoTYdQplhvjAlg== |   1    | 0.666666666667 |\n",
      "| ML6I15akB0Eq98c/o1BvYw== |   1    |      1.0       |\n",
      "| 7PDbNDPYbai9g6tRW5RlBA== |   1    |      1.0       |\n",
      "| kzLW+62J84y3XgTTp2XVOQ== |   1    |      1.0       |\n",
      "| 7SGsKwlAY8xRaV8K0exJLA== |   1    |      1.0       |\n",
      "| N4dN2sXGV+/InmwIOQ0bBw== |   1    |      1.0       |\n",
      "| kDxXSTeMqRC73wuLk1oMZA== |   1    |      1.0       |\n",
      "+--------------------------+--------+----------------+\n",
      "+-------------+------------------+\n",
      "|     cg2     | predict_accuracy |\n",
      "+-------------+------------------+\n",
      "|  [布艺软饰] |        1         |\n",
      "|  [浮漂鱼饵] |        1         |\n",
      "|  [休闲零食] |        1         |\n",
      "|   [运动裤]  |        1         |\n",
      "| [牙膏/牙粉] |        1         |\n",
      "|    [手机]   |        1         |\n",
      "|   [游戏机]  |        1         |\n",
      "|   [饮用水]  |        1         |\n",
      "|    [沙发]   |        1         |\n",
      "|  [手机支架] |        1         |\n",
      "+-------------+------------------+\n",
      "[9331 rows x 5 columns]\n",
      "Note: Only the head of the SFrame is printed.\n",
      "You can use print_rows(num_rows=m, num_columns=n) to print more rows and columns. +--------------------------+--------+----------------+\n",
      "|            id            | gender | predict_gender |\n",
      "+--------------------------+--------+----------------+\n",
      "| 778S78u/wCVw25TxTMAxaw== |   0    |      1.0       |\n",
      "| AcXyKAkCKFgKO4UnQuGd6Q== |   0    |      1.0       |\n",
      "| 86rUZgmljCF+Nn80YVZK5g== |   0    |      1.0       |\n",
      "| rV0G+7l8cPFK9oBOF9KR6A== |   0    |      1.0       |\n",
      "| 0NqhEu5JmOMYqzydm+RUfg== |   0    |      1.0       |\n",
      "| xzGKIWoVQ0S3sKiGXP6F7w== |   0    |      1.0       |\n",
      "| TqJaPpad2VBsBIad2HdVyQ== |   0    |      1.0       |\n",
      "| N4M+iGGYQZ1YdplEdv1KEg== |   0    |      1.0       |\n",
      "| Gfi59+e3j96C+ns+HgqRsA== |   0    |      1.0       |\n",
      "| tY6Vof9JHZipwPWXxNgNpQ== |   0    |      1.0       |\n",
      "+--------------------------+--------+----------------+\n",
      "+-------------------------------------------------+------------------+\n",
      "|                       cg2                       | predict_accuracy |\n",
      "+-------------------------------------------------+------------------+\n",
      "|                 [投影机, 投影机]                |        0         |\n",
      "|                    [儿童手表]                   |        0         |\n",
      "|                    [家用五金]                   |        0         |\n",
      "|   [办公文具, 办公文具, 文件管理, 办公文具]...   |        0         |\n",
      "| [电池/移动电源, 移动电源, 休闲棉袜, 休闲棉袜... |        0         |\n",
      "|                      [显卡]                     |        0         |\n",
      "|       [跑步鞋, 跑步鞋, 跑步鞋, 跑步鞋]...       |        0         |\n",
      "|   [按摩器, 按摩器, 按摩器, 按摩器, 按摩器]...   |        0         |\n",
      "|   [跑步鞋, 跑步鞋, 跑步鞋, 跑步鞋, 休闲鞋, ...  |        0         |\n",
      "|               [安防监控, 安防监控]              |        0         |\n",
      "+-------------------------------------------------+------------------+\n",
      "[4069 rows x 5 columns]\n",
      "Note: Only the head of the SFrame is printed.\n",
      "You can use print_rows(num_rows=m, num_columns=n) to print more rows and columns. +--------------------------+--------+-----------------+\n",
      "|            id            | gender |  predict_gender |\n",
      "+--------------------------+--------+-----------------+\n",
      "| s8ngjR7TiQ9Nd0PVtLFiOA== |   0    |       0.0       |\n",
      "| c+VKciyaO4Atc9rHmkyIzg== |   0    |       0.0       |\n",
      "| BewrNCOQIpADHEYS8NuapQ== |   0    |       0.0       |\n",
      "| hqKb84BaGgXhWupEkxJhuw== |   0    |       0.0       |\n",
      "| QJUbLjC0amktSTS/668aJg== |   0    |  0.333333333333 |\n",
      "| eMMqaeTbx187/1GdCk5slg== |   0    | 0.0666666666667 |\n",
      "| iIUCVkFG9MVwVrx5bCLHFA== |   0    |       0.0       |\n",
      "| LPGpVjEY/5HSwapwwiSelA== |   0    |       0.0       |\n",
      "| Q/2803Z8VfVUGj+uulseeQ== |   0    |       0.0       |\n",
      "| jd1TRbPcSUMRJAFcwRxltQ== |   0    |  0.285714285714 |\n",
      "+--------------------------+--------+-----------------+\n",
      "+------------------------------------------------+------------------+\n",
      "|                      cg2                       | predict_accuracy |\n",
      "+------------------------------------------------+------------------+\n",
      "|                   [防辐射服]                   |        1         |\n",
      "|   [厨房DIY/小工具, 厨房DIY/小工具, 厨房D...    |        1         |\n",
      "|              [多用途锅, 多用途锅]              |        1         |\n",
      "|                   [通俗说史]                   |        1         |\n",
      "|                     [机油]                     |        1         |\n",
      "|       [箱包, 箱包, 箱包, 箱包, 箱包]...        |        1         |\n",
      "|                     [空调]                     |        1         |\n",
      "|                    [连衣裙]                    |        1         |\n",
      "| [养生器械, 养生器械, 养生器械, 养生器械, 养... |        1         |\n",
      "|           [数据线, 充电器/数据线]...           |        1         |\n",
      "+------------------------------------------------+------------------+\n",
      "[5677 rows x 5 columns]\n",
      "Note: Only the head of the SFrame is printed.\n",
      "You can use print_rows(num_rows=m, num_columns=n) to print more rows and columns. +--------------------------+--------+----------------+\n",
      "|            id            | gender | predict_gender |\n",
      "+--------------------------+--------+----------------+\n",
      "| i4ivBgp08aLBPxZE6XzndQ== |   1    |      0.5       |\n",
      "| r01W3Eax4S1HLLDjabK3iQ== |   1    |      0.5       |\n",
      "| +RWpImsRpAOhtlSHunzvWw== |   1    |      0.5       |\n",
      "| 8V3+TOZHgnhZkJZtrxCnAw== |   1    |      0.5       |\n",
      "| 7BQFEfE4Y07BIkh2//qZEw== |   1    |      0.5       |\n",
      "| uha/8ch0nV3xqEfv8zsYvg== |   1    |      0.5       |\n",
      "| Xu68zb8XCUpQSLdDr18zQA== |   1    |      0.5       |\n",
      "| VRBuOOp24CU/5I/EIZ3JmA== |   1    |      0.5       |\n",
      "| XhaPKfX9+wtgxWanz9ltRA== |   1    |      0.5       |\n",
      "| 6UVetE0TgS/iIiZ3DeSYaQ== |   1    |      0.5       |\n",
      "+--------------------------+--------+----------------+\n",
      "+----------------------------------------------+------------------+\n",
      "|                     cg2                      | predict_accuracy |\n",
      "+----------------------------------------------+------------------+\n",
      "|                  [钓鱼配件]                  |        -1        |\n",
      "| [打底衫, T恤, 速干衣裤, 速干衣裤, 打底衫]... |        -1        |\n",
      "|                 [耳机/耳麦]                  |        -1        |\n",
      "|                    [饮料]                    |        -1        |\n",
      "|                  [情趣内衣]                  |        -1        |\n",
      "|                   [双肩包]                   |        -1        |\n",
      "|                  [电动工具]                  |        -1        |\n",
      "|         [其他中小型器材, 跑步机]...          |        -1        |\n",
      "|                   [合约机]                   |        -1        |\n",
      "|               [太阳镜/眼镜框]                |        -1        |\n",
      "+----------------------------------------------+------------------+\n",
      "[737 rows x 5 columns]\n",
      "Note: Only the head of the SFrame is printed.\n",
      "You can use print_rows(num_rows=m, num_columns=n) to print more rows and columns. +--------------------------+--------+----------------+\n",
      "|            id            | gender | predict_gender |\n",
      "+--------------------------+--------+----------------+\n",
      "| wRFl3geGNDcJ3PzdaTqCrw== |   0    |      0.5       |\n",
      "| NuzFxpOBMQhxb5UA22QWCQ== |   0    |      0.5       |\n",
      "| Z6WwlXTZi3X23h19s4qM0Q== |   0    |      0.5       |\n",
      "| aAwNKjBDV6fb1kndPGq2zw== |   0    |      0.5       |\n",
      "| Vqqy3EUcuW2YtRdt3jd3DA== |   0    |      0.5       |\n",
      "| 1iIEQERW12UrSzPGaNn+CA== |   0    |      0.5       |\n",
      "| rvtzxpFYnRora/S42fBg7A== |   0    |      0.5       |\n",
      "| 4faSlvMxTPpjj+Ll0iAVBQ== |   0    |      0.5       |\n",
      "| DwQ8LP1oW/oGnOufVQJM5A== |   0    |      0.5       |\n",
      "| wdVYCT2vlh0h8Hn4aao/ow== |   0    |      0.5       |\n",
      "+--------------------------+--------+----------------+\n",
      "+-------------------------------------------------+------------------+\n",
      "|                       cg2                       | predict_accuracy |\n",
      "+-------------------------------------------------+------------------+\n",
      "|     [电烤箱, 男式内裤, 电烤箱, 洗发沐浴]...     |        -1        |\n",
      "|                      [衬衫]                     |        -1        |\n",
      "|  [电池/充电器, 电池/充电器, 电池/充电器, 电...  |        -1        |\n",
      "|        [多用途锅, 多用途锅, 多用途锅]...        |        -1        |\n",
      "| [图形图像/视频, 图形图像/多媒体, 乐器教材/曲... |        -1        |\n",
      "|        [饼干蛋糕, 饼干蛋糕, 饼干蛋糕]...        |        -1        |\n",
      "|                    [鱼竿鱼线]                   |        -1        |\n",
      "|                     [煮蛋器]                    |        -1        |\n",
      "|                  [平板电脑配件]                 |        -1        |\n",
      "|           [香水, 香水, 香水, 轮胎]...           |        -1        |\n",
      "+-------------------------------------------------+------------------+\n",
      "[509 rows x 5 columns]\n",
      "Note: Only the head of the SFrame is printed.\n",
      "You can use print_rows(num_rows=m, num_columns=n) to print more rows and columns.\n"
     ]
    }
   ],
   "source": [
    "print len(num10), len(num11), num01, num00, num1u, num0u"
   ]
  },
  {
   "cell_type": "code",
   "execution_count": null,
   "metadata": {
    "collapsed": true
   },
   "outputs": [],
   "source": []
  }
 ],
 "metadata": {
  "kernelspec": {
   "display_name": "Python 2",
   "language": "python",
   "name": "python2"
  },
  "language_info": {
   "codemirror_mode": {
    "name": "ipython",
    "version": 2
   },
   "file_extension": ".py",
   "mimetype": "text/x-python",
   "name": "python",
   "nbconvert_exporter": "python",
   "pygments_lexer": "ipython2",
   "version": "2.7.11"
  }
 },
 "nbformat": 4,
 "nbformat_minor": 0
}
