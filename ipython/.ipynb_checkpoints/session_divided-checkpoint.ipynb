{
 "cells": [
  {
   "cell_type": "markdown",
   "metadata": {},
   "source": [
    "# 新疆数据session划分测试代码"
   ]
  },
  {
   "cell_type": "code",
   "execution_count": 1,
   "metadata": {
    "collapsed": false
   },
   "outputs": [
    {
     "name": "stdout",
     "output_type": "stream",
     "text": [
      "Using matplotlib backend: Qt4Agg\n",
      "Populating the interactive namespace from numpy and matplotlib\n"
     ]
    }
   ],
   "source": [
    "%pylab\n",
    "import graphlab as gl"
   ]
  },
  {
   "cell_type": "code",
   "execution_count": 2,
   "metadata": {
    "collapsed": false,
    "scrolled": false
   },
   "outputs": [
    {
     "name": "stderr",
     "output_type": "stream",
     "text": [
      "[INFO] graphlab.cython.cy_server: GraphLab Create v2.1 started. Logging: C:\\Users\\Jully\\AppData\\Local\\Temp\\graphlab_server_1477226834.log.0\n"
     ]
    },
    {
     "name": "stdout",
     "output_type": "stream",
     "text": [
      "This non-commercial license of GraphLab Create for academic use is assigned to qyr16@mails.tsinghua.edu.cn and will expire on September 05, 2017.\n"
     ]
    },
    {
     "data": {
      "text/html": [
       "<pre>Read 267705 lines. Lines per second: 170396</pre>"
      ],
      "text/plain": [
       "Read 267705 lines. Lines per second: 170396"
      ]
     },
     "metadata": {},
     "output_type": "display_data"
    },
    {
     "data": {
      "text/html": [
       "<pre>Finished parsing file E:\\Datasets\\xjall.csv</pre>"
      ],
      "text/plain": [
       "Finished parsing file E:\\Datasets\\xjall.csv"
      ]
     },
     "metadata": {},
     "output_type": "display_data"
    },
    {
     "data": {
      "text/html": [
       "<pre>Parsing completed. Parsed 300668 lines in 1.6508 secs.</pre>"
      ],
      "text/plain": [
       "Parsing completed. Parsed 300668 lines in 1.6508 secs."
      ]
     },
     "metadata": {},
     "output_type": "display_data"
    }
   ],
   "source": [
    "data = gl.SFrame.read_csv(r'E:\\Datasets\\xjall.csv', delimiter = ',', header = False, column_type_hints=[str, str, str, str, str, str, str, str, str])"
   ]
  },
  {
   "cell_type": "code",
   "execution_count": 3,
   "metadata": {
    "collapsed": false
   },
   "outputs": [],
   "source": [
    "data = data.rename({\"X1\":\"id\",\n",
    "                    \"X2\":\"gender\",\n",
    "                    \"X3\":\"cg0\",\n",
    "                    \"X4\":\"cg1\",\n",
    "                    \"X5\":\"cg2\",\n",
    "                    \"X6\":\"brand\",\n",
    "                    \"X7\":\"item\",\n",
    "                    \"X8\":\"itemid\",\n",
    "                    \"X9\": \"time\"})"
   ]
  },
  {
   "cell_type": "code",
   "execution_count": 4,
   "metadata": {
    "collapsed": false
   },
   "outputs": [],
   "source": [
    "import time\n",
    "data['time'] = data.apply(lambda x: int(time.mktime(time.strptime(x['time'], '%Y%m%d%H%M%S'))))"
   ]
  },
  {
   "cell_type": "code",
   "execution_count": 5,
   "metadata": {
    "collapsed": false
   },
   "outputs": [
    {
     "name": "stdout",
     "output_type": "stream",
     "text": [
      "+--------------------------+--------+----------+----------+----------+\n",
      "|            id            | gender |   cg0    |   cg1    |   cg2    |\n",
      "+--------------------------+--------+----------+----------+----------+\n",
      "| +RksI+72TbsI7WvZRZOlYg== |   女   | 运动户外 | 户外装备 | 旅游用品 |\n",
      "| +RksI+72TbsI7WvZRZOlYg== |   女   | 运动户外 | 户外装备 | 旅游用品 |\n",
      "| +RksI+72TbsI7WvZRZOlYg== |   女   | 运动户外 | 户外装备 | 旅游用品 |\n",
      "| Yi3d96tY77cyecVuAEk+zg== |   女   | 礼品箱包 |   礼品   | 创意礼品 |\n",
      "| 0YdfEzfFiH9i2mxoFKDsoQ== |   男   | 营养保健 | 保健器械 | 家庭护理 |\n",
      "| laSqof95cojO8xpUCotOrQ== |   女   | 运动户外 | 运动服饰 | 运动背心 |\n",
      "| laSqof95cojO8xpUCotOrQ== |   女   | 运动户外 | 运动服饰 | 运动背心 |\n",
      "| QUdgPFq/c/II2Ci/9aIxMg== |   女   | 宠物生活 | 家居日用 | 水族世界 |\n",
      "| QUdgPFq/c/II2Ci/9aIxMg== |   女   | 宠物生活 | 家居日用 | 水族世界 |\n",
      "| NK4SLyPvxO/3kNV7wkzD7Q== |   男   |   鞋靴   | 流行男鞋 |  休闲鞋  |\n",
      "+--------------------------+--------+----------+----------+----------+\n",
      "+----------------------+---------------------------------------------------------+\n",
      "|        brand         |                           item                          |\n",
      "+----------------------+---------------------------------------------------------+\n",
      "|       HINCLOUD       | 欣云新品旅行出差必备双层内衣物收纳袋旅游可折叠裤子整... |\n",
      "|       HINCLOUD       | 欣云新品旅行出差必备双层内衣物收纳袋旅游可折叠裤子整... |\n",
      "|       HINCLOUD       | 欣云新品旅行出差必备双层内衣物收纳袋旅游可折叠裤子整... |\n",
      "|       afrocat        |     Afrocat 迷你洗衣机带甩干脱水婴儿童宝宝家用宿...     |\n",
      "|        安瑞普        |          观片灯箱 阅片灯 医用检查灯 双联LED...          |\n",
      "|     耐克（NIKE）     |      Nike耐克2016年夏季新款男子无袖针织篮球背心 ...     |\n",
      "|     耐克（NIKE）     |      Nike耐克2016年夏季新款男子无袖针织篮球背心 ...     |\n",
      "|    NATURAL COLOR     |         NATURAL COLOR 活体水草斗鱼专用包装 活...        |\n",
      "|    NATURAL COLOR     |         NATURAL COLOR 活体水草斗鱼专用包装 活...        |\n",
      "| 威劳丹思（VILLDACI） |    威劳丹思 2016春秋季新款男鞋子男士运动休闲鞋韩版...   |\n",
      "+----------------------+---------------------------------------------------------+\n",
      "+-------------+------------+\n",
      "|    itemid   |    time    |\n",
      "+-------------+------------+\n",
      "|  1354428422 | 1464194073 |\n",
      "|  1354428422 | 1464194073 |\n",
      "|  1354428422 | 1464194073 |\n",
      "| 10283616106 | 1464057138 |\n",
      "| 10283436996 | 1464160077 |\n",
      "| 10283435868 | 1464167582 |\n",
      "| 10283435866 | 1464168232 |\n",
      "| 10282832176 | 1464105755 |\n",
      "| 10282832176 | 1464105753 |\n",
      "|  1807548856 | 1464161899 |\n",
      "+-------------+------------+\n",
      "[300668 rows x 9 columns]\n",
      "Note: Only the head of the SFrame is printed.\n",
      "You can use print_rows(num_rows=m, num_columns=n) to print more rows and columns.\n"
     ]
    }
   ],
   "source": [
    "print data"
   ]
  },
  {
   "cell_type": "code",
   "execution_count": 6,
   "metadata": {
    "collapsed": false
   },
   "outputs": [
    {
     "name": "stdout",
     "output_type": "stream",
     "text": [
      "+-------------------+------------+----------+---------------+--------+\n",
      "|       brand       |    cg0     |   cg1    |      cg2      | gender |\n",
      "+-------------------+------------+----------+---------------+--------+\n",
      "|        IWAN       |  玩具乐器  | 积木拼插 |      积木     |   1    |\n",
      "|        木轩       |  家装建材  | 装饰材料 |    园艺休闲   |   1    |\n",
      "|        伴君       |  汽车用品  | 汽车装饰 |    功能小件   |   1    |\n",
      "| 罗西尼（ROSSINI） |    钟表    |   钟表   |      女表     |   1    |\n",
      "|  探路者（TOREAD） |  运动户外  | 户外装备 |    户外配饰   |   -1   |\n",
      "|  康巴丝（Compas） |    钟表    |   钟表   |    座钟挂钟   |   1    |\n",
      "|       百颐年      |  食品饮料  | 饮料冲调 |    冲饮谷物   |   1    |\n",
      "|  亚瑟士（asics）  |  运动户外  | 运动鞋包 |     跑步鞋    |   -1   |\n",
      "|    戴尔（DELL）   | 电脑、办公 | 电脑整机 | 服务器/工作站 |   -1   |\n",
      "|  尊首（ZUNSHOU）  |  服饰内衣  |   男装   |    仿皮皮衣   |   1    |\n",
      "+-------------------+------------+----------+---------------+--------+\n",
      "+--------------------------+--------------------------------------------------------+\n",
      "|            id            |                          item                          |\n",
      "+--------------------------+--------------------------------------------------------+\n",
      "| OjiLC5NLwFGrEnfbBQ789Q== | 磁力片 积木拼插带磁性魔磁智慧片磁力棒建构片儿童启蒙... |\n",
      "| 85oawqGNO4iLqehXiE+ljg== |  木轩 绿萝吊兰花卉 防辐射植物 办公室内除甲醛盆栽 ...   |\n",
      "| yqRbOAl6skLD71cKlCZgEg== |  伴君 车用儿童安全带调节器 三明治安全带三角固定器 ...  |\n",
      "| wiAV8dC1OGzqT9rqRycV9w== |     罗西尼(ROSSINI)手表 雅尊商务系列不锈钢石英...      |\n",
      "| z4DUi0dXMtvvY/FaGHNjPg== |     探路者（TOREAD）男女户外休闲防晒速干帽 TEL...      |\n",
      "| Yhv+vG5oUiCQr8o7qFzkWg== |     康巴丝（COMPAS）闹钟LED创意静音声控夜光电子...     |\n",
      "| HtibG9X2qCwoazVqewN+Qg== |   百颐年葛根木瓜魔芋粉木瓜粉葛根粉野生葛粉代餐粉...    |\n",
      "| it6pNunVQPJkVZQR34/w7w== |         亚瑟士ASICS新款路跑鞋男GEL-NIMBUS17...         |\n",
      "| PY4CwQObaAZLXF86vNebNg== |           戴尔 DELL T430服务器 (E5-2609V3...           |\n",
      "| atuWEneDBEgFlRbnnV2MuA== |   尊首 2016春秋新装韩版修身男士多拉链翻领开衫机车...   |\n",
      "+--------------------------+--------------------------------------------------------+\n",
      "+-------------+------------+\n",
      "|    itemid   |    time    |\n",
      "+-------------+------------+\n",
      "|  1434550387 | 1464158376 |\n",
      "|  1501733327 | 1463763602 |\n",
      "|  1591608524 | 1464054048 |\n",
      "|    763822   | 1464252324 |\n",
      "|  1412598977 | 1463828531 |\n",
      "| 10339514271 | 1464000372 |\n",
      "|  1376719831 | 1463889002 |\n",
      "| 10148785424 | 1463901041 |\n",
      "|   1728978   | 1464159327 |\n",
      "|  1391792216 | 1464177286 |\n",
      "+-------------+------------+\n",
      "[226040 rows x 9 columns]\n",
      "Note: Only the head of the SFrame is printed.\n",
      "You can use print_rows(num_rows=m, num_columns=n) to print more rows and columns.\n"
     ]
    }
   ],
   "source": [
    "data = data.unique()\n",
    "\n",
    "#男性用户性别标签为1，女性为0,未知为-1\n",
    "def gender_label(x):\n",
    "    if x == '男':\n",
    "        return str(1)\n",
    "    if x == '女':\n",
    "        return str(0)\n",
    "    else:\n",
    "        return str(-1)\n",
    "data['gender'] = data.apply(lambda x: gender_label(x['gender']))\n",
    "print data"
   ]
  },
  {
   "cell_type": "code",
   "execution_count": 7,
   "metadata": {
    "collapsed": false
   },
   "outputs": [
    {
     "name": "stdout",
     "output_type": "stream",
     "text": [
      "+-------------------+----------+----------+-------------+--------+\n",
      "|       brand       |   cg0    |   cg1    |     cg2     | gender |\n",
      "+-------------------+----------+----------+-------------+--------+\n",
      "|        IWAN       | 玩具乐器 | 积木拼插 |     积木    |   1    |\n",
      "|        木轩       | 家装建材 | 装饰材料 |   园艺休闲  |   1    |\n",
      "|        伴君       | 汽车用品 | 汽车装饰 |   功能小件  |   1    |\n",
      "| 罗西尼（ROSSINI） |   钟表   |   钟表   |     女表    |   1    |\n",
      "|  康巴丝（Compas） |   钟表   |   钟表   |   座钟挂钟  |   1    |\n",
      "|       百颐年      | 食品饮料 | 饮料冲调 |   冲饮谷物  |   1    |\n",
      "|  尊首（ZUNSHOU）  | 服饰内衣 |   男装   |   仿皮皮衣  |   1    |\n",
      "|       361度       | 运动户外 | 运动服饰 | 卫衣/套头衫 |   0    |\n",
      "|       爱肤宜      | 个护化妆 | 面部护肤 |   乳液面霜  |   1    |\n",
      "|       金火把      | 礼品箱包 |   礼品   |   创意礼品  |   1    |\n",
      "+-------------------+----------+----------+-------------+--------+\n",
      "+--------------------------+--------------------------------------------------------+\n",
      "|            id            |                          item                          |\n",
      "+--------------------------+--------------------------------------------------------+\n",
      "| OjiLC5NLwFGrEnfbBQ789Q== | 磁力片 积木拼插带磁性魔磁智慧片磁力棒建构片儿童启蒙... |\n",
      "| 85oawqGNO4iLqehXiE+ljg== |  木轩 绿萝吊兰花卉 防辐射植物 办公室内除甲醛盆栽 ...   |\n",
      "| yqRbOAl6skLD71cKlCZgEg== |  伴君 车用儿童安全带调节器 三明治安全带三角固定器 ...  |\n",
      "| wiAV8dC1OGzqT9rqRycV9w== |     罗西尼(ROSSINI)手表 雅尊商务系列不锈钢石英...      |\n",
      "| Yhv+vG5oUiCQr8o7qFzkWg== |     康巴丝（COMPAS）闹钟LED创意静音声控夜光电子...     |\n",
      "| HtibG9X2qCwoazVqewN+Qg== |   百颐年葛根木瓜魔芋粉木瓜粉葛根粉野生葛粉代餐粉...    |\n",
      "| atuWEneDBEgFlRbnnV2MuA== |   尊首 2016春秋新装韩版修身男士多拉链翻领开衫机车...   |\n",
      "| RF2sNiGrICbdraLkN6R3fg== |    361度男装运动外套秋季款361男篮球上衣开襟卫衣I...    |\n",
      "| JbanP6melU7hJ2DciFm2eQ== |  爱肤宜 祛斑霜套装 去斑霜祛黑斑黄斑色斑 保湿补水润...  |\n",
      "| G0UHc8M6xS2YWLKWnpd2uQ== | 金火把 田园生活喝茶老公婆摆件创意家居饰品送父母朋友... |\n",
      "+--------------------------+--------------------------------------------------------+\n",
      "+-------------+------------+\n",
      "|    itemid   |    time    |\n",
      "+-------------+------------+\n",
      "|  1434550387 | 1464158376 |\n",
      "|  1501733327 | 1463763602 |\n",
      "|  1591608524 | 1464054048 |\n",
      "|    763822   | 1464252324 |\n",
      "| 10339514271 | 1464000372 |\n",
      "|  1376719831 | 1463889002 |\n",
      "|  1391792216 | 1464177286 |\n",
      "|  1644276700 | 1464275023 |\n",
      "|  1703467478 | 1463934250 |\n",
      "|   2068070   | 1463820323 |\n",
      "+-------------+------------+\n",
      "[194389 rows x 9 columns]\n",
      "Note: Only the head of the SFrame is printed.\n",
      "You can use print_rows(num_rows=m, num_columns=n) to print more rows and columns.\n"
     ]
    }
   ],
   "source": [
    "#滤除性别未知的用户使用记录\n",
    "gender = ['1', '0']\n",
    "data = data.filter_by(gender, 'gender')\n",
    "print data"
   ]
  },
  {
   "cell_type": "code",
   "execution_count": 8,
   "metadata": {
    "collapsed": false
   },
   "outputs": [
    {
     "name": "stdout",
     "output_type": "stream",
     "text": [
      "++3KTqmRLXVM9sBLE7fmvQ==\n"
     ]
    }
   ],
   "source": [
    "#按照id升序排列\n",
    "data = data.sort('id')\n",
    "m = data[0]\n",
    "print m['id']"
   ]
  },
  {
   "cell_type": "code",
   "execution_count": null,
   "metadata": {
    "collapsed": false
   },
   "outputs": [],
   "source": [
    "#对数据进行切片：tg>20min & the same ct1  || tg<20min\n",
    "global session_count\n",
    "session_count = 0\n",
    "basic_id = data[0]['id']\n",
    "m = []#use this list to store id+session_number    \n",
    "for i in xrange(len(data)-1):\n",
    "    global session_count\n",
    "    global basic_id\n",
    "    if data[i]['id'] == data[i + 1]['id']:\n",
    "        time_be = int(data[i]['time'])\n",
    "        time_now = int(data[i+1]['time'])\n",
    "        timegap = abs(time_be - time_now)\n",
    "        if timegap > 1200:    #20min\n",
    "            cg1_be = data[i]['cg1']\n",
    "            cg1_now = data[i+1]['cg1']\n",
    "#            if cg1_be == cg1_now:\n",
    "#                m.append(basic_id + ',' + str(session_count))\n",
    "#            else:\n",
    "#                m.append(basic_id + ',' + str(session_count))\n",
    "#                session_count = session_count + 1\n",
    "        else:\n",
    "            m.append(basic_id + ',' + str(session_count))\n",
    "    else:\n",
    "        session_count = session_count + 1\n",
    "        m.append(basic_id + ',' + str(session_count - 1))\n",
    "        basic_id = data[i + 1]['id']\n",
    "m.append(basic_id + ',' + str(session_count))\n",
    "print m"
   ]
  },
  {
   "cell_type": "code",
   "execution_count": 13,
   "metadata": {
    "collapsed": false
   },
   "outputs": [
    {
     "data": {
      "text/html": [
       "<div style=\"max-height:1000px;max-width:1500px;overflow:auto;\"><table frame=\"box\" rules=\"cols\">\n",
       "    <tr>\n",
       "        <th style=\"padding-left: 1em; padding-right: 1em; text-align: center\">brand</th>\n",
       "        <th style=\"padding-left: 1em; padding-right: 1em; text-align: center\">cg0</th>\n",
       "        <th style=\"padding-left: 1em; padding-right: 1em; text-align: center\">cg1</th>\n",
       "        <th style=\"padding-left: 1em; padding-right: 1em; text-align: center\">cg2</th>\n",
       "        <th style=\"padding-left: 1em; padding-right: 1em; text-align: center\">gender</th>\n",
       "        <th style=\"padding-left: 1em; padding-right: 1em; text-align: center\">id</th>\n",
       "        <th style=\"padding-left: 1em; padding-right: 1em; text-align: center\">item</th>\n",
       "    </tr>\n",
       "    <tr>\n",
       "        <td style=\"padding-left: 1em; padding-right: 1em; text-align: center; vertical-align: top\">索扬（SUOYANG）</td>\n",
       "        <td style=\"padding-left: 1em; padding-right: 1em; text-align: center; vertical-align: top\">数码</td>\n",
       "        <td style=\"padding-left: 1em; padding-right: 1em; text-align: center; vertical-align: top\">数码配件</td>\n",
       "        <td style=\"padding-left: 1em; padding-right: 1em; text-align: center; vertical-align: top\">移动电源</td>\n",
       "        <td style=\"padding-left: 1em; padding-right: 1em; text-align: center; vertical-align: top\">1</td>\n",
       "        <td style=\"padding-left: 1em; padding-right: 1em; text-align: center; vertical-align: top\">++3KTqmRLXVM9sBLE7fmvQ==</td>\n",
       "        <td style=\"padding-left: 1em; padding-right: 1em; text-align: center; vertical-align: top\">索扬20000m毫安<br>移动电源/充电宝 � ...</td>\n",
       "    </tr>\n",
       "    <tr>\n",
       "        <td style=\"padding-left: 1em; padding-right: 1em; text-align: center; vertical-align: top\">索扬（SUOYANG）</td>\n",
       "        <td style=\"padding-left: 1em; padding-right: 1em; text-align: center; vertical-align: top\">数码</td>\n",
       "        <td style=\"padding-left: 1em; padding-right: 1em; text-align: center; vertical-align: top\">数码配件</td>\n",
       "        <td style=\"padding-left: 1em; padding-right: 1em; text-align: center; vertical-align: top\">移动电源</td>\n",
       "        <td style=\"padding-left: 1em; padding-right: 1em; text-align: center; vertical-align: top\">1</td>\n",
       "        <td style=\"padding-left: 1em; padding-right: 1em; text-align: center; vertical-align: top\">++3KTqmRLXVM9sBLE7fmvQ==</td>\n",
       "        <td style=\"padding-left: 1em; padding-right: 1em; text-align: center; vertical-align: top\">索扬20000m毫安<br>移动电源/充电宝 � ...</td>\n",
       "    </tr>\n",
       "    <tr>\n",
       "        <td style=\"padding-left: 1em; padding-right: 1em; text-align: center; vertical-align: top\">小米（MI）</td>\n",
       "        <td style=\"padding-left: 1em; padding-right: 1em; text-align: center; vertical-align: top\">手机</td>\n",
       "        <td style=\"padding-left: 1em; padding-right: 1em; text-align: center; vertical-align: top\">手机通讯</td>\n",
       "        <td style=\"padding-left: 1em; padding-right: 1em; text-align: center; vertical-align: top\">手机</td>\n",
       "        <td style=\"padding-left: 1em; padding-right: 1em; text-align: center; vertical-align: top\">1</td>\n",
       "        <td style=\"padding-left: 1em; padding-right: 1em; text-align: center; vertical-align: top\">++3KTqmRLXX1jLjd2w9LVg==</td>\n",
       "        <td style=\"padding-left: 1em; padding-right: 1em; text-align: center; vertical-align: top\">小米 Max 全网通<br>高配版 3GB内存 64GB ...</td>\n",
       "    </tr>\n",
       "    <tr>\n",
       "        <td style=\"padding-left: 1em; padding-right: 1em; text-align: center; vertical-align: top\">美的（Midea）</td>\n",
       "        <td style=\"padding-left: 1em; padding-right: 1em; text-align: center; vertical-align: top\">家用电器</td>\n",
       "        <td style=\"padding-left: 1em; padding-right: 1em; text-align: center; vertical-align: top\">厨卫大电</td>\n",
       "        <td style=\"padding-left: 1em; padding-right: 1em; text-align: center; vertical-align: top\">洗碗机</td>\n",
       "        <td style=\"padding-left: 1em; padding-right: 1em; text-align: center; vertical-align: top\">1</td>\n",
       "        <td style=\"padding-left: 1em; padding-right: 1em; text-align: center; vertical-align: top\">++3KTqmRLXX1jLjd2w9LVg==</td>\n",
       "        <td style=\"padding-left: 1em; padding-right: 1em; text-align: center; vertical-align: top\">美的(Midea)<br>WQP8-3801-CN ...</td>\n",
       "    </tr>\n",
       "    <tr>\n",
       "        <td style=\"padding-left: 1em; padding-right: 1em; text-align: center; vertical-align: top\">美的（Midea）</td>\n",
       "        <td style=\"padding-left: 1em; padding-right: 1em; text-align: center; vertical-align: top\">家用电器</td>\n",
       "        <td style=\"padding-left: 1em; padding-right: 1em; text-align: center; vertical-align: top\">厨卫大电</td>\n",
       "        <td style=\"padding-left: 1em; padding-right: 1em; text-align: center; vertical-align: top\">洗碗机</td>\n",
       "        <td style=\"padding-left: 1em; padding-right: 1em; text-align: center; vertical-align: top\">1</td>\n",
       "        <td style=\"padding-left: 1em; padding-right: 1em; text-align: center; vertical-align: top\">++3KTqmRLXX1jLjd2w9LVg==</td>\n",
       "        <td style=\"padding-left: 1em; padding-right: 1em; text-align: center; vertical-align: top\">美的(Midea) WQP6-3206A<br>嵌入式/台式两用 ...</td>\n",
       "    </tr>\n",
       "    <tr>\n",
       "        <td style=\"padding-left: 1em; padding-right: 1em; text-align: center; vertical-align: top\">美的（Midea）</td>\n",
       "        <td style=\"padding-left: 1em; padding-right: 1em; text-align: center; vertical-align: top\">家用电器</td>\n",
       "        <td style=\"padding-left: 1em; padding-right: 1em; text-align: center; vertical-align: top\">厨卫大电</td>\n",
       "        <td style=\"padding-left: 1em; padding-right: 1em; text-align: center; vertical-align: top\">洗碗机</td>\n",
       "        <td style=\"padding-left: 1em; padding-right: 1em; text-align: center; vertical-align: top\">1</td>\n",
       "        <td style=\"padding-left: 1em; padding-right: 1em; text-align: center; vertical-align: top\">++3KTqmRLXX1jLjd2w9LVg==</td>\n",
       "        <td style=\"padding-left: 1em; padding-right: 1em; text-align: center; vertical-align: top\">美的(Midea) WQP6-3206A<br>嵌入式/台式两用 ...</td>\n",
       "    </tr>\n",
       "    <tr>\n",
       "        <td style=\"padding-left: 1em; padding-right: 1em; text-align: center; vertical-align: top\">美的（Midea）</td>\n",
       "        <td style=\"padding-left: 1em; padding-right: 1em; text-align: center; vertical-align: top\">家用电器</td>\n",
       "        <td style=\"padding-left: 1em; padding-right: 1em; text-align: center; vertical-align: top\">厨卫大电</td>\n",
       "        <td style=\"padding-left: 1em; padding-right: 1em; text-align: center; vertical-align: top\">洗碗机</td>\n",
       "        <td style=\"padding-left: 1em; padding-right: 1em; text-align: center; vertical-align: top\">1</td>\n",
       "        <td style=\"padding-left: 1em; padding-right: 1em; text-align: center; vertical-align: top\">++3KTqmRLXX1jLjd2w9LVg==</td>\n",
       "        <td style=\"padding-left: 1em; padding-right: 1em; text-align: center; vertical-align: top\">美的(Midea) WQP6-3206A<br>嵌入式/台式两用 ...</td>\n",
       "    </tr>\n",
       "    <tr>\n",
       "        <td style=\"padding-left: 1em; padding-right: 1em; text-align: center; vertical-align: top\">美的（Midea）</td>\n",
       "        <td style=\"padding-left: 1em; padding-right: 1em; text-align: center; vertical-align: top\">家用电器</td>\n",
       "        <td style=\"padding-left: 1em; padding-right: 1em; text-align: center; vertical-align: top\">厨卫大电</td>\n",
       "        <td style=\"padding-left: 1em; padding-right: 1em; text-align: center; vertical-align: top\">消毒柜</td>\n",
       "        <td style=\"padding-left: 1em; padding-right: 1em; text-align: center; vertical-align: top\">1</td>\n",
       "        <td style=\"padding-left: 1em; padding-right: 1em; text-align: center; vertical-align: top\">++3KTqmRLXX1jLjd2w9LVg==</td>\n",
       "        <td style=\"padding-left: 1em; padding-right: 1em; text-align: center; vertical-align: top\">美的(Midea) MXV-<br>ZLP100Q35 二星级 100� ...</td>\n",
       "    </tr>\n",
       "    <tr>\n",
       "        <td style=\"padding-left: 1em; padding-right: 1em; text-align: center; vertical-align: top\">美的（Midea）</td>\n",
       "        <td style=\"padding-left: 1em; padding-right: 1em; text-align: center; vertical-align: top\">家用电器</td>\n",
       "        <td style=\"padding-left: 1em; padding-right: 1em; text-align: center; vertical-align: top\">厨卫大电</td>\n",
       "        <td style=\"padding-left: 1em; padding-right: 1em; text-align: center; vertical-align: top\">洗碗机</td>\n",
       "        <td style=\"padding-left: 1em; padding-right: 1em; text-align: center; vertical-align: top\">1</td>\n",
       "        <td style=\"padding-left: 1em; padding-right: 1em; text-align: center; vertical-align: top\">++3KTqmRLXX1jLjd2w9LVg==</td>\n",
       "        <td style=\"padding-left: 1em; padding-right: 1em; text-align: center; vertical-align: top\">美的(Midea) WQP6-3206A<br>嵌入式/台式两用 ...</td>\n",
       "    </tr>\n",
       "    <tr>\n",
       "        <td style=\"padding-left: 1em; padding-right: 1em; text-align: center; vertical-align: top\">美的（Midea）</td>\n",
       "        <td style=\"padding-left: 1em; padding-right: 1em; text-align: center; vertical-align: top\">家用电器</td>\n",
       "        <td style=\"padding-left: 1em; padding-right: 1em; text-align: center; vertical-align: top\">厨卫大电</td>\n",
       "        <td style=\"padding-left: 1em; padding-right: 1em; text-align: center; vertical-align: top\">消毒柜</td>\n",
       "        <td style=\"padding-left: 1em; padding-right: 1em; text-align: center; vertical-align: top\">1</td>\n",
       "        <td style=\"padding-left: 1em; padding-right: 1em; text-align: center; vertical-align: top\">++3KTqmRLXX1jLjd2w9LVg==</td>\n",
       "        <td style=\"padding-left: 1em; padding-right: 1em; text-align: center; vertical-align: top\">美的(Midea) AG925BMH-NS<br>家用纳米银内胆 ...</td>\n",
       "    </tr>\n",
       "</table>\n",
       "<table frame=\"box\" rules=\"cols\">\n",
       "    <tr>\n",
       "        <th style=\"padding-left: 1em; padding-right: 1em; text-align: center\">itemid</th>\n",
       "        <th style=\"padding-left: 1em; padding-right: 1em; text-align: center\">time</th>\n",
       "        <th style=\"padding-left: 1em; padding-right: 1em; text-align: center\">session_number</th>\n",
       "    </tr>\n",
       "    <tr>\n",
       "        <td style=\"padding-left: 1em; padding-right: 1em; text-align: center; vertical-align: top\">1745940402</td>\n",
       "        <td style=\"padding-left: 1em; padding-right: 1em; text-align: center; vertical-align: top\">1464101204</td>\n",
       "        <td style=\"padding-left: 1em; padding-right: 1em; text-align: center; vertical-align: top\">++3KTqmRLXVM9sBLE7fmvQ==,<br>0 ...</td>\n",
       "    </tr>\n",
       "    <tr>\n",
       "        <td style=\"padding-left: 1em; padding-right: 1em; text-align: center; vertical-align: top\">1745940402</td>\n",
       "        <td style=\"padding-left: 1em; padding-right: 1em; text-align: center; vertical-align: top\">1464101218</td>\n",
       "        <td style=\"padding-left: 1em; padding-right: 1em; text-align: center; vertical-align: top\">++3KTqmRLXVM9sBLE7fmvQ==,<br>0 ...</td>\n",
       "    </tr>\n",
       "    <tr>\n",
       "        <td style=\"padding-left: 1em; padding-right: 1em; text-align: center; vertical-align: top\">2897526</td>\n",
       "        <td style=\"padding-left: 1em; padding-right: 1em; text-align: center; vertical-align: top\">1464139077</td>\n",
       "        <td style=\"padding-left: 1em; padding-right: 1em; text-align: center; vertical-align: top\">++3KTqmRLXX1jLjd2w9LVg==,<br>1 ...</td>\n",
       "    </tr>\n",
       "    <tr>\n",
       "        <td style=\"padding-left: 1em; padding-right: 1em; text-align: center; vertical-align: top\">2511669</td>\n",
       "        <td style=\"padding-left: 1em; padding-right: 1em; text-align: center; vertical-align: top\">1464001605</td>\n",
       "        <td style=\"padding-left: 1em; padding-right: 1em; text-align: center; vertical-align: top\">++3KTqmRLXX1jLjd2w9LVg==,<br>2 ...</td>\n",
       "    </tr>\n",
       "    <tr>\n",
       "        <td style=\"padding-left: 1em; padding-right: 1em; text-align: center; vertical-align: top\">1179165056</td>\n",
       "        <td style=\"padding-left: 1em; padding-right: 1em; text-align: center; vertical-align: top\">1464001363</td>\n",
       "        <td style=\"padding-left: 1em; padding-right: 1em; text-align: center; vertical-align: top\">++3KTqmRLXX1jLjd2w9LVg==,<br>2 ...</td>\n",
       "    </tr>\n",
       "    <tr>\n",
       "        <td style=\"padding-left: 1em; padding-right: 1em; text-align: center; vertical-align: top\">1179165056</td>\n",
       "        <td style=\"padding-left: 1em; padding-right: 1em; text-align: center; vertical-align: top\">1464001954</td>\n",
       "        <td style=\"padding-left: 1em; padding-right: 1em; text-align: center; vertical-align: top\">++3KTqmRLXX1jLjd2w9LVg==,<br>2 ...</td>\n",
       "    </tr>\n",
       "    <tr>\n",
       "        <td style=\"padding-left: 1em; padding-right: 1em; text-align: center; vertical-align: top\">1179165056</td>\n",
       "        <td style=\"padding-left: 1em; padding-right: 1em; text-align: center; vertical-align: top\">1464138441</td>\n",
       "        <td style=\"padding-left: 1em; padding-right: 1em; text-align: center; vertical-align: top\">++3KTqmRLXX1jLjd2w9LVg==,<br>2 ...</td>\n",
       "    </tr>\n",
       "    <tr>\n",
       "        <td style=\"padding-left: 1em; padding-right: 1em; text-align: center; vertical-align: top\">1275364950</td>\n",
       "        <td style=\"padding-left: 1em; padding-right: 1em; text-align: center; vertical-align: top\">1464001466</td>\n",
       "        <td style=\"padding-left: 1em; padding-right: 1em; text-align: center; vertical-align: top\">++3KTqmRLXX1jLjd2w9LVg==,<br>2 ...</td>\n",
       "    </tr>\n",
       "    <tr>\n",
       "        <td style=\"padding-left: 1em; padding-right: 1em; text-align: center; vertical-align: top\">1179165056</td>\n",
       "        <td style=\"padding-left: 1em; padding-right: 1em; text-align: center; vertical-align: top\">1464001894</td>\n",
       "        <td style=\"padding-left: 1em; padding-right: 1em; text-align: center; vertical-align: top\">++3KTqmRLXX1jLjd2w9LVg==,<br>2 ...</td>\n",
       "    </tr>\n",
       "    <tr>\n",
       "        <td style=\"padding-left: 1em; padding-right: 1em; text-align: center; vertical-align: top\">1251353</td>\n",
       "        <td style=\"padding-left: 1em; padding-right: 1em; text-align: center; vertical-align: top\">1464001438</td>\n",
       "        <td style=\"padding-left: 1em; padding-right: 1em; text-align: center; vertical-align: top\">++3KTqmRLXX1jLjd2w9LVg==,<br>2 ...</td>\n",
       "    </tr>\n",
       "</table>\n",
       "[194389 rows x 10 columns]<br/>Note: Only the head of the SFrame is printed.<br/>You can use print_rows(num_rows=m, num_columns=n) to print more rows and columns.\n",
       "</div>"
      ],
      "text/plain": [
       "Columns:\n",
       "\tbrand\tstr\n",
       "\tcg0\tstr\n",
       "\tcg1\tstr\n",
       "\tcg2\tstr\n",
       "\tgender\tstr\n",
       "\tid\tstr\n",
       "\titem\tstr\n",
       "\titemid\tstr\n",
       "\ttime\tint\n",
       "\tsession_number\tstr\n",
       "\n",
       "Rows: 194389\n",
       "\n",
       "Data:\n",
       "+-----------------+----------+----------+----------+--------+\n",
       "|      brand      |   cg0    |   cg1    |   cg2    | gender |\n",
       "+-----------------+----------+----------+----------+--------+\n",
       "| 索扬（SUOYANG） |   数码   | 数码配件 | 移动电源 |   1    |\n",
       "| 索扬（SUOYANG） |   数码   | 数码配件 | 移动电源 |   1    |\n",
       "|    小米（MI）   |   手机   | 手机通讯 |   手机   |   1    |\n",
       "|  美的（Midea）  | 家用电器 | 厨卫大电 |  洗碗机  |   1    |\n",
       "|  美的（Midea）  | 家用电器 | 厨卫大电 |  洗碗机  |   1    |\n",
       "|  美的（Midea）  | 家用电器 | 厨卫大电 |  洗碗机  |   1    |\n",
       "|  美的（Midea）  | 家用电器 | 厨卫大电 |  洗碗机  |   1    |\n",
       "|  美的（Midea）  | 家用电器 | 厨卫大电 |  消毒柜  |   1    |\n",
       "|  美的（Midea）  | 家用电器 | 厨卫大电 |  洗碗机  |   1    |\n",
       "|  美的（Midea）  | 家用电器 | 厨卫大电 |  消毒柜  |   1    |\n",
       "+-----------------+----------+----------+----------+--------+\n",
       "+--------------------------+------------------------------------------------+\n",
       "|            id            |                      item                      |\n",
       "+--------------------------+------------------------------------------------+\n",
       "| ++3KTqmRLXVM9sBLE7fmvQ== | 索扬20000m毫安 移动电源/充电宝 手机平板通用... |\n",
       "| ++3KTqmRLXVM9sBLE7fmvQ== | 索扬20000m毫安 移动电源/充电宝 手机平板通用... |\n",
       "| ++3KTqmRLXX1jLjd2w9LVg== |    小米 Max 全网通 高配版 3GB内存 64GB ...     |\n",
       "| ++3KTqmRLXX1jLjd2w9LVg== |       美的(Midea) WQP8-3801-CN 嵌入式...       |\n",
       "| ++3KTqmRLXX1jLjd2w9LVg== |      美的(Midea) WQP6-3206A 嵌入式/台...       |\n",
       "| ++3KTqmRLXX1jLjd2w9LVg== |      美的(Midea) WQP6-3206A 嵌入式/台...       |\n",
       "| ++3KTqmRLXX1jLjd2w9LVg== |      美的(Midea) WQP6-3206A 嵌入式/台...       |\n",
       "| ++3KTqmRLXX1jLjd2w9LVg== |       美的(Midea) MXV-ZLP100Q35 二星...        |\n",
       "| ++3KTqmRLXX1jLjd2w9LVg== |      美的(Midea) WQP6-3206A 嵌入式/台...       |\n",
       "| ++3KTqmRLXX1jLjd2w9LVg== |      美的(Midea) AG925BMH-NS 家用纳米...       |\n",
       "+--------------------------+------------------------------------------------+\n",
       "+------------+------------+----------------------------+\n",
       "|   itemid   |    time    |       session_number       |\n",
       "+------------+------------+----------------------------+\n",
       "| 1745940402 | 1464101204 | ++3KTqmRLXVM9sBLE7fmvQ==,0 |\n",
       "| 1745940402 | 1464101218 | ++3KTqmRLXVM9sBLE7fmvQ==,0 |\n",
       "|  2897526   | 1464139077 | ++3KTqmRLXX1jLjd2w9LVg==,1 |\n",
       "|  2511669   | 1464001605 | ++3KTqmRLXX1jLjd2w9LVg==,2 |\n",
       "| 1179165056 | 1464001363 | ++3KTqmRLXX1jLjd2w9LVg==,2 |\n",
       "| 1179165056 | 1464001954 | ++3KTqmRLXX1jLjd2w9LVg==,2 |\n",
       "| 1179165056 | 1464138441 | ++3KTqmRLXX1jLjd2w9LVg==,2 |\n",
       "| 1275364950 | 1464001466 | ++3KTqmRLXX1jLjd2w9LVg==,2 |\n",
       "| 1179165056 | 1464001894 | ++3KTqmRLXX1jLjd2w9LVg==,2 |\n",
       "|  1251353   | 1464001438 | ++3KTqmRLXX1jLjd2w9LVg==,2 |\n",
       "+------------+------------+----------------------------+\n",
       "[194389 rows x 10 columns]\n",
       "Note: Only the head of the SFrame is printed.\n",
       "You can use print_rows(num_rows=m, num_columns=n) to print more rows and columns."
      ]
     },
     "execution_count": 13,
     "metadata": {},
     "output_type": "execute_result"
    }
   ],
   "source": [
    "#add column session_number\n",
    "session_number = gl.SArray(m)\n",
    "data.add_column(session_number, 'session_number')"
   ]
  },
  {
   "cell_type": "code",
   "execution_count": 14,
   "metadata": {
    "collapsed": true
   },
   "outputs": [],
   "source": [
    "data.save(r'D:\\Datasets\\training_data.csv', format='csv')"
   ]
  },
  {
   "cell_type": "code",
   "execution_count": 21,
   "metadata": {
    "collapsed": false
   },
   "outputs": [
    {
     "name": "stdout",
     "output_type": "stream",
     "text": [
      "Canvas is accessible via web browser at the URL: http://localhost:58985/index.html\n",
      "Opening Canvas in default web browser.\n"
     ]
    }
   ],
   "source": [
    "data.show()"
   ]
  },
  {
   "cell_type": "markdown",
   "metadata": {},
   "source": [
    "# 原始数据：共300668条记录\n",
    "\n",
    "# 滤除未知性别和重复记录之后：共194389条记录，其中男145420，女48969\n",
    "\n",
    "# 分段后：共有85767个session\n"
   ]
  },
  {
   "cell_type": "code",
   "execution_count": 1,
   "metadata": {
    "collapsed": false
   },
   "outputs": [
    {
     "name": "stdout",
     "output_type": "stream",
     "text": [
      "Using matplotlib backend: Qt4Agg\n",
      "Populating the interactive namespace from numpy and matplotlib\n"
     ]
    },
    {
     "name": "stderr",
     "output_type": "stream",
     "text": [
      "[INFO] graphlab.cython.cy_server: GraphLab Create v2.1 started. Logging: C:\\Users\\Jelly\\AppData\\Local\\Temp\\graphlab_server_1475221550.log.0\n"
     ]
    },
    {
     "name": "stdout",
     "output_type": "stream",
     "text": [
      "This non-commercial license of GraphLab Create for academic use is assigned to qyr16@mails.tsinghua.edu.cn and will expire on September 05, 2017.\n"
     ]
    },
    {
     "data": {
      "text/html": [
       "<pre>Finished parsing file D:\\Datasets\\training_data.csv</pre>"
      ],
      "text/plain": [
       "Finished parsing file D:\\Datasets\\training_data.csv"
      ]
     },
     "metadata": {},
     "output_type": "display_data"
    },
    {
     "data": {
      "text/html": [
       "<pre>Parsing completed. Parsed 194389 lines in 0.728218 secs.</pre>"
      ],
      "text/plain": [
       "Parsing completed. Parsed 194389 lines in 0.728218 secs."
      ]
     },
     "metadata": {},
     "output_type": "display_data"
    },
    {
     "name": "stdout",
     "output_type": "stream",
     "text": [
      "+-----------------+----------+----------+----------+--------+\n",
      "|      brand      |   cg0    |   cg1    |   cg2    | gender |\n",
      "+-----------------+----------+----------+----------+--------+\n",
      "| 索扬（SUOYANG） |   数码   | 数码配件 | 移动电源 |   1    |\n",
      "| 索扬（SUOYANG） |   数码   | 数码配件 | 移动电源 |   1    |\n",
      "|    小米（MI）   |   手机   | 手机通讯 |   手机   |   1    |\n",
      "|  美的（Midea）  | 家用电器 | 厨卫大电 |  洗碗机  |   1    |\n",
      "|  美的（Midea）  | 家用电器 | 厨卫大电 |  洗碗机  |   1    |\n",
      "|  美的（Midea）  | 家用电器 | 厨卫大电 |  洗碗机  |   1    |\n",
      "|  美的（Midea）  | 家用电器 | 厨卫大电 |  洗碗机  |   1    |\n",
      "|  美的（Midea）  | 家用电器 | 厨卫大电 |  消毒柜  |   1    |\n",
      "|  美的（Midea）  | 家用电器 | 厨卫大电 |  洗碗机  |   1    |\n",
      "|  美的（Midea）  | 家用电器 | 厨卫大电 |  消毒柜  |   1    |\n",
      "+-----------------+----------+----------+----------+--------+\n",
      "+--------------------------+------------------------------------------------+\n",
      "|            id            |                      item                      |\n",
      "+--------------------------+------------------------------------------------+\n",
      "| ++3KTqmRLXVM9sBLE7fmvQ== | 索扬20000m毫安 移动电源/充电宝 手机平板通用... |\n",
      "| ++3KTqmRLXVM9sBLE7fmvQ== | 索扬20000m毫安 移动电源/充电宝 手机平板通用... |\n",
      "| ++3KTqmRLXX1jLjd2w9LVg== |    小米 Max 全网通 高配版 3GB内存 64GB ...     |\n",
      "| ++3KTqmRLXX1jLjd2w9LVg== |       美的(Midea) WQP8-3801-CN 嵌入式...       |\n",
      "| ++3KTqmRLXX1jLjd2w9LVg== |      美的(Midea) WQP6-3206A 嵌入式/台...       |\n",
      "| ++3KTqmRLXX1jLjd2w9LVg== |      美的(Midea) WQP6-3206A 嵌入式/台...       |\n",
      "| ++3KTqmRLXX1jLjd2w9LVg== |      美的(Midea) WQP6-3206A 嵌入式/台...       |\n",
      "| ++3KTqmRLXX1jLjd2w9LVg== |       美的(Midea) MXV-ZLP100Q35 二星...        |\n",
      "| ++3KTqmRLXX1jLjd2w9LVg== |      美的(Midea) WQP6-3206A 嵌入式/台...       |\n",
      "| ++3KTqmRLXX1jLjd2w9LVg== |      美的(Midea) AG925BMH-NS 家用纳米...       |\n",
      "+--------------------------+------------------------------------------------+\n",
      "+------------+------------+----------------------------+\n",
      "|   itemid   |    time    |       session_number       |\n",
      "+------------+------------+----------------------------+\n",
      "| 1745940402 | 1464101204 | ++3KTqmRLXVM9sBLE7fmvQ==,0 |\n",
      "| 1745940402 | 1464101218 | ++3KTqmRLXVM9sBLE7fmvQ==,0 |\n",
      "|  2897526   | 1464139077 | ++3KTqmRLXX1jLjd2w9LVg==,1 |\n",
      "|  2511669   | 1464001605 | ++3KTqmRLXX1jLjd2w9LVg==,2 |\n",
      "| 1179165056 | 1464001363 | ++3KTqmRLXX1jLjd2w9LVg==,2 |\n",
      "| 1179165056 | 1464001954 | ++3KTqmRLXX1jLjd2w9LVg==,2 |\n",
      "| 1179165056 | 1464138441 | ++3KTqmRLXX1jLjd2w9LVg==,2 |\n",
      "| 1275364950 | 1464001466 | ++3KTqmRLXX1jLjd2w9LVg==,2 |\n",
      "| 1179165056 | 1464001894 | ++3KTqmRLXX1jLjd2w9LVg==,2 |\n",
      "|  1251353   | 1464001438 | ++3KTqmRLXX1jLjd2w9LVg==,2 |\n",
      "+------------+------------+----------------------------+\n",
      "[? rows x 10 columns]\n",
      "Note: Only the head of the SFrame is printed. This SFrame is lazily evaluated.\n",
      "You can use sf.materialize() to force materialization.\n"
     ]
    }
   ],
   "source": [
    "%pylab\n",
    "import graphlab as gl\n",
    "data = gl.SFrame.read_csv(r'D:\\Datasets\\training_data.csv', delimiter = ',', column_type_hints=[str, str, str, str, str, str, str, str, int, str])\n",
    "data = data[data['cg2'] !='-1']\n",
    "print data"
   ]
  },
  {
   "cell_type": "code",
   "execution_count": 2,
   "metadata": {
    "collapsed": true
   },
   "outputs": [],
   "source": [
    "data.save(r'D:\\Datasets\\training1.csv', format='csv')"
   ]
  },
  {
   "cell_type": "markdown",
   "metadata": {},
   "source": [
    "## 滤除cg2 = -1的记录之后，还剩189962条记录"
   ]
  },
  {
   "cell_type": "code",
   "execution_count": 3,
   "metadata": {
    "collapsed": false
   },
   "outputs": [
    {
     "data": {
      "text/html": [
       "<pre>Finished parsing file D:\\Datasets\\dict.csv</pre>"
      ],
      "text/plain": [
       "Finished parsing file D:\\Datasets\\dict.csv"
      ]
     },
     "metadata": {},
     "output_type": "display_data"
    },
    {
     "data": {
      "text/html": [
       "<pre>Parsing completed. Parsed 1779 lines in 0.019554 secs.</pre>"
      ],
      "text/plain": [
       "Parsing completed. Parsed 1779 lines in 0.019554 secs."
      ]
     },
     "metadata": {},
     "output_type": "display_data"
    }
   ],
   "source": [
    "dictionary = gl.SFrame.read_csv(r'D:\\Datasets\\dict.csv', header = False, delimiter = '\\t', column_type_hints = [str, str, str])"
   ]
  },
  {
   "cell_type": "code",
   "execution_count": 4,
   "metadata": {
    "collapsed": false
   },
   "outputs": [
    {
     "name": "stdout",
     "output_type": "stream",
     "text": [
      "+----------+----------+------------+\n",
      "|    X1    |    X2    |     X3     |\n",
      "+----------+----------+------------+\n",
      "|   手机   | 手机通讯 |    手机    |\n",
      "| 服饰内衣 |   男装   |   牛仔裤   |\n",
      "| 服饰内衣 |   男装   |   休闲裤   |\n",
      "| 汽车用品 | 维修保养 |    雨刷    |\n",
      "|   厨具   | 刀剪菜板 |    菜刀    |\n",
      "|   厨具   | 刀剪菜板 |  刀具套装  |\n",
      "|   家具   | 客厅家具 |    沙发    |\n",
      "| 家用电器 | 大 家 电 |    冰箱    |\n",
      "| 个护化妆 | 面部护肤 |  防晒隔离  |\n",
      "| 汽车用品 | 车载电器 | 安全预警仪 |\n",
      "+----------+----------+------------+\n",
      "[1779 rows x 3 columns]\n",
      "Note: Only the head of the SFrame is printed.\n",
      "You can use print_rows(num_rows=m, num_columns=n) to print more rows and columns.\n"
     ]
    }
   ],
   "source": [
    "print dictionary"
   ]
  },
  {
   "cell_type": "code",
   "execution_count": 5,
   "metadata": {
    "collapsed": false
   },
   "outputs": [
    {
     "name": "stdout",
     "output_type": "stream",
     "text": [
      "+----------+----------+------------+-------+\n",
      "|    X1    |    X2    |     X3     | index |\n",
      "+----------+----------+------------+-------+\n",
      "|   手机   | 手机通讯 |    手机    |   1   |\n",
      "| 服饰内衣 |   男装   |   牛仔裤   |   2   |\n",
      "| 服饰内衣 |   男装   |   休闲裤   |   3   |\n",
      "| 汽车用品 | 维修保养 |    雨刷    |   4   |\n",
      "|   厨具   | 刀剪菜板 |    菜刀    |   5   |\n",
      "|   厨具   | 刀剪菜板 |  刀具套装  |   6   |\n",
      "|   家具   | 客厅家具 |    沙发    |   7   |\n",
      "| 家用电器 | 大 家 电 |    冰箱    |   8   |\n",
      "| 个护化妆 | 面部护肤 |  防晒隔离  |   9   |\n",
      "| 汽车用品 | 车载电器 | 安全预警仪 |   10  |\n",
      "+----------+----------+------------+-------+\n",
      "[1779 rows x 4 columns]\n",
      "Note: Only the head of the SFrame is printed.\n",
      "You can use print_rows(num_rows=m, num_columns=n) to print more rows and columns.\n"
     ]
    }
   ],
   "source": [
    "#convert string to integer\n",
    "import string\n",
    "dict_num = []\n",
    "for i in xrange(len(dictionary)):\n",
    "    dict_num.append(i + 1)\n",
    "index = gl.SArray(dict_num)\n",
    "dictionary.add_column(index, 'index')\n",
    "print dictionary"
   ]
  },
  {
   "cell_type": "code",
   "execution_count": 6,
   "metadata": {
    "collapsed": true
   },
   "outputs": [],
   "source": [
    "dictionary.rename({\"X1\":'cg0',\n",
    "                    \"X2\":'cg1',\n",
    "                    \"X3\": 'cg2'})\n",
    "record_with_index = data.join(dictionary, how = 'inner')"
   ]
  },
  {
   "cell_type": "code",
   "execution_count": 7,
   "metadata": {
    "collapsed": false
   },
   "outputs": [
    {
     "name": "stdout",
     "output_type": "stream",
     "text": [
      "+-----------------+----------+----------+----------+--------+\n",
      "|      brand      |   cg0    |   cg1    |   cg2    | gender |\n",
      "+-----------------+----------+----------+----------+--------+\n",
      "| 索扬（SUOYANG） |   数码   | 数码配件 | 移动电源 |   1    |\n",
      "| 索扬（SUOYANG） |   数码   | 数码配件 | 移动电源 |   1    |\n",
      "|    小米（MI）   |   手机   | 手机通讯 |   手机   |   1    |\n",
      "|  美的（Midea）  | 家用电器 | 厨卫大电 |  洗碗机  |   1    |\n",
      "|  美的（Midea）  | 家用电器 | 厨卫大电 |  洗碗机  |   1    |\n",
      "|  美的（Midea）  | 家用电器 | 厨卫大电 |  洗碗机  |   1    |\n",
      "|  美的（Midea）  | 家用电器 | 厨卫大电 |  洗碗机  |   1    |\n",
      "|  美的（Midea）  | 家用电器 | 厨卫大电 |  消毒柜  |   1    |\n",
      "|  美的（Midea）  | 家用电器 | 厨卫大电 |  洗碗机  |   1    |\n",
      "|  美的（Midea）  | 家用电器 | 厨卫大电 |  消毒柜  |   1    |\n",
      "+-----------------+----------+----------+----------+--------+\n",
      "+--------------------------+------------------------------------------------+\n",
      "|            id            |                      item                      |\n",
      "+--------------------------+------------------------------------------------+\n",
      "| ++3KTqmRLXVM9sBLE7fmvQ== | 索扬20000m毫安 移动电源/充电宝 手机平板通用... |\n",
      "| ++3KTqmRLXVM9sBLE7fmvQ== | 索扬20000m毫安 移动电源/充电宝 手机平板通用... |\n",
      "| ++3KTqmRLXX1jLjd2w9LVg== |    小米 Max 全网通 高配版 3GB内存 64GB ...     |\n",
      "| ++3KTqmRLXX1jLjd2w9LVg== |       美的(Midea) WQP8-3801-CN 嵌入式...       |\n",
      "| ++3KTqmRLXX1jLjd2w9LVg== |      美的(Midea) WQP6-3206A 嵌入式/台...       |\n",
      "| ++3KTqmRLXX1jLjd2w9LVg== |      美的(Midea) WQP6-3206A 嵌入式/台...       |\n",
      "| ++3KTqmRLXX1jLjd2w9LVg== |      美的(Midea) WQP6-3206A 嵌入式/台...       |\n",
      "| ++3KTqmRLXX1jLjd2w9LVg== |       美的(Midea) MXV-ZLP100Q35 二星...        |\n",
      "| ++3KTqmRLXX1jLjd2w9LVg== |      美的(Midea) WQP6-3206A 嵌入式/台...       |\n",
      "| ++3KTqmRLXX1jLjd2w9LVg== |      美的(Midea) AG925BMH-NS 家用纳米...       |\n",
      "+--------------------------+------------------------------------------------+\n",
      "+------------+------------+----------------------------+-------+\n",
      "|   itemid   |    time    |       session_number       | index |\n",
      "+------------+------------+----------------------------+-------+\n",
      "| 1745940402 | 1464101204 | ++3KTqmRLXVM9sBLE7fmvQ==,0 |  335  |\n",
      "| 1745940402 | 1464101218 | ++3KTqmRLXVM9sBLE7fmvQ==,0 |  335  |\n",
      "|  2897526   | 1464139077 | ++3KTqmRLXX1jLjd2w9LVg==,1 |   1   |\n",
      "|  2511669   | 1464001605 | ++3KTqmRLXX1jLjd2w9LVg==,2 |  356  |\n",
      "| 1179165056 | 1464001363 | ++3KTqmRLXX1jLjd2w9LVg==,2 |  356  |\n",
      "| 1179165056 | 1464001954 | ++3KTqmRLXX1jLjd2w9LVg==,2 |  356  |\n",
      "| 1179165056 | 1464138441 | ++3KTqmRLXX1jLjd2w9LVg==,2 |  356  |\n",
      "| 1275364950 | 1464001466 | ++3KTqmRLXX1jLjd2w9LVg==,2 |  357  |\n",
      "| 1179165056 | 1464001894 | ++3KTqmRLXX1jLjd2w9LVg==,2 |  356  |\n",
      "|  1251353   | 1464001438 | ++3KTqmRLXX1jLjd2w9LVg==,2 |  357  |\n",
      "+------------+------------+----------------------------+-------+\n",
      "[189765 rows x 11 columns]\n",
      "Note: Only the head of the SFrame is printed.\n",
      "You can use print_rows(num_rows=m, num_columns=n) to print more rows and columns.\n"
     ]
    }
   ],
   "source": [
    "print record_with_index"
   ]
  },
  {
   "cell_type": "markdown",
   "metadata": {},
   "source": [
    "# 两个SFrame join 之后，剩余189765条记录，损失了200+，没有进一步处理。\n",
    "## 此时的用户数为83672"
   ]
  },
  {
   "cell_type": "code",
   "execution_count": 8,
   "metadata": {
    "collapsed": true
   },
   "outputs": [],
   "source": [
    "record_with_index.save(r\"D:\\Datasets\\record_with_index.csv\", format = 'csv')\n",
    "dictionary.save(r'D:\\Datasets\\dictionary_with_index.csv', format = 'csv')"
   ]
  },
  {
   "cell_type": "code",
   "execution_count": 9,
   "metadata": {
    "collapsed": false
   },
   "outputs": [
    {
     "name": "stdout",
     "output_type": "stream",
     "text": [
      "+----------------------------+-------+\n",
      "|       session_number       | index |\n",
      "+----------------------------+-------+\n",
      "| ++3KTqmRLXVM9sBLE7fmvQ==,0 |  335  |\n",
      "| ++3KTqmRLXVM9sBLE7fmvQ==,0 |  335  |\n",
      "| ++3KTqmRLXX1jLjd2w9LVg==,1 |   1   |\n",
      "| ++3KTqmRLXX1jLjd2w9LVg==,2 |  356  |\n",
      "| ++3KTqmRLXX1jLjd2w9LVg==,2 |  356  |\n",
      "| ++3KTqmRLXX1jLjd2w9LVg==,2 |  356  |\n",
      "| ++3KTqmRLXX1jLjd2w9LVg==,2 |  356  |\n",
      "| ++3KTqmRLXX1jLjd2w9LVg==,2 |  357  |\n",
      "| ++3KTqmRLXX1jLjd2w9LVg==,2 |  356  |\n",
      "| ++3KTqmRLXX1jLjd2w9LVg==,2 |  357  |\n",
      "+----------------------------+-------+\n",
      "[189765 rows x 2 columns]\n",
      "Note: Only the head of the SFrame is printed.\n",
      "You can use print_rows(num_rows=m, num_columns=n) to print more rows and columns.\n"
     ]
    }
   ],
   "source": [
    "user = record_with_index['session_number']\n",
    "user_session_list = gl.SFrame(user)\n",
    "user_session_list.save(r'D:\\Datasets\\user_session_list.csv', format = 'csv')\n",
    "user_index = record_with_index['session_number'], record_with_index['index']\n",
    "user_index0 = gl.SFrame(user_index)\n",
    "user_index0.rename({\"X1\":'session_number', \"X2\":'index'})\n",
    "print user_index0"
   ]
  },
  {
   "cell_type": "code",
   "execution_count": 11,
   "metadata": {
    "collapsed": false
   },
   "outputs": [
    {
     "name": "stdout",
     "output_type": "stream",
     "text": [
      "+-------+--------------------------------+\n",
      "| index |         session_number         |\n",
      "+-------+--------------------------------+\n",
      "|  248  | nKxiXxKy3Kjf0ABLFTUu+g==,68430 |\n",
      "|  767  | Y1DRCz6M3zUWqpH04piEEA==,47477 |\n",
      "|  206  | ToTRvYcAWwZjGquiG7mMKg==,42648 |\n",
      "|  509  | ftAB81G2UVbDEN1DjcpgoA==,57957 |\n",
      "|   1   | 42VPXvhW5orGDcPs2mOnRg==,8225  |\n",
      "|  158  | nW4pkf/kvrEuZpN+hxMnbw==,68636 |\n",
      "|  122  | KX5KsDgPEzzx97KEcANi9Q==,29968 |\n",
      "|  154  | DIUokqPGRimFWLioPnycQA==,20788 |\n",
      "|  278  | oaBVqn7IZ+cxNZe6b/yI5Q==,69959 |\n",
      "|  950  | i4ivBgp08aLBPxZE6XzndQ==,60933 |\n",
      "+-------+--------------------------------+\n",
      "[105552 rows x 2 columns]\n",
      "Note: Only the head of the SFrame is printed.\n",
      "You can use print_rows(num_rows=m, num_columns=n) to print more rows and columns.\n"
     ]
    }
   ],
   "source": [
    "user_index0.save(r'D:\\Datasets\\user_recordIndex.csv', format='csv')\n",
    "user_index0 = user_index0.unique()\n",
    "print user_index0"
   ]
  },
  {
   "cell_type": "code",
   "execution_count": 14,
   "metadata": {
    "collapsed": false
   },
   "outputs": [],
   "source": [
    "user_index0 = user_index0.sort('session_number')"
   ]
  },
  {
   "cell_type": "code",
   "execution_count": 15,
   "metadata": {
    "collapsed": false
   },
   "outputs": [
    {
     "name": "stdout",
     "output_type": "stream",
     "text": [
      "+-------+----------------------------+\n",
      "| index |       session_number       |\n",
      "+-------+----------------------------+\n",
      "|  335  | ++3KTqmRLXVM9sBLE7fmvQ==,0 |\n",
      "|   1   | ++3KTqmRLXX1jLjd2w9LVg==,1 |\n",
      "|  356  | ++3KTqmRLXX1jLjd2w9LVg==,2 |\n",
      "|  357  | ++3KTqmRLXX1jLjd2w9LVg==,2 |\n",
      "|   21  | ++plFFZ3+6of69kHF7zRyQ==,3 |\n",
      "|   66  | ++plFFZ3+6of69kHF7zRyQ==,3 |\n",
      "|  358  | ++plFFZ3+6oxYpQzwr0fkw==,4 |\n",
      "|  201  | ++plFFZ3+6pacNW6yzrcYA==,5 |\n",
      "|  262  | ++plFFZ3+6q9yH2+yVrYXQ==,6 |\n",
      "|   8   | ++plFFZ3+6r3c+ioqbH+1w==,7 |\n",
      "+-------+----------------------------+\n",
      "[105552 rows x 2 columns]\n",
      "Note: Only the head of the SFrame is printed.\n",
      "You can use print_rows(num_rows=m, num_columns=n) to print more rows and columns.\n"
     ]
    }
   ],
   "source": [
    "print user_index0"
   ]
  },
  {
   "cell_type": "code",
   "execution_count": 16,
   "metadata": {
    "collapsed": true
   },
   "outputs": [],
   "source": [
    "user_index0.save(r'D:\\Datasets\\user_unique_recordIndex.csv', format='csv')"
   ]
  },
  {
   "cell_type": "markdown",
   "metadata": {},
   "source": [
    "# 鉴于自己的无脑，最后来一串严肃的文档内容说明备忘\n",
    "好吧，文档实在太冗杂了。\n",
    "## training1.csv-----------滤除cg3=-1 和未知性别，划分玩session的数据。由于最开始划分的session，因而session可能有断档。（比如说session12 对应的商品三级目录均为-1，则session12缺失）\n",
    "\n",
    "## dictionary_with_index 是学长的dict加了数字编号\n",
    "\n",
    "## record_with_index 是所有的用户浏览记录、session_number和商品index的合集\n",
    "\n",
    "## user_recordIndex 是全部记录的session_number和index的合集\n",
    "## user_unique_recordIndex 是去重复后的session_number和商品Index的合集\n",
    "\n",
    "## user_session_list是unique的session_number，与user_unique_recordIndex对齐"
   ]
  },
  {
   "cell_type": "code",
   "execution_count": 2,
   "metadata": {
    "collapsed": false
   },
   "outputs": [
    {
     "name": "stdout",
     "output_type": "stream",
     "text": [
      "Using matplotlib backend: Qt4Agg\n",
      "Populating the interactive namespace from numpy and matplotlib\n"
     ]
    },
    {
     "name": "stderr",
     "output_type": "stream",
     "text": [
      "[INFO] graphlab.cython.cy_server: GraphLab Create v2.1 started. Logging: C:\\Users\\Jelly\\AppData\\Local\\Temp\\graphlab_server_1475224513.log.0\n"
     ]
    },
    {
     "name": "stdout",
     "output_type": "stream",
     "text": [
      "This non-commercial license of GraphLab Create for academic use is assigned to qyr16@mails.tsinghua.edu.cn and will expire on September 05, 2017.\n"
     ]
    },
    {
     "data": {
      "text/html": [
       "<pre>Finished parsing file D:\\Datasets\\xinjiang\\session_gain\\user_session_list.csv</pre>"
      ],
      "text/plain": [
       "Finished parsing file D:\\Datasets\\xinjiang\\session_gain\\user_session_list.csv"
      ]
     },
     "metadata": {},
     "output_type": "display_data"
    },
    {
     "data": {
      "text/html": [
       "<pre>Parsing completed. Parsed 83672 lines in 0.080826 secs.</pre>"
      ],
      "text/plain": [
       "Parsing completed. Parsed 83672 lines in 0.080826 secs."
      ]
     },
     "metadata": {},
     "output_type": "display_data"
    }
   ],
   "source": [
    "%pylab\n",
    "import graphlab as gl\n",
    "matrix_initial = gl.SFrame.read_csv(r'D:\\Datasets\\xinjiang\\session_gain\\user_session_list.csv', header = True, delimiter = ',', column_type_hints = [str])"
   ]
  },
  {
   "cell_type": "code",
   "execution_count": 3,
   "metadata": {
    "collapsed": false
   },
   "outputs": [
    {
     "data": {
      "text/html": [
       "<div style=\"max-height:1000px;max-width:1500px;overflow:auto;\"><table frame=\"box\" rules=\"cols\">\n",
       "    <tr>\n",
       "        <th style=\"padding-left: 1em; padding-right: 1em; text-align: center\">X1</th>\n",
       "        <th style=\"padding-left: 1em; padding-right: 1em; text-align: center\">X2</th>\n",
       "    </tr>\n",
       "    <tr>\n",
       "        <td style=\"padding-left: 1em; padding-right: 1em; text-align: center; vertical-align: top\">++3KTqmRLXVM9sBLE7fmvQ==,<br>0 ...</td>\n",
       "        <td style=\"padding-left: 1em; padding-right: 1em; text-align: center; vertical-align: top\">1</td>\n",
       "    </tr>\n",
       "    <tr>\n",
       "        <td style=\"padding-left: 1em; padding-right: 1em; text-align: center; vertical-align: top\">++3KTqmRLXX1jLjd2w9LVg==,<br>1 ...</td>\n",
       "        <td style=\"padding-left: 1em; padding-right: 1em; text-align: center; vertical-align: top\">2</td>\n",
       "    </tr>\n",
       "    <tr>\n",
       "        <td style=\"padding-left: 1em; padding-right: 1em; text-align: center; vertical-align: top\">++3KTqmRLXX1jLjd2w9LVg==,<br>2 ...</td>\n",
       "        <td style=\"padding-left: 1em; padding-right: 1em; text-align: center; vertical-align: top\">3</td>\n",
       "    </tr>\n",
       "    <tr>\n",
       "        <td style=\"padding-left: 1em; padding-right: 1em; text-align: center; vertical-align: top\">++plFFZ3+6of69kHF7zRyQ==,<br>3 ...</td>\n",
       "        <td style=\"padding-left: 1em; padding-right: 1em; text-align: center; vertical-align: top\">4</td>\n",
       "    </tr>\n",
       "    <tr>\n",
       "        <td style=\"padding-left: 1em; padding-right: 1em; text-align: center; vertical-align: top\">++plFFZ3+6oxYpQzwr0fkw==,<br>4 ...</td>\n",
       "        <td style=\"padding-left: 1em; padding-right: 1em; text-align: center; vertical-align: top\">5</td>\n",
       "    </tr>\n",
       "    <tr>\n",
       "        <td style=\"padding-left: 1em; padding-right: 1em; text-align: center; vertical-align: top\">++plFFZ3+6pacNW6yzrcYA==,<br>5 ...</td>\n",
       "        <td style=\"padding-left: 1em; padding-right: 1em; text-align: center; vertical-align: top\">6</td>\n",
       "    </tr>\n",
       "    <tr>\n",
       "        <td style=\"padding-left: 1em; padding-right: 1em; text-align: center; vertical-align: top\">++plFFZ3+6q9yH2+yVrYXQ==,<br>6 ...</td>\n",
       "        <td style=\"padding-left: 1em; padding-right: 1em; text-align: center; vertical-align: top\">7</td>\n",
       "    </tr>\n",
       "    <tr>\n",
       "        <td style=\"padding-left: 1em; padding-right: 1em; text-align: center; vertical-align: top\">++plFFZ3+6r3c+ioqbH+1w==,<br>7 ...</td>\n",
       "        <td style=\"padding-left: 1em; padding-right: 1em; text-align: center; vertical-align: top\">8</td>\n",
       "    </tr>\n",
       "    <tr>\n",
       "        <td style=\"padding-left: 1em; padding-right: 1em; text-align: center; vertical-align: top\">++plFFZ3+6rSQtAMHZckRg==,<br>8 ...</td>\n",
       "        <td style=\"padding-left: 1em; padding-right: 1em; text-align: center; vertical-align: top\">9</td>\n",
       "    </tr>\n",
       "    <tr>\n",
       "        <td style=\"padding-left: 1em; padding-right: 1em; text-align: center; vertical-align: top\">++plFFZ3+6rkF0lvUWVzyg==,<br>9 ...</td>\n",
       "        <td style=\"padding-left: 1em; padding-right: 1em; text-align: center; vertical-align: top\">10</td>\n",
       "    </tr>\n",
       "</table>\n",
       "[83672 rows x 2 columns]<br/>Note: Only the head of the SFrame is printed.<br/>You can use print_rows(num_rows=m, num_columns=n) to print more rows and columns.\n",
       "</div>"
      ],
      "text/plain": [
       "Columns:\n",
       "\tX1\tstr\n",
       "\tX2\tint\n",
       "\n",
       "Rows: 83672\n",
       "\n",
       "Data:\n",
       "+----------------------------+----+\n",
       "|             X1             | X2 |\n",
       "+----------------------------+----+\n",
       "| ++3KTqmRLXVM9sBLE7fmvQ==,0 | 1  |\n",
       "| ++3KTqmRLXX1jLjd2w9LVg==,1 | 2  |\n",
       "| ++3KTqmRLXX1jLjd2w9LVg==,2 | 3  |\n",
       "| ++plFFZ3+6of69kHF7zRyQ==,3 | 4  |\n",
       "| ++plFFZ3+6oxYpQzwr0fkw==,4 | 5  |\n",
       "| ++plFFZ3+6pacNW6yzrcYA==,5 | 6  |\n",
       "| ++plFFZ3+6q9yH2+yVrYXQ==,6 | 7  |\n",
       "| ++plFFZ3+6r3c+ioqbH+1w==,7 | 8  |\n",
       "| ++plFFZ3+6rSQtAMHZckRg==,8 | 9  |\n",
       "| ++plFFZ3+6rkF0lvUWVzyg==,9 | 10 |\n",
       "+----------------------------+----+\n",
       "[83672 rows x 2 columns]\n",
       "Note: Only the head of the SFrame is printed.\n",
       "You can use print_rows(num_rows=m, num_columns=n) to print more rows and columns."
      ]
     },
     "execution_count": 3,
     "metadata": {},
     "output_type": "execute_result"
    }
   ],
   "source": [
    "m = []\n",
    "for i in xrange(len(matrix_initial)):\n",
    "    m.append(i + 1)\n",
    "matrix_initial.add_column(gl.SArray(m))"
   ]
  },
  {
   "cell_type": "code",
   "execution_count": 4,
   "metadata": {
    "collapsed": false
   },
   "outputs": [
    {
     "data": {
      "text/html": [
       "<pre>Finished parsing file D:\\Datasets\\xinjiang\\session_gain\\user_unique_recordIndex.csv</pre>"
      ],
      "text/plain": [
       "Finished parsing file D:\\Datasets\\xinjiang\\session_gain\\user_unique_recordIndex.csv"
      ]
     },
     "metadata": {},
     "output_type": "display_data"
    },
    {
     "data": {
      "text/html": [
       "<pre>Parsing completed. Parsed 105552 lines in 0.176923 secs.</pre>"
      ],
      "text/plain": [
       "Parsing completed. Parsed 105552 lines in 0.176923 secs."
      ]
     },
     "metadata": {},
     "output_type": "display_data"
    }
   ],
   "source": [
    "matrix_initial.rename({\"X1\": 'session_number', \"X2\":'user_number'})\n",
    "user_index = gl.SFrame.read_csv(r'D:\\Datasets\\xinjiang\\session_gain\\user_unique_recordIndex.csv', header = True, delimiter = ',', column_type_hints = [str, str])"
   ]
  },
  {
   "cell_type": "code",
   "execution_count": 5,
   "metadata": {
    "collapsed": false
   },
   "outputs": [
    {
     "name": "stdout",
     "output_type": "stream",
     "text": [
      "+-------+----------------------------+\n",
      "| index |       session_number       |\n",
      "+-------+----------------------------+\n",
      "|  335  | ++3KTqmRLXVM9sBLE7fmvQ==,0 |\n",
      "|   1   | ++3KTqmRLXX1jLjd2w9LVg==,1 |\n",
      "|  356  | ++3KTqmRLXX1jLjd2w9LVg==,2 |\n",
      "|  357  | ++3KTqmRLXX1jLjd2w9LVg==,2 |\n",
      "|   21  | ++plFFZ3+6of69kHF7zRyQ==,3 |\n",
      "|   66  | ++plFFZ3+6of69kHF7zRyQ==,3 |\n",
      "|  358  | ++plFFZ3+6oxYpQzwr0fkw==,4 |\n",
      "|  201  | ++plFFZ3+6pacNW6yzrcYA==,5 |\n",
      "|  262  | ++plFFZ3+6q9yH2+yVrYXQ==,6 |\n",
      "|   8   | ++plFFZ3+6r3c+ioqbH+1w==,7 |\n",
      "+-------+----------------------------+\n",
      "[105552 rows x 2 columns]\n",
      "Note: Only the head of the SFrame is printed.\n",
      "You can use print_rows(num_rows=m, num_columns=n) to print more rows and columns.\n"
     ]
    }
   ],
   "source": [
    "print user_index"
   ]
  },
  {
   "cell_type": "code",
   "execution_count": 7,
   "metadata": {
    "collapsed": false
   },
   "outputs": [
    {
     "name": "stdout",
     "output_type": "stream",
     "text": [
      "+-------+----------------------------+-------------+\n",
      "| index |       session_number       | user_number |\n",
      "+-------+----------------------------+-------------+\n",
      "|  335  | ++3KTqmRLXVM9sBLE7fmvQ==,0 |      1      |\n",
      "|   1   | ++3KTqmRLXX1jLjd2w9LVg==,1 |      2      |\n",
      "|  356  | ++3KTqmRLXX1jLjd2w9LVg==,2 |      3      |\n",
      "|  357  | ++3KTqmRLXX1jLjd2w9LVg==,2 |      3      |\n",
      "|   21  | ++plFFZ3+6of69kHF7zRyQ==,3 |      4      |\n",
      "|   66  | ++plFFZ3+6of69kHF7zRyQ==,3 |      4      |\n",
      "|  358  | ++plFFZ3+6oxYpQzwr0fkw==,4 |      5      |\n",
      "|  201  | ++plFFZ3+6pacNW6yzrcYA==,5 |      6      |\n",
      "|  262  | ++plFFZ3+6q9yH2+yVrYXQ==,6 |      7      |\n",
      "|   8   | ++plFFZ3+6r3c+ioqbH+1w==,7 |      8      |\n",
      "+-------+----------------------------+-------------+\n",
      "[105552 rows x 3 columns]\n",
      "Note: Only the head of the SFrame is printed.\n",
      "You can use print_rows(num_rows=m, num_columns=n) to print more rows and columns.\n"
     ]
    }
   ],
   "source": [
    "user_matrix = user_index.join(matrix_initial, how = 'inner')\n",
    "print user_matrix"
   ]
  },
  {
   "cell_type": "code",
   "execution_count": 8,
   "metadata": {
    "collapsed": true
   },
   "outputs": [],
   "source": [
    "user_matrix.save(r'D:\\Datasets\\xinjiang\\session_gain\\user_matrix.csv', format = 'csv')"
   ]
  },
  {
   "cell_type": "code",
   "execution_count": 1,
   "metadata": {
    "collapsed": false
   },
   "outputs": [
    {
     "name": "stdout",
     "output_type": "stream",
     "text": [
      "Using matplotlib backend: Qt4Agg\n",
      "Populating the interactive namespace from numpy and matplotlib\n"
     ]
    },
    {
     "name": "stderr",
     "output_type": "stream",
     "text": [
      "[INFO] graphlab.cython.cy_server: GraphLab Create v2.1 started. Logging: C:\\Users\\Jelly\\AppData\\Local\\Temp\\graphlab_server_1475227924.log.0\n"
     ]
    },
    {
     "name": "stdout",
     "output_type": "stream",
     "text": [
      "This non-commercial license of GraphLab Create for academic use is assigned to qyr16@mails.tsinghua.edu.cn and will expire on September 05, 2017.\n"
     ]
    },
    {
     "data": {
      "text/html": [
       "<pre>Finished parsing file D:\\Datasets\\xinjiang\\session_gain\\record_with_index.csv</pre>"
      ],
      "text/plain": [
       "Finished parsing file D:\\Datasets\\xinjiang\\session_gain\\record_with_index.csv"
      ]
     },
     "metadata": {},
     "output_type": "display_data"
    },
    {
     "data": {
      "text/html": [
       "<pre>Parsing completed. Parsed 100 lines in 0.866808 secs.</pre>"
      ],
      "text/plain": [
       "Parsing completed. Parsed 100 lines in 0.866808 secs."
      ]
     },
     "metadata": {},
     "output_type": "display_data"
    },
    {
     "name": "stdout",
     "output_type": "stream",
     "text": [
      "------------------------------------------------------\n",
      "Inferred types from first 100 line(s) of file as \n",
      "column_type_hints=[str,str,str,str,long,str,str,long,long,str,long]\n",
      "If parsing fails due to incorrect types, you can correct\n",
      "the inferred type list above and pass it to read_csv in\n",
      "the column_type_hints argument\n",
      "------------------------------------------------------\n"
     ]
    },
    {
     "data": {
      "text/html": [
       "<pre>Finished parsing file D:\\Datasets\\xinjiang\\session_gain\\record_with_index.csv</pre>"
      ],
      "text/plain": [
       "Finished parsing file D:\\Datasets\\xinjiang\\session_gain\\record_with_index.csv"
      ]
     },
     "metadata": {},
     "output_type": "display_data"
    },
    {
     "data": {
      "text/html": [
       "<pre>Parsing completed. Parsed 189765 lines in 0.646915 secs.</pre>"
      ],
      "text/plain": [
       "Parsing completed. Parsed 189765 lines in 0.646915 secs."
      ]
     },
     "metadata": {},
     "output_type": "display_data"
    },
    {
     "name": "stdout",
     "output_type": "stream",
     "text": [
      "+-----------------+----------+----------+----------+--------+\n",
      "|      brand      |   cg0    |   cg1    |   cg2    | gender |\n",
      "+-----------------+----------+----------+----------+--------+\n",
      "| 索扬（SUOYANG） |   数码   | 数码配件 | 移动电源 |   1    |\n",
      "| 索扬（SUOYANG） |   数码   | 数码配件 | 移动电源 |   1    |\n",
      "|    小米（MI）   |   手机   | 手机通讯 |   手机   |   1    |\n",
      "|  美的（Midea）  | 家用电器 | 厨卫大电 |  洗碗机  |   1    |\n",
      "|  美的（Midea）  | 家用电器 | 厨卫大电 |  洗碗机  |   1    |\n",
      "|  美的（Midea）  | 家用电器 | 厨卫大电 |  洗碗机  |   1    |\n",
      "|  美的（Midea）  | 家用电器 | 厨卫大电 |  洗碗机  |   1    |\n",
      "|  美的（Midea）  | 家用电器 | 厨卫大电 |  消毒柜  |   1    |\n",
      "|  美的（Midea）  | 家用电器 | 厨卫大电 |  洗碗机  |   1    |\n",
      "|  美的（Midea）  | 家用电器 | 厨卫大电 |  消毒柜  |   1    |\n",
      "+-----------------+----------+----------+----------+--------+\n",
      "+--------------------------+------------------------------------------------+\n",
      "|            id            |                      item                      |\n",
      "+--------------------------+------------------------------------------------+\n",
      "| ++3KTqmRLXVM9sBLE7fmvQ== | 索扬20000m毫安 移动电源/充电宝 手机平板通用... |\n",
      "| ++3KTqmRLXVM9sBLE7fmvQ== | 索扬20000m毫安 移动电源/充电宝 手机平板通用... |\n",
      "| ++3KTqmRLXX1jLjd2w9LVg== |    小米 Max 全网通 高配版 3GB内存 64GB ...     |\n",
      "| ++3KTqmRLXX1jLjd2w9LVg== |       美的(Midea) WQP8-3801-CN 嵌入式...       |\n",
      "| ++3KTqmRLXX1jLjd2w9LVg== |      美的(Midea) WQP6-3206A 嵌入式/台...       |\n",
      "| ++3KTqmRLXX1jLjd2w9LVg== |      美的(Midea) WQP6-3206A 嵌入式/台...       |\n",
      "| ++3KTqmRLXX1jLjd2w9LVg== |      美的(Midea) WQP6-3206A 嵌入式/台...       |\n",
      "| ++3KTqmRLXX1jLjd2w9LVg== |       美的(Midea) MXV-ZLP100Q35 二星...        |\n",
      "| ++3KTqmRLXX1jLjd2w9LVg== |      美的(Midea) WQP6-3206A 嵌入式/台...       |\n",
      "| ++3KTqmRLXX1jLjd2w9LVg== |      美的(Midea) AG925BMH-NS 家用纳米...       |\n",
      "+--------------------------+------------------------------------------------+\n",
      "+------------+------------+----------------------------+-------+\n",
      "|   itemid   |    time    |       session_number       | index |\n",
      "+------------+------------+----------------------------+-------+\n",
      "| 1745940402 | 1464101204 | ++3KTqmRLXVM9sBLE7fmvQ==,0 |  335  |\n",
      "| 1745940402 | 1464101218 | ++3KTqmRLXVM9sBLE7fmvQ==,0 |  335  |\n",
      "|  2897526   | 1464139077 | ++3KTqmRLXX1jLjd2w9LVg==,1 |   1   |\n",
      "|  2511669   | 1464001605 | ++3KTqmRLXX1jLjd2w9LVg==,2 |  356  |\n",
      "| 1179165056 | 1464001363 | ++3KTqmRLXX1jLjd2w9LVg==,2 |  356  |\n",
      "| 1179165056 | 1464001954 | ++3KTqmRLXX1jLjd2w9LVg==,2 |  356  |\n",
      "| 1179165056 | 1464138441 | ++3KTqmRLXX1jLjd2w9LVg==,2 |  356  |\n",
      "| 1275364950 | 1464001466 | ++3KTqmRLXX1jLjd2w9LVg==,2 |  357  |\n",
      "| 1179165056 | 1464001894 | ++3KTqmRLXX1jLjd2w9LVg==,2 |  356  |\n",
      "|  1251353   | 1464001438 | ++3KTqmRLXX1jLjd2w9LVg==,2 |  357  |\n",
      "+------------+------------+----------------------------+-------+\n",
      "[189765 rows x 11 columns]\n",
      "Note: Only the head of the SFrame is printed.\n",
      "You can use print_rows(num_rows=m, num_columns=n) to print more rows and columns.\n"
     ]
    }
   ],
   "source": [
    "%pylab\n",
    "import graphlab as gl\n",
    "data = gl.SFrame.read_csv(r'D:\\Datasets\\xinjiang\\session_gain\\record_with_index.csv')\n",
    "print data"
   ]
  },
  {
   "cell_type": "code",
   "execution_count": 2,
   "metadata": {
    "collapsed": false
   },
   "outputs": [
    {
     "name": "stdout",
     "output_type": "stream",
     "text": [
      "+----+--------------------------------+\n",
      "| X1 |               X2               |\n",
      "+----+--------------------------------+\n",
      "| 1  | BMSkDqrms5RaEVi9uikhIA==,18330 |\n",
      "| 1  | Z1jSIvZa6ppD0NWaUipvZQ==,49065 |\n",
      "| 1  | 42VPXvhW5orGDcPs2mOnRg==,8225  |\n",
      "| 0  | bWIfejquG5+/Lbw/F6jEvA==,52187 |\n",
      "| 1  | HGb1Ga/zsNblxh+YIT+ZdQ==,24990 |\n",
      "| 1  | YU6tR4IXkHsP/VJAW2ZzxA==,48106 |\n",
      "| 1  | 9yI8hbBTIZaAbfZyRLIt1g==,15611 |\n",
      "| 1  | B79vLzZAi0AxAdg2VhQ/xg==,17840 |\n",
      "| 1  | NmPUepUIXZQZRdlaDcim+A==,34650 |\n",
      "| 0  | 6SWBiedMxrAKA5o8Kz9Dhw==,11206 |\n",
      "+----+--------------------------------+\n",
      "[83672 rows x 2 columns]\n",
      "Note: Only the head of the SFrame is printed.\n",
      "You can use print_rows(num_rows=m, num_columns=n) to print more rows and columns.\n"
     ]
    }
   ],
   "source": [
    "m = data['gender'], data['session_number']\n",
    "gender_list = gl.SFrame(m).unique()\n",
    "print gender_list"
   ]
  },
  {
   "cell_type": "code",
   "execution_count": 3,
   "metadata": {
    "collapsed": false
   },
   "outputs": [
    {
     "name": "stdout",
     "output_type": "stream",
     "text": [
      "+--------+-----------------------------+\n",
      "| gender |        session_number       |\n",
      "+--------+-----------------------------+\n",
      "|   1    |  ++3KTqmRLXVM9sBLE7fmvQ==,0 |\n",
      "|   1    |  ++3KTqmRLXX1jLjd2w9LVg==,1 |\n",
      "|   1    |  ++3KTqmRLXX1jLjd2w9LVg==,2 |\n",
      "|   1    |  ++plFFZ3+6of69kHF7zRyQ==,3 |\n",
      "|   0    |  ++plFFZ3+6oxYpQzwr0fkw==,4 |\n",
      "|   1    |  ++plFFZ3+6pacNW6yzrcYA==,5 |\n",
      "|   1    |  ++plFFZ3+6q9yH2+yVrYXQ==,6 |\n",
      "|   1    |  ++plFFZ3+6r3c+ioqbH+1w==,7 |\n",
      "|   0    |  ++plFFZ3+6rSQtAMHZckRg==,8 |\n",
      "|   0    | ++plFFZ3+6rkF0lvUWVzyg==,11 |\n",
      "+--------+-----------------------------+\n",
      "[83672 rows x 2 columns]\n",
      "Note: Only the head of the SFrame is printed.\n",
      "You can use print_rows(num_rows=m, num_columns=n) to print more rows and columns.\n"
     ]
    }
   ],
   "source": [
    "gender_list = gender_list.sort('X2')\n",
    "gender_list.rename({'X1': 'gender', 'X2':'session_number'})\n",
    "print gender_list"
   ]
  },
  {
   "cell_type": "code",
   "execution_count": 4,
   "metadata": {
    "collapsed": true
   },
   "outputs": [],
   "source": [
    "gender_list.save(r'D:\\Datasets\\xinjiang\\session_gain\\gender_list.csv', format = 'csv')"
   ]
  },
  {
   "cell_type": "code",
   "execution_count": null,
   "metadata": {
    "collapsed": true
   },
   "outputs": [],
   "source": []
  }
 ],
 "metadata": {
  "kernelspec": {
   "display_name": "Python 2",
   "language": "python",
   "name": "python2"
  },
  "language_info": {
   "codemirror_mode": {
    "name": "ipython",
    "version": 2
   },
   "file_extension": ".py",
   "mimetype": "text/x-python",
   "name": "python",
   "nbconvert_exporter": "python",
   "pygments_lexer": "ipython2",
   "version": "2.7.11"
  }
 },
 "nbformat": 4,
 "nbformat_minor": 0
}
