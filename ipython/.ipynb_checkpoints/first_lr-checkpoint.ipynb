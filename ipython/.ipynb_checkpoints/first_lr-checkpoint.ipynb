{
 "cells": [
  {
   "cell_type": "code",
   "execution_count": 2,
   "metadata": {
    "collapsed": false
   },
   "outputs": [
    {
     "name": "stdout",
     "output_type": "stream",
     "text": [
      "Using matplotlib backend: Qt4Agg\n",
      "Populating the interactive namespace from numpy and matplotlib\n"
     ]
    }
   ],
   "source": [
    "%pylab\n",
    "import numpy as np\n",
    "import graphlab as gl"
   ]
  },
  {
   "cell_type": "code",
   "execution_count": 3,
   "metadata": {
    "collapsed": false
   },
   "outputs": [
    {
     "name": "stdout",
     "output_type": "stream",
     "text": [
      "This non-commercial license of GraphLab Create for academic use is assigned to qyr16@mails.tsinghua.edu.cn and will expire on September 05, 2017.\n"
     ]
    },
    {
     "name": "stderr",
     "output_type": "stream",
     "text": [
      "[INFO] graphlab.cython.cy_server: GraphLab Create v2.1 started. Logging: C:\\Users\\Jully\\AppData\\Local\\Temp\\graphlab_server_1476755263.log.0\n"
     ]
    },
    {
     "data": {
      "text/html": [
       "<pre>Finished parsing file E:\\Datasets\\xinjiang\\session_gain\\user_information_all.csv</pre>"
      ],
      "text/plain": [
       "Finished parsing file E:\\Datasets\\xinjiang\\session_gain\\user_information_all.csv"
      ]
     },
     "metadata": {},
     "output_type": "display_data"
    },
    {
     "data": {
      "text/html": [
       "<pre>Parsing completed. Parsed 100 lines in 1.82842 secs.</pre>"
      ],
      "text/plain": [
       "Parsing completed. Parsed 100 lines in 1.82842 secs."
      ]
     },
     "metadata": {},
     "output_type": "display_data"
    },
    {
     "name": "stdout",
     "output_type": "stream",
     "text": [
      "------------------------------------------------------\n",
      "Inferred types from first 100 line(s) of file as \n",
      "column_type_hints=[str,str,str,str,long,str,str,long,str,str,long]\n",
      "If parsing fails due to incorrect types, you can correct\n",
      "the inferred type list above and pass it to read_csv in\n",
      "the column_type_hints argument\n",
      "------------------------------------------------------\n"
     ]
    },
    {
     "data": {
      "text/html": [
       "<pre>Finished parsing file E:\\Datasets\\xinjiang\\session_gain\\user_information_all.csv</pre>"
      ],
      "text/plain": [
       "Finished parsing file E:\\Datasets\\xinjiang\\session_gain\\user_information_all.csv"
      ]
     },
     "metadata": {},
     "output_type": "display_data"
    },
    {
     "data": {
      "text/html": [
       "<pre>Parsing completed. Parsed 189765 lines in 0.727451 secs.</pre>"
      ],
      "text/plain": [
       "Parsing completed. Parsed 189765 lines in 0.727451 secs."
      ]
     },
     "metadata": {},
     "output_type": "display_data"
    }
   ],
   "source": [
    "data = gl.SFrame.read_csv(r\"E:\\Datasets\\xinjiang\\session_gain\\user_information_all.csv\", header = True, delimiter = ',')"
   ]
  },
  {
   "cell_type": "code",
   "execution_count": 4,
   "metadata": {
    "collapsed": false
   },
   "outputs": [],
   "source": [
    "#稀疏特征\n",
    "#将concate之后得到的list转化为dict\n",
    "#作为LR 分类器 输入特征\n",
    "def list2dic(l):\n",
    "    d = {}\n",
    "    for i in l:\n",
    "        if d.has_key(i):\n",
    "            d[i] = d[i] + 1\n",
    "        else:\n",
    "            d[i] = 1\n",
    "    return d"
   ]
  },
  {
   "cell_type": "code",
   "execution_count": 5,
   "metadata": {
    "collapsed": false
   },
   "outputs": [],
   "source": [
    "#将3级标签作为特征\n",
    "tmp = data.groupby(['session_number'],{\"gender\":gl.aggregate.SELECT_ONE('gender'),\"cg2_dict\":gl.aggregate.CONCAT(\"cg2\")})\n",
    "tmp['cg2_dict'] = tmp['cg2_dict'].apply(list2dic)  \n",
    "\n",
    "tmp['is_male'] = tmp['gender'] == 1"
   ]
  },
  {
   "cell_type": "code",
   "execution_count": 6,
   "metadata": {
    "collapsed": false
   },
   "outputs": [
    {
     "data": {
      "text/html": [
       "<div style=\"max-height:1000px;max-width:1500px;overflow:auto;\"><table frame=\"box\" rules=\"cols\">\n",
       "    <tr>\n",
       "        <th style=\"padding-left: 1em; padding-right: 1em; text-align: center\">session_number</th>\n",
       "        <th style=\"padding-left: 1em; padding-right: 1em; text-align: center\">gender</th>\n",
       "        <th style=\"padding-left: 1em; padding-right: 1em; text-align: center\">cg2_dict</th>\n",
       "        <th style=\"padding-left: 1em; padding-right: 1em; text-align: center\">is_male</th>\n",
       "    </tr>\n",
       "    <tr>\n",
       "        <td style=\"padding-left: 1em; padding-right: 1em; text-align: center; vertical-align: top\">W8vK6XBm/NNzWTw4Ddp5vQ==,<br>45105 ...</td>\n",
       "        <td style=\"padding-left: 1em; padding-right: 1em; text-align: center; vertical-align: top\">1</td>\n",
       "        <td style=\"padding-left: 1em; padding-right: 1em; text-align: center; vertical-align: top\">{'\\xe7\\xac\\x94\\xe8\\xae\\xb<br>0\\xe6\\x9c\\xac': 1L} ...</td>\n",
       "        <td style=\"padding-left: 1em; padding-right: 1em; text-align: center; vertical-align: top\">1</td>\n",
       "    </tr>\n",
       "    <tr>\n",
       "        <td style=\"padding-left: 1em; padding-right: 1em; text-align: center; vertical-align: top\">zYpJhBqeLahiOcc0elKWrg==,<br>85448 ...</td>\n",
       "        <td style=\"padding-left: 1em; padding-right: 1em; text-align: center; vertical-align: top\">1</td>\n",
       "        <td style=\"padding-left: 1em; padding-right: 1em; text-align: center; vertical-align: top\">{'3-6\\xe5\\xb2\\x81': 1L}</td>\n",
       "        <td style=\"padding-left: 1em; padding-right: 1em; text-align: center; vertical-align: top\">1</td>\n",
       "    </tr>\n",
       "    <tr>\n",
       "        <td style=\"padding-left: 1em; padding-right: 1em; text-align: center; vertical-align: top\">zrgKD7MsE41TgClPrlqa0Q==,<br>85660 ...</td>\n",
       "        <td style=\"padding-left: 1em; padding-right: 1em; text-align: center; vertical-align: top\">1</td>\n",
       "        <td style=\"padding-left: 1em; padding-right: 1em; text-align: center; vertical-align: top\">{'\\xe4\\xbe\\xbf\\xe6\\x90\\xb<br>a\\xe6\\xa1\\x8c\\xe6\\xa4 ...</td>\n",
       "        <td style=\"padding-left: 1em; padding-right: 1em; text-align: center; vertical-align: top\">1</td>\n",
       "    </tr>\n",
       "    <tr>\n",
       "        <td style=\"padding-left: 1em; padding-right: 1em; text-align: center; vertical-align: top\">luLq4yvIi1LFO4ZRPP1/5g==,<br>66665 ...</td>\n",
       "        <td style=\"padding-left: 1em; padding-right: 1em; text-align: center; vertical-align: top\">1</td>\n",
       "        <td style=\"padding-left: 1em; padding-right: 1em; text-align: center; vertical-align: top\">{'\\xe6\\xa2\\xb3\\xe5\\xa6\\x8<br>6\\xe5\\x8f\\xb0/\\xe5\\x8 ...</td>\n",
       "        <td style=\"padding-left: 1em; padding-right: 1em; text-align: center; vertical-align: top\">1</td>\n",
       "    </tr>\n",
       "    <tr>\n",
       "        <td style=\"padding-left: 1em; padding-right: 1em; text-align: center; vertical-align: top\">fBm95uyJqQCMxhBbnP26Yg==,<br>56653 ...</td>\n",
       "        <td style=\"padding-left: 1em; padding-right: 1em; text-align: center; vertical-align: top\">1</td>\n",
       "        <td style=\"padding-left: 1em; padding-right: 1em; text-align: center; vertical-align: top\">{'\\xe7\\x94\\xb5\\xe6\\xba\\x9<br>0': 1L} ...</td>\n",
       "        <td style=\"padding-left: 1em; padding-right: 1em; text-align: center; vertical-align: top\">1</td>\n",
       "    </tr>\n",
       "    <tr>\n",
       "        <td style=\"padding-left: 1em; padding-right: 1em; text-align: center; vertical-align: top\">HHHrOGEs6aDzJ3zmJvFfDw==,<br>25081 ...</td>\n",
       "        <td style=\"padding-left: 1em; padding-right: 1em; text-align: center; vertical-align: top\">1</td>\n",
       "        <td style=\"padding-left: 1em; padding-right: 1em; text-align: center; vertical-align: top\">{'\\xe7\\xba\\xb8\\xe5\\x93\\x8<br>1\\xe6\\xb9\\xbf\\xe5\\xb7 ...</td>\n",
       "        <td style=\"padding-left: 1em; padding-right: 1em; text-align: center; vertical-align: top\">1</td>\n",
       "    </tr>\n",
       "    <tr>\n",
       "        <td style=\"padding-left: 1em; padding-right: 1em; text-align: center; vertical-align: top\">atYe8hvmRMuG67irjvE4bw==,<br>51326 ...</td>\n",
       "        <td style=\"padding-left: 1em; padding-right: 1em; text-align: center; vertical-align: top\">0</td>\n",
       "        <td style=\"padding-left: 1em; padding-right: 1em; text-align: center; vertical-align: top\">{'\\xe6\\x89\\x8b\\xe6\\x9c\\xb<br>a': 2L} ...</td>\n",
       "        <td style=\"padding-left: 1em; padding-right: 1em; text-align: center; vertical-align: top\">0</td>\n",
       "    </tr>\n",
       "    <tr>\n",
       "        <td style=\"padding-left: 1em; padding-right: 1em; text-align: center; vertical-align: top\">3TVsfDVoGMlBHJ9FnnBOmQ==,<br>7504 ...</td>\n",
       "        <td style=\"padding-left: 1em; padding-right: 1em; text-align: center; vertical-align: top\">1</td>\n",
       "        <td style=\"padding-left: 1em; padding-right: 1em; text-align: center; vertical-align: top\">{'\\xe6\\x89\\x8b\\xe6\\x9c\\xb<br>a': 3L} ...</td>\n",
       "        <td style=\"padding-left: 1em; padding-right: 1em; text-align: center; vertical-align: top\">1</td>\n",
       "    </tr>\n",
       "    <tr>\n",
       "        <td style=\"padding-left: 1em; padding-right: 1em; text-align: center; vertical-align: top\">Uoa9BD4pUJ2wr69nY2Vc+w==,<br>43457 ...</td>\n",
       "        <td style=\"padding-left: 1em; padding-right: 1em; text-align: center; vertical-align: top\">0</td>\n",
       "        <td style=\"padding-left: 1em; padding-right: 1em; text-align: center; vertical-align: top\">{'\\xe7\\x94\\xb5\\xe8\\x84\\x9<br>1\\xe5\\x8c\\x85': 2L} ...</td>\n",
       "        <td style=\"padding-left: 1em; padding-right: 1em; text-align: center; vertical-align: top\">0</td>\n",
       "    </tr>\n",
       "    <tr>\n",
       "        <td style=\"padding-left: 1em; padding-right: 1em; text-align: center; vertical-align: top\">Qpqa05lela0vDtvQLZFBmg==,<br>38604 ...</td>\n",
       "        <td style=\"padding-left: 1em; padding-right: 1em; text-align: center; vertical-align: top\">0</td>\n",
       "        <td style=\"padding-left: 1em; padding-right: 1em; text-align: center; vertical-align: top\">{'\\xe6\\xb5\\xb4\\xe9\\x9c\\xb<br>8/\\xe6\\x8d\\xa2\\xe6\\xb ...</td>\n",
       "        <td style=\"padding-left: 1em; padding-right: 1em; text-align: center; vertical-align: top\">0</td>\n",
       "    </tr>\n",
       "</table>\n",
       "[83672 rows x 4 columns]<br/>Note: Only the head of the SFrame is printed.<br/>You can use print_rows(num_rows=m, num_columns=n) to print more rows and columns.\n",
       "</div>"
      ],
      "text/plain": [
       "Columns:\n",
       "\tsession_number\tstr\n",
       "\tgender\tint\n",
       "\tcg2_dict\tdict\n",
       "\tis_male\tint\n",
       "\n",
       "Rows: 83672\n",
       "\n",
       "Data:\n",
       "+--------------------------------+--------+-------------------------------+---------+\n",
       "|         session_number         | gender |            cg2_dict           | is_male |\n",
       "+--------------------------------+--------+-------------------------------+---------+\n",
       "| W8vK6XBm/NNzWTw4Ddp5vQ==,45105 |   1    | {'\\xe7\\xac\\x94\\xe8\\xae\\xb0... |    1    |\n",
       "| zYpJhBqeLahiOcc0elKWrg==,85448 |   1    |    {'3-6\\xe5\\xb2\\x81': 1L}    |    1    |\n",
       "| zrgKD7MsE41TgClPrlqa0Q==,85660 |   1    | {'\\xe4\\xbe\\xbf\\xe6\\x90\\xba... |    1    |\n",
       "| luLq4yvIi1LFO4ZRPP1/5g==,66665 |   1    | {'\\xe6\\xa2\\xb3\\xe5\\xa6\\x86... |    1    |\n",
       "| fBm95uyJqQCMxhBbnP26Yg==,56653 |   1    | {'\\xe7\\x94\\xb5\\xe6\\xba\\x90... |    1    |\n",
       "| HHHrOGEs6aDzJ3zmJvFfDw==,25081 |   1    | {'\\xe7\\xba\\xb8\\xe5\\x93\\x81... |    1    |\n",
       "| atYe8hvmRMuG67irjvE4bw==,51326 |   0    | {'\\xe6\\x89\\x8b\\xe6\\x9c\\xba... |    0    |\n",
       "| 3TVsfDVoGMlBHJ9FnnBOmQ==,7504  |   1    | {'\\xe6\\x89\\x8b\\xe6\\x9c\\xba... |    1    |\n",
       "| Uoa9BD4pUJ2wr69nY2Vc+w==,43457 |   0    | {'\\xe7\\x94\\xb5\\xe8\\x84\\x91... |    0    |\n",
       "| Qpqa05lela0vDtvQLZFBmg==,38604 |   0    | {'\\xe6\\xb5\\xb4\\xe9\\x9c\\xb8... |    0    |\n",
       "+--------------------------------+--------+-------------------------------+---------+\n",
       "[83672 rows x 4 columns]\n",
       "Note: Only the head of the SFrame is printed.\n",
       "You can use print_rows(num_rows=m, num_columns=n) to print more rows and columns."
      ]
     },
     "execution_count": 6,
     "metadata": {},
     "output_type": "execute_result"
    }
   ],
   "source": [
    "tmp"
   ]
  },
  {
   "cell_type": "code",
   "execution_count": 7,
   "metadata": {
    "collapsed": false
   },
   "outputs": [
    {
     "name": "stdout",
     "output_type": "stream",
     "text": [
      "PROGRESS: Creating a validation set from 5 percent of training data. This may take a while.\n",
      "          You can set ``validation_set=None`` to disable validation tracking.\n",
      "\n"
     ]
    },
    {
     "data": {
      "text/html": [
       "<pre>Logistic regression:</pre>"
      ],
      "text/plain": [
       "Logistic regression:"
      ]
     },
     "metadata": {},
     "output_type": "display_data"
    },
    {
     "data": {
      "text/html": [
       "<pre>--------------------------------------------------------</pre>"
      ],
      "text/plain": [
       "--------------------------------------------------------"
      ]
     },
     "metadata": {},
     "output_type": "display_data"
    },
    {
     "data": {
      "text/html": [
       "<pre>Number of examples          : 31035</pre>"
      ],
      "text/plain": [
       "Number of examples          : 31035"
      ]
     },
     "metadata": {},
     "output_type": "display_data"
    },
    {
     "data": {
      "text/html": [
       "<pre>Number of classes           : 2</pre>"
      ],
      "text/plain": [
       "Number of classes           : 2"
      ]
     },
     "metadata": {},
     "output_type": "display_data"
    },
    {
     "data": {
      "text/html": [
       "<pre>Number of feature columns   : 1</pre>"
      ],
      "text/plain": [
       "Number of feature columns   : 1"
      ]
     },
     "metadata": {},
     "output_type": "display_data"
    },
    {
     "data": {
      "text/html": [
       "<pre>Number of unpacked features : 1401</pre>"
      ],
      "text/plain": [
       "Number of unpacked features : 1401"
      ]
     },
     "metadata": {},
     "output_type": "display_data"
    },
    {
     "data": {
      "text/html": [
       "<pre>Number of coefficients    : 1402</pre>"
      ],
      "text/plain": [
       "Number of coefficients    : 1402"
      ]
     },
     "metadata": {},
     "output_type": "display_data"
    },
    {
     "data": {
      "text/html": [
       "<pre>Starting L-BFGS</pre>"
      ],
      "text/plain": [
       "Starting L-BFGS"
      ]
     },
     "metadata": {},
     "output_type": "display_data"
    },
    {
     "data": {
      "text/html": [
       "<pre>--------------------------------------------------------</pre>"
      ],
      "text/plain": [
       "--------------------------------------------------------"
      ]
     },
     "metadata": {},
     "output_type": "display_data"
    },
    {
     "data": {
      "text/html": [
       "<pre>+-----------+----------+-----------+--------------+-------------------+---------------------+</pre>"
      ],
      "text/plain": [
       "+-----------+----------+-----------+--------------+-------------------+---------------------+"
      ]
     },
     "metadata": {},
     "output_type": "display_data"
    },
    {
     "data": {
      "text/html": [
       "<pre>| Iteration | Passes   | Step size | Elapsed Time | Training-accuracy | Validation-accuracy |</pre>"
      ],
      "text/plain": [
       "| Iteration | Passes   | Step size | Elapsed Time | Training-accuracy | Validation-accuracy |"
      ]
     },
     "metadata": {},
     "output_type": "display_data"
    },
    {
     "data": {
      "text/html": [
       "<pre>+-----------+----------+-----------+--------------+-------------------+---------------------+</pre>"
      ],
      "text/plain": [
       "+-----------+----------+-----------+--------------+-------------------+---------------------+"
      ]
     },
     "metadata": {},
     "output_type": "display_data"
    },
    {
     "data": {
      "text/html": [
       "<pre>| 1         | 4        | 0.000161  | 1.169483     | 0.638183          | 0.629127            |</pre>"
      ],
      "text/plain": [
       "| 1         | 4        | 0.000161  | 1.169483     | 0.638183          | 0.629127            |"
      ]
     },
     "metadata": {},
     "output_type": "display_data"
    },
    {
     "data": {
      "text/html": [
       "<pre>| 2         | 6        | 1.000000  | 1.257590     | 0.637860          | 0.626769            |</pre>"
      ],
      "text/plain": [
       "| 2         | 6        | 1.000000  | 1.257590     | 0.637860          | 0.626769            |"
      ]
     },
     "metadata": {},
     "output_type": "display_data"
    },
    {
     "data": {
      "text/html": [
       "<pre>| 3         | 7        | 1.000000  | 1.297644     | 0.636507          | 0.628538            |</pre>"
      ],
      "text/plain": [
       "| 3         | 7        | 1.000000  | 1.297644     | 0.636507          | 0.628538            |"
      ]
     },
     "metadata": {},
     "output_type": "display_data"
    },
    {
     "data": {
      "text/html": [
       "<pre>| 4         | 8        | 1.000000  | 1.341711     | 0.636636          | 0.632075            |</pre>"
      ],
      "text/plain": [
       "| 4         | 8        | 1.000000  | 1.341711     | 0.636636          | 0.632075            |"
      ]
     },
     "metadata": {},
     "output_type": "display_data"
    },
    {
     "data": {
      "text/html": [
       "<pre>| 5         | 9        | 1.000000  | 1.381756     | 0.637216          | 0.632665            |</pre>"
      ],
      "text/plain": [
       "| 5         | 9        | 1.000000  | 1.381756     | 0.637216          | 0.632665            |"
      ]
     },
     "metadata": {},
     "output_type": "display_data"
    },
    {
     "data": {
      "text/html": [
       "<pre>| 6         | 10       | 1.000000  | 1.425814     | 0.637023          | 0.635613            |</pre>"
      ],
      "text/plain": [
       "| 6         | 10       | 1.000000  | 1.425814     | 0.637023          | 0.635613            |"
      ]
     },
     "metadata": {},
     "output_type": "display_data"
    },
    {
     "data": {
      "text/html": [
       "<pre>| 11        | 15       | 1.000000  | 1.678152     | 0.636636          | 0.628538            |</pre>"
      ],
      "text/plain": [
       "| 11        | 15       | 1.000000  | 1.678152     | 0.636636          | 0.628538            |"
      ]
     },
     "metadata": {},
     "output_type": "display_data"
    },
    {
     "data": {
      "text/html": [
       "<pre>| 25        | 29       | 1.000000  | 2.295314     | 0.637216          | 0.630896            |</pre>"
      ],
      "text/plain": [
       "| 25        | 29       | 1.000000  | 2.295314     | 0.637216          | 0.630896            |"
      ]
     },
     "metadata": {},
     "output_type": "display_data"
    },
    {
     "data": {
      "text/html": [
       "<pre>| 50        | 54       | 1.000000  | 3.276503     | 0.637474          | 0.629717            |</pre>"
      ],
      "text/plain": [
       "| 50        | 54       | 1.000000  | 3.276503     | 0.637474          | 0.629717            |"
      ]
     },
     "metadata": {},
     "output_type": "display_data"
    },
    {
     "data": {
      "text/html": [
       "<pre>| 51        | 55       | 1.000000  | 3.306220     | 0.637796          | 0.629127            |</pre>"
      ],
      "text/plain": [
       "| 51        | 55       | 1.000000  | 3.306220     | 0.637796          | 0.629127            |"
      ]
     },
     "metadata": {},
     "output_type": "display_data"
    },
    {
     "data": {
      "text/html": [
       "<pre>| 75        | 79       | 1.000000  | 4.187065     | 0.637506          | 0.629717            |</pre>"
      ],
      "text/plain": [
       "| 75        | 79       | 1.000000  | 4.187065     | 0.637506          | 0.629717            |"
      ]
     },
     "metadata": {},
     "output_type": "display_data"
    },
    {
     "data": {
      "text/html": [
       "<pre>| 100       | 104      | 1.000000  | 4.935703     | 0.637474          | 0.630307            |</pre>"
      ],
      "text/plain": [
       "| 100       | 104      | 1.000000  | 4.935703     | 0.637474          | 0.630307            |"
      ]
     },
     "metadata": {},
     "output_type": "display_data"
    },
    {
     "data": {
      "text/html": [
       "<pre>| 101       | 105      | 1.000000  | 4.978951     | 0.637474          | 0.630307            |</pre>"
      ],
      "text/plain": [
       "| 101       | 105      | 1.000000  | 4.978951     | 0.637474          | 0.630307            |"
      ]
     },
     "metadata": {},
     "output_type": "display_data"
    },
    {
     "data": {
      "text/html": [
       "<pre>| 125       | 132      | 1.000000  | 5.756665     | 0.637474          | 0.630307            |</pre>"
      ],
      "text/plain": [
       "| 125       | 132      | 1.000000  | 5.756665     | 0.637474          | 0.630307            |"
      ]
     },
     "metadata": {},
     "output_type": "display_data"
    },
    {
     "data": {
      "text/html": [
       "<pre>| 150       | 157      | 1.000000  | 6.507357     | 0.637506          | 0.630307            |</pre>"
      ],
      "text/plain": [
       "| 150       | 157      | 1.000000  | 6.507357     | 0.637506          | 0.630307            |"
      ]
     },
     "metadata": {},
     "output_type": "display_data"
    },
    {
     "data": {
      "text/html": [
       "<pre>| 175       | 189      | 1.000000  | 7.371456     | 0.637474          | 0.630896            |</pre>"
      ],
      "text/plain": [
       "| 175       | 189      | 1.000000  | 7.371456     | 0.637474          | 0.630896            |"
      ]
     },
     "metadata": {},
     "output_type": "display_data"
    },
    {
     "data": {
      "text/html": [
       "<pre>| 200       | 215      | 1.000000  | 8.155028     | 0.637474          | 0.629717            |</pre>"
      ],
      "text/plain": [
       "| 200       | 215      | 1.000000  | 8.155028     | 0.637474          | 0.629717            |"
      ]
     },
     "metadata": {},
     "output_type": "display_data"
    },
    {
     "data": {
      "text/html": [
       "<pre>| 225       | 242      | 1.000000  | 8.936298     | 0.637474          | 0.630307            |</pre>"
      ],
      "text/plain": [
       "| 225       | 242      | 1.000000  | 8.936298     | 0.637474          | 0.630307            |"
      ]
     },
     "metadata": {},
     "output_type": "display_data"
    },
    {
     "data": {
      "text/html": [
       "<pre>| 250       | 268      | 1.000000  | 9.689861     | 0.637474          | 0.630307            |</pre>"
      ],
      "text/plain": [
       "| 250       | 268      | 1.000000  | 9.689861     | 0.637474          | 0.630307            |"
      ]
     },
     "metadata": {},
     "output_type": "display_data"
    },
    {
     "data": {
      "text/html": [
       "<pre>| 275       | 306      | 1.000000  | 10.627734    | 0.637474          | 0.630307            |</pre>"
      ],
      "text/plain": [
       "| 275       | 306      | 1.000000  | 10.627734    | 0.637474          | 0.630307            |"
      ]
     },
     "metadata": {},
     "output_type": "display_data"
    },
    {
     "data": {
      "text/html": [
       "<pre>| 300       | 350      | 1.000000  | 11.694350    | 0.637474          | 0.630307            |</pre>"
      ],
      "text/plain": [
       "| 300       | 350      | 1.000000  | 11.694350    | 0.637474          | 0.630307            |"
      ]
     },
     "metadata": {},
     "output_type": "display_data"
    },
    {
     "data": {
      "text/html": [
       "<pre>| 325       | 400      | 1.000000  | 12.828329    | 0.637474          | 0.630896            |</pre>"
      ],
      "text/plain": [
       "| 325       | 400      | 1.000000  | 12.828329    | 0.637474          | 0.630896            |"
      ]
     },
     "metadata": {},
     "output_type": "display_data"
    },
    {
     "data": {
      "text/html": [
       "<pre>| 350       | 442      | 1.000000  | 13.899269    | 0.637474          | 0.629717            |</pre>"
      ],
      "text/plain": [
       "| 350       | 442      | 1.000000  | 13.899269    | 0.637474          | 0.629717            |"
      ]
     },
     "metadata": {},
     "output_type": "display_data"
    },
    {
     "data": {
      "text/html": [
       "<pre>| 375       | 485      | 1.000000  | 15.182877    | 0.637474          | 0.630896            |</pre>"
      ],
      "text/plain": [
       "| 375       | 485      | 1.000000  | 15.182877    | 0.637474          | 0.630896            |"
      ]
     },
     "metadata": {},
     "output_type": "display_data"
    },
    {
     "data": {
      "text/html": [
       "<pre>| 400       | 526      | 1.000000  | 16.531579    | 0.637474          | 0.630307            |</pre>"
      ],
      "text/plain": [
       "| 400       | 526      | 1.000000  | 16.531579    | 0.637474          | 0.630307            |"
      ]
     },
     "metadata": {},
     "output_type": "display_data"
    },
    {
     "data": {
      "text/html": [
       "<pre>| 425       | 570      | 1.000000  | 17.954599    | 0.637474          | 0.630307            |</pre>"
      ],
      "text/plain": [
       "| 425       | 570      | 1.000000  | 17.954599    | 0.637474          | 0.630307            |"
      ]
     },
     "metadata": {},
     "output_type": "display_data"
    },
    {
     "data": {
      "text/html": [
       "<pre>| 450       | 597      | 1.000000  | 19.152192    | 0.637474          | 0.629717            |</pre>"
      ],
      "text/plain": [
       "| 450       | 597      | 1.000000  | 19.152192    | 0.637474          | 0.629717            |"
      ]
     },
     "metadata": {},
     "output_type": "display_data"
    },
    {
     "data": {
      "text/html": [
       "<pre>| 475       | 624      | 1.000000  | 20.168734    | 0.637474          | 0.629717            |</pre>"
      ],
      "text/plain": [
       "| 475       | 624      | 1.000000  | 20.168734    | 0.637474          | 0.629717            |"
      ]
     },
     "metadata": {},
     "output_type": "display_data"
    },
    {
     "data": {
      "text/html": [
       "<pre>| 500       | 657      | 1.000000  | 21.308837    | 0.637474          | 0.629717            |</pre>"
      ],
      "text/plain": [
       "| 500       | 657      | 1.000000  | 21.308837    | 0.637474          | 0.629717            |"
      ]
     },
     "metadata": {},
     "output_type": "display_data"
    },
    {
     "data": {
      "text/html": [
       "<pre>| 501       | 658      | 1.000000  | 21.341247    | 0.637474          | 0.630307            |</pre>"
      ],
      "text/plain": [
       "| 501       | 658      | 1.000000  | 21.341247    | 0.637474          | 0.630307            |"
      ]
     },
     "metadata": {},
     "output_type": "display_data"
    },
    {
     "data": {
      "text/html": [
       "<pre>+-----------+----------+-----------+--------------+-------------------+---------------------+</pre>"
      ],
      "text/plain": [
       "+-----------+----------+-----------+--------------+-------------------+---------------------+"
      ]
     },
     "metadata": {},
     "output_type": "display_data"
    },
    {
     "data": {
      "text/html": [
       "<pre>SUCCESS: Optimal solution found.</pre>"
      ],
      "text/plain": [
       "SUCCESS: Optimal solution found."
      ]
     },
     "metadata": {},
     "output_type": "display_data"
    },
    {
     "data": {
      "text/html": [
       "<pre></pre>"
      ],
      "text/plain": []
     },
     "metadata": {},
     "output_type": "display_data"
    }
   ],
   "source": [
    "target = 'is_male'\n",
    "male_raw = tmp[tmp['is_male'] == 1]\n",
    "female_raw = tmp[tmp['is_male'] == 0]\n",
    "#下采样以获得正负样本平衡\n",
    "percentage = len(female_raw)/float(len(male_raw))\n",
    "male_traffic = male_raw.sample(percentage,seed=1)\n",
    "female_traffic = female_raw\n",
    "traffic_data = male_traffic.append(female_traffic)\n",
    "train_data,test_data = traffic_data.random_split(0.8,seed=0)\n",
    "model = gl.logistic_classifier.create(\n",
    "    train_data,\n",
    "    target='is_male',\n",
    "    features = ['cg2_dict'],\n",
    "    #class_weights={1:5,0:5},\n",
    "    max_iterations=3000)"
   ]
  },
  {
   "cell_type": "code",
   "execution_count": 8,
   "metadata": {
    "collapsed": false
   },
   "outputs": [
    {
     "data": {
      "text/plain": [
       "{'accuracy': 0.61648041262434,\n",
       " 'auc': 0.6511735272634608,\n",
       " 'confusion_matrix': Columns:\n",
       " \ttarget_label\tint\n",
       " \tpredicted_label\tint\n",
       " \tcount\tint\n",
       " \n",
       " Rows: 4\n",
       " \n",
       " Data:\n",
       " +--------------+-----------------+-------+\n",
       " | target_label | predicted_label | count |\n",
       " +--------------+-----------------+-------+\n",
       " |      1       |        1        |  2941 |\n",
       " |      1       |        0        |  1110 |\n",
       " |      0       |        0        |  2079 |\n",
       " |      0       |        1        |  2013 |\n",
       " +--------------+-----------------+-------+\n",
       " [4 rows x 3 columns],\n",
       " 'f1_score': 0.6531926707384788,\n",
       " 'log_loss': 0.8028362185530156,\n",
       " 'precision': 0.5936616875252322,\n",
       " 'recall': 0.7259935818316465,\n",
       " 'roc_curve': Columns:\n",
       " \tthreshold\tfloat\n",
       " \tfpr\tfloat\n",
       " \ttpr\tfloat\n",
       " \tp\tint\n",
       " \tn\tint\n",
       " \n",
       " Rows: 100001\n",
       " \n",
       " Data:\n",
       " +-----------+----------------+----------------+------+------+\n",
       " | threshold |      fpr       |      tpr       |  p   |  n   |\n",
       " +-----------+----------------+----------------+------+------+\n",
       " |    0.0    |      1.0       |      1.0       | 4051 | 4092 |\n",
       " |   1e-05   | 0.985337243402 | 0.994816094791 | 4051 | 4092 |\n",
       " |   2e-05   | 0.981915933529 | 0.993581831647 | 4051 | 4092 |\n",
       " |   3e-05   | 0.981182795699 | 0.993088126389 | 4051 | 4092 |\n",
       " |   4e-05   | 0.980205278592 | 0.993088126389 | 4051 | 4092 |\n",
       " |   5e-05   | 0.979960899316 | 0.99284127376  | 4051 | 4092 |\n",
       " |   6e-05   | 0.979472140762 | 0.992594421131 | 4051 | 4092 |\n",
       " |   7e-05   | 0.979472140762 | 0.992347568502 | 4051 | 4092 |\n",
       " |   8e-05   | 0.978739002933 | 0.992347568502 | 4051 | 4092 |\n",
       " |   9e-05   | 0.978494623656 | 0.992347568502 | 4051 | 4092 |\n",
       " +-----------+----------------+----------------+------+------+\n",
       " [100001 rows x 5 columns]\n",
       " Note: Only the head of the SFrame is printed.\n",
       " You can use print_rows(num_rows=m, num_columns=n) to print more rows and columns.}"
      ]
     },
     "execution_count": 8,
     "metadata": {},
     "output_type": "execute_result"
    }
   ],
   "source": [
    "result = model.evaluate(test_data)\n",
    "result"
   ]
  },
  {
   "cell_type": "code",
   "execution_count": 9,
   "metadata": {
    "collapsed": false
   },
   "outputs": [
    {
     "data": {
      "text/plain": [
       "dtype: int\n",
       "Rows: 8143\n",
       "[0L, 1L, 0L, 1L, 1L, 0L, 0L, 1L, 0L, 0L, 1L, 1L, 0L, 1L, 1L, 1L, 0L, 1L, 0L, 1L, 1L, 0L, 1L, 1L, 1L, 1L, 1L, 0L, 1L, 0L, 1L, 1L, 1L, 0L, 1L, 1L, 0L, 1L, 0L, 1L, 1L, 1L, 1L, 1L, 1L, 1L, 0L, 0L, 1L, 1L, 1L, 1L, 1L, 0L, 1L, 1L, 1L, 1L, 1L, 0L, 1L, 1L, 1L, 1L, 1L, 1L, 1L, 0L, 0L, 0L, 0L, 1L, 1L, 1L, 1L, 0L, 0L, 1L, 1L, 1L, 1L, 0L, 1L, 0L, 0L, 0L, 1L, 1L, 0L, 1L, 1L, 1L, 1L, 1L, 1L, 1L, 0L, 1L, 0L, 1L, ... ]"
      ]
     },
     "execution_count": 9,
     "metadata": {},
     "output_type": "execute_result"
    }
   ],
   "source": [
    "predict = model.predict(test_data)\n",
    "predict"
   ]
  },
  {
   "cell_type": "code",
   "execution_count": 10,
   "metadata": {
    "collapsed": false
   },
   "outputs": [
    {
     "data": {
      "text/html": [
       "<div style=\"max-height:1000px;max-width:1500px;overflow:auto;\"><table frame=\"box\" rules=\"cols\">\n",
       "    <tr>\n",
       "        <th style=\"padding-left: 1em; padding-right: 1em; text-align: center\">session_number</th>\n",
       "        <th style=\"padding-left: 1em; padding-right: 1em; text-align: center\">gender</th>\n",
       "        <th style=\"padding-left: 1em; padding-right: 1em; text-align: center\">cg2_dict</th>\n",
       "        <th style=\"padding-left: 1em; padding-right: 1em; text-align: center\">is_male</th>\n",
       "    </tr>\n",
       "    <tr>\n",
       "        <td style=\"padding-left: 1em; padding-right: 1em; text-align: center; vertical-align: top\">CWcNxbYu2LpSTJsBWmXn0Q==,<br>19832 ...</td>\n",
       "        <td style=\"padding-left: 1em; padding-right: 1em; text-align: center; vertical-align: top\">1</td>\n",
       "        <td style=\"padding-left: 1em; padding-right: 1em; text-align: center; vertical-align: top\">{'\\xe7\\x89\\x9b\\xe5\\xa5\\xb<br>6\\xe4\\xb9\\xb3\\xe5\\x93 ...</td>\n",
       "        <td style=\"padding-left: 1em; padding-right: 1em; text-align: center; vertical-align: top\">1</td>\n",
       "    </tr>\n",
       "    <tr>\n",
       "        <td style=\"padding-left: 1em; padding-right: 1em; text-align: center; vertical-align: top\">vQw57rlI72gpUwTX8l9LPg==,<br>79635 ...</td>\n",
       "        <td style=\"padding-left: 1em; padding-right: 1em; text-align: center; vertical-align: top\">1</td>\n",
       "        <td style=\"padding-left: 1em; padding-right: 1em; text-align: center; vertical-align: top\">{'\\xe8\\xb7\\x91\\xe6\\xad\\xa<br>5\\xe9\\x9e\\x8b': 1L, ' ...</td>\n",
       "        <td style=\"padding-left: 1em; padding-right: 1em; text-align: center; vertical-align: top\">1</td>\n",
       "    </tr>\n",
       "    <tr>\n",
       "        <td style=\"padding-left: 1em; padding-right: 1em; text-align: center; vertical-align: top\">8+4pT0RjzPMtavYEp/fOeA==,<br>13699 ...</td>\n",
       "        <td style=\"padding-left: 1em; padding-right: 1em; text-align: center; vertical-align: top\">1</td>\n",
       "        <td style=\"padding-left: 1em; padding-right: 1em; text-align: center; vertical-align: top\">{'\\xe8\\x80\\xb3\\xe6\\x9c\\xb<br>a/\\xe8\\x80\\xb3\\xe9\\xb ...</td>\n",
       "        <td style=\"padding-left: 1em; padding-right: 1em; text-align: center; vertical-align: top\">1</td>\n",
       "    </tr>\n",
       "    <tr>\n",
       "        <td style=\"padding-left: 1em; padding-right: 1em; text-align: center; vertical-align: top\">cp2D00jdRwEtiCF8EQNlcg==,<br>54113 ...</td>\n",
       "        <td style=\"padding-left: 1em; padding-right: 1em; text-align: center; vertical-align: top\">1</td>\n",
       "        <td style=\"padding-left: 1em; padding-right: 1em; text-align: center; vertical-align: top\">{'\\xe6\\x89\\x8b\\xe6\\x9c\\xb<br>a': 2L} ...</td>\n",
       "        <td style=\"padding-left: 1em; padding-right: 1em; text-align: center; vertical-align: top\">1</td>\n",
       "    </tr>\n",
       "    <tr>\n",
       "        <td style=\"padding-left: 1em; padding-right: 1em; text-align: center; vertical-align: top\">fx01o5KL3UOsqtYTzUruYw==,<br>58072 ...</td>\n",
       "        <td style=\"padding-left: 1em; padding-right: 1em; text-align: center; vertical-align: top\">1</td>\n",
       "        <td style=\"padding-left: 1em; padding-right: 1em; text-align: center; vertical-align: top\">{'\\xe7\\x94\\xb5\\xe5\\x8a\\xa<br>8\\xe5\\xb7\\xa5\\xe5\\x85 ...</td>\n",
       "        <td style=\"padding-left: 1em; padding-right: 1em; text-align: center; vertical-align: top\">1</td>\n",
       "    </tr>\n",
       "    <tr>\n",
       "        <td style=\"padding-left: 1em; padding-right: 1em; text-align: center; vertical-align: top\">6By3sujtFOEkNtG+qIdC3w==,<br>10891 ...</td>\n",
       "        <td style=\"padding-left: 1em; padding-right: 1em; text-align: center; vertical-align: top\">1</td>\n",
       "        <td style=\"padding-left: 1em; padding-right: 1em; text-align: center; vertical-align: top\">{'\\xe5\\xa4\\x96\\xe5\\x9b\\xb<br>d\\xe5\\xb0\\x8f\\xe8\\xaf ...</td>\n",
       "        <td style=\"padding-left: 1em; padding-right: 1em; text-align: center; vertical-align: top\">1</td>\n",
       "    </tr>\n",
       "    <tr>\n",
       "        <td style=\"padding-left: 1em; padding-right: 1em; text-align: center; vertical-align: top\">T5O0BQZET+JKv94yHV+Ezg==,<br>41359 ...</td>\n",
       "        <td style=\"padding-left: 1em; padding-right: 1em; text-align: center; vertical-align: top\">1</td>\n",
       "        <td style=\"padding-left: 1em; padding-right: 1em; text-align: center; vertical-align: top\">{'\\xe7\\x89\\x9b\\xe5\\xa5\\xb<br>6\\xe4\\xb9\\xb3\\xe5\\x93 ...</td>\n",
       "        <td style=\"padding-left: 1em; padding-right: 1em; text-align: center; vertical-align: top\">1</td>\n",
       "    </tr>\n",
       "    <tr>\n",
       "        <td style=\"padding-left: 1em; padding-right: 1em; text-align: center; vertical-align: top\">wiAV8dC1OGzqT9rqRycV9w==,<br>81210 ...</td>\n",
       "        <td style=\"padding-left: 1em; padding-right: 1em; text-align: center; vertical-align: top\">1</td>\n",
       "        <td style=\"padding-left: 1em; padding-right: 1em; text-align: center; vertical-align: top\">{'\\xe7\\x94\\xb7\\xe8\\xa1\\xa<br>8': 1L} ...</td>\n",
       "        <td style=\"padding-left: 1em; padding-right: 1em; text-align: center; vertical-align: top\">1</td>\n",
       "    </tr>\n",
       "    <tr>\n",
       "        <td style=\"padding-left: 1em; padding-right: 1em; text-align: center; vertical-align: top\">Dki1VIJB45fv7B8uxar4Tg==,<br>21316 ...</td>\n",
       "        <td style=\"padding-left: 1em; padding-right: 1em; text-align: center; vertical-align: top\">1</td>\n",
       "        <td style=\"padding-left: 1em; padding-right: 1em; text-align: center; vertical-align: top\">{'\\xe7\\x94\\xb5\\xe6\\xb0\\xb<br>4\\xe5\\xa3\\xb6/\\xe7\\x8 ...</td>\n",
       "        <td style=\"padding-left: 1em; padding-right: 1em; text-align: center; vertical-align: top\">1</td>\n",
       "    </tr>\n",
       "    <tr>\n",
       "        <td style=\"padding-left: 1em; padding-right: 1em; text-align: center; vertical-align: top\">uQnwL4X4pcvkTMyuXvtZ1g==,<br>78350 ...</td>\n",
       "        <td style=\"padding-left: 1em; padding-right: 1em; text-align: center; vertical-align: top\">1</td>\n",
       "        <td style=\"padding-left: 1em; padding-right: 1em; text-align: center; vertical-align: top\">{'\\xe7\\xb1\\xb3\\xe9\\x9d\\xa<br>2\\xe6\\x9d\\x82\\xe7\\xb2 ...</td>\n",
       "        <td style=\"padding-left: 1em; padding-right: 1em; text-align: center; vertical-align: top\">1</td>\n",
       "    </tr>\n",
       "</table>\n",
       "[8143 rows x 4 columns]<br/>Note: Only the head of the SFrame is printed.<br/>You can use print_rows(num_rows=m, num_columns=n) to print more rows and columns.\n",
       "</div>"
      ],
      "text/plain": [
       "Columns:\n",
       "\tsession_number\tstr\n",
       "\tgender\tint\n",
       "\tcg2_dict\tdict\n",
       "\tis_male\tint\n",
       "\n",
       "Rows: 8143\n",
       "\n",
       "Data:\n",
       "+--------------------------------+--------+-------------------------------+---------+\n",
       "|         session_number         | gender |            cg2_dict           | is_male |\n",
       "+--------------------------------+--------+-------------------------------+---------+\n",
       "| CWcNxbYu2LpSTJsBWmXn0Q==,19832 |   1    | {'\\xe7\\x89\\x9b\\xe5\\xa5\\xb6... |    1    |\n",
       "| vQw57rlI72gpUwTX8l9LPg==,79635 |   1    | {'\\xe8\\xb7\\x91\\xe6\\xad\\xa5... |    1    |\n",
       "| 8+4pT0RjzPMtavYEp/fOeA==,13699 |   1    | {'\\xe8\\x80\\xb3\\xe6\\x9c\\xba... |    1    |\n",
       "| cp2D00jdRwEtiCF8EQNlcg==,54113 |   1    | {'\\xe6\\x89\\x8b\\xe6\\x9c\\xba... |    1    |\n",
       "| fx01o5KL3UOsqtYTzUruYw==,58072 |   1    | {'\\xe7\\x94\\xb5\\xe5\\x8a\\xa8... |    1    |\n",
       "| 6By3sujtFOEkNtG+qIdC3w==,10891 |   1    | {'\\xe5\\xa4\\x96\\xe5\\x9b\\xbd... |    1    |\n",
       "| T5O0BQZET+JKv94yHV+Ezg==,41359 |   1    | {'\\xe7\\x89\\x9b\\xe5\\xa5\\xb6... |    1    |\n",
       "| wiAV8dC1OGzqT9rqRycV9w==,81210 |   1    | {'\\xe7\\x94\\xb7\\xe8\\xa1\\xa8... |    1    |\n",
       "| Dki1VIJB45fv7B8uxar4Tg==,21316 |   1    | {'\\xe7\\x94\\xb5\\xe6\\xb0\\xb4... |    1    |\n",
       "| uQnwL4X4pcvkTMyuXvtZ1g==,78350 |   1    | {'\\xe7\\xb1\\xb3\\xe9\\x9d\\xa2... |    1    |\n",
       "+--------------------------------+--------+-------------------------------+---------+\n",
       "[8143 rows x 4 columns]\n",
       "Note: Only the head of the SFrame is printed.\n",
       "You can use print_rows(num_rows=m, num_columns=n) to print more rows and columns."
      ]
     },
     "execution_count": 10,
     "metadata": {},
     "output_type": "execute_result"
    }
   ],
   "source": [
    "test_data"
   ]
  },
  {
   "cell_type": "code",
   "execution_count": 11,
   "metadata": {
    "collapsed": false
   },
   "outputs": [],
   "source": [
    "mdata = test_data.add_column(gl.SArray(predict))"
   ]
  },
  {
   "cell_type": "code",
   "execution_count": 12,
   "metadata": {
    "collapsed": false
   },
   "outputs": [
    {
     "data": {
      "text/html": [
       "<div style=\"max-height:1000px;max-width:1500px;overflow:auto;\"><table frame=\"box\" rules=\"cols\">\n",
       "    <tr>\n",
       "        <th style=\"padding-left: 1em; padding-right: 1em; text-align: center\">session_number</th>\n",
       "        <th style=\"padding-left: 1em; padding-right: 1em; text-align: center\">gender</th>\n",
       "        <th style=\"padding-left: 1em; padding-right: 1em; text-align: center\">cg2_dict</th>\n",
       "        <th style=\"padding-left: 1em; padding-right: 1em; text-align: center\">is_male</th>\n",
       "        <th style=\"padding-left: 1em; padding-right: 1em; text-align: center\">X5</th>\n",
       "    </tr>\n",
       "    <tr>\n",
       "        <td style=\"padding-left: 1em; padding-right: 1em; text-align: center; vertical-align: top\">CWcNxbYu2LpSTJsBWmXn0Q==,<br>19832 ...</td>\n",
       "        <td style=\"padding-left: 1em; padding-right: 1em; text-align: center; vertical-align: top\">1</td>\n",
       "        <td style=\"padding-left: 1em; padding-right: 1em; text-align: center; vertical-align: top\">{'\\xe7\\x89\\x9b\\xe5\\xa5\\xb<br>6\\xe4\\xb9\\xb3\\xe5\\x93 ...</td>\n",
       "        <td style=\"padding-left: 1em; padding-right: 1em; text-align: center; vertical-align: top\">1</td>\n",
       "        <td style=\"padding-left: 1em; padding-right: 1em; text-align: center; vertical-align: top\">0</td>\n",
       "    </tr>\n",
       "    <tr>\n",
       "        <td style=\"padding-left: 1em; padding-right: 1em; text-align: center; vertical-align: top\">vQw57rlI72gpUwTX8l9LPg==,<br>79635 ...</td>\n",
       "        <td style=\"padding-left: 1em; padding-right: 1em; text-align: center; vertical-align: top\">1</td>\n",
       "        <td style=\"padding-left: 1em; padding-right: 1em; text-align: center; vertical-align: top\">{'\\xe8\\xb7\\x91\\xe6\\xad\\xa<br>5\\xe9\\x9e\\x8b': 1L, ' ...</td>\n",
       "        <td style=\"padding-left: 1em; padding-right: 1em; text-align: center; vertical-align: top\">1</td>\n",
       "        <td style=\"padding-left: 1em; padding-right: 1em; text-align: center; vertical-align: top\">1</td>\n",
       "    </tr>\n",
       "    <tr>\n",
       "        <td style=\"padding-left: 1em; padding-right: 1em; text-align: center; vertical-align: top\">8+4pT0RjzPMtavYEp/fOeA==,<br>13699 ...</td>\n",
       "        <td style=\"padding-left: 1em; padding-right: 1em; text-align: center; vertical-align: top\">1</td>\n",
       "        <td style=\"padding-left: 1em; padding-right: 1em; text-align: center; vertical-align: top\">{'\\xe8\\x80\\xb3\\xe6\\x9c\\xb<br>a/\\xe8\\x80\\xb3\\xe9\\xb ...</td>\n",
       "        <td style=\"padding-left: 1em; padding-right: 1em; text-align: center; vertical-align: top\">1</td>\n",
       "        <td style=\"padding-left: 1em; padding-right: 1em; text-align: center; vertical-align: top\">0</td>\n",
       "    </tr>\n",
       "    <tr>\n",
       "        <td style=\"padding-left: 1em; padding-right: 1em; text-align: center; vertical-align: top\">cp2D00jdRwEtiCF8EQNlcg==,<br>54113 ...</td>\n",
       "        <td style=\"padding-left: 1em; padding-right: 1em; text-align: center; vertical-align: top\">1</td>\n",
       "        <td style=\"padding-left: 1em; padding-right: 1em; text-align: center; vertical-align: top\">{'\\xe6\\x89\\x8b\\xe6\\x9c\\xb<br>a': 2L} ...</td>\n",
       "        <td style=\"padding-left: 1em; padding-right: 1em; text-align: center; vertical-align: top\">1</td>\n",
       "        <td style=\"padding-left: 1em; padding-right: 1em; text-align: center; vertical-align: top\">1</td>\n",
       "    </tr>\n",
       "    <tr>\n",
       "        <td style=\"padding-left: 1em; padding-right: 1em; text-align: center; vertical-align: top\">fx01o5KL3UOsqtYTzUruYw==,<br>58072 ...</td>\n",
       "        <td style=\"padding-left: 1em; padding-right: 1em; text-align: center; vertical-align: top\">1</td>\n",
       "        <td style=\"padding-left: 1em; padding-right: 1em; text-align: center; vertical-align: top\">{'\\xe7\\x94\\xb5\\xe5\\x8a\\xa<br>8\\xe5\\xb7\\xa5\\xe5\\x85 ...</td>\n",
       "        <td style=\"padding-left: 1em; padding-right: 1em; text-align: center; vertical-align: top\">1</td>\n",
       "        <td style=\"padding-left: 1em; padding-right: 1em; text-align: center; vertical-align: top\">1</td>\n",
       "    </tr>\n",
       "    <tr>\n",
       "        <td style=\"padding-left: 1em; padding-right: 1em; text-align: center; vertical-align: top\">6By3sujtFOEkNtG+qIdC3w==,<br>10891 ...</td>\n",
       "        <td style=\"padding-left: 1em; padding-right: 1em; text-align: center; vertical-align: top\">1</td>\n",
       "        <td style=\"padding-left: 1em; padding-right: 1em; text-align: center; vertical-align: top\">{'\\xe5\\xa4\\x96\\xe5\\x9b\\xb<br>d\\xe5\\xb0\\x8f\\xe8\\xaf ...</td>\n",
       "        <td style=\"padding-left: 1em; padding-right: 1em; text-align: center; vertical-align: top\">1</td>\n",
       "        <td style=\"padding-left: 1em; padding-right: 1em; text-align: center; vertical-align: top\">0</td>\n",
       "    </tr>\n",
       "    <tr>\n",
       "        <td style=\"padding-left: 1em; padding-right: 1em; text-align: center; vertical-align: top\">T5O0BQZET+JKv94yHV+Ezg==,<br>41359 ...</td>\n",
       "        <td style=\"padding-left: 1em; padding-right: 1em; text-align: center; vertical-align: top\">1</td>\n",
       "        <td style=\"padding-left: 1em; padding-right: 1em; text-align: center; vertical-align: top\">{'\\xe7\\x89\\x9b\\xe5\\xa5\\xb<br>6\\xe4\\xb9\\xb3\\xe5\\x93 ...</td>\n",
       "        <td style=\"padding-left: 1em; padding-right: 1em; text-align: center; vertical-align: top\">1</td>\n",
       "        <td style=\"padding-left: 1em; padding-right: 1em; text-align: center; vertical-align: top\">0</td>\n",
       "    </tr>\n",
       "    <tr>\n",
       "        <td style=\"padding-left: 1em; padding-right: 1em; text-align: center; vertical-align: top\">wiAV8dC1OGzqT9rqRycV9w==,<br>81210 ...</td>\n",
       "        <td style=\"padding-left: 1em; padding-right: 1em; text-align: center; vertical-align: top\">1</td>\n",
       "        <td style=\"padding-left: 1em; padding-right: 1em; text-align: center; vertical-align: top\">{'\\xe7\\x94\\xb7\\xe8\\xa1\\xa<br>8': 1L} ...</td>\n",
       "        <td style=\"padding-left: 1em; padding-right: 1em; text-align: center; vertical-align: top\">1</td>\n",
       "        <td style=\"padding-left: 1em; padding-right: 1em; text-align: center; vertical-align: top\">1</td>\n",
       "    </tr>\n",
       "    <tr>\n",
       "        <td style=\"padding-left: 1em; padding-right: 1em; text-align: center; vertical-align: top\">Dki1VIJB45fv7B8uxar4Tg==,<br>21316 ...</td>\n",
       "        <td style=\"padding-left: 1em; padding-right: 1em; text-align: center; vertical-align: top\">1</td>\n",
       "        <td style=\"padding-left: 1em; padding-right: 1em; text-align: center; vertical-align: top\">{'\\xe7\\x94\\xb5\\xe6\\xb0\\xb<br>4\\xe5\\xa3\\xb6/\\xe7\\x8 ...</td>\n",
       "        <td style=\"padding-left: 1em; padding-right: 1em; text-align: center; vertical-align: top\">1</td>\n",
       "        <td style=\"padding-left: 1em; padding-right: 1em; text-align: center; vertical-align: top\">0</td>\n",
       "    </tr>\n",
       "    <tr>\n",
       "        <td style=\"padding-left: 1em; padding-right: 1em; text-align: center; vertical-align: top\">uQnwL4X4pcvkTMyuXvtZ1g==,<br>78350 ...</td>\n",
       "        <td style=\"padding-left: 1em; padding-right: 1em; text-align: center; vertical-align: top\">1</td>\n",
       "        <td style=\"padding-left: 1em; padding-right: 1em; text-align: center; vertical-align: top\">{'\\xe7\\xb1\\xb3\\xe9\\x9d\\xa<br>2\\xe6\\x9d\\x82\\xe7\\xb2 ...</td>\n",
       "        <td style=\"padding-left: 1em; padding-right: 1em; text-align: center; vertical-align: top\">1</td>\n",
       "        <td style=\"padding-left: 1em; padding-right: 1em; text-align: center; vertical-align: top\">0</td>\n",
       "    </tr>\n",
       "</table>\n",
       "[8143 rows x 5 columns]<br/>Note: Only the head of the SFrame is printed.<br/>You can use print_rows(num_rows=m, num_columns=n) to print more rows and columns.\n",
       "</div>"
      ],
      "text/plain": [
       "Columns:\n",
       "\tsession_number\tstr\n",
       "\tgender\tint\n",
       "\tcg2_dict\tdict\n",
       "\tis_male\tint\n",
       "\tX5\tint\n",
       "\n",
       "Rows: 8143\n",
       "\n",
       "Data:\n",
       "+--------------------------------+--------+-------------------------------+---------+\n",
       "|         session_number         | gender |            cg2_dict           | is_male |\n",
       "+--------------------------------+--------+-------------------------------+---------+\n",
       "| CWcNxbYu2LpSTJsBWmXn0Q==,19832 |   1    | {'\\xe7\\x89\\x9b\\xe5\\xa5\\xb6... |    1    |\n",
       "| vQw57rlI72gpUwTX8l9LPg==,79635 |   1    | {'\\xe8\\xb7\\x91\\xe6\\xad\\xa5... |    1    |\n",
       "| 8+4pT0RjzPMtavYEp/fOeA==,13699 |   1    | {'\\xe8\\x80\\xb3\\xe6\\x9c\\xba... |    1    |\n",
       "| cp2D00jdRwEtiCF8EQNlcg==,54113 |   1    | {'\\xe6\\x89\\x8b\\xe6\\x9c\\xba... |    1    |\n",
       "| fx01o5KL3UOsqtYTzUruYw==,58072 |   1    | {'\\xe7\\x94\\xb5\\xe5\\x8a\\xa8... |    1    |\n",
       "| 6By3sujtFOEkNtG+qIdC3w==,10891 |   1    | {'\\xe5\\xa4\\x96\\xe5\\x9b\\xbd... |    1    |\n",
       "| T5O0BQZET+JKv94yHV+Ezg==,41359 |   1    | {'\\xe7\\x89\\x9b\\xe5\\xa5\\xb6... |    1    |\n",
       "| wiAV8dC1OGzqT9rqRycV9w==,81210 |   1    | {'\\xe7\\x94\\xb7\\xe8\\xa1\\xa8... |    1    |\n",
       "| Dki1VIJB45fv7B8uxar4Tg==,21316 |   1    | {'\\xe7\\x94\\xb5\\xe6\\xb0\\xb4... |    1    |\n",
       "| uQnwL4X4pcvkTMyuXvtZ1g==,78350 |   1    | {'\\xe7\\xb1\\xb3\\xe9\\x9d\\xa2... |    1    |\n",
       "+--------------------------------+--------+-------------------------------+---------+\n",
       "+----+\n",
       "| X5 |\n",
       "+----+\n",
       "| 0  |\n",
       "| 1  |\n",
       "| 0  |\n",
       "| 1  |\n",
       "| 1  |\n",
       "| 0  |\n",
       "| 0  |\n",
       "| 1  |\n",
       "| 0  |\n",
       "| 0  |\n",
       "+----+\n",
       "[8143 rows x 5 columns]\n",
       "Note: Only the head of the SFrame is printed.\n",
       "You can use print_rows(num_rows=m, num_columns=n) to print more rows and columns."
      ]
     },
     "execution_count": 12,
     "metadata": {},
     "output_type": "execute_result"
    }
   ],
   "source": [
    "mdata"
   ]
  },
  {
   "cell_type": "code",
   "execution_count": 13,
   "metadata": {
    "collapsed": false
   },
   "outputs": [
    {
     "data": {
      "text/html": [
       "<div style=\"max-height:1000px;max-width:1500px;overflow:auto;\"><table frame=\"box\" rules=\"cols\">\n",
       "    <tr>\n",
       "        <th style=\"padding-left: 1em; padding-right: 1em; text-align: center\">session_number</th>\n",
       "        <th style=\"padding-left: 1em; padding-right: 1em; text-align: center\">gender</th>\n",
       "        <th style=\"padding-left: 1em; padding-right: 1em; text-align: center\">cg2_dict</th>\n",
       "        <th style=\"padding-left: 1em; padding-right: 1em; text-align: center\">predict_gender</th>\n",
       "    </tr>\n",
       "    <tr>\n",
       "        <td style=\"padding-left: 1em; padding-right: 1em; text-align: center; vertical-align: top\">CWcNxbYu2LpSTJsBWmXn0Q==,<br>19832 ...</td>\n",
       "        <td style=\"padding-left: 1em; padding-right: 1em; text-align: center; vertical-align: top\">1</td>\n",
       "        <td style=\"padding-left: 1em; padding-right: 1em; text-align: center; vertical-align: top\">{'\\xe7\\x89\\x9b\\xe5\\xa5\\xb<br>6\\xe4\\xb9\\xb3\\xe5\\x93 ...</td>\n",
       "        <td style=\"padding-left: 1em; padding-right: 1em; text-align: center; vertical-align: top\">0</td>\n",
       "    </tr>\n",
       "    <tr>\n",
       "        <td style=\"padding-left: 1em; padding-right: 1em; text-align: center; vertical-align: top\">vQw57rlI72gpUwTX8l9LPg==,<br>79635 ...</td>\n",
       "        <td style=\"padding-left: 1em; padding-right: 1em; text-align: center; vertical-align: top\">1</td>\n",
       "        <td style=\"padding-left: 1em; padding-right: 1em; text-align: center; vertical-align: top\">{'\\xe8\\xb7\\x91\\xe6\\xad\\xa<br>5\\xe9\\x9e\\x8b': 1L, ' ...</td>\n",
       "        <td style=\"padding-left: 1em; padding-right: 1em; text-align: center; vertical-align: top\">1</td>\n",
       "    </tr>\n",
       "    <tr>\n",
       "        <td style=\"padding-left: 1em; padding-right: 1em; text-align: center; vertical-align: top\">8+4pT0RjzPMtavYEp/fOeA==,<br>13699 ...</td>\n",
       "        <td style=\"padding-left: 1em; padding-right: 1em; text-align: center; vertical-align: top\">1</td>\n",
       "        <td style=\"padding-left: 1em; padding-right: 1em; text-align: center; vertical-align: top\">{'\\xe8\\x80\\xb3\\xe6\\x9c\\xb<br>a/\\xe8\\x80\\xb3\\xe9\\xb ...</td>\n",
       "        <td style=\"padding-left: 1em; padding-right: 1em; text-align: center; vertical-align: top\">0</td>\n",
       "    </tr>\n",
       "    <tr>\n",
       "        <td style=\"padding-left: 1em; padding-right: 1em; text-align: center; vertical-align: top\">cp2D00jdRwEtiCF8EQNlcg==,<br>54113 ...</td>\n",
       "        <td style=\"padding-left: 1em; padding-right: 1em; text-align: center; vertical-align: top\">1</td>\n",
       "        <td style=\"padding-left: 1em; padding-right: 1em; text-align: center; vertical-align: top\">{'\\xe6\\x89\\x8b\\xe6\\x9c\\xb<br>a': 2L} ...</td>\n",
       "        <td style=\"padding-left: 1em; padding-right: 1em; text-align: center; vertical-align: top\">1</td>\n",
       "    </tr>\n",
       "    <tr>\n",
       "        <td style=\"padding-left: 1em; padding-right: 1em; text-align: center; vertical-align: top\">fx01o5KL3UOsqtYTzUruYw==,<br>58072 ...</td>\n",
       "        <td style=\"padding-left: 1em; padding-right: 1em; text-align: center; vertical-align: top\">1</td>\n",
       "        <td style=\"padding-left: 1em; padding-right: 1em; text-align: center; vertical-align: top\">{'\\xe7\\x94\\xb5\\xe5\\x8a\\xa<br>8\\xe5\\xb7\\xa5\\xe5\\x85 ...</td>\n",
       "        <td style=\"padding-left: 1em; padding-right: 1em; text-align: center; vertical-align: top\">1</td>\n",
       "    </tr>\n",
       "    <tr>\n",
       "        <td style=\"padding-left: 1em; padding-right: 1em; text-align: center; vertical-align: top\">6By3sujtFOEkNtG+qIdC3w==,<br>10891 ...</td>\n",
       "        <td style=\"padding-left: 1em; padding-right: 1em; text-align: center; vertical-align: top\">1</td>\n",
       "        <td style=\"padding-left: 1em; padding-right: 1em; text-align: center; vertical-align: top\">{'\\xe5\\xa4\\x96\\xe5\\x9b\\xb<br>d\\xe5\\xb0\\x8f\\xe8\\xaf ...</td>\n",
       "        <td style=\"padding-left: 1em; padding-right: 1em; text-align: center; vertical-align: top\">0</td>\n",
       "    </tr>\n",
       "    <tr>\n",
       "        <td style=\"padding-left: 1em; padding-right: 1em; text-align: center; vertical-align: top\">T5O0BQZET+JKv94yHV+Ezg==,<br>41359 ...</td>\n",
       "        <td style=\"padding-left: 1em; padding-right: 1em; text-align: center; vertical-align: top\">1</td>\n",
       "        <td style=\"padding-left: 1em; padding-right: 1em; text-align: center; vertical-align: top\">{'\\xe7\\x89\\x9b\\xe5\\xa5\\xb<br>6\\xe4\\xb9\\xb3\\xe5\\x93 ...</td>\n",
       "        <td style=\"padding-left: 1em; padding-right: 1em; text-align: center; vertical-align: top\">0</td>\n",
       "    </tr>\n",
       "    <tr>\n",
       "        <td style=\"padding-left: 1em; padding-right: 1em; text-align: center; vertical-align: top\">wiAV8dC1OGzqT9rqRycV9w==,<br>81210 ...</td>\n",
       "        <td style=\"padding-left: 1em; padding-right: 1em; text-align: center; vertical-align: top\">1</td>\n",
       "        <td style=\"padding-left: 1em; padding-right: 1em; text-align: center; vertical-align: top\">{'\\xe7\\x94\\xb7\\xe8\\xa1\\xa<br>8': 1L} ...</td>\n",
       "        <td style=\"padding-left: 1em; padding-right: 1em; text-align: center; vertical-align: top\">1</td>\n",
       "    </tr>\n",
       "    <tr>\n",
       "        <td style=\"padding-left: 1em; padding-right: 1em; text-align: center; vertical-align: top\">Dki1VIJB45fv7B8uxar4Tg==,<br>21316 ...</td>\n",
       "        <td style=\"padding-left: 1em; padding-right: 1em; text-align: center; vertical-align: top\">1</td>\n",
       "        <td style=\"padding-left: 1em; padding-right: 1em; text-align: center; vertical-align: top\">{'\\xe7\\x94\\xb5\\xe6\\xb0\\xb<br>4\\xe5\\xa3\\xb6/\\xe7\\x8 ...</td>\n",
       "        <td style=\"padding-left: 1em; padding-right: 1em; text-align: center; vertical-align: top\">0</td>\n",
       "    </tr>\n",
       "    <tr>\n",
       "        <td style=\"padding-left: 1em; padding-right: 1em; text-align: center; vertical-align: top\">uQnwL4X4pcvkTMyuXvtZ1g==,<br>78350 ...</td>\n",
       "        <td style=\"padding-left: 1em; padding-right: 1em; text-align: center; vertical-align: top\">1</td>\n",
       "        <td style=\"padding-left: 1em; padding-right: 1em; text-align: center; vertical-align: top\">{'\\xe7\\xb1\\xb3\\xe9\\x9d\\xa<br>2\\xe6\\x9d\\x82\\xe7\\xb2 ...</td>\n",
       "        <td style=\"padding-left: 1em; padding-right: 1em; text-align: center; vertical-align: top\">0</td>\n",
       "    </tr>\n",
       "</table>\n",
       "[8143 rows x 4 columns]<br/>Note: Only the head of the SFrame is printed.<br/>You can use print_rows(num_rows=m, num_columns=n) to print more rows and columns.\n",
       "</div>"
      ],
      "text/plain": [
       "Columns:\n",
       "\tsession_number\tstr\n",
       "\tgender\tint\n",
       "\tcg2_dict\tdict\n",
       "\tpredict_gender\tint\n",
       "\n",
       "Rows: 8143\n",
       "\n",
       "Data:\n",
       "+--------------------------------+--------+-------------------------------+----------------+\n",
       "|         session_number         | gender |            cg2_dict           | predict_gender |\n",
       "+--------------------------------+--------+-------------------------------+----------------+\n",
       "| CWcNxbYu2LpSTJsBWmXn0Q==,19832 |   1    | {'\\xe7\\x89\\x9b\\xe5\\xa5\\xb6... |       0        |\n",
       "| vQw57rlI72gpUwTX8l9LPg==,79635 |   1    | {'\\xe8\\xb7\\x91\\xe6\\xad\\xa5... |       1        |\n",
       "| 8+4pT0RjzPMtavYEp/fOeA==,13699 |   1    | {'\\xe8\\x80\\xb3\\xe6\\x9c\\xba... |       0        |\n",
       "| cp2D00jdRwEtiCF8EQNlcg==,54113 |   1    | {'\\xe6\\x89\\x8b\\xe6\\x9c\\xba... |       1        |\n",
       "| fx01o5KL3UOsqtYTzUruYw==,58072 |   1    | {'\\xe7\\x94\\xb5\\xe5\\x8a\\xa8... |       1        |\n",
       "| 6By3sujtFOEkNtG+qIdC3w==,10891 |   1    | {'\\xe5\\xa4\\x96\\xe5\\x9b\\xbd... |       0        |\n",
       "| T5O0BQZET+JKv94yHV+Ezg==,41359 |   1    | {'\\xe7\\x89\\x9b\\xe5\\xa5\\xb6... |       0        |\n",
       "| wiAV8dC1OGzqT9rqRycV9w==,81210 |   1    | {'\\xe7\\x94\\xb7\\xe8\\xa1\\xa8... |       1        |\n",
       "| Dki1VIJB45fv7B8uxar4Tg==,21316 |   1    | {'\\xe7\\x94\\xb5\\xe6\\xb0\\xb4... |       0        |\n",
       "| uQnwL4X4pcvkTMyuXvtZ1g==,78350 |   1    | {'\\xe7\\xb1\\xb3\\xe9\\x9d\\xa2... |       0        |\n",
       "+--------------------------------+--------+-------------------------------+----------------+\n",
       "[8143 rows x 4 columns]\n",
       "Note: Only the head of the SFrame is printed.\n",
       "You can use print_rows(num_rows=m, num_columns=n) to print more rows and columns."
      ]
     },
     "execution_count": 13,
     "metadata": {},
     "output_type": "execute_result"
    }
   ],
   "source": [
    "mdata.rename({\"X5\":\"predict_gender\"})\n",
    "mdata.remove_column(\"is_male\")\n",
    "mdata"
   ]
  },
  {
   "cell_type": "code",
   "execution_count": 14,
   "metadata": {
    "collapsed": false
   },
   "outputs": [],
   "source": [
    "def compute_accuracy(x):\n",
    "    count = 0\n",
    "    true = 0\n",
    "    for i in x:\n",
    "        if i['gender'] == i['predict_gender']:\n",
    "            true = true + 1\n",
    "        count = count + 1\n",
    "    return true * 1.0 / count\n",
    "acc = compute_accuracy(mdata)"
   ]
  },
  {
   "cell_type": "code",
   "execution_count": 15,
   "metadata": {
    "collapsed": false
   },
   "outputs": [
    {
     "data": {
      "text/plain": [
       "0.61648041262434"
      ]
     },
     "execution_count": 15,
     "metadata": {},
     "output_type": "execute_result"
    }
   ],
   "source": [
    "acc"
   ]
  },
  {
   "cell_type": "code",
   "execution_count": 16,
   "metadata": {
    "collapsed": false
   },
   "outputs": [
    {
     "name": "stdout",
     "output_type": "stream",
     "text": [
      "+------------------------------+--------+-------------------------------+----------------+\n",
      "|        session_number        | gender |            cg2_dict           | predict_gender |\n",
      "+------------------------------+--------+-------------------------------+----------------+\n",
      "|  ++3KTqmRLXX1jLjd2w9LVg==,1  |   1    | {'\\xe6\\x89\\x8b\\xe6\\x9c\\xba... |       1        |\n",
      "| +0BgSzDfO3Kl9tVmj8G2jQ==,18  |   0    | {'\\xe8\\xbf\\x9e\\xe8\\xa1\\xa3... |       0        |\n",
      "| +0BgSzDfO3Kl9tVmj8G2jQ==,25  |   0    | {'\\xe5\\xa5\\x97\\xe8\\xa3\\x85... |       0        |\n",
      "| +0clDm5JswMWprPBcCfgpw==,30  |   1    | {'\\xe7\\x81\\xab\\xe8\\x8a\\xb1... |       1        |\n",
      "| +0p5s3ydhWeB/vxL60dHTA==,47  |   1    | {'\\xe6\\x89\\x8b\\xe6\\x9c\\xba... |       1        |\n",
      "| +0p5s3ydhWeB/vxL60dHTA==,52  |   1    | {'\\xe5\\x95\\x86\\xe5\\x8a\\xa1... |       1        |\n",
      "| +0p5s3ydhWeB/vxL60dHTA==,57  |   1    | {'\\xe7\\x9d\\xa1\\xe8\\xa1\\xa3... |       0        |\n",
      "| +0p5s3ydhWeB/vxL60dHTA==,75  |   1    | {'\\xe9\\x81\\xa5\\xe6\\x8e\\xa7... |       1        |\n",
      "| +2pP61SerisTt6w/4KMDFg==,112 |   1    | {'\\xe8\\x85\\xb0\\xe5\\x8c\\x85... |       1        |\n",
      "| +2pP61SerisTt6w/4KMDFg==,116 |   1    | {'\\xe5\\xad\\xa6\\xe7\\x94\\x9f... |       1        |\n",
      "+------------------------------+--------+-------------------------------+----------------+\n",
      "[8143 rows x 4 columns]\n",
      "Note: Only the head of the SFrame is printed.\n",
      "You can use print_rows(num_rows=m, num_columns=n) to print more rows and columns.\n"
     ]
    }
   ],
   "source": [
    "mdata = mdata.sort('session_number')\n",
    "print mdata"
   ]
  },
  {
   "cell_type": "code",
   "execution_count": 17,
   "metadata": {
    "collapsed": true
   },
   "outputs": [],
   "source": [
    "mdata.save(r'E:\\Datasets\\xinjiang\\session_gain\\lg_predict.csv', format = 'csv')"
   ]
  },
  {
   "cell_type": "code",
   "execution_count": 18,
   "metadata": {
    "collapsed": false
   },
   "outputs": [
    {
     "data": {
      "text/html": [
       "<pre>Finished parsing file E:\\Datasets\\xinjiang\\session_gain\\lg_predict.csv</pre>"
      ],
      "text/plain": [
       "Finished parsing file E:\\Datasets\\xinjiang\\session_gain\\lg_predict.csv"
      ]
     },
     "metadata": {},
     "output_type": "display_data"
    },
    {
     "data": {
      "text/html": [
       "<pre>Parsing completed. Parsed 100 lines in 0.120155 secs.</pre>"
      ],
      "text/plain": [
       "Parsing completed. Parsed 100 lines in 0.120155 secs."
      ]
     },
     "metadata": {},
     "output_type": "display_data"
    },
    {
     "name": "stdout",
     "output_type": "stream",
     "text": [
      "------------------------------------------------------\n",
      "Inferred types from first 100 line(s) of file as \n",
      "column_type_hints=[str,long,dict,long]\n",
      "If parsing fails due to incorrect types, you can correct\n",
      "the inferred type list above and pass it to read_csv in\n",
      "the column_type_hints argument\n",
      "------------------------------------------------------\n"
     ]
    },
    {
     "data": {
      "text/html": [
       "<pre>Finished parsing file E:\\Datasets\\xinjiang\\session_gain\\lg_predict.csv</pre>"
      ],
      "text/plain": [
       "Finished parsing file E:\\Datasets\\xinjiang\\session_gain\\lg_predict.csv"
      ]
     },
     "metadata": {},
     "output_type": "display_data"
    },
    {
     "data": {
      "text/html": [
       "<pre>Parsing completed. Parsed 8143 lines in 0.048067 secs.</pre>"
      ],
      "text/plain": [
       "Parsing completed. Parsed 8143 lines in 0.048067 secs."
      ]
     },
     "metadata": {},
     "output_type": "display_data"
    },
    {
     "name": "stdout",
     "output_type": "stream",
     "text": [
      "+------------------------------+--------+-------------------------------+----------------+\n",
      "|        session_number        | gender |            cg2_dict           | predict_gender |\n",
      "+------------------------------+--------+-------------------------------+----------------+\n",
      "|  ++3KTqmRLXX1jLjd2w9LVg==,1  |   1    | {'\\xe6\\x89\\x8b\\xe6\\x9c\\xba... |       1        |\n",
      "| +0BgSzDfO3Kl9tVmj8G2jQ==,18  |   0    | {'\\xe8\\xbf\\x9e\\xe8\\xa1\\xa3... |       0        |\n",
      "| +0BgSzDfO3Kl9tVmj8G2jQ==,25  |   0    | {'\\xe5\\xa5\\x97\\xe8\\xa3\\x85... |       0        |\n",
      "| +0clDm5JswMWprPBcCfgpw==,30  |   1    | {'\\xe7\\x81\\xab\\xe8\\x8a\\xb1... |       1        |\n",
      "| +0p5s3ydhWeB/vxL60dHTA==,47  |   1    | {'\\xe6\\x89\\x8b\\xe6\\x9c\\xba... |       1        |\n",
      "| +0p5s3ydhWeB/vxL60dHTA==,52  |   1    | {'\\xe5\\x95\\x86\\xe5\\x8a\\xa1... |       1        |\n",
      "| +0p5s3ydhWeB/vxL60dHTA==,57  |   1    | {'\\xe7\\x9d\\xa1\\xe8\\xa1\\xa3... |       0        |\n",
      "| +0p5s3ydhWeB/vxL60dHTA==,75  |   1    | {'\\xe9\\x81\\xa5\\xe6\\x8e\\xa7... |       1        |\n",
      "| +2pP61SerisTt6w/4KMDFg==,112 |   1    | {'\\xe8\\x85\\xb0\\xe5\\x8c\\x85... |       1        |\n",
      "| +2pP61SerisTt6w/4KMDFg==,116 |   1    | {'\\xe5\\xad\\xa6\\xe7\\x94\\x9f... |       1        |\n",
      "+------------------------------+--------+-------------------------------+----------------+\n",
      "[8143 rows x 4 columns]\n",
      "Note: Only the head of the SFrame is printed.\n",
      "You can use print_rows(num_rows=m, num_columns=n) to print more rows and columns.\n"
     ]
    }
   ],
   "source": [
    "data2 = gl.SFrame.read_csv(r'E:\\Datasets\\xinjiang\\session_gain\\lg_predict.csv', header = True, delimiter=',')\n",
    "print data2"
   ]
  },
  {
   "cell_type": "code",
   "execution_count": 19,
   "metadata": {
    "collapsed": false
   },
   "outputs": [
    {
     "name": "stdout",
     "output_type": "stream",
     "text": [
      "+--------------------------+--------+-------------------------------+----------------+\n",
      "|            id            | gender |            cg2_dict           | predict_gender |\n",
      "+--------------------------+--------+-------------------------------+----------------+\n",
      "| ++3KTqmRLXX1jLjd2w9LVg== |   1    | {'\\xe6\\x89\\x8b\\xe6\\x9c\\xba... |       1        |\n",
      "| +0BgSzDfO3Kl9tVmj8G2jQ== |   0    | {'\\xe8\\xbf\\x9e\\xe8\\xa1\\xa3... |       0        |\n",
      "| +0BgSzDfO3Kl9tVmj8G2jQ== |   0    | {'\\xe5\\xa5\\x97\\xe8\\xa3\\x85... |       0        |\n",
      "| +0clDm5JswMWprPBcCfgpw== |   1    | {'\\xe7\\x81\\xab\\xe8\\x8a\\xb1... |       1        |\n",
      "| +0p5s3ydhWeB/vxL60dHTA== |   1    | {'\\xe6\\x89\\x8b\\xe6\\x9c\\xba... |       1        |\n",
      "| +0p5s3ydhWeB/vxL60dHTA== |   1    | {'\\xe5\\x95\\x86\\xe5\\x8a\\xa1... |       1        |\n",
      "| +0p5s3ydhWeB/vxL60dHTA== |   1    | {'\\xe7\\x9d\\xa1\\xe8\\xa1\\xa3... |       0        |\n",
      "| +0p5s3ydhWeB/vxL60dHTA== |   1    | {'\\xe9\\x81\\xa5\\xe6\\x8e\\xa7... |       1        |\n",
      "| +2pP61SerisTt6w/4KMDFg== |   1    | {'\\xe8\\x85\\xb0\\xe5\\x8c\\x85... |       1        |\n",
      "| +2pP61SerisTt6w/4KMDFg== |   1    | {'\\xe5\\xad\\xa6\\xe7\\x94\\x9f... |       1        |\n",
      "+--------------------------+--------+-------------------------------+----------------+\n",
      "[8143 rows x 4 columns]\n",
      "Note: Only the head of the SFrame is printed.\n",
      "You can use print_rows(num_rows=m, num_columns=n) to print more rows and columns.\n"
     ]
    }
   ],
   "source": [
    "data2['session_number'] = data2.apply(lambda x: x['session_number'].split(',')[0])\n",
    "data2.rename({'session_number':'id'})\n",
    "print data2"
   ]
  },
  {
   "cell_type": "code",
   "execution_count": 22,
   "metadata": {
    "collapsed": false
   },
   "outputs": [
    {
     "name": "stdout",
     "output_type": "stream",
     "text": [
      "+--------------------------+--------+----------------+\n",
      "|            id            | gender | predict_gender |\n",
      "+--------------------------+--------+----------------+\n",
      "| dvx/7qMM1H4W44f5dcItNg== |   1    |      0.0       |\n",
      "| 21zzZT+VppeVwiw0vmqQHg== |   0    |      0.0       |\n",
      "| 6eFtHWDW8oAw4Hj19Hrn6A== |   1    |      1.0       |\n",
      "| rVa65KCgw6ZpxUcftmqmWA== |   1    |      1.0       |\n",
      "| 778S78u/wCVw25TxTMAxaw== |   0    |      1.0       |\n",
      "| s8ngjR7TiQ9Nd0PVtLFiOA== |   0    |      0.0       |\n",
      "| i4ivBgp08aLBPxZE6XzndQ== |   1    | 0.666666666667 |\n",
      "| 3C4oe7Zn5aK0kWOgscfaNA== |   1    |      0.0       |\n",
      "| VMJfxegv4d/gp8yRKxc/Zg== |   1    |      1.0       |\n",
      "| t9waCQglBQpKp24YzQTDoQ== |   1    |      1.0       |\n",
      "+--------------------------+--------+----------------+\n",
      "+-------------------------------+\n",
      "|            cg2_dict           |\n",
      "+-------------------------------+\n",
      "| {'\\xe7\\x83\\xad\\xe6\\xb0\\xb4... |\n",
      "| {'\\xe6\\x95\\xa3\\xe7\\x83\\xad... |\n",
      "| {'\\xe6\\x89\\x8b\\xe6\\x9c\\xba... |\n",
      "| {'\\xe7\\x94\\xb7\\xe8\\xa1\\xa8... |\n",
      "| {'\\xe6\\x8a\\x95\\xe5\\xbd\\xb1... |\n",
      "| {'\\xe9\\x98\\xb2\\xe8\\xbe\\x90... |\n",
      "| {'\\xe8\\x91\\xa1\\xe8\\x90\\x84... |\n",
      "| {'\\xe7\\xba\\xa2\\xe8\\x8c\\xb6... |\n",
      "| {'\\xe5\\xa9\\xb4\\xe5\\x84\\xbf... |\n",
      "| {'\\xe7\\x94\\xb7\\xe5\\xbc\\x8f... |\n",
      "+-------------------------------+\n",
      "[4183 rows x 4 columns]\n",
      "Note: Only the head of the SFrame is printed.\n",
      "You can use print_rows(num_rows=m, num_columns=n) to print more rows and columns.\n"
     ]
    }
   ],
   "source": [
    "data_merging = data2.groupby(['id'],{'gender':gl.aggregate.SELECT_ONE('gender'), 'cg2_dict':gl.aggregate.SELECT_ONE('cg2_dict'),'predict_gender':gl.aggregate.AVG('predict_gender')})\n",
    "print data_merging"
   ]
  },
  {
   "cell_type": "code",
   "execution_count": 23,
   "metadata": {
    "collapsed": false
   },
   "outputs": [
    {
     "name": "stdout",
     "output_type": "stream",
     "text": [
      "+--------------------------+--------+----------------+\n",
      "|            id            | gender | predict_gender |\n",
      "+--------------------------+--------+----------------+\n",
      "| dvx/7qMM1H4W44f5dcItNg== |   1    |      0.0       |\n",
      "| 21zzZT+VppeVwiw0vmqQHg== |   0    |      0.0       |\n",
      "| 6eFtHWDW8oAw4Hj19Hrn6A== |   1    |      1.0       |\n",
      "| rVa65KCgw6ZpxUcftmqmWA== |   1    |      1.0       |\n",
      "| 778S78u/wCVw25TxTMAxaw== |   0    |      1.0       |\n",
      "| s8ngjR7TiQ9Nd0PVtLFiOA== |   0    |      0.0       |\n",
      "| i4ivBgp08aLBPxZE6XzndQ== |   1    | 0.666666666667 |\n",
      "| 3C4oe7Zn5aK0kWOgscfaNA== |   1    |      0.0       |\n",
      "| VMJfxegv4d/gp8yRKxc/Zg== |   1    |      1.0       |\n",
      "| t9waCQglBQpKp24YzQTDoQ== |   1    |      1.0       |\n",
      "+--------------------------+--------+----------------+\n",
      "+-------------------------------+------------------+\n",
      "|            cg2_dict           | predict_accuracy |\n",
      "+-------------------------------+------------------+\n",
      "| {'\\xe7\\x83\\xad\\xe6\\xb0\\xb4... |        0         |\n",
      "| {'\\xe6\\x95\\xa3\\xe7\\x83\\xad... |        1         |\n",
      "| {'\\xe6\\x89\\x8b\\xe6\\x9c\\xba... |        1         |\n",
      "| {'\\xe7\\x94\\xb7\\xe8\\xa1\\xa8... |        1         |\n",
      "| {'\\xe6\\x8a\\x95\\xe5\\xbd\\xb1... |        0         |\n",
      "| {'\\xe9\\x98\\xb2\\xe8\\xbe\\x90... |        1         |\n",
      "| {'\\xe8\\x91\\xa1\\xe8\\x90\\x84... |        1         |\n",
      "| {'\\xe7\\xba\\xa2\\xe8\\x8c\\xb6... |        0         |\n",
      "| {'\\xe5\\xa9\\xb4\\xe5\\x84\\xbf... |        1         |\n",
      "| {'\\xe7\\x94\\xb7\\xe5\\xbc\\x8f... |        1         |\n",
      "+-------------------------------+------------------+\n",
      "[4183 rows x 5 columns]\n",
      "Note: Only the head of the SFrame is printed.\n",
      "You can use print_rows(num_rows=m, num_columns=n) to print more rows and columns.\n"
     ]
    }
   ],
   "source": [
    "def predict_accuracy(x):\n",
    "    if abs(x['gender'] - x['predict_gender']) < 0.5:\n",
    "        return 1\n",
    "    elif abs(x['gender'] - x['predict_gender']) > 0.5:\n",
    "        return 0\n",
    "    else:\n",
    "        return -1\n",
    "data_merging['predict_accuracy'] = data_merging.apply(lambda x: predict_accuracy(x))\n",
    "print data_merging"
   ]
  },
  {
   "cell_type": "code",
   "execution_count": 24,
   "metadata": {
    "collapsed": false
   },
   "outputs": [
    {
     "name": "stdout",
     "output_type": "stream",
     "text": [
      "+--------------------------+--------+----------------+\n",
      "|            id            | gender | predict_gender |\n",
      "+--------------------------+--------+----------------+\n",
      "| 28XhBQmsrQrZr4F650OcGA== |   1    |      0.5       |\n",
      "| 9ajt5RLMT6x2/XBD8tmkMg== |   1    |      0.5       |\n",
      "| MMnpB82vxwM5IoTffe+wgw== |   1    |      0.5       |\n",
      "| EDQh6JZ01ISsATUUVegX0A== |   0    |      0.5       |\n",
      "| kzLW+62J84y3XgTTp2XVOQ== |   1    |      0.5       |\n",
      "| g/uO1gZXYKEqlHgWqu048A== |   1    |      0.5       |\n",
      "| qSphRTZYvrUy0/7i9gyJSg== |   1    |      0.5       |\n",
      "| fTjor93nUsRgSL1Nf93EOw== |   1    |      0.5       |\n",
      "| sq0kyMgH2y+vdVWdBV0fNA== |   0    |      0.5       |\n",
      "| cUNuPJ1glJkqNu3OERwtSg== |   1    |      0.5       |\n",
      "+--------------------------+--------+----------------+\n",
      "+-------------------------------+------------------+\n",
      "|            cg2_dict           | predict_accuracy |\n",
      "+-------------------------------+------------------+\n",
      "| {'\\xe9\\xb1\\xbc\\xe7\\xab\\xbf... |        -1        |\n",
      "| {'\\xe5\\x85\\xb6\\xe5\\xae\\x83... |        -1        |\n",
      "| {'\\xe5\\x8a\\x9e\\xe5\\x85\\xac... |        -1        |\n",
      "| {'\\xe6\\x88\\x92\\xe6\\x8c\\x87... |        -1        |\n",
      "| {'\\xe7\\xaf\\xae\\xe7\\x90\\x83... |        -1        |\n",
      "| {'\\xe9\\xa5\\xae\\xe6\\x96\\x99... |        -1        |\n",
      "| {'\\xe7\\x87\\x83\\xe6\\xb0\\x94... |        -1        |\n",
      "| {'\\xe4\\xbe\\xbf\\xe6\\x90\\xba... |        -1        |\n",
      "| {'\\xe5\\xad\\x95\\xe5\\xa6\\x87... |        -1        |\n",
      "| {'\\xe9\\x9d\\xa2\\xe8\\x86\\x9c... |        -1        |\n",
      "+-------------------------------+------------------+\n",
      "[237 rows x 5 columns]\n",
      "Note: Only the head of the SFrame is printed.\n",
      "You can use print_rows(num_rows=m, num_columns=n) to print more rows and columns.\n",
      "+--------------------------+--------+----------------+\n",
      "|            id            | gender | predict_gender |\n",
      "+--------------------------+--------+----------------+\n",
      "| 21zzZT+VppeVwiw0vmqQHg== |   0    |      0.0       |\n",
      "| 6eFtHWDW8oAw4Hj19Hrn6A== |   1    |      1.0       |\n",
      "| rVa65KCgw6ZpxUcftmqmWA== |   1    |      1.0       |\n",
      "| s8ngjR7TiQ9Nd0PVtLFiOA== |   0    |      0.0       |\n",
      "| i4ivBgp08aLBPxZE6XzndQ== |   1    | 0.666666666667 |\n",
      "| VMJfxegv4d/gp8yRKxc/Zg== |   1    |      1.0       |\n",
      "| t9waCQglBQpKp24YzQTDoQ== |   1    |      1.0       |\n",
      "| gsxO8pXm+KOD+cxVexywHg== |   1    |      1.0       |\n",
      "| Avd4cwg1Qvn8P/MWi3XX0Q== |   1    |      1.0       |\n",
      "| h3uSBtR5VIOrlUxlsL8dhQ== |   1    |      1.0       |\n",
      "+--------------------------+--------+----------------+\n",
      "+-------------------------------+------------------+\n",
      "|            cg2_dict           | predict_accuracy |\n",
      "+-------------------------------+------------------+\n",
      "| {'\\xe6\\x95\\xa3\\xe7\\x83\\xad... |        1         |\n",
      "| {'\\xe6\\x89\\x8b\\xe6\\x9c\\xba... |        1         |\n",
      "| {'\\xe7\\x94\\xb7\\xe8\\xa1\\xa8... |        1         |\n",
      "| {'\\xe9\\x98\\xb2\\xe8\\xbe\\x90... |        1         |\n",
      "| {'\\xe8\\x91\\xa1\\xe8\\x90\\x84... |        1         |\n",
      "| {'\\xe5\\xa9\\xb4\\xe5\\x84\\xbf... |        1         |\n",
      "| {'\\xe7\\x94\\xb7\\xe5\\xbc\\x8f... |        1         |\n",
      "| {'\\xe6\\x89\\x8b\\xe6\\x9c\\xba... |        1         |\n",
      "| {'\\xe6\\x9c\\xba\\xe7\\xae\\xb1... |        1         |\n",
      "| {'\\xe7\\x94\\xb7\\xe8\\xa1\\xa8... |        1         |\n",
      "+-------------------------------+------------------+\n",
      "[2490 rows x 5 columns]\n",
      "Note: Only the head of the SFrame is printed.\n",
      "You can use print_rows(num_rows=m, num_columns=n) to print more rows and columns.\n",
      "+--------------------------+--------+----------------+\n",
      "|            id            | gender | predict_gender |\n",
      "+--------------------------+--------+----------------+\n",
      "| dvx/7qMM1H4W44f5dcItNg== |   1    |      0.0       |\n",
      "| 778S78u/wCVw25TxTMAxaw== |   0    |      1.0       |\n",
      "| 3C4oe7Zn5aK0kWOgscfaNA== |   1    |      0.0       |\n",
      "| JM0Or33nStFDLACZUx9X5g== |   0    |      1.0       |\n",
      "| 4RgZEcXFBHMSVbOGnVTRaA== |   0    |      1.0       |\n",
      "| WJCQeRml4ZLhsjqruUF0QQ== |   0    |      1.0       |\n",
      "| FBHx9eUp53RUFOxHggRbdQ== |   1    |      0.0       |\n",
      "| H35kV+oYJwUCytTc5aXHTg== |   1    |      0.0       |\n",
      "| nJkfB8uywY7RUdVLakXLEw== |   1    |      0.0       |\n",
      "| IX/KymzJNCxJMnJ5FCsZMw== |   1    |      0.0       |\n",
      "+--------------------------+--------+----------------+\n",
      "+-------------------------------+------------------+\n",
      "|            cg2_dict           | predict_accuracy |\n",
      "+-------------------------------+------------------+\n",
      "| {'\\xe7\\x83\\xad\\xe6\\xb0\\xb4... |        0         |\n",
      "| {'\\xe6\\x8a\\x95\\xe5\\xbd\\xb1... |        0         |\n",
      "| {'\\xe7\\xba\\xa2\\xe8\\x8c\\xb6... |        0         |\n",
      "| {'\\xe4\\xb9\\xb3\\xe6\\xb6\\xb2... |        0         |\n",
      "| {'\\xe6\\x89\\x8b\\xe6\\x9c\\xba... |        0         |\n",
      "| {'\\xe6\\xb4\\x81\\xe9\\x9d\\xa2... |        0         |\n",
      "| {'\\xe5\\xa9\\xb4\\xe5\\xb9\\xbc... |        0         |\n",
      "| {'\\xe4\\xbf\\x9d\\xe9\\xb2\\x9c... |        0         |\n",
      "| {'\\xe8\\x80\\xb3\\xe6\\x9c\\xba... |        0         |\n",
      "| {'\\xe6\\x8b\\x89\\xe6\\x8b\\x89... |        0         |\n",
      "+-------------------------------+------------------+\n",
      "[1456 rows x 5 columns]\n",
      "Note: Only the head of the SFrame is printed.\n",
      "You can use print_rows(num_rows=m, num_columns=n) to print more rows and columns.\n"
     ]
    }
   ],
   "source": [
    "gender_uncertain = data_merging.filter_by(-1,'predict_accuracy')\n",
    "gender_true = data_merging.filter_by(1,'predict_accuracy')\n",
    "gender_false = data_merging.filter_by(0,'predict_accuracy')\n",
    "print gender_uncertain\n",
    "print gender_true\n",
    "print gender_false"
   ]
  },
  {
   "cell_type": "code",
   "execution_count": 25,
   "metadata": {
    "collapsed": false
   },
   "outputs": [
    {
     "name": "stdout",
     "output_type": "stream",
     "text": [
      "Canvas is accessible via web browser at the URL: http://localhost:6681/index.html\n",
      "Opening Canvas in default web browser.\n"
     ]
    }
   ],
   "source": [
    "gender_false.show()"
   ]
  },
  {
   "cell_type": "code",
   "execution_count": 30,
   "metadata": {
    "collapsed": false
   },
   "outputs": [
    {
     "data": {
      "text/html": [
       "<pre>Finished parsing file E:\\Datasets\\xinjiang\\session_gain\\user_information_all.csv</pre>"
      ],
      "text/plain": [
       "Finished parsing file E:\\Datasets\\xinjiang\\session_gain\\user_information_all.csv"
      ]
     },
     "metadata": {},
     "output_type": "display_data"
    },
    {
     "data": {
      "text/html": [
       "<pre>Parsing completed. Parsed 100 lines in 1.20932 secs.</pre>"
      ],
      "text/plain": [
       "Parsing completed. Parsed 100 lines in 1.20932 secs."
      ]
     },
     "metadata": {},
     "output_type": "display_data"
    },
    {
     "name": "stdout",
     "output_type": "stream",
     "text": [
      "------------------------------------------------------\n",
      "Inferred types from first 100 line(s) of file as \n",
      "column_type_hints=[str,str,str,str,long,str,str,long,str,str,long]\n",
      "If parsing fails due to incorrect types, you can correct\n",
      "the inferred type list above and pass it to read_csv in\n",
      "the column_type_hints argument\n",
      "------------------------------------------------------\n"
     ]
    },
    {
     "data": {
      "text/html": [
       "<pre>Finished parsing file E:\\Datasets\\xinjiang\\session_gain\\user_information_all.csv</pre>"
      ],
      "text/plain": [
       "Finished parsing file E:\\Datasets\\xinjiang\\session_gain\\user_information_all.csv"
      ]
     },
     "metadata": {},
     "output_type": "display_data"
    },
    {
     "data": {
      "text/html": [
       "<pre>Parsing completed. Parsed 189765 lines in 0.750431 secs.</pre>"
      ],
      "text/plain": [
       "Parsing completed. Parsed 189765 lines in 0.750431 secs."
      ]
     },
     "metadata": {},
     "output_type": "display_data"
    }
   ],
   "source": [
    "data_all = gl.SFrame.read_csv(r'E:\\Datasets\\xinjiang\\session_gain\\user_information_all.csv', header = True, delimiter=',')"
   ]
  },
  {
   "cell_type": "code",
   "execution_count": 31,
   "metadata": {
    "collapsed": false
   },
   "outputs": [
    {
     "name": "stdout",
     "output_type": "stream",
     "text": [
      "Canvas is updated and available in a tab in the default browser.\n"
     ]
    }
   ],
   "source": [
    "gender_uncertain.show()"
   ]
  },
  {
   "cell_type": "code",
   "execution_count": 32,
   "metadata": {
    "collapsed": false
   },
   "outputs": [
    {
     "name": "stdout",
     "output_type": "stream",
     "text": [
      "Canvas is updated and available in a tab in the default browser.\n"
     ]
    }
   ],
   "source": [
    "gender_true.show()"
   ]
  },
  {
   "cell_type": "code",
   "execution_count": null,
   "metadata": {
    "collapsed": true
   },
   "outputs": [],
   "source": []
  }
 ],
 "metadata": {
  "anaconda-cloud": {},
  "kernelspec": {
   "display_name": "Python 2",
   "language": "python",
   "name": "python2"
  },
  "language_info": {
   "codemirror_mode": {
    "name": "ipython",
    "version": 2
   },
   "file_extension": ".py",
   "mimetype": "text/x-python",
   "name": "python",
   "nbconvert_exporter": "python",
   "pygments_lexer": "ipython2",
   "version": "2.7.11"
  }
 },
 "nbformat": 4,
 "nbformat_minor": 0
}
