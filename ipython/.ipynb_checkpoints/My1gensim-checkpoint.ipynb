{
 "cells": [
  {
   "cell_type": "code",
   "execution_count": 1,
   "metadata": {
    "collapsed": false,
    "scrolled": true
   },
   "outputs": [
    {
     "name": "stdout",
     "output_type": "stream",
     "text": [
      "Using matplotlib backend: Qt4Agg\n",
      "Populating the interactive namespace from numpy and matplotlib\n"
     ]
    }
   ],
   "source": [
    "%pylab\n",
    "import graphlab as gl"
   ]
  },
  {
   "cell_type": "code",
   "execution_count": null,
   "metadata": {
    "collapsed": false
   },
   "outputs": [],
   "source": [
    "print 'first train'"
   ]
  },
  {
   "cell_type": "code",
   "execution_count": null,
   "metadata": {
    "collapsed": false
   },
   "outputs": [],
   "source": [
    "# coding:utf-8\n",
    "from gensim.models import Word2Vec\n",
    "import logging,gensim,os\n",
    "\n",
    "class TextLoader(object):\n",
    "    def __init__(self):\n",
    "        pass\n",
    "\n",
    "    def __iter__(self):\n",
    "        input = open(r'E:\\Datasets\\word2vec\\segmentation.txt','r')\n",
    "        line = str(input.readline())\n",
    "        counter = 0\n",
    "        while line!=None and len(line) > 4:\n",
    "            #print line\n",
    "            segments = line.split(' ')\n",
    "            yield  segments\n",
    "            line = str(input.readline())\n",
    "\n",
    "sentences = TextLoader()\n",
    "model = gensim.models.Word2Vec(sentences, min_count = 1, workers=8)\n"
   ]
  },
  {
   "cell_type": "code",
   "execution_count": null,
   "metadata": {
    "collapsed": false
   },
   "outputs": [],
   "source": [
    "model.save(r'E:\\Datasets\\word2vec\\test.model')\n",
    "print 'ok'"
   ]
  },
  {
   "cell_type": "code",
   "execution_count": null,
   "metadata": {
    "collapsed": false
   },
   "outputs": [],
   "source": [
    "from gensim.models import Word2Vec\n",
    "import logging,gensim,os\n",
    "\n",
    "#模型的加载\n",
    "model = Word2Vec.load(r'E:\\Datasets\\word2vec\\test.model')\n",
    "#比较两个词语的相似度,越高越好\n",
    "print model\n",
    "print 'hhhhhhhhhhhhh'"
   ]
  },
  {
   "cell_type": "code",
   "execution_count": null,
   "metadata": {
    "collapsed": false
   },
   "outputs": [],
   "source": [
    "for i in model.vocab:\n",
    "    print '****'\n",
    "    print i"
   ]
  },
  {
   "cell_type": "code",
   "execution_count": null,
   "metadata": {
    "collapsed": false
   },
   "outputs": [],
   "source": [
    "result = model.most_similar('郎平')"
   ]
  },
  {
   "cell_type": "code",
   "execution_count": null,
   "metadata": {
    "collapsed": false
   },
   "outputs": [],
   "source": [
    "for i in result:\n",
    "    print i[0].decode('utf-8'), i[1]"
   ]
  }
 ],
 "metadata": {
  "kernelspec": {
   "display_name": "Python 2",
   "language": "python",
   "name": "python2"
  },
  "language_info": {
   "codemirror_mode": {
    "name": "ipython",
    "version": 2
   },
   "file_extension": ".py",
   "mimetype": "text/x-python",
   "name": "python",
   "nbconvert_exporter": "python",
   "pygments_lexer": "ipython2",
   "version": "2.7.11"
  }
 },
 "nbformat": 4,
 "nbformat_minor": 0
}
