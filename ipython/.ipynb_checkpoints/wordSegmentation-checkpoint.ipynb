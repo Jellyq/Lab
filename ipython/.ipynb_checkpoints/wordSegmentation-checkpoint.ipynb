{
 "cells": [
  {
   "cell_type": "code",
   "execution_count": 1,
   "metadata": {
    "collapsed": false
   },
   "outputs": [
    {
     "name": "stdout",
     "output_type": "stream",
     "text": [
      "Using matplotlib backend: Qt4Agg\n",
      "Populating the interactive namespace from numpy and matplotlib\n"
     ]
    }
   ],
   "source": [
    "%pylab\n",
    "import jieba"
   ]
  },
  {
   "cell_type": "code",
   "execution_count": 9,
   "metadata": {
    "collapsed": false
   },
   "outputs": [
    {
     "ename": "IndentationError",
     "evalue": "unexpected indent (<ipython-input-9-bf9d4bbd7876>, line 6)",
     "output_type": "error",
     "traceback": [
      "\u001b[1;36m  File \u001b[1;32m\"<ipython-input-9-bf9d4bbd7876>\"\u001b[1;36m, line \u001b[1;32m6\u001b[0m\n\u001b[1;33m    seg_list = jieba.cut(line, cut_all=False)\u001b[0m\n\u001b[1;37m    ^\u001b[0m\n\u001b[1;31mIndentationError\u001b[0m\u001b[1;31m:\u001b[0m unexpected indent\n"
     ]
    }
   ],
   "source": [
    "input = open(r'E:\\Datasets2\\item_name2.csv','r')\n",
    "output = open(r'E:\\Datasets\\word2vec\\segmentation.txt','w+')\n",
    "line = input.readline()\n",
    "#seg_list = jieba.cut(line, cut_all=True)\n",
    "#print(\"Full Mode: \" + \"/ \".join(seg_list))  # 全模式\n",
    "seg_list = jieba.cut(line, cut_all=False)\n",
    "#print(\"Default Mode: \" + \"/ \".join(seg_list))  # 精确模式\n",
    "#seg_list = jieba.cut_for_search(line)  # 搜索引擎模式\n",
    "#print(\", \".join(seg_list))"
   ]
  },
  {
   "cell_type": "code",
   "execution_count": 6,
   "metadata": {
    "collapsed": false
   },
   "outputs": [
    {
     "name": "stdout",
     "output_type": "stream",
     "text": [
      "finished\n"
     ]
    }
   ],
   "source": [
    "for i in seg_list:\n",
    "    if i !='\\n' and i !='\\s' and i !=u'。':\n",
    "        output.write(i.encode('utf-8') + ' ')\n",
    "    else:\n",
    "        output.write(i.encode('utf-8') + '\\n')\n",
    "print 'finished'\n",
    "output.close()"
   ]
  },
  {
   "cell_type": "code",
   "execution_count": 7,
   "metadata": {
    "collapsed": false
   },
   "outputs": [
    {
     "name": "stdout",
     "output_type": "stream",
     "text": [
      "<closed file 'E:\\\\Datasets\\\\word2vec\\\\segmentation.txt', mode 'w+' at 0x000000000739A810>\n"
     ]
    }
   ],
   "source": [
    "print output"
   ]
  },
  {
   "cell_type": "code",
   "execution_count": null,
   "metadata": {
    "collapsed": true
   },
   "outputs": [],
   "source": []
  }
 ],
 "metadata": {
  "kernelspec": {
   "display_name": "Python 2",
   "language": "python",
   "name": "python2"
  },
  "language_info": {
   "codemirror_mode": {
    "name": "ipython",
    "version": 2
   },
   "file_extension": ".py",
   "mimetype": "text/x-python",
   "name": "python",
   "nbconvert_exporter": "python",
   "pygments_lexer": "ipython2",
   "version": "2.7.11"
  }
 },
 "nbformat": 4,
 "nbformat_minor": 0
}
