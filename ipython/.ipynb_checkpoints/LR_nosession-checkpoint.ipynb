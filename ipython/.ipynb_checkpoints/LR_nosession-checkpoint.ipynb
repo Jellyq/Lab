{
 "cells": [
  {
   "cell_type": "code",
   "execution_count": 1,
   "metadata": {
    "collapsed": false
   },
   "outputs": [
    {
     "name": "stdout",
     "output_type": "stream",
     "text": [
      "Using matplotlib backend: Qt4Agg\n",
      "Populating the interactive namespace from numpy and matplotlib\n"
     ]
    },
    {
     "name": "stderr",
     "output_type": "stream",
     "text": [
      "[INFO] graphlab.cython.cy_server: GraphLab Create v2.1 started. Logging: C:\\Users\\Jully\\AppData\\Local\\Temp\\graphlab_server_1477187291.log.0\n"
     ]
    },
    {
     "name": "stdout",
     "output_type": "stream",
     "text": [
      "This non-commercial license of GraphLab Create for academic use is assigned to qyr16@mails.tsinghua.edu.cn and will expire on September 05, 2017.\n"
     ]
    },
    {
     "data": {
      "text/html": [
       "<pre>Finished parsing file E:\\Datasets\\xinjiang\\session_gain\\user_information_all.csv</pre>"
      ],
      "text/plain": [
       "Finished parsing file E:\\Datasets\\xinjiang\\session_gain\\user_information_all.csv"
      ]
     },
     "metadata": {},
     "output_type": "display_data"
    },
    {
     "data": {
      "text/html": [
       "<pre>Parsing completed. Parsed 100 lines in 1.04857 secs.</pre>"
      ],
      "text/plain": [
       "Parsing completed. Parsed 100 lines in 1.04857 secs."
      ]
     },
     "metadata": {},
     "output_type": "display_data"
    },
    {
     "name": "stdout",
     "output_type": "stream",
     "text": [
      "------------------------------------------------------\n",
      "Inferred types from first 100 line(s) of file as \n",
      "column_type_hints=[str,str,str,str,long,str,str,long,str,str,long]\n",
      "If parsing fails due to incorrect types, you can correct\n",
      "the inferred type list above and pass it to read_csv in\n",
      "the column_type_hints argument\n",
      "------------------------------------------------------\n"
     ]
    },
    {
     "data": {
      "text/html": [
       "<pre>Finished parsing file E:\\Datasets\\xinjiang\\session_gain\\user_information_all.csv</pre>"
      ],
      "text/plain": [
       "Finished parsing file E:\\Datasets\\xinjiang\\session_gain\\user_information_all.csv"
      ]
     },
     "metadata": {},
     "output_type": "display_data"
    },
    {
     "data": {
      "text/html": [
       "<pre>Parsing completed. Parsed 189765 lines in 0.772968 secs.</pre>"
      ],
      "text/plain": [
       "Parsing completed. Parsed 189765 lines in 0.772968 secs."
      ]
     },
     "metadata": {},
     "output_type": "display_data"
    },
    {
     "name": "stdout",
     "output_type": "stream",
     "text": [
      "+--------------------------+--------+------------------------------------------------+\n",
      "|            id            | gender |                      cg2                       |\n",
      "+--------------------------+--------+------------------------------------------------+\n",
      "| STXLqpgURkGzOr3N+nYIPQ== |   1    | [保温杯, 剃须刀, 手机保护套, 洗车配件, 剃须... |\n",
      "| WqAMkVL6oXemXYYAffjC9Q== |   1    | [车载影音, 车载配件, 跑步鞋, 车载影音, 底盘... |\n",
      "| Avd4cwg1Qvn8P/MWi3XX0Q== |   1    |                     [机箱]                     |\n",
      "| vdRXqlIFQ35UlKS+TOsZxQ== |   1    |                   [车载影音]                   |\n",
      "| JjtppX5Q9tCdQrvWz2BwgA== |   1    | [功能小件, 功能小件, 功能小件, 功能小件, 功... |\n",
      "| XQUofsZH0nJbpcWaOHMkDQ== |   1    |                [电池/移动电源]                 |\n",
      "| +2/nmrS9KYpqFYZa4NnP1Q== |   1    |                     [男表]                     |\n",
      "| KtMStdKaNzWVZb5z+os0wQ== |   1    |                   [男式内裤]                   |\n",
      "| J00kiRFefEN8lPfBHPn0DQ== |   1    |      [侦探/悬疑/推理, 散文/随笔/书信]...       |\n",
      "| aZPJ39O8ReXOs5n8i8SP0A== |   1    |                     [手机]                     |\n",
      "+--------------------------+--------+------------------------------------------------+\n",
      "+--------+\n",
      "| random |\n",
      "+--------+\n",
      "|   1    |\n",
      "|   1    |\n",
      "|   1    |\n",
      "|   1    |\n",
      "|   1    |\n",
      "|   1    |\n",
      "|   1    |\n",
      "|   1    |\n",
      "|   1    |\n",
      "|   1    |\n",
      "+--------+\n",
      "[2269 rows x 4 columns]\n",
      "Note: Only the head of the SFrame is printed.\n",
      "You can use print_rows(num_rows=m, num_columns=n) to print more rows and columns.\n",
      "+--------------------------+--------+------------------------------------------------+\n",
      "|            id            | gender |                      cg2                       |\n",
      "+--------------------------+--------+------------------------------------------------+\n",
      "| h3uSBtR5VIOrlUxlsL8dhQ== |   1    |              [手机, 充电器, 男表]              |\n",
      "| NPKvSunGd2A93m68E/sZhA== |   1    |                    [笔记本]                    |\n",
      "| eszL3RvGDiPEQCOhQ7O5nA== |   1    |                   [车载配件]                   |\n",
      "| llqT13omBjeAudoPEZPuVg== |   1    | [乒羽网服, 乒羽网服, 乒羽网服, 乒羽网服, 乒... |\n",
      "| gv4PUNhpYymhxXvj1lJzdQ== |   1    |      [休闲鞋, 休闲鞋, 休闲鞋, 休闲鞋]...       |\n",
      "| oXDFEWGBD2QP4oVI26ECKQ== |   1    |  [创意礼品, 创意礼品, 创意礼品, 创意礼品]...   |\n",
      "| W7LNb5ihHMVhAqIlEo+GzA== |   1    |                    [油烟机]                    |\n",
      "| lu0vM0CjGMIzqhR+xhQ8QQ== |   1    |                     [手机]                     |\n",
      "| 7PDbNDPYbai9g6tRW5RlBA== |   1    |   [手机, 手机, 手机, 手机, 手机, 手机, 手...   |\n",
      "| p6HZygYh8r2iPPC6e4n2SA== |   1    | [太阳镜, 男士钱包, 运动鞋, 男士钱包, 男士钱... |\n",
      "+--------------------------+--------+------------------------------------------------+\n",
      "+--------+\n",
      "| random |\n",
      "+--------+\n",
      "|   2    |\n",
      "|   2    |\n",
      "|   2    |\n",
      "|   2    |\n",
      "|   2    |\n",
      "|   2    |\n",
      "|   2    |\n",
      "|   2    |\n",
      "|   2    |\n",
      "|   2    |\n",
      "+--------+\n",
      "[1726 rows x 4 columns]\n",
      "Note: Only the head of the SFrame is printed.\n",
      "You can use print_rows(num_rows=m, num_columns=n) to print more rows and columns.\n",
      "+--------------------------+--------+------------------------------------------------+\n",
      "|            id            | gender |                      cg2                       |\n",
      "+--------------------------+--------+------------------------------------------------+\n",
      "| 6eFtHWDW8oAw4Hj19Hrn6A== |   1    | [剃须刀, 智能手环, 智能手环, 剃须刀, 手机,...  |\n",
      "| sUJraPpxbrYVyCwNldnMgw== |   1    |                [游戏本, 游戏本]                |\n",
      "| Od1j0mMAiTfuISPQ72tQjA== |   1    |      [T恤, T恤, T恤, T恤, T恤, T恤, T...       |\n",
      "| Vcp3jnomjZlgIN/JGOtOkg== |   1    |                   [火机烟具]                   |\n",
      "| oGUK3AB8xMqMY3P+36X4JA== |   1    |                     [手机]                     |\n",
      "| jj6xdtlqSrMFBEny+7cY+w== |   1    |          [笔记本, 笔记本, 笔记本]...           |\n",
      "| BZYw0l1cNFrf3RsfrWBBYg== |   1    |                    [理发器]                    |\n",
      "| CxVp+6E1H4KsbdEBWbyxxA== |   1    |                   [饼干蛋糕]                   |\n",
      "| /WZCst6HoyebmxsW/yzgDA== |   1    |                    [休闲鞋]                    |\n",
      "| us0I16ISCkY2ERNNFPQaSQ== |   1    | [改装配件, 车身装饰件, 车灯, 车灯, 车身装饰... |\n",
      "+--------------------------+--------+------------------------------------------------+\n",
      "+--------+\n",
      "| random |\n",
      "+--------+\n",
      "|   3    |\n",
      "|   3    |\n",
      "|   3    |\n",
      "|   3    |\n",
      "|   3    |\n",
      "|   3    |\n",
      "|   3    |\n",
      "|   3    |\n",
      "|   3    |\n",
      "|   3    |\n",
      "+--------+\n",
      "[2930 rows x 4 columns]\n",
      "Note: Only the head of the SFrame is printed.\n",
      "You can use print_rows(num_rows=m, num_columns=n) to print more rows and columns.\n",
      "+--------------------------+--------+------------------------------------------------+\n",
      "|            id            | gender |                      cg2                       |\n",
      "+--------------------------+--------+------------------------------------------------+\n",
      "| PAtvuzG6q729FfUStW3yxw== |   1    |  [冰箱, 油烟机, 油烟机, 冰箱, 冰箱, 冰箱,...   |\n",
      "| m7PsWGCo6etnhGEtOhjG5A== |   1    |                [家庭影院, 手机]                |\n",
      "| TT06uPuI6MrleavGEcjJbQ== |   1    |     [MP3/MP4, 啤酒, 啤酒, 休闲衣裤, MP...      |\n",
      "| 2juS8haktz6uH2K3ksPHUg== |   1    |                    [孕妈装]                    |\n",
      "| eU9MeovvfrIg/xkIZVbbJg== |   1    |                  [手机, 手机]                  |\n",
      "| GU/CdjTGjmeG/GGv42eHKQ== |   1    | [文件管理, 平板电视, 头枕腰靠, 净水器, 空调... |\n",
      "| S0epwR1NowtYqa40J2Rw3A== |   1    |               [女表, 女表, 女表]               |\n",
      "| TK3zTs6jKKr1av20gJbe8Q== |   1    |  [运动裤, 运动裤, 跑步鞋, 运动裤, 跑步鞋, ...  |\n",
      "| g+lNU0kQUZYR6GWstt4omw== |   1    |                   [智能手环]                   |\n",
      "| ChfPm2McfW1V5EuKwlb/1w== |   1    |       [护发, 护发, 护发, 护发, 护发]...        |\n",
      "+--------------------------+--------+------------------------------------------------+\n",
      "+--------+\n",
      "| random |\n",
      "+--------+\n",
      "|   4    |\n",
      "|   4    |\n",
      "|   4    |\n",
      "|   4    |\n",
      "|   4    |\n",
      "|   4    |\n",
      "|   4    |\n",
      "|   4    |\n",
      "|   4    |\n",
      "|   4    |\n",
      "+--------+\n",
      "[1732 rows x 4 columns]\n",
      "Note: Only the head of the SFrame is printed.\n",
      "You can use print_rows(num_rows=m, num_columns=n) to print more rows and columns.\n",
      "+--------------------------+--------+------------------------------------------------+\n",
      "|            id            | gender |                      cg2                       |\n",
      "+--------------------------+--------+------------------------------------------------+\n",
      "| IgmnWEXllJmfflmohsx/9A== |   1    | [早教益智, 早教益智, 早教启智, 电动车, 早教... |\n",
      "| L5coKwh+b3YzP8Gq4qrQKw== |   1    |                [手足, 毛巾浴巾]                |\n",
      "| 6IHn9HU6ZZthNSHnEAZW3w== |   1    |                  [洋酒, 洋酒]                  |\n",
      "| 9fxVOCHt/8MBjVcJrJVtWw== |   1    |      [按摩器, 笔类/书写工具, 平板电视]...      |\n",
      "| 7iAgWPCs+1uPZfMN59/9Ew== |   1    |                    [打印机]                    |\n",
      "| StpAmdFW/btoHwS56HLFPw== |   1    |              [智能手环, 智能手环]              |\n",
      "| 6xPDH1CA6CfMxZzWoK3qXA== |   1    |  [腰包/胸包, 饮料, 跑步机, 饮料, 智能家居,...  |\n",
      "| rVa65KCgw6aQo1CPPX8KFA== |   1    |       [测量工具, 测量工具, 测量工具]...        |\n",
      "| 6l9N9JclFJvS7ATMizkofQ== |   1    | [婴儿尿裤, 拉拉裤, 拉拉裤, 婴儿尿裤, 婴儿尿... |\n",
      "| f0cURXFQSV/aHqvjDDcA0g== |   1    |   [手机, 手机, 手机, 手机, 手机, 手机, 手...   |\n",
      "+--------------------------+--------+------------------------------------------------+\n",
      "+--------+\n",
      "| random |\n",
      "+--------+\n",
      "|   5    |\n",
      "|   5    |\n",
      "|   5    |\n",
      "|   5    |\n",
      "|   5    |\n",
      "|   5    |\n",
      "|   5    |\n",
      "|   5    |\n",
      "|   5    |\n",
      "|   5    |\n",
      "+--------+\n",
      "[2420 rows x 4 columns]\n",
      "Note: Only the head of the SFrame is printed.\n",
      "You can use print_rows(num_rows=m, num_columns=n) to print more rows and columns.\n"
     ]
    }
   ],
   "source": [
    "%pylab\n",
    "import graphlab as gl\n",
    "data = gl.SFrame.read_csv(r'E:\\Datasets\\xinjiang\\session_gain\\user_information_all.csv', delimiter = ',', header = True)\n",
    "import graphlab.aggregate as agg\n",
    "data = data.groupby(['id'], operations = {'gender': agg.SELECT_ONE('gender'),\n",
    "                                                     'cg2': agg.CONCAT('cg2')})\n",
    "data['random'] = 0\n",
    "male_raw = data[data['gender'] == 1]\n",
    "female_raw = data[data['gender'] == 0]\n",
    "import random\n",
    "male_raw['random'] = male_raw.apply(lambda x: random.randrange(1,6,1))\n",
    "female_raw['random'] = female_raw.apply(lambda x: random.randrange(1, 6, 1))\n",
    "random_check = female_raw[female_raw['random']==1]\n",
    "percentage = len(female_raw[female_raw['random']==1])/float(len(male_raw[male_raw['random']==1]))\n",
    "male_traffic = male_raw[male_raw['random']==1].sample(percentage,seed=1)\n",
    "female_traffic = female_raw[female_raw['random']==1]\n",
    "group1 = male_traffic.append(female_traffic)\n",
    "print group1\n",
    "percentage = len(female_raw[female_raw['random']==2])/float(len(male_raw[male_raw['random']==2]))\n",
    "male_traffic = male_raw[male_raw['random']==2].sample(percentage,seed=1)\n",
    "female_traffic = female_raw[female_raw['random']==2]\n",
    "group2 = male_traffic.append(female_traffic)\n",
    "print group2\n",
    "percentage = len(female_raw[female_raw['random']==3])/float(len(male_raw[male_raw['random']==3]))\n",
    "male_traffic = male_raw[male_raw['random']==3].sample(percentage,seed=1)\n",
    "female_traffic = female_raw[female_raw['random']==3]\n",
    "group3 = male_traffic.append(female_traffic)\n",
    "print group3\n",
    "percentage = len(female_raw[female_raw['random']==4])/float(len(male_raw[male_raw['random']==4]))\n",
    "male_traffic = male_raw[male_raw['random']==4].sample(percentage,seed=1)\n",
    "female_traffic = female_raw[female_raw['random']==4]\n",
    "group4 = male_traffic.append(female_traffic)\n",
    "print group4\n",
    "percentage = len(female_raw[female_raw['random']==5])/float(len(male_raw[male_raw['random']==5]))\n",
    "male_traffic = male_raw[male_raw['random']==5].sample(percentage,seed=1)\n",
    "female_traffic = female_raw[female_raw['random']==5]\n",
    "group5 = male_traffic.append(female_traffic)\n",
    "print group5"
   ]
  },
  {
   "cell_type": "code",
   "execution_count": 2,
   "metadata": {
    "collapsed": false
   },
   "outputs": [
    {
     "name": "stdout",
     "output_type": "stream",
     "text": [
      "PROGRESS: Creating a validation set from 5 percent of training data. This may take a while.\n",
      "          You can set ``validation_set=None`` to disable validation tracking.\n",
      "\n"
     ]
    },
    {
     "data": {
      "text/html": [
       "<pre>Logistic regression:</pre>"
      ],
      "text/plain": [
       "Logistic regression:"
      ]
     },
     "metadata": {},
     "output_type": "display_data"
    },
    {
     "data": {
      "text/html": [
       "<pre>--------------------------------------------------------</pre>"
      ],
      "text/plain": [
       "--------------------------------------------------------"
      ]
     },
     "metadata": {},
     "output_type": "display_data"
    },
    {
     "data": {
      "text/html": [
       "<pre>Number of examples          : 8409</pre>"
      ],
      "text/plain": [
       "Number of examples          : 8409"
      ]
     },
     "metadata": {},
     "output_type": "display_data"
    },
    {
     "data": {
      "text/html": [
       "<pre>Number of classes           : 2</pre>"
      ],
      "text/plain": [
       "Number of classes           : 2"
      ]
     },
     "metadata": {},
     "output_type": "display_data"
    },
    {
     "data": {
      "text/html": [
       "<pre>Number of feature columns   : 1</pre>"
      ],
      "text/plain": [
       "Number of feature columns   : 1"
      ]
     },
     "metadata": {},
     "output_type": "display_data"
    },
    {
     "data": {
      "text/html": [
       "<pre>Number of unpacked features : 1</pre>"
      ],
      "text/plain": [
       "Number of unpacked features : 1"
      ]
     },
     "metadata": {},
     "output_type": "display_data"
    },
    {
     "data": {
      "text/html": [
       "<pre>Number of coefficients    : 1360</pre>"
      ],
      "text/plain": [
       "Number of coefficients    : 1360"
      ]
     },
     "metadata": {},
     "output_type": "display_data"
    },
    {
     "data": {
      "text/html": [
       "<pre>Starting L-BFGS</pre>"
      ],
      "text/plain": [
       "Starting L-BFGS"
      ]
     },
     "metadata": {},
     "output_type": "display_data"
    },
    {
     "data": {
      "text/html": [
       "<pre>--------------------------------------------------------</pre>"
      ],
      "text/plain": [
       "--------------------------------------------------------"
      ]
     },
     "metadata": {},
     "output_type": "display_data"
    },
    {
     "data": {
      "text/html": [
       "<pre>+-----------+----------+-----------+--------------+-------------------+---------------------+</pre>"
      ],
      "text/plain": [
       "+-----------+----------+-----------+--------------+-------------------+---------------------+"
      ]
     },
     "metadata": {},
     "output_type": "display_data"
    },
    {
     "data": {
      "text/html": [
       "<pre>| Iteration | Passes   | Step size | Elapsed Time | Training-accuracy | Validation-accuracy |</pre>"
      ],
      "text/plain": [
       "| Iteration | Passes   | Step size | Elapsed Time | Training-accuracy | Validation-accuracy |"
      ]
     },
     "metadata": {},
     "output_type": "display_data"
    },
    {
     "data": {
      "text/html": [
       "<pre>+-----------+----------+-----------+--------------+-------------------+---------------------+</pre>"
      ],
      "text/plain": [
       "+-----------+----------+-----------+--------------+-------------------+---------------------+"
      ]
     },
     "metadata": {},
     "output_type": "display_data"
    },
    {
     "data": {
      "text/html": [
       "<pre>| 1         | 4        | 0.000595  | 1.152905     | 0.657985          | 0.586466            |</pre>"
      ],
      "text/plain": [
       "| 1         | 4        | 0.000595  | 1.152905     | 0.657985          | 0.586466            |"
      ]
     },
     "metadata": {},
     "output_type": "display_data"
    },
    {
     "data": {
      "text/html": [
       "<pre>| 2         | 6        | 1.000000  | 1.180904     | 0.653110          | 0.593985            |</pre>"
      ],
      "text/plain": [
       "| 2         | 6        | 1.000000  | 1.180904     | 0.653110          | 0.593985            |"
      ]
     },
     "metadata": {},
     "output_type": "display_data"
    },
    {
     "data": {
      "text/html": [
       "<pre>| 3         | 7        | 1.000000  | 1.200918     | 0.673921          | 0.563910            |</pre>"
      ],
      "text/plain": [
       "| 3         | 7        | 1.000000  | 1.200918     | 0.673921          | 0.563910            |"
      ]
     },
     "metadata": {},
     "output_type": "display_data"
    },
    {
     "data": {
      "text/html": [
       "<pre>| 4         | 8        | 1.000000  | 1.220904     | 0.662742          | 0.583960            |</pre>"
      ],
      "text/plain": [
       "| 4         | 8        | 1.000000  | 1.220904     | 0.662742          | 0.583960            |"
      ]
     },
     "metadata": {},
     "output_type": "display_data"
    },
    {
     "data": {
      "text/html": [
       "<pre>| 5         | 9        | 1.000000  | 1.232905     | 0.662980          | 0.576441            |</pre>"
      ],
      "text/plain": [
       "| 5         | 9        | 1.000000  | 1.232905     | 0.662980          | 0.576441            |"
      ]
     },
     "metadata": {},
     "output_type": "display_data"
    },
    {
     "data": {
      "text/html": [
       "<pre>| 6         | 10       | 1.000000  | 1.244904     | 0.678797          | 0.566416            |</pre>"
      ],
      "text/plain": [
       "| 6         | 10       | 1.000000  | 1.244904     | 0.678797          | 0.566416            |"
      ]
     },
     "metadata": {},
     "output_type": "display_data"
    },
    {
     "data": {
      "text/html": [
       "<pre>| 11        | 15       | 1.000000  | 1.304904     | 0.667499          | 0.573935            |</pre>"
      ],
      "text/plain": [
       "| 11        | 15       | 1.000000  | 1.304904     | 0.667499          | 0.573935            |"
      ]
     },
     "metadata": {},
     "output_type": "display_data"
    },
    {
     "data": {
      "text/html": [
       "<pre>| 51        | 55       | 1.000000  | 1.763480     | 0.667023          | 0.568922            |</pre>"
      ],
      "text/plain": [
       "| 51        | 55       | 1.000000  | 1.763480     | 0.667023          | 0.568922            |"
      ]
     },
     "metadata": {},
     "output_type": "display_data"
    },
    {
     "data": {
      "text/html": [
       "<pre>| 100       | 109      | 1.000000  | 2.418310     | 0.667023          | 0.568922            |</pre>"
      ],
      "text/plain": [
       "| 100       | 109      | 1.000000  | 2.418310     | 0.667023          | 0.568922            |"
      ]
     },
     "metadata": {},
     "output_type": "display_data"
    },
    {
     "data": {
      "text/html": [
       "<pre>| 101       | 110      | 1.000000  | 2.418310     | 0.667023          | 0.568922            |</pre>"
      ],
      "text/plain": [
       "| 101       | 110      | 1.000000  | 2.418310     | 0.667023          | 0.568922            |"
      ]
     },
     "metadata": {},
     "output_type": "display_data"
    },
    {
     "data": {
      "text/html": [
       "<pre>| 200       | 247      | 1.000000  | 3.785653     | 0.666905          | 0.568922            |</pre>"
      ],
      "text/plain": [
       "| 200       | 247      | 1.000000  | 3.785653     | 0.666905          | 0.568922            |"
      ]
     },
     "metadata": {},
     "output_type": "display_data"
    },
    {
     "data": {
      "text/html": [
       "<pre>| 300       | 404      | 1.000000  | 5.467234     | 0.666905          | 0.568922            |</pre>"
      ],
      "text/plain": [
       "| 300       | 404      | 1.000000  | 5.467234     | 0.666905          | 0.568922            |"
      ]
     },
     "metadata": {},
     "output_type": "display_data"
    },
    {
     "data": {
      "text/html": [
       "<pre>+-----------+----------+-----------+--------------+-------------------+---------------------+</pre>"
      ],
      "text/plain": [
       "+-----------+----------+-----------+--------------+-------------------+---------------------+"
      ]
     },
     "metadata": {},
     "output_type": "display_data"
    },
    {
     "data": {
      "text/html": [
       "<pre>SUCCESS: Optimal solution found.</pre>"
      ],
      "text/plain": [
       "SUCCESS: Optimal solution found."
      ]
     },
     "metadata": {},
     "output_type": "display_data"
    },
    {
     "data": {
      "text/html": [
       "<pre></pre>"
      ],
      "text/plain": []
     },
     "metadata": {},
     "output_type": "display_data"
    },
    {
     "name": "stdout",
     "output_type": "stream",
     "text": [
      "***********************************************************************************************************\n",
      "{'f1_score': 0.5619090499774876, 'auc': 0.5957925369886858, 'recall': 0.5430809399477807, 'precision': 0.582089552238806, 'log_loss': 1.0938296478101694, 'roc_curve': Columns:\n",
      "\tthreshold\tfloat\n",
      "\tfpr\tfloat\n",
      "\ttpr\tfloat\n",
      "\tp\tint\n",
      "\tn\tint\n",
      "\n",
      "Rows: 100001\n",
      "\n",
      "Data:\n",
      "+-----------+----------------+----------------+------+------+\n",
      "| threshold |      fpr       |      tpr       |  p   |  n   |\n",
      "+-----------+----------------+----------------+------+------+\n",
      "|    0.0    |      1.0       |      1.0       | 1149 | 1120 |\n",
      "|   1e-05   | 0.983035714286 | 0.985204525674 | 1149 | 1120 |\n",
      "|   2e-05   | 0.983035714286 | 0.983463881636 | 1149 | 1120 |\n",
      "|   3e-05   | 0.980357142857 | 0.982593559617 | 1149 | 1120 |\n",
      "|   4e-05   | 0.975892857143 | 0.982593559617 | 1149 | 1120 |\n",
      "|   5e-05   | 0.974107142857 | 0.981723237598 | 1149 | 1120 |\n",
      "|   6e-05   | 0.972321428571 | 0.981723237598 | 1149 | 1120 |\n",
      "|   7e-05   | 0.970535714286 | 0.980852915579 | 1149 | 1120 |\n",
      "|   8e-05   | 0.970535714286 | 0.97911227154  | 1149 | 1120 |\n",
      "|   9e-05   | 0.969642857143 | 0.97911227154  | 1149 | 1120 |\n",
      "+-----------+----------------+----------------+------+------+\n",
      "[100001 rows x 5 columns]\n",
      "Note: Only the head of the SFrame is printed.\n",
      "You can use print_rows(num_rows=m, num_columns=n) to print more rows and columns., 'confusion_matrix': Columns:\n",
      "\ttarget_label\tint\n",
      "\tpredicted_label\tint\n",
      "\tcount\tint\n",
      "\n",
      "Rows: 4\n",
      "\n",
      "Data:\n",
      "+--------------+-----------------+-------+\n",
      "| target_label | predicted_label | count |\n",
      "+--------------+-----------------+-------+\n",
      "|      1       |        0        |  525  |\n",
      "|      1       |        1        |  624  |\n",
      "|      0       |        1        |  448  |\n",
      "|      0       |        0        |  672  |\n",
      "+--------------+-----------------+-------+\n",
      "[4 rows x 3 columns]\n",
      ", 'accuracy': 0.5711767298369326}\n",
      "***********************************************************************************************************\n"
     ]
    }
   ],
   "source": [
    "train_data = group2.append(group3.append(group4).append(group5))\n",
    "test_data = group1\n",
    "m1 = gl.logistic_classifier.create(\n",
    "    train_data,\n",
    "    target='gender',\n",
    "    features = ['cg2'],\n",
    "    #class_weights={1:5,0:5},\n",
    "    max_iterations=3000)\n",
    "print '***********************************************************************************************************'\n",
    "result1 = m1.evaluate(test_data)\n",
    "print result1\n",
    "print '***********************************************************************************************************'"
   ]
  },
  {
   "cell_type": "code",
   "execution_count": 3,
   "metadata": {
    "collapsed": false
   },
   "outputs": [
    {
     "name": "stdout",
     "output_type": "stream",
     "text": [
      "PROGRESS: Creating a validation set from 5 percent of training data. This may take a while.\n",
      "          You can set ``validation_set=None`` to disable validation tracking.\n",
      "\n"
     ]
    },
    {
     "data": {
      "text/html": [
       "<pre>Logistic regression:</pre>"
      ],
      "text/plain": [
       "Logistic regression:"
      ]
     },
     "metadata": {},
     "output_type": "display_data"
    },
    {
     "data": {
      "text/html": [
       "<pre>--------------------------------------------------------</pre>"
      ],
      "text/plain": [
       "--------------------------------------------------------"
      ]
     },
     "metadata": {},
     "output_type": "display_data"
    },
    {
     "data": {
      "text/html": [
       "<pre>Number of examples          : 8888</pre>"
      ],
      "text/plain": [
       "Number of examples          : 8888"
      ]
     },
     "metadata": {},
     "output_type": "display_data"
    },
    {
     "data": {
      "text/html": [
       "<pre>Number of classes           : 2</pre>"
      ],
      "text/plain": [
       "Number of classes           : 2"
      ]
     },
     "metadata": {},
     "output_type": "display_data"
    },
    {
     "data": {
      "text/html": [
       "<pre>Number of feature columns   : 1</pre>"
      ],
      "text/plain": [
       "Number of feature columns   : 1"
      ]
     },
     "metadata": {},
     "output_type": "display_data"
    },
    {
     "data": {
      "text/html": [
       "<pre>Number of unpacked features : 1</pre>"
      ],
      "text/plain": [
       "Number of unpacked features : 1"
      ]
     },
     "metadata": {},
     "output_type": "display_data"
    },
    {
     "data": {
      "text/html": [
       "<pre>Number of coefficients    : 1388</pre>"
      ],
      "text/plain": [
       "Number of coefficients    : 1388"
      ]
     },
     "metadata": {},
     "output_type": "display_data"
    },
    {
     "data": {
      "text/html": [
       "<pre>Starting L-BFGS</pre>"
      ],
      "text/plain": [
       "Starting L-BFGS"
      ]
     },
     "metadata": {},
     "output_type": "display_data"
    },
    {
     "data": {
      "text/html": [
       "<pre>--------------------------------------------------------</pre>"
      ],
      "text/plain": [
       "--------------------------------------------------------"
      ]
     },
     "metadata": {},
     "output_type": "display_data"
    },
    {
     "data": {
      "text/html": [
       "<pre>+-----------+----------+-----------+--------------+-------------------+---------------------+</pre>"
      ],
      "text/plain": [
       "+-----------+----------+-----------+--------------+-------------------+---------------------+"
      ]
     },
     "metadata": {},
     "output_type": "display_data"
    },
    {
     "data": {
      "text/html": [
       "<pre>| Iteration | Passes   | Step size | Elapsed Time | Training-accuracy | Validation-accuracy |</pre>"
      ],
      "text/plain": [
       "| Iteration | Passes   | Step size | Elapsed Time | Training-accuracy | Validation-accuracy |"
      ]
     },
     "metadata": {},
     "output_type": "display_data"
    },
    {
     "data": {
      "text/html": [
       "<pre>+-----------+----------+-----------+--------------+-------------------+---------------------+</pre>"
      ],
      "text/plain": [
       "+-----------+----------+-----------+--------------+-------------------+---------------------+"
      ]
     },
     "metadata": {},
     "output_type": "display_data"
    },
    {
     "data": {
      "text/html": [
       "<pre>| 1         | 4        | 0.000563  | 0.045971     | 0.653578          | 0.596112            |</pre>"
      ],
      "text/plain": [
       "| 1         | 4        | 0.000563  | 0.045971     | 0.653578          | 0.596112            |"
      ]
     },
     "metadata": {},
     "output_type": "display_data"
    },
    {
     "data": {
      "text/html": [
       "<pre>| 2         | 6        | 1.000000  | 0.077965     | 0.667417          | 0.593952            |</pre>"
      ],
      "text/plain": [
       "| 2         | 6        | 1.000000  | 0.077965     | 0.667417          | 0.593952            |"
      ]
     },
     "metadata": {},
     "output_type": "display_data"
    },
    {
     "data": {
      "text/html": [
       "<pre>| 3         | 7        | 1.000000  | 0.093965     | 0.674392          | 0.570194            |</pre>"
      ],
      "text/plain": [
       "| 3         | 7        | 1.000000  | 0.093965     | 0.674392          | 0.570194            |"
      ]
     },
     "metadata": {},
     "output_type": "display_data"
    },
    {
     "data": {
      "text/html": [
       "<pre>| 4         | 8        | 1.000000  | 0.105965     | 0.677993          | 0.576674            |</pre>"
      ],
      "text/plain": [
       "| 4         | 8        | 1.000000  | 0.105965     | 0.677993          | 0.576674            |"
      ]
     },
     "metadata": {},
     "output_type": "display_data"
    },
    {
     "data": {
      "text/html": [
       "<pre>| 5         | 9        | 1.000000  | 0.121965     | 0.678443          | 0.576674            |</pre>"
      ],
      "text/plain": [
       "| 5         | 9        | 1.000000  | 0.121965     | 0.678443          | 0.576674            |"
      ]
     },
     "metadata": {},
     "output_type": "display_data"
    },
    {
     "data": {
      "text/html": [
       "<pre>| 6         | 10       | 1.000000  | 0.137967     | 0.681256          | 0.563715            |</pre>"
      ],
      "text/plain": [
       "| 6         | 10       | 1.000000  | 0.137967     | 0.681256          | 0.563715            |"
      ]
     },
     "metadata": {},
     "output_type": "display_data"
    },
    {
     "data": {
      "text/html": [
       "<pre>| 11        | 15       | 1.000000  | 0.221966     | 0.680806          | 0.572354            |</pre>"
      ],
      "text/plain": [
       "| 11        | 15       | 1.000000  | 0.221966     | 0.680806          | 0.572354            |"
      ]
     },
     "metadata": {},
     "output_type": "display_data"
    },
    {
     "data": {
      "text/html": [
       "<pre>| 51        | 55       | 1.000000  | 0.693401     | 0.679568          | 0.559395            |</pre>"
      ],
      "text/plain": [
       "| 51        | 55       | 1.000000  | 0.693401     | 0.679568          | 0.559395            |"
      ]
     },
     "metadata": {},
     "output_type": "display_data"
    },
    {
     "data": {
      "text/html": [
       "<pre>| 100       | 106      | 1.000000  | 1.302564     | 0.679568          | 0.561555            |</pre>"
      ],
      "text/plain": [
       "| 100       | 106      | 1.000000  | 1.302564     | 0.679568          | 0.561555            |"
      ]
     },
     "metadata": {},
     "output_type": "display_data"
    },
    {
     "data": {
      "text/html": [
       "<pre>| 101       | 107      | 1.000000  | 1.314565     | 0.679568          | 0.561555            |</pre>"
      ],
      "text/plain": [
       "| 101       | 107      | 1.000000  | 1.314565     | 0.679568          | 0.561555            |"
      ]
     },
     "metadata": {},
     "output_type": "display_data"
    },
    {
     "data": {
      "text/html": [
       "<pre>| 200       | 245      | 1.000000  | 3.023365     | 0.679568          | 0.561555            |</pre>"
      ],
      "text/plain": [
       "| 200       | 245      | 1.000000  | 3.023365     | 0.679568          | 0.561555            |"
      ]
     },
     "metadata": {},
     "output_type": "display_data"
    },
    {
     "data": {
      "text/html": [
       "<pre>| 300       | 411      | 1.000000  | 4.874606     | 0.679568          | 0.561555            |</pre>"
      ],
      "text/plain": [
       "| 300       | 411      | 1.000000  | 4.874606     | 0.679568          | 0.561555            |"
      ]
     },
     "metadata": {},
     "output_type": "display_data"
    },
    {
     "data": {
      "text/html": [
       "<pre>| 400       | 569      | 1.000000  | 6.336789     | 0.679568          | 0.561555            |</pre>"
      ],
      "text/plain": [
       "| 400       | 569      | 1.000000  | 6.336789     | 0.679568          | 0.561555            |"
      ]
     },
     "metadata": {},
     "output_type": "display_data"
    },
    {
     "data": {
      "text/html": [
       "<pre>+-----------+----------+-----------+--------------+-------------------+---------------------+</pre>"
      ],
      "text/plain": [
       "+-----------+----------+-----------+--------------+-------------------+---------------------+"
      ]
     },
     "metadata": {},
     "output_type": "display_data"
    },
    {
     "data": {
      "text/html": [
       "<pre>SUCCESS: Optimal solution found.</pre>"
      ],
      "text/plain": [
       "SUCCESS: Optimal solution found."
      ]
     },
     "metadata": {},
     "output_type": "display_data"
    },
    {
     "data": {
      "text/html": [
       "<pre></pre>"
      ],
      "text/plain": []
     },
     "metadata": {},
     "output_type": "display_data"
    },
    {
     "name": "stdout",
     "output_type": "stream",
     "text": [
      "***********************************************************************************************************\n",
      "{'f1_score': 0.5973154362416108, 'auc': 0.6093464657857981, 'recall': 0.6137931034482759, 'precision': 0.5816993464052288, 'log_loss': 1.095993878608277, 'roc_curve': Columns:\n",
      "\tthreshold\tfloat\n",
      "\tfpr\tfloat\n",
      "\ttpr\tfloat\n",
      "\tp\tint\n",
      "\tn\tint\n",
      "\n",
      "Rows: 100001\n",
      "\n",
      "Data:\n",
      "+-----------+----------------+----------------+-----+-----+\n",
      "| threshold |      fpr       |      tpr       |  p  |  n  |\n",
      "+-----------+----------------+----------------+-----+-----+\n",
      "|    0.0    |      1.0       |      1.0       | 870 | 856 |\n",
      "|   1e-05   | 0.983644859813 | 0.981609195402 | 870 | 856 |\n",
      "|   2e-05   | 0.980140186916 | 0.979310344828 | 870 | 856 |\n",
      "|   3e-05   | 0.978971962617 | 0.977011494253 | 870 | 856 |\n",
      "|   4e-05   | 0.976635514019 | 0.977011494253 | 870 | 856 |\n",
      "|   5e-05   | 0.973130841121 | 0.975862068966 | 870 | 856 |\n",
      "|   6e-05   | 0.973130841121 | 0.975862068966 | 870 | 856 |\n",
      "|   7e-05   | 0.970794392523 | 0.972413793103 | 870 | 856 |\n",
      "|   8e-05   | 0.970794392523 | 0.972413793103 | 870 | 856 |\n",
      "|   9e-05   | 0.970794392523 | 0.971264367816 | 870 | 856 |\n",
      "+-----------+----------------+----------------+-----+-----+\n",
      "[100001 rows x 5 columns]\n",
      "Note: Only the head of the SFrame is printed.\n",
      "You can use print_rows(num_rows=m, num_columns=n) to print more rows and columns., 'confusion_matrix': Columns:\n",
      "\ttarget_label\tint\n",
      "\tpredicted_label\tint\n",
      "\tcount\tint\n",
      "\n",
      "Rows: 4\n",
      "\n",
      "Data:\n",
      "+--------------+-----------------+-------+\n",
      "| target_label | predicted_label | count |\n",
      "+--------------+-----------------+-------+\n",
      "|      1       |        0        |  336  |\n",
      "|      1       |        1        |  534  |\n",
      "|      0       |        1        |  384  |\n",
      "|      0       |        0        |  472  |\n",
      "+--------------+-----------------+-------+\n",
      "[4 rows x 3 columns]\n",
      ", 'accuracy': 0.5828505214368482}\n",
      "***********************************************************************************************************\n"
     ]
    }
   ],
   "source": [
    "train_data = group1.append(group3.append(group4).append(group5))\n",
    "test_data = group2\n",
    "m2 = gl.logistic_classifier.create(\n",
    "    train_data,\n",
    "    target='gender',\n",
    "    features = ['cg2'],\n",
    "    #class_weights={1:5,0:5},\n",
    "    max_iterations=3000)\n",
    "print '***********************************************************************************************************'\n",
    "result2 = m2.evaluate(test_data)\n",
    "print result2\n",
    "print '***********************************************************************************************************'"
   ]
  },
  {
   "cell_type": "code",
   "execution_count": 4,
   "metadata": {
    "collapsed": false
   },
   "outputs": [
    {
     "name": "stdout",
     "output_type": "stream",
     "text": [
      "PROGRESS: Creating a validation set from 5 percent of training data. This may take a while.\n",
      "          You can set ``validation_set=None`` to disable validation tracking.\n",
      "\n"
     ]
    },
    {
     "data": {
      "text/html": [
       "<pre>Logistic regression:</pre>"
      ],
      "text/plain": [
       "Logistic regression:"
      ]
     },
     "metadata": {},
     "output_type": "display_data"
    },
    {
     "data": {
      "text/html": [
       "<pre>--------------------------------------------------------</pre>"
      ],
      "text/plain": [
       "--------------------------------------------------------"
      ]
     },
     "metadata": {},
     "output_type": "display_data"
    },
    {
     "data": {
      "text/html": [
       "<pre>Number of examples          : 7755</pre>"
      ],
      "text/plain": [
       "Number of examples          : 7755"
      ]
     },
     "metadata": {},
     "output_type": "display_data"
    },
    {
     "data": {
      "text/html": [
       "<pre>Number of classes           : 2</pre>"
      ],
      "text/plain": [
       "Number of classes           : 2"
      ]
     },
     "metadata": {},
     "output_type": "display_data"
    },
    {
     "data": {
      "text/html": [
       "<pre>Number of feature columns   : 1</pre>"
      ],
      "text/plain": [
       "Number of feature columns   : 1"
      ]
     },
     "metadata": {},
     "output_type": "display_data"
    },
    {
     "data": {
      "text/html": [
       "<pre>Number of unpacked features : 1</pre>"
      ],
      "text/plain": [
       "Number of unpacked features : 1"
      ]
     },
     "metadata": {},
     "output_type": "display_data"
    },
    {
     "data": {
      "text/html": [
       "<pre>Number of coefficients    : 1332</pre>"
      ],
      "text/plain": [
       "Number of coefficients    : 1332"
      ]
     },
     "metadata": {},
     "output_type": "display_data"
    },
    {
     "data": {
      "text/html": [
       "<pre>Starting L-BFGS</pre>"
      ],
      "text/plain": [
       "Starting L-BFGS"
      ]
     },
     "metadata": {},
     "output_type": "display_data"
    },
    {
     "data": {
      "text/html": [
       "<pre>--------------------------------------------------------</pre>"
      ],
      "text/plain": [
       "--------------------------------------------------------"
      ]
     },
     "metadata": {},
     "output_type": "display_data"
    },
    {
     "data": {
      "text/html": [
       "<pre>+-----------+----------+-----------+--------------+-------------------+---------------------+</pre>"
      ],
      "text/plain": [
       "+-----------+----------+-----------+--------------+-------------------+---------------------+"
      ]
     },
     "metadata": {},
     "output_type": "display_data"
    },
    {
     "data": {
      "text/html": [
       "<pre>| Iteration | Passes   | Step size | Elapsed Time | Training-accuracy | Validation-accuracy |</pre>"
      ],
      "text/plain": [
       "| Iteration | Passes   | Step size | Elapsed Time | Training-accuracy | Validation-accuracy |"
      ]
     },
     "metadata": {},
     "output_type": "display_data"
    },
    {
     "data": {
      "text/html": [
       "<pre>+-----------+----------+-----------+--------------+-------------------+---------------------+</pre>"
      ],
      "text/plain": [
       "+-----------+----------+-----------+--------------+-------------------+---------------------+"
      ]
     },
     "metadata": {},
     "output_type": "display_data"
    },
    {
     "data": {
      "text/html": [
       "<pre>| 1         | 4        | 0.000645  | 0.032001     | 0.659832          | 0.589286            |</pre>"
      ],
      "text/plain": [
       "| 1         | 4        | 0.000645  | 0.032001     | 0.659832          | 0.589286            |"
      ]
     },
     "metadata": {},
     "output_type": "display_data"
    },
    {
     "data": {
      "text/html": [
       "<pre>| 2         | 6        | 1.000000  | 0.048001     | 0.659188          | 0.591837            |</pre>"
      ],
      "text/plain": [
       "| 2         | 6        | 1.000000  | 0.048001     | 0.659188          | 0.591837            |"
      ]
     },
     "metadata": {},
     "output_type": "display_data"
    },
    {
     "data": {
      "text/html": [
       "<pre>| 3         | 7        | 1.000000  | 0.056000     | 0.679304          | 0.591837            |</pre>"
      ],
      "text/plain": [
       "| 3         | 7        | 1.000000  | 0.056000     | 0.679304          | 0.591837            |"
      ]
     },
     "metadata": {},
     "output_type": "display_data"
    },
    {
     "data": {
      "text/html": [
       "<pre>| 4         | 8        | 1.000000  | 0.076002     | 0.665764          | 0.581633            |</pre>"
      ],
      "text/plain": [
       "| 4         | 8        | 1.000000  | 0.076002     | 0.665764          | 0.581633            |"
      ]
     },
     "metadata": {},
     "output_type": "display_data"
    },
    {
     "data": {
      "text/html": [
       "<pre>| 5         | 9        | 1.000000  | 0.092000     | 0.684720          | 0.584184            |</pre>"
      ],
      "text/plain": [
       "| 5         | 9        | 1.000000  | 0.092000     | 0.684720          | 0.584184            |"
      ]
     },
     "metadata": {},
     "output_type": "display_data"
    },
    {
     "data": {
      "text/html": [
       "<pre>| 6         | 10       | 1.000000  | 0.100000     | 0.668343          | 0.571429            |</pre>"
      ],
      "text/plain": [
       "| 6         | 10       | 1.000000  | 0.100000     | 0.668343          | 0.571429            |"
      ]
     },
     "metadata": {},
     "output_type": "display_data"
    },
    {
     "data": {
      "text/html": [
       "<pre>| 11        | 15       | 1.000000  | 0.180000     | 0.687041          | 0.579082            |</pre>"
      ],
      "text/plain": [
       "| 11        | 15       | 1.000000  | 0.180000     | 0.687041          | 0.579082            |"
      ]
     },
     "metadata": {},
     "output_type": "display_data"
    },
    {
     "data": {
      "text/html": [
       "<pre>| 51        | 55       | 1.000000  | 0.599661     | 0.687299          | 0.573980            |</pre>"
      ],
      "text/plain": [
       "| 51        | 55       | 1.000000  | 0.599661     | 0.687299          | 0.573980            |"
      ]
     },
     "metadata": {},
     "output_type": "display_data"
    },
    {
     "data": {
      "text/html": [
       "<pre>| 100       | 105      | 1.000000  | 1.101044     | 0.687299          | 0.571429            |</pre>"
      ],
      "text/plain": [
       "| 100       | 105      | 1.000000  | 1.101044     | 0.687299          | 0.571429            |"
      ]
     },
     "metadata": {},
     "output_type": "display_data"
    },
    {
     "data": {
      "text/html": [
       "<pre>| 101       | 106      | 1.000000  | 1.110929     | 0.687299          | 0.571429            |</pre>"
      ],
      "text/plain": [
       "| 101       | 106      | 1.000000  | 1.110929     | 0.687299          | 0.571429            |"
      ]
     },
     "metadata": {},
     "output_type": "display_data"
    },
    {
     "data": {
      "text/html": [
       "<pre>| 200       | 250      | 1.000000  | 2.408870     | 0.687427          | 0.576531            |</pre>"
      ],
      "text/plain": [
       "| 200       | 250      | 1.000000  | 2.408870     | 0.687427          | 0.576531            |"
      ]
     },
     "metadata": {},
     "output_type": "display_data"
    },
    {
     "data": {
      "text/html": [
       "<pre>| 300       | 425      | 1.000000  | 4.219149     | 0.687427          | 0.576531            |</pre>"
      ],
      "text/plain": [
       "| 300       | 425      | 1.000000  | 4.219149     | 0.687427          | 0.576531            |"
      ]
     },
     "metadata": {},
     "output_type": "display_data"
    },
    {
     "data": {
      "text/html": [
       "<pre>| 400       | 576      | 1.000000  | 5.933201     | 0.687427          | 0.576531            |</pre>"
      ],
      "text/plain": [
       "| 400       | 576      | 1.000000  | 5.933201     | 0.687427          | 0.576531            |"
      ]
     },
     "metadata": {},
     "output_type": "display_data"
    },
    {
     "data": {
      "text/html": [
       "<pre>+-----------+----------+-----------+--------------+-------------------+---------------------+</pre>"
      ],
      "text/plain": [
       "+-----------+----------+-----------+--------------+-------------------+---------------------+"
      ]
     },
     "metadata": {},
     "output_type": "display_data"
    },
    {
     "data": {
      "text/html": [
       "<pre>SUCCESS: Optimal solution found.</pre>"
      ],
      "text/plain": [
       "SUCCESS: Optimal solution found."
      ]
     },
     "metadata": {},
     "output_type": "display_data"
    },
    {
     "data": {
      "text/html": [
       "<pre></pre>"
      ],
      "text/plain": []
     },
     "metadata": {},
     "output_type": "display_data"
    },
    {
     "name": "stdout",
     "output_type": "stream",
     "text": [
      "***********************************************************************************************************\n",
      "{'f1_score': 0.6016103059581321, 'auc': 0.5942004473022099, 'recall': 0.6353741496598639, 'precision': 0.5712538226299694, 'log_loss': 1.2170669451043663, 'roc_curve': Columns:\n",
      "\tthreshold\tfloat\n",
      "\tfpr\tfloat\n",
      "\ttpr\tfloat\n",
      "\tp\tint\n",
      "\tn\tint\n",
      "\n",
      "Rows: 100001\n",
      "\n",
      "Data:\n",
      "+-----------+----------------+----------------+------+------+\n",
      "| threshold |      fpr       |      tpr       |  p   |  n   |\n",
      "+-----------+----------------+----------------+------+------+\n",
      "|    0.0    |      1.0       |      1.0       | 1470 | 1460 |\n",
      "|   1e-05   | 0.97602739726  | 0.982993197279 | 1470 | 1460 |\n",
      "|   2e-05   | 0.972602739726 | 0.980952380952 | 1470 | 1460 |\n",
      "|   3e-05   | 0.966438356164 | 0.977551020408 | 1470 | 1460 |\n",
      "|   4e-05   | 0.963698630137 | 0.97619047619  | 1470 | 1460 |\n",
      "|   5e-05   | 0.962328767123 | 0.974149659864 | 1470 | 1460 |\n",
      "|   6e-05   | 0.961643835616 | 0.972789115646 | 1470 | 1460 |\n",
      "|   7e-05   | 0.958904109589 | 0.972108843537 | 1470 | 1460 |\n",
      "|   8e-05   | 0.954794520548 | 0.971428571429 | 1470 | 1460 |\n",
      "|   9e-05   | 0.954794520548 | 0.969387755102 | 1470 | 1460 |\n",
      "+-----------+----------------+----------------+------+------+\n",
      "[100001 rows x 5 columns]\n",
      "Note: Only the head of the SFrame is printed.\n",
      "You can use print_rows(num_rows=m, num_columns=n) to print more rows and columns., 'confusion_matrix': Columns:\n",
      "\ttarget_label\tint\n",
      "\tpredicted_label\tint\n",
      "\tcount\tint\n",
      "\n",
      "Rows: 4\n",
      "\n",
      "Data:\n",
      "+--------------+-----------------+-------+\n",
      "| target_label | predicted_label | count |\n",
      "+--------------+-----------------+-------+\n",
      "|      1       |        0        |  536  |\n",
      "|      1       |        1        |  934  |\n",
      "|      0       |        1        |  701  |\n",
      "|      0       |        0        |  759  |\n",
      "+--------------+-----------------+-------+\n",
      "[4 rows x 3 columns]\n",
      ", 'accuracy': 0.577815699658703}\n",
      "***********************************************************************************************************\n"
     ]
    }
   ],
   "source": [
    "train_data = group2.append(group1.append(group4).append(group5))\n",
    "test_data = group3\n",
    "m3 = gl.logistic_classifier.create(\n",
    "    train_data,\n",
    "    target='gender',\n",
    "    features = ['cg2'],\n",
    "    #class_weights={1:5,0:5},\n",
    "    max_iterations=3000)\n",
    "print '***********************************************************************************************************'\n",
    "result3 = m3.evaluate(test_data)\n",
    "print result3\n",
    "print '***********************************************************************************************************'"
   ]
  },
  {
   "cell_type": "code",
   "execution_count": 5,
   "metadata": {
    "collapsed": false
   },
   "outputs": [
    {
     "name": "stdout",
     "output_type": "stream",
     "text": [
      "PROGRESS: Creating a validation set from 5 percent of training data. This may take a while.\n",
      "          You can set ``validation_set=None`` to disable validation tracking.\n",
      "\n"
     ]
    },
    {
     "data": {
      "text/html": [
       "<pre>Logistic regression:</pre>"
      ],
      "text/plain": [
       "Logistic regression:"
      ]
     },
     "metadata": {},
     "output_type": "display_data"
    },
    {
     "data": {
      "text/html": [
       "<pre>--------------------------------------------------------</pre>"
      ],
      "text/plain": [
       "--------------------------------------------------------"
      ]
     },
     "metadata": {},
     "output_type": "display_data"
    },
    {
     "data": {
      "text/html": [
       "<pre>Number of examples          : 8903</pre>"
      ],
      "text/plain": [
       "Number of examples          : 8903"
      ]
     },
     "metadata": {},
     "output_type": "display_data"
    },
    {
     "data": {
      "text/html": [
       "<pre>Number of classes           : 2</pre>"
      ],
      "text/plain": [
       "Number of classes           : 2"
      ]
     },
     "metadata": {},
     "output_type": "display_data"
    },
    {
     "data": {
      "text/html": [
       "<pre>Number of feature columns   : 1</pre>"
      ],
      "text/plain": [
       "Number of feature columns   : 1"
      ]
     },
     "metadata": {},
     "output_type": "display_data"
    },
    {
     "data": {
      "text/html": [
       "<pre>Number of unpacked features : 1</pre>"
      ],
      "text/plain": [
       "Number of unpacked features : 1"
      ]
     },
     "metadata": {},
     "output_type": "display_data"
    },
    {
     "data": {
      "text/html": [
       "<pre>Number of coefficients    : 1382</pre>"
      ],
      "text/plain": [
       "Number of coefficients    : 1382"
      ]
     },
     "metadata": {},
     "output_type": "display_data"
    },
    {
     "data": {
      "text/html": [
       "<pre>Starting L-BFGS</pre>"
      ],
      "text/plain": [
       "Starting L-BFGS"
      ]
     },
     "metadata": {},
     "output_type": "display_data"
    },
    {
     "data": {
      "text/html": [
       "<pre>--------------------------------------------------------</pre>"
      ],
      "text/plain": [
       "--------------------------------------------------------"
      ]
     },
     "metadata": {},
     "output_type": "display_data"
    },
    {
     "data": {
      "text/html": [
       "<pre>+-----------+----------+-----------+--------------+-------------------+---------------------+</pre>"
      ],
      "text/plain": [
       "+-----------+----------+-----------+--------------+-------------------+---------------------+"
      ]
     },
     "metadata": {},
     "output_type": "display_data"
    },
    {
     "data": {
      "text/html": [
       "<pre>| Iteration | Passes   | Step size | Elapsed Time | Training-accuracy | Validation-accuracy |</pre>"
      ],
      "text/plain": [
       "| Iteration | Passes   | Step size | Elapsed Time | Training-accuracy | Validation-accuracy |"
      ]
     },
     "metadata": {},
     "output_type": "display_data"
    },
    {
     "data": {
      "text/html": [
       "<pre>+-----------+----------+-----------+--------------+-------------------+---------------------+</pre>"
      ],
      "text/plain": [
       "+-----------+----------+-----------+--------------+-------------------+---------------------+"
      ]
     },
     "metadata": {},
     "output_type": "display_data"
    },
    {
     "data": {
      "text/html": [
       "<pre>| 1         | 4        | 0.000562  | 0.028001     | 0.655959          | 0.633484            |</pre>"
      ],
      "text/plain": [
       "| 1         | 4        | 0.000562  | 0.028001     | 0.655959          | 0.633484            |"
      ]
     },
     "metadata": {},
     "output_type": "display_data"
    },
    {
     "data": {
      "text/html": [
       "<pre>| 2         | 6        | 1.000000  | 0.072001     | 0.653038          | 0.608597            |</pre>"
      ],
      "text/plain": [
       "| 2         | 6        | 1.000000  | 0.072001     | 0.653038          | 0.608597            |"
      ]
     },
     "metadata": {},
     "output_type": "display_data"
    },
    {
     "data": {
      "text/html": [
       "<pre>| 3         | 7        | 1.000000  | 0.096001     | 0.676963          | 0.626697            |</pre>"
      ],
      "text/plain": [
       "| 3         | 7        | 1.000000  | 0.096001     | 0.676963          | 0.626697            |"
      ]
     },
     "metadata": {},
     "output_type": "display_data"
    },
    {
     "data": {
      "text/html": [
       "<pre>| 4         | 8        | 1.000000  | 0.112001     | 0.658542          | 0.613122            |</pre>"
      ],
      "text/plain": [
       "| 4         | 8        | 1.000000  | 0.112001     | 0.658542          | 0.613122            |"
      ]
     },
     "metadata": {},
     "output_type": "display_data"
    },
    {
     "data": {
      "text/html": [
       "<pre>| 5         | 9        | 1.000000  | 0.124008     | 0.660339          | 0.597285            |</pre>"
      ],
      "text/plain": [
       "| 5         | 9        | 1.000000  | 0.124008     | 0.660339          | 0.597285            |"
      ]
     },
     "metadata": {},
     "output_type": "display_data"
    },
    {
     "data": {
      "text/html": [
       "<pre>| 6         | 10       | 1.000000  | 0.140001     | 0.664720          | 0.604072            |</pre>"
      ],
      "text/plain": [
       "| 6         | 10       | 1.000000  | 0.140001     | 0.664720          | 0.604072            |"
      ]
     },
     "metadata": {},
     "output_type": "display_data"
    },
    {
     "data": {
      "text/html": [
       "<pre>| 11        | 16       | 1.000000  | 0.220000     | 0.665169          | 0.583710            |</pre>"
      ],
      "text/plain": [
       "| 11        | 16       | 1.000000  | 0.220000     | 0.665169          | 0.583710            |"
      ]
     },
     "metadata": {},
     "output_type": "display_data"
    },
    {
     "data": {
      "text/html": [
       "<pre>| 50        | 55       | 1.000000  | 0.651933     | 0.664720          | 0.595023            |</pre>"
      ],
      "text/plain": [
       "| 50        | 55       | 1.000000  | 0.651933     | 0.664720          | 0.595023            |"
      ]
     },
     "metadata": {},
     "output_type": "display_data"
    },
    {
     "data": {
      "text/html": [
       "<pre>| 51        | 56       | 1.000000  | 0.663933     | 0.664944          | 0.595023            |</pre>"
      ],
      "text/plain": [
       "| 51        | 56       | 1.000000  | 0.663933     | 0.664944          | 0.595023            |"
      ]
     },
     "metadata": {},
     "output_type": "display_data"
    },
    {
     "data": {
      "text/html": [
       "<pre>| 100       | 119      | 1.000000  | 1.282867     | 0.665281          | 0.597285            |</pre>"
      ],
      "text/plain": [
       "| 100       | 119      | 1.000000  | 1.282867     | 0.665281          | 0.597285            |"
      ]
     },
     "metadata": {},
     "output_type": "display_data"
    },
    {
     "data": {
      "text/html": [
       "<pre>| 101       | 120      | 1.000000  | 1.293835     | 0.665169          | 0.597285            |</pre>"
      ],
      "text/plain": [
       "| 101       | 120      | 1.000000  | 1.293835     | 0.665169          | 0.597285            |"
      ]
     },
     "metadata": {},
     "output_type": "display_data"
    },
    {
     "data": {
      "text/html": [
       "<pre>| 150       | 198      | 1.000000  | 2.129626     | 0.665281          | 0.597285            |</pre>"
      ],
      "text/plain": [
       "| 150       | 198      | 1.000000  | 2.129626     | 0.665281          | 0.597285            |"
      ]
     },
     "metadata": {},
     "output_type": "display_data"
    },
    {
     "data": {
      "text/html": [
       "<pre>| 200       | 266      | 0.500000  | 2.909356     | 0.665281          | 0.597285            |</pre>"
      ],
      "text/plain": [
       "| 200       | 266      | 0.500000  | 2.909356     | 0.665281          | 0.597285            |"
      ]
     },
     "metadata": {},
     "output_type": "display_data"
    },
    {
     "data": {
      "text/html": [
       "<pre>| 250       | 347      | 1.000000  | 3.886054     | 0.665281          | 0.597285            |</pre>"
      ],
      "text/plain": [
       "| 250       | 347      | 1.000000  | 3.886054     | 0.665281          | 0.597285            |"
      ]
     },
     "metadata": {},
     "output_type": "display_data"
    },
    {
     "data": {
      "text/html": [
       "<pre>| 300       | 427      | 1.000000  | 4.944592     | 0.665169          | 0.597285            |</pre>"
      ],
      "text/plain": [
       "| 300       | 427      | 1.000000  | 4.944592     | 0.665169          | 0.597285            |"
      ]
     },
     "metadata": {},
     "output_type": "display_data"
    },
    {
     "data": {
      "text/html": [
       "<pre>| 350       | 484      | 1.000000  | 5.865639     | 0.665169          | 0.597285            |</pre>"
      ],
      "text/plain": [
       "| 350       | 484      | 1.000000  | 5.865639     | 0.665169          | 0.597285            |"
      ]
     },
     "metadata": {},
     "output_type": "display_data"
    },
    {
     "data": {
      "text/html": [
       "<pre>+-----------+----------+-----------+--------------+-------------------+---------------------+</pre>"
      ],
      "text/plain": [
       "+-----------+----------+-----------+--------------+-------------------+---------------------+"
      ]
     },
     "metadata": {},
     "output_type": "display_data"
    },
    {
     "data": {
      "text/html": [
       "<pre>SUCCESS: Optimal solution found.</pre>"
      ],
      "text/plain": [
       "SUCCESS: Optimal solution found."
      ]
     },
     "metadata": {},
     "output_type": "display_data"
    },
    {
     "data": {
      "text/html": [
       "<pre></pre>"
      ],
      "text/plain": []
     },
     "metadata": {},
     "output_type": "display_data"
    },
    {
     "name": "stdout",
     "output_type": "stream",
     "text": [
      "***********************************************************************************************************\n",
      "{'f1_score': 0.5497351383166568, 'auc': 0.5848926130816802, 'recall': 0.5318906605922551, 'precision': 0.5688185140073082, 'log_loss': 1.092682466883529, 'roc_curve': Columns:\n",
      "\tthreshold\tfloat\n",
      "\tfpr\tfloat\n",
      "\ttpr\tfloat\n",
      "\tp\tint\n",
      "\tn\tint\n",
      "\n",
      "Rows: 100001\n",
      "\n",
      "Data:\n",
      "+-----------+----------------+----------------+-----+-----+\n",
      "| threshold |      fpr       |      tpr       |  p  |  n  |\n",
      "+-----------+----------------+----------------+-----+-----+\n",
      "|    0.0    |      1.0       |      1.0       | 878 | 854 |\n",
      "|   1e-05   | 0.984777517564 | 0.990888382688 | 878 | 854 |\n",
      "|   2e-05   | 0.984777517564 | 0.989749430524 | 878 | 854 |\n",
      "|   3e-05   | 0.978922716628 | 0.98861047836  | 878 | 854 |\n",
      "|   4e-05   | 0.978922716628 | 0.986332574032 | 878 | 854 |\n",
      "|   5e-05   | 0.978922716628 | 0.98291571754  | 878 | 854 |\n",
      "|   6e-05   | 0.97775175644  | 0.981776765376 | 878 | 854 |\n",
      "|   7e-05   | 0.971896955504 | 0.981776765376 | 878 | 854 |\n",
      "|   8e-05   | 0.971896955504 | 0.980637813212 | 878 | 854 |\n",
      "|   9e-05   | 0.971896955504 | 0.980637813212 | 878 | 854 |\n",
      "+-----------+----------------+----------------+-----+-----+\n",
      "[100001 rows x 5 columns]\n",
      "Note: Only the head of the SFrame is printed.\n",
      "You can use print_rows(num_rows=m, num_columns=n) to print more rows and columns., 'confusion_matrix': Columns:\n",
      "\ttarget_label\tint\n",
      "\tpredicted_label\tint\n",
      "\tcount\tint\n",
      "\n",
      "Rows: 4\n",
      "\n",
      "Data:\n",
      "+--------------+-----------------+-------+\n",
      "| target_label | predicted_label | count |\n",
      "+--------------+-----------------+-------+\n",
      "|      1       |        0        |  411  |\n",
      "|      1       |        1        |  467  |\n",
      "|      0       |        0        |  500  |\n",
      "|      0       |        1        |  354  |\n",
      "+--------------+-----------------+-------+\n",
      "[4 rows x 3 columns]\n",
      ", 'accuracy': 0.5583140877598153}\n",
      "***********************************************************************************************************\n"
     ]
    }
   ],
   "source": [
    "train_data = group2.append(group3.append(group1).append(group5))\n",
    "test_data = group4\n",
    "m4 = gl.logistic_classifier.create(\n",
    "    train_data,\n",
    "    target='gender',\n",
    "    features = ['cg2'],\n",
    "    #class_weights={1:5,0:5},\n",
    "    max_iterations=3000)\n",
    "result1 = m1.evaluate(test_data)\n",
    "print '***********************************************************************************************************'\n",
    "result4 = m4.evaluate(test_data)\n",
    "print result4\n",
    "print '***********************************************************************************************************'"
   ]
  },
  {
   "cell_type": "code",
   "execution_count": 6,
   "metadata": {
    "collapsed": false
   },
   "outputs": [
    {
     "name": "stdout",
     "output_type": "stream",
     "text": [
      "PROGRESS: Creating a validation set from 5 percent of training data. This may take a while.\n",
      "          You can set ``validation_set=None`` to disable validation tracking.\n",
      "\n"
     ]
    },
    {
     "data": {
      "text/html": [
       "<pre>Logistic regression:</pre>"
      ],
      "text/plain": [
       "Logistic regression:"
      ]
     },
     "metadata": {},
     "output_type": "display_data"
    },
    {
     "data": {
      "text/html": [
       "<pre>--------------------------------------------------------</pre>"
      ],
      "text/plain": [
       "--------------------------------------------------------"
      ]
     },
     "metadata": {},
     "output_type": "display_data"
    },
    {
     "data": {
      "text/html": [
       "<pre>Number of examples          : 8220</pre>"
      ],
      "text/plain": [
       "Number of examples          : 8220"
      ]
     },
     "metadata": {},
     "output_type": "display_data"
    },
    {
     "data": {
      "text/html": [
       "<pre>Number of classes           : 2</pre>"
      ],
      "text/plain": [
       "Number of classes           : 2"
      ]
     },
     "metadata": {},
     "output_type": "display_data"
    },
    {
     "data": {
      "text/html": [
       "<pre>Number of feature columns   : 1</pre>"
      ],
      "text/plain": [
       "Number of feature columns   : 1"
      ]
     },
     "metadata": {},
     "output_type": "display_data"
    },
    {
     "data": {
      "text/html": [
       "<pre>Number of unpacked features : 1</pre>"
      ],
      "text/plain": [
       "Number of unpacked features : 1"
      ]
     },
     "metadata": {},
     "output_type": "display_data"
    },
    {
     "data": {
      "text/html": [
       "<pre>Number of coefficients    : 1358</pre>"
      ],
      "text/plain": [
       "Number of coefficients    : 1358"
      ]
     },
     "metadata": {},
     "output_type": "display_data"
    },
    {
     "data": {
      "text/html": [
       "<pre>Starting L-BFGS</pre>"
      ],
      "text/plain": [
       "Starting L-BFGS"
      ]
     },
     "metadata": {},
     "output_type": "display_data"
    },
    {
     "data": {
      "text/html": [
       "<pre>--------------------------------------------------------</pre>"
      ],
      "text/plain": [
       "--------------------------------------------------------"
      ]
     },
     "metadata": {},
     "output_type": "display_data"
    },
    {
     "data": {
      "text/html": [
       "<pre>+-----------+----------+-----------+--------------+-------------------+---------------------+</pre>"
      ],
      "text/plain": [
       "+-----------+----------+-----------+--------------+-------------------+---------------------+"
      ]
     },
     "metadata": {},
     "output_type": "display_data"
    },
    {
     "data": {
      "text/html": [
       "<pre>| Iteration | Passes   | Step size | Elapsed Time | Training-accuracy | Validation-accuracy |</pre>"
      ],
      "text/plain": [
       "| Iteration | Passes   | Step size | Elapsed Time | Training-accuracy | Validation-accuracy |"
      ]
     },
     "metadata": {},
     "output_type": "display_data"
    },
    {
     "data": {
      "text/html": [
       "<pre>+-----------+----------+-----------+--------------+-------------------+---------------------+</pre>"
      ],
      "text/plain": [
       "+-----------+----------+-----------+--------------+-------------------+---------------------+"
      ]
     },
     "metadata": {},
     "output_type": "display_data"
    },
    {
     "data": {
      "text/html": [
       "<pre>| 1         | 4        | 0.000608  | 0.024001     | 0.658394          | 0.565217            |</pre>"
      ],
      "text/plain": [
       "| 1         | 4        | 0.000608  | 0.024001     | 0.658394          | 0.565217            |"
      ]
     },
     "metadata": {},
     "output_type": "display_data"
    },
    {
     "data": {
      "text/html": [
       "<pre>| 2         | 6        | 1.000000  | 0.044001     | 0.657908          | 0.565217            |</pre>"
      ],
      "text/plain": [
       "| 2         | 6        | 1.000000  | 0.044001     | 0.657908          | 0.565217            |"
      ]
     },
     "metadata": {},
     "output_type": "display_data"
    },
    {
     "data": {
      "text/html": [
       "<pre>| 3         | 7        | 1.000000  | 0.060001     | 0.663139          | 0.549199            |</pre>"
      ],
      "text/plain": [
       "| 3         | 7        | 1.000000  | 0.060001     | 0.663139          | 0.549199            |"
      ]
     },
     "metadata": {},
     "output_type": "display_data"
    },
    {
     "data": {
      "text/html": [
       "<pre>| 4         | 8        | 1.000000  | 0.092006     | 0.666180          | 0.533181            |</pre>"
      ],
      "text/plain": [
       "| 4         | 8        | 1.000000  | 0.092006     | 0.666180          | 0.533181            |"
      ]
     },
     "metadata": {},
     "output_type": "display_data"
    },
    {
     "data": {
      "text/html": [
       "<pre>| 5         | 9        | 1.000000  | 0.100001     | 0.685645          | 0.517162            |</pre>"
      ],
      "text/plain": [
       "| 5         | 9        | 1.000000  | 0.100001     | 0.685645          | 0.517162            |"
      ]
     },
     "metadata": {},
     "output_type": "display_data"
    },
    {
     "data": {
      "text/html": [
       "<pre>| 6         | 10       | 1.000000  | 0.112001     | 0.668491          | 0.537757            |</pre>"
      ],
      "text/plain": [
       "| 6         | 10       | 1.000000  | 0.112001     | 0.668491          | 0.537757            |"
      ]
     },
     "metadata": {},
     "output_type": "display_data"
    },
    {
     "data": {
      "text/html": [
       "<pre>| 11        | 15       | 1.000000  | 0.180000     | 0.670438          | 0.528604            |</pre>"
      ],
      "text/plain": [
       "| 11        | 15       | 1.000000  | 0.180000     | 0.670438          | 0.528604            |"
      ]
     },
     "metadata": {},
     "output_type": "display_data"
    },
    {
     "data": {
      "text/html": [
       "<pre>| 51        | 55       | 1.000000  | 0.603132     | 0.671776          | 0.535469            |</pre>"
      ],
      "text/plain": [
       "| 51        | 55       | 1.000000  | 0.603132     | 0.671776          | 0.535469            |"
      ]
     },
     "metadata": {},
     "output_type": "display_data"
    },
    {
     "data": {
      "text/html": [
       "<pre>| 100       | 106      | 1.000000  | 1.119642     | 0.671168          | 0.530892            |</pre>"
      ],
      "text/plain": [
       "| 100       | 106      | 1.000000  | 1.119642     | 0.671168          | 0.530892            |"
      ]
     },
     "metadata": {},
     "output_type": "display_data"
    },
    {
     "data": {
      "text/html": [
       "<pre>| 101       | 107      | 1.000000  | 1.127642     | 0.671290          | 0.530892            |</pre>"
      ],
      "text/plain": [
       "| 101       | 107      | 1.000000  | 1.127642     | 0.671290          | 0.530892            |"
      ]
     },
     "metadata": {},
     "output_type": "display_data"
    },
    {
     "data": {
      "text/html": [
       "<pre>| 200       | 246      | 1.000000  | 2.508668     | 0.671168          | 0.530892            |</pre>"
      ],
      "text/plain": [
       "| 200       | 246      | 1.000000  | 2.508668     | 0.671168          | 0.530892            |"
      ]
     },
     "metadata": {},
     "output_type": "display_data"
    },
    {
     "data": {
      "text/html": [
       "<pre>| 300       | 411      | 1.000000  | 4.203482     | 0.671411          | 0.535469            |</pre>"
      ],
      "text/plain": [
       "| 300       | 411      | 1.000000  | 4.203482     | 0.671411          | 0.535469            |"
      ]
     },
     "metadata": {},
     "output_type": "display_data"
    },
    {
     "data": {
      "text/html": [
       "<pre>| 400       | 570      | 1.000000  | 5.809616     | 0.671411          | 0.530892            |</pre>"
      ],
      "text/plain": [
       "| 400       | 570      | 1.000000  | 5.809616     | 0.671411          | 0.530892            |"
      ]
     },
     "metadata": {},
     "output_type": "display_data"
    },
    {
     "data": {
      "text/html": [
       "<pre>+-----------+----------+-----------+--------------+-------------------+---------------------+</pre>"
      ],
      "text/plain": [
       "+-----------+----------+-----------+--------------+-------------------+---------------------+"
      ]
     },
     "metadata": {},
     "output_type": "display_data"
    },
    {
     "data": {
      "text/html": [
       "<pre>SUCCESS: Optimal solution found.</pre>"
      ],
      "text/plain": [
       "SUCCESS: Optimal solution found."
      ]
     },
     "metadata": {},
     "output_type": "display_data"
    },
    {
     "data": {
      "text/html": [
       "<pre></pre>"
      ],
      "text/plain": []
     },
     "metadata": {},
     "output_type": "display_data"
    },
    {
     "name": "stdout",
     "output_type": "stream",
     "text": [
      "***********************************************************************************************************\n",
      "{'f1_score': 0.5516372795969773, 'auc': 0.5851567622950833, 'recall': 0.5385245901639344, 'precision': 0.5654044750430293, 'log_loss': 1.2046148626075337, 'roc_curve': Columns:\n",
      "\tthreshold\tfloat\n",
      "\tfpr\tfloat\n",
      "\ttpr\tfloat\n",
      "\tp\tint\n",
      "\tn\tint\n",
      "\n",
      "Rows: 100001\n",
      "\n",
      "Data:\n",
      "+-----------+----------------+----------------+------+------+\n",
      "| threshold |      fpr       |      tpr       |  p   |  n   |\n",
      "+-----------+----------------+----------------+------+------+\n",
      "|    0.0    |      1.0       |      1.0       | 1220 | 1200 |\n",
      "|   1e-05   |     0.9775     | 0.98606557377  | 1220 | 1200 |\n",
      "|   2e-05   |     0.975      | 0.983606557377 | 1220 | 1200 |\n",
      "|   3e-05   | 0.974166666667 | 0.980327868852 | 1220 | 1200 |\n",
      "|   4e-05   | 0.971666666667 | 0.979508196721 | 1220 | 1200 |\n",
      "|   5e-05   | 0.971666666667 | 0.977868852459 | 1220 | 1200 |\n",
      "|   6e-05   |      0.97      | 0.977868852459 | 1220 | 1200 |\n",
      "|   7e-05   | 0.969166666667 | 0.976229508197 | 1220 | 1200 |\n",
      "|   8e-05   | 0.968333333333 | 0.976229508197 | 1220 | 1200 |\n",
      "|   9e-05   | 0.966666666667 | 0.976229508197 | 1220 | 1200 |\n",
      "+-----------+----------------+----------------+------+------+\n",
      "[100001 rows x 5 columns]\n",
      "Note: Only the head of the SFrame is printed.\n",
      "You can use print_rows(num_rows=m, num_columns=n) to print more rows and columns., 'confusion_matrix': Columns:\n",
      "\ttarget_label\tint\n",
      "\tpredicted_label\tint\n",
      "\tcount\tint\n",
      "\n",
      "Rows: 4\n",
      "\n",
      "Data:\n",
      "+--------------+-----------------+-------+\n",
      "| target_label | predicted_label | count |\n",
      "+--------------+-----------------+-------+\n",
      "|      1       |        1        |  657  |\n",
      "|      1       |        0        |  563  |\n",
      "|      0       |        1        |  505  |\n",
      "|      0       |        0        |  695  |\n",
      "+--------------+-----------------+-------+\n",
      "[4 rows x 3 columns]\n",
      ", 'accuracy': 0.5586776859504132}\n",
      "***********************************************************************************************************\n"
     ]
    }
   ],
   "source": [
    "train_data = group2.append(group3.append(group4).append(group1))\n",
    "test_data = group5\n",
    "m5 = gl.logistic_classifier.create(\n",
    "    train_data,\n",
    "    target='gender',\n",
    "    features = ['cg2'],\n",
    "    #class_weights={1:5,0:5},\n",
    "    max_iterations=3000)\n",
    "result1 = m1.evaluate(test_data)\n",
    "print '***********************************************************************************************************'\n",
    "result5 = m5.evaluate(test_data)\n",
    "print result5\n",
    "print '***********************************************************************************************************'"
   ]
  },
  {
   "cell_type": "code",
   "execution_count": null,
   "metadata": {
    "collapsed": true
   },
   "outputs": [],
   "source": []
  }
 ],
 "metadata": {
  "kernelspec": {
   "display_name": "Python 2",
   "language": "python",
   "name": "python2"
  },
  "language_info": {
   "codemirror_mode": {
    "name": "ipython",
    "version": 2
   },
   "file_extension": ".py",
   "mimetype": "text/x-python",
   "name": "python",
   "nbconvert_exporter": "python",
   "pygments_lexer": "ipython2",
   "version": "2.7.11"
  }
 },
 "nbformat": 4,
 "nbformat_minor": 0
}
